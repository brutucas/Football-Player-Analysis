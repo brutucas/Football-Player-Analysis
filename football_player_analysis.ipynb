{
 "cells": [
  {
   "cell_type": "code",
   "execution_count": 7,
   "metadata": {},
   "outputs": [
    {
     "data": {
      "text/html": [
       "<div>\n",
       "<style scoped>\n",
       "    .dataframe tbody tr th:only-of-type {\n",
       "        vertical-align: middle;\n",
       "    }\n",
       "\n",
       "    .dataframe tbody tr th {\n",
       "        vertical-align: top;\n",
       "    }\n",
       "\n",
       "    .dataframe thead th {\n",
       "        text-align: right;\n",
       "    }\n",
       "</style>\n",
       "<table border=\"1\" class=\"dataframe\">\n",
       "  <thead>\n",
       "    <tr style=\"text-align: right;\">\n",
       "      <th></th>\n",
       "      <th>Rk</th>\n",
       "      <th>Player</th>\n",
       "      <th>Nation</th>\n",
       "      <th>Pos</th>\n",
       "      <th>Squad</th>\n",
       "      <th>Age</th>\n",
       "      <th>Born</th>\n",
       "      <th>MP</th>\n",
       "      <th>Starts</th>\n",
       "      <th>Min</th>\n",
       "      <th>...</th>\n",
       "      <th>Ast.1</th>\n",
       "      <th>G+A.1</th>\n",
       "      <th>G-PK.1</th>\n",
       "      <th>G+A-PK</th>\n",
       "      <th>xG.1</th>\n",
       "      <th>xAG.1</th>\n",
       "      <th>xG+xAG</th>\n",
       "      <th>npxG.1</th>\n",
       "      <th>npxG+xAG.1</th>\n",
       "      <th>Matches</th>\n",
       "    </tr>\n",
       "  </thead>\n",
       "  <tbody>\n",
       "    <tr>\n",
       "      <th>0</th>\n",
       "      <td>1</td>\n",
       "      <td>Dickson Abiama</td>\n",
       "      <td>ng NGA</td>\n",
       "      <td>FW</td>\n",
       "      <td>Greuther Fürth</td>\n",
       "      <td>25-123</td>\n",
       "      <td>1998</td>\n",
       "      <td>13</td>\n",
       "      <td>5</td>\n",
       "      <td>533</td>\n",
       "      <td>...</td>\n",
       "      <td>0.17</td>\n",
       "      <td>0.68</td>\n",
       "      <td>0.51</td>\n",
       "      <td>0.68</td>\n",
       "      <td>0.44</td>\n",
       "      <td>0.07</td>\n",
       "      <td>0.51</td>\n",
       "      <td>0.44</td>\n",
       "      <td>0.51</td>\n",
       "      <td>Matches</td>\n",
       "    </tr>\n",
       "    <tr>\n",
       "      <th>1</th>\n",
       "      <td>2</td>\n",
       "      <td>Dickson Abiama</td>\n",
       "      <td>ng NGA</td>\n",
       "      <td>DF,MF</td>\n",
       "      <td>Kaiserslautern</td>\n",
       "      <td>25-123</td>\n",
       "      <td>1998</td>\n",
       "      <td>5</td>\n",
       "      <td>0</td>\n",
       "      <td>102</td>\n",
       "      <td>...</td>\n",
       "      <td>0</td>\n",
       "      <td>0</td>\n",
       "      <td>0</td>\n",
       "      <td>0</td>\n",
       "      <td>0.17</td>\n",
       "      <td>0.08</td>\n",
       "      <td>0.25</td>\n",
       "      <td>0.17</td>\n",
       "      <td>0.25</td>\n",
       "      <td>Matches</td>\n",
       "    </tr>\n",
       "    <tr>\n",
       "      <th>2</th>\n",
       "      <td>3</td>\n",
       "      <td>Ragnar Ache</td>\n",
       "      <td>de GER</td>\n",
       "      <td>FW,MF</td>\n",
       "      <td>Kaiserslautern</td>\n",
       "      <td>25-221</td>\n",
       "      <td>1998</td>\n",
       "      <td>18</td>\n",
       "      <td>14</td>\n",
       "      <td>1151</td>\n",
       "      <td>...</td>\n",
       "      <td>0</td>\n",
       "      <td>0.94</td>\n",
       "      <td>0.94</td>\n",
       "      <td>0.94</td>\n",
       "      <td>0.68</td>\n",
       "      <td>0.08</td>\n",
       "      <td>0.76</td>\n",
       "      <td>0.68</td>\n",
       "      <td>0.76</td>\n",
       "      <td>Matches</td>\n",
       "    </tr>\n",
       "    <tr>\n",
       "      <th>3</th>\n",
       "      <td>4</td>\n",
       "      <td>Aremu Afeez</td>\n",
       "      <td>ng NGA</td>\n",
       "      <td>MF</td>\n",
       "      <td>Kaiserslautern</td>\n",
       "      <td>24-154</td>\n",
       "      <td>1999</td>\n",
       "      <td>2</td>\n",
       "      <td>0</td>\n",
       "      <td>45</td>\n",
       "      <td>...</td>\n",
       "      <td>0</td>\n",
       "      <td>0</td>\n",
       "      <td>0</td>\n",
       "      <td>0</td>\n",
       "      <td>0.02</td>\n",
       "      <td>0</td>\n",
       "      <td>0.02</td>\n",
       "      <td>0.02</td>\n",
       "      <td>0.02</td>\n",
       "      <td>Matches</td>\n",
       "    </tr>\n",
       "    <tr>\n",
       "      <th>4</th>\n",
       "      <td>5</td>\n",
       "      <td>Oladapo Afolayan</td>\n",
       "      <td>eng ENG</td>\n",
       "      <td>FW,MF</td>\n",
       "      <td>St. Pauli</td>\n",
       "      <td>26-022</td>\n",
       "      <td>1998</td>\n",
       "      <td>24</td>\n",
       "      <td>22</td>\n",
       "      <td>1739</td>\n",
       "      <td>...</td>\n",
       "      <td>0.1</td>\n",
       "      <td>0.41</td>\n",
       "      <td>0.31</td>\n",
       "      <td>0.41</td>\n",
       "      <td>0.14</td>\n",
       "      <td>0.1</td>\n",
       "      <td>0.24</td>\n",
       "      <td>0.14</td>\n",
       "      <td>0.24</td>\n",
       "      <td>Matches</td>\n",
       "    </tr>\n",
       "  </tbody>\n",
       "</table>\n",
       "<p>5 rows × 37 columns</p>\n",
       "</div>"
      ],
      "text/plain": [
       "  Rk            Player   Nation    Pos           Squad     Age  Born  MP  \\\n",
       "0  1    Dickson Abiama   ng NGA     FW  Greuther Fürth  25-123  1998  13   \n",
       "1  2    Dickson Abiama   ng NGA  DF,MF  Kaiserslautern  25-123  1998   5   \n",
       "2  3       Ragnar Ache   de GER  FW,MF  Kaiserslautern  25-221  1998  18   \n",
       "3  4       Aremu Afeez   ng NGA     MF  Kaiserslautern  24-154  1999   2   \n",
       "4  5  Oladapo Afolayan  eng ENG  FW,MF       St. Pauli  26-022  1998  24   \n",
       "\n",
       "  Starts   Min  ... Ast.1 G+A.1 G-PK.1 G+A-PK  xG.1 xAG.1 xG+xAG npxG.1  \\\n",
       "0      5   533  ...  0.17  0.68   0.51   0.68  0.44  0.07   0.51   0.44   \n",
       "1      0   102  ...     0     0      0      0  0.17  0.08   0.25   0.17   \n",
       "2     14  1151  ...     0  0.94   0.94   0.94  0.68  0.08   0.76   0.68   \n",
       "3      0    45  ...     0     0      0      0  0.02     0   0.02   0.02   \n",
       "4     22  1739  ...   0.1  0.41   0.31   0.41  0.14   0.1   0.24   0.14   \n",
       "\n",
       "  npxG+xAG.1  Matches  \n",
       "0       0.51  Matches  \n",
       "1       0.25  Matches  \n",
       "2       0.76  Matches  \n",
       "3       0.02  Matches  \n",
       "4       0.24  Matches  \n",
       "\n",
       "[5 rows x 37 columns]"
      ]
     },
     "execution_count": 7,
     "metadata": {},
     "output_type": "execute_result"
    }
   ],
   "source": [
    "import pandas as pd\n",
    "\n",
    "germany = pd.read_excel('Resources/2. Bundesliga (Germany) 2023-24 Player Stats_.xlsx', header=1)\n",
    "germany.head()"
   ]
  },
  {
   "cell_type": "code",
   "execution_count": 8,
   "metadata": {},
   "outputs": [],
   "source": [
    "def import_excel(file_name):\n",
    "    df = pd.read_excel(f'Resources/{file_name}.xlsx', header=1)\n",
    "    return df"
   ]
  },
  {
   "cell_type": "code",
   "execution_count": 9,
   "metadata": {},
   "outputs": [
    {
     "data": {
      "text/html": [
       "<div>\n",
       "<style scoped>\n",
       "    .dataframe tbody tr th:only-of-type {\n",
       "        vertical-align: middle;\n",
       "    }\n",
       "\n",
       "    .dataframe tbody tr th {\n",
       "        vertical-align: top;\n",
       "    }\n",
       "\n",
       "    .dataframe thead th {\n",
       "        text-align: right;\n",
       "    }\n",
       "</style>\n",
       "<table border=\"1\" class=\"dataframe\">\n",
       "  <thead>\n",
       "    <tr style=\"text-align: right;\">\n",
       "      <th></th>\n",
       "      <th>Rk</th>\n",
       "      <th>Player</th>\n",
       "      <th>Nation</th>\n",
       "      <th>Pos</th>\n",
       "      <th>Squad</th>\n",
       "      <th>Age</th>\n",
       "      <th>Born</th>\n",
       "      <th>MP</th>\n",
       "      <th>Starts</th>\n",
       "      <th>Min</th>\n",
       "      <th>...</th>\n",
       "      <th>Ast.1</th>\n",
       "      <th>G+A.1</th>\n",
       "      <th>G-PK.1</th>\n",
       "      <th>G+A-PK</th>\n",
       "      <th>xG.1</th>\n",
       "      <th>xAG.1</th>\n",
       "      <th>xG+xAG</th>\n",
       "      <th>npxG.1</th>\n",
       "      <th>npxG+xAG.1</th>\n",
       "      <th>Matches</th>\n",
       "    </tr>\n",
       "  </thead>\n",
       "  <tbody>\n",
       "    <tr>\n",
       "      <th>0</th>\n",
       "      <td>1</td>\n",
       "      <td>Ahmed Abdullahi</td>\n",
       "      <td>ng NGA</td>\n",
       "      <td>FW</td>\n",
       "      <td>Gent</td>\n",
       "      <td>19-260</td>\n",
       "      <td>2004</td>\n",
       "      <td>1</td>\n",
       "      <td>0</td>\n",
       "      <td>29</td>\n",
       "      <td>...</td>\n",
       "      <td>0.00</td>\n",
       "      <td>0.00</td>\n",
       "      <td>0.00</td>\n",
       "      <td>0.00</td>\n",
       "      <td>0.00</td>\n",
       "      <td>0.10</td>\n",
       "      <td>0.10</td>\n",
       "      <td>0.00</td>\n",
       "      <td>0.10</td>\n",
       "      <td>Matches</td>\n",
       "    </tr>\n",
       "    <tr>\n",
       "      <th>1</th>\n",
       "      <td>2</td>\n",
       "      <td>Shuto Abe</td>\n",
       "      <td>jp JPN</td>\n",
       "      <td>MF</td>\n",
       "      <td>RWD Molenbeek</td>\n",
       "      <td>26-091</td>\n",
       "      <td>1997</td>\n",
       "      <td>26</td>\n",
       "      <td>14</td>\n",
       "      <td>1352</td>\n",
       "      <td>...</td>\n",
       "      <td>0.07</td>\n",
       "      <td>0.13</td>\n",
       "      <td>0.07</td>\n",
       "      <td>0.13</td>\n",
       "      <td>0.09</td>\n",
       "      <td>0.08</td>\n",
       "      <td>0.17</td>\n",
       "      <td>0.09</td>\n",
       "      <td>0.17</td>\n",
       "      <td>Matches</td>\n",
       "    </tr>\n",
       "    <tr>\n",
       "      <th>2</th>\n",
       "      <td>3</td>\n",
       "      <td>Abner</td>\n",
       "      <td>br BRA</td>\n",
       "      <td>DF,MF</td>\n",
       "      <td>RWD Molenbeek</td>\n",
       "      <td>27-280</td>\n",
       "      <td>1996</td>\n",
       "      <td>24</td>\n",
       "      <td>20</td>\n",
       "      <td>1833</td>\n",
       "      <td>...</td>\n",
       "      <td>0.00</td>\n",
       "      <td>0.00</td>\n",
       "      <td>0.00</td>\n",
       "      <td>0.00</td>\n",
       "      <td>0.03</td>\n",
       "      <td>0.02</td>\n",
       "      <td>0.05</td>\n",
       "      <td>0.03</td>\n",
       "      <td>0.05</td>\n",
       "      <td>Matches</td>\n",
       "    </tr>\n",
       "    <tr>\n",
       "      <th>3</th>\n",
       "      <td>4</td>\n",
       "      <td>Francis Abu</td>\n",
       "      <td>gh GHA</td>\n",
       "      <td>MF,FW</td>\n",
       "      <td>Cercle Brugge</td>\n",
       "      <td>22-313</td>\n",
       "      <td>2001</td>\n",
       "      <td>6</td>\n",
       "      <td>4</td>\n",
       "      <td>306</td>\n",
       "      <td>...</td>\n",
       "      <td>0.00</td>\n",
       "      <td>0.00</td>\n",
       "      <td>0.00</td>\n",
       "      <td>0.00</td>\n",
       "      <td>0.03</td>\n",
       "      <td>0.04</td>\n",
       "      <td>0.08</td>\n",
       "      <td>0.03</td>\n",
       "      <td>0.08</td>\n",
       "      <td>Matches</td>\n",
       "    </tr>\n",
       "    <tr>\n",
       "      <th>4</th>\n",
       "      <td>5</td>\n",
       "      <td>Tayo Adaramola</td>\n",
       "      <td>ie IRL</td>\n",
       "      <td>DF</td>\n",
       "      <td>RWD Molenbeek</td>\n",
       "      <td>20-112</td>\n",
       "      <td>2003</td>\n",
       "      <td>7</td>\n",
       "      <td>7</td>\n",
       "      <td>532</td>\n",
       "      <td>...</td>\n",
       "      <td>0.00</td>\n",
       "      <td>0.00</td>\n",
       "      <td>0.00</td>\n",
       "      <td>0.00</td>\n",
       "      <td>0.05</td>\n",
       "      <td>0.10</td>\n",
       "      <td>0.15</td>\n",
       "      <td>0.05</td>\n",
       "      <td>0.15</td>\n",
       "      <td>Matches</td>\n",
       "    </tr>\n",
       "  </tbody>\n",
       "</table>\n",
       "<p>5 rows × 37 columns</p>\n",
       "</div>"
      ],
      "text/plain": [
       "   Rk           Player  Nation    Pos          Squad     Age  Born  MP  \\\n",
       "0   1  Ahmed Abdullahi  ng NGA     FW           Gent  19-260  2004   1   \n",
       "1   2        Shuto Abe  jp JPN     MF  RWD Molenbeek  26-091  1997  26   \n",
       "2   3            Abner  br BRA  DF,MF  RWD Molenbeek  27-280  1996  24   \n",
       "3   4      Francis Abu  gh GHA  MF,FW  Cercle Brugge  22-313  2001   6   \n",
       "4   5   Tayo Adaramola  ie IRL     DF  RWD Molenbeek  20-112  2003   7   \n",
       "\n",
       "   Starts   Min  ...  Ast.1  G+A.1  G-PK.1  G+A-PK  xG.1  xAG.1  xG+xAG  \\\n",
       "0       0    29  ...   0.00   0.00    0.00    0.00  0.00   0.10    0.10   \n",
       "1      14  1352  ...   0.07   0.13    0.07    0.13  0.09   0.08    0.17   \n",
       "2      20  1833  ...   0.00   0.00    0.00    0.00  0.03   0.02    0.05   \n",
       "3       4   306  ...   0.00   0.00    0.00    0.00  0.03   0.04    0.08   \n",
       "4       7   532  ...   0.00   0.00    0.00    0.00  0.05   0.10    0.15   \n",
       "\n",
       "   npxG.1  npxG+xAG.1  Matches  \n",
       "0    0.00        0.10  Matches  \n",
       "1    0.09        0.17  Matches  \n",
       "2    0.03        0.05  Matches  \n",
       "3    0.03        0.08  Matches  \n",
       "4    0.05        0.15  Matches  \n",
       "\n",
       "[5 rows x 37 columns]"
      ]
     },
     "execution_count": 9,
     "metadata": {},
     "output_type": "execute_result"
    }
   ],
   "source": [
    "belgium = import_excel('Belgian Pro League (Belgium) 2023-24 Player Stats')\n",
    "belgium.head()"
   ]
  },
  {
   "cell_type": "code",
   "execution_count": 10,
   "metadata": {},
   "outputs": [
    {
     "data": {
      "text/html": [
       "<div>\n",
       "<style scoped>\n",
       "    .dataframe tbody tr th:only-of-type {\n",
       "        vertical-align: middle;\n",
       "    }\n",
       "\n",
       "    .dataframe tbody tr th {\n",
       "        vertical-align: top;\n",
       "    }\n",
       "\n",
       "    .dataframe thead th {\n",
       "        text-align: right;\n",
       "    }\n",
       "</style>\n",
       "<table border=\"1\" class=\"dataframe\">\n",
       "  <thead>\n",
       "    <tr style=\"text-align: right;\">\n",
       "      <th></th>\n",
       "      <th>Rk</th>\n",
       "      <th>Player</th>\n",
       "      <th>Nation</th>\n",
       "      <th>Pos</th>\n",
       "      <th>Squad</th>\n",
       "      <th>Age</th>\n",
       "      <th>Born</th>\n",
       "      <th>MP</th>\n",
       "      <th>Starts</th>\n",
       "      <th>Min</th>\n",
       "      <th>...</th>\n",
       "      <th>Ast.1</th>\n",
       "      <th>G+A.1</th>\n",
       "      <th>G-PK.1</th>\n",
       "      <th>G+A-PK</th>\n",
       "      <th>xG.1</th>\n",
       "      <th>xAG.1</th>\n",
       "      <th>xG+xAG</th>\n",
       "      <th>npxG.1</th>\n",
       "      <th>npxG+xAG.1</th>\n",
       "      <th>Matches</th>\n",
       "    </tr>\n",
       "  </thead>\n",
       "  <tbody>\n",
       "    <tr>\n",
       "      <th>0</th>\n",
       "      <td>1</td>\n",
       "      <td>Abdel Abdallah</td>\n",
       "      <td>km COM</td>\n",
       "      <td>DF</td>\n",
       "      <td>Rodez Aveyron</td>\n",
       "      <td>26-200</td>\n",
       "      <td>1997</td>\n",
       "      <td>27</td>\n",
       "      <td>18</td>\n",
       "      <td>1560</td>\n",
       "      <td>...</td>\n",
       "      <td>0</td>\n",
       "      <td>0.06</td>\n",
       "      <td>0.06</td>\n",
       "      <td>0.06</td>\n",
       "      <td>0.07</td>\n",
       "      <td>0.1</td>\n",
       "      <td>0.17</td>\n",
       "      <td>0.07</td>\n",
       "      <td>0.17</td>\n",
       "      <td>Matches</td>\n",
       "    </tr>\n",
       "    <tr>\n",
       "      <th>1</th>\n",
       "      <td>2</td>\n",
       "      <td>Himad Abdelli</td>\n",
       "      <td>dz ALG</td>\n",
       "      <td>MF,FW</td>\n",
       "      <td>Angers</td>\n",
       "      <td>24-109</td>\n",
       "      <td>1999</td>\n",
       "      <td>25</td>\n",
       "      <td>25</td>\n",
       "      <td>2218</td>\n",
       "      <td>...</td>\n",
       "      <td>0.08</td>\n",
       "      <td>0.32</td>\n",
       "      <td>0.04</td>\n",
       "      <td>0.12</td>\n",
       "      <td>0.25</td>\n",
       "      <td>0.1</td>\n",
       "      <td>0.34</td>\n",
       "      <td>0.09</td>\n",
       "      <td>0.18</td>\n",
       "      <td>Matches</td>\n",
       "    </tr>\n",
       "    <tr>\n",
       "      <th>2</th>\n",
       "      <td>3</td>\n",
       "      <td>Ali Abdi</td>\n",
       "      <td>tn TUN</td>\n",
       "      <td>DF</td>\n",
       "      <td>Caen</td>\n",
       "      <td>30-076</td>\n",
       "      <td>1993</td>\n",
       "      <td>24</td>\n",
       "      <td>24</td>\n",
       "      <td>2137</td>\n",
       "      <td>...</td>\n",
       "      <td>0.04</td>\n",
       "      <td>0.38</td>\n",
       "      <td>0.34</td>\n",
       "      <td>0.38</td>\n",
       "      <td>0.19</td>\n",
       "      <td>0.09</td>\n",
       "      <td>0.28</td>\n",
       "      <td>0.19</td>\n",
       "      <td>0.28</td>\n",
       "      <td>Matches</td>\n",
       "    </tr>\n",
       "    <tr>\n",
       "      <th>3</th>\n",
       "      <td>4</td>\n",
       "      <td>Elhadj Abdourahamane Bah</td>\n",
       "      <td>gn GUI</td>\n",
       "      <td>FW</td>\n",
       "      <td>Dunkerque</td>\n",
       "      <td>22-196</td>\n",
       "      <td>2001</td>\n",
       "      <td>9</td>\n",
       "      <td>4</td>\n",
       "      <td>351</td>\n",
       "      <td>...</td>\n",
       "      <td>0.26</td>\n",
       "      <td>0.51</td>\n",
       "      <td>0.26</td>\n",
       "      <td>0.51</td>\n",
       "      <td>NaN</td>\n",
       "      <td>NaN</td>\n",
       "      <td>NaN</td>\n",
       "      <td>NaN</td>\n",
       "      <td>NaN</td>\n",
       "      <td>Matches</td>\n",
       "    </tr>\n",
       "    <tr>\n",
       "      <th>4</th>\n",
       "      <td>5</td>\n",
       "      <td>Salomon Abergel</td>\n",
       "      <td>fr FRA</td>\n",
       "      <td>DF</td>\n",
       "      <td>Ajaccio</td>\n",
       "      <td>19-245</td>\n",
       "      <td>2004</td>\n",
       "      <td>4</td>\n",
       "      <td>1</td>\n",
       "      <td>172</td>\n",
       "      <td>...</td>\n",
       "      <td>0</td>\n",
       "      <td>0</td>\n",
       "      <td>0</td>\n",
       "      <td>0</td>\n",
       "      <td>0</td>\n",
       "      <td>0.05</td>\n",
       "      <td>0.05</td>\n",
       "      <td>0</td>\n",
       "      <td>0.05</td>\n",
       "      <td>Matches</td>\n",
       "    </tr>\n",
       "  </tbody>\n",
       "</table>\n",
       "<p>5 rows × 37 columns</p>\n",
       "</div>"
      ],
      "text/plain": [
       "  Rk                    Player  Nation    Pos          Squad     Age  Born  \\\n",
       "0  1            Abdel Abdallah  km COM     DF  Rodez Aveyron  26-200  1997   \n",
       "1  2             Himad Abdelli  dz ALG  MF,FW         Angers  24-109  1999   \n",
       "2  3                  Ali Abdi  tn TUN     DF           Caen  30-076  1993   \n",
       "3  4  Elhadj Abdourahamane Bah  gn GUI     FW      Dunkerque  22-196  2001   \n",
       "4  5           Salomon Abergel  fr FRA     DF        Ajaccio  19-245  2004   \n",
       "\n",
       "   MP Starts   Min  ... Ast.1 G+A.1 G-PK.1 G+A-PK  xG.1 xAG.1 xG+xAG npxG.1  \\\n",
       "0  27     18  1560  ...     0  0.06   0.06   0.06  0.07   0.1   0.17   0.07   \n",
       "1  25     25  2218  ...  0.08  0.32   0.04   0.12  0.25   0.1   0.34   0.09   \n",
       "2  24     24  2137  ...  0.04  0.38   0.34   0.38  0.19  0.09   0.28   0.19   \n",
       "3   9      4   351  ...  0.26  0.51   0.26   0.51   NaN   NaN    NaN    NaN   \n",
       "4   4      1   172  ...     0     0      0      0     0  0.05   0.05      0   \n",
       "\n",
       "  npxG+xAG.1  Matches  \n",
       "0       0.17  Matches  \n",
       "1       0.18  Matches  \n",
       "2       0.28  Matches  \n",
       "3        NaN  Matches  \n",
       "4       0.05  Matches  \n",
       "\n",
       "[5 rows x 37 columns]"
      ]
     },
     "execution_count": 10,
     "metadata": {},
     "output_type": "execute_result"
    }
   ],
   "source": [
    "france = import_excel('Ligue 2 (France) 2023-24 Player Stats_')\n",
    "france.head()"
   ]
  },
  {
   "cell_type": "code",
   "execution_count": 11,
   "metadata": {},
   "outputs": [
    {
     "data": {
      "text/html": [
       "<div>\n",
       "<style scoped>\n",
       "    .dataframe tbody tr th:only-of-type {\n",
       "        vertical-align: middle;\n",
       "    }\n",
       "\n",
       "    .dataframe tbody tr th {\n",
       "        vertical-align: top;\n",
       "    }\n",
       "\n",
       "    .dataframe thead th {\n",
       "        text-align: right;\n",
       "    }\n",
       "</style>\n",
       "<table border=\"1\" class=\"dataframe\">\n",
       "  <thead>\n",
       "    <tr style=\"text-align: right;\">\n",
       "      <th></th>\n",
       "      <th>Rk</th>\n",
       "      <th>Player</th>\n",
       "      <th>Nation</th>\n",
       "      <th>Pos</th>\n",
       "      <th>Squad</th>\n",
       "      <th>Age</th>\n",
       "      <th>Born</th>\n",
       "      <th>MP</th>\n",
       "      <th>Starts</th>\n",
       "      <th>Min</th>\n",
       "      <th>...</th>\n",
       "      <th>Ast.1</th>\n",
       "      <th>G+A.1</th>\n",
       "      <th>G-PK.1</th>\n",
       "      <th>G+A-PK</th>\n",
       "      <th>xG.1</th>\n",
       "      <th>xAG.1</th>\n",
       "      <th>xG+xAG</th>\n",
       "      <th>npxG.1</th>\n",
       "      <th>npxG+xAG.1</th>\n",
       "      <th>Matches</th>\n",
       "    </tr>\n",
       "  </thead>\n",
       "  <tbody>\n",
       "    <tr>\n",
       "      <th>0</th>\n",
       "      <td>1</td>\n",
       "      <td>Rodrigo Abascal</td>\n",
       "      <td>uy URU</td>\n",
       "      <td>DF</td>\n",
       "      <td>Boavista</td>\n",
       "      <td>30-051</td>\n",
       "      <td>1994</td>\n",
       "      <td>20</td>\n",
       "      <td>20</td>\n",
       "      <td>1772</td>\n",
       "      <td>...</td>\n",
       "      <td>0</td>\n",
       "      <td>0.05</td>\n",
       "      <td>0.05</td>\n",
       "      <td>0.05</td>\n",
       "      <td>0.03</td>\n",
       "      <td>0.01</td>\n",
       "      <td>0.03</td>\n",
       "      <td>0.03</td>\n",
       "      <td>0.03</td>\n",
       "      <td>Matches</td>\n",
       "    </tr>\n",
       "    <tr>\n",
       "      <th>1</th>\n",
       "      <td>2</td>\n",
       "      <td>Antonio Adán</td>\n",
       "      <td>es ESP</td>\n",
       "      <td>GK</td>\n",
       "      <td>Sporting CP</td>\n",
       "      <td>36-297</td>\n",
       "      <td>1987</td>\n",
       "      <td>22</td>\n",
       "      <td>22</td>\n",
       "      <td>1980</td>\n",
       "      <td>...</td>\n",
       "      <td>0</td>\n",
       "      <td>0</td>\n",
       "      <td>0</td>\n",
       "      <td>0</td>\n",
       "      <td>0</td>\n",
       "      <td>0</td>\n",
       "      <td>0</td>\n",
       "      <td>0</td>\n",
       "      <td>0</td>\n",
       "      <td>Matches</td>\n",
       "    </tr>\n",
       "    <tr>\n",
       "      <th>2</th>\n",
       "      <td>3</td>\n",
       "      <td>Dennis Adeniran</td>\n",
       "      <td>eng ENG</td>\n",
       "      <td>MF</td>\n",
       "      <td>Portimonense</td>\n",
       "      <td>25-063</td>\n",
       "      <td>1999</td>\n",
       "      <td>1</td>\n",
       "      <td>0</td>\n",
       "      <td>6</td>\n",
       "      <td>...</td>\n",
       "      <td>0</td>\n",
       "      <td>0</td>\n",
       "      <td>0</td>\n",
       "      <td>0</td>\n",
       "      <td>0</td>\n",
       "      <td>0</td>\n",
       "      <td>0</td>\n",
       "      <td>0</td>\n",
       "      <td>0</td>\n",
       "      <td>Matches</td>\n",
       "    </tr>\n",
       "    <tr>\n",
       "      <th>3</th>\n",
       "      <td>4</td>\n",
       "      <td>Martin Agirregabiria</td>\n",
       "      <td>es ESP</td>\n",
       "      <td>DF</td>\n",
       "      <td>Famalicão</td>\n",
       "      <td>27-300</td>\n",
       "      <td>1996</td>\n",
       "      <td>18</td>\n",
       "      <td>8</td>\n",
       "      <td>810</td>\n",
       "      <td>...</td>\n",
       "      <td>0</td>\n",
       "      <td>0</td>\n",
       "      <td>0</td>\n",
       "      <td>0</td>\n",
       "      <td>0.01</td>\n",
       "      <td>0.05</td>\n",
       "      <td>0.06</td>\n",
       "      <td>0.01</td>\n",
       "      <td>0.06</td>\n",
       "      <td>Matches</td>\n",
       "    </tr>\n",
       "    <tr>\n",
       "      <th>4</th>\n",
       "      <td>5</td>\n",
       "      <td>Salvador Agra</td>\n",
       "      <td>pt POR</td>\n",
       "      <td>DF,FW</td>\n",
       "      <td>Boavista</td>\n",
       "      <td>32-115</td>\n",
       "      <td>1991</td>\n",
       "      <td>22</td>\n",
       "      <td>22</td>\n",
       "      <td>1717</td>\n",
       "      <td>...</td>\n",
       "      <td>0.05</td>\n",
       "      <td>0.21</td>\n",
       "      <td>0.16</td>\n",
       "      <td>0.21</td>\n",
       "      <td>0.09</td>\n",
       "      <td>0.12</td>\n",
       "      <td>0.21</td>\n",
       "      <td>0.09</td>\n",
       "      <td>0.21</td>\n",
       "      <td>Matches</td>\n",
       "    </tr>\n",
       "  </tbody>\n",
       "</table>\n",
       "<p>5 rows × 37 columns</p>\n",
       "</div>"
      ],
      "text/plain": [
       "  Rk                Player   Nation    Pos         Squad     Age  Born  MP  \\\n",
       "0  1       Rodrigo Abascal   uy URU     DF      Boavista  30-051  1994  20   \n",
       "1  2          Antonio Adán   es ESP     GK   Sporting CP  36-297  1987  22   \n",
       "2  3       Dennis Adeniran  eng ENG     MF  Portimonense  25-063  1999   1   \n",
       "3  4  Martin Agirregabiria   es ESP     DF     Famalicão  27-300  1996  18   \n",
       "4  5         Salvador Agra   pt POR  DF,FW      Boavista  32-115  1991  22   \n",
       "\n",
       "  Starts   Min  ... Ast.1 G+A.1 G-PK.1 G+A-PK  xG.1 xAG.1 xG+xAG npxG.1  \\\n",
       "0     20  1772  ...     0  0.05   0.05   0.05  0.03  0.01   0.03   0.03   \n",
       "1     22  1980  ...     0     0      0      0     0     0      0      0   \n",
       "2      0     6  ...     0     0      0      0     0     0      0      0   \n",
       "3      8   810  ...     0     0      0      0  0.01  0.05   0.06   0.01   \n",
       "4     22  1717  ...  0.05  0.21   0.16   0.21  0.09  0.12   0.21   0.09   \n",
       "\n",
       "  npxG+xAG.1  Matches  \n",
       "0       0.03  Matches  \n",
       "1          0  Matches  \n",
       "2          0  Matches  \n",
       "3       0.06  Matches  \n",
       "4       0.21  Matches  \n",
       "\n",
       "[5 rows x 37 columns]"
      ]
     },
     "execution_count": 11,
     "metadata": {},
     "output_type": "execute_result"
    }
   ],
   "source": [
    "portugal = import_excel('Primeira Liga (Portugal) 2023-24 Player Stats_')\n",
    "portugal.head()"
   ]
  },
  {
   "cell_type": "code",
   "execution_count": 12,
   "metadata": {},
   "outputs": [
    {
     "data": {
      "text/html": [
       "<div>\n",
       "<style scoped>\n",
       "    .dataframe tbody tr th:only-of-type {\n",
       "        vertical-align: middle;\n",
       "    }\n",
       "\n",
       "    .dataframe tbody tr th {\n",
       "        vertical-align: top;\n",
       "    }\n",
       "\n",
       "    .dataframe thead th {\n",
       "        text-align: right;\n",
       "    }\n",
       "</style>\n",
       "<table border=\"1\" class=\"dataframe\">\n",
       "  <thead>\n",
       "    <tr style=\"text-align: right;\">\n",
       "      <th></th>\n",
       "      <th>Rk</th>\n",
       "      <th>Player</th>\n",
       "      <th>Nation</th>\n",
       "      <th>Pos</th>\n",
       "      <th>Squad</th>\n",
       "      <th>Age</th>\n",
       "      <th>Born</th>\n",
       "      <th>MP</th>\n",
       "      <th>Starts</th>\n",
       "      <th>Min</th>\n",
       "      <th>...</th>\n",
       "      <th>Ast.1</th>\n",
       "      <th>G+A.1</th>\n",
       "      <th>G-PK.1</th>\n",
       "      <th>G+A-PK</th>\n",
       "      <th>xG.1</th>\n",
       "      <th>xAG.1</th>\n",
       "      <th>xG+xAG</th>\n",
       "      <th>npxG.1</th>\n",
       "      <th>npxG+xAG.1</th>\n",
       "      <th>Matches</th>\n",
       "    </tr>\n",
       "  </thead>\n",
       "  <tbody>\n",
       "    <tr>\n",
       "      <th>0</th>\n",
       "      <td>1</td>\n",
       "      <td>Tony Abad</td>\n",
       "      <td>es ESP</td>\n",
       "      <td>DF</td>\n",
       "      <td>Eldense</td>\n",
       "      <td>27-123</td>\n",
       "      <td>1996</td>\n",
       "      <td>27</td>\n",
       "      <td>26</td>\n",
       "      <td>2334</td>\n",
       "      <td>...</td>\n",
       "      <td>0.23</td>\n",
       "      <td>0.23</td>\n",
       "      <td>0</td>\n",
       "      <td>0.23</td>\n",
       "      <td>0</td>\n",
       "      <td>0.06</td>\n",
       "      <td>0.07</td>\n",
       "      <td>0</td>\n",
       "      <td>0.07</td>\n",
       "      <td>Matches</td>\n",
       "    </tr>\n",
       "    <tr>\n",
       "      <th>1</th>\n",
       "      <td>2</td>\n",
       "      <td>Abel</td>\n",
       "      <td>es ESP</td>\n",
       "      <td>DF</td>\n",
       "      <td>Oviedo</td>\n",
       "      <td>23-197</td>\n",
       "      <td>2000</td>\n",
       "      <td>28</td>\n",
       "      <td>28</td>\n",
       "      <td>2481</td>\n",
       "      <td>...</td>\n",
       "      <td>0.04</td>\n",
       "      <td>0.07</td>\n",
       "      <td>0.04</td>\n",
       "      <td>0.07</td>\n",
       "      <td>0.02</td>\n",
       "      <td>0.09</td>\n",
       "      <td>0.11</td>\n",
       "      <td>0.02</td>\n",
       "      <td>0.11</td>\n",
       "      <td>Matches</td>\n",
       "    </tr>\n",
       "    <tr>\n",
       "      <th>2</th>\n",
       "      <td>3</td>\n",
       "      <td>Diyaeddine Abzi</td>\n",
       "      <td>ca CAN</td>\n",
       "      <td>DF,MF</td>\n",
       "      <td>Leganés</td>\n",
       "      <td>25-103</td>\n",
       "      <td>1998</td>\n",
       "      <td>3</td>\n",
       "      <td>0</td>\n",
       "      <td>24</td>\n",
       "      <td>...</td>\n",
       "      <td>0</td>\n",
       "      <td>0</td>\n",
       "      <td>0</td>\n",
       "      <td>0</td>\n",
       "      <td>0.34</td>\n",
       "      <td>0</td>\n",
       "      <td>0.34</td>\n",
       "      <td>0.34</td>\n",
       "      <td>0.34</td>\n",
       "      <td>Matches</td>\n",
       "    </tr>\n",
       "    <tr>\n",
       "      <th>3</th>\n",
       "      <td>4</td>\n",
       "      <td>Álvaro Aceves</td>\n",
       "      <td>es ESP</td>\n",
       "      <td>GK</td>\n",
       "      <td>Eldense</td>\n",
       "      <td>20-223</td>\n",
       "      <td>2003</td>\n",
       "      <td>11</td>\n",
       "      <td>11</td>\n",
       "      <td>990</td>\n",
       "      <td>...</td>\n",
       "      <td>0</td>\n",
       "      <td>0</td>\n",
       "      <td>0</td>\n",
       "      <td>0</td>\n",
       "      <td>0</td>\n",
       "      <td>0</td>\n",
       "      <td>0</td>\n",
       "      <td>0</td>\n",
       "      <td>0</td>\n",
       "      <td>Matches</td>\n",
       "    </tr>\n",
       "    <tr>\n",
       "      <th>4</th>\n",
       "      <td>5</td>\n",
       "      <td>Emmanuel Addai</td>\n",
       "      <td>gh GHA</td>\n",
       "      <td>FW,MF</td>\n",
       "      <td>Alcorcón</td>\n",
       "      <td>22-217</td>\n",
       "      <td>2001</td>\n",
       "      <td>24</td>\n",
       "      <td>14</td>\n",
       "      <td>1546</td>\n",
       "      <td>...</td>\n",
       "      <td>0.17</td>\n",
       "      <td>0.35</td>\n",
       "      <td>0.17</td>\n",
       "      <td>0.35</td>\n",
       "      <td>0.19</td>\n",
       "      <td>0.1</td>\n",
       "      <td>0.29</td>\n",
       "      <td>0.19</td>\n",
       "      <td>0.29</td>\n",
       "      <td>Matches</td>\n",
       "    </tr>\n",
       "  </tbody>\n",
       "</table>\n",
       "<p>5 rows × 37 columns</p>\n",
       "</div>"
      ],
      "text/plain": [
       "  Rk           Player  Nation    Pos     Squad     Age  Born  MP Starts   Min  \\\n",
       "0  1        Tony Abad  es ESP     DF   Eldense  27-123  1996  27     26  2334   \n",
       "1  2             Abel  es ESP     DF    Oviedo  23-197  2000  28     28  2481   \n",
       "2  3  Diyaeddine Abzi  ca CAN  DF,MF   Leganés  25-103  1998   3      0    24   \n",
       "3  4    Álvaro Aceves  es ESP     GK   Eldense  20-223  2003  11     11   990   \n",
       "4  5   Emmanuel Addai  gh GHA  FW,MF  Alcorcón  22-217  2001  24     14  1546   \n",
       "\n",
       "   ... Ast.1 G+A.1 G-PK.1 G+A-PK  xG.1 xAG.1 xG+xAG npxG.1 npxG+xAG.1  Matches  \n",
       "0  ...  0.23  0.23      0   0.23     0  0.06   0.07      0       0.07  Matches  \n",
       "1  ...  0.04  0.07   0.04   0.07  0.02  0.09   0.11   0.02       0.11  Matches  \n",
       "2  ...     0     0      0      0  0.34     0   0.34   0.34       0.34  Matches  \n",
       "3  ...     0     0      0      0     0     0      0      0          0  Matches  \n",
       "4  ...  0.17  0.35   0.17   0.35  0.19   0.1   0.29   0.19       0.29  Matches  \n",
       "\n",
       "[5 rows x 37 columns]"
      ]
     },
     "execution_count": 12,
     "metadata": {},
     "output_type": "execute_result"
    }
   ],
   "source": [
    "spain = import_excel('Segunda Division (Spain) 2023-24 Player Stats')\n",
    "spain.head()"
   ]
  },
  {
   "cell_type": "code",
   "execution_count": 13,
   "metadata": {},
   "outputs": [
    {
     "data": {
      "text/html": [
       "<div>\n",
       "<style scoped>\n",
       "    .dataframe tbody tr th:only-of-type {\n",
       "        vertical-align: middle;\n",
       "    }\n",
       "\n",
       "    .dataframe tbody tr th {\n",
       "        vertical-align: top;\n",
       "    }\n",
       "\n",
       "    .dataframe thead th {\n",
       "        text-align: right;\n",
       "    }\n",
       "</style>\n",
       "<table border=\"1\" class=\"dataframe\">\n",
       "  <thead>\n",
       "    <tr style=\"text-align: right;\">\n",
       "      <th></th>\n",
       "      <th>Rk</th>\n",
       "      <th>Player</th>\n",
       "      <th>Nation</th>\n",
       "      <th>Pos</th>\n",
       "      <th>Squad</th>\n",
       "      <th>Age</th>\n",
       "      <th>Born</th>\n",
       "      <th>MP</th>\n",
       "      <th>Starts</th>\n",
       "      <th>Min</th>\n",
       "      <th>...</th>\n",
       "      <th>Ast.1</th>\n",
       "      <th>G+A.1</th>\n",
       "      <th>G-PK.1</th>\n",
       "      <th>G+A-PK</th>\n",
       "      <th>xG.1</th>\n",
       "      <th>xAG.1</th>\n",
       "      <th>xG+xAG</th>\n",
       "      <th>npxG.1</th>\n",
       "      <th>npxG+xAG.1</th>\n",
       "      <th>Matches</th>\n",
       "    </tr>\n",
       "  </thead>\n",
       "  <tbody>\n",
       "    <tr>\n",
       "      <th>0</th>\n",
       "      <td>1</td>\n",
       "      <td>Oliver Abildgaard</td>\n",
       "      <td>dk DEN</td>\n",
       "      <td>MF</td>\n",
       "      <td>Como</td>\n",
       "      <td>27-269</td>\n",
       "      <td>1996</td>\n",
       "      <td>22</td>\n",
       "      <td>18</td>\n",
       "      <td>1626</td>\n",
       "      <td>...</td>\n",
       "      <td>0.17</td>\n",
       "      <td>0.28</td>\n",
       "      <td>0.11</td>\n",
       "      <td>0.28</td>\n",
       "      <td>0.04</td>\n",
       "      <td>0.08</td>\n",
       "      <td>0.12</td>\n",
       "      <td>0.04</td>\n",
       "      <td>0.12</td>\n",
       "      <td>Matches</td>\n",
       "    </tr>\n",
       "    <tr>\n",
       "      <th>1</th>\n",
       "      <td>2</td>\n",
       "      <td>Fabio Abiuso</td>\n",
       "      <td>gr GRE</td>\n",
       "      <td>FW</td>\n",
       "      <td>Modena</td>\n",
       "      <td>21-032</td>\n",
       "      <td>2003</td>\n",
       "      <td>15</td>\n",
       "      <td>7</td>\n",
       "      <td>776</td>\n",
       "      <td>...</td>\n",
       "      <td>0</td>\n",
       "      <td>0.46</td>\n",
       "      <td>0.46</td>\n",
       "      <td>0.46</td>\n",
       "      <td>NaN</td>\n",
       "      <td>NaN</td>\n",
       "      <td>NaN</td>\n",
       "      <td>NaN</td>\n",
       "      <td>NaN</td>\n",
       "      <td>Matches</td>\n",
       "    </tr>\n",
       "    <tr>\n",
       "      <th>2</th>\n",
       "      <td>3</td>\n",
       "      <td>Gonzalo Abrego</td>\n",
       "      <td>ar ARG</td>\n",
       "      <td>MF</td>\n",
       "      <td>Cremonese</td>\n",
       "      <td>24-058</td>\n",
       "      <td>2000</td>\n",
       "      <td>18</td>\n",
       "      <td>10</td>\n",
       "      <td>989</td>\n",
       "      <td>...</td>\n",
       "      <td>0</td>\n",
       "      <td>0.09</td>\n",
       "      <td>0.09</td>\n",
       "      <td>0.09</td>\n",
       "      <td>0.12</td>\n",
       "      <td>0.03</td>\n",
       "      <td>0.16</td>\n",
       "      <td>0.12</td>\n",
       "      <td>0.16</td>\n",
       "      <td>Matches</td>\n",
       "    </tr>\n",
       "    <tr>\n",
       "      <th>3</th>\n",
       "      <td>4</td>\n",
       "      <td>Gennaro Acampora</td>\n",
       "      <td>it ITA</td>\n",
       "      <td>MF</td>\n",
       "      <td>Bari</td>\n",
       "      <td>29-342</td>\n",
       "      <td>1994</td>\n",
       "      <td>16</td>\n",
       "      <td>12</td>\n",
       "      <td>1011</td>\n",
       "      <td>...</td>\n",
       "      <td>0.09</td>\n",
       "      <td>0.09</td>\n",
       "      <td>0</td>\n",
       "      <td>0.09</td>\n",
       "      <td>0.05</td>\n",
       "      <td>0.06</td>\n",
       "      <td>0.11</td>\n",
       "      <td>0.05</td>\n",
       "      <td>0.11</td>\n",
       "      <td>Matches</td>\n",
       "    </tr>\n",
       "    <tr>\n",
       "      <th>4</th>\n",
       "      <td>5</td>\n",
       "      <td>Ismail Achik</td>\n",
       "      <td>it ITA</td>\n",
       "      <td>FW,MF</td>\n",
       "      <td>Bari</td>\n",
       "      <td>23-219</td>\n",
       "      <td>2000</td>\n",
       "      <td>15</td>\n",
       "      <td>5</td>\n",
       "      <td>584</td>\n",
       "      <td>...</td>\n",
       "      <td>0.15</td>\n",
       "      <td>0.31</td>\n",
       "      <td>0.15</td>\n",
       "      <td>0.31</td>\n",
       "      <td>0.19</td>\n",
       "      <td>0.23</td>\n",
       "      <td>0.42</td>\n",
       "      <td>0.19</td>\n",
       "      <td>0.42</td>\n",
       "      <td>Matches</td>\n",
       "    </tr>\n",
       "  </tbody>\n",
       "</table>\n",
       "<p>5 rows × 37 columns</p>\n",
       "</div>"
      ],
      "text/plain": [
       "  Rk             Player  Nation    Pos      Squad     Age  Born  MP Starts  \\\n",
       "0  1  Oliver Abildgaard  dk DEN     MF       Como  27-269  1996  22     18   \n",
       "1  2       Fabio Abiuso  gr GRE     FW     Modena  21-032  2003  15      7   \n",
       "2  3     Gonzalo Abrego  ar ARG     MF  Cremonese  24-058  2000  18     10   \n",
       "3  4   Gennaro Acampora  it ITA     MF       Bari  29-342  1994  16     12   \n",
       "4  5       Ismail Achik  it ITA  FW,MF       Bari  23-219  2000  15      5   \n",
       "\n",
       "    Min  ... Ast.1 G+A.1 G-PK.1 G+A-PK  xG.1 xAG.1 xG+xAG npxG.1 npxG+xAG.1  \\\n",
       "0  1626  ...  0.17  0.28   0.11   0.28  0.04  0.08   0.12   0.04       0.12   \n",
       "1   776  ...     0  0.46   0.46   0.46   NaN   NaN    NaN    NaN        NaN   \n",
       "2   989  ...     0  0.09   0.09   0.09  0.12  0.03   0.16   0.12       0.16   \n",
       "3  1011  ...  0.09  0.09      0   0.09  0.05  0.06   0.11   0.05       0.11   \n",
       "4   584  ...  0.15  0.31   0.15   0.31  0.19  0.23   0.42   0.19       0.42   \n",
       "\n",
       "   Matches  \n",
       "0  Matches  \n",
       "1  Matches  \n",
       "2  Matches  \n",
       "3  Matches  \n",
       "4  Matches  \n",
       "\n",
       "[5 rows x 37 columns]"
      ]
     },
     "execution_count": 13,
     "metadata": {},
     "output_type": "execute_result"
    }
   ],
   "source": [
    "italy = import_excel('Serie B (Italy) 2023-24 Player Stats_')\n",
    "italy.head()"
   ]
  },
  {
   "cell_type": "code",
   "execution_count": 14,
   "metadata": {},
   "outputs": [],
   "source": [
    "combined_players = pd.concat([germany, belgium, france, portugal, spain, italy], axis=0, join='inner')"
   ]
  },
  {
   "cell_type": "code",
   "execution_count": 15,
   "metadata": {},
   "outputs": [
    {
     "data": {
      "text/html": [
       "<div>\n",
       "<style scoped>\n",
       "    .dataframe tbody tr th:only-of-type {\n",
       "        vertical-align: middle;\n",
       "    }\n",
       "\n",
       "    .dataframe tbody tr th {\n",
       "        vertical-align: top;\n",
       "    }\n",
       "\n",
       "    .dataframe thead th {\n",
       "        text-align: right;\n",
       "    }\n",
       "</style>\n",
       "<table border=\"1\" class=\"dataframe\">\n",
       "  <thead>\n",
       "    <tr style=\"text-align: right;\">\n",
       "      <th></th>\n",
       "      <th>Rk</th>\n",
       "      <th>Player</th>\n",
       "      <th>Nation</th>\n",
       "      <th>Pos</th>\n",
       "      <th>Squad</th>\n",
       "      <th>Age</th>\n",
       "      <th>Born</th>\n",
       "      <th>MP</th>\n",
       "      <th>Starts</th>\n",
       "      <th>Min</th>\n",
       "      <th>...</th>\n",
       "      <th>Ast.1</th>\n",
       "      <th>G+A.1</th>\n",
       "      <th>G-PK.1</th>\n",
       "      <th>G+A-PK</th>\n",
       "      <th>xG.1</th>\n",
       "      <th>xAG.1</th>\n",
       "      <th>xG+xAG</th>\n",
       "      <th>npxG.1</th>\n",
       "      <th>npxG+xAG.1</th>\n",
       "      <th>Matches</th>\n",
       "    </tr>\n",
       "  </thead>\n",
       "  <tbody>\n",
       "    <tr>\n",
       "      <th>0</th>\n",
       "      <td>1</td>\n",
       "      <td>Dickson Abiama</td>\n",
       "      <td>ng NGA</td>\n",
       "      <td>FW</td>\n",
       "      <td>Greuther Fürth</td>\n",
       "      <td>25-123</td>\n",
       "      <td>1998</td>\n",
       "      <td>13</td>\n",
       "      <td>5</td>\n",
       "      <td>533</td>\n",
       "      <td>...</td>\n",
       "      <td>0.17</td>\n",
       "      <td>0.68</td>\n",
       "      <td>0.51</td>\n",
       "      <td>0.68</td>\n",
       "      <td>0.44</td>\n",
       "      <td>0.07</td>\n",
       "      <td>0.51</td>\n",
       "      <td>0.44</td>\n",
       "      <td>0.51</td>\n",
       "      <td>Matches</td>\n",
       "    </tr>\n",
       "    <tr>\n",
       "      <th>1</th>\n",
       "      <td>2</td>\n",
       "      <td>Dickson Abiama</td>\n",
       "      <td>ng NGA</td>\n",
       "      <td>DF,MF</td>\n",
       "      <td>Kaiserslautern</td>\n",
       "      <td>25-123</td>\n",
       "      <td>1998</td>\n",
       "      <td>5</td>\n",
       "      <td>0</td>\n",
       "      <td>102</td>\n",
       "      <td>...</td>\n",
       "      <td>0</td>\n",
       "      <td>0</td>\n",
       "      <td>0</td>\n",
       "      <td>0</td>\n",
       "      <td>0.17</td>\n",
       "      <td>0.08</td>\n",
       "      <td>0.25</td>\n",
       "      <td>0.17</td>\n",
       "      <td>0.25</td>\n",
       "      <td>Matches</td>\n",
       "    </tr>\n",
       "    <tr>\n",
       "      <th>2</th>\n",
       "      <td>3</td>\n",
       "      <td>Ragnar Ache</td>\n",
       "      <td>de GER</td>\n",
       "      <td>FW,MF</td>\n",
       "      <td>Kaiserslautern</td>\n",
       "      <td>25-221</td>\n",
       "      <td>1998</td>\n",
       "      <td>18</td>\n",
       "      <td>14</td>\n",
       "      <td>1151</td>\n",
       "      <td>...</td>\n",
       "      <td>0</td>\n",
       "      <td>0.94</td>\n",
       "      <td>0.94</td>\n",
       "      <td>0.94</td>\n",
       "      <td>0.68</td>\n",
       "      <td>0.08</td>\n",
       "      <td>0.76</td>\n",
       "      <td>0.68</td>\n",
       "      <td>0.76</td>\n",
       "      <td>Matches</td>\n",
       "    </tr>\n",
       "    <tr>\n",
       "      <th>3</th>\n",
       "      <td>4</td>\n",
       "      <td>Aremu Afeez</td>\n",
       "      <td>ng NGA</td>\n",
       "      <td>MF</td>\n",
       "      <td>Kaiserslautern</td>\n",
       "      <td>24-154</td>\n",
       "      <td>1999</td>\n",
       "      <td>2</td>\n",
       "      <td>0</td>\n",
       "      <td>45</td>\n",
       "      <td>...</td>\n",
       "      <td>0</td>\n",
       "      <td>0</td>\n",
       "      <td>0</td>\n",
       "      <td>0</td>\n",
       "      <td>0.02</td>\n",
       "      <td>0</td>\n",
       "      <td>0.02</td>\n",
       "      <td>0.02</td>\n",
       "      <td>0.02</td>\n",
       "      <td>Matches</td>\n",
       "    </tr>\n",
       "    <tr>\n",
       "      <th>4</th>\n",
       "      <td>5</td>\n",
       "      <td>Oladapo Afolayan</td>\n",
       "      <td>eng ENG</td>\n",
       "      <td>FW,MF</td>\n",
       "      <td>St. Pauli</td>\n",
       "      <td>26-022</td>\n",
       "      <td>1998</td>\n",
       "      <td>24</td>\n",
       "      <td>22</td>\n",
       "      <td>1739</td>\n",
       "      <td>...</td>\n",
       "      <td>0.1</td>\n",
       "      <td>0.41</td>\n",
       "      <td>0.31</td>\n",
       "      <td>0.41</td>\n",
       "      <td>0.14</td>\n",
       "      <td>0.1</td>\n",
       "      <td>0.24</td>\n",
       "      <td>0.14</td>\n",
       "      <td>0.24</td>\n",
       "      <td>Matches</td>\n",
       "    </tr>\n",
       "  </tbody>\n",
       "</table>\n",
       "<p>5 rows × 37 columns</p>\n",
       "</div>"
      ],
      "text/plain": [
       "  Rk            Player   Nation    Pos           Squad     Age  Born  MP  \\\n",
       "0  1    Dickson Abiama   ng NGA     FW  Greuther Fürth  25-123  1998  13   \n",
       "1  2    Dickson Abiama   ng NGA  DF,MF  Kaiserslautern  25-123  1998   5   \n",
       "2  3       Ragnar Ache   de GER  FW,MF  Kaiserslautern  25-221  1998  18   \n",
       "3  4       Aremu Afeez   ng NGA     MF  Kaiserslautern  24-154  1999   2   \n",
       "4  5  Oladapo Afolayan  eng ENG  FW,MF       St. Pauli  26-022  1998  24   \n",
       "\n",
       "  Starts   Min  ... Ast.1 G+A.1 G-PK.1 G+A-PK  xG.1 xAG.1 xG+xAG npxG.1  \\\n",
       "0      5   533  ...  0.17  0.68   0.51   0.68  0.44  0.07   0.51   0.44   \n",
       "1      0   102  ...     0     0      0      0  0.17  0.08   0.25   0.17   \n",
       "2     14  1151  ...     0  0.94   0.94   0.94  0.68  0.08   0.76   0.68   \n",
       "3      0    45  ...     0     0      0      0  0.02     0   0.02   0.02   \n",
       "4     22  1739  ...   0.1  0.41   0.31   0.41  0.14   0.1   0.24   0.14   \n",
       "\n",
       "  npxG+xAG.1  Matches  \n",
       "0       0.51  Matches  \n",
       "1       0.25  Matches  \n",
       "2       0.76  Matches  \n",
       "3       0.02  Matches  \n",
       "4       0.24  Matches  \n",
       "\n",
       "[5 rows x 37 columns]"
      ]
     },
     "execution_count": 15,
     "metadata": {},
     "output_type": "execute_result"
    }
   ],
   "source": [
    "combined_players.head()"
   ]
  },
  {
   "cell_type": "code",
   "execution_count": 16,
   "metadata": {},
   "outputs": [
    {
     "data": {
      "text/html": [
       "<div>\n",
       "<style scoped>\n",
       "    .dataframe tbody tr th:only-of-type {\n",
       "        vertical-align: middle;\n",
       "    }\n",
       "\n",
       "    .dataframe tbody tr th {\n",
       "        vertical-align: top;\n",
       "    }\n",
       "\n",
       "    .dataframe thead th {\n",
       "        text-align: right;\n",
       "    }\n",
       "</style>\n",
       "<table border=\"1\" class=\"dataframe\">\n",
       "  <thead>\n",
       "    <tr style=\"text-align: right;\">\n",
       "      <th></th>\n",
       "      <th>Rk</th>\n",
       "      <th>Player</th>\n",
       "      <th>Nation</th>\n",
       "      <th>Pos</th>\n",
       "      <th>Squad</th>\n",
       "      <th>Age</th>\n",
       "      <th>Born</th>\n",
       "      <th>MP</th>\n",
       "      <th>Starts</th>\n",
       "      <th>Min</th>\n",
       "      <th>...</th>\n",
       "      <th>Ast.1</th>\n",
       "      <th>G+A.1</th>\n",
       "      <th>G-PK.1</th>\n",
       "      <th>G+A-PK</th>\n",
       "      <th>xG.1</th>\n",
       "      <th>xAG.1</th>\n",
       "      <th>xG+xAG</th>\n",
       "      <th>npxG.1</th>\n",
       "      <th>npxG+xAG.1</th>\n",
       "      <th>Matches</th>\n",
       "    </tr>\n",
       "  </thead>\n",
       "  <tbody>\n",
       "    <tr>\n",
       "      <th>618</th>\n",
       "      <td>596</td>\n",
       "      <td>Jan Zuberek</td>\n",
       "      <td>pl POL</td>\n",
       "      <td>FW</td>\n",
       "      <td>Ternana</td>\n",
       "      <td>19-358</td>\n",
       "      <td>2004</td>\n",
       "      <td>1</td>\n",
       "      <td>0</td>\n",
       "      <td>23</td>\n",
       "      <td>...</td>\n",
       "      <td>0</td>\n",
       "      <td>0</td>\n",
       "      <td>0</td>\n",
       "      <td>0</td>\n",
       "      <td>0</td>\n",
       "      <td>0.07</td>\n",
       "      <td>0.07</td>\n",
       "      <td>0</td>\n",
       "      <td>0.07</td>\n",
       "      <td>Matches</td>\n",
       "    </tr>\n",
       "    <tr>\n",
       "      <th>619</th>\n",
       "      <td>597</td>\n",
       "      <td>Federico Zuccon</td>\n",
       "      <td>it ITA</td>\n",
       "      <td>MF</td>\n",
       "      <td>Cosenza</td>\n",
       "      <td>20-339</td>\n",
       "      <td>2003</td>\n",
       "      <td>21</td>\n",
       "      <td>16</td>\n",
       "      <td>1361</td>\n",
       "      <td>...</td>\n",
       "      <td>0.13</td>\n",
       "      <td>0.13</td>\n",
       "      <td>0</td>\n",
       "      <td>0.13</td>\n",
       "      <td>0.05</td>\n",
       "      <td>0.04</td>\n",
       "      <td>0.09</td>\n",
       "      <td>0.05</td>\n",
       "      <td>0.09</td>\n",
       "      <td>Matches</td>\n",
       "    </tr>\n",
       "    <tr>\n",
       "      <th>620</th>\n",
       "      <td>598</td>\n",
       "      <td>Szymon Żurkowski</td>\n",
       "      <td>pl POL</td>\n",
       "      <td>MF</td>\n",
       "      <td>Spezia</td>\n",
       "      <td>26-162</td>\n",
       "      <td>1997</td>\n",
       "      <td>16</td>\n",
       "      <td>7</td>\n",
       "      <td>636</td>\n",
       "      <td>...</td>\n",
       "      <td>0.14</td>\n",
       "      <td>0.14</td>\n",
       "      <td>0</td>\n",
       "      <td>0.14</td>\n",
       "      <td>0.09</td>\n",
       "      <td>0.14</td>\n",
       "      <td>0.23</td>\n",
       "      <td>0.09</td>\n",
       "      <td>0.23</td>\n",
       "      <td>Matches</td>\n",
       "    </tr>\n",
       "    <tr>\n",
       "      <th>621</th>\n",
       "      <td>599</td>\n",
       "      <td>Žan Žužek</td>\n",
       "      <td>si SVN</td>\n",
       "      <td>DF</td>\n",
       "      <td>Bari</td>\n",
       "      <td>27-039</td>\n",
       "      <td>1997</td>\n",
       "      <td>9</td>\n",
       "      <td>5</td>\n",
       "      <td>544</td>\n",
       "      <td>...</td>\n",
       "      <td>0</td>\n",
       "      <td>0</td>\n",
       "      <td>0</td>\n",
       "      <td>0</td>\n",
       "      <td>0.03</td>\n",
       "      <td>0</td>\n",
       "      <td>0.03</td>\n",
       "      <td>0.03</td>\n",
       "      <td>0.03</td>\n",
       "      <td>Matches</td>\n",
       "    </tr>\n",
       "    <tr>\n",
       "      <th>622</th>\n",
       "      <td>600</td>\n",
       "      <td>Jakub Łabojko</td>\n",
       "      <td>pl POL</td>\n",
       "      <td>MF</td>\n",
       "      <td>Ternana</td>\n",
       "      <td>26-154</td>\n",
       "      <td>1997</td>\n",
       "      <td>21</td>\n",
       "      <td>18</td>\n",
       "      <td>1288</td>\n",
       "      <td>...</td>\n",
       "      <td>0.07</td>\n",
       "      <td>0.07</td>\n",
       "      <td>0</td>\n",
       "      <td>0.07</td>\n",
       "      <td>0.02</td>\n",
       "      <td>0.08</td>\n",
       "      <td>0.1</td>\n",
       "      <td>0.02</td>\n",
       "      <td>0.1</td>\n",
       "      <td>Matches</td>\n",
       "    </tr>\n",
       "  </tbody>\n",
       "</table>\n",
       "<p>5 rows × 37 columns</p>\n",
       "</div>"
      ],
      "text/plain": [
       "      Rk            Player  Nation Pos    Squad     Age  Born  MP Starts  \\\n",
       "618  596       Jan Zuberek  pl POL  FW  Ternana  19-358  2004   1      0   \n",
       "619  597   Federico Zuccon  it ITA  MF  Cosenza  20-339  2003  21     16   \n",
       "620  598  Szymon Żurkowski  pl POL  MF   Spezia  26-162  1997  16      7   \n",
       "621  599         Žan Žužek  si SVN  DF     Bari  27-039  1997   9      5   \n",
       "622  600     Jakub Łabojko  pl POL  MF  Ternana  26-154  1997  21     18   \n",
       "\n",
       "      Min  ... Ast.1 G+A.1 G-PK.1 G+A-PK  xG.1 xAG.1 xG+xAG npxG.1 npxG+xAG.1  \\\n",
       "618    23  ...     0     0      0      0     0  0.07   0.07      0       0.07   \n",
       "619  1361  ...  0.13  0.13      0   0.13  0.05  0.04   0.09   0.05       0.09   \n",
       "620   636  ...  0.14  0.14      0   0.14  0.09  0.14   0.23   0.09       0.23   \n",
       "621   544  ...     0     0      0      0  0.03     0   0.03   0.03       0.03   \n",
       "622  1288  ...  0.07  0.07      0   0.07  0.02  0.08    0.1   0.02        0.1   \n",
       "\n",
       "     Matches  \n",
       "618  Matches  \n",
       "619  Matches  \n",
       "620  Matches  \n",
       "621  Matches  \n",
       "622  Matches  \n",
       "\n",
       "[5 rows x 37 columns]"
      ]
     },
     "execution_count": 16,
     "metadata": {},
     "output_type": "execute_result"
    }
   ],
   "source": [
    "combined_players.tail()"
   ]
  },
  {
   "cell_type": "code",
   "execution_count": 17,
   "metadata": {},
   "outputs": [],
   "source": [
    "combined_players.to_csv('Resources/combined_players.csv', index=False)"
   ]
  },
  {
   "cell_type": "code",
   "execution_count": 18,
   "metadata": {},
   "outputs": [
    {
     "data": {
      "text/html": [
       "<div>\n",
       "<style scoped>\n",
       "    .dataframe tbody tr th:only-of-type {\n",
       "        vertical-align: middle;\n",
       "    }\n",
       "\n",
       "    .dataframe tbody tr th {\n",
       "        vertical-align: top;\n",
       "    }\n",
       "\n",
       "    .dataframe thead th {\n",
       "        text-align: right;\n",
       "    }\n",
       "</style>\n",
       "<table border=\"1\" class=\"dataframe\">\n",
       "  <thead>\n",
       "    <tr style=\"text-align: right;\">\n",
       "      <th></th>\n",
       "      <th>Rk</th>\n",
       "      <th>Player</th>\n",
       "      <th>Nation</th>\n",
       "      <th>Pos</th>\n",
       "      <th>Squad</th>\n",
       "      <th>Age</th>\n",
       "      <th>Born</th>\n",
       "      <th>MP</th>\n",
       "      <th>Starts</th>\n",
       "      <th>Min</th>\n",
       "      <th>...</th>\n",
       "      <th>Ast.1</th>\n",
       "      <th>G+A.1</th>\n",
       "      <th>G-PK.1</th>\n",
       "      <th>G+A-PK</th>\n",
       "      <th>xG.1</th>\n",
       "      <th>xAG.1</th>\n",
       "      <th>xG+xAG</th>\n",
       "      <th>npxG.1</th>\n",
       "      <th>npxG+xAG.1</th>\n",
       "      <th>Matches</th>\n",
       "    </tr>\n",
       "  </thead>\n",
       "  <tbody>\n",
       "    <tr>\n",
       "      <th>8</th>\n",
       "      <td>9</td>\n",
       "      <td>Stephan Ambrosius</td>\n",
       "      <td>gh GHA</td>\n",
       "      <td>DF</td>\n",
       "      <td>Hamburger SV</td>\n",
       "      <td>25-078</td>\n",
       "      <td>1998</td>\n",
       "      <td>15</td>\n",
       "      <td>11</td>\n",
       "      <td>1026</td>\n",
       "      <td>...</td>\n",
       "      <td>0</td>\n",
       "      <td>0</td>\n",
       "      <td>0</td>\n",
       "      <td>0</td>\n",
       "      <td>0.01</td>\n",
       "      <td>0.01</td>\n",
       "      <td>0.02</td>\n",
       "      <td>0.01</td>\n",
       "      <td>0.02</td>\n",
       "      <td>Matches</td>\n",
       "    </tr>\n",
       "    <tr>\n",
       "      <th>12</th>\n",
       "      <td>13</td>\n",
       "      <td>Thanasis Androutsos</td>\n",
       "      <td>gr GRE</td>\n",
       "      <td>DF</td>\n",
       "      <td>Osnabrück</td>\n",
       "      <td>26-304</td>\n",
       "      <td>1997</td>\n",
       "      <td>6</td>\n",
       "      <td>5</td>\n",
       "      <td>431</td>\n",
       "      <td>...</td>\n",
       "      <td>0</td>\n",
       "      <td>0</td>\n",
       "      <td>0</td>\n",
       "      <td>0</td>\n",
       "      <td>0.01</td>\n",
       "      <td>0.03</td>\n",
       "      <td>0.04</td>\n",
       "      <td>0.01</td>\n",
       "      <td>0.04</td>\n",
       "      <td>Matches</td>\n",
       "    </tr>\n",
       "    <tr>\n",
       "      <th>13</th>\n",
       "      <td>14</td>\n",
       "      <td>Martin Angha</td>\n",
       "      <td>ch SUI</td>\n",
       "      <td>DF</td>\n",
       "      <td>Wehen</td>\n",
       "      <td>30-043</td>\n",
       "      <td>1994</td>\n",
       "      <td>15</td>\n",
       "      <td>14</td>\n",
       "      <td>1284</td>\n",
       "      <td>...</td>\n",
       "      <td>0</td>\n",
       "      <td>0</td>\n",
       "      <td>0</td>\n",
       "      <td>0</td>\n",
       "      <td>0.03</td>\n",
       "      <td>0.08</td>\n",
       "      <td>0.11</td>\n",
       "      <td>0.03</td>\n",
       "      <td>0.11</td>\n",
       "      <td>Matches</td>\n",
       "    </tr>\n",
       "    <tr>\n",
       "      <th>15</th>\n",
       "      <td>16</td>\n",
       "      <td>Nico Antonitsch</td>\n",
       "      <td>at AUT</td>\n",
       "      <td>DF</td>\n",
       "      <td>Elversberg</td>\n",
       "      <td>32-157</td>\n",
       "      <td>1991</td>\n",
       "      <td>3</td>\n",
       "      <td>0</td>\n",
       "      <td>87</td>\n",
       "      <td>...</td>\n",
       "      <td>0</td>\n",
       "      <td>0</td>\n",
       "      <td>0</td>\n",
       "      <td>0</td>\n",
       "      <td>0.19</td>\n",
       "      <td>0</td>\n",
       "      <td>0.19</td>\n",
       "      <td>0.19</td>\n",
       "      <td>0.19</td>\n",
       "      <td>Matches</td>\n",
       "    </tr>\n",
       "    <tr>\n",
       "      <th>18</th>\n",
       "      <td>19</td>\n",
       "      <td>Bright Arrey-Mbi</td>\n",
       "      <td>de GER</td>\n",
       "      <td>DF</td>\n",
       "      <td>Hannover 96</td>\n",
       "      <td>20-345</td>\n",
       "      <td>2003</td>\n",
       "      <td>23</td>\n",
       "      <td>19</td>\n",
       "      <td>1666</td>\n",
       "      <td>...</td>\n",
       "      <td>0</td>\n",
       "      <td>0</td>\n",
       "      <td>0</td>\n",
       "      <td>0</td>\n",
       "      <td>0.01</td>\n",
       "      <td>0</td>\n",
       "      <td>0.01</td>\n",
       "      <td>0.01</td>\n",
       "      <td>0.01</td>\n",
       "      <td>Matches</td>\n",
       "    </tr>\n",
       "  </tbody>\n",
       "</table>\n",
       "<p>5 rows × 37 columns</p>\n",
       "</div>"
      ],
      "text/plain": [
       "    Rk               Player  Nation Pos         Squad     Age  Born  MP  \\\n",
       "8    9    Stephan Ambrosius  gh GHA  DF  Hamburger SV  25-078  1998  15   \n",
       "12  13  Thanasis Androutsos  gr GRE  DF     Osnabrück  26-304  1997   6   \n",
       "13  14         Martin Angha  ch SUI  DF         Wehen  30-043  1994  15   \n",
       "15  16      Nico Antonitsch  at AUT  DF    Elversberg  32-157  1991   3   \n",
       "18  19     Bright Arrey-Mbi  de GER  DF   Hannover 96  20-345  2003  23   \n",
       "\n",
       "   Starts   Min  ... Ast.1 G+A.1 G-PK.1 G+A-PK  xG.1 xAG.1 xG+xAG npxG.1  \\\n",
       "8      11  1026  ...     0     0      0      0  0.01  0.01   0.02   0.01   \n",
       "12      5   431  ...     0     0      0      0  0.01  0.03   0.04   0.01   \n",
       "13     14  1284  ...     0     0      0      0  0.03  0.08   0.11   0.03   \n",
       "15      0    87  ...     0     0      0      0  0.19     0   0.19   0.19   \n",
       "18     19  1666  ...     0     0      0      0  0.01     0   0.01   0.01   \n",
       "\n",
       "   npxG+xAG.1  Matches  \n",
       "8        0.02  Matches  \n",
       "12       0.04  Matches  \n",
       "13       0.11  Matches  \n",
       "15       0.19  Matches  \n",
       "18       0.01  Matches  \n",
       "\n",
       "[5 rows x 37 columns]"
      ]
     },
     "execution_count": 18,
     "metadata": {},
     "output_type": "execute_result"
    }
   ],
   "source": [
    "# Finding players born in 2004 OR (|) a simple defenseman.\n",
    "born_2004 = combined_players.loc[(combined_players['Born'] == '2004') | (combined_players['Pos'] == 'DF')]\n",
    "born_2004.head()"
   ]
  },
  {
   "cell_type": "code",
   "execution_count": 19,
   "metadata": {},
   "outputs": [
    {
     "name": "stdout",
     "output_type": "stream",
     "text": [
      "['Rk', 'Player', 'Nation', 'Pos', 'Squad', 'Age', 'Born', 'MP', 'Starts', 'Min', '90s', 'Gls', 'Ast', 'G+A', 'G-PK', 'PK', 'PKatt', 'CrdY', 'CrdR', 'xG', 'npxG', 'xAG', 'npxG+xAG', 'PrgC', 'PrgP', 'PrgR', 'Gls.1', 'Ast.1', 'G+A.1', 'G-PK.1', 'G+A-PK', 'xG.1', 'xAG.1', 'xG+xAG', 'npxG.1', 'npxG+xAG.1', 'Matches']\n"
     ]
    }
   ],
   "source": [
    "print(combined_players.columns.tolist())"
   ]
  },
  {
   "cell_type": "code",
   "execution_count": 20,
   "metadata": {},
   "outputs": [
    {
     "name": "stdout",
     "output_type": "stream",
     "text": [
      "['Player', 'Nation', 'Pos', 'Squad', 'Age', 'Born', 'MP', 'Min', 'Gls', 'Ast', 'G+A', 'xG', 'xAG', 'npxG+xAG', 'Gls.1', 'Ast.1', 'G+A.1', 'xG.1', 'xAG.1', 'xG+xAG']\n"
     ]
    }
   ],
   "source": [
    "columns_to_remove = ['Rk', 'Starts', '90s', 'G-PK', 'PK', 'PKatt', 'CrdY', 'CrdR', 'npxG', 'PrgC', 'PrgP', 'PrgR', 'G-PK.1', 'G+A-PK', 'npxG.1', 'npxG+xAG.1', 'Matches']\n",
    "filtered_dataframe = combined_players.drop(columns=columns_to_remove)\n",
    "print(filtered_dataframe.columns.tolist())"
   ]
  },
  {
   "cell_type": "code",
   "execution_count": 21,
   "metadata": {},
   "outputs": [
    {
     "name": "stdout",
     "output_type": "stream",
     "text": [
      "             Player   Nation Position           Squad     Age  Born  \\\n",
      "0    Dickson Abiama   ng NGA       FW  Greuther Fürth  25-123  1998   \n",
      "1    Dickson Abiama   ng NGA    DF,MF  Kaiserslautern  25-123  1998   \n",
      "2       Ragnar Ache   de GER    FW,MF  Kaiserslautern  25-221  1998   \n",
      "3       Aremu Afeez   ng NGA       MF  Kaiserslautern  24-154  1999   \n",
      "4  Oladapo Afolayan  eng ENG    FW,MF       St. Pauli  26-022  1998   \n",
      "\n",
      "  Matches Played Minutes Played Goals Assists Goals + Assists Expected Goals  \\\n",
      "0             13            533     3       1               4            2.6   \n",
      "1              5            102     0       0               0            0.2   \n",
      "2             18           1151    12       0              12            8.6   \n",
      "3              2             45     0       0               0              0   \n",
      "4             24           1739     6       2               8            2.8   \n",
      "\n",
      "  Expected Assists Expected Goals + Assists Goals per 90 Assists per 90  \\\n",
      "0              0.4                        3         0.51           0.17   \n",
      "1              0.1                      0.3            0              0   \n",
      "2                1                      9.7         0.94              0   \n",
      "3                0                        0            0              0   \n",
      "4              1.8                      4.6         0.31            0.1   \n",
      "\n",
      "  Goals + Assists per 90 Expected Goals per 90 Expected Assists per 90  \\\n",
      "0                   0.68                  0.44                    0.07   \n",
      "1                      0                  0.17                    0.08   \n",
      "2                   0.94                  0.68                    0.08   \n",
      "3                      0                  0.02                       0   \n",
      "4                   0.41                  0.14                     0.1   \n",
      "\n",
      "  Expected Goals + Assists per 90  \n",
      "0                            0.51  \n",
      "1                            0.25  \n",
      "2                            0.76  \n",
      "3                            0.02  \n",
      "4                            0.24  \n"
     ]
    }
   ],
   "source": [
    "\n",
    "filtered_dataframe.rename(columns={'Pos': 'Position', 'MP': 'Matches Played', 'Min': 'Minutes Played', 'Gls': 'Goals', 'Ast': 'Assists', 'G+A': 'Goals + Assists', \n",
    "                                   'xG': 'Expected Goals', 'xAG': 'Expected Assists', 'npxG+xAG': 'Expected Goals + Assists', 'Gls.1': 'Goals per 90', \n",
    "                                   'Ast.1': \"Assists per 90\", 'G+A.1': 'Goals + Assists per 90','xG.1': 'Expected Goals per 90', 'xAG.1': 'Expected Assists per 90', \n",
    "                                   'xG+xAG': 'Expected Goals + Assists per 90'}, inplace=True)\n",
    "filtered_dataframe = filtered_dataframe[filtered_dataframe['Player'] != 'Player']\n",
    "print(filtered_dataframe.head())"
   ]
  },
  {
   "cell_type": "code",
   "execution_count": 22,
   "metadata": {},
   "outputs": [
    {
     "name": "stdout",
     "output_type": "stream",
     "text": [
      "['Player', 'Nation', 'Position', 'Squad', 'Age', 'Born', 'Matches Played', 'Minutes Played', 'Goals', 'Assists', 'Goals + Assists', 'Expected Goals', 'Expected Assists', 'Expected Goals + Assists', 'Goals per 90', 'Assists per 90', 'Goals + Assists per 90', 'Expected Goals per 90', 'Expected Assists per 90', 'Expected Goals + Assists per 90']\n"
     ]
    }
   ],
   "source": [
    "# Check that the columns have been renamed and display in list format for ease of copying later in the code.\n",
    "print(filtered_dataframe.columns.tolist())"
   ]
  },
  {
   "cell_type": "code",
   "execution_count": 23,
   "metadata": {},
   "outputs": [
    {
     "data": {
      "text/html": [
       "<div>\n",
       "<style scoped>\n",
       "    .dataframe tbody tr th:only-of-type {\n",
       "        vertical-align: middle;\n",
       "    }\n",
       "\n",
       "    .dataframe tbody tr th {\n",
       "        vertical-align: top;\n",
       "    }\n",
       "\n",
       "    .dataframe thead th {\n",
       "        text-align: right;\n",
       "    }\n",
       "</style>\n",
       "<table border=\"1\" class=\"dataframe\">\n",
       "  <thead>\n",
       "    <tr style=\"text-align: right;\">\n",
       "      <th></th>\n",
       "      <th>Player</th>\n",
       "      <th>Nation</th>\n",
       "      <th>Position</th>\n",
       "      <th>Squad</th>\n",
       "      <th>Age</th>\n",
       "      <th>Born</th>\n",
       "      <th>Matches Played</th>\n",
       "      <th>Minutes Played</th>\n",
       "      <th>Goals</th>\n",
       "      <th>Assists</th>\n",
       "      <th>Goals + Assists</th>\n",
       "      <th>Expected Goals</th>\n",
       "      <th>Expected Assists</th>\n",
       "      <th>Expected Goals + Assists</th>\n",
       "      <th>Goals per 90</th>\n",
       "      <th>Assists per 90</th>\n",
       "      <th>Goals + Assists per 90</th>\n",
       "      <th>Expected Goals per 90</th>\n",
       "      <th>Expected Assists per 90</th>\n",
       "      <th>Expected Goals + Assists per 90</th>\n",
       "    </tr>\n",
       "  </thead>\n",
       "  <tbody>\n",
       "    <tr>\n",
       "      <th>0</th>\n",
       "      <td>Dickson Abiama</td>\n",
       "      <td>ng NGA</td>\n",
       "      <td>FW</td>\n",
       "      <td>Greuther Fürth</td>\n",
       "      <td>25-123</td>\n",
       "      <td>1998</td>\n",
       "      <td>13</td>\n",
       "      <td>533</td>\n",
       "      <td>3</td>\n",
       "      <td>1</td>\n",
       "      <td>4</td>\n",
       "      <td>2.6</td>\n",
       "      <td>0.4</td>\n",
       "      <td>3</td>\n",
       "      <td>0.51</td>\n",
       "      <td>0.17</td>\n",
       "      <td>0.68</td>\n",
       "      <td>0.44</td>\n",
       "      <td>0.07</td>\n",
       "      <td>0.51</td>\n",
       "    </tr>\n",
       "    <tr>\n",
       "      <th>1</th>\n",
       "      <td>Dickson Abiama</td>\n",
       "      <td>ng NGA</td>\n",
       "      <td>DF,MF</td>\n",
       "      <td>Kaiserslautern</td>\n",
       "      <td>25-123</td>\n",
       "      <td>1998</td>\n",
       "      <td>5</td>\n",
       "      <td>102</td>\n",
       "      <td>0</td>\n",
       "      <td>0</td>\n",
       "      <td>0</td>\n",
       "      <td>0.2</td>\n",
       "      <td>0.1</td>\n",
       "      <td>0.3</td>\n",
       "      <td>0</td>\n",
       "      <td>0</td>\n",
       "      <td>0</td>\n",
       "      <td>0.17</td>\n",
       "      <td>0.08</td>\n",
       "      <td>0.25</td>\n",
       "    </tr>\n",
       "    <tr>\n",
       "      <th>2</th>\n",
       "      <td>Ragnar Ache</td>\n",
       "      <td>de GER</td>\n",
       "      <td>FW,MF</td>\n",
       "      <td>Kaiserslautern</td>\n",
       "      <td>25-221</td>\n",
       "      <td>1998</td>\n",
       "      <td>18</td>\n",
       "      <td>1151</td>\n",
       "      <td>12</td>\n",
       "      <td>0</td>\n",
       "      <td>12</td>\n",
       "      <td>8.6</td>\n",
       "      <td>1</td>\n",
       "      <td>9.7</td>\n",
       "      <td>0.94</td>\n",
       "      <td>0</td>\n",
       "      <td>0.94</td>\n",
       "      <td>0.68</td>\n",
       "      <td>0.08</td>\n",
       "      <td>0.76</td>\n",
       "    </tr>\n",
       "    <tr>\n",
       "      <th>3</th>\n",
       "      <td>Aremu Afeez</td>\n",
       "      <td>ng NGA</td>\n",
       "      <td>MF</td>\n",
       "      <td>Kaiserslautern</td>\n",
       "      <td>24-154</td>\n",
       "      <td>1999</td>\n",
       "      <td>2</td>\n",
       "      <td>45</td>\n",
       "      <td>0</td>\n",
       "      <td>0</td>\n",
       "      <td>0</td>\n",
       "      <td>0</td>\n",
       "      <td>0</td>\n",
       "      <td>0</td>\n",
       "      <td>0</td>\n",
       "      <td>0</td>\n",
       "      <td>0</td>\n",
       "      <td>0.02</td>\n",
       "      <td>0</td>\n",
       "      <td>0.02</td>\n",
       "    </tr>\n",
       "    <tr>\n",
       "      <th>4</th>\n",
       "      <td>Oladapo Afolayan</td>\n",
       "      <td>eng ENG</td>\n",
       "      <td>FW,MF</td>\n",
       "      <td>St. Pauli</td>\n",
       "      <td>26-022</td>\n",
       "      <td>1998</td>\n",
       "      <td>24</td>\n",
       "      <td>1739</td>\n",
       "      <td>6</td>\n",
       "      <td>2</td>\n",
       "      <td>8</td>\n",
       "      <td>2.8</td>\n",
       "      <td>1.8</td>\n",
       "      <td>4.6</td>\n",
       "      <td>0.31</td>\n",
       "      <td>0.1</td>\n",
       "      <td>0.41</td>\n",
       "      <td>0.14</td>\n",
       "      <td>0.1</td>\n",
       "      <td>0.24</td>\n",
       "    </tr>\n",
       "    <tr>\n",
       "      <th>...</th>\n",
       "      <td>...</td>\n",
       "      <td>...</td>\n",
       "      <td>...</td>\n",
       "      <td>...</td>\n",
       "      <td>...</td>\n",
       "      <td>...</td>\n",
       "      <td>...</td>\n",
       "      <td>...</td>\n",
       "      <td>...</td>\n",
       "      <td>...</td>\n",
       "      <td>...</td>\n",
       "      <td>...</td>\n",
       "      <td>...</td>\n",
       "      <td>...</td>\n",
       "      <td>...</td>\n",
       "      <td>...</td>\n",
       "      <td>...</td>\n",
       "      <td>...</td>\n",
       "      <td>...</td>\n",
       "      <td>...</td>\n",
       "    </tr>\n",
       "    <tr>\n",
       "      <th>618</th>\n",
       "      <td>Jan Zuberek</td>\n",
       "      <td>pl POL</td>\n",
       "      <td>FW</td>\n",
       "      <td>Ternana</td>\n",
       "      <td>19-358</td>\n",
       "      <td>2004</td>\n",
       "      <td>1</td>\n",
       "      <td>23</td>\n",
       "      <td>0</td>\n",
       "      <td>0</td>\n",
       "      <td>0</td>\n",
       "      <td>0</td>\n",
       "      <td>0</td>\n",
       "      <td>0</td>\n",
       "      <td>0</td>\n",
       "      <td>0</td>\n",
       "      <td>0</td>\n",
       "      <td>0</td>\n",
       "      <td>0.07</td>\n",
       "      <td>0.07</td>\n",
       "    </tr>\n",
       "    <tr>\n",
       "      <th>619</th>\n",
       "      <td>Federico Zuccon</td>\n",
       "      <td>it ITA</td>\n",
       "      <td>MF</td>\n",
       "      <td>Cosenza</td>\n",
       "      <td>20-339</td>\n",
       "      <td>2003</td>\n",
       "      <td>21</td>\n",
       "      <td>1361</td>\n",
       "      <td>0</td>\n",
       "      <td>2</td>\n",
       "      <td>2</td>\n",
       "      <td>0.8</td>\n",
       "      <td>0.6</td>\n",
       "      <td>1.4</td>\n",
       "      <td>0</td>\n",
       "      <td>0.13</td>\n",
       "      <td>0.13</td>\n",
       "      <td>0.05</td>\n",
       "      <td>0.04</td>\n",
       "      <td>0.09</td>\n",
       "    </tr>\n",
       "    <tr>\n",
       "      <th>620</th>\n",
       "      <td>Szymon Żurkowski</td>\n",
       "      <td>pl POL</td>\n",
       "      <td>MF</td>\n",
       "      <td>Spezia</td>\n",
       "      <td>26-162</td>\n",
       "      <td>1997</td>\n",
       "      <td>16</td>\n",
       "      <td>636</td>\n",
       "      <td>0</td>\n",
       "      <td>1</td>\n",
       "      <td>1</td>\n",
       "      <td>0.7</td>\n",
       "      <td>1</td>\n",
       "      <td>1.6</td>\n",
       "      <td>0</td>\n",
       "      <td>0.14</td>\n",
       "      <td>0.14</td>\n",
       "      <td>0.09</td>\n",
       "      <td>0.14</td>\n",
       "      <td>0.23</td>\n",
       "    </tr>\n",
       "    <tr>\n",
       "      <th>621</th>\n",
       "      <td>Žan Žužek</td>\n",
       "      <td>si SVN</td>\n",
       "      <td>DF</td>\n",
       "      <td>Bari</td>\n",
       "      <td>27-039</td>\n",
       "      <td>1997</td>\n",
       "      <td>9</td>\n",
       "      <td>544</td>\n",
       "      <td>0</td>\n",
       "      <td>0</td>\n",
       "      <td>0</td>\n",
       "      <td>0.2</td>\n",
       "      <td>0</td>\n",
       "      <td>0.2</td>\n",
       "      <td>0</td>\n",
       "      <td>0</td>\n",
       "      <td>0</td>\n",
       "      <td>0.03</td>\n",
       "      <td>0</td>\n",
       "      <td>0.03</td>\n",
       "    </tr>\n",
       "    <tr>\n",
       "      <th>622</th>\n",
       "      <td>Jakub Łabojko</td>\n",
       "      <td>pl POL</td>\n",
       "      <td>MF</td>\n",
       "      <td>Ternana</td>\n",
       "      <td>26-154</td>\n",
       "      <td>1997</td>\n",
       "      <td>21</td>\n",
       "      <td>1288</td>\n",
       "      <td>0</td>\n",
       "      <td>1</td>\n",
       "      <td>1</td>\n",
       "      <td>0.3</td>\n",
       "      <td>1.2</td>\n",
       "      <td>1.5</td>\n",
       "      <td>0</td>\n",
       "      <td>0.07</td>\n",
       "      <td>0.07</td>\n",
       "      <td>0.02</td>\n",
       "      <td>0.08</td>\n",
       "      <td>0.1</td>\n",
       "    </tr>\n",
       "  </tbody>\n",
       "</table>\n",
       "<p>3291 rows × 20 columns</p>\n",
       "</div>"
      ],
      "text/plain": [
       "               Player   Nation Position           Squad     Age  Born  \\\n",
       "0      Dickson Abiama   ng NGA       FW  Greuther Fürth  25-123  1998   \n",
       "1      Dickson Abiama   ng NGA    DF,MF  Kaiserslautern  25-123  1998   \n",
       "2         Ragnar Ache   de GER    FW,MF  Kaiserslautern  25-221  1998   \n",
       "3         Aremu Afeez   ng NGA       MF  Kaiserslautern  24-154  1999   \n",
       "4    Oladapo Afolayan  eng ENG    FW,MF       St. Pauli  26-022  1998   \n",
       "..                ...      ...      ...             ...     ...   ...   \n",
       "618       Jan Zuberek   pl POL       FW         Ternana  19-358  2004   \n",
       "619   Federico Zuccon   it ITA       MF         Cosenza  20-339  2003   \n",
       "620  Szymon Żurkowski   pl POL       MF          Spezia  26-162  1997   \n",
       "621         Žan Žužek   si SVN       DF            Bari  27-039  1997   \n",
       "622     Jakub Łabojko   pl POL       MF         Ternana  26-154  1997   \n",
       "\n",
       "    Matches Played Minutes Played Goals Assists Goals + Assists  \\\n",
       "0               13            533     3       1               4   \n",
       "1                5            102     0       0               0   \n",
       "2               18           1151    12       0              12   \n",
       "3                2             45     0       0               0   \n",
       "4               24           1739     6       2               8   \n",
       "..             ...            ...   ...     ...             ...   \n",
       "618              1             23     0       0               0   \n",
       "619             21           1361     0       2               2   \n",
       "620             16            636     0       1               1   \n",
       "621              9            544     0       0               0   \n",
       "622             21           1288     0       1               1   \n",
       "\n",
       "    Expected Goals Expected Assists Expected Goals + Assists Goals per 90  \\\n",
       "0              2.6              0.4                        3         0.51   \n",
       "1              0.2              0.1                      0.3            0   \n",
       "2              8.6                1                      9.7         0.94   \n",
       "3                0                0                        0            0   \n",
       "4              2.8              1.8                      4.6         0.31   \n",
       "..             ...              ...                      ...          ...   \n",
       "618              0                0                        0            0   \n",
       "619            0.8              0.6                      1.4            0   \n",
       "620            0.7                1                      1.6            0   \n",
       "621            0.2                0                      0.2            0   \n",
       "622            0.3              1.2                      1.5            0   \n",
       "\n",
       "    Assists per 90 Goals + Assists per 90 Expected Goals per 90  \\\n",
       "0             0.17                   0.68                  0.44   \n",
       "1                0                      0                  0.17   \n",
       "2                0                   0.94                  0.68   \n",
       "3                0                      0                  0.02   \n",
       "4              0.1                   0.41                  0.14   \n",
       "..             ...                    ...                   ...   \n",
       "618              0                      0                     0   \n",
       "619           0.13                   0.13                  0.05   \n",
       "620           0.14                   0.14                  0.09   \n",
       "621              0                      0                  0.03   \n",
       "622           0.07                   0.07                  0.02   \n",
       "\n",
       "    Expected Assists per 90 Expected Goals + Assists per 90  \n",
       "0                      0.07                            0.51  \n",
       "1                      0.08                            0.25  \n",
       "2                      0.08                            0.76  \n",
       "3                         0                            0.02  \n",
       "4                       0.1                            0.24  \n",
       "..                      ...                             ...  \n",
       "618                    0.07                            0.07  \n",
       "619                    0.04                            0.09  \n",
       "620                    0.14                            0.23  \n",
       "621                       0                            0.03  \n",
       "622                    0.08                             0.1  \n",
       "\n",
       "[3291 rows x 20 columns]"
      ]
     },
     "metadata": {},
     "output_type": "display_data"
    }
   ],
   "source": [
    "# Print the data with display() in a more readable format to check the information and renamed columns.\n",
    "display(filtered_dataframe)"
   ]
  },
  {
   "cell_type": "markdown",
   "metadata": {},
   "source": [
    "I noticed that there are duplicates in the 'Player' column, which suggests transferred players, who have played for two or more clubs so far this season. Their data needs to be included, as a player transfer is not sufficient reason to remove their information. Also, their data is split and therefore lower, which (unless they are superhuman) will remove them from the later filters."
   ]
  },
  {
   "cell_type": "markdown",
   "metadata": {},
   "source": [
    "### Checking for Duplicate Names"
   ]
  },
  {
   "cell_type": "code",
   "execution_count": 24,
   "metadata": {},
   "outputs": [
    {
     "name": "stdout",
     "output_type": "stream",
     "text": [
      "125\n"
     ]
    }
   ],
   "source": [
    "# Check for duplicate players, which indicates a transfer. Their matches played will necessarily be less, split across 2+ teams. \n",
    "player_counts = filtered_dataframe.groupby('Player').size()\n",
    "double_names = player_counts[player_counts >= 2]\n",
    "print(double_names.count())"
   ]
  },
  {
   "cell_type": "code",
   "execution_count": 25,
   "metadata": {},
   "outputs": [
    {
     "name": "stdout",
     "output_type": "stream",
     "text": [
      "['Abdoul Guiebre', 'Afonso Bastardo', 'Alejandro Blanco', 'Alessio Castro-Montes', 'Aleš Matějů', 'Amadou Ba-Sy', 'Anderson Arroyo', 'Anderson Lucoqui', 'André Castro', 'Andrés Martín', 'Andy', 'Angel Troncho', 'Antoine Batisse', 'Antonino La Gumina', 'Arana', 'Arnau Ortiz', 'Aurélien Scheidler', 'Ba-Muaka Simakala', 'Bram Lagae', 'Bruno Xavier Almeida Costa', 'Cesar Falletti', 'Chiquinho', 'Christoph Daferner', 'Christopher Scott', 'Cristiano Piccini', 'Dani Escriche', 'Daniel Schmidt', 'Dario Essugo', 'Darío Poveda', 'Dauda Mohammed', 'Davide Guglielmotti', 'Dennis Johnsen', 'Dickson Abiama', 'Diego Falcinelli', 'Diego González', 'Diego Moreno', 'Dimo Krastev', 'Eddie Salcedo', 'Elady Zorrilla', 'Emmanuel Ntim', 'Ettore Gliozzi', 'Fabrizio Paghera', 'Federico Dionisi', 'Fidel', 'Filippo Sgarbi', 'Florian Le Joncour', 'Florian Tardieu', 'Francesco Forte', 'Frederic Soelle Soelle', 'Gabriel Lunetta', 'Gaëtan Charbonnier', 'Gaëtan Courtet', 'Giacomo Manzari', 'Gianluca Frabotta', 'Gustavo Henrique', 'Hugo Vandermersch', 'Iker Unzueta', 'Joni Montiel', 'Jorge Pombo', 'Jorge Yriarte', 'Jovanny Bolívar', 'João Moutinho', 'Kalidou Sidibé', 'Kapitbafan Djoco', 'Ken Nkuba', 'Lauti', 'Lex Lobinger', 'Lorenzo Di Stefano', 'Luca Vignali', 'Luismi', 'Mamadou Fofana', 'Mamadou Sylla', 'Mandela Keita', 'Manu Hernando', 'Marco Kana', 'Marlon Mustapha', 'Mateus Fernandes', 'Matheus Aiás', 'Mats Rits', 'Matteo Stoppa', 'Michele Camporese', 'Miguel', 'Mirko Antonucci', 'Mounaim El Idrissy', 'Nacho', 'Niccolò Corrado', 'Nicholas Bonfanti', 'Nieto', 'Niklas Tauer', 'Norman Bassette', 'Nuno Gonçalo Moreira', 'Nuno Santos', 'Otavio Ataide', 'Ousmane Camara', 'Paulinho', 'Pedro Mendes', 'Pere Milla', 'Raúl Guti', 'Renaud Emond', 'Rodrigo Martins', 'Roko Baturina', 'Romeo Vermant', 'Rubén', 'Rúben Lameiras', 'Sacha Banse', 'Salim Diakité', 'Sergio Bermejo', 'Sergio León', 'Tobias Müller', 'Tommaso Arrigoni', 'Toni Datković', 'Ugo Bonnet', 'Valerio Mantovani', 'Vasco Fernandes', 'Victor Lobry', 'Vittorio Parigini', 'Warren Caddy', 'Yanis Rahmani', 'Yohan Demoncy', 'Zakaria El Ouahdi', 'Ádám Nagy', 'Álex López', 'Álex Martín', 'Édgar Badía', 'Úmaro Embaló']\n"
     ]
    }
   ],
   "source": [
    "# Put this in a list to be able to see the names.\n",
    "double_names = player_counts[player_counts >= 2].index.tolist()\n",
    "print(double_names)"
   ]
  },
  {
   "cell_type": "markdown",
   "metadata": {},
   "source": [
    "Now that I have identified the players with duplicate names in the dataframe, I need to combine their information. This will require adding together numerical values and keeping single occurrences of text."
   ]
  },
  {
   "cell_type": "code",
   "execution_count": 26,
   "metadata": {},
   "outputs": [
    {
     "name": "stdout",
     "output_type": "stream",
     "text": [
      "                 Player  Nation Position           Squad     Age  Born  \\\n",
      "0        Dickson Abiama  ng NGA       FW  Greuther Fürth  25-123  1998   \n",
      "1        Dickson Abiama  ng NGA    DF,MF  Kaiserslautern  25-123  1998   \n",
      "81   Christoph Daferner  de GER       FW        Nürnberg  26-053  1998   \n",
      "82   Christoph Daferner  de GER    FW,MF      Düsseldorf  26-053  1998   \n",
      "279  Florian Le Joncour  fr FRA       DF      Elversberg  29-031  1995   \n",
      "..                  ...     ...      ...             ...     ...   ...   \n",
      "535      Filippo Sgarbi  it ITA       DF         Ternana  26-067  1997   \n",
      "549       Matteo Stoppa  it ITA       FW       Sampdoria  23-160  2000   \n",
      "550       Matteo Stoppa  it ITA    MF,FW       Catanzaro  23-160  2000   \n",
      "598        Luca Vignali  it ITA    DF,MF            Como  28-054  1996   \n",
      "599        Luca Vignali  it ITA    DF,MF          Spezia  28-054  1996   \n",
      "\n",
      "    Matches Played Minutes Played Goals Assists Goals + Assists  \\\n",
      "0               13            533     3       1               4   \n",
      "1                5            102     0       0               0   \n",
      "81               4            186     0       0               0   \n",
      "82               7            266     0       1               1   \n",
      "279              5            435     0       0               0   \n",
      "..             ...            ...   ...     ...             ...   \n",
      "535              7            552     1       0               1   \n",
      "549              1              9     0       0               0   \n",
      "550             17            493     0       2               2   \n",
      "598              5            271     0       0               0   \n",
      "599              7            294     0       1               1   \n",
      "\n",
      "    Expected Goals Expected Assists Expected Goals + Assists Goals per 90  \\\n",
      "0              2.6              0.4                        3         0.51   \n",
      "1              0.2              0.1                      0.3            0   \n",
      "81             0.2                0                      0.3            0   \n",
      "82             0.6              0.2                      0.9            0   \n",
      "279              0                0                      0.1            0   \n",
      "..             ...              ...                      ...          ...   \n",
      "535            0.3              0.1                      0.3         0.16   \n",
      "549              0              0.2                      0.2            0   \n",
      "550            0.6              0.3                      0.9            0   \n",
      "598              0              0.2                      0.2            0   \n",
      "599            0.1              0.1                      0.2            0   \n",
      "\n",
      "    Assists per 90 Goals + Assists per 90 Expected Goals per 90  \\\n",
      "0             0.17                   0.68                  0.44   \n",
      "1                0                      0                  0.17   \n",
      "81               0                      0                  0.12   \n",
      "82            0.34                   0.34                  0.21   \n",
      "279              0                      0                  0.01   \n",
      "..             ...                    ...                   ...   \n",
      "535              0                   0.16                  0.04   \n",
      "549              0                      0                     0   \n",
      "550           0.37                   0.37                  0.12   \n",
      "598              0                      0                     0   \n",
      "599           0.31                   0.31                  0.03   \n",
      "\n",
      "    Expected Assists per 90 Expected Goals + Assists per 90  \n",
      "0                      0.07                            0.51  \n",
      "1                      0.08                            0.25  \n",
      "81                     0.01                            0.13  \n",
      "82                     0.08                             0.3  \n",
      "279                    0.01                            0.01  \n",
      "..                      ...                             ...  \n",
      "535                    0.01                            0.05  \n",
      "549                    2.04                            2.04  \n",
      "550                    0.05                            0.17  \n",
      "598                    0.07                            0.07  \n",
      "599                    0.03                            0.07  \n",
      "\n",
      "[252 rows x 20 columns]\n"
     ]
    }
   ],
   "source": [
    "# Storing the information about duplicate players in a new variable.\n",
    "duplicate_players = filtered_dataframe[filtered_dataframe['Player'].isin(double_names)]\n",
    "print(duplicate_players)"
   ]
  },
  {
   "cell_type": "code",
   "execution_count": 27,
   "metadata": {},
   "outputs": [
    {
     "name": "stdout",
     "output_type": "stream",
     "text": [
      "                    Player  Nation Position           Squad     Age  Born  \\\n",
      "0           Abdoul Guiebre  bf BFA       DF          Modena  26-232  1997   \n",
      "1          Afonso Bastardo  pt POR    FW,DF  Gil Vicente FC  18-352  2005   \n",
      "2         Alejandro Blanco  es ESP       MF            Como  25-080  1998   \n",
      "3    Alessio Castro-Montes  be BEL    DF,MF        Union SG  26-293  1997   \n",
      "4              Aleš Matějů  cz CZE       DF         Palermo  27-276  1996   \n",
      "..                     ...     ...      ...             ...     ...   ...   \n",
      "120              Ádám Nagy  hu HUN       MF          Spezia  28-262  1995   \n",
      "121             Álex López  es ESP       MF   Racing Ferrol  36-054  1988   \n",
      "122            Álex Martín  es ESP    DF,MF   Racing Ferrol  26-040  1998   \n",
      "123            Édgar Badía  es ESP       GK        Zaragoza  32-022  1992   \n",
      "124           Úmaro Embaló  pt POR    FW,MF       Cartagena  22-304  2001   \n",
      "\n",
      "    Matches Played Minutes Played Goals Assists Goals + Assists  \\\n",
      "0               13            474     0       0               0   \n",
      "1                5             67     0       0               0   \n",
      "2                7            233     0       0               0   \n",
      "3               23           1760     2       2               4   \n",
      "4               24           1991     1       0               1   \n",
      "..             ...            ...   ...     ...             ...   \n",
      "120             17            909     0       0               0   \n",
      "121             29            843     1       0               1   \n",
      "122              9            468     0       0               0   \n",
      "123             15           1350     0       0               0   \n",
      "124             21            844     1       1               2   \n",
      "\n",
      "    Expected Goals Expected Assists Expected Goals + Assists Goals per 90  \\\n",
      "0              0.1              0.5                      0.6            0   \n",
      "1                0                0                      0.1            0   \n",
      "2              1.1              0.3                      1.4            0   \n",
      "3              0.4              2.3                      2.8         0.11   \n",
      "4              0.7              0.9                      1.5         0.14   \n",
      "..             ...              ...                      ...          ...   \n",
      "120            0.2              0.1                      0.4            0   \n",
      "121            1.1              0.6                      1.6         0.17   \n",
      "122              0                0                        0            0   \n",
      "123              0                0                        0            0   \n",
      "124            0.8              0.9                      1.6          0.3   \n",
      "\n",
      "    Assists per 90 Goals + Assists per 90 Expected Goals per 90  \\\n",
      "0                0                      0                  0.02   \n",
      "1                0                      0                   0.1   \n",
      "2                0                      0                  0.89   \n",
      "3             0.11                   0.21                  0.02   \n",
      "4                0                   0.14                  0.08   \n",
      "..             ...                    ...                   ...   \n",
      "120              0                      0                  0.05   \n",
      "121              0                   0.17                   0.2   \n",
      "122              0                      0                  0.01   \n",
      "123              0                      0                     0   \n",
      "124           0.17                   0.47                  0.17   \n",
      "\n",
      "    Expected Assists per 90 Expected Goals + Assists per 90  \n",
      "0                      0.11                            0.13  \n",
      "1                      0.07                            0.17  \n",
      "2                       0.3                            1.19  \n",
      "3                      0.18                            0.21  \n",
      "4                      0.09                            0.17  \n",
      "..                      ...                             ...  \n",
      "120                    0.03                            0.07  \n",
      "121                    0.13                            0.34  \n",
      "122                       0                            0.01  \n",
      "123                       0                               0  \n",
      "124                    0.18                            0.36  \n",
      "\n",
      "[125 rows x 20 columns]\n"
     ]
    }
   ],
   "source": [
    "# Joining the data from those players with duplicate names to ensure accurate data and fair analysis.\n",
    "# I have added numerical values together with 'sum', and selected the last values in columns with text.\n",
    "combined_rows = duplicate_players.groupby('Player', as_index=False).agg({\n",
    "    'Player': 'last',\n",
    "    'Nation': 'last',\n",
    "    'Position': 'last',\n",
    "    'Squad': 'last',\n",
    "    'Age': 'last',\n",
    "    'Born': 'last',\n",
    "    'Matches Played': 'sum',\n",
    "    'Minutes Played': 'sum',\n",
    "    'Goals': 'sum',\n",
    "    'Assists': 'sum',\n",
    "    'Goals + Assists': 'sum',\n",
    "    'Expected Goals': 'sum',\n",
    "    'Expected Assists': 'sum',\n",
    "    'Expected Goals + Assists': 'sum',\n",
    "    'Goals per 90': 'sum',\n",
    "    'Assists per 90': 'sum',\n",
    "    'Goals + Assists per 90': 'sum',\n",
    "    'Expected Goals per 90': 'sum',\n",
    "    'Expected Assists per 90': 'sum',\n",
    "    'Expected Goals + Assists per 90': 'sum'\n",
    "})\n",
    "\n",
    "print(combined_rows)"
   ]
  },
  {
   "cell_type": "code",
   "execution_count": 28,
   "metadata": {},
   "outputs": [
    {
     "data": {
      "text/html": [
       "<div>\n",
       "<style scoped>\n",
       "    .dataframe tbody tr th:only-of-type {\n",
       "        vertical-align: middle;\n",
       "    }\n",
       "\n",
       "    .dataframe tbody tr th {\n",
       "        vertical-align: top;\n",
       "    }\n",
       "\n",
       "    .dataframe thead th {\n",
       "        text-align: right;\n",
       "    }\n",
       "</style>\n",
       "<table border=\"1\" class=\"dataframe\">\n",
       "  <thead>\n",
       "    <tr style=\"text-align: right;\">\n",
       "      <th></th>\n",
       "      <th>Player</th>\n",
       "      <th>Nation</th>\n",
       "      <th>Position</th>\n",
       "      <th>Squad</th>\n",
       "      <th>Age</th>\n",
       "      <th>Born</th>\n",
       "      <th>Matches Played</th>\n",
       "      <th>Minutes Played</th>\n",
       "      <th>Goals</th>\n",
       "      <th>Assists</th>\n",
       "      <th>Goals + Assists</th>\n",
       "      <th>Expected Goals</th>\n",
       "      <th>Expected Assists</th>\n",
       "      <th>Expected Goals + Assists</th>\n",
       "      <th>Goals per 90</th>\n",
       "      <th>Assists per 90</th>\n",
       "      <th>Goals + Assists per 90</th>\n",
       "      <th>Expected Goals per 90</th>\n",
       "      <th>Expected Assists per 90</th>\n",
       "      <th>Expected Goals + Assists per 90</th>\n",
       "    </tr>\n",
       "  </thead>\n",
       "  <tbody>\n",
       "    <tr>\n",
       "      <th>2</th>\n",
       "      <td>Ragnar Ache</td>\n",
       "      <td>de GER</td>\n",
       "      <td>FW,MF</td>\n",
       "      <td>Kaiserslautern</td>\n",
       "      <td>25-221</td>\n",
       "      <td>1998</td>\n",
       "      <td>18</td>\n",
       "      <td>1151</td>\n",
       "      <td>12</td>\n",
       "      <td>0</td>\n",
       "      <td>12</td>\n",
       "      <td>8.6</td>\n",
       "      <td>1</td>\n",
       "      <td>9.7</td>\n",
       "      <td>0.94</td>\n",
       "      <td>0</td>\n",
       "      <td>0.94</td>\n",
       "      <td>0.68</td>\n",
       "      <td>0.08</td>\n",
       "      <td>0.76</td>\n",
       "    </tr>\n",
       "    <tr>\n",
       "      <th>3</th>\n",
       "      <td>Aremu Afeez</td>\n",
       "      <td>ng NGA</td>\n",
       "      <td>MF</td>\n",
       "      <td>Kaiserslautern</td>\n",
       "      <td>24-154</td>\n",
       "      <td>1999</td>\n",
       "      <td>2</td>\n",
       "      <td>45</td>\n",
       "      <td>0</td>\n",
       "      <td>0</td>\n",
       "      <td>0</td>\n",
       "      <td>0</td>\n",
       "      <td>0</td>\n",
       "      <td>0</td>\n",
       "      <td>0</td>\n",
       "      <td>0</td>\n",
       "      <td>0</td>\n",
       "      <td>0.02</td>\n",
       "      <td>0</td>\n",
       "      <td>0.02</td>\n",
       "    </tr>\n",
       "    <tr>\n",
       "      <th>4</th>\n",
       "      <td>Oladapo Afolayan</td>\n",
       "      <td>eng ENG</td>\n",
       "      <td>FW,MF</td>\n",
       "      <td>St. Pauli</td>\n",
       "      <td>26-022</td>\n",
       "      <td>1998</td>\n",
       "      <td>24</td>\n",
       "      <td>1739</td>\n",
       "      <td>6</td>\n",
       "      <td>2</td>\n",
       "      <td>8</td>\n",
       "      <td>2.8</td>\n",
       "      <td>1.8</td>\n",
       "      <td>4.6</td>\n",
       "      <td>0.31</td>\n",
       "      <td>0.1</td>\n",
       "      <td>0.41</td>\n",
       "      <td>0.14</td>\n",
       "      <td>0.1</td>\n",
       "      <td>0.24</td>\n",
       "    </tr>\n",
       "    <tr>\n",
       "      <th>5</th>\n",
       "      <td>Nikolas Agrafiotis</td>\n",
       "      <td>nl NED</td>\n",
       "      <td>FW</td>\n",
       "      <td>Wehen</td>\n",
       "      <td>23-315</td>\n",
       "      <td>2000</td>\n",
       "      <td>3</td>\n",
       "      <td>91</td>\n",
       "      <td>0</td>\n",
       "      <td>0</td>\n",
       "      <td>0</td>\n",
       "      <td>0.4</td>\n",
       "      <td>0</td>\n",
       "      <td>0.4</td>\n",
       "      <td>0</td>\n",
       "      <td>0</td>\n",
       "      <td>0</td>\n",
       "      <td>0.39</td>\n",
       "      <td>0</td>\n",
       "      <td>0.39</td>\n",
       "    </tr>\n",
       "    <tr>\n",
       "      <th>6</th>\n",
       "      <td>Andreas Albers</td>\n",
       "      <td>dk DEN</td>\n",
       "      <td>FW</td>\n",
       "      <td>St. Pauli</td>\n",
       "      <td>33-348</td>\n",
       "      <td>1990</td>\n",
       "      <td>11</td>\n",
       "      <td>360</td>\n",
       "      <td>0</td>\n",
       "      <td>0</td>\n",
       "      <td>0</td>\n",
       "      <td>1.3</td>\n",
       "      <td>0.2</td>\n",
       "      <td>1.5</td>\n",
       "      <td>0</td>\n",
       "      <td>0</td>\n",
       "      <td>0</td>\n",
       "      <td>0.31</td>\n",
       "      <td>0.05</td>\n",
       "      <td>0.36</td>\n",
       "    </tr>\n",
       "    <tr>\n",
       "      <th>...</th>\n",
       "      <td>...</td>\n",
       "      <td>...</td>\n",
       "      <td>...</td>\n",
       "      <td>...</td>\n",
       "      <td>...</td>\n",
       "      <td>...</td>\n",
       "      <td>...</td>\n",
       "      <td>...</td>\n",
       "      <td>...</td>\n",
       "      <td>...</td>\n",
       "      <td>...</td>\n",
       "      <td>...</td>\n",
       "      <td>...</td>\n",
       "      <td>...</td>\n",
       "      <td>...</td>\n",
       "      <td>...</td>\n",
       "      <td>...</td>\n",
       "      <td>...</td>\n",
       "      <td>...</td>\n",
       "      <td>...</td>\n",
       "    </tr>\n",
       "    <tr>\n",
       "      <th>618</th>\n",
       "      <td>Jan Zuberek</td>\n",
       "      <td>pl POL</td>\n",
       "      <td>FW</td>\n",
       "      <td>Ternana</td>\n",
       "      <td>19-358</td>\n",
       "      <td>2004</td>\n",
       "      <td>1</td>\n",
       "      <td>23</td>\n",
       "      <td>0</td>\n",
       "      <td>0</td>\n",
       "      <td>0</td>\n",
       "      <td>0</td>\n",
       "      <td>0</td>\n",
       "      <td>0</td>\n",
       "      <td>0</td>\n",
       "      <td>0</td>\n",
       "      <td>0</td>\n",
       "      <td>0</td>\n",
       "      <td>0.07</td>\n",
       "      <td>0.07</td>\n",
       "    </tr>\n",
       "    <tr>\n",
       "      <th>619</th>\n",
       "      <td>Federico Zuccon</td>\n",
       "      <td>it ITA</td>\n",
       "      <td>MF</td>\n",
       "      <td>Cosenza</td>\n",
       "      <td>20-339</td>\n",
       "      <td>2003</td>\n",
       "      <td>21</td>\n",
       "      <td>1361</td>\n",
       "      <td>0</td>\n",
       "      <td>2</td>\n",
       "      <td>2</td>\n",
       "      <td>0.8</td>\n",
       "      <td>0.6</td>\n",
       "      <td>1.4</td>\n",
       "      <td>0</td>\n",
       "      <td>0.13</td>\n",
       "      <td>0.13</td>\n",
       "      <td>0.05</td>\n",
       "      <td>0.04</td>\n",
       "      <td>0.09</td>\n",
       "    </tr>\n",
       "    <tr>\n",
       "      <th>620</th>\n",
       "      <td>Szymon Żurkowski</td>\n",
       "      <td>pl POL</td>\n",
       "      <td>MF</td>\n",
       "      <td>Spezia</td>\n",
       "      <td>26-162</td>\n",
       "      <td>1997</td>\n",
       "      <td>16</td>\n",
       "      <td>636</td>\n",
       "      <td>0</td>\n",
       "      <td>1</td>\n",
       "      <td>1</td>\n",
       "      <td>0.7</td>\n",
       "      <td>1</td>\n",
       "      <td>1.6</td>\n",
       "      <td>0</td>\n",
       "      <td>0.14</td>\n",
       "      <td>0.14</td>\n",
       "      <td>0.09</td>\n",
       "      <td>0.14</td>\n",
       "      <td>0.23</td>\n",
       "    </tr>\n",
       "    <tr>\n",
       "      <th>621</th>\n",
       "      <td>Žan Žužek</td>\n",
       "      <td>si SVN</td>\n",
       "      <td>DF</td>\n",
       "      <td>Bari</td>\n",
       "      <td>27-039</td>\n",
       "      <td>1997</td>\n",
       "      <td>9</td>\n",
       "      <td>544</td>\n",
       "      <td>0</td>\n",
       "      <td>0</td>\n",
       "      <td>0</td>\n",
       "      <td>0.2</td>\n",
       "      <td>0</td>\n",
       "      <td>0.2</td>\n",
       "      <td>0</td>\n",
       "      <td>0</td>\n",
       "      <td>0</td>\n",
       "      <td>0.03</td>\n",
       "      <td>0</td>\n",
       "      <td>0.03</td>\n",
       "    </tr>\n",
       "    <tr>\n",
       "      <th>622</th>\n",
       "      <td>Jakub Łabojko</td>\n",
       "      <td>pl POL</td>\n",
       "      <td>MF</td>\n",
       "      <td>Ternana</td>\n",
       "      <td>26-154</td>\n",
       "      <td>1997</td>\n",
       "      <td>21</td>\n",
       "      <td>1288</td>\n",
       "      <td>0</td>\n",
       "      <td>1</td>\n",
       "      <td>1</td>\n",
       "      <td>0.3</td>\n",
       "      <td>1.2</td>\n",
       "      <td>1.5</td>\n",
       "      <td>0</td>\n",
       "      <td>0.07</td>\n",
       "      <td>0.07</td>\n",
       "      <td>0.02</td>\n",
       "      <td>0.08</td>\n",
       "      <td>0.1</td>\n",
       "    </tr>\n",
       "  </tbody>\n",
       "</table>\n",
       "<p>3039 rows × 20 columns</p>\n",
       "</div>"
      ],
      "text/plain": [
       "                 Player   Nation Position           Squad     Age  Born  \\\n",
       "2           Ragnar Ache   de GER    FW,MF  Kaiserslautern  25-221  1998   \n",
       "3           Aremu Afeez   ng NGA       MF  Kaiserslautern  24-154  1999   \n",
       "4      Oladapo Afolayan  eng ENG    FW,MF       St. Pauli  26-022  1998   \n",
       "5    Nikolas Agrafiotis   nl NED       FW           Wehen  23-315  2000   \n",
       "6        Andreas Albers   dk DEN       FW       St. Pauli  33-348  1990   \n",
       "..                  ...      ...      ...             ...     ...   ...   \n",
       "618         Jan Zuberek   pl POL       FW         Ternana  19-358  2004   \n",
       "619     Federico Zuccon   it ITA       MF         Cosenza  20-339  2003   \n",
       "620    Szymon Żurkowski   pl POL       MF          Spezia  26-162  1997   \n",
       "621           Žan Žužek   si SVN       DF            Bari  27-039  1997   \n",
       "622       Jakub Łabojko   pl POL       MF         Ternana  26-154  1997   \n",
       "\n",
       "    Matches Played Minutes Played Goals Assists Goals + Assists  \\\n",
       "2               18           1151    12       0              12   \n",
       "3                2             45     0       0               0   \n",
       "4               24           1739     6       2               8   \n",
       "5                3             91     0       0               0   \n",
       "6               11            360     0       0               0   \n",
       "..             ...            ...   ...     ...             ...   \n",
       "618              1             23     0       0               0   \n",
       "619             21           1361     0       2               2   \n",
       "620             16            636     0       1               1   \n",
       "621              9            544     0       0               0   \n",
       "622             21           1288     0       1               1   \n",
       "\n",
       "    Expected Goals Expected Assists Expected Goals + Assists Goals per 90  \\\n",
       "2              8.6                1                      9.7         0.94   \n",
       "3                0                0                        0            0   \n",
       "4              2.8              1.8                      4.6         0.31   \n",
       "5              0.4                0                      0.4            0   \n",
       "6              1.3              0.2                      1.5            0   \n",
       "..             ...              ...                      ...          ...   \n",
       "618              0                0                        0            0   \n",
       "619            0.8              0.6                      1.4            0   \n",
       "620            0.7                1                      1.6            0   \n",
       "621            0.2                0                      0.2            0   \n",
       "622            0.3              1.2                      1.5            0   \n",
       "\n",
       "    Assists per 90 Goals + Assists per 90 Expected Goals per 90  \\\n",
       "2                0                   0.94                  0.68   \n",
       "3                0                      0                  0.02   \n",
       "4              0.1                   0.41                  0.14   \n",
       "5                0                      0                  0.39   \n",
       "6                0                      0                  0.31   \n",
       "..             ...                    ...                   ...   \n",
       "618              0                      0                     0   \n",
       "619           0.13                   0.13                  0.05   \n",
       "620           0.14                   0.14                  0.09   \n",
       "621              0                      0                  0.03   \n",
       "622           0.07                   0.07                  0.02   \n",
       "\n",
       "    Expected Assists per 90 Expected Goals + Assists per 90  \n",
       "2                      0.08                            0.76  \n",
       "3                         0                            0.02  \n",
       "4                       0.1                            0.24  \n",
       "5                         0                            0.39  \n",
       "6                      0.05                            0.36  \n",
       "..                      ...                             ...  \n",
       "618                    0.07                            0.07  \n",
       "619                    0.04                            0.09  \n",
       "620                    0.14                            0.23  \n",
       "621                       0                            0.03  \n",
       "622                    0.08                             0.1  \n",
       "\n",
       "[3039 rows x 20 columns]"
      ]
     },
     "execution_count": 28,
     "metadata": {},
     "output_type": "execute_result"
    }
   ],
   "source": [
    "# I was unable to get filtered_dataframe to append the combined_rows dataframe.\n",
    "# .concat() might have worked, but I had already created a new dataframe when I realised.\n",
    "unique_players = filtered_dataframe[~filtered_dataframe['Player'].isin(double_names)]\n",
    "unique_players"
   ]
  },
  {
   "cell_type": "code",
   "execution_count": 29,
   "metadata": {},
   "outputs": [
    {
     "data": {
      "text/html": [
       "<div>\n",
       "<style scoped>\n",
       "    .dataframe tbody tr th:only-of-type {\n",
       "        vertical-align: middle;\n",
       "    }\n",
       "\n",
       "    .dataframe tbody tr th {\n",
       "        vertical-align: top;\n",
       "    }\n",
       "\n",
       "    .dataframe thead th {\n",
       "        text-align: right;\n",
       "    }\n",
       "</style>\n",
       "<table border=\"1\" class=\"dataframe\">\n",
       "  <thead>\n",
       "    <tr style=\"text-align: right;\">\n",
       "      <th></th>\n",
       "      <th>Player</th>\n",
       "      <th>Nation</th>\n",
       "      <th>Position</th>\n",
       "      <th>Squad</th>\n",
       "      <th>Age</th>\n",
       "      <th>Born</th>\n",
       "      <th>Matches Played</th>\n",
       "      <th>Minutes Played</th>\n",
       "      <th>Goals</th>\n",
       "      <th>Assists</th>\n",
       "      <th>Goals + Assists</th>\n",
       "      <th>Expected Goals</th>\n",
       "      <th>Expected Assists</th>\n",
       "      <th>Expected Goals + Assists</th>\n",
       "      <th>Goals per 90</th>\n",
       "      <th>Assists per 90</th>\n",
       "      <th>Goals + Assists per 90</th>\n",
       "      <th>Expected Goals per 90</th>\n",
       "      <th>Expected Assists per 90</th>\n",
       "      <th>Expected Goals + Assists per 90</th>\n",
       "    </tr>\n",
       "  </thead>\n",
       "  <tbody>\n",
       "    <tr>\n",
       "      <th>0</th>\n",
       "      <td>Abdoul Guiebre</td>\n",
       "      <td>bf BFA</td>\n",
       "      <td>DF</td>\n",
       "      <td>Modena</td>\n",
       "      <td>26-232</td>\n",
       "      <td>1997</td>\n",
       "      <td>13</td>\n",
       "      <td>474</td>\n",
       "      <td>0</td>\n",
       "      <td>0</td>\n",
       "      <td>0</td>\n",
       "      <td>0.1</td>\n",
       "      <td>0.5</td>\n",
       "      <td>0.6</td>\n",
       "      <td>0</td>\n",
       "      <td>0</td>\n",
       "      <td>0</td>\n",
       "      <td>0.02</td>\n",
       "      <td>0.11</td>\n",
       "      <td>0.13</td>\n",
       "    </tr>\n",
       "    <tr>\n",
       "      <th>1</th>\n",
       "      <td>Afonso Bastardo</td>\n",
       "      <td>pt POR</td>\n",
       "      <td>FW,DF</td>\n",
       "      <td>Gil Vicente FC</td>\n",
       "      <td>18-352</td>\n",
       "      <td>2005</td>\n",
       "      <td>5</td>\n",
       "      <td>67</td>\n",
       "      <td>0</td>\n",
       "      <td>0</td>\n",
       "      <td>0</td>\n",
       "      <td>0</td>\n",
       "      <td>0</td>\n",
       "      <td>0.1</td>\n",
       "      <td>0</td>\n",
       "      <td>0</td>\n",
       "      <td>0</td>\n",
       "      <td>0.1</td>\n",
       "      <td>0.07</td>\n",
       "      <td>0.17</td>\n",
       "    </tr>\n",
       "    <tr>\n",
       "      <th>2</th>\n",
       "      <td>Alejandro Blanco</td>\n",
       "      <td>es ESP</td>\n",
       "      <td>MF</td>\n",
       "      <td>Como</td>\n",
       "      <td>25-080</td>\n",
       "      <td>1998</td>\n",
       "      <td>7</td>\n",
       "      <td>233</td>\n",
       "      <td>0</td>\n",
       "      <td>0</td>\n",
       "      <td>0</td>\n",
       "      <td>1.1</td>\n",
       "      <td>0.3</td>\n",
       "      <td>1.4</td>\n",
       "      <td>0</td>\n",
       "      <td>0</td>\n",
       "      <td>0</td>\n",
       "      <td>0.89</td>\n",
       "      <td>0.3</td>\n",
       "      <td>1.19</td>\n",
       "    </tr>\n",
       "    <tr>\n",
       "      <th>3</th>\n",
       "      <td>Alessio Castro-Montes</td>\n",
       "      <td>be BEL</td>\n",
       "      <td>DF,MF</td>\n",
       "      <td>Union SG</td>\n",
       "      <td>26-293</td>\n",
       "      <td>1997</td>\n",
       "      <td>23</td>\n",
       "      <td>1760</td>\n",
       "      <td>2</td>\n",
       "      <td>2</td>\n",
       "      <td>4</td>\n",
       "      <td>0.4</td>\n",
       "      <td>2.3</td>\n",
       "      <td>2.8</td>\n",
       "      <td>0.11</td>\n",
       "      <td>0.11</td>\n",
       "      <td>0.21</td>\n",
       "      <td>0.02</td>\n",
       "      <td>0.18</td>\n",
       "      <td>0.21</td>\n",
       "    </tr>\n",
       "    <tr>\n",
       "      <th>4</th>\n",
       "      <td>Aleš Matějů</td>\n",
       "      <td>cz CZE</td>\n",
       "      <td>DF</td>\n",
       "      <td>Palermo</td>\n",
       "      <td>27-276</td>\n",
       "      <td>1996</td>\n",
       "      <td>24</td>\n",
       "      <td>1991</td>\n",
       "      <td>1</td>\n",
       "      <td>0</td>\n",
       "      <td>1</td>\n",
       "      <td>0.7</td>\n",
       "      <td>0.9</td>\n",
       "      <td>1.5</td>\n",
       "      <td>0.14</td>\n",
       "      <td>0</td>\n",
       "      <td>0.14</td>\n",
       "      <td>0.08</td>\n",
       "      <td>0.09</td>\n",
       "      <td>0.17</td>\n",
       "    </tr>\n",
       "    <tr>\n",
       "      <th>...</th>\n",
       "      <td>...</td>\n",
       "      <td>...</td>\n",
       "      <td>...</td>\n",
       "      <td>...</td>\n",
       "      <td>...</td>\n",
       "      <td>...</td>\n",
       "      <td>...</td>\n",
       "      <td>...</td>\n",
       "      <td>...</td>\n",
       "      <td>...</td>\n",
       "      <td>...</td>\n",
       "      <td>...</td>\n",
       "      <td>...</td>\n",
       "      <td>...</td>\n",
       "      <td>...</td>\n",
       "      <td>...</td>\n",
       "      <td>...</td>\n",
       "      <td>...</td>\n",
       "      <td>...</td>\n",
       "      <td>...</td>\n",
       "    </tr>\n",
       "    <tr>\n",
       "      <th>3159</th>\n",
       "      <td>Jan Zuberek</td>\n",
       "      <td>pl POL</td>\n",
       "      <td>FW</td>\n",
       "      <td>Ternana</td>\n",
       "      <td>19-358</td>\n",
       "      <td>2004</td>\n",
       "      <td>1</td>\n",
       "      <td>23</td>\n",
       "      <td>0</td>\n",
       "      <td>0</td>\n",
       "      <td>0</td>\n",
       "      <td>0</td>\n",
       "      <td>0</td>\n",
       "      <td>0</td>\n",
       "      <td>0</td>\n",
       "      <td>0</td>\n",
       "      <td>0</td>\n",
       "      <td>0</td>\n",
       "      <td>0.07</td>\n",
       "      <td>0.07</td>\n",
       "    </tr>\n",
       "    <tr>\n",
       "      <th>3160</th>\n",
       "      <td>Federico Zuccon</td>\n",
       "      <td>it ITA</td>\n",
       "      <td>MF</td>\n",
       "      <td>Cosenza</td>\n",
       "      <td>20-339</td>\n",
       "      <td>2003</td>\n",
       "      <td>21</td>\n",
       "      <td>1361</td>\n",
       "      <td>0</td>\n",
       "      <td>2</td>\n",
       "      <td>2</td>\n",
       "      <td>0.8</td>\n",
       "      <td>0.6</td>\n",
       "      <td>1.4</td>\n",
       "      <td>0</td>\n",
       "      <td>0.13</td>\n",
       "      <td>0.13</td>\n",
       "      <td>0.05</td>\n",
       "      <td>0.04</td>\n",
       "      <td>0.09</td>\n",
       "    </tr>\n",
       "    <tr>\n",
       "      <th>3161</th>\n",
       "      <td>Szymon Żurkowski</td>\n",
       "      <td>pl POL</td>\n",
       "      <td>MF</td>\n",
       "      <td>Spezia</td>\n",
       "      <td>26-162</td>\n",
       "      <td>1997</td>\n",
       "      <td>16</td>\n",
       "      <td>636</td>\n",
       "      <td>0</td>\n",
       "      <td>1</td>\n",
       "      <td>1</td>\n",
       "      <td>0.7</td>\n",
       "      <td>1</td>\n",
       "      <td>1.6</td>\n",
       "      <td>0</td>\n",
       "      <td>0.14</td>\n",
       "      <td>0.14</td>\n",
       "      <td>0.09</td>\n",
       "      <td>0.14</td>\n",
       "      <td>0.23</td>\n",
       "    </tr>\n",
       "    <tr>\n",
       "      <th>3162</th>\n",
       "      <td>Žan Žužek</td>\n",
       "      <td>si SVN</td>\n",
       "      <td>DF</td>\n",
       "      <td>Bari</td>\n",
       "      <td>27-039</td>\n",
       "      <td>1997</td>\n",
       "      <td>9</td>\n",
       "      <td>544</td>\n",
       "      <td>0</td>\n",
       "      <td>0</td>\n",
       "      <td>0</td>\n",
       "      <td>0.2</td>\n",
       "      <td>0</td>\n",
       "      <td>0.2</td>\n",
       "      <td>0</td>\n",
       "      <td>0</td>\n",
       "      <td>0</td>\n",
       "      <td>0.03</td>\n",
       "      <td>0</td>\n",
       "      <td>0.03</td>\n",
       "    </tr>\n",
       "    <tr>\n",
       "      <th>3163</th>\n",
       "      <td>Jakub Łabojko</td>\n",
       "      <td>pl POL</td>\n",
       "      <td>MF</td>\n",
       "      <td>Ternana</td>\n",
       "      <td>26-154</td>\n",
       "      <td>1997</td>\n",
       "      <td>21</td>\n",
       "      <td>1288</td>\n",
       "      <td>0</td>\n",
       "      <td>1</td>\n",
       "      <td>1</td>\n",
       "      <td>0.3</td>\n",
       "      <td>1.2</td>\n",
       "      <td>1.5</td>\n",
       "      <td>0</td>\n",
       "      <td>0.07</td>\n",
       "      <td>0.07</td>\n",
       "      <td>0.02</td>\n",
       "      <td>0.08</td>\n",
       "      <td>0.1</td>\n",
       "    </tr>\n",
       "  </tbody>\n",
       "</table>\n",
       "<p>3164 rows × 20 columns</p>\n",
       "</div>"
      ],
      "text/plain": [
       "                     Player  Nation Position           Squad     Age  Born  \\\n",
       "0            Abdoul Guiebre  bf BFA       DF          Modena  26-232  1997   \n",
       "1           Afonso Bastardo  pt POR    FW,DF  Gil Vicente FC  18-352  2005   \n",
       "2          Alejandro Blanco  es ESP       MF            Como  25-080  1998   \n",
       "3     Alessio Castro-Montes  be BEL    DF,MF        Union SG  26-293  1997   \n",
       "4               Aleš Matějů  cz CZE       DF         Palermo  27-276  1996   \n",
       "...                     ...     ...      ...             ...     ...   ...   \n",
       "3159            Jan Zuberek  pl POL       FW         Ternana  19-358  2004   \n",
       "3160        Federico Zuccon  it ITA       MF         Cosenza  20-339  2003   \n",
       "3161       Szymon Żurkowski  pl POL       MF          Spezia  26-162  1997   \n",
       "3162              Žan Žužek  si SVN       DF            Bari  27-039  1997   \n",
       "3163          Jakub Łabojko  pl POL       MF         Ternana  26-154  1997   \n",
       "\n",
       "     Matches Played Minutes Played Goals Assists Goals + Assists  \\\n",
       "0                13            474     0       0               0   \n",
       "1                 5             67     0       0               0   \n",
       "2                 7            233     0       0               0   \n",
       "3                23           1760     2       2               4   \n",
       "4                24           1991     1       0               1   \n",
       "...             ...            ...   ...     ...             ...   \n",
       "3159              1             23     0       0               0   \n",
       "3160             21           1361     0       2               2   \n",
       "3161             16            636     0       1               1   \n",
       "3162              9            544     0       0               0   \n",
       "3163             21           1288     0       1               1   \n",
       "\n",
       "     Expected Goals Expected Assists Expected Goals + Assists Goals per 90  \\\n",
       "0               0.1              0.5                      0.6            0   \n",
       "1                 0                0                      0.1            0   \n",
       "2               1.1              0.3                      1.4            0   \n",
       "3               0.4              2.3                      2.8         0.11   \n",
       "4               0.7              0.9                      1.5         0.14   \n",
       "...             ...              ...                      ...          ...   \n",
       "3159              0                0                        0            0   \n",
       "3160            0.8              0.6                      1.4            0   \n",
       "3161            0.7                1                      1.6            0   \n",
       "3162            0.2                0                      0.2            0   \n",
       "3163            0.3              1.2                      1.5            0   \n",
       "\n",
       "     Assists per 90 Goals + Assists per 90 Expected Goals per 90  \\\n",
       "0                 0                      0                  0.02   \n",
       "1                 0                      0                   0.1   \n",
       "2                 0                      0                  0.89   \n",
       "3              0.11                   0.21                  0.02   \n",
       "4                 0                   0.14                  0.08   \n",
       "...             ...                    ...                   ...   \n",
       "3159              0                      0                     0   \n",
       "3160           0.13                   0.13                  0.05   \n",
       "3161           0.14                   0.14                  0.09   \n",
       "3162              0                      0                  0.03   \n",
       "3163           0.07                   0.07                  0.02   \n",
       "\n",
       "     Expected Assists per 90 Expected Goals + Assists per 90  \n",
       "0                       0.11                            0.13  \n",
       "1                       0.07                            0.17  \n",
       "2                        0.3                            1.19  \n",
       "3                       0.18                            0.21  \n",
       "4                       0.09                            0.17  \n",
       "...                      ...                             ...  \n",
       "3159                    0.07                            0.07  \n",
       "3160                    0.04                            0.09  \n",
       "3161                    0.14                            0.23  \n",
       "3162                       0                            0.03  \n",
       "3163                    0.08                             0.1  \n",
       "\n",
       "[3164 rows x 20 columns]"
      ]
     },
     "execution_count": 29,
     "metadata": {},
     "output_type": "execute_result"
    }
   ],
   "source": [
    "# Here I am creating a new dataframe that combines the unique players with the combined rows of duplicate players.\n",
    "# This is therefore the concatenation of two dataframes that are both unique (i.e. without duplicate names).\n",
    "cleaned_dataframe = pd.concat([combined_rows, unique_players], axis=0, ignore_index=True)\n",
    "cleaned_dataframe"
   ]
  },
  {
   "cell_type": "code",
   "execution_count": 30,
   "metadata": {},
   "outputs": [
    {
     "name": "stdout",
     "output_type": "stream",
     "text": [
      "0\n"
     ]
    }
   ],
   "source": [
    "# Double-checking if there are any duplicated names in the cleaned_dataframe\n",
    "player_counts = cleaned_dataframe.groupby('Player').size()\n",
    "double_names = player_counts[player_counts >= 2]\n",
    "print(double_names.count())"
   ]
  },
  {
   "cell_type": "markdown",
   "metadata": {},
   "source": [
    "### Checking for Null Values"
   ]
  },
  {
   "cell_type": "code",
   "execution_count": 31,
   "metadata": {},
   "outputs": [
    {
     "name": "stdout",
     "output_type": "stream",
     "text": [
      "Player                              0\n",
      "Nation                              9\n",
      "Position                            0\n",
      "Squad                               0\n",
      "Age                                 3\n",
      "Born                                3\n",
      "Matches Played                      0\n",
      "Minutes Played                      0\n",
      "Goals                               0\n",
      "Assists                             0\n",
      "Goals + Assists                     0\n",
      "Expected Goals                     41\n",
      "Expected Assists                   41\n",
      "Expected Goals + Assists           41\n",
      "Goals per 90                        0\n",
      "Assists per 90                      0\n",
      "Goals + Assists per 90              0\n",
      "Expected Goals per 90              41\n",
      "Expected Assists per 90            41\n",
      "Expected Goals + Assists per 90    41\n",
      "dtype: int64\n"
     ]
    }
   ],
   "source": [
    "# Checking if there are any nulls in the cleaned_dataframe\n",
    "null_row_count = cleaned_dataframe.isnull().sum()\n",
    "print(null_row_count)"
   ]
  },
  {
   "cell_type": "code",
   "execution_count": 32,
   "metadata": {},
   "outputs": [
    {
     "name": "stdout",
     "output_type": "stream",
     "text": [
      "                        Player Position\n",
      "183            Niklas Castelle       FW\n",
      "270          Sveinn Guðjohnsen       FW\n",
      "296             Jannik Hofmann       DF\n",
      "462                Eren Öztürk       MF\n",
      "548        Anssi Tapio Suhonen       MF\n",
      "618               Isaac Asante       MF\n",
      "641           Nadhir Benbouali       FW\n",
      "746              Matija Frigan       FW\n",
      "793      Abdoul Kader Ouattara       FW\n",
      "794       Abdoul Kader Yaméogo       DF\n",
      "800                 Fatih Kaya       FW\n",
      "838              Théo Maréchal       MF\n",
      "844                Pathé Mboup       FW\n",
      "926       Abdoul Rachid Ayinde       DF\n",
      "1048  Elhadj Abdourahamane Bah       FW\n",
      "1101            Julien Benhaim       MF\n",
      "1127             Ismael Bouneb       MF\n",
      "1238               Didi Gaucho       MF\n",
      "1323                Wakis Koré       DF\n",
      "1373               Stone Mambo       DF\n",
      "1446             Tuomas Ollila       DF\n",
      "1454           Mohamed Ouhatti       MF\n",
      "1456        Pape Ousmane Sakho       FW\n",
      "1530      Ibrahima Sory Diallo       FW\n",
      "1577              Julien Vetro       FW\n",
      "1607          Fabrício Andrade       MF\n",
      "1696        Florian Danho Seke       FW\n",
      "1819            Julien Lomboto       MF\n",
      "1894                     Nlavo       FW\n",
      "2089              Rodri Alonso       MF\n",
      "2113            Ayman Arguigue       FW\n",
      "2234              Dani Esmorís       DF\n",
      "2238             Marco Esteban       DF\n",
      "2265              Iñigo García       FW\n",
      "2267             Juanma García    FW,MF\n",
      "2303           Pablo Hernández       MF\n",
      "2361          Alejandro Lozano    MF,DF\n",
      "2533              Juan Sabater       MF\n",
      "2561    Francho Serrano Gracia       MF\n",
      "2628              Fabio Abiuso       FW\n",
      "2697           Gabriele Boloca       DF\n",
      "2706             Gjyla Briajan       FW\n",
      "2753         Attys Christopher       MF\n",
      "2776           Alessio da Cruz       FW\n",
      "2850         Tommaso Fumagalli       FW\n",
      "2942           Kristoffer Lund       DF\n",
      "2954             Doudou Mangni       FW\n",
      "3087          Yehiya Silvestri       MF\n",
      "3093           Dimitris Sounas    FW,MF\n"
     ]
    }
   ],
   "source": [
    "null_rows = cleaned_dataframe[cleaned_dataframe.isnull().any(axis=1)]\n",
    "print(null_rows[['Player', 'Position']])"
   ]
  },
  {
   "cell_type": "code",
   "execution_count": 33,
   "metadata": {},
   "outputs": [
    {
     "name": "stdout",
     "output_type": "stream",
     "text": [
      "Player                             0\n",
      "Nation                             0\n",
      "Position                           0\n",
      "Squad                              0\n",
      "Age                                0\n",
      "Born                               0\n",
      "Matches Played                     0\n",
      "Minutes Played                     0\n",
      "Goals                              0\n",
      "Assists                            0\n",
      "Goals + Assists                    0\n",
      "Expected Goals                     0\n",
      "Expected Assists                   0\n",
      "Expected Goals + Assists           0\n",
      "Goals per 90                       0\n",
      "Assists per 90                     0\n",
      "Goals + Assists per 90             0\n",
      "Expected Goals per 90              0\n",
      "Expected Assists per 90            0\n",
      "Expected Goals + Assists per 90    0\n",
      "dtype: int64\n"
     ]
    },
    {
     "name": "stderr",
     "output_type": "stream",
     "text": [
      "/var/folders/7_/1sj7vc495_z4fzf1l_tpnznc0000gn/T/ipykernel_54263/1816055127.py:1: FutureWarning: Downcasting object dtype arrays on .fillna, .ffill, .bfill is deprecated and will change in a future version. Call result.infer_objects(copy=False) instead. To opt-in to the future behavior, set `pd.set_option('future.no_silent_downcasting', True)`\n",
      "  cleaned_dataframe = cleaned_dataframe.fillna(0)\n"
     ]
    }
   ],
   "source": [
    "cleaned_dataframe = cleaned_dataframe.fillna(0)\n",
    "print(cleaned_dataframe.isnull().sum())"
   ]
  },
  {
   "cell_type": "markdown",
   "metadata": {},
   "source": [
    "This has not given much information. I expected it to return only goalkeepers, but there are numerous outfield players included. There are only 41 instances with a null value present, so it does not interfere. \n",
    "\n",
    "I am filling in the null values with 0 - this will enable the filters that I use later. Any players that have 0 for the tested metrics will not be included anyway."
   ]
  },
  {
   "cell_type": "markdown",
   "metadata": {},
   "source": [
    "### Filtering for Strikers\n",
    "Now I am going to continue filtering this dataframe to create the 'strikers_dataframe'. This will remove the goalkeepers, defenders (various positions), and also remove outfield players who have not been on the field in at least 50% of matches. \n",
    "\n",
    "As of mid-March 2024, a quick check shows that (depending on the league), all of the teams have played between roughly 25-30 matches. A rough estimate will suffice for this particular metric, so I'll go for 12 matches (the lower end) to avoid missing players."
   ]
  },
  {
   "cell_type": "code",
   "execution_count": 34,
   "metadata": {},
   "outputs": [
    {
     "name": "stdout",
     "output_type": "stream",
     "text": [
      "0        True\n",
      "1       False\n",
      "2       False\n",
      "3        True\n",
      "4        True\n",
      "        ...  \n",
      "3159    False\n",
      "3160     True\n",
      "3161     True\n",
      "3162    False\n",
      "3163     True\n",
      "Name: Matches Played, Length: 3164, dtype: bool\n"
     ]
    }
   ],
   "source": [
    "# Creating a new dataframe (from cleaned_dataframe) that only contains the columns that I am interested in.\n",
    "cleaned_dataframe['Matches Played'] = pd.to_numeric(cleaned_dataframe['Matches Played'], errors='coerce')\n",
    "matches_played = cleaned_dataframe['Matches Played'] >= 13\n",
    "print(matches_played)"
   ]
  },
  {
   "cell_type": "code",
   "execution_count": 35,
   "metadata": {},
   "outputs": [
    {
     "name": "stdout",
     "output_type": "stream",
     "text": [
      "bool\n"
     ]
    }
   ],
   "source": [
    "# Checking that the matches_played variable is numeric and producing a boolean True or False.\n",
    "print(matches_played.dtypes)\n"
   ]
  },
  {
   "cell_type": "code",
   "execution_count": 36,
   "metadata": {},
   "outputs": [
    {
     "name": "stdout",
     "output_type": "stream",
     "text": [
      "0       False\n",
      "1        True\n",
      "2        True\n",
      "3        True\n",
      "4       False\n",
      "        ...  \n",
      "3159     True\n",
      "3160     True\n",
      "3161     True\n",
      "3162    False\n",
      "3163     True\n",
      "Name: Position, Length: 3164, dtype: bool\n"
     ]
    }
   ],
   "source": [
    "# Creating a variable to hold the attacking players and checking that it is producing a boolean True or False.\n",
    "attacking_player = cleaned_dataframe['Position'].str.contains('FW|MF')\n",
    "print(attacking_player)\n"
   ]
  },
  {
   "cell_type": "code",
   "execution_count": 37,
   "metadata": {},
   "outputs": [
    {
     "name": "stdout",
     "output_type": "stream",
     "text": [
      "Player                             1060\n",
      "Nation                             1060\n",
      "Position                           1060\n",
      "Squad                              1060\n",
      "Age                                1060\n",
      "Born                               1060\n",
      "Matches Played                     1060\n",
      "Minutes Played                     1060\n",
      "Goals                              1060\n",
      "Assists                            1060\n",
      "Goals + Assists                    1060\n",
      "Expected Goals                     1060\n",
      "Expected Assists                   1060\n",
      "Expected Goals + Assists           1060\n",
      "Goals per 90                       1060\n",
      "Assists per 90                     1060\n",
      "Goals + Assists per 90             1060\n",
      "Expected Goals per 90              1060\n",
      "Expected Assists per 90            1060\n",
      "Expected Goals + Assists per 90    1060\n",
      "dtype: int64\n"
     ]
    }
   ],
   "source": [
    "# Creating a new dataframe to filter with these variables and find only those attacking players who have played in roughly half of their team's games.\n",
    "striker_dataframe = cleaned_dataframe[attacking_player & matches_played]\n",
    "striker_dataframe = striker_dataframe[~striker_dataframe['Position'].str.contains('DF')]\n",
    "print(striker_dataframe.count())\n"
   ]
  },
  {
   "cell_type": "code",
   "execution_count": 38,
   "metadata": {},
   "outputs": [
    {
     "data": {
      "text/html": [
       "<div>\n",
       "<style scoped>\n",
       "    .dataframe tbody tr th:only-of-type {\n",
       "        vertical-align: middle;\n",
       "    }\n",
       "\n",
       "    .dataframe tbody tr th {\n",
       "        vertical-align: top;\n",
       "    }\n",
       "\n",
       "    .dataframe thead th {\n",
       "        text-align: right;\n",
       "    }\n",
       "</style>\n",
       "<table border=\"1\" class=\"dataframe\">\n",
       "  <thead>\n",
       "    <tr style=\"text-align: right;\">\n",
       "      <th></th>\n",
       "      <th>Player</th>\n",
       "      <th>Nation</th>\n",
       "      <th>Position</th>\n",
       "      <th>Squad</th>\n",
       "      <th>Age</th>\n",
       "      <th>Born</th>\n",
       "      <th>Matches Played</th>\n",
       "      <th>Minutes Played</th>\n",
       "      <th>Goals</th>\n",
       "      <th>Assists</th>\n",
       "      <th>Goals + Assists</th>\n",
       "      <th>Expected Goals</th>\n",
       "      <th>Expected Assists</th>\n",
       "      <th>Expected Goals + Assists</th>\n",
       "      <th>Goals per 90</th>\n",
       "      <th>Assists per 90</th>\n",
       "      <th>Goals + Assists per 90</th>\n",
       "      <th>Expected Goals per 90</th>\n",
       "      <th>Expected Assists per 90</th>\n",
       "      <th>Expected Goals + Assists per 90</th>\n",
       "    </tr>\n",
       "  </thead>\n",
       "  <tbody>\n",
       "    <tr>\n",
       "      <th>9</th>\n",
       "      <td>Andrés Martín</td>\n",
       "      <td>es ESP</td>\n",
       "      <td>FW,MF</td>\n",
       "      <td>Racing Sant</td>\n",
       "      <td>24-238</td>\n",
       "      <td>1999</td>\n",
       "      <td>27</td>\n",
       "      <td>1820</td>\n",
       "      <td>4</td>\n",
       "      <td>2</td>\n",
       "      <td>6</td>\n",
       "      <td>3.3</td>\n",
       "      <td>2.8</td>\n",
       "      <td>6.2</td>\n",
       "      <td>0.34</td>\n",
       "      <td>0.17</td>\n",
       "      <td>0.51</td>\n",
       "      <td>0.27</td>\n",
       "      <td>0.25</td>\n",
       "      <td>0.53</td>\n",
       "    </tr>\n",
       "    <tr>\n",
       "      <th>13</th>\n",
       "      <td>Antonino La Gumina</td>\n",
       "      <td>it ITA</td>\n",
       "      <td>FW</td>\n",
       "      <td>Sampdoria</td>\n",
       "      <td>27-365</td>\n",
       "      <td>1996</td>\n",
       "      <td>17</td>\n",
       "      <td>687</td>\n",
       "      <td>2</td>\n",
       "      <td>0</td>\n",
       "      <td>2</td>\n",
       "      <td>2.0</td>\n",
       "      <td>0.0</td>\n",
       "      <td>1.2</td>\n",
       "      <td>0.47</td>\n",
       "      <td>0.00</td>\n",
       "      <td>0.47</td>\n",
       "      <td>0.49</td>\n",
       "      <td>0.00</td>\n",
       "      <td>0.49</td>\n",
       "    </tr>\n",
       "    <tr>\n",
       "      <th>14</th>\n",
       "      <td>Arana</td>\n",
       "      <td>es ESP</td>\n",
       "      <td>FW</td>\n",
       "      <td>Racing Sant</td>\n",
       "      <td>24-026</td>\n",
       "      <td>2000</td>\n",
       "      <td>25</td>\n",
       "      <td>1418</td>\n",
       "      <td>9</td>\n",
       "      <td>1</td>\n",
       "      <td>10</td>\n",
       "      <td>6.8</td>\n",
       "      <td>0.7</td>\n",
       "      <td>7.5</td>\n",
       "      <td>0.57</td>\n",
       "      <td>0.06</td>\n",
       "      <td>0.64</td>\n",
       "      <td>0.43</td>\n",
       "      <td>0.04</td>\n",
       "      <td>0.48</td>\n",
       "    </tr>\n",
       "    <tr>\n",
       "      <th>15</th>\n",
       "      <td>Arnau Ortiz</td>\n",
       "      <td>es ESP</td>\n",
       "      <td>MF,FW</td>\n",
       "      <td>Eldense</td>\n",
       "      <td>22-128</td>\n",
       "      <td>2001</td>\n",
       "      <td>16</td>\n",
       "      <td>510</td>\n",
       "      <td>0</td>\n",
       "      <td>1</td>\n",
       "      <td>1</td>\n",
       "      <td>0.7</td>\n",
       "      <td>0.2</td>\n",
       "      <td>1.0</td>\n",
       "      <td>0.00</td>\n",
       "      <td>0.40</td>\n",
       "      <td>0.40</td>\n",
       "      <td>0.27</td>\n",
       "      <td>0.09</td>\n",
       "      <td>0.37</td>\n",
       "    </tr>\n",
       "    <tr>\n",
       "      <th>16</th>\n",
       "      <td>Aurélien Scheidler</td>\n",
       "      <td>fr FRA</td>\n",
       "      <td>FW</td>\n",
       "      <td>Bari</td>\n",
       "      <td>25-275</td>\n",
       "      <td>1998</td>\n",
       "      <td>24</td>\n",
       "      <td>1231</td>\n",
       "      <td>4</td>\n",
       "      <td>0</td>\n",
       "      <td>4</td>\n",
       "      <td>4.6</td>\n",
       "      <td>0.9</td>\n",
       "      <td>4.6</td>\n",
       "      <td>0.32</td>\n",
       "      <td>0.00</td>\n",
       "      <td>0.32</td>\n",
       "      <td>0.48</td>\n",
       "      <td>0.13</td>\n",
       "      <td>0.61</td>\n",
       "    </tr>\n",
       "  </tbody>\n",
       "</table>\n",
       "</div>"
      ],
      "text/plain": [
       "                Player  Nation Position        Squad     Age  Born  \\\n",
       "9        Andrés Martín  es ESP    FW,MF  Racing Sant  24-238  1999   \n",
       "13  Antonino La Gumina  it ITA       FW    Sampdoria  27-365  1996   \n",
       "14               Arana  es ESP       FW  Racing Sant  24-026  2000   \n",
       "15         Arnau Ortiz  es ESP    MF,FW      Eldense  22-128  2001   \n",
       "16  Aurélien Scheidler  fr FRA       FW         Bari  25-275  1998   \n",
       "\n",
       "    Matches Played  Minutes Played  Goals  Assists  Goals + Assists  \\\n",
       "9               27            1820      4        2                6   \n",
       "13              17             687      2        0                2   \n",
       "14              25            1418      9        1               10   \n",
       "15              16             510      0        1                1   \n",
       "16              24            1231      4        0                4   \n",
       "\n",
       "    Expected Goals  Expected Assists  Expected Goals + Assists  Goals per 90  \\\n",
       "9              3.3               2.8                       6.2          0.34   \n",
       "13             2.0               0.0                       1.2          0.47   \n",
       "14             6.8               0.7                       7.5          0.57   \n",
       "15             0.7               0.2                       1.0          0.00   \n",
       "16             4.6               0.9                       4.6          0.32   \n",
       "\n",
       "    Assists per 90  Goals + Assists per 90  Expected Goals per 90  \\\n",
       "9             0.17                    0.51                   0.27   \n",
       "13            0.00                    0.47                   0.49   \n",
       "14            0.06                    0.64                   0.43   \n",
       "15            0.40                    0.40                   0.27   \n",
       "16            0.00                    0.32                   0.48   \n",
       "\n",
       "    Expected Assists per 90  Expected Goals + Assists per 90  \n",
       "9                      0.25                             0.53  \n",
       "13                     0.00                             0.49  \n",
       "14                     0.04                             0.48  \n",
       "15                     0.09                             0.37  \n",
       "16                     0.13                             0.61  "
      ]
     },
     "execution_count": 38,
     "metadata": {},
     "output_type": "execute_result"
    }
   ],
   "source": [
    "striker_dataframe.head()"
   ]
  },
  {
   "cell_type": "code",
   "execution_count": 39,
   "metadata": {},
   "outputs": [
    {
     "data": {
      "image/png": "[encoded data removed]",
      "text/plain": [
       "<Figure size 640x480 with 1 Axes>"
      ]
     },
     "metadata": {},
     "output_type": "display_data"
    }
   ],
   "source": [
    "import matplotlib.pyplot as plt\n",
    "import plotly.express as px\n",
    "\n",
    "striker_dataframe['Matches Played'].plot.hist(bins=20)\n",
    "plt.xlabel('Matches Played')\n",
    "plt.ylabel('Frequency')\n",
    "plt.title('Number of Matches Played by Attacking Players')\n",
    "plt.show()"
   ]
  },
  {
   "cell_type": "code",
   "execution_count": 40,
   "metadata": {},
   "outputs": [
    {
     "name": "stdout",
     "output_type": "stream",
     "text": [
      "Average number of matches played by players in the striker dataframe is: 21.161320754716982\n"
     ]
    }
   ],
   "source": [
    "print(f\"Average number of matches played by players in the striker dataframe is: {striker_dataframe['Matches Played'].mean()}\")"
   ]
  },
  {
   "cell_type": "code",
   "execution_count": 41,
   "metadata": {},
   "outputs": [
    {
     "data": {
      "application/vnd.plotly.v1+json": {
       "config": {
        "plotlyServerURL": "https://plot.ly"
       },
       "data": [
        {
         "customdata": [
          [
           "Andrés Martín"
          ],
          [
           "Antonino La Gumina"
          ],
          [
           "Arana"
          ],
          [
           "Arnau Ortiz"
          ],
          [
           "Aurélien Scheidler"
          ],
          [
           "Ba-Muaka Simakala"
          ],
          [
           "Bruno Xavier Almeida Costa"
          ],
          [
           "Cesar Falletti"
          ],
          [
           "Chiquinho"
          ],
          [
           "Dani Escriche"
          ],
          [
           "Dauda Mohammed"
          ],
          [
           "Dennis Johnsen"
          ],
          [
           "Diego Falcinelli"
          ],
          [
           "Eddie Salcedo"
          ],
          [
           "Elady Zorrilla"
          ],
          [
           "Ettore Gliozzi"
          ],
          [
           "Federico Dionisi"
          ],
          [
           "Fidel"
          ],
          [
           "Florian Tardieu"
          ],
          [
           "Francesco Forte"
          ],
          [
           "Gabriel Lunetta"
          ],
          [
           "Gaëtan Charbonnier"
          ],
          [
           "Gaëtan Courtet"
          ],
          [
           "Giacomo Manzari"
          ],
          [
           "Joni Montiel"
          ],
          [
           "Jovanny Bolívar"
          ],
          [
           "Kalidou Sidibé"
          ],
          [
           "Kapitbafan Djoco"
          ],
          [
           "Lauti"
          ],
          [
           "Lorenzo Di Stefano"
          ],
          [
           "Luismi"
          ],
          [
           "Mamadou Fofana"
          ],
          [
           "Mamadou Sylla"
          ],
          [
           "Mandela Keita"
          ],
          [
           "Mateus Fernandes"
          ],
          [
           "Mats Rits"
          ],
          [
           "Matteo Stoppa"
          ],
          [
           "Miguel"
          ],
          [
           "Mirko Antonucci"
          ],
          [
           "Mounaim El Idrissy"
          ],
          [
           "Nacho"
          ],
          [
           "Nicholas Bonfanti"
          ],
          [
           "Nieto"
          ],
          [
           "Norman Bassette"
          ],
          [
           "Nuno Gonçalo Moreira"
          ],
          [
           "Nuno Santos"
          ],
          [
           "Ousmane Camara"
          ],
          [
           "Paulinho"
          ],
          [
           "Pedro Mendes"
          ],
          [
           "Pere Milla"
          ],
          [
           "Roko Baturina"
          ],
          [
           "Sacha Banse"
          ],
          [
           "Sergio Bermejo"
          ],
          [
           "Sergio León"
          ],
          [
           "Ugo Bonnet"
          ],
          [
           "Victor Lobry"
          ],
          [
           "Vittorio Parigini"
          ],
          [
           "Yanis Rahmani"
          ],
          [
           "Yohan Demoncy"
          ],
          [
           "Ádám Nagy"
          ],
          [
           "Álex López"
          ],
          [
           "Úmaro Embaló"
          ],
          [
           "Ragnar Ache"
          ],
          [
           "Oladapo Afolayan"
          ],
          [
           "Xavier Amaechi"
          ],
          [
           "Etienne Amenyido"
          ],
          [
           "Ilyas Ansah"
          ],
          [
           "Shinta Appelkamp"
          ],
          [
           "Barış Atik"
          ],
          [
           "Nick Bätzner"
          ],
          [
           "László Bénes"
          ],
          [
           "Filip Bilbija"
          ],
          [
           "Andreas Bouchalakis"
          ],
          [
           "Terrence Boyd"
          ],
          [
           "Júnior Brumado"
          ],
          [
           "Dženis Burnić"
          ],
          [
           "Luc Castaignos"
          ],
          [
           "Jens Castrop"
          ],
          [
           "Jason Ceka"
          ],
          [
           "Max Christiansen"
          ],
          [
           "Amara Conde"
          ],
          [
           "Christian Conteh"
          ],
          [
           "Sirlord Conteh"
          ],
          [
           "Mickaël Cuisance"
          ],
          [
           "Palkó Dárdai"
          ],
          [
           "Jean-Luc Dompé"
          ],
          [
           "Dennis Dressel"
          ],
          [
           "Johannes Eggestein"
          ],
          [
           "Erik Engelhardt"
          ],
          [
           "Yannik Engelhardt"
          ],
          [
           "Sebastian Ernst"
          ],
          [
           "Gino Fechner"
          ],
          [
           "Manuel Feil"
          ],
          [
           "Florian Flick"
          ],
          [
           "Hólmbert Friðjónsson"
          ],
          [
           "Kianz Froese"
          ],
          [
           "Robert Glatzel"
          ],
          [
           "Dave Gnaase"
          ],
          [
           "Benjamin Goller"
          ],
          [
           "Johan Gomez"
          ],
          [
           "Jérôme Gondorf"
          ],
          [
           "Julian Green"
          ],
          [
           "Adriano Grimaldi"
          ],
          [
           "Mattes Hansen"
          ],
          [
           "Daniel Hanslik"
          ],
          [
           "Marcel Hartel"
          ],
          [
           "Daichi Hayashi"
          ],
          [
           "Robin Heußer"
          ],
          [
           "Lewis Holtby"
          ],
          [
           "Branimir Hrgota"
          ],
          [
           "Lee Hyunju"
          ],
          [
           "Svante Ingelsson"
          ],
          [
           "John Iredale"
          ],
          [
           "Jackson Irvine"
          ],
          [
           "Tatsuya Ito"
          ],
          [
           "Bjarke Jacobsen"
          ],
          [
           "Thore Jacobsen"
          ],
          [
           "Bakery Jatta"
          ],
          [
           "Leon Jensen"
          ],
          [
           "Þórir Jóhann Helgason"
          ],
          [
           "Ísak Jóhannesson"
          ],
          [
           "Kenan Karaman"
          ],
          [
           "Fabio Kaufmann"
          ],
          [
           "Christian Kinsombi"
          ],
          [
           "Sebastian Klaas"
          ],
          [
           "Felix Klaus"
          ],
          [
           "Kai Klefisch"
          ],
          [
           "Ransford Königsdörffer"
          ],
          [
           "Franko Kovačević"
          ],
          [
           "Robin Krauße"
          ],
          [
           "Florian Krüger"
          ],
          [
           "Fabian Kunze"
          ],
          [
           "Lukas Kunze"
          ],
          [
           "Bryan Lasme"
          ],
          [
           "Tim Lemperle"
          ],
          [
           "Enzo Leopold"
          ],
          [
           "Jan Luca Schuler"
          ],
          [
           "Shuto Machino"
          ],
          [
           "Haralambos Makridis"
          ],
          [
           "Igor Matanovic"
          ],
          [
           "Keke Maximilian Topp"
          ],
          [
           "Jonas Meffert"
          ],
          [
           "Connor Metcalfe"
          ],
          [
           "Paul Nebel"
          ],
          [
           "András Németh"
          ],
          [
           "Florian Niederlechner"
          ],
          [
           "Håvard Nielsen"
          ],
          [
           "Noel Niemann"
          ],
          [
           "Jona Niemiec"
          ],
          [
           "Jannis Nikolaou"
          ],
          [
           "Kanji Okunuki"
          ],
          [
           "Kwasi Okyere Wriedt"
          ],
          [
           "Aaron Opoku"
          ],
          [
           "Levin Öztunalı"
          ],
          [
           "Juan Perea"
          ],
          [
           "Lukas Petkov"
          ],
          [
           "Immanuel Pherai"
          ],
          [
           "Rayan Philippe"
          ],
          [
           "Benedikt Pichler"
          ],
          [
           "Felix Platte"
          ],
          [
           "Smail Prevljak"
          ],
          [
           "Kai Pröger"
          ],
          [
           "Ivan Prtajin"
          ],
          [
           "Tobias Raschl"
          ],
          [
           "Fabian Reese"
          ],
          [
           "Ludovit Reis"
          ],
          [
           "Marlon Ritter"
          ],
          [
           "Jannik Rochelt"
          ],
          [
           "Elias Saad"
          ],
          [
           "Semih Sahin"
          ],
          [
           "Philipp Sander"
          ],
          [
           "Ron Schallenberg"
          ],
          [
           "Louis Schaub"
          ],
          [
           "Derry Scherhant"
          ],
          [
           "Lukas Schleimer"
          ],
          [
           "Fabian Schleusener"
          ],
          [
           "Luca Schnellbacher"
          ],
          [
           "Paul Seguin"
          ],
          [
           "Armindo Sieb"
          ],
          [
           "Sarpreet Singh"
          ],
          [
           "Steven Skrzybski"
          ],
          [
           "Dennis Srbeny"
          ],
          [
           "Lars Stindl"
          ],
          [
           "Paul Stock"
          ],
          [
           "Haris Tabakovic"
          ],
          [
           "Richmond Tachie"
          ],
          [
           "Ao Tanaka"
          ],
          [
           "Lino Tempelmann"
          ],
          [
           "Simon Terodde"
          ],
          [
           "Robert Tesche"
          ],
          [
           "Cedric Teuchert"
          ],
          [
           "Nicolo Tresoldi"
          ],
          [
           "Christos Tzolis"
          ],
          [
           "Anthony Ujah"
          ],
          [
           "Vincent Vermeij"
          ],
          [
           "Andreas Voglsammer"
          ],
          [
           "Robert Wagner"
          ],
          [
           "Marvin Wanitzek"
          ],
          [
           "Paul Wanner"
          ],
          [
           "Marten Winkler"
          ],
          [
           "Jannes Wulff"
          ],
          [
           "Can Yılmaz Uzun"
          ],
          [
           "Budu Zivzivadze"
          ],
          [
           "Shuto Abe"
          ],
          [
           "Éder Álvarez Balanta"
          ],
          [
           "Steven Alzate"
          ],
          [
           "Mohamed El Amine Amoura"
          ],
          [
           "Tolu Arokodare"
          ],
          [
           "Felipe Avenatti"
          ],
          [
           "Youssouph Badji"
          ],
          [
           "Brandon Baiye"
          ],
          [
           "Michel-Ange Balikwisha"
          ],
          [
           "William Balikwisha"
          ],
          [
           "Ezechiel Banzuzi"
          ],
          [
           "Joselpho Barnes"
          ],
          [
           "Antoine Bernier"
          ],
          [
           "Mickaël Biron"
          ],
          [
           "Christopher Bonsu Baah"
          ],
          [
           "Jonatan Braut Brunes"
          ],
          [
           "Massimo Bruno"
          ],
          [
           "Nacer Chadli"
          ],
          [
           "Regan Charles-Cook"
          ],
          [
           "Isaac Christie-Davies"
          ],
          [
           "Hugo Cuypers"
          ],
          [
           "Oday Dabbagh"
          ],
          [
           "Erdon Daci"
          ],
          [
           "Jón Dagur Þorsteinsson"
          ],
          [
           "Isaak Davies"
          ],
          [
           "Julien De Sart"
          ],
          [
           "Nils De Wilde"
          ],
          [
           "Mathias Delorge"
          ],
          [
           "Kevin Denkey"
          ],
          [
           "Jerome Deom"
          ],
          [
           "Kasper Dolberg"
          ],
          [
           "Anders Dreyer"
          ],
          [
           "Pierre Dwomoh"
          ],
          [
           "Dennis Eckert"
          ],
          [
           "Jurgen Ekkelenkamp"
          ],
          [
           "Alieu Fadera"
          ],
          [
           "Alfreð Finnbogason"
          ],
          [
           "Matija Frigan"
          ],
          [
           "Joel Fujita"
          ],
          [
           "Matías Galarza"
          ],
          [
           "Omri Gandelman"
          ],
          [
           "Yann Gboho"
          ],
          [
           "Pieter Gerkens"
          ],
          [
           "Makhtar Gueye"
          ],
          [
           "Parfait Guiagon"
          ],
          [
           "Geoffry Hairemans"
          ],
          [
           "Dogucan Haspolat"
          ],
          [
           "Thorgan Hazard"
          ],
          [
           "Daan Heymans"
          ],
          [
           "Bryan Heynen"
          ],
          [
           "Andrew Hjulsager"
          ],
          [
           "Patrik Hrošovský"
          ],
          [
           "Marco Ilaimaharitra"
          ],
          [
           "George Ilenikhena"
          ],
          [
           "Ryotaro Ito"
          ],
          [
           "Vincent Janssen"
          ],
          [
           "Jutglà"
          ],
          [
           "Abdelkahar Kadri"
          ],
          [
           "Wilfried Kanga"
          ],
          [
           "Hayao Kawabe"
          ],
          [
           "Fatih Kaya"
          ],
          [
           "Amadou Keita"
          ],
          [
           "Gyrano Kerk"
          ],
          [
           "Bilal El Khannouss"
          ],
          [
           "Aboubakary Koita"
          ],
          [
           "Mory Konaté"
          ],
          [
           "Sven Kums"
          ],
          [
           "Lion Lauberbach"
          ],
          [
           "Félix Lemaréchal"
          ],
          [
           "Theo Leoni"
          ],
          [
           "Nicolas Madsen"
          ],
          [
           "Mathieu Maertens"
          ],
          [
           "Yonas Malede"
          ],
          [
           "Kristiyan Malinov"
          ],
          [
           "Yusuke Matsuo"
          ],
          [
           "Youssef Maziz"
          ],
          [
           "Pathé Mboup"
          ],
          [
           "Xavier Mercier"
          ],
          [
           "Alan Minda"
          ],
          [
           "Kevin Möhwald"
          ],
          [
           "Ryota Morioka"
          ],
          [
           "Kerim Mrabti"
          ],
          [
           "Arbnor Muja"
          ],
          [
           "Ngal'Ayel Mukau"
          ],
          [
           "Casper Nielsen"
          ],
          [
           "Gustaf Nilsson"
          ],
          [
           "Nachon Nsingi"
          ],
          [
           "Isaac Nuhu"
          ],
          [
           "Antonio Nusa"
          ],
          [
           "Aiden O'Neill"
          ],
          [
           "Noah Ohio"
          ],
          [
           "Kazeem Olaigbe"
          ],
          [
           "Raphael Onyedika"
          ],
          [
           "Nathan Opoku"
          ],
          [
           "Gift Orban"
          ],
          [
           "Luca Oyen"
          ],
          [
           "Joseph Paintsil"
          ],
          [
           "Miloš Pantović"
          ],
          [
           "Patrick Pflücke"
          ],
          [
           "Arthur Piedfort"
          ],
          [
           "Cameron Puertas"
          ],
          [
           "Mathias Rasmussen"
          ],
          [
           "Jeff Reine-Adélaïde"
          ],
          [
           "Kevin Rodríguez"
          ],
          [
           "Noah Sadiki"
          ],
          [
           "Rob Schoofs"
          ],
          [
           "Siebe Schrijvers"
          ],
          [
           "Florent da Silva"
          ],
          [
           "Leonardo da Silva Lopes"
          ],
          [
           "Abdoulaye Sissako"
          ],
          [
           "Andreas Skov Olsen"
          ],
          [
           "Thibo Somers"
          ],
          [
           "Yira Sor"
          ],
          [
           "Kamal Sowah"
          ],
          [
           "Lucas Stassin"
          ],
          [
           "Jarne Steuckers"
          ],
          [
           "Nikola Storm"
          ],
          [
           "Mario Stroeykens"
          ],
          [
           "Nikola Štulić"
          ],
          [
           "Serhiy Sydorchuk"
          ],
          [
           "Youssuf Sylla"
          ],
          [
           "Thiago"
          ],
          [
           "Jean Thierry Lazare"
          ],
          [
           "Tarik Tissoudali"
          ],
          [
           "Kyan Vaesen"
          ],
          [
           "Thomas Van den Keybus"
          ],
          [
           "Hannes Van der Bruggen"
          ],
          [
           "Hans Vanaken"
          ],
          [
           "Charles Vanhoutte"
          ],
          [
           "Luis Vázquez"
          ],
          [
           "Arthur Vermeeren"
          ],
          [
           "Yari Verschaeren"
          ],
          [
           "Hugo Vetlesen"
          ],
          [
           "Rihito Yamamoto"
          ],
          [
           "Griffin Yow"
          ],
          [
           "Alhassan Yusuf"
          ],
          [
           "Kahveh Zahiroleslam"
          ],
          [
           "Andi Zeqiri"
          ],
          [
           "Philip Zinckernagel"
          ],
          [
           "Adem Zorgane"
          ],
          [
           "Himad Abdelli"
          ],
          [
           "Martin Adeline"
          ],
          [
           "Jordan Adéoti"
          ],
          [
           "Migouel Alfarela"
          ],
          [
           "Julien Anziani"
          ],
          [
           "Taïryk Arconte"
          ],
          [
           "Kouadou Assoumou"
          ],
          [
           "Mathias Autret"
          ],
          [
           "Florian Ayé"
          ],
          [
           "Samy Baghdadi"
          ],
          [
           "Yacine Bammou"
          ],
          [
           "Enzo Bardeli"
          ],
          [
           "Gabriel Bares"
          ],
          [
           "Mons Bassouamina"
          ],
          [
           "Jessy Bénet"
          ],
          [
           "Zakaria Bengueddoudj"
          ],
          [
           "Steeve Beusnard"
          ],
          [
           "Florian Bianchini"
          ],
          [
           "Clément Billemaz"
          ],
          [
           "Antonin Bobichon"
          ],
          [
           "Rémy Boissier"
          ],
          [
           "Benjamin Bouchouari"
          ],
          [
           "Khalid Boutaïb"
          ],
          [
           "Aymen Boutoutaou"
          ],
          [
           "Frank Boya"
          ],
          [
           "Bilal Brahimi"
          ],
          [
           "Noah Cadiou"
          ],
          [
           "Mathieu Cafaro"
          ],
          [
           "Adama Camara"
          ],
          [
           "Mamadou Camara"
          ],
          [
           "Pierrick Capelle"
          ],
          [
           "Andy Carroll"
          ],
          [
           "Nassim Chadli"
          ],
          [
           "Mehdi Chahiri"
          ],
          [
           "Dylan Chambost"
          ],
          [
           "Xavier Chavalerin"
          ],
          [
           "Killian Corredor"
          ],
          [
           "Kalifa Coulibaly"
          ],
          [
           "Sessi D'Almeida"
          ],
          [
           "Quentin Daubin"
          ],
          [
           "Zuriko Davitashvili"
          ],
          [
           "Logan Delaurier Chaubet"
          ],
          [
           "Clément Depres"
          ],
          [
           "Pedro Díaz"
          ],
          [
           "Lois Diony"
          ],
          [
           "Assane Dioussé"
          ],
          [
           "Maxime Do Couto Teixeira"
          ],
          [
           "Alan Do Marcolino"
          ],
          [
           "Kyliane Dong"
          ],
          [
           "Lohann Doucet"
          ],
          [
           "Tom Ducrocq"
          ],
          [
           "Alberth Elis"
          ],
          [
           "Maxime Etuin"
          ],
          [
           "Zinedine Ferhat"
          ],
          [
           "Lamine Fomba"
          ],
          [
           "Garland Gbelle"
          ],
          [
           "Jérémy Gélin"
          ],
          [
           "Owen Géne"
          ],
          [
           "Rayan Ghrieb"
          ],
          [
           "Armand Gnanduillet"
          ],
          [
           "Alimani Gory"
          ],
          [
           "Baptiste Guillaume"
          ],
          [
           "Giovanni Haag"
          ],
          [
           "Ilyes Hamache"
          ],
          [
           "Ben Hamed Touré"
          ],
          [
           "Pierre-Yves Hamel"
          ],
          [
           "Gauthier Hein"
          ],
          [
           "Andreas Hountondji"
          ],
          [
           "Adrien Hunou"
          ],
          [
           "Pape Ibnou Bâ"
          ],
          [
           "Danylo Ihnatenko"
          ],
          [
           "Luka Ilić"
          ],
          [
           "Tim Jabol"
          ],
          [
           "Valentin Jacob"
          ],
          [
           "Lenny Joseph"
          ],
          [
           "Andrew Jung"
          ],
          [
           "Junior Kadile"
          ],
          [
           "Gaël Kakuta"
          ],
          [
           "Nordine Kandil"
          ],
          [
           "Abdoulaye Kanté"
          ],
          [
           "Ahmed Kashi"
          ],
          [
           "Ilan Kebbal"
          ],
          [
           "Tidiane Keita"
          ],
          [
           "David Kjær Kruse"
          ],
          [
           "Anthony Knockaert"
          ],
          [
           "Godson Kyeremeh"
          ],
          [
           "Rémy Labeau Lascary"
          ],
          [
           "Mohamed Lamine Diaby"
          ],
          [
           "Antoine Larose"
          ],
          [
           "Mickaël Le Bihan"
          ],
          [
           "Antoine Léautey"
          ],
          [
           "Noé Lebreton"
          ],
          [
           "Makabi Lilepo"
          ],
          [
           "Jérémy Livolant"
          ],
          [
           "Julien López"
          ],
          [
           "Joseph Lopy"
          ],
          [
           "Dylan Louiserre"
          ],
          [
           "Josias Lukembila"
          ],
          [
           "Taylor Luvambo"
          ],
          [
           "Youssouf M'Changama"
          ],
          [
           "Eros Maddy"
          ],
          [
           "Louis Mafouta"
          ],
          [
           "Hianga Mananga Mbock"
          ],
          [
           "Cyril Mandouki"
          ],
          [
           "Thomas Mangani"
          ],
          [
           "Vincent Marchetti"
          ],
          [
           "Julien Masson"
          ],
          [
           "Isaac Matondo"
          ],
          [
           "Jean Mattéo Bahoya"
          ],
          [
           "Farid El Melali"
          ],
          [
           "Alexandre Mendy"
          ],
          [
           "Yanis Merdji"
          ],
          [
           "Mehdi Merghem"
          ],
          [
           "Thomas Monconduit"
          ],
          [
           "Baptiste Mouazan"
          ],
          [
           "Aimen Moueffek"
          ],
          [
           "Louis Mouton"
          ],
          [
           "Papa Ndiaga Yade"
          ],
          [
           "Noha Ndombasi Nlandu"
          ],
          [
           "Ibrahima Niane"
          ],
          [
           "Riad Nouri"
          ],
          [
           "Samuel Ntamack"
          ],
          [
           "Natanael Ntolla"
          ],
          [
           "Junior Olaitan"
          ],
          [
           "Ado Onaiwu"
          ],
          [
           "Ángel Orelién"
          ],
          [
           "Amine El Ouazzani"
          ],
          [
           "Zinédine Ould Khaled"
          ],
          [
           "Elisha Owusu"
          ],
          [
           "Vincent Pajot"
          ],
          [
           "Gaëtan Perrin"
          ],
          [
           "Alexandre Phliponeau"
          ],
          [
           "Hugo Picard"
          ],
          [
           "Balthazar Pierret"
          ],
          [
           "Alexi Pitu"
          ],
          [
           "Virgiliu Postolachi"
          ],
          [
           "Lorenzo Rajot"
          ],
          [
           "Rayan Raveloson"
          ],
          [
           "Dante Rigo"
          ],
          [
           "Baptiste Roux"
          ],
          [
           "Jimmy Roye"
          ],
          [
           "Amadou Sagna"
          ],
          [
           "Rafiki Said"
          ],
          [
           "Henri Saivet"
          ],
          [
           "Gustavo Sangaré"
          ],
          [
           "Sam Sanna"
          ],
          [
           "Benjamin Santelli"
          ],
          [
           "Bamba Sanyang"
          ],
          [
           "Mohamed Sbai"
          ],
          [
           "Steve Shamal"
          ],
          [
           "Lassine Sinayoko"
          ],
          [
           "Issouf Sissokho"
          ],
          [
           "Ibrahim Sissoko"
          ],
          [
           "Jacques Siwe"
          ],
          [
           "Sambou Soumano"
          ],
          [
           "Fawaz Al-Sqoor"
          ],
          [
           "Moussa Sylla"
          ],
          [
           "Eddy Sylvestre"
          ],
          [
           "Waniss Taibi"
          ],
          [
           "Abdoul-Fessal Tapsoba"
          ],
          [
           "Malik Tchokounté"
          ],
          [
           "Kevin Testud"
          ],
          [
           "Titouan Thomas"
          ],
          [
           "Félix Tomi"
          ],
          [
           "Saikou Touray"
          ],
          [
           "Yoann Touzghar"
          ],
          [
           "Axel Urie"
          ],
          [
           "Antoine Valerio"
          ],
          [
           "Theo Valls"
          ],
          [
           "Nick Venema"
          ],
          [
           "Christophe Vincent"
          ],
          [
           "Žan Vipotnik"
          ],
          [
           "Gaëtan Weissbeck"
          ],
          [
           "Wilitty Younoussa"
          ],
          [
           "Alan"
          ],
          [
           "Jeremy Antonisse"
          ],
          [
           "Pedro Aparício"
          ],
          [
           "Óscar Aranda"
          ],
          [
           "Henrique Araújo"
          ],
          [
           "Arthur"
          ],
          [
           "Gustavo Assuncao"
          ],
          [
           "Elves Baldé"
          ],
          [
           "Daniel Bandeira"
          ],
          [
           "Simon Banza"
          ],
          [
           "Rafael Barbosa"
          ],
          [
           "Bachir Belloumi"
          ],
          [
           "Beni"
          ],
          [
           "Benny"
          ],
          [
           "Emmanuel Boateng"
          ],
          [
           "Gonçalo Borges"
          ],
          [
           "Róbert Boženík"
          ],
          [
           "Daniel Bragança"
          ],
          [
           "Bruma"
          ],
          [
           "Aleksandar Busnić"
          ],
          [
           "Jhonder Cádiz"
          ],
          [
           "João Pedro Gomes Camacho"
          ],
          [
           "Felippe Cardoso"
          ],
          [
           "Carlinhos"
          ],
          [
           "Ronie Carrillo"
          ],
          [
           "Martim Carvalho"
          ],
          [
           "Vitor Carvalho"
          ],
          [
           "Facundo Cáseres"
          ],
          [
           "Cassiano"
          ],
          [
           "Tidjany Chabrol"
          ],
          [
           "Clayton"
          ],
          [
           "Francisco Conceição"
          ],
          [
           "Leo Cordeiro"
          ],
          [
           "Félix Correia"
          ],
          [
           "Murilo Costa"
          ],
          [
           "Rui Costa"
          ],
          [
           "Dener"
          ],
          [
           "Ángel Di María"
          ],
          [
           "Tiago Dias"
          ],
          [
           "Álvaro djaló"
          ],
          [
           "Mihai Dobre"
          ],
          [
           "Maxime Dominguez"
          ],
          [
           "Bruno Duarte"
          ],
          [
           "Marcus Edwards"
          ],
          [
           "Samuel Essende"
          ],
          [
           "Stephen Eustáquio"
          ],
          [
           "Evanilson"
          ],
          [
           "Claudio Falcão"
          ],
          [
           "Fernando"
          ],
          [
           "Tiago Fonseca Morais"
          ],
          [
           "André Franco"
          ],
          [
           "Gonçalo Franco"
          ],
          [
           "Kanya Fujimoto"
          ],
          [
           "Galeno"
          ],
          [
           "Mory Gbane"
          ],
          [
           "Pedro Gonçalves"
          ],
          [
           "Vítor Gonçalves"
          ],
          [
           "Cristo González"
          ],
          [
           "Nicolás González"
          ],
          [
           "João Graça"
          ],
          [
           "Ricardo Guimarães"
          ],
          [
           "Rafik Guitane"
          ],
          [
           "Viktor Gyökeres"
          ],
          [
           "Tomás Händel"
          ],
          [
           "Héctor"
          ],
          [
           "Morten Hjulmand"
          ],
          [
           "Jordan Holsgrove"
          ],
          [
           "André Horta"
          ],
          [
           "Ricardo Horta"
          ],
          [
           "André Inácio"
          ],
          [
           "Fabrício Isidoro"
          ],
          [
           "Léo Jabá"
          ],
          [
           "Ivan Jaime Pajuelo"
          ],
          [
           "Jardel"
          ],
          [
           "Jason"
          ],
          [
           "Sylvester Jasper"
          ],
          [
           "Jo"
          ],
          [
           "Joca"
          ],
          [
           "Samuel Justo"
          ],
          [
           "Kikas"
          ],
          [
           "Kobamelo Kodisang"
          ],
          [
           "Orkun Kökçü"
          ],
          [
           "Eboue Kouassi"
          ],
          [
           "Matías Lacava"
          ],
          [
           "Bruno Lourenço"
          ],
          [
           "André Luis"
          ],
          [
           "Florentino Luís"
          ],
          [
           "José Luis Rodríguez"
          ],
          [
           "Madson"
          ],
          [
           "Gaius Makouta"
          ],
          [
           "Zé Manuel"
          ],
          [
           "João Mário"
          ],
          [
           "Marlon"
          ],
          [
           "Alejandro Marqués"
          ],
          [
           "João Marques"
          ],
          [
           "Toni Martínez"
          ],
          [
           "Marco Matias"
          ],
          [
           "João Mendes"
          ],
          [
           "Hidemasa Morita"
          ],
          [
           "Rafa Mújica"
          ],
          [
           "Petar Musa"
          ],
          [
           "Diogo Nascimento"
          ],
          [
           "Regis Ndo"
          ],
          [
           "David Neres"
          ],
          [
           "Neto"
          ],
          [
           "João Neves"
          ],
          [
           "Nonoca"
          ],
          [
           "Kelechi Nwakali"
          ],
          [
           "Lawrence Ofori"
          ],
          [
           "Mattheus Oliveira"
          ],
          [
           "Amine Oudrhiri"
          ],
          [
           "João Pedro"
          ],
          [
           "Sebastián Pérez Cardona"
          ],
          [
           "Pizzi"
          ],
          [
           "Miguel Puche García"
          ],
          [
           "Miguel Reisinho"
          ],
          [
           "Rúben Tiago Rodrigues Ribeiro"
          ],
          [
           "Pablo Roberto"
          ],
          [
           "Gonçalo Rodrigues"
          ],
          [
           "Ronald"
          ],
          [
           "Abel Ruiz"
          ],
          [
           "Leonardo Ruíz"
          ],
          [
           "Gustavo sá"
          ],
          [
           "Pedro Sá"
          ],
          [
           "Dylan Saint-Louis"
          ],
          [
           "Samu"
          ],
          [
           "Leandro Sanca"
          ],
          [
           "Pedro Santos"
          ],
          [
           "André Silva"
          ],
          [
           "Jota Silva"
          ],
          [
           "Rafa Silva"
          ],
          [
           "Tiago Silva"
          ],
          [
           "David Simão"
          ],
          [
           "Yuki Soma"
          ],
          [
           "Aloísio Souza Genézio"
          ],
          [
           "Morlaye Sylla"
          ],
          [
           "Mehdi Taremi"
          ],
          [
           "Heriberto Tavares"
          ],
          [
           "Martim Tavares"
          ],
          [
           "Ronaldo Tavares"
          ],
          [
           "Casper Tengstedt"
          ],
          [
           "Pedro Tiba"
          ],
          [
           "Mirko Topić"
          ],
          [
           "Alfonso Trezza"
          ],
          [
           "Francisco Trincão"
          ],
          [
           "Alan Varela"
          ],
          [
           "Hélio Varela"
          ],
          [
           "Bruno Ventura"
          ],
          [
           "Paulo Victor"
          ],
          [
           "Ilija Vukotić"
          ],
          [
           "Zaydou Youssouf"
          ],
          [
           "Rodrigo Zalazar"
          ],
          [
           "Emmanuel Addai"
          ],
          [
           "Álvaro Aguado"
          ],
          [
           "Marc Aguado"
          ],
          [
           "Ager Aketxe"
          ],
          [
           "Jony Álamo"
          ],
          [
           "Aldasoro"
          ],
          [
           "Alexandre Alemão"
          ],
          [
           "Rodri Alonso"
          ],
          [
           "Carlos Álvarez"
          ],
          [
           "Florin Andone"
          ],
          [
           "Anuar"
          ],
          [
           "Kévin Appin"
          ],
          [
           "Juan Artola"
          ],
          [
           "Miguel Atienza"
          ],
          [
           "Javier Avilés"
          ],
          [
           "Iván Ayllón"
          ],
          [
           "Keita Baldé"
          ],
          [
           "Keidi Bare"
          ],
          [
           "Borja Bastón"
          ],
          [
           "Jon Bautista"
          ],
          [
           "Álex Bermejo"
          ],
          [
           "Álex Bernal"
          ],
          [
           "Jesús Bernal"
          ],
          [
           "Yann Bodiger"
          ],
          [
           "Mohamed Bouldini"
          ],
          [
           "Ruben Bover"
          ],
          [
           "Martin Braithwaite"
          ],
          [
           "Yan Brice Eteki"
          ],
          [
           "Brugui"
          ],
          [
           "Álex Calvo"
          ],
          [
           "Gaspar Campos"
          ],
          [
           "Víctor Campuzano"
          ],
          [
           "Álex Cantero"
          ],
          [
           "Àlex Carbonell"
          ],
          [
           "Carlo"
          ],
          [
           "Juan Carlos"
          ],
          [
           "Nicolás Castro"
          ],
          [
           "Santi Cazorla"
          ],
          [
           "Ilyas Chaira"
          ],
          [
           "Chapela"
          ],
          [
           "Julián Chicco"
          ],
          [
           "Chiki"
          ],
          [
           "Seydouba Cissé"
          ],
          [
           "Jesús Clemente"
          ],
          [
           "Óscar Clemente"
          ],
          [
           "Diego Collado"
          ],
          [
           "Santiago Colombatto"
          ],
          [
           "Álex Corredera"
          ],
          [
           "Curro"
          ],
          [
           "Alberto Del Moral"
          ],
          [
           "Diego"
          ],
          [
           "Naïs Djouahra"
          ],
          [
           "Josué Dorrio"
          ],
          [
           "Ivan Durdov"
          ],
          [
           "Ryan Edwards"
          ],
          [
           "Sergi Enrich"
          ],
          [
           "Javier Eraso"
          ],
          [
           "Eduardo Espiau"
          ],
          [
           "Edu Expósito"
          ],
          [
           "Nicolás Ezequiel Fernández"
          ],
          [
           "Fabrício"
          ],
          [
           "Aleix Febas"
          ],
          [
           "Juan Ferney Otero"
          ],
          [
           "Andrés Ferrari"
          ],
          [
           "Álex Forés"
          ],
          [
           "Álvaro Martín de Frías"
          ],
          [
           "Manuel Fuster"
          ],
          [
           "Enric Gallego"
          ],
          [
           "Borja Garcés"
          ],
          [
           "Juanma García"
          ],
          [
           "Aitor Gelardo"
          ],
          [
           "Tiago Geralnik"
          ],
          [
           "Mourad El Ghezouani"
          ],
          [
           "Iván Gil"
          ],
          [
           "Álvaro Giménez"
          ],
          [
           "Dani Gómez"
          ],
          [
           "Jaume Grau"
          ],
          [
           "Clément Grenier"
          ],
          [
           "Kento Hashimoto"
          ],
          [
           "Haissem Hassan"
          ],
          [
           "Hector Hevel"
          ],
          [
           "Jacobo"
          ],
          [
           "Isak Jansson"
          ],
          [
           "Eneko Jauregi"
          ],
          [
           "Jofre"
          ],
          [
           "Joel Jorquera"
          ],
          [
           "Lago Junior"
          ],
          [
           "Stanko Jurić"
          ],
          [
           "Manuel Justo"
          ],
          [
           "Kenedy"
          ],
          [
           "Giorgi Kochorashvili"
          ],
          [
           "Iker Kortajarena"
          ],
          [
           "Javi Lara"
          ],
          [
           "Julen Lobete"
          ],
          [
           "Enzo Lombardo"
          ],
          [
           "Roberto López"
          ],
          [
           "Losada"
          ],
          [
           "Pol Lozano"
          ],
          [
           "Sergio Lozano"
          ],
          [
           "Fran Manzanara"
          ],
          [
           "Higinio Marín"
          ],
          [
           "Carlos Martín"
          ],
          [
           "Gabri Martínez"
          ],
          [
           "Javi Martínez"
          ],
          [
           "Pablo Martínez"
          ],
          [
           "Javi Martón"
          ],
          [
           "Mascarenhas"
          ],
          [
           "Agus Medina"
          ],
          [
           "Nacho Méndez"
          ],
          [
           "Rodrigo Mendoza"
          ],
          [
           "Sabin Merino"
          ],
          [
           "Maikel Mesa"
          ],
          [
           "Roque Mesa"
          ],
          [
           "Víctor Meseguer"
          ],
          [
           "Javier Mier"
          ],
          [
           "Sergio Molina"
          ],
          [
           "Victor Mollejo"
          ],
          [
           "Monchu"
          ],
          [
           "Cris Montes"
          ],
          [
           "Ivan Monzón"
          ],
          [
           "Erik Morán"
          ],
          [
           "Iván Morante"
          ],
          [
           "Jon Morcillo"
          ],
          [
           "Tete Morente"
          ],
          [
           "Raúl Moro"
          ],
          [
           "Pedro Mosquera"
          ],
          [
           "Toni Moya"
          ],
          [
           "Sebas Moyano"
          ],
          [
           "Mumo"
          ],
          [
           "Joaquín Muñoz"
          ],
          [
           "Luis Muñoz"
          ],
          [
           "Damián Musto"
          ],
          [
           "Juanjo Narváez"
          ],
          [
           "Yvan Neyou"
          ],
          [
           "Fernando Niño"
          ],
          [
           "Samuel Obeng"
          ],
          [
           "Koldo Obieta"
          ],
          [
           "Dani Ojeda"
          ],
          [
           "Javier Ontiveros"
          ],
          [
           "Jandro Orellana"
          ],
          [
           "Alfredo Ortuño"
          ],
          [
           "Juanto Ortuño"
          ],
          [
           "Sergio Ortuño"
          ],
          [
           "Antonio Pacheco"
          ],
          [
           "Pascu"
          ],
          [
           "Paulino"
          ],
          [
           "Heber Pena"
          ],
          [
           "Peque"
          ],
          [
           "Luis Perea"
          ],
          [
           "Óscar Plano"
          ],
          [
           "Francisco Portillo"
          ],
          [
           "Javi Puado"
          ],
          [
           "Dani Queipo"
          ],
          [
           "Alberto Quiles"
          ],
          [
           "Luis Quintero"
          ],
          [
           "Quique"
          ],
          [
           "Dani Raba"
          ],
          [
           "Alberto Reina"
          ],
          [
           "Daniel Requena"
          ],
          [
           "Oriol Rey"
          ],
          [
           "Nico Ribaudo"
          ],
          [
           "Mikel Rico"
          ],
          [
           "Cristian Rivera"
          ],
          [
           "Ángel Rodríguez"
          ],
          [
           "Rayco Rodríguez Medina"
          ],
          [
           "Riki Rodríguez"
          ],
          [
           "Iván Romero"
          ],
          [
           "Waldo Rubio"
          ],
          [
           "Íñigo Sainz Maza"
          ],
          [
           "Cristian Salvador"
          ],
          [
           "Salvi"
          ],
          [
           "Sergi Samper"
          ],
          [
           "Iván Sánchez"
          ],
          [
           "Alejandro Sancris"
          ],
          [
           "Marco Sangalli"
          ],
          [
           "Aitor Sanz"
          ],
          [
           "Alvaro Sanz"
          ],
          [
           "Josep Señé"
          ],
          [
           "Jaime Seoane"
          ],
          [
           "Francho Serrano Gracia"
          ],
          [
           "Samuel Shashoua"
          ],
          [
           "Kwasi Sibo"
          ],
          [
           "Óscar Sielva"
          ],
          [
           "Matheus Pereira da Silva"
          ],
          [
           "Soberón"
          ],
          [
           "Mario Soriano"
          ],
          [
           "Dyego Sousa"
          ],
          [
           "Stoichkov"
          ],
          [
           "Jaime Suárez Juesas"
          ],
          [
           "Tachi"
          ],
          [
           "Teto"
          ],
          [
           "David Timor"
          ],
          [
           "Pablo Tomeo"
          ],
          [
           "Iker Undabarrena"
          ],
          [
           "Oscar Ureña"
          ],
          [
           "Germán Valera"
          ],
          [
           "Hugo Vallejo"
          ],
          [
           "Manu Vallejo"
          ],
          [
           "Jonathan Varane"
          ],
          [
           "Unai Vencedor Paris"
          ],
          [
           "Carlos Vicente"
          ],
          [
           "Iñigo Vicente"
          ],
          [
           "Fran Villalba"
          ],
          [
           "Ekain Zenitagoia"
          ],
          [
           "Uroš Đurđević"
          ],
          [
           "Oliver Abildgaard"
          ],
          [
           "Fabio Abiuso"
          ],
          [
           "Gonzalo Abrego"
          ],
          [
           "Gennaro Acampora"
          ],
          [
           "Ismail Achik"
          ],
          [
           "Francesco Amatucci"
          ],
          [
           "Giuseppe Ambrosino"
          ],
          [
           "Janis Antiste"
          ],
          [
           "Mattia Aramu"
          ],
          [
           "Alessandro Arena"
          ],
          [
           "Kristoffer Askildsen"
          ],
          [
           "Filippo Bandinelli"
          ],
          [
           "Daniele Baselli"
          ],
          [
           "Thomas Battistella"
          ],
          [
           "Alessandro Bellemo"
          ],
          [
           "Nicola Bellomo"
          ],
          [
           "Ahmad Benali"
          ],
          [
           "Adrian Benedyczak"
          ],
          [
           "Adrian Bernabe"
          ],
          [
           "Massimo Bertagnoli"
          ],
          [
           "Alessandro Bianco"
          ],
          [
           "Tommaso Biasci"
          ],
          [
           "Dimitri Bisoli"
          ],
          [
           "Bjarki Bjarkason"
          ],
          [
           "Birkir Bjarnason"
          ],
          [
           "Ange-Yoan Bonny"
          ],
          [
           "Fabio Borini"
          ],
          [
           "Gennaro Borrelli"
          ],
          [
           "Kleis Bozhanaj"
          ],
          [
           "Simone Branca"
          ],
          [
           "Enrico Brignola"
          ],
          [
           "Jérémie Broh"
          ],
          [
           "Matteo Brunori"
          ],
          [
           "Cristian Buonaiuto"
          ],
          [
           "Gianluca Busio"
          ],
          [
           "Nicolò Buso"
          ],
          [
           "Karlo Butić"
          ],
          [
           "Fabrizio Caligara"
          ],
          [
           "Giacomo Calò"
          ],
          [
           "Luigi Canotto"
          ],
          [
           "Giuseppe Carriero"
          ],
          [
           "Daniele Casiraghi"
          ],
          [
           "Claudio Cassano"
          ],
          [
           "Michele Castagnetti"
          ],
          [
           "Moutir Chajia"
          ],
          [
           "Gabriel Charpentier"
          ],
          [
           "Luca Cigarini"
          ],
          [
           "Andrea Cisco"
          ],
          [
           "Massimo Coda"
          ],
          [
           "Antonio Čolak"
          ],
          [
           "Michele Collocolo"
          ],
          [
           "Mattia Compagnon"
          ],
          [
           "Mamadou Coulibaly"
          ],
          [
           "Valerio Crespi"
          ],
          [
           "Domen Črnigoj"
          ],
          [
           "Giovanni Crociata"
          ],
          [
           "Patrick Cutrone"
          ],
          [
           "Marco D'Alessandro"
          ],
          [
           "Luca D'Andrea"
          ],
          [
           "Simone D'Uffizi"
          ],
          [
           "Lucas Da Cunha"
          ],
          [
           "Kees De Boer"
          ],
          [
           "Manuel De Luca"
          ],
          [
           "Duccio Degl'Innocenti"
          ],
          [
           "Federico Di Francesco"
          ],
          [
           "Francesco Di Mariano"
          ],
          [
           "Davide Di Molfetta"
          ],
          [
           "Francesco Di Tacchio"
          ],
          [
           "Filippo Distefano"
          ],
          [
           "Muhamed Djamanca"
          ],
          [
           "Alfredo Donnarumma"
          ],
          [
           "Edoardo Duca"
          ],
          [
           "Malcolm Edjouma"
          ],
          [
           "Francesco Esposito"
          ],
          [
           "Salvatore Esposito"
          ],
          [
           "Sebastiano Esposito"
          ],
          [
           "Nahuel Estévez"
          ],
          [
           "Andrea Favilli"
          ],
          [
           "Luca Fiordilino"
          ],
          [
           "Aldo Florenzi"
          ],
          [
           "Alessandro Gabrielloni"
          ],
          [
           "Giorgio Galli"
          ],
          [
           "Fabio Gerli"
          ],
          [
           "Andrea Ghion"
          ],
          [
           "Stefano Girelli"
          ],
          [
           "Natan Girma"
          ],
          [
           "Eddy Gnahoré"
          ],
          [
           "Claudio Gomes"
          ],
          [
           "Cedric Gondo"
          ],
          [
           "Christian Gytkjær"
          ],
          [
           "Liam Henderson"
          ],
          [
           "Denis Hergheligiu"
          ],
          [
           "Hernani"
          ],
          [
           "Pietro Iemmello"
          ],
          [
           "Roberto Insigne"
          ],
          [
           "Artur Ioniță"
          ],
          [
           "Flavio Junior Bianchi"
          ],
          [
           "Elvis Kabashi"
          ],
          [
           "Pajtim Kasami"
          ],
          [
           "Magnus Kofod Andersen"
          ],
          [
           "Rachid Kouda"
          ],
          [
           "Christos Kourfalidis"
          ],
          [
           "Ilias Koutsoupias"
          ],
          [
           "Andrea La Mantia"
          ],
          [
           "Nunzio Lella"
          ],
          [
           "Ben Lhassine Kone"
          ],
          [
           "Tom van de Looi"
          ],
          [
           "Gregorio Luperini"
          ],
          [
           "Luca Magnino"
          ],
          [
           "Andrea Magrassi"
          ],
          [
           "Tommy Maistrello"
          ],
          [
           "Mattia Maita"
          ],
          [
           "Žan Majer"
          ],
          [
           "Dennis Man"
          ],
          [
           "Jacopo Manconi"
          ],
          [
           "Leonardo Mancuso"
          ],
          [
           "Marius Marin"
          ],
          [
           "Manuel Marras"
          ],
          [
           "Patrizio Masini"
          ],
          [
           "Valerio Mastrantonio"
          ],
          [
           "Simone Mazzocchi"
          ],
          [
           "Filippo Melegoni"
          ],
          [
           "Silvio Merkaj"
          ],
          [
           "Valentin Mihaila"
          ],
          [
           "Tommaso Milanese"
          ],
          [
           "Jan Mlakar"
          ],
          [
           "Gabriele Moncini"
          ],
          [
           "Gregorio Morachioli"
          ],
          [
           "Stefano Moreo"
          ],
          [
           "Luca Moro"
          ],
          [
           "Marco Nasti"
          ],
          [
           "Andrija Novakovich"
          ],
          [
           "Raphael Odogwu"
          ],
          [
           "David Okereke"
          ],
          [
           "Marco Olivieri"
          ],
          [
           "Giacomo Olzer"
          ],
          [
           "Antonio Palumbo"
          ],
          [
           "Luca Pandolfi"
          ],
          [
           "Anthony Partipilo"
          ],
          [
           "Emanuele Pecorino"
          ],
          [
           "Daouda Peeters"
          ],
          [
           "Stefano Pettinari"
          ],
          [
           "Gabriele Piccinini"
          ],
          [
           "Charles Pickel"
          ],
          [
           "Nicholas Pierini"
          ],
          [
           "Filippo Pittarello"
          ],
          [
           "Joel Pohjanpalo"
          ],
          [
           "Marco Pompetti"
          ],
          [
           "Simone Pontisso"
          ],
          [
           "Mateusz Praszelik"
          ],
          [
           "Niklas Pyyhtiä"
          ],
          [
           "Antonio Raimondo"
          ],
          [
           "Nicola Rauti"
          ],
          [
           "Matteo Ricci"
          ],
          [
           "Pablo Rodríguez"
          ],
          [
           "Jacopo Segre"
          ],
          [
           "Alessandro Sersanti"
          ],
          [
           "Giuseppe Sibilli"
          ],
          [
           "Simon Sohm"
          ],
          [
           "Edoardo Soleri"
          ],
          [
           "Dimitris Sounas"
          ],
          [
           "Luca Strizzolo"
          ],
          [
           "Leo Štulac"
          ],
          [
           "Fabian Tait"
          ],
          [
           "Andrea Tessiore"
          ],
          [
           "Tanner Tessmann"
          ],
          [
           "Ernesto Torregrossa"
          ],
          [
           "Luca Tremolada"
          ],
          [
           "Frank Tsadjout"
          ],
          [
           "Gennaro Tutino"
          ],
          [
           "Mattia Valoti"
          ],
          [
           "Aljosa Vasic"
          ],
          [
           "Franco Vázquez"
          ],
          [
           "Miguel Veloso"
          ],
          [
           "Daniele Verde"
          ],
          [
           "Simone Verdi"
          ],
          [
           "Luca Verna"
          ],
          [
           "Valerio Verre"
          ],
          [
           "Ronaldo Vieira"
          ],
          [
           "Alessio Vita"
          ],
          [
           "Idriz Voca"
          ],
          [
           "Gerard Yepes"
          ],
          [
           "Mattia Zennaro"
          ],
          [
           "Federico Zuccon"
          ],
          [
           "Szymon Żurkowski"
          ],
          [
           "Jakub Łabojko"
          ]
         ],
         "hovertemplate": "Goals=%{x}<br>Assists=%{y}<br>Player=%{customdata[0]}<extra></extra>",
         "legendgroup": "",
         "marker": {
          "color": "#636efa",
          "symbol": "circle"
         },
         "mode": "markers",
         "name": "",
         "showlegend": false,
         "type": "scattergl",
         "x": [
          4,
          2,
          9,
          0,
          4,
          0,
          0,
          2,
          3,
          3,
          0,
          4,
          2,
          2,
          1,
          1,
          1,
          1,
          1,
          2,
          0,
          1,
          4,
          1,
          1,
          0,
          2,
          1,
          0,
          1,
          2,
          0,
          6,
          0,
          1,
          0,
          0,
          8,
          1,
          0,
          0,
          4,
          4,
          3,
          1,
          3,
          3,
          9,
          11,
          4,
          2,
          0,
          0,
          3,
          0,
          0,
          0,
          2,
          0,
          0,
          1,
          1,
          12,
          6,
          1,
          1,
          1,
          1,
          4,
          1,
          11,
          5,
          1,
          2,
          4,
          2,
          4,
          2,
          1,
          0,
          1,
          2,
          1,
          3,
          2,
          3,
          2,
          6,
          7,
          3,
          1,
          0,
          3,
          2,
          1,
          1,
          16,
          3,
          2,
          2,
          1,
          4,
          4,
          2,
          0,
          12,
          2,
          1,
          2,
          8,
          4,
          0,
          3,
          3,
          2,
          0,
          3,
          4,
          2,
          1,
          2,
          8,
          6,
          1,
          2,
          4,
          1,
          1,
          3,
          0,
          1,
          1,
          1,
          3,
          4,
          2,
          5,
          3,
          1,
          10,
          1,
          1,
          3,
          2,
          0,
          6,
          7,
          0,
          3,
          0,
          3,
          1,
          2,
          0,
          4,
          0,
          3,
          4,
          7,
          3,
          4,
          3,
          8,
          1,
          6,
          2,
          4,
          4,
          7,
          1,
          1,
          0,
          2,
          2,
          3,
          7,
          6,
          1,
          9,
          0,
          8,
          0,
          3,
          3,
          13,
          3,
          5,
          1,
          3,
          1,
          10,
          6,
          13,
          3,
          9,
          4,
          1,
          7,
          4,
          2,
          0,
          12,
          8,
          1,
          0,
          1,
          17,
          8,
          3,
          0,
          1,
          5,
          0,
          2,
          1,
          2,
          7,
          1,
          3,
          1,
          0,
          3,
          0,
          6,
          4,
          3,
          4,
          7,
          4,
          0,
          1,
          22,
          1,
          12,
          14,
          1,
          7,
          5,
          3,
          1,
          4,
          1,
          1,
          2,
          0,
          2,
          8,
          5,
          5,
          0,
          4,
          1,
          5,
          0,
          0,
          4,
          7,
          4,
          10,
          6,
          4,
          8,
          7,
          0,
          1,
          1,
          3,
          13,
          0,
          1,
          2,
          0,
          3,
          12,
          1,
          0,
          0,
          0,
          4,
          2,
          2,
          6,
          1,
          0,
          5,
          5,
          0,
          2,
          11,
          1,
          4,
          3,
          1,
          0,
          3,
          0,
          1,
          3,
          1,
          6,
          2,
          3,
          0,
          5,
          2,
          1,
          3,
          0,
          6,
          3,
          2,
          2,
          0,
          10,
          4,
          6,
          2,
          6,
          4,
          1,
          4,
          1,
          1,
          2,
          16,
          0,
          10,
          0,
          1,
          0,
          4,
          0,
          7,
          1,
          0,
          1,
          0,
          6,
          0,
          4,
          5,
          6,
          2,
          6,
          1,
          0,
          8,
          4,
          5,
          4,
          1,
          8,
          1,
          3,
          3,
          0,
          8,
          4,
          0,
          1,
          1,
          0,
          4,
          2,
          0,
          7,
          4,
          1,
          1,
          1,
          3,
          1,
          4,
          3,
          3,
          3,
          0,
          4,
          2,
          8,
          5,
          1,
          1,
          3,
          4,
          1,
          3,
          11,
          0,
          1,
          0,
          1,
          0,
          0,
          5,
          2,
          2,
          0,
          2,
          1,
          0,
          2,
          2,
          6,
          6,
          2,
          2,
          4,
          8,
          9,
          10,
          1,
          9,
          1,
          4,
          2,
          3,
          3,
          2,
          2,
          4,
          0,
          0,
          0,
          4,
          0,
          1,
          1,
          2,
          2,
          3,
          4,
          3,
          3,
          0,
          2,
          1,
          1,
          3,
          0,
          3,
          0,
          0,
          0,
          7,
          1,
          0,
          1,
          1,
          0,
          0,
          5,
          7,
          17,
          3,
          3,
          0,
          3,
          2,
          0,
          3,
          2,
          0,
          2,
          9,
          0,
          0,
          8,
          2,
          7,
          0,
          1,
          2,
          7,
          0,
          2,
          1,
          1,
          3,
          4,
          2,
          0,
          0,
          2,
          5,
          8,
          6,
          0,
          1,
          5,
          1,
          6,
          1,
          5,
          0,
          10,
          0,
          11,
          11,
          10,
          0,
          1,
          0,
          8,
          1,
          0,
          1,
          2,
          5,
          1,
          1,
          0,
          1,
          1,
          8,
          3,
          2,
          3,
          0,
          1,
          1,
          0,
          4,
          0,
          1,
          1,
          18,
          1,
          5,
          0,
          1,
          5,
          0,
          8,
          3,
          3,
          0,
          9,
          3,
          3,
          6,
          4,
          0,
          1,
          0,
          5,
          2,
          8,
          3,
          2,
          4,
          3,
          3,
          1,
          8,
          1,
          6,
          0,
          6,
          8,
          4,
          13,
          2,
          10,
          3,
          2,
          6,
          0,
          0,
          2,
          5,
          0,
          9,
          1,
          11,
          0,
          0,
          0,
          5,
          18,
          1,
          12,
          2,
          2,
          2,
          7,
          2,
          2,
          5,
          1,
          0,
          6,
          2,
          2,
          1,
          1,
          3,
          1,
          2,
          0,
          0,
          3,
          6,
          0,
          0,
          5,
          1,
          2,
          3,
          0,
          9,
          5,
          3,
          1,
          7,
          2,
          16,
          5,
          0,
          1,
          4,
          0,
          2,
          0,
          0,
          0,
          4,
          0,
          0,
          0,
          1,
          0,
          1,
          1,
          3,
          1,
          1,
          3,
          2,
          2,
          0,
          1,
          3,
          0,
          1,
          10,
          7,
          12,
          4,
          0,
          1,
          0,
          3,
          3,
          2,
          1,
          3,
          3,
          3,
          0,
          0,
          6,
          2,
          5,
          0,
          1,
          1,
          0,
          3,
          3,
          1,
          0,
          8,
          0,
          1,
          1,
          0,
          3,
          3,
          2,
          1,
          0,
          0,
          1,
          2,
          0,
          0,
          8,
          11,
          5,
          0,
          0,
          0,
          7,
          1,
          17,
          1,
          2,
          1,
          9,
          5,
          1,
          0,
          0,
          3,
          4,
          0,
          5,
          8,
          2,
          3,
          0,
          2,
          1,
          1,
          2,
          1,
          12,
          1,
          9,
          1,
          2,
          1,
          2,
          0,
          2,
          1,
          1,
          3,
          4,
          0,
          6,
          2,
          11,
          1,
          6,
          5,
          1,
          1,
          0,
          0,
          2,
          3,
          7,
          3,
          1,
          1,
          1,
          1,
          0,
          4,
          1,
          3,
          2,
          0,
          2,
          2,
          0,
          2,
          2,
          1,
          1,
          2,
          0,
          5,
          7,
          0,
          1,
          0,
          4,
          11,
          6,
          2,
          5,
          3,
          4,
          4,
          2,
          1,
          5,
          8,
          0,
          3,
          0,
          0,
          4,
          5,
          1,
          2,
          0,
          1,
          1,
          4,
          0,
          0,
          0,
          7,
          0,
          0,
          2,
          0,
          2,
          1,
          5,
          5,
          1,
          4,
          5,
          1,
          7,
          7,
          4,
          1,
          4,
          5,
          5,
          14,
          0,
          7,
          1,
          10,
          2,
          4,
          0,
          1,
          8,
          1,
          1,
          1,
          2,
          0,
          0,
          7,
          1,
          0,
          1,
          1,
          0,
          0,
          2,
          1,
          0,
          1,
          1,
          0,
          1,
          4,
          2,
          3,
          0,
          1,
          2,
          0,
          8,
          3,
          5,
          9,
          0,
          0,
          2,
          0,
          0,
          1,
          0,
          1,
          2,
          2,
          0,
          2,
          4,
          3,
          0,
          2,
          2,
          2,
          4,
          1,
          0,
          1,
          1,
          2,
          4,
          0,
          1,
          0,
          0,
          0,
          2,
          2,
          0,
          1,
          10,
          6,
          1,
          2,
          8,
          2,
          2,
          4,
          3,
          5,
          8,
          2,
          1,
          1,
          0,
          12,
          0,
          5,
          6,
          4,
          1,
          0,
          1,
          2,
          13,
          3,
          4,
          0,
          3,
          1,
          0,
          13,
          3,
          3,
          4,
          1,
          0,
          0,
          1,
          10,
          0,
          0,
          0,
          3,
          0,
          5,
          0,
          5,
          0,
          0,
          0,
          4,
          0,
          2,
          2,
          1,
          2,
          1,
          5,
          2,
          0,
          0,
          0,
          5,
          0,
          1,
          1,
          0,
          5,
          0,
          0,
          5,
          8,
          1,
          0,
          2,
          11,
          2,
          3,
          2,
          1,
          3,
          0,
          2,
          3,
          2,
          4,
          0,
          0,
          0,
          2,
          0,
          3,
          3,
          0,
          0,
          10,
          3,
          3,
          1,
          2,
          2,
          0,
          3,
          1,
          3,
          3,
          0,
          3,
          6,
          0,
          1,
          4,
          4,
          6,
          5,
          2,
          1,
          0,
          5,
          7,
          3,
          4,
          0,
          2,
          1,
          3,
          5,
          4,
          15,
          1,
          0,
          0,
          1,
          9,
          1,
          0,
          2,
          7,
          1,
          10,
          0,
          4,
          3,
          4,
          4,
          3,
          0,
          4,
          1,
          2,
          0,
          12,
          8,
          0,
          1,
          1,
          5,
          6,
          3,
          1,
          0,
          4,
          3,
          0,
          2,
          0,
          0,
          0
         ],
         "xaxis": "x",
         "y": [
          2,
          0,
          1,
          1,
          0,
          0,
          1,
          4,
          0,
          3,
          0,
          5,
          4,
          1,
          0,
          0,
          0,
          2,
          0,
          1,
          0,
          0,
          0,
          3,
          1,
          0,
          0,
          1,
          0,
          2,
          0,
          0,
          2,
          2,
          0,
          1,
          2,
          0,
          0,
          0,
          1,
          0,
          3,
          0,
          2,
          7,
          1,
          2,
          2,
          2,
          0,
          0,
          0,
          0,
          1,
          0,
          1,
          1,
          0,
          0,
          0,
          1,
          0,
          2,
          1,
          2,
          1,
          7,
          9,
          1,
          8,
          4,
          1,
          1,
          0,
          1,
          1,
          0,
          5,
          0,
          2,
          2,
          2,
          1,
          1,
          7,
          2,
          3,
          1,
          1,
          0,
          1,
          1,
          1,
          0,
          0,
          4,
          0,
          2,
          2,
          1,
          5,
          1,
          0,
          1,
          9,
          1,
          6,
          5,
          4,
          0,
          2,
          0,
          5,
          2,
          1,
          1,
          4,
          1,
          2,
          5,
          5,
          1,
          0,
          2,
          2,
          1,
          2,
          0,
          2,
          2,
          2,
          0,
          1,
          4,
          3,
          2,
          3,
          0,
          4,
          1,
          1,
          3,
          6,
          0,
          0,
          3,
          0,
          1,
          0,
          2,
          0,
          0,
          0,
          0,
          0,
          4,
          2,
          0,
          2,
          2,
          0,
          2,
          2,
          5,
          2,
          4,
          4,
          1,
          2,
          2,
          1,
          2,
          0,
          2,
          0,
          4,
          2,
          1,
          0,
          2,
          0,
          4,
          4,
          4,
          5,
          2,
          1,
          3,
          1,
          1,
          2,
          3,
          1,
          3,
          2,
          4,
          3,
          2,
          3,
          1,
          1,
          0,
          1,
          0,
          4,
          2,
          2,
          0,
          0,
          0,
          5,
          1,
          0,
          0,
          1,
          1,
          1,
          1,
          3,
          2,
          2,
          1,
          0,
          1,
          1,
          4,
          0,
          0,
          1,
          2,
          0,
          1,
          2,
          8,
          1,
          2,
          1,
          1,
          3,
          0,
          0,
          0,
          3,
          3,
          1,
          1,
          2,
          3,
          0,
          4,
          2,
          3,
          0,
          4,
          1,
          0,
          1,
          4,
          1,
          3,
          2,
          5,
          0,
          1,
          2,
          5,
          2,
          0,
          5,
          0,
          4,
          7,
          0,
          0,
          3,
          0,
          1,
          5,
          2,
          3,
          5,
          1,
          0,
          4,
          3,
          0,
          1,
          4,
          3,
          2,
          3,
          0,
          0,
          0,
          0,
          1,
          0,
          1,
          4,
          2,
          3,
          1,
          13,
          2,
          2,
          2,
          1,
          5,
          1,
          0,
          2,
          1,
          4,
          3,
          1,
          0,
          1,
          6,
          2,
          2,
          0,
          1,
          0,
          2,
          4,
          2,
          1,
          2,
          0,
          7,
          2,
          1,
          3,
          5,
          1,
          0,
          2,
          2,
          1,
          0,
          5,
          4,
          2,
          0,
          0,
          2,
          1,
          1,
          2,
          6,
          4,
          0,
          1,
          2,
          1,
          2,
          5,
          0,
          1,
          2,
          1,
          1,
          0,
          0,
          1,
          1,
          0,
          1,
          3,
          8,
          0,
          3,
          1,
          1,
          2,
          0,
          3,
          3,
          5,
          5,
          0,
          1,
          3,
          3,
          3,
          2,
          3,
          0,
          0,
          0,
          2,
          0,
          2,
          1,
          0,
          3,
          0,
          1,
          1,
          2,
          5,
          0,
          8,
          2,
          2,
          1,
          2,
          0,
          9,
          3,
          0,
          2,
          1,
          3,
          3,
          1,
          4,
          2,
          1,
          1,
          7,
          0,
          0,
          6,
          0,
          0,
          2,
          7,
          2,
          0,
          2,
          1,
          3,
          1,
          2,
          3,
          0,
          1,
          0,
          3,
          1,
          0,
          0,
          0,
          0,
          1,
          1,
          1,
          0,
          1,
          2,
          2,
          0,
          1,
          1,
          0,
          1,
          1,
          3,
          2,
          1,
          1,
          1,
          0,
          2,
          0,
          0,
          0,
          5,
          1,
          2,
          0,
          8,
          1,
          2,
          0,
          2,
          0,
          2,
          3,
          0,
          1,
          4,
          3,
          3,
          3,
          2,
          1,
          1,
          2,
          3,
          2,
          3,
          0,
          1,
          0,
          1,
          2,
          5,
          0,
          3,
          1,
          1,
          1,
          1,
          1,
          1,
          2,
          0,
          1,
          0,
          0,
          4,
          1,
          1,
          1,
          4,
          0,
          0,
          0,
          0,
          0,
          0,
          2,
          2,
          4,
          1,
          2,
          1,
          0,
          2,
          2,
          2,
          0,
          1,
          0,
          0,
          4,
          0,
          3,
          0,
          2,
          0,
          0,
          3,
          0,
          1,
          3,
          0,
          2,
          4,
          2,
          2,
          6,
          1,
          3,
          0,
          4,
          2,
          3,
          0,
          2,
          3,
          1,
          0,
          2,
          1,
          3,
          5,
          5,
          0,
          10,
          0,
          7,
          1,
          0,
          0,
          3,
          8,
          1,
          1,
          2,
          2,
          1,
          3,
          0,
          1,
          3,
          0,
          1,
          3,
          2,
          2,
          1,
          0,
          0,
          3,
          6,
          0,
          2,
          1,
          2,
          0,
          2,
          1,
          1,
          0,
          0,
          0,
          1,
          4,
          0,
          4,
          3,
          4,
          2,
          2,
          1,
          1,
          6,
          1,
          1,
          0,
          4,
          1,
          1,
          0,
          0,
          0,
          3,
          0,
          2,
          0,
          4,
          0,
          2,
          1,
          0,
          3,
          0,
          0,
          2,
          3,
          0,
          2,
          5,
          11,
          4,
          6,
          2,
          1,
          4,
          1,
          0,
          1,
          0,
          1,
          1,
          0,
          0,
          3,
          2,
          1,
          0,
          1,
          0,
          1,
          5,
          3,
          1,
          1,
          4,
          1,
          0,
          0,
          0,
          1,
          1,
          1,
          1,
          0,
          0,
          0,
          0,
          0,
          3,
          2,
          2,
          1,
          1,
          2,
          0,
          0,
          0,
          1,
          0,
          2,
          2,
          1,
          1,
          2,
          0,
          2,
          1,
          2,
          2,
          4,
          0,
          0,
          0,
          0,
          3,
          1,
          0,
          6,
          1,
          4,
          0,
          0,
          2,
          6,
          0,
          0,
          0,
          0,
          1,
          4,
          1,
          0,
          2,
          2,
          0,
          1,
          2,
          5,
          2,
          0,
          1,
          0,
          0,
          0,
          0,
          4,
          1,
          1,
          0,
          0,
          5,
          2,
          3,
          1,
          1,
          2,
          0,
          1,
          5,
          0,
          0,
          0,
          1,
          0,
          1,
          0,
          4,
          6,
          1,
          7,
          0,
          3,
          2,
          4,
          1,
          2,
          0,
          1,
          1,
          0,
          0,
          0,
          0,
          1,
          1,
          0,
          1,
          1,
          2,
          0,
          0,
          1,
          0,
          2,
          2,
          3,
          0,
          0,
          2,
          0,
          3,
          0,
          0,
          0,
          0,
          2,
          0,
          0,
          2,
          4,
          1,
          3,
          0,
          4,
          0,
          4,
          1,
          5,
          1,
          0,
          0,
          6,
          2,
          0,
          2,
          1,
          0,
          5,
          0,
          0,
          1,
          3,
          0,
          1,
          0,
          2,
          2,
          0,
          3,
          1,
          0,
          0,
          0,
          3,
          4,
          2,
          0,
          2,
          1,
          2,
          1,
          0,
          0,
          2,
          5,
          3,
          3,
          0,
          5,
          0,
          1,
          1,
          0,
          0,
          1,
          1,
          0,
          2,
          2,
          0,
          2,
          4,
          11,
          3,
          1,
          1,
          3,
          0,
          0,
          1,
          1,
          0,
          2,
          1,
          1,
          1,
          2,
          1,
          0,
          1,
          2,
          0,
          0,
          3,
          3,
          0,
          1,
          2,
          2,
          1,
          0,
          4,
          2,
          2,
          0,
          2,
          0,
          0,
          4,
          0,
          3,
          1,
          0,
          0,
          7,
          0,
          0,
          6,
          3,
          1,
          1,
          3,
          1,
          0,
          2,
          0,
          0,
          0,
          1,
          0,
          1,
          1,
          2,
          3,
          0,
          0,
          5,
          2,
          3,
          1,
          2,
          5,
          4,
          0,
          2,
          1,
          1,
          0,
          0,
          0,
          4,
          2,
          1,
          0,
          0,
          0,
          1,
          0,
          3,
          0,
          0,
          1,
          0,
          2,
          0,
          0,
          4,
          0,
          2,
          4,
          3,
          4,
          0,
          2,
          1,
          1,
          2,
          1,
          1,
          0,
          0,
          1,
          0,
          4,
          2,
          0,
          1,
          2,
          0,
          5,
          2,
          3,
          2,
          3,
          0,
          1,
          2,
          1,
          2,
          2,
          1,
          2,
          0,
          1,
          0,
          0,
          0,
          1,
          0,
          1,
          1,
          0,
          2,
          2,
          0,
          0,
          0,
          1,
          1,
          1,
          3,
          3,
          3,
          2,
          0,
          0,
          2,
          1,
          1,
          1,
          3,
          2,
          1,
          3,
          3,
          1,
          1,
          0,
          2,
          3,
          1,
          3,
          2,
          2,
          1,
          2,
          1,
          0,
          6,
          2,
          0,
          1,
          1,
          4,
          2,
          4,
          2,
          2,
          1,
          2,
          1,
          1
         ],
         "yaxis": "y"
        }
       ],
       "layout": {
        "legend": {
         "tracegroupgap": 0
        },
        "margin": {
         "t": 60
        },
        "template": {
         "data": {
          "bar": [
           {
            "error_x": {
             "color": "#2a3f5f"
            },
            "error_y": {
             "color": "#2a3f5f"
            },
            "marker": {
             "line": {
              "color": "#E5ECF6",
              "width": 0.5
             },
             "pattern": {
              "fillmode": "overlay",
              "size": 10,
              "solidity": 0.2
             }
            },
            "type": "bar"
           }
          ],
          "barpolar": [
           {
            "marker": {
             "line": {
              "color": "#E5ECF6",
              "width": 0.5
             },
             "pattern": {
              "fillmode": "overlay",
              "size": 10,
              "solidity": 0.2
             }
            },
            "type": "barpolar"
           }
          ],
          "carpet": [
           {
            "aaxis": {
             "endlinecolor": "#2a3f5f",
             "gridcolor": "white",
             "linecolor": "white",
             "minorgridcolor": "white",
             "startlinecolor": "#2a3f5f"
            },
            "baxis": {
             "endlinecolor": "#2a3f5f",
             "gridcolor": "white",
             "linecolor": "white",
             "minorgridcolor": "white",
             "startlinecolor": "#2a3f5f"
            },
            "type": "carpet"
           }
          ],
          "choropleth": [
           {
            "colorbar": {
             "outlinewidth": 0,
             "ticks": ""
            },
            "type": "choropleth"
           }
          ],
          "contour": [
           {
            "colorbar": {
             "outlinewidth": 0,
             "ticks": ""
            },
            "colorscale": [
             [
              0,
              "#0d0887"
             ],
             [
              0.1111111111111111,
              "#46039f"
             ],
             [
              0.2222222222222222,
              "#7201a8"
             ],
             [
              0.3333333333333333,
              "#9c179e"
             ],
             [
              0.4444444444444444,
              "#bd3786"
             ],
             [
              0.5555555555555556,
              "#d8576b"
             ],
             [
              0.6666666666666666,
              "#ed7953"
             ],
             [
              0.7777777777777778,
              "#fb9f3a"
             ],
             [
              0.8888888888888888,
              "#fdca26"
             ],
             [
              1,
              "#f0f921"
             ]
            ],
            "type": "contour"
           }
          ],
          "contourcarpet": [
           {
            "colorbar": {
             "outlinewidth": 0,
             "ticks": ""
            },
            "type": "contourcarpet"
           }
          ],
          "heatmap": [
           {
            "colorbar": {
             "outlinewidth": 0,
             "ticks": ""
            },
            "colorscale": [
             [
              0,
              "#0d0887"
             ],
             [
              0.1111111111111111,
              "#46039f"
             ],
             [
              0.2222222222222222,
              "#7201a8"
             ],
             [
              0.3333333333333333,
              "#9c179e"
             ],
             [
              0.4444444444444444,
              "#bd3786"
             ],
             [
              0.5555555555555556,
              "#d8576b"
             ],
             [
              0.6666666666666666,
              "#ed7953"
             ],
             [
              0.7777777777777778,
              "#fb9f3a"
             ],
             [
              0.8888888888888888,
              "#fdca26"
             ],
             [
              1,
              "#f0f921"
             ]
            ],
            "type": "heatmap"
           }
          ],
          "heatmapgl": [
           {
            "colorbar": {
             "outlinewidth": 0,
             "ticks": ""
            },
            "colorscale": [
             [
              0,
              "#0d0887"
             ],
             [
              0.1111111111111111,
              "#46039f"
             ],
             [
              0.2222222222222222,
              "#7201a8"
             ],
             [
              0.3333333333333333,
              "#9c179e"
             ],
             [
              0.4444444444444444,
              "#bd3786"
             ],
             [
              0.5555555555555556,
              "#d8576b"
             ],
             [
              0.6666666666666666,
              "#ed7953"
             ],
             [
              0.7777777777777778,
              "#fb9f3a"
             ],
             [
              0.8888888888888888,
              "#fdca26"
             ],
             [
              1,
              "#f0f921"
             ]
            ],
            "type": "heatmapgl"
           }
          ],
          "histogram": [
           {
            "marker": {
             "pattern": {
              "fillmode": "overlay",
              "size": 10,
              "solidity": 0.2
             }
            },
            "type": "histogram"
           }
          ],
          "histogram2d": [
           {
            "colorbar": {
             "outlinewidth": 0,
             "ticks": ""
            },
            "colorscale": [
             [
              0,
              "#0d0887"
             ],
             [
              0.1111111111111111,
              "#46039f"
             ],
             [
              0.2222222222222222,
              "#7201a8"
             ],
             [
              0.3333333333333333,
              "#9c179e"
             ],
             [
              0.4444444444444444,
              "#bd3786"
             ],
             [
              0.5555555555555556,
              "#d8576b"
             ],
             [
              0.6666666666666666,
              "#ed7953"
             ],
             [
              0.7777777777777778,
              "#fb9f3a"
             ],
             [
              0.8888888888888888,
              "#fdca26"
             ],
             [
              1,
              "#f0f921"
             ]
            ],
            "type": "histogram2d"
           }
          ],
          "histogram2dcontour": [
           {
            "colorbar": {
             "outlinewidth": 0,
             "ticks": ""
            },
            "colorscale": [
             [
              0,
              "#0d0887"
             ],
             [
              0.1111111111111111,
              "#46039f"
             ],
             [
              0.2222222222222222,
              "#7201a8"
             ],
             [
              0.3333333333333333,
              "#9c179e"
             ],
             [
              0.4444444444444444,
              "#bd3786"
             ],
             [
              0.5555555555555556,
              "#d8576b"
             ],
             [
              0.6666666666666666,
              "#ed7953"
             ],
             [
              0.7777777777777778,
              "#fb9f3a"
             ],
             [
              0.8888888888888888,
              "#fdca26"
             ],
             [
              1,
              "#f0f921"
             ]
            ],
            "type": "histogram2dcontour"
           }
          ],
          "mesh3d": [
           {
            "colorbar": {
             "outlinewidth": 0,
             "ticks": ""
            },
            "type": "mesh3d"
           }
          ],
          "parcoords": [
           {
            "line": {
             "colorbar": {
              "outlinewidth": 0,
              "ticks": ""
             }
            },
            "type": "parcoords"
           }
          ],
          "pie": [
           {
            "automargin": true,
            "type": "pie"
           }
          ],
          "scatter": [
           {
            "fillpattern": {
             "fillmode": "overlay",
             "size": 10,
             "solidity": 0.2
            },
            "type": "scatter"
           }
          ],
          "scatter3d": [
           {
            "line": {
             "colorbar": {
              "outlinewidth": 0,
              "ticks": ""
             }
            },
            "marker": {
             "colorbar": {
              "outlinewidth": 0,
              "ticks": ""
             }
            },
            "type": "scatter3d"
           }
          ],
          "scattercarpet": [
           {
            "marker": {
             "colorbar": {
              "outlinewidth": 0,
              "ticks": ""
             }
            },
            "type": "scattercarpet"
           }
          ],
          "scattergeo": [
           {
            "marker": {
             "colorbar": {
              "outlinewidth": 0,
              "ticks": ""
             }
            },
            "type": "scattergeo"
           }
          ],
          "scattergl": [
           {
            "marker": {
             "colorbar": {
              "outlinewidth": 0,
              "ticks": ""
             }
            },
            "type": "scattergl"
           }
          ],
          "scattermapbox": [
           {
            "marker": {
             "colorbar": {
              "outlinewidth": 0,
              "ticks": ""
             }
            },
            "type": "scattermapbox"
           }
          ],
          "scatterpolar": [
           {
            "marker": {
             "colorbar": {
              "outlinewidth": 0,
              "ticks": ""
             }
            },
            "type": "scatterpolar"
           }
          ],
          "scatterpolargl": [
           {
            "marker": {
             "colorbar": {
              "outlinewidth": 0,
              "ticks": ""
             }
            },
            "type": "scatterpolargl"
           }
          ],
          "scatterternary": [
           {
            "marker": {
             "colorbar": {
              "outlinewidth": 0,
              "ticks": ""
             }
            },
            "type": "scatterternary"
           }
          ],
          "surface": [
           {
            "colorbar": {
             "outlinewidth": 0,
             "ticks": ""
            },
            "colorscale": [
             [
              0,
              "#0d0887"
             ],
             [
              0.1111111111111111,
              "#46039f"
             ],
             [
              0.2222222222222222,
              "#7201a8"
             ],
             [
              0.3333333333333333,
              "#9c179e"
             ],
             [
              0.4444444444444444,
              "#bd3786"
             ],
             [
              0.5555555555555556,
              "#d8576b"
             ],
             [
              0.6666666666666666,
              "#ed7953"
             ],
             [
              0.7777777777777778,
              "#fb9f3a"
             ],
             [
              0.8888888888888888,
              "#fdca26"
             ],
             [
              1,
              "#f0f921"
             ]
            ],
            "type": "surface"
           }
          ],
          "table": [
           {
            "cells": {
             "fill": {
              "color": "#EBF0F8"
             },
             "line": {
              "color": "white"
             }
            },
            "header": {
             "fill": {
              "color": "#C8D4E3"
             },
             "line": {
              "color": "white"
             }
            },
            "type": "table"
           }
          ]
         },
         "layout": {
          "annotationdefaults": {
           "arrowcolor": "#2a3f5f",
           "arrowhead": 0,
           "arrowwidth": 1
          },
          "autotypenumbers": "strict",
          "coloraxis": {
           "colorbar": {
            "outlinewidth": 0,
            "ticks": ""
           }
          },
          "colorscale": {
           "diverging": [
            [
             0,
             "#8e0152"
            ],
            [
             0.1,
             "#c51b7d"
            ],
            [
             0.2,
             "#de77ae"
            ],
            [
             0.3,
             "#f1b6da"
            ],
            [
             0.4,
             "#fde0ef"
            ],
            [
             0.5,
             "#f7f7f7"
            ],
            [
             0.6,
             "#e6f5d0"
            ],
            [
             0.7,
             "#b8e186"
            ],
            [
             0.8,
             "#7fbc41"
            ],
            [
             0.9,
             "#4d9221"
            ],
            [
             1,
             "#276419"
            ]
           ],
           "sequential": [
            [
             0,
             "#0d0887"
            ],
            [
             0.1111111111111111,
             "#46039f"
            ],
            [
             0.2222222222222222,
             "#7201a8"
            ],
            [
             0.3333333333333333,
             "#9c179e"
            ],
            [
             0.4444444444444444,
             "#bd3786"
            ],
            [
             0.5555555555555556,
             "#d8576b"
            ],
            [
             0.6666666666666666,
             "#ed7953"
            ],
            [
             0.7777777777777778,
             "#fb9f3a"
            ],
            [
             0.8888888888888888,
             "#fdca26"
            ],
            [
             1,
             "#f0f921"
            ]
           ],
           "sequentialminus": [
            [
             0,
             "#0d0887"
            ],
            [
             0.1111111111111111,
             "#46039f"
            ],
            [
             0.2222222222222222,
             "#7201a8"
            ],
            [
             0.3333333333333333,
             "#9c179e"
            ],
            [
             0.4444444444444444,
             "#bd3786"
            ],
            [
             0.5555555555555556,
             "#d8576b"
            ],
            [
             0.6666666666666666,
             "#ed7953"
            ],
            [
             0.7777777777777778,
             "#fb9f3a"
            ],
            [
             0.8888888888888888,
             "#fdca26"
            ],
            [
             1,
             "#f0f921"
            ]
           ]
          },
          "colorway": [
           "#636efa",
           "#EF553B",
           "#00cc96",
           "#ab63fa",
           "#FFA15A",
           "#19d3f3",
           "#FF6692",
           "#B6E880",
           "#FF97FF",
           "#FECB52"
          ],
          "font": {
           "color": "#2a3f5f"
          },
          "geo": {
           "bgcolor": "white",
           "lakecolor": "white",
           "landcolor": "#E5ECF6",
           "showlakes": true,
           "showland": true,
           "subunitcolor": "white"
          },
          "hoverlabel": {
           "align": "left"
          },
          "hovermode": "closest",
          "mapbox": {
           "style": "light"
          },
          "paper_bgcolor": "white",
          "plot_bgcolor": "#E5ECF6",
          "polar": {
           "angularaxis": {
            "gridcolor": "white",
            "linecolor": "white",
            "ticks": ""
           },
           "bgcolor": "#E5ECF6",
           "radialaxis": {
            "gridcolor": "white",
            "linecolor": "white",
            "ticks": ""
           }
          },
          "scene": {
           "xaxis": {
            "backgroundcolor": "#E5ECF6",
            "gridcolor": "white",
            "gridwidth": 2,
            "linecolor": "white",
            "showbackground": true,
            "ticks": "",
            "zerolinecolor": "white"
           },
           "yaxis": {
            "backgroundcolor": "#E5ECF6",
            "gridcolor": "white",
            "gridwidth": 2,
            "linecolor": "white",
            "showbackground": true,
            "ticks": "",
            "zerolinecolor": "white"
           },
           "zaxis": {
            "backgroundcolor": "#E5ECF6",
            "gridcolor": "white",
            "gridwidth": 2,
            "linecolor": "white",
            "showbackground": true,
            "ticks": "",
            "zerolinecolor": "white"
           }
          },
          "shapedefaults": {
           "line": {
            "color": "#2a3f5f"
           }
          },
          "ternary": {
           "aaxis": {
            "gridcolor": "white",
            "linecolor": "white",
            "ticks": ""
           },
           "baxis": {
            "gridcolor": "white",
            "linecolor": "white",
            "ticks": ""
           },
           "bgcolor": "#E5ECF6",
           "caxis": {
            "gridcolor": "white",
            "linecolor": "white",
            "ticks": ""
           }
          },
          "title": {
           "x": 0.05
          },
          "xaxis": {
           "automargin": true,
           "gridcolor": "white",
           "linecolor": "white",
           "ticks": "",
           "title": {
            "standoff": 15
           },
           "zerolinecolor": "white",
           "zerolinewidth": 2
          },
          "yaxis": {
           "automargin": true,
           "gridcolor": "white",
           "linecolor": "white",
           "ticks": "",
           "title": {
            "standoff": 15
           },
           "zerolinecolor": "white",
           "zerolinewidth": 2
          }
         }
        },
        "xaxis": {
         "anchor": "y",
         "domain": [
          0,
          1
         ],
         "title": {
          "text": "Goals"
         }
        },
        "yaxis": {
         "anchor": "x",
         "domain": [
          0,
          1
         ],
         "title": {
          "text": "Assists"
         }
        }
       }
      }
     },
     "metadata": {},
     "output_type": "display_data"
    }
   ],
   "source": [
    "px.scatter(striker_dataframe, x='Goals', y='Assists', hover_data=['Player'])"
   ]
  },
  {
   "cell_type": "code",
   "execution_count": 42,
   "metadata": {},
   "outputs": [
    {
     "data": {
      "application/vnd.plotly.v1+json": {
       "config": {
        "plotlyServerURL": "https://plot.ly"
       },
       "data": [
        {
         "customdata": [
          [
           "Andrés Martín"
          ],
          [
           "Antonino La Gumina"
          ],
          [
           "Arana"
          ],
          [
           "Arnau Ortiz"
          ],
          [
           "Aurélien Scheidler"
          ],
          [
           "Ba-Muaka Simakala"
          ],
          [
           "Bruno Xavier Almeida Costa"
          ],
          [
           "Cesar Falletti"
          ],
          [
           "Chiquinho"
          ],
          [
           "Dani Escriche"
          ],
          [
           "Dauda Mohammed"
          ],
          [
           "Dennis Johnsen"
          ],
          [
           "Diego Falcinelli"
          ],
          [
           "Eddie Salcedo"
          ],
          [
           "Elady Zorrilla"
          ],
          [
           "Ettore Gliozzi"
          ],
          [
           "Federico Dionisi"
          ],
          [
           "Fidel"
          ],
          [
           "Florian Tardieu"
          ],
          [
           "Francesco Forte"
          ],
          [
           "Gabriel Lunetta"
          ],
          [
           "Gaëtan Charbonnier"
          ],
          [
           "Gaëtan Courtet"
          ],
          [
           "Giacomo Manzari"
          ],
          [
           "Joni Montiel"
          ],
          [
           "Jovanny Bolívar"
          ],
          [
           "Kalidou Sidibé"
          ],
          [
           "Kapitbafan Djoco"
          ],
          [
           "Lauti"
          ],
          [
           "Lorenzo Di Stefano"
          ],
          [
           "Luismi"
          ],
          [
           "Mamadou Fofana"
          ],
          [
           "Mamadou Sylla"
          ],
          [
           "Mandela Keita"
          ],
          [
           "Mateus Fernandes"
          ],
          [
           "Mats Rits"
          ],
          [
           "Matteo Stoppa"
          ],
          [
           "Miguel"
          ],
          [
           "Mirko Antonucci"
          ],
          [
           "Mounaim El Idrissy"
          ],
          [
           "Nacho"
          ],
          [
           "Nicholas Bonfanti"
          ],
          [
           "Nieto"
          ],
          [
           "Norman Bassette"
          ],
          [
           "Nuno Gonçalo Moreira"
          ],
          [
           "Nuno Santos"
          ],
          [
           "Ousmane Camara"
          ],
          [
           "Paulinho"
          ],
          [
           "Pedro Mendes"
          ],
          [
           "Pere Milla"
          ],
          [
           "Roko Baturina"
          ],
          [
           "Sacha Banse"
          ],
          [
           "Sergio Bermejo"
          ],
          [
           "Sergio León"
          ],
          [
           "Ugo Bonnet"
          ],
          [
           "Victor Lobry"
          ],
          [
           "Vittorio Parigini"
          ],
          [
           "Yanis Rahmani"
          ],
          [
           "Yohan Demoncy"
          ],
          [
           "Ádám Nagy"
          ],
          [
           "Álex López"
          ],
          [
           "Úmaro Embaló"
          ],
          [
           "Ragnar Ache"
          ],
          [
           "Oladapo Afolayan"
          ],
          [
           "Xavier Amaechi"
          ],
          [
           "Etienne Amenyido"
          ],
          [
           "Ilyas Ansah"
          ],
          [
           "Shinta Appelkamp"
          ],
          [
           "Barış Atik"
          ],
          [
           "Nick Bätzner"
          ],
          [
           "László Bénes"
          ],
          [
           "Filip Bilbija"
          ],
          [
           "Andreas Bouchalakis"
          ],
          [
           "Terrence Boyd"
          ],
          [
           "Júnior Brumado"
          ],
          [
           "Dženis Burnić"
          ],
          [
           "Luc Castaignos"
          ],
          [
           "Jens Castrop"
          ],
          [
           "Jason Ceka"
          ],
          [
           "Max Christiansen"
          ],
          [
           "Amara Conde"
          ],
          [
           "Christian Conteh"
          ],
          [
           "Sirlord Conteh"
          ],
          [
           "Mickaël Cuisance"
          ],
          [
           "Palkó Dárdai"
          ],
          [
           "Jean-Luc Dompé"
          ],
          [
           "Dennis Dressel"
          ],
          [
           "Johannes Eggestein"
          ],
          [
           "Erik Engelhardt"
          ],
          [
           "Yannik Engelhardt"
          ],
          [
           "Sebastian Ernst"
          ],
          [
           "Gino Fechner"
          ],
          [
           "Manuel Feil"
          ],
          [
           "Florian Flick"
          ],
          [
           "Hólmbert Friðjónsson"
          ],
          [
           "Kianz Froese"
          ],
          [
           "Robert Glatzel"
          ],
          [
           "Dave Gnaase"
          ],
          [
           "Benjamin Goller"
          ],
          [
           "Johan Gomez"
          ],
          [
           "Jérôme Gondorf"
          ],
          [
           "Julian Green"
          ],
          [
           "Adriano Grimaldi"
          ],
          [
           "Mattes Hansen"
          ],
          [
           "Daniel Hanslik"
          ],
          [
           "Marcel Hartel"
          ],
          [
           "Daichi Hayashi"
          ],
          [
           "Robin Heußer"
          ],
          [
           "Lewis Holtby"
          ],
          [
           "Branimir Hrgota"
          ],
          [
           "Lee Hyunju"
          ],
          [
           "Svante Ingelsson"
          ],
          [
           "John Iredale"
          ],
          [
           "Jackson Irvine"
          ],
          [
           "Tatsuya Ito"
          ],
          [
           "Bjarke Jacobsen"
          ],
          [
           "Thore Jacobsen"
          ],
          [
           "Bakery Jatta"
          ],
          [
           "Leon Jensen"
          ],
          [
           "Þórir Jóhann Helgason"
          ],
          [
           "Ísak Jóhannesson"
          ],
          [
           "Kenan Karaman"
          ],
          [
           "Fabio Kaufmann"
          ],
          [
           "Christian Kinsombi"
          ],
          [
           "Sebastian Klaas"
          ],
          [
           "Felix Klaus"
          ],
          [
           "Kai Klefisch"
          ],
          [
           "Ransford Königsdörffer"
          ],
          [
           "Franko Kovačević"
          ],
          [
           "Robin Krauße"
          ],
          [
           "Florian Krüger"
          ],
          [
           "Fabian Kunze"
          ],
          [
           "Lukas Kunze"
          ],
          [
           "Bryan Lasme"
          ],
          [
           "Tim Lemperle"
          ],
          [
           "Enzo Leopold"
          ],
          [
           "Jan Luca Schuler"
          ],
          [
           "Shuto Machino"
          ],
          [
           "Haralambos Makridis"
          ],
          [
           "Igor Matanovic"
          ],
          [
           "Keke Maximilian Topp"
          ],
          [
           "Jonas Meffert"
          ],
          [
           "Connor Metcalfe"
          ],
          [
           "Paul Nebel"
          ],
          [
           "András Németh"
          ],
          [
           "Florian Niederlechner"
          ],
          [
           "Håvard Nielsen"
          ],
          [
           "Noel Niemann"
          ],
          [
           "Jona Niemiec"
          ],
          [
           "Jannis Nikolaou"
          ],
          [
           "Kanji Okunuki"
          ],
          [
           "Kwasi Okyere Wriedt"
          ],
          [
           "Aaron Opoku"
          ],
          [
           "Levin Öztunalı"
          ],
          [
           "Juan Perea"
          ],
          [
           "Lukas Petkov"
          ],
          [
           "Immanuel Pherai"
          ],
          [
           "Rayan Philippe"
          ],
          [
           "Benedikt Pichler"
          ],
          [
           "Felix Platte"
          ],
          [
           "Smail Prevljak"
          ],
          [
           "Kai Pröger"
          ],
          [
           "Ivan Prtajin"
          ],
          [
           "Tobias Raschl"
          ],
          [
           "Fabian Reese"
          ],
          [
           "Ludovit Reis"
          ],
          [
           "Marlon Ritter"
          ],
          [
           "Jannik Rochelt"
          ],
          [
           "Elias Saad"
          ],
          [
           "Semih Sahin"
          ],
          [
           "Philipp Sander"
          ],
          [
           "Ron Schallenberg"
          ],
          [
           "Louis Schaub"
          ],
          [
           "Derry Scherhant"
          ],
          [
           "Lukas Schleimer"
          ],
          [
           "Fabian Schleusener"
          ],
          [
           "Luca Schnellbacher"
          ],
          [
           "Paul Seguin"
          ],
          [
           "Armindo Sieb"
          ],
          [
           "Sarpreet Singh"
          ],
          [
           "Steven Skrzybski"
          ],
          [
           "Dennis Srbeny"
          ],
          [
           "Lars Stindl"
          ],
          [
           "Paul Stock"
          ],
          [
           "Haris Tabakovic"
          ],
          [
           "Richmond Tachie"
          ],
          [
           "Ao Tanaka"
          ],
          [
           "Lino Tempelmann"
          ],
          [
           "Simon Terodde"
          ],
          [
           "Robert Tesche"
          ],
          [
           "Cedric Teuchert"
          ],
          [
           "Nicolo Tresoldi"
          ],
          [
           "Christos Tzolis"
          ],
          [
           "Anthony Ujah"
          ],
          [
           "Vincent Vermeij"
          ],
          [
           "Andreas Voglsammer"
          ],
          [
           "Robert Wagner"
          ],
          [
           "Marvin Wanitzek"
          ],
          [
           "Paul Wanner"
          ],
          [
           "Marten Winkler"
          ],
          [
           "Jannes Wulff"
          ],
          [
           "Can Yılmaz Uzun"
          ],
          [
           "Budu Zivzivadze"
          ],
          [
           "Shuto Abe"
          ],
          [
           "Éder Álvarez Balanta"
          ],
          [
           "Steven Alzate"
          ],
          [
           "Mohamed El Amine Amoura"
          ],
          [
           "Tolu Arokodare"
          ],
          [
           "Felipe Avenatti"
          ],
          [
           "Youssouph Badji"
          ],
          [
           "Brandon Baiye"
          ],
          [
           "Michel-Ange Balikwisha"
          ],
          [
           "William Balikwisha"
          ],
          [
           "Ezechiel Banzuzi"
          ],
          [
           "Joselpho Barnes"
          ],
          [
           "Antoine Bernier"
          ],
          [
           "Mickaël Biron"
          ],
          [
           "Christopher Bonsu Baah"
          ],
          [
           "Jonatan Braut Brunes"
          ],
          [
           "Massimo Bruno"
          ],
          [
           "Nacer Chadli"
          ],
          [
           "Regan Charles-Cook"
          ],
          [
           "Isaac Christie-Davies"
          ],
          [
           "Hugo Cuypers"
          ],
          [
           "Oday Dabbagh"
          ],
          [
           "Erdon Daci"
          ],
          [
           "Jón Dagur Þorsteinsson"
          ],
          [
           "Isaak Davies"
          ],
          [
           "Julien De Sart"
          ],
          [
           "Nils De Wilde"
          ],
          [
           "Mathias Delorge"
          ],
          [
           "Kevin Denkey"
          ],
          [
           "Jerome Deom"
          ],
          [
           "Kasper Dolberg"
          ],
          [
           "Anders Dreyer"
          ],
          [
           "Pierre Dwomoh"
          ],
          [
           "Dennis Eckert"
          ],
          [
           "Jurgen Ekkelenkamp"
          ],
          [
           "Alieu Fadera"
          ],
          [
           "Alfreð Finnbogason"
          ],
          [
           "Matija Frigan"
          ],
          [
           "Joel Fujita"
          ],
          [
           "Matías Galarza"
          ],
          [
           "Omri Gandelman"
          ],
          [
           "Yann Gboho"
          ],
          [
           "Pieter Gerkens"
          ],
          [
           "Makhtar Gueye"
          ],
          [
           "Parfait Guiagon"
          ],
          [
           "Geoffry Hairemans"
          ],
          [
           "Dogucan Haspolat"
          ],
          [
           "Thorgan Hazard"
          ],
          [
           "Daan Heymans"
          ],
          [
           "Bryan Heynen"
          ],
          [
           "Andrew Hjulsager"
          ],
          [
           "Patrik Hrošovský"
          ],
          [
           "Marco Ilaimaharitra"
          ],
          [
           "George Ilenikhena"
          ],
          [
           "Ryotaro Ito"
          ],
          [
           "Vincent Janssen"
          ],
          [
           "Jutglà"
          ],
          [
           "Abdelkahar Kadri"
          ],
          [
           "Wilfried Kanga"
          ],
          [
           "Hayao Kawabe"
          ],
          [
           "Fatih Kaya"
          ],
          [
           "Amadou Keita"
          ],
          [
           "Gyrano Kerk"
          ],
          [
           "Bilal El Khannouss"
          ],
          [
           "Aboubakary Koita"
          ],
          [
           "Mory Konaté"
          ],
          [
           "Sven Kums"
          ],
          [
           "Lion Lauberbach"
          ],
          [
           "Félix Lemaréchal"
          ],
          [
           "Theo Leoni"
          ],
          [
           "Nicolas Madsen"
          ],
          [
           "Mathieu Maertens"
          ],
          [
           "Yonas Malede"
          ],
          [
           "Kristiyan Malinov"
          ],
          [
           "Yusuke Matsuo"
          ],
          [
           "Youssef Maziz"
          ],
          [
           "Pathé Mboup"
          ],
          [
           "Xavier Mercier"
          ],
          [
           "Alan Minda"
          ],
          [
           "Kevin Möhwald"
          ],
          [
           "Ryota Morioka"
          ],
          [
           "Kerim Mrabti"
          ],
          [
           "Arbnor Muja"
          ],
          [
           "Ngal'Ayel Mukau"
          ],
          [
           "Casper Nielsen"
          ],
          [
           "Gustaf Nilsson"
          ],
          [
           "Nachon Nsingi"
          ],
          [
           "Isaac Nuhu"
          ],
          [
           "Antonio Nusa"
          ],
          [
           "Aiden O'Neill"
          ],
          [
           "Noah Ohio"
          ],
          [
           "Kazeem Olaigbe"
          ],
          [
           "Raphael Onyedika"
          ],
          [
           "Nathan Opoku"
          ],
          [
           "Gift Orban"
          ],
          [
           "Luca Oyen"
          ],
          [
           "Joseph Paintsil"
          ],
          [
           "Miloš Pantović"
          ],
          [
           "Patrick Pflücke"
          ],
          [
           "Arthur Piedfort"
          ],
          [
           "Cameron Puertas"
          ],
          [
           "Mathias Rasmussen"
          ],
          [
           "Jeff Reine-Adélaïde"
          ],
          [
           "Kevin Rodríguez"
          ],
          [
           "Noah Sadiki"
          ],
          [
           "Rob Schoofs"
          ],
          [
           "Siebe Schrijvers"
          ],
          [
           "Florent da Silva"
          ],
          [
           "Leonardo da Silva Lopes"
          ],
          [
           "Abdoulaye Sissako"
          ],
          [
           "Andreas Skov Olsen"
          ],
          [
           "Thibo Somers"
          ],
          [
           "Yira Sor"
          ],
          [
           "Kamal Sowah"
          ],
          [
           "Lucas Stassin"
          ],
          [
           "Jarne Steuckers"
          ],
          [
           "Nikola Storm"
          ],
          [
           "Mario Stroeykens"
          ],
          [
           "Nikola Štulić"
          ],
          [
           "Serhiy Sydorchuk"
          ],
          [
           "Youssuf Sylla"
          ],
          [
           "Thiago"
          ],
          [
           "Jean Thierry Lazare"
          ],
          [
           "Tarik Tissoudali"
          ],
          [
           "Kyan Vaesen"
          ],
          [
           "Thomas Van den Keybus"
          ],
          [
           "Hannes Van der Bruggen"
          ],
          [
           "Hans Vanaken"
          ],
          [
           "Charles Vanhoutte"
          ],
          [
           "Luis Vázquez"
          ],
          [
           "Arthur Vermeeren"
          ],
          [
           "Yari Verschaeren"
          ],
          [
           "Hugo Vetlesen"
          ],
          [
           "Rihito Yamamoto"
          ],
          [
           "Griffin Yow"
          ],
          [
           "Alhassan Yusuf"
          ],
          [
           "Kahveh Zahiroleslam"
          ],
          [
           "Andi Zeqiri"
          ],
          [
           "Philip Zinckernagel"
          ],
          [
           "Adem Zorgane"
          ],
          [
           "Himad Abdelli"
          ],
          [
           "Martin Adeline"
          ],
          [
           "Jordan Adéoti"
          ],
          [
           "Migouel Alfarela"
          ],
          [
           "Julien Anziani"
          ],
          [
           "Taïryk Arconte"
          ],
          [
           "Kouadou Assoumou"
          ],
          [
           "Mathias Autret"
          ],
          [
           "Florian Ayé"
          ],
          [
           "Samy Baghdadi"
          ],
          [
           "Yacine Bammou"
          ],
          [
           "Enzo Bardeli"
          ],
          [
           "Gabriel Bares"
          ],
          [
           "Mons Bassouamina"
          ],
          [
           "Jessy Bénet"
          ],
          [
           "Zakaria Bengueddoudj"
          ],
          [
           "Steeve Beusnard"
          ],
          [
           "Florian Bianchini"
          ],
          [
           "Clément Billemaz"
          ],
          [
           "Antonin Bobichon"
          ],
          [
           "Rémy Boissier"
          ],
          [
           "Benjamin Bouchouari"
          ],
          [
           "Khalid Boutaïb"
          ],
          [
           "Aymen Boutoutaou"
          ],
          [
           "Frank Boya"
          ],
          [
           "Bilal Brahimi"
          ],
          [
           "Noah Cadiou"
          ],
          [
           "Mathieu Cafaro"
          ],
          [
           "Adama Camara"
          ],
          [
           "Mamadou Camara"
          ],
          [
           "Pierrick Capelle"
          ],
          [
           "Andy Carroll"
          ],
          [
           "Nassim Chadli"
          ],
          [
           "Mehdi Chahiri"
          ],
          [
           "Dylan Chambost"
          ],
          [
           "Xavier Chavalerin"
          ],
          [
           "Killian Corredor"
          ],
          [
           "Kalifa Coulibaly"
          ],
          [
           "Sessi D'Almeida"
          ],
          [
           "Quentin Daubin"
          ],
          [
           "Zuriko Davitashvili"
          ],
          [
           "Logan Delaurier Chaubet"
          ],
          [
           "Clément Depres"
          ],
          [
           "Pedro Díaz"
          ],
          [
           "Lois Diony"
          ],
          [
           "Assane Dioussé"
          ],
          [
           "Maxime Do Couto Teixeira"
          ],
          [
           "Alan Do Marcolino"
          ],
          [
           "Kyliane Dong"
          ],
          [
           "Lohann Doucet"
          ],
          [
           "Tom Ducrocq"
          ],
          [
           "Alberth Elis"
          ],
          [
           "Maxime Etuin"
          ],
          [
           "Zinedine Ferhat"
          ],
          [
           "Lamine Fomba"
          ],
          [
           "Garland Gbelle"
          ],
          [
           "Jérémy Gélin"
          ],
          [
           "Owen Géne"
          ],
          [
           "Rayan Ghrieb"
          ],
          [
           "Armand Gnanduillet"
          ],
          [
           "Alimani Gory"
          ],
          [
           "Baptiste Guillaume"
          ],
          [
           "Giovanni Haag"
          ],
          [
           "Ilyes Hamache"
          ],
          [
           "Ben Hamed Touré"
          ],
          [
           "Pierre-Yves Hamel"
          ],
          [
           "Gauthier Hein"
          ],
          [
           "Andreas Hountondji"
          ],
          [
           "Adrien Hunou"
          ],
          [
           "Pape Ibnou Bâ"
          ],
          [
           "Danylo Ihnatenko"
          ],
          [
           "Luka Ilić"
          ],
          [
           "Tim Jabol"
          ],
          [
           "Valentin Jacob"
          ],
          [
           "Lenny Joseph"
          ],
          [
           "Andrew Jung"
          ],
          [
           "Junior Kadile"
          ],
          [
           "Gaël Kakuta"
          ],
          [
           "Nordine Kandil"
          ],
          [
           "Abdoulaye Kanté"
          ],
          [
           "Ahmed Kashi"
          ],
          [
           "Ilan Kebbal"
          ],
          [
           "Tidiane Keita"
          ],
          [
           "David Kjær Kruse"
          ],
          [
           "Anthony Knockaert"
          ],
          [
           "Godson Kyeremeh"
          ],
          [
           "Rémy Labeau Lascary"
          ],
          [
           "Mohamed Lamine Diaby"
          ],
          [
           "Antoine Larose"
          ],
          [
           "Mickaël Le Bihan"
          ],
          [
           "Antoine Léautey"
          ],
          [
           "Noé Lebreton"
          ],
          [
           "Makabi Lilepo"
          ],
          [
           "Jérémy Livolant"
          ],
          [
           "Julien López"
          ],
          [
           "Joseph Lopy"
          ],
          [
           "Dylan Louiserre"
          ],
          [
           "Josias Lukembila"
          ],
          [
           "Taylor Luvambo"
          ],
          [
           "Youssouf M'Changama"
          ],
          [
           "Eros Maddy"
          ],
          [
           "Louis Mafouta"
          ],
          [
           "Hianga Mananga Mbock"
          ],
          [
           "Cyril Mandouki"
          ],
          [
           "Thomas Mangani"
          ],
          [
           "Vincent Marchetti"
          ],
          [
           "Julien Masson"
          ],
          [
           "Isaac Matondo"
          ],
          [
           "Jean Mattéo Bahoya"
          ],
          [
           "Farid El Melali"
          ],
          [
           "Alexandre Mendy"
          ],
          [
           "Yanis Merdji"
          ],
          [
           "Mehdi Merghem"
          ],
          [
           "Thomas Monconduit"
          ],
          [
           "Baptiste Mouazan"
          ],
          [
           "Aimen Moueffek"
          ],
          [
           "Louis Mouton"
          ],
          [
           "Papa Ndiaga Yade"
          ],
          [
           "Noha Ndombasi Nlandu"
          ],
          [
           "Ibrahima Niane"
          ],
          [
           "Riad Nouri"
          ],
          [
           "Samuel Ntamack"
          ],
          [
           "Natanael Ntolla"
          ],
          [
           "Junior Olaitan"
          ],
          [
           "Ado Onaiwu"
          ],
          [
           "Ángel Orelién"
          ],
          [
           "Amine El Ouazzani"
          ],
          [
           "Zinédine Ould Khaled"
          ],
          [
           "Elisha Owusu"
          ],
          [
           "Vincent Pajot"
          ],
          [
           "Gaëtan Perrin"
          ],
          [
           "Alexandre Phliponeau"
          ],
          [
           "Hugo Picard"
          ],
          [
           "Balthazar Pierret"
          ],
          [
           "Alexi Pitu"
          ],
          [
           "Virgiliu Postolachi"
          ],
          [
           "Lorenzo Rajot"
          ],
          [
           "Rayan Raveloson"
          ],
          [
           "Dante Rigo"
          ],
          [
           "Baptiste Roux"
          ],
          [
           "Jimmy Roye"
          ],
          [
           "Amadou Sagna"
          ],
          [
           "Rafiki Said"
          ],
          [
           "Henri Saivet"
          ],
          [
           "Gustavo Sangaré"
          ],
          [
           "Sam Sanna"
          ],
          [
           "Benjamin Santelli"
          ],
          [
           "Bamba Sanyang"
          ],
          [
           "Mohamed Sbai"
          ],
          [
           "Steve Shamal"
          ],
          [
           "Lassine Sinayoko"
          ],
          [
           "Issouf Sissokho"
          ],
          [
           "Ibrahim Sissoko"
          ],
          [
           "Jacques Siwe"
          ],
          [
           "Sambou Soumano"
          ],
          [
           "Fawaz Al-Sqoor"
          ],
          [
           "Moussa Sylla"
          ],
          [
           "Eddy Sylvestre"
          ],
          [
           "Waniss Taibi"
          ],
          [
           "Abdoul-Fessal Tapsoba"
          ],
          [
           "Malik Tchokounté"
          ],
          [
           "Kevin Testud"
          ],
          [
           "Titouan Thomas"
          ],
          [
           "Félix Tomi"
          ],
          [
           "Saikou Touray"
          ],
          [
           "Yoann Touzghar"
          ],
          [
           "Axel Urie"
          ],
          [
           "Antoine Valerio"
          ],
          [
           "Theo Valls"
          ],
          [
           "Nick Venema"
          ],
          [
           "Christophe Vincent"
          ],
          [
           "Žan Vipotnik"
          ],
          [
           "Gaëtan Weissbeck"
          ],
          [
           "Wilitty Younoussa"
          ],
          [
           "Alan"
          ],
          [
           "Jeremy Antonisse"
          ],
          [
           "Pedro Aparício"
          ],
          [
           "Óscar Aranda"
          ],
          [
           "Henrique Araújo"
          ],
          [
           "Arthur"
          ],
          [
           "Gustavo Assuncao"
          ],
          [
           "Elves Baldé"
          ],
          [
           "Daniel Bandeira"
          ],
          [
           "Simon Banza"
          ],
          [
           "Rafael Barbosa"
          ],
          [
           "Bachir Belloumi"
          ],
          [
           "Beni"
          ],
          [
           "Benny"
          ],
          [
           "Emmanuel Boateng"
          ],
          [
           "Gonçalo Borges"
          ],
          [
           "Róbert Boženík"
          ],
          [
           "Daniel Bragança"
          ],
          [
           "Bruma"
          ],
          [
           "Aleksandar Busnić"
          ],
          [
           "Jhonder Cádiz"
          ],
          [
           "João Pedro Gomes Camacho"
          ],
          [
           "Felippe Cardoso"
          ],
          [
           "Carlinhos"
          ],
          [
           "Ronie Carrillo"
          ],
          [
           "Martim Carvalho"
          ],
          [
           "Vitor Carvalho"
          ],
          [
           "Facundo Cáseres"
          ],
          [
           "Cassiano"
          ],
          [
           "Tidjany Chabrol"
          ],
          [
           "Clayton"
          ],
          [
           "Francisco Conceição"
          ],
          [
           "Leo Cordeiro"
          ],
          [
           "Félix Correia"
          ],
          [
           "Murilo Costa"
          ],
          [
           "Rui Costa"
          ],
          [
           "Dener"
          ],
          [
           "Ángel Di María"
          ],
          [
           "Tiago Dias"
          ],
          [
           "Álvaro djaló"
          ],
          [
           "Mihai Dobre"
          ],
          [
           "Maxime Dominguez"
          ],
          [
           "Bruno Duarte"
          ],
          [
           "Marcus Edwards"
          ],
          [
           "Samuel Essende"
          ],
          [
           "Stephen Eustáquio"
          ],
          [
           "Evanilson"
          ],
          [
           "Claudio Falcão"
          ],
          [
           "Fernando"
          ],
          [
           "Tiago Fonseca Morais"
          ],
          [
           "André Franco"
          ],
          [
           "Gonçalo Franco"
          ],
          [
           "Kanya Fujimoto"
          ],
          [
           "Galeno"
          ],
          [
           "Mory Gbane"
          ],
          [
           "Pedro Gonçalves"
          ],
          [
           "Vítor Gonçalves"
          ],
          [
           "Cristo González"
          ],
          [
           "Nicolás González"
          ],
          [
           "João Graça"
          ],
          [
           "Ricardo Guimarães"
          ],
          [
           "Rafik Guitane"
          ],
          [
           "Viktor Gyökeres"
          ],
          [
           "Tomás Händel"
          ],
          [
           "Héctor"
          ],
          [
           "Morten Hjulmand"
          ],
          [
           "Jordan Holsgrove"
          ],
          [
           "André Horta"
          ],
          [
           "Ricardo Horta"
          ],
          [
           "André Inácio"
          ],
          [
           "Fabrício Isidoro"
          ],
          [
           "Léo Jabá"
          ],
          [
           "Ivan Jaime Pajuelo"
          ],
          [
           "Jardel"
          ],
          [
           "Jason"
          ],
          [
           "Sylvester Jasper"
          ],
          [
           "Jo"
          ],
          [
           "Joca"
          ],
          [
           "Samuel Justo"
          ],
          [
           "Kikas"
          ],
          [
           "Kobamelo Kodisang"
          ],
          [
           "Orkun Kökçü"
          ],
          [
           "Eboue Kouassi"
          ],
          [
           "Matías Lacava"
          ],
          [
           "Bruno Lourenço"
          ],
          [
           "André Luis"
          ],
          [
           "Florentino Luís"
          ],
          [
           "José Luis Rodríguez"
          ],
          [
           "Madson"
          ],
          [
           "Gaius Makouta"
          ],
          [
           "Zé Manuel"
          ],
          [
           "João Mário"
          ],
          [
           "Marlon"
          ],
          [
           "Alejandro Marqués"
          ],
          [
           "João Marques"
          ],
          [
           "Toni Martínez"
          ],
          [
           "Marco Matias"
          ],
          [
           "João Mendes"
          ],
          [
           "Hidemasa Morita"
          ],
          [
           "Rafa Mújica"
          ],
          [
           "Petar Musa"
          ],
          [
           "Diogo Nascimento"
          ],
          [
           "Regis Ndo"
          ],
          [
           "David Neres"
          ],
          [
           "Neto"
          ],
          [
           "João Neves"
          ],
          [
           "Nonoca"
          ],
          [
           "Kelechi Nwakali"
          ],
          [
           "Lawrence Ofori"
          ],
          [
           "Mattheus Oliveira"
          ],
          [
           "Amine Oudrhiri"
          ],
          [
           "João Pedro"
          ],
          [
           "Sebastián Pérez Cardona"
          ],
          [
           "Pizzi"
          ],
          [
           "Miguel Puche García"
          ],
          [
           "Miguel Reisinho"
          ],
          [
           "Rúben Tiago Rodrigues Ribeiro"
          ],
          [
           "Pablo Roberto"
          ],
          [
           "Gonçalo Rodrigues"
          ],
          [
           "Ronald"
          ],
          [
           "Abel Ruiz"
          ],
          [
           "Leonardo Ruíz"
          ],
          [
           "Gustavo sá"
          ],
          [
           "Pedro Sá"
          ],
          [
           "Dylan Saint-Louis"
          ],
          [
           "Samu"
          ],
          [
           "Leandro Sanca"
          ],
          [
           "Pedro Santos"
          ],
          [
           "André Silva"
          ],
          [
           "Jota Silva"
          ],
          [
           "Rafa Silva"
          ],
          [
           "Tiago Silva"
          ],
          [
           "David Simão"
          ],
          [
           "Yuki Soma"
          ],
          [
           "Aloísio Souza Genézio"
          ],
          [
           "Morlaye Sylla"
          ],
          [
           "Mehdi Taremi"
          ],
          [
           "Heriberto Tavares"
          ],
          [
           "Martim Tavares"
          ],
          [
           "Ronaldo Tavares"
          ],
          [
           "Casper Tengstedt"
          ],
          [
           "Pedro Tiba"
          ],
          [
           "Mirko Topić"
          ],
          [
           "Alfonso Trezza"
          ],
          [
           "Francisco Trincão"
          ],
          [
           "Alan Varela"
          ],
          [
           "Hélio Varela"
          ],
          [
           "Bruno Ventura"
          ],
          [
           "Paulo Victor"
          ],
          [
           "Ilija Vukotić"
          ],
          [
           "Zaydou Youssouf"
          ],
          [
           "Rodrigo Zalazar"
          ],
          [
           "Emmanuel Addai"
          ],
          [
           "Álvaro Aguado"
          ],
          [
           "Marc Aguado"
          ],
          [
           "Ager Aketxe"
          ],
          [
           "Jony Álamo"
          ],
          [
           "Aldasoro"
          ],
          [
           "Alexandre Alemão"
          ],
          [
           "Rodri Alonso"
          ],
          [
           "Carlos Álvarez"
          ],
          [
           "Florin Andone"
          ],
          [
           "Anuar"
          ],
          [
           "Kévin Appin"
          ],
          [
           "Juan Artola"
          ],
          [
           "Miguel Atienza"
          ],
          [
           "Javier Avilés"
          ],
          [
           "Iván Ayllón"
          ],
          [
           "Keita Baldé"
          ],
          [
           "Keidi Bare"
          ],
          [
           "Borja Bastón"
          ],
          [
           "Jon Bautista"
          ],
          [
           "Álex Bermejo"
          ],
          [
           "Álex Bernal"
          ],
          [
           "Jesús Bernal"
          ],
          [
           "Yann Bodiger"
          ],
          [
           "Mohamed Bouldini"
          ],
          [
           "Ruben Bover"
          ],
          [
           "Martin Braithwaite"
          ],
          [
           "Yan Brice Eteki"
          ],
          [
           "Brugui"
          ],
          [
           "Álex Calvo"
          ],
          [
           "Gaspar Campos"
          ],
          [
           "Víctor Campuzano"
          ],
          [
           "Álex Cantero"
          ],
          [
           "Àlex Carbonell"
          ],
          [
           "Carlo"
          ],
          [
           "Juan Carlos"
          ],
          [
           "Nicolás Castro"
          ],
          [
           "Santi Cazorla"
          ],
          [
           "Ilyas Chaira"
          ],
          [
           "Chapela"
          ],
          [
           "Julián Chicco"
          ],
          [
           "Chiki"
          ],
          [
           "Seydouba Cissé"
          ],
          [
           "Jesús Clemente"
          ],
          [
           "Óscar Clemente"
          ],
          [
           "Diego Collado"
          ],
          [
           "Santiago Colombatto"
          ],
          [
           "Álex Corredera"
          ],
          [
           "Curro"
          ],
          [
           "Alberto Del Moral"
          ],
          [
           "Diego"
          ],
          [
           "Naïs Djouahra"
          ],
          [
           "Josué Dorrio"
          ],
          [
           "Ivan Durdov"
          ],
          [
           "Ryan Edwards"
          ],
          [
           "Sergi Enrich"
          ],
          [
           "Javier Eraso"
          ],
          [
           "Eduardo Espiau"
          ],
          [
           "Edu Expósito"
          ],
          [
           "Nicolás Ezequiel Fernández"
          ],
          [
           "Fabrício"
          ],
          [
           "Aleix Febas"
          ],
          [
           "Juan Ferney Otero"
          ],
          [
           "Andrés Ferrari"
          ],
          [
           "Álex Forés"
          ],
          [
           "Álvaro Martín de Frías"
          ],
          [
           "Manuel Fuster"
          ],
          [
           "Enric Gallego"
          ],
          [
           "Borja Garcés"
          ],
          [
           "Juanma García"
          ],
          [
           "Aitor Gelardo"
          ],
          [
           "Tiago Geralnik"
          ],
          [
           "Mourad El Ghezouani"
          ],
          [
           "Iván Gil"
          ],
          [
           "Álvaro Giménez"
          ],
          [
           "Dani Gómez"
          ],
          [
           "Jaume Grau"
          ],
          [
           "Clément Grenier"
          ],
          [
           "Kento Hashimoto"
          ],
          [
           "Haissem Hassan"
          ],
          [
           "Hector Hevel"
          ],
          [
           "Jacobo"
          ],
          [
           "Isak Jansson"
          ],
          [
           "Eneko Jauregi"
          ],
          [
           "Jofre"
          ],
          [
           "Joel Jorquera"
          ],
          [
           "Lago Junior"
          ],
          [
           "Stanko Jurić"
          ],
          [
           "Manuel Justo"
          ],
          [
           "Kenedy"
          ],
          [
           "Giorgi Kochorashvili"
          ],
          [
           "Iker Kortajarena"
          ],
          [
           "Javi Lara"
          ],
          [
           "Julen Lobete"
          ],
          [
           "Enzo Lombardo"
          ],
          [
           "Roberto López"
          ],
          [
           "Losada"
          ],
          [
           "Pol Lozano"
          ],
          [
           "Sergio Lozano"
          ],
          [
           "Fran Manzanara"
          ],
          [
           "Higinio Marín"
          ],
          [
           "Carlos Martín"
          ],
          [
           "Gabri Martínez"
          ],
          [
           "Javi Martínez"
          ],
          [
           "Pablo Martínez"
          ],
          [
           "Javi Martón"
          ],
          [
           "Mascarenhas"
          ],
          [
           "Agus Medina"
          ],
          [
           "Nacho Méndez"
          ],
          [
           "Rodrigo Mendoza"
          ],
          [
           "Sabin Merino"
          ],
          [
           "Maikel Mesa"
          ],
          [
           "Roque Mesa"
          ],
          [
           "Víctor Meseguer"
          ],
          [
           "Javier Mier"
          ],
          [
           "Sergio Molina"
          ],
          [
           "Victor Mollejo"
          ],
          [
           "Monchu"
          ],
          [
           "Cris Montes"
          ],
          [
           "Ivan Monzón"
          ],
          [
           "Erik Morán"
          ],
          [
           "Iván Morante"
          ],
          [
           "Jon Morcillo"
          ],
          [
           "Tete Morente"
          ],
          [
           "Raúl Moro"
          ],
          [
           "Pedro Mosquera"
          ],
          [
           "Toni Moya"
          ],
          [
           "Sebas Moyano"
          ],
          [
           "Mumo"
          ],
          [
           "Joaquín Muñoz"
          ],
          [
           "Luis Muñoz"
          ],
          [
           "Damián Musto"
          ],
          [
           "Juanjo Narváez"
          ],
          [
           "Yvan Neyou"
          ],
          [
           "Fernando Niño"
          ],
          [
           "Samuel Obeng"
          ],
          [
           "Koldo Obieta"
          ],
          [
           "Dani Ojeda"
          ],
          [
           "Javier Ontiveros"
          ],
          [
           "Jandro Orellana"
          ],
          [
           "Alfredo Ortuño"
          ],
          [
           "Juanto Ortuño"
          ],
          [
           "Sergio Ortuño"
          ],
          [
           "Antonio Pacheco"
          ],
          [
           "Pascu"
          ],
          [
           "Paulino"
          ],
          [
           "Heber Pena"
          ],
          [
           "Peque"
          ],
          [
           "Luis Perea"
          ],
          [
           "Óscar Plano"
          ],
          [
           "Francisco Portillo"
          ],
          [
           "Javi Puado"
          ],
          [
           "Dani Queipo"
          ],
          [
           "Alberto Quiles"
          ],
          [
           "Luis Quintero"
          ],
          [
           "Quique"
          ],
          [
           "Dani Raba"
          ],
          [
           "Alberto Reina"
          ],
          [
           "Daniel Requena"
          ],
          [
           "Oriol Rey"
          ],
          [
           "Nico Ribaudo"
          ],
          [
           "Mikel Rico"
          ],
          [
           "Cristian Rivera"
          ],
          [
           "Ángel Rodríguez"
          ],
          [
           "Rayco Rodríguez Medina"
          ],
          [
           "Riki Rodríguez"
          ],
          [
           "Iván Romero"
          ],
          [
           "Waldo Rubio"
          ],
          [
           "Íñigo Sainz Maza"
          ],
          [
           "Cristian Salvador"
          ],
          [
           "Salvi"
          ],
          [
           "Sergi Samper"
          ],
          [
           "Iván Sánchez"
          ],
          [
           "Alejandro Sancris"
          ],
          [
           "Marco Sangalli"
          ],
          [
           "Aitor Sanz"
          ],
          [
           "Alvaro Sanz"
          ],
          [
           "Josep Señé"
          ],
          [
           "Jaime Seoane"
          ],
          [
           "Francho Serrano Gracia"
          ],
          [
           "Samuel Shashoua"
          ],
          [
           "Kwasi Sibo"
          ],
          [
           "Óscar Sielva"
          ],
          [
           "Matheus Pereira da Silva"
          ],
          [
           "Soberón"
          ],
          [
           "Mario Soriano"
          ],
          [
           "Dyego Sousa"
          ],
          [
           "Stoichkov"
          ],
          [
           "Jaime Suárez Juesas"
          ],
          [
           "Tachi"
          ],
          [
           "Teto"
          ],
          [
           "David Timor"
          ],
          [
           "Pablo Tomeo"
          ],
          [
           "Iker Undabarrena"
          ],
          [
           "Oscar Ureña"
          ],
          [
           "Germán Valera"
          ],
          [
           "Hugo Vallejo"
          ],
          [
           "Manu Vallejo"
          ],
          [
           "Jonathan Varane"
          ],
          [
           "Unai Vencedor Paris"
          ],
          [
           "Carlos Vicente"
          ],
          [
           "Iñigo Vicente"
          ],
          [
           "Fran Villalba"
          ],
          [
           "Ekain Zenitagoia"
          ],
          [
           "Uroš Đurđević"
          ],
          [
           "Oliver Abildgaard"
          ],
          [
           "Fabio Abiuso"
          ],
          [
           "Gonzalo Abrego"
          ],
          [
           "Gennaro Acampora"
          ],
          [
           "Ismail Achik"
          ],
          [
           "Francesco Amatucci"
          ],
          [
           "Giuseppe Ambrosino"
          ],
          [
           "Janis Antiste"
          ],
          [
           "Mattia Aramu"
          ],
          [
           "Alessandro Arena"
          ],
          [
           "Kristoffer Askildsen"
          ],
          [
           "Filippo Bandinelli"
          ],
          [
           "Daniele Baselli"
          ],
          [
           "Thomas Battistella"
          ],
          [
           "Alessandro Bellemo"
          ],
          [
           "Nicola Bellomo"
          ],
          [
           "Ahmad Benali"
          ],
          [
           "Adrian Benedyczak"
          ],
          [
           "Adrian Bernabe"
          ],
          [
           "Massimo Bertagnoli"
          ],
          [
           "Alessandro Bianco"
          ],
          [
           "Tommaso Biasci"
          ],
          [
           "Dimitri Bisoli"
          ],
          [
           "Bjarki Bjarkason"
          ],
          [
           "Birkir Bjarnason"
          ],
          [
           "Ange-Yoan Bonny"
          ],
          [
           "Fabio Borini"
          ],
          [
           "Gennaro Borrelli"
          ],
          [
           "Kleis Bozhanaj"
          ],
          [
           "Simone Branca"
          ],
          [
           "Enrico Brignola"
          ],
          [
           "Jérémie Broh"
          ],
          [
           "Matteo Brunori"
          ],
          [
           "Cristian Buonaiuto"
          ],
          [
           "Gianluca Busio"
          ],
          [
           "Nicolò Buso"
          ],
          [
           "Karlo Butić"
          ],
          [
           "Fabrizio Caligara"
          ],
          [
           "Giacomo Calò"
          ],
          [
           "Luigi Canotto"
          ],
          [
           "Giuseppe Carriero"
          ],
          [
           "Daniele Casiraghi"
          ],
          [
           "Claudio Cassano"
          ],
          [
           "Michele Castagnetti"
          ],
          [
           "Moutir Chajia"
          ],
          [
           "Gabriel Charpentier"
          ],
          [
           "Luca Cigarini"
          ],
          [
           "Andrea Cisco"
          ],
          [
           "Massimo Coda"
          ],
          [
           "Antonio Čolak"
          ],
          [
           "Michele Collocolo"
          ],
          [
           "Mattia Compagnon"
          ],
          [
           "Mamadou Coulibaly"
          ],
          [
           "Valerio Crespi"
          ],
          [
           "Domen Črnigoj"
          ],
          [
           "Giovanni Crociata"
          ],
          [
           "Patrick Cutrone"
          ],
          [
           "Marco D'Alessandro"
          ],
          [
           "Luca D'Andrea"
          ],
          [
           "Simone D'Uffizi"
          ],
          [
           "Lucas Da Cunha"
          ],
          [
           "Kees De Boer"
          ],
          [
           "Manuel De Luca"
          ],
          [
           "Duccio Degl'Innocenti"
          ],
          [
           "Federico Di Francesco"
          ],
          [
           "Francesco Di Mariano"
          ],
          [
           "Davide Di Molfetta"
          ],
          [
           "Francesco Di Tacchio"
          ],
          [
           "Filippo Distefano"
          ],
          [
           "Muhamed Djamanca"
          ],
          [
           "Alfredo Donnarumma"
          ],
          [
           "Edoardo Duca"
          ],
          [
           "Malcolm Edjouma"
          ],
          [
           "Francesco Esposito"
          ],
          [
           "Salvatore Esposito"
          ],
          [
           "Sebastiano Esposito"
          ],
          [
           "Nahuel Estévez"
          ],
          [
           "Andrea Favilli"
          ],
          [
           "Luca Fiordilino"
          ],
          [
           "Aldo Florenzi"
          ],
          [
           "Alessandro Gabrielloni"
          ],
          [
           "Giorgio Galli"
          ],
          [
           "Fabio Gerli"
          ],
          [
           "Andrea Ghion"
          ],
          [
           "Stefano Girelli"
          ],
          [
           "Natan Girma"
          ],
          [
           "Eddy Gnahoré"
          ],
          [
           "Claudio Gomes"
          ],
          [
           "Cedric Gondo"
          ],
          [
           "Christian Gytkjær"
          ],
          [
           "Liam Henderson"
          ],
          [
           "Denis Hergheligiu"
          ],
          [
           "Hernani"
          ],
          [
           "Pietro Iemmello"
          ],
          [
           "Roberto Insigne"
          ],
          [
           "Artur Ioniță"
          ],
          [
           "Flavio Junior Bianchi"
          ],
          [
           "Elvis Kabashi"
          ],
          [
           "Pajtim Kasami"
          ],
          [
           "Magnus Kofod Andersen"
          ],
          [
           "Rachid Kouda"
          ],
          [
           "Christos Kourfalidis"
          ],
          [
           "Ilias Koutsoupias"
          ],
          [
           "Andrea La Mantia"
          ],
          [
           "Nunzio Lella"
          ],
          [
           "Ben Lhassine Kone"
          ],
          [
           "Tom van de Looi"
          ],
          [
           "Gregorio Luperini"
          ],
          [
           "Luca Magnino"
          ],
          [
           "Andrea Magrassi"
          ],
          [
           "Tommy Maistrello"
          ],
          [
           "Mattia Maita"
          ],
          [
           "Žan Majer"
          ],
          [
           "Dennis Man"
          ],
          [
           "Jacopo Manconi"
          ],
          [
           "Leonardo Mancuso"
          ],
          [
           "Marius Marin"
          ],
          [
           "Manuel Marras"
          ],
          [
           "Patrizio Masini"
          ],
          [
           "Valerio Mastrantonio"
          ],
          [
           "Simone Mazzocchi"
          ],
          [
           "Filippo Melegoni"
          ],
          [
           "Silvio Merkaj"
          ],
          [
           "Valentin Mihaila"
          ],
          [
           "Tommaso Milanese"
          ],
          [
           "Jan Mlakar"
          ],
          [
           "Gabriele Moncini"
          ],
          [
           "Gregorio Morachioli"
          ],
          [
           "Stefano Moreo"
          ],
          [
           "Luca Moro"
          ],
          [
           "Marco Nasti"
          ],
          [
           "Andrija Novakovich"
          ],
          [
           "Raphael Odogwu"
          ],
          [
           "David Okereke"
          ],
          [
           "Marco Olivieri"
          ],
          [
           "Giacomo Olzer"
          ],
          [
           "Antonio Palumbo"
          ],
          [
           "Luca Pandolfi"
          ],
          [
           "Anthony Partipilo"
          ],
          [
           "Emanuele Pecorino"
          ],
          [
           "Daouda Peeters"
          ],
          [
           "Stefano Pettinari"
          ],
          [
           "Gabriele Piccinini"
          ],
          [
           "Charles Pickel"
          ],
          [
           "Nicholas Pierini"
          ],
          [
           "Filippo Pittarello"
          ],
          [
           "Joel Pohjanpalo"
          ],
          [
           "Marco Pompetti"
          ],
          [
           "Simone Pontisso"
          ],
          [
           "Mateusz Praszelik"
          ],
          [
           "Niklas Pyyhtiä"
          ],
          [
           "Antonio Raimondo"
          ],
          [
           "Nicola Rauti"
          ],
          [
           "Matteo Ricci"
          ],
          [
           "Pablo Rodríguez"
          ],
          [
           "Jacopo Segre"
          ],
          [
           "Alessandro Sersanti"
          ],
          [
           "Giuseppe Sibilli"
          ],
          [
           "Simon Sohm"
          ],
          [
           "Edoardo Soleri"
          ],
          [
           "Dimitris Sounas"
          ],
          [
           "Luca Strizzolo"
          ],
          [
           "Leo Štulac"
          ],
          [
           "Fabian Tait"
          ],
          [
           "Andrea Tessiore"
          ],
          [
           "Tanner Tessmann"
          ],
          [
           "Ernesto Torregrossa"
          ],
          [
           "Luca Tremolada"
          ],
          [
           "Frank Tsadjout"
          ],
          [
           "Gennaro Tutino"
          ],
          [
           "Mattia Valoti"
          ],
          [
           "Aljosa Vasic"
          ],
          [
           "Franco Vázquez"
          ],
          [
           "Miguel Veloso"
          ],
          [
           "Daniele Verde"
          ],
          [
           "Simone Verdi"
          ],
          [
           "Luca Verna"
          ],
          [
           "Valerio Verre"
          ],
          [
           "Ronaldo Vieira"
          ],
          [
           "Alessio Vita"
          ],
          [
           "Idriz Voca"
          ],
          [
           "Gerard Yepes"
          ],
          [
           "Mattia Zennaro"
          ],
          [
           "Federico Zuccon"
          ],
          [
           "Szymon Żurkowski"
          ],
          [
           "Jakub Łabojko"
          ]
         ],
         "hovertemplate": "Goals per 90=%{x}<br>Assists per 90=%{y}<br>Player=%{customdata[0]}<extra></extra>",
         "legendgroup": "",
         "marker": {
          "color": "#636efa",
          "symbol": "circle"
         },
         "mode": "markers",
         "name": "",
         "showlegend": false,
         "type": "scattergl",
         "x": [
          0.34,
          0.47,
          0.57,
          0,
          0.32,
          0,
          0,
          0.24,
          0.25,
          0.16,
          0,
          0.41000000000000003,
          0.23,
          0.65,
          0.22,
          0.16,
          0.3,
          0.1,
          0.05,
          0.13,
          0,
          0.13,
          0.52,
          0.17,
          0.21,
          0,
          0.13,
          0.19,
          0,
          0.15,
          0.16,
          0,
          0.32,
          0,
          0.06,
          0,
          0,
          0.51,
          0.07,
          0,
          0,
          1.02,
          0.42,
          0.51,
          0.09,
          0.24,
          1.03,
          1.01,
          0.45,
          0.18,
          0.25,
          0,
          0,
          1.4500000000000002,
          0,
          0,
          0,
          0.32,
          0,
          0,
          0.17,
          0.3,
          0.94,
          0.31,
          0.13,
          0.59,
          0.11,
          0.09,
          0.18,
          0.08,
          0.58,
          0.37,
          0.08,
          0.25,
          0.35,
          0.22,
          0.43,
          0.14,
          0.11,
          0,
          0.07,
          0.16,
          0.12,
          0.18,
          0.23,
          0.22,
          0.09,
          0.4,
          0.31,
          0.15,
          0.13,
          0,
          0.19,
          0.13,
          0.25,
          0.12,
          0.72,
          0.16,
          0.11,
          0.11,
          0.06,
          0.19,
          0.41,
          0.17,
          0,
          0.5,
          0.31,
          0.04,
          0.12,
          0.34,
          0.28,
          0,
          0.6,
          0.18,
          0.34,
          0,
          0.23,
          0.2,
          0.18,
          0.1,
          0.12,
          0.47,
          0.34,
          0.11,
          0.14,
          0.23,
          0.06,
          0.11,
          0.38,
          0,
          0.1,
          0.05,
          0.09,
          0.29,
          0.2,
          0.1,
          0.36,
          0.2,
          0.14,
          0.6,
          0.21,
          0.04,
          0.25,
          0.09,
          0,
          0.65,
          0.4,
          0,
          0.44,
          0,
          0.17,
          0.17,
          0.3,
          0,
          0.32,
          0,
          0.19,
          0.43,
          0.64,
          0.41,
          0.48,
          0.19,
          0.47,
          0.06,
          0.31,
          0.2,
          0.2,
          0.18,
          0.38,
          0.05,
          0.06,
          0,
          0.13,
          0.29,
          0.23,
          0.51,
          0.35,
          0.06,
          0.57,
          0,
          0.55,
          0,
          0.19,
          0.18,
          0.68,
          0.18,
          0.26,
          0.09,
          0.22,
          0.07,
          0.9,
          0.47,
          0.74,
          0.38,
          0.6,
          0.39,
          0.05,
          0.33,
          0.37,
          0.16,
          0,
          0.79,
          0.84,
          0.07,
          0,
          0.06,
          1.13,
          0.62,
          0.18,
          0,
          0.05,
          0.28,
          0,
          0.11,
          0.25,
          0.28,
          0.46,
          0.09,
          0.3,
          0.08,
          0,
          0.23,
          0,
          0.33,
          0.25,
          0.39,
          0.21,
          0.4,
          0.15,
          0,
          0.04,
          0.86,
          0.13,
          0.55,
          0.6,
          0.04,
          0.6,
          0.23,
          0.28,
          0.08,
          0.38,
          0.1,
          0.07,
          0.28,
          0,
          0.23,
          0.35,
          0.37,
          0.23,
          0,
          0.29,
          0.06,
          0.23,
          0,
          0,
          0.18,
          0.79,
          0.22,
          0.4,
          0.49,
          0.17,
          0.34,
          0.35,
          0,
          0.07,
          0.1,
          0.13,
          0.54,
          0,
          0.05,
          0.11,
          0,
          0.15,
          0.56,
          0.13,
          0,
          0,
          0,
          0.26,
          0.25,
          0.14,
          0.41,
          0.07,
          0,
          0.19,
          0.37,
          0,
          0.16,
          0.78,
          0.07,
          0.17,
          0.28,
          0.06,
          0,
          0.45,
          0,
          0.12,
          0.33,
          0.15,
          0.3,
          0.14,
          0.27,
          0,
          0.2,
          0.13,
          0.08,
          0.61,
          0,
          0.24,
          0.12,
          0.36,
          0.11,
          0,
          0.44,
          0.17,
          0.53,
          0.15,
          0.62,
          0.16,
          0.1,
          0.23,
          0.21,
          0.05,
          0.31,
          0.82,
          0,
          0.65,
          0,
          0.07,
          0,
          0.15,
          0,
          1.04,
          0.05,
          0,
          0.05,
          0,
          0.4,
          0,
          0.33,
          0.67,
          0.37,
          0.1,
          0.24,
          0.07,
          0,
          0.39,
          0.23,
          0.62,
          0.42,
          0.06,
          0.41,
          0.18,
          0.2,
          0.13,
          0,
          0.51,
          0.23,
          0,
          0.05,
          0.16,
          0,
          0.36,
          0.13,
          0,
          0.45,
          0.26,
          0.07,
          0.07,
          0.05,
          0.15,
          0.06,
          0.26,
          0.13,
          0.2,
          0.22,
          0,
          0.26,
          0.1,
          0.33,
          0.36,
          0.07,
          0.05,
          0.15,
          0.25,
          0.15,
          0.14,
          0.49,
          0,
          0.12,
          0,
          0.05,
          0,
          0,
          0.43,
          0.1,
          0.12,
          0,
          0.17,
          0.06,
          0,
          0.22,
          0.24,
          0.28,
          0.29,
          0.1,
          0.15,
          0.52,
          0.61,
          0.35,
          0.57,
          0.4,
          0.5,
          0.05,
          0.31,
          0.08,
          0.21,
          0.13,
          0.26,
          0.16,
          0.27,
          0,
          0,
          0,
          0.16,
          0,
          0.06,
          0.12,
          0.13,
          0.13,
          0.36,
          0.32,
          0.29,
          0.12,
          0,
          0.16,
          0.06,
          0.19,
          0.16,
          0,
          0.19,
          0,
          0,
          0,
          0.32,
          0.17,
          0,
          0.04,
          0.08,
          0,
          0,
          0.62,
          0.47,
          0.68,
          0.39,
          0.16,
          0,
          0.14,
          0.17,
          0,
          0.25,
          0.2,
          0,
          0.27,
          0.81,
          0,
          0,
          0.61,
          0.36,
          0.29,
          0,
          0.05,
          0.11,
          0.29,
          0,
          0.14,
          0.05,
          0.22,
          0.25,
          0.2,
          0.1,
          0,
          0,
          0.1,
          0.27,
          0.38,
          0.34,
          0,
          0.04,
          0.35,
          0.12,
          0.36,
          0.15,
          0.33,
          0,
          0.56,
          0,
          0.5,
          0.7,
          0.45,
          0,
          0.06,
          0,
          0.31,
          0.14,
          0,
          0.55,
          0.38,
          0.3,
          0.08,
          0.19,
          0,
          0.15,
          0.05,
          0.44,
          0.16,
          0.13,
          0.15,
          0,
          0.3,
          0.16,
          0,
          0.4,
          0,
          0.12,
          0.13,
          1.21,
          0.25,
          0.33,
          0,
          0.11,
          0.34,
          0,
          0.36,
          0.56,
          0.28,
          0,
          0.56,
          0.2,
          0.29,
          0.26,
          0.34,
          0,
          0.09,
          0,
          0.47,
          0.25,
          0.43,
          0.26,
          0.09,
          0.25,
          0.19,
          0.43,
          0.06,
          0.44,
          0.13,
          0.39,
          0,
          0.32,
          0.45,
          0.29,
          0.6,
          0.12,
          0.66,
          0.14,
          0.38,
          0.39,
          0,
          0,
          0.13,
          0.3,
          0,
          0.43,
          0.16,
          0.52,
          0,
          0,
          0,
          0.21,
          0.82,
          0.05,
          0.57,
          0.11,
          0.15,
          0.33,
          0.36,
          0.27,
          0.15,
          0.31,
          0.2,
          0,
          0.31,
          0.11,
          0.23,
          0.09,
          0.19,
          0.28,
          0.07,
          0.14,
          0,
          0,
          0.21,
          0.41,
          0,
          0,
          0.36,
          0.05,
          0.37,
          0.16,
          0,
          0.7,
          0.28,
          0.54,
          0.06,
          0.58,
          0.12,
          0.72,
          0.87,
          0,
          0.16,
          0.56,
          0,
          0.11,
          0,
          0,
          0,
          0.21,
          0,
          0,
          0,
          0.11,
          0,
          0.06,
          0.08,
          0.23,
          0.07,
          0.07,
          0.2,
          0.24,
          0.15,
          0,
          0.35,
          0.14,
          0,
          0.12,
          0.51,
          0.32,
          0.54,
          0.23,
          0,
          0.06,
          0,
          0.15,
          0.23,
          0.21,
          0.32,
          0.26,
          0.54,
          0.21,
          0,
          0,
          0.69,
          0.12,
          0.24,
          0,
          0.13,
          0.16,
          0,
          0.22,
          0.17,
          0.07,
          0,
          0.38,
          0,
          0.05,
          0.16,
          0,
          0.26,
          0.23,
          0.3,
          0.09,
          0,
          0,
          0.14,
          0.39,
          0,
          0,
          0.34,
          0.6,
          0.59,
          0,
          0,
          0,
          0.36,
          0.1,
          0.65,
          0.05,
          0.26,
          0.08,
          0.41,
          0.53,
          0.12,
          0,
          0,
          0.31,
          0.24,
          0,
          0.23,
          0.37,
          0.17,
          0.15,
          0,
          0.14,
          0.13,
          0.1,
          0.09,
          0.04,
          0.46,
          0.05,
          0.4,
          0.1,
          0.08,
          0.23,
          0.16,
          0,
          0.24,
          0.07,
          0.08,
          0.12,
          0.55,
          0,
          0.24,
          0.35,
          0.48,
          0.12,
          0.22,
          0.29,
          0.17,
          0.06,
          0,
          0,
          0.13,
          0.14,
          0.38,
          0.18,
          0.08,
          0.13,
          0.09,
          0.05,
          0,
          0.22,
          0.09,
          0.19,
          0.15,
          0,
          0.22,
          0.09,
          0,
          0.13,
          0.23,
          0.1,
          0.07,
          0.1,
          0,
          0.22,
          0.27,
          0,
          0.06,
          0,
          0.36,
          0.53,
          0.22,
          0.09,
          0.32,
          0.26,
          0.44,
          0.21,
          0.09,
          0.13,
          0.5,
          0.37,
          0,
          0.22,
          0,
          0,
          0.23,
          0.18,
          0.12,
          0.11,
          0,
          0.08,
          0.08,
          0.16,
          0,
          0,
          0,
          0.3,
          0,
          0,
          0.12,
          0,
          0.18,
          0.05,
          0.26,
          0.25,
          0.11,
          0.22,
          0.23,
          0.07,
          0.34,
          0.51,
          0.15,
          0.29,
          0.19,
          0.51,
          0.3,
          0.65,
          0,
          0.58,
          0.06,
          0.48,
          0.47,
          0.26,
          0,
          0.16,
          0.45,
          0.05,
          0.11,
          0.04,
          0.2,
          0,
          0,
          0.53,
          0.08,
          0,
          0.16,
          0.09,
          0,
          0,
          0.29,
          0.09,
          0,
          0.07,
          0.11,
          0,
          0.05,
          0.2,
          0.11,
          0.17,
          0,
          0.04,
          0.08,
          0,
          0.47,
          0.14,
          0.52,
          0.37,
          0,
          0,
          0.23,
          0,
          0,
          0.05,
          0,
          0.06,
          0.17,
          0.21,
          0,
          0.2,
          0.2,
          0.12,
          0,
          0.19,
          0.13,
          0.11,
          0.46,
          0.09,
          0,
          0.15,
          0.08,
          0.2,
          0.23,
          0,
          0.1,
          0,
          0,
          0,
          0.25,
          0.08,
          0,
          0.06,
          0.57,
          0.27,
          0.08,
          0.08,
          0.47,
          0.1,
          0.21,
          0.23,
          0.19,
          0.44,
          0.59,
          0.5,
          0.05,
          0.21,
          0,
          0.5,
          0,
          0.21,
          0.32,
          0.26,
          0.11,
          0,
          0.18,
          0.14,
          0.54,
          0.18,
          0.18,
          0,
          0.7,
          0.13,
          0,
          0.61,
          0.5,
          0.21,
          0.29,
          0.13,
          0,
          0,
          0.05,
          0.48,
          0,
          0,
          0,
          0.15,
          0,
          0.32,
          0,
          0.29,
          0,
          0,
          0,
          0.4,
          0,
          0.42,
          0.19,
          0.09,
          0.13,
          0.04,
          0.35,
          0.1,
          0,
          0,
          0,
          0.36,
          0,
          0.05,
          0.06,
          0,
          0.32,
          0,
          0,
          0.32,
          0.6,
          0.1,
          0,
          0.11,
          0.55,
          0.17,
          0.12,
          0.12,
          0.06,
          0.2,
          0,
          0.16,
          0.19,
          0.19,
          0.27,
          0,
          0,
          0,
          0.12,
          0,
          0.32,
          0.37,
          0,
          0,
          0.53,
          0.17,
          0.41,
          0.05,
          0.12,
          0.15,
          0,
          0.15,
          0.12,
          0.24,
          0.26,
          0,
          0.21,
          0.35,
          0,
          0.06,
          0.37,
          0.21,
          0.25,
          0.36,
          0.32,
          0.43,
          0,
          0.22,
          0.47,
          0.38,
          0.37,
          0,
          0.28,
          0.08,
          0.3,
          0.27,
          0.19,
          0.71,
          0.08,
          0,
          0,
          0.07,
          0.44,
          0.1,
          0,
          0.11,
          0.35,
          0.05,
          0.42,
          0,
          0.79,
          0.19,
          0.53,
          0.37,
          0.11,
          0,
          0.16,
          0.16,
          0.14,
          0,
          0.49,
          0.5,
          0,
          0.05,
          0.07,
          0.35,
          0.36,
          0.19,
          0.06,
          0,
          0.16,
          0.22,
          0,
          0.19,
          0,
          0,
          0
         ],
         "xaxis": "x",
         "y": [
          0.17,
          0,
          0.06,
          0.4,
          0,
          0,
          0.12,
          0.23,
          0,
          0.16,
          0,
          0.33,
          0.65,
          0.33,
          0,
          0,
          0,
          0.19,
          0,
          0.06,
          0,
          0,
          0,
          0.63,
          0.21,
          0,
          0,
          0.1,
          0,
          0.29,
          0,
          0,
          0.11,
          0.12,
          0,
          0.04,
          0.37,
          0,
          0,
          0,
          0.18,
          0,
          0.31,
          0,
          0.19,
          0.61,
          0.38,
          0.22,
          0.08,
          0.09,
          0,
          0,
          0,
          0,
          0.13,
          0,
          0.16,
          0.16,
          0,
          0,
          0,
          0.17,
          0,
          0.1,
          0.13,
          1.18,
          0.11,
          0.6,
          0.41,
          0.08,
          0.42,
          0.29,
          0.08,
          0.12,
          0,
          0.11,
          0.11,
          0,
          0.53,
          0,
          0.14,
          0.16,
          0.25,
          0.06,
          0.11,
          0.52,
          0.09,
          0.2,
          0.04,
          0.05,
          0,
          0.07,
          0.06,
          0.06,
          0,
          0,
          0.18,
          0,
          0.11,
          0.11,
          0.06,
          0.24,
          0.1,
          0,
          0.34,
          0.38,
          0.15,
          0.26,
          0.3,
          0.17,
          0,
          0.13,
          0,
          0.31,
          0.34,
          0.08,
          0.08,
          0.2,
          0.09,
          0.19,
          0.3,
          0.3,
          0.06,
          0,
          0.14,
          0.12,
          0.06,
          0.22,
          0,
          0.11,
          0.21,
          0.09,
          0,
          0.1,
          0.2,
          0.16,
          0.14,
          0.2,
          0,
          0.24,
          0.21,
          0.04,
          0.25,
          0.27,
          0,
          0,
          0.17,
          0,
          0.15,
          0,
          0.11,
          0,
          0,
          0,
          0,
          0,
          0.26,
          0.22,
          0,
          0.27,
          0.24,
          0,
          0.12,
          0.13,
          0.26,
          0.2,
          0.2,
          0.18,
          0.05,
          0.1,
          0.13,
          0.06,
          0.13,
          0,
          0.15,
          0,
          0.23,
          0.12,
          0.06,
          0,
          0.14,
          0,
          0.26,
          0.23,
          0.21,
          0.3,
          0.1,
          0.09,
          0.22,
          0.07,
          0.09,
          0.16,
          0.17,
          0.13,
          0.2,
          0.19,
          0.19,
          0.14,
          0.19,
          0.24,
          0.15,
          0.07,
          0,
          0.07,
          0,
          0.24,
          0.13,
          0.15,
          0,
          0,
          0,
          0.28,
          0.09,
          0,
          0,
          0.14,
          0.07,
          0.09,
          0.1,
          0.25,
          0.25,
          0.15,
          0.16,
          0,
          0.06,
          0.13,
          0.21,
          0,
          0,
          0.12,
          0.07,
          0,
          0.13,
          0.09,
          0.34,
          0.04,
          0.17,
          0.05,
          0.09,
          0.24,
          0,
          0,
          0,
          0.43,
          0.2,
          0.11,
          0.04,
          0.15,
          0.14,
          0,
          0.29,
          0.12,
          0.14,
          0,
          0.18,
          0.05,
          0,
          0.06,
          0.16,
          0.08,
          0.13,
          0.08,
          0.25,
          0,
          0.07,
          0.21,
          0.22,
          0.08,
          0,
          0.23,
          0,
          0.24,
          0.35,
          0,
          0,
          0.84,
          0,
          0.11,
          0.32,
          0.25,
          0.21,
          0.34,
          0.07,
          0,
          0.15,
          0.22,
          0,
          0.08,
          0.28,
          0.22,
          0.08,
          0.28,
          0,
          0,
          0,
          0,
          0.12,
          0,
          0.15,
          0.2,
          0.14,
          0.27,
          0.07,
          0.52,
          0.13,
          0.15,
          0.41,
          0.09,
          0.2,
          0.04,
          0,
          0.11,
          0.05,
          0.18,
          0.13,
          0.09,
          0,
          0.1,
          0.24,
          0.19,
          0.12,
          0,
          0.05,
          0,
          0.1,
          0.28,
          0.13,
          0.19,
          0.15,
          0,
          0.27,
          0.08,
          0.15,
          0.14,
          0.53,
          0.05,
          0,
          0.13,
          0.2,
          0.08,
          0,
          0.31,
          0.2,
          0.08,
          0,
          0,
          0.1,
          0.06,
          0.12,
          0.21,
          0.34,
          0.21,
          0,
          0.07,
          0.09,
          0.08,
          0.13,
          0.29,
          0,
          0.05,
          0.31,
          0.1,
          0.09,
          0,
          0,
          0.06,
          0.07,
          0,
          0.07,
          0.15,
          0.4,
          0,
          0.2,
          0.04,
          0.07,
          0.14,
          0,
          0.19,
          0.15,
          0.2,
          0.36,
          0,
          0.05,
          0.15,
          0.19,
          0.46,
          0.09,
          0.13,
          0,
          0,
          0,
          0.11,
          0,
          0.08,
          0.09,
          0,
          0.18,
          0,
          0.08,
          0.06,
          0.14,
          0.55,
          0,
          0.37,
          0.1,
          0.1,
          0.08,
          0.26,
          0,
          0.35,
          0.17,
          0,
          0.11,
          0.05,
          0.23,
          0.12,
          0.07,
          0.17,
          0.26,
          0.08,
          0.07,
          0.34,
          0,
          0,
          0.24,
          0,
          0,
          0.23,
          0.46,
          0.13,
          0,
          0.16,
          0.1,
          0.12,
          0.09,
          0.16,
          0.17,
          0,
          0.05,
          0,
          0.19,
          0.36,
          0,
          0,
          0,
          0,
          0.04,
          0.04,
          0.08,
          0,
          0.1,
          0.25,
          0.13,
          0,
          0.13,
          0.05,
          0,
          0.05,
          0.09,
          0.18,
          0.17,
          0.1,
          0.12,
          0.13,
          0,
          0.42,
          0,
          0,
          0,
          0.21,
          0.19,
          0.11,
          0,
          0.33,
          0.05,
          0.14,
          0,
          0.44,
          0,
          0.1,
          0.15,
          0,
          0.14,
          0.19,
          0.16,
          0.14,
          0.17,
          0.15,
          0.04,
          0.07,
          0.24,
          0.18,
          0.31,
          0.2,
          0,
          0.06,
          0,
          0.05,
          0.13,
          0.22,
          0,
          0.18,
          0.18,
          0.04,
          0.14,
          0.16,
          0.55,
          0.19,
          0.12,
          0,
          0.19,
          0,
          0,
          0.21,
          0.05,
          0.05,
          0.06,
          0.2,
          0,
          0,
          0,
          0,
          0,
          0,
          0.23,
          0.26,
          0.27,
          0.25,
          0.13,
          0.08,
          0,
          0.14,
          0.66,
          0.09,
          0,
          0.09,
          0,
          0,
          0.27,
          0,
          0.13,
          0,
          0.13,
          0,
          0,
          0.28,
          0,
          0.05,
          0.26,
          0,
          0.12,
          0.25,
          0.28,
          0.12,
          0.33,
          0.13,
          0.19,
          0,
          0.22,
          0.11,
          0.21,
          0,
          0.12,
          0.2,
          0.05,
          0,
          0.13,
          0.2,
          0.14,
          0.32,
          0.3,
          0,
          0.48,
          0,
          0.33,
          0.1,
          0,
          0,
          0.13,
          0.37,
          0.05,
          0.05,
          0.11,
          0.15,
          0.16,
          0.15,
          0,
          0.08,
          0.18,
          0,
          0.49,
          0.15,
          0.11,
          0.23,
          0.09,
          0,
          0,
          0.22,
          0.42,
          0,
          0.18,
          0.07,
          0.14,
          0,
          0.22,
          0.07,
          0.05,
          0,
          0,
          0,
          0.08,
          0.22,
          0,
          0.23,
          0.25,
          0.24,
          0.09,
          0.35,
          0.06,
          0.16,
          0.84,
          0.05,
          0.05,
          0,
          0.23,
          0.05,
          0.05,
          0,
          0,
          0,
          0.34,
          0,
          0.12,
          0,
          0.3,
          0,
          0.14,
          0.07,
          0,
          0.22,
          0,
          0,
          0.1,
          0.24,
          0,
          0.1,
          0.23,
          0.49,
          0.23,
          0.3,
          0.13,
          0.08,
          0.2,
          0.08,
          0,
          0.32,
          0,
          0.18,
          0.07,
          0,
          0,
          0.34,
          0.12,
          0.05,
          0,
          0.13,
          0,
          0.05,
          0.37,
          0.17,
          0.07,
          0.05,
          0.19,
          0.17,
          0,
          0,
          0,
          0.09,
          0.08,
          0.15,
          0.09,
          0,
          0,
          0,
          0,
          0,
          0.22,
          0.08,
          0.11,
          0.12,
          0.09,
          0.07,
          0,
          0,
          0,
          0.04,
          0,
          0.26,
          0.16,
          0.05,
          0.11,
          0.25,
          0,
          0.08,
          0.1,
          0.12,
          0.35,
          0.19,
          0,
          0,
          0,
          0,
          0.21,
          0.13,
          0,
          0.27,
          0.04,
          0.15,
          0,
          0,
          0.21,
          0.24,
          0,
          0,
          0,
          0,
          0.07,
          0.32,
          0.04,
          0,
          0.08,
          0.08,
          0,
          0.04,
          0.25,
          0.19,
          0.11,
          0,
          0.06,
          0,
          0,
          0,
          0,
          0.22,
          0.06,
          0.08,
          0,
          0,
          0.25,
          0.21,
          0.16,
          0.09,
          0.06,
          0.15,
          0,
          0.11,
          0.23,
          0,
          0,
          0,
          0.1,
          0,
          0.05,
          0,
          0.18,
          0.23,
          0.07,
          0.41,
          0,
          0.27,
          0.1,
          0.15,
          0.04,
          0.13,
          0,
          0.11,
          0.05,
          0,
          0,
          0,
          0,
          0.08,
          0.07,
          0,
          0.06,
          0.06,
          0.07,
          0,
          0,
          0.09,
          0,
          0.15,
          0.08,
          0.27,
          0,
          0,
          0.09,
          0,
          0.16,
          0,
          0,
          0,
          0,
          0.1,
          0,
          0,
          0.11,
          0.18,
          0.07,
          0.15,
          0,
          0.15,
          0,
          0.19,
          0.1,
          0.3,
          0.05,
          0,
          0,
          0.38,
          0.1,
          0,
          0.13,
          0.25,
          0,
          0.28,
          0,
          0,
          0.04,
          0.29,
          0,
          0.08,
          0,
          0.16,
          0.07,
          0,
          0.26,
          0.05,
          0,
          0,
          0,
          0.15,
          0.29,
          0.22,
          0,
          0.09,
          0.05,
          0.11,
          0.06,
          0,
          0,
          0.08,
          0.19,
          0.18,
          0.14,
          0,
          0.2,
          0,
          0.08,
          0.11,
          0,
          0,
          0.05,
          0.2,
          0,
          0.17,
          0.21,
          0,
          0.2,
          0.2,
          0.42,
          0.34,
          0.1,
          0.06,
          0.17,
          0,
          0,
          0.09,
          0.15,
          0,
          0.2,
          0.06,
          0.15,
          0.1,
          0.36,
          0.06,
          0,
          0.13,
          0.08,
          0,
          0,
          0.17,
          0.13,
          0,
          0.04,
          0.12,
          0.1,
          0.11,
          0,
          0.25,
          0.18,
          0.15,
          0,
          0.1,
          0,
          0,
          0.17,
          0,
          0.13,
          0.05,
          0,
          0,
          0.37,
          0,
          0,
          0.25,
          0.18,
          0.04,
          0.12,
          0.7,
          0.13,
          0,
          0.09,
          0,
          0,
          0,
          0.13,
          0,
          0.14,
          0.05,
          0.1,
          0.34,
          0,
          0,
          0.25,
          0.23,
          0.19,
          0.11,
          0.12,
          0.36,
          0.26,
          0,
          0.2,
          0.18,
          0.21,
          0,
          0,
          0,
          0.16,
          0.14,
          0.05,
          0,
          0,
          0,
          0.07,
          0,
          0.15,
          0,
          0,
          0.06,
          0,
          0.09,
          0,
          0,
          0.41,
          0,
          0.11,
          0.2,
          0.25,
          0.16,
          0,
          0.13,
          0.07,
          0.16,
          0.16,
          0.06,
          0.09,
          0,
          0,
          0.12,
          0,
          0.23,
          0.1,
          0,
          0.12,
          0.14,
          0,
          0.27,
          0.12,
          0.41,
          0.1,
          0.18,
          0,
          0.14,
          0.1,
          0.12,
          0.16,
          0.18,
          0.16,
          0.14,
          0,
          0.16,
          0,
          0,
          0,
          0.04,
          0,
          0.16,
          0.43,
          0,
          0.09,
          0.13,
          0,
          0,
          0,
          0.14,
          0.08,
          0.1,
          0.16,
          0.14,
          0.14,
          0.16,
          0,
          0,
          0.13,
          0.05,
          0.1,
          0.17,
          0.17,
          0.1,
          0.05,
          0.13,
          0.22,
          0.2,
          0.06,
          0,
          0.19,
          0.11,
          0.14,
          0.12,
          0.33,
          0.14,
          0.23,
          0.08,
          0.06,
          0,
          0.27,
          0.14,
          0,
          0.06,
          0.06,
          0.24,
          0.24,
          0.16,
          0.15,
          0.09,
          0.09,
          0.13,
          0.14,
          0.07
         ],
         "yaxis": "y"
        }
       ],
       "layout": {
        "legend": {
         "tracegroupgap": 0
        },
        "margin": {
         "t": 60
        },
        "template": {
         "data": {
          "bar": [
           {
            "error_x": {
             "color": "#2a3f5f"
            },
            "error_y": {
             "color": "#2a3f5f"
            },
            "marker": {
             "line": {
              "color": "#E5ECF6",
              "width": 0.5
             },
             "pattern": {
              "fillmode": "overlay",
              "size": 10,
              "solidity": 0.2
             }
            },
            "type": "bar"
           }
          ],
          "barpolar": [
           {
            "marker": {
             "line": {
              "color": "#E5ECF6",
              "width": 0.5
             },
             "pattern": {
              "fillmode": "overlay",
              "size": 10,
              "solidity": 0.2
             }
            },
            "type": "barpolar"
           }
          ],
          "carpet": [
           {
            "aaxis": {
             "endlinecolor": "#2a3f5f",
             "gridcolor": "white",
             "linecolor": "white",
             "minorgridcolor": "white",
             "startlinecolor": "#2a3f5f"
            },
            "baxis": {
             "endlinecolor": "#2a3f5f",
             "gridcolor": "white",
             "linecolor": "white",
             "minorgridcolor": "white",
             "startlinecolor": "#2a3f5f"
            },
            "type": "carpet"
           }
          ],
          "choropleth": [
           {
            "colorbar": {
             "outlinewidth": 0,
             "ticks": ""
            },
            "type": "choropleth"
           }
          ],
          "contour": [
           {
            "colorbar": {
             "outlinewidth": 0,
             "ticks": ""
            },
            "colorscale": [
             [
              0,
              "#0d0887"
             ],
             [
              0.1111111111111111,
              "#46039f"
             ],
             [
              0.2222222222222222,
              "#7201a8"
             ],
             [
              0.3333333333333333,
              "#9c179e"
             ],
             [
              0.4444444444444444,
              "#bd3786"
             ],
             [
              0.5555555555555556,
              "#d8576b"
             ],
             [
              0.6666666666666666,
              "#ed7953"
             ],
             [
              0.7777777777777778,
              "#fb9f3a"
             ],
             [
              0.8888888888888888,
              "#fdca26"
             ],
             [
              1,
              "#f0f921"
             ]
            ],
            "type": "contour"
           }
          ],
          "contourcarpet": [
           {
            "colorbar": {
             "outlinewidth": 0,
             "ticks": ""
            },
            "type": "contourcarpet"
           }
          ],
          "heatmap": [
           {
            "colorbar": {
             "outlinewidth": 0,
             "ticks": ""
            },
            "colorscale": [
             [
              0,
              "#0d0887"
             ],
             [
              0.1111111111111111,
              "#46039f"
             ],
             [
              0.2222222222222222,
              "#7201a8"
             ],
             [
              0.3333333333333333,
              "#9c179e"
             ],
             [
              0.4444444444444444,
              "#bd3786"
             ],
             [
              0.5555555555555556,
              "#d8576b"
             ],
             [
              0.6666666666666666,
              "#ed7953"
             ],
             [
              0.7777777777777778,
              "#fb9f3a"
             ],
             [
              0.8888888888888888,
              "#fdca26"
             ],
             [
              1,
              "#f0f921"
             ]
            ],
            "type": "heatmap"
           }
          ],
          "heatmapgl": [
           {
            "colorbar": {
             "outlinewidth": 0,
             "ticks": ""
            },
            "colorscale": [
             [
              0,
              "#0d0887"
             ],
             [
              0.1111111111111111,
              "#46039f"
             ],
             [
              0.2222222222222222,
              "#7201a8"
             ],
             [
              0.3333333333333333,
              "#9c179e"
             ],
             [
              0.4444444444444444,
              "#bd3786"
             ],
             [
              0.5555555555555556,
              "#d8576b"
             ],
             [
              0.6666666666666666,
              "#ed7953"
             ],
             [
              0.7777777777777778,
              "#fb9f3a"
             ],
             [
              0.8888888888888888,
              "#fdca26"
             ],
             [
              1,
              "#f0f921"
             ]
            ],
            "type": "heatmapgl"
           }
          ],
          "histogram": [
           {
            "marker": {
             "pattern": {
              "fillmode": "overlay",
              "size": 10,
              "solidity": 0.2
             }
            },
            "type": "histogram"
           }
          ],
          "histogram2d": [
           {
            "colorbar": {
             "outlinewidth": 0,
             "ticks": ""
            },
            "colorscale": [
             [
              0,
              "#0d0887"
             ],
             [
              0.1111111111111111,
              "#46039f"
             ],
             [
              0.2222222222222222,
              "#7201a8"
             ],
             [
              0.3333333333333333,
              "#9c179e"
             ],
             [
              0.4444444444444444,
              "#bd3786"
             ],
             [
              0.5555555555555556,
              "#d8576b"
             ],
             [
              0.6666666666666666,
              "#ed7953"
             ],
             [
              0.7777777777777778,
              "#fb9f3a"
             ],
             [
              0.8888888888888888,
              "#fdca26"
             ],
             [
              1,
              "#f0f921"
             ]
            ],
            "type": "histogram2d"
           }
          ],
          "histogram2dcontour": [
           {
            "colorbar": {
             "outlinewidth": 0,
             "ticks": ""
            },
            "colorscale": [
             [
              0,
              "#0d0887"
             ],
             [
              0.1111111111111111,
              "#46039f"
             ],
             [
              0.2222222222222222,
              "#7201a8"
             ],
             [
              0.3333333333333333,
              "#9c179e"
             ],
             [
              0.4444444444444444,
              "#bd3786"
             ],
             [
              0.5555555555555556,
              "#d8576b"
             ],
             [
              0.6666666666666666,
              "#ed7953"
             ],
             [
              0.7777777777777778,
              "#fb9f3a"
             ],
             [
              0.8888888888888888,
              "#fdca26"
             ],
             [
              1,
              "#f0f921"
             ]
            ],
            "type": "histogram2dcontour"
           }
          ],
          "mesh3d": [
           {
            "colorbar": {
             "outlinewidth": 0,
             "ticks": ""
            },
            "type": "mesh3d"
           }
          ],
          "parcoords": [
           {
            "line": {
             "colorbar": {
              "outlinewidth": 0,
              "ticks": ""
             }
            },
            "type": "parcoords"
           }
          ],
          "pie": [
           {
            "automargin": true,
            "type": "pie"
           }
          ],
          "scatter": [
           {
            "fillpattern": {
             "fillmode": "overlay",
             "size": 10,
             "solidity": 0.2
            },
            "type": "scatter"
           }
          ],
          "scatter3d": [
           {
            "line": {
             "colorbar": {
              "outlinewidth": 0,
              "ticks": ""
             }
            },
            "marker": {
             "colorbar": {
              "outlinewidth": 0,
              "ticks": ""
             }
            },
            "type": "scatter3d"
           }
          ],
          "scattercarpet": [
           {
            "marker": {
             "colorbar": {
              "outlinewidth": 0,
              "ticks": ""
             }
            },
            "type": "scattercarpet"
           }
          ],
          "scattergeo": [
           {
            "marker": {
             "colorbar": {
              "outlinewidth": 0,
              "ticks": ""
             }
            },
            "type": "scattergeo"
           }
          ],
          "scattergl": [
           {
            "marker": {
             "colorbar": {
              "outlinewidth": 0,
              "ticks": ""
             }
            },
            "type": "scattergl"
           }
          ],
          "scattermapbox": [
           {
            "marker": {
             "colorbar": {
              "outlinewidth": 0,
              "ticks": ""
             }
            },
            "type": "scattermapbox"
           }
          ],
          "scatterpolar": [
           {
            "marker": {
             "colorbar": {
              "outlinewidth": 0,
              "ticks": ""
             }
            },
            "type": "scatterpolar"
           }
          ],
          "scatterpolargl": [
           {
            "marker": {
             "colorbar": {
              "outlinewidth": 0,
              "ticks": ""
             }
            },
            "type": "scatterpolargl"
           }
          ],
          "scatterternary": [
           {
            "marker": {
             "colorbar": {
              "outlinewidth": 0,
              "ticks": ""
             }
            },
            "type": "scatterternary"
           }
          ],
          "surface": [
           {
            "colorbar": {
             "outlinewidth": 0,
             "ticks": ""
            },
            "colorscale": [
             [
              0,
              "#0d0887"
             ],
             [
              0.1111111111111111,
              "#46039f"
             ],
             [
              0.2222222222222222,
              "#7201a8"
             ],
             [
              0.3333333333333333,
              "#9c179e"
             ],
             [
              0.4444444444444444,
              "#bd3786"
             ],
             [
              0.5555555555555556,
              "#d8576b"
             ],
             [
              0.6666666666666666,
              "#ed7953"
             ],
             [
              0.7777777777777778,
              "#fb9f3a"
             ],
             [
              0.8888888888888888,
              "#fdca26"
             ],
             [
              1,
              "#f0f921"
             ]
            ],
            "type": "surface"
           }
          ],
          "table": [
           {
            "cells": {
             "fill": {
              "color": "#EBF0F8"
             },
             "line": {
              "color": "white"
             }
            },
            "header": {
             "fill": {
              "color": "#C8D4E3"
             },
             "line": {
              "color": "white"
             }
            },
            "type": "table"
           }
          ]
         },
         "layout": {
          "annotationdefaults": {
           "arrowcolor": "#2a3f5f",
           "arrowhead": 0,
           "arrowwidth": 1
          },
          "autotypenumbers": "strict",
          "coloraxis": {
           "colorbar": {
            "outlinewidth": 0,
            "ticks": ""
           }
          },
          "colorscale": {
           "diverging": [
            [
             0,
             "#8e0152"
            ],
            [
             0.1,
             "#c51b7d"
            ],
            [
             0.2,
             "#de77ae"
            ],
            [
             0.3,
             "#f1b6da"
            ],
            [
             0.4,
             "#fde0ef"
            ],
            [
             0.5,
             "#f7f7f7"
            ],
            [
             0.6,
             "#e6f5d0"
            ],
            [
             0.7,
             "#b8e186"
            ],
            [
             0.8,
             "#7fbc41"
            ],
            [
             0.9,
             "#4d9221"
            ],
            [
             1,
             "#276419"
            ]
           ],
           "sequential": [
            [
             0,
             "#0d0887"
            ],
            [
             0.1111111111111111,
             "#46039f"
            ],
            [
             0.2222222222222222,
             "#7201a8"
            ],
            [
             0.3333333333333333,
             "#9c179e"
            ],
            [
             0.4444444444444444,
             "#bd3786"
            ],
            [
             0.5555555555555556,
             "#d8576b"
            ],
            [
             0.6666666666666666,
             "#ed7953"
            ],
            [
             0.7777777777777778,
             "#fb9f3a"
            ],
            [
             0.8888888888888888,
             "#fdca26"
            ],
            [
             1,
             "#f0f921"
            ]
           ],
           "sequentialminus": [
            [
             0,
             "#0d0887"
            ],
            [
             0.1111111111111111,
             "#46039f"
            ],
            [
             0.2222222222222222,
             "#7201a8"
            ],
            [
             0.3333333333333333,
             "#9c179e"
            ],
            [
             0.4444444444444444,
             "#bd3786"
            ],
            [
             0.5555555555555556,
             "#d8576b"
            ],
            [
             0.6666666666666666,
             "#ed7953"
            ],
            [
             0.7777777777777778,
             "#fb9f3a"
            ],
            [
             0.8888888888888888,
             "#fdca26"
            ],
            [
             1,
             "#f0f921"
            ]
           ]
          },
          "colorway": [
           "#636efa",
           "#EF553B",
           "#00cc96",
           "#ab63fa",
           "#FFA15A",
           "#19d3f3",
           "#FF6692",
           "#B6E880",
           "#FF97FF",
           "#FECB52"
          ],
          "font": {
           "color": "#2a3f5f"
          },
          "geo": {
           "bgcolor": "white",
           "lakecolor": "white",
           "landcolor": "#E5ECF6",
           "showlakes": true,
           "showland": true,
           "subunitcolor": "white"
          },
          "hoverlabel": {
           "align": "left"
          },
          "hovermode": "closest",
          "mapbox": {
           "style": "light"
          },
          "paper_bgcolor": "white",
          "plot_bgcolor": "#E5ECF6",
          "polar": {
           "angularaxis": {
            "gridcolor": "white",
            "linecolor": "white",
            "ticks": ""
           },
           "bgcolor": "#E5ECF6",
           "radialaxis": {
            "gridcolor": "white",
            "linecolor": "white",
            "ticks": ""
           }
          },
          "scene": {
           "xaxis": {
            "backgroundcolor": "#E5ECF6",
            "gridcolor": "white",
            "gridwidth": 2,
            "linecolor": "white",
            "showbackground": true,
            "ticks": "",
            "zerolinecolor": "white"
           },
           "yaxis": {
            "backgroundcolor": "#E5ECF6",
            "gridcolor": "white",
            "gridwidth": 2,
            "linecolor": "white",
            "showbackground": true,
            "ticks": "",
            "zerolinecolor": "white"
           },
           "zaxis": {
            "backgroundcolor": "#E5ECF6",
            "gridcolor": "white",
            "gridwidth": 2,
            "linecolor": "white",
            "showbackground": true,
            "ticks": "",
            "zerolinecolor": "white"
           }
          },
          "shapedefaults": {
           "line": {
            "color": "#2a3f5f"
           }
          },
          "ternary": {
           "aaxis": {
            "gridcolor": "white",
            "linecolor": "white",
            "ticks": ""
           },
           "baxis": {
            "gridcolor": "white",
            "linecolor": "white",
            "ticks": ""
           },
           "bgcolor": "#E5ECF6",
           "caxis": {
            "gridcolor": "white",
            "linecolor": "white",
            "ticks": ""
           }
          },
          "title": {
           "x": 0.05
          },
          "xaxis": {
           "automargin": true,
           "gridcolor": "white",
           "linecolor": "white",
           "ticks": "",
           "title": {
            "standoff": 15
           },
           "zerolinecolor": "white",
           "zerolinewidth": 2
          },
          "yaxis": {
           "automargin": true,
           "gridcolor": "white",
           "linecolor": "white",
           "ticks": "",
           "title": {
            "standoff": 15
           },
           "zerolinecolor": "white",
           "zerolinewidth": 2
          }
         }
        },
        "xaxis": {
         "anchor": "y",
         "domain": [
          0,
          1
         ],
         "title": {
          "text": "Goals per 90"
         }
        },
        "yaxis": {
         "anchor": "x",
         "domain": [
          0,
          1
         ],
         "title": {
          "text": "Assists per 90"
         }
        }
       }
      }
     },
     "metadata": {},
     "output_type": "display_data"
    }
   ],
   "source": [
    "px.scatter(striker_dataframe, x='Goals per 90', y='Assists per 90', hover_data=['Player'])"
   ]
  },
  {
   "cell_type": "code",
   "execution_count": 43,
   "metadata": {},
   "outputs": [
    {
     "data": {
      "application/vnd.plotly.v1+json": {
       "config": {
        "plotlyServerURL": "https://plot.ly"
       },
       "data": [
        {
         "alignmentgroup": "True",
         "hovertemplate": "Goals=%{x}<br>Player=%{y}<br>Born=%{marker.color}<extra></extra>",
         "legendgroup": "",
         "marker": {
          "color": [
           1997,
           1999,
           1996,
           1994,
           1996,
           1993,
           1995,
           2000,
           1997,
           2005,
           1996,
           1998,
           1988,
           1993,
           1998,
           1998,
           1994,
           2002,
           2002,
           1998,
           1994,
           1998,
           2001,
           1994,
           1991,
           1994,
           2000,
           1998,
           1996,
           2000
          ],
          "coloraxis": "coloraxis",
          "pattern": {
           "shape": ""
          }
         },
         "name": "",
         "offsetgroup": "",
         "orientation": "h",
         "showlegend": false,
         "textposition": "auto",
         "type": "bar",
         "x": [
          11,
          11,
          12,
          12,
          12,
          12,
          12,
          12,
          12,
          12,
          12,
          12,
          13,
          13,
          13,
          13,
          13,
          13,
          14,
          14,
          15,
          16,
          16,
          16,
          17,
          17,
          17,
          18,
          18,
          22
         ],
         "xaxis": "x",
         "y": [
          "László Bénes",
          "Pedro Mendes",
          "Gennaro Tutino",
          "Matteo Brunori",
          "Curro",
          "Rafa Silva",
          "Héctor",
          "Nicolas Madsen",
          "Kasper Dolberg",
          "Can Yılmaz Uzun",
          "Marcel Hartel",
          "Ragnar Ache",
          "Massimo Coda",
          "Daniele Casiraghi",
          "Samuel Essende",
          "Aboubakary Koita",
          "Haris Tabakovic",
          "Christos Tzolis",
          "Peque",
          "Anders Dreyer",
          "Joel Pohjanpalo",
          "Rafa Mújica",
          "Thiago",
          "Robert Glatzel",
          "Martin Braithwaite",
          "Alexandre Mendy",
          "Mohamed El Amine Amoura",
          "Viktor Gyökeres",
          "Simon Banza",
          "Kevin Denkey"
         ],
         "yaxis": "y"
        }
       ],
       "layout": {
        "barmode": "relative",
        "coloraxis": {
         "colorbar": {
          "title": {
           "text": "Born"
          }
         },
         "colorscale": [
          [
           0,
           "#0d0887"
          ],
          [
           0.1111111111111111,
           "#46039f"
          ],
          [
           0.2222222222222222,
           "#7201a8"
          ],
          [
           0.3333333333333333,
           "#9c179e"
          ],
          [
           0.4444444444444444,
           "#bd3786"
          ],
          [
           0.5555555555555556,
           "#d8576b"
          ],
          [
           0.6666666666666666,
           "#ed7953"
          ],
          [
           0.7777777777777778,
           "#fb9f3a"
          ],
          [
           0.8888888888888888,
           "#fdca26"
          ],
          [
           1,
           "#f0f921"
          ]
         ]
        },
        "height": 600,
        "legend": {
         "tracegroupgap": 0
        },
        "margin": {
         "t": 60
        },
        "template": {
         "data": {
          "bar": [
           {
            "error_x": {
             "color": "#2a3f5f"
            },
            "error_y": {
             "color": "#2a3f5f"
            },
            "marker": {
             "line": {
              "color": "#E5ECF6",
              "width": 0.5
             },
             "pattern": {
              "fillmode": "overlay",
              "size": 10,
              "solidity": 0.2
             }
            },
            "type": "bar"
           }
          ],
          "barpolar": [
           {
            "marker": {
             "line": {
              "color": "#E5ECF6",
              "width": 0.5
             },
             "pattern": {
              "fillmode": "overlay",
              "size": 10,
              "solidity": 0.2
             }
            },
            "type": "barpolar"
           }
          ],
          "carpet": [
           {
            "aaxis": {
             "endlinecolor": "#2a3f5f",
             "gridcolor": "white",
             "linecolor": "white",
             "minorgridcolor": "white",
             "startlinecolor": "#2a3f5f"
            },
            "baxis": {
             "endlinecolor": "#2a3f5f",
             "gridcolor": "white",
             "linecolor": "white",
             "minorgridcolor": "white",
             "startlinecolor": "#2a3f5f"
            },
            "type": "carpet"
           }
          ],
          "choropleth": [
           {
            "colorbar": {
             "outlinewidth": 0,
             "ticks": ""
            },
            "type": "choropleth"
           }
          ],
          "contour": [
           {
            "colorbar": {
             "outlinewidth": 0,
             "ticks": ""
            },
            "colorscale": [
             [
              0,
              "#0d0887"
             ],
             [
              0.1111111111111111,
              "#46039f"
             ],
             [
              0.2222222222222222,
              "#7201a8"
             ],
             [
              0.3333333333333333,
              "#9c179e"
             ],
             [
              0.4444444444444444,
              "#bd3786"
             ],
             [
              0.5555555555555556,
              "#d8576b"
             ],
             [
              0.6666666666666666,
              "#ed7953"
             ],
             [
              0.7777777777777778,
              "#fb9f3a"
             ],
             [
              0.8888888888888888,
              "#fdca26"
             ],
             [
              1,
              "#f0f921"
             ]
            ],
            "type": "contour"
           }
          ],
          "contourcarpet": [
           {
            "colorbar": {
             "outlinewidth": 0,
             "ticks": ""
            },
            "type": "contourcarpet"
           }
          ],
          "heatmap": [
           {
            "colorbar": {
             "outlinewidth": 0,
             "ticks": ""
            },
            "colorscale": [
             [
              0,
              "#0d0887"
             ],
             [
              0.1111111111111111,
              "#46039f"
             ],
             [
              0.2222222222222222,
              "#7201a8"
             ],
             [
              0.3333333333333333,
              "#9c179e"
             ],
             [
              0.4444444444444444,
              "#bd3786"
             ],
             [
              0.5555555555555556,
              "#d8576b"
             ],
             [
              0.6666666666666666,
              "#ed7953"
             ],
             [
              0.7777777777777778,
              "#fb9f3a"
             ],
             [
              0.8888888888888888,
              "#fdca26"
             ],
             [
              1,
              "#f0f921"
             ]
            ],
            "type": "heatmap"
           }
          ],
          "heatmapgl": [
           {
            "colorbar": {
             "outlinewidth": 0,
             "ticks": ""
            },
            "colorscale": [
             [
              0,
              "#0d0887"
             ],
             [
              0.1111111111111111,
              "#46039f"
             ],
             [
              0.2222222222222222,
              "#7201a8"
             ],
             [
              0.3333333333333333,
              "#9c179e"
             ],
             [
              0.4444444444444444,
              "#bd3786"
             ],
             [
              0.5555555555555556,
              "#d8576b"
             ],
             [
              0.6666666666666666,
              "#ed7953"
             ],
             [
              0.7777777777777778,
              "#fb9f3a"
             ],
             [
              0.8888888888888888,
              "#fdca26"
             ],
             [
              1,
              "#f0f921"
             ]
            ],
            "type": "heatmapgl"
           }
          ],
          "histogram": [
           {
            "marker": {
             "pattern": {
              "fillmode": "overlay",
              "size": 10,
              "solidity": 0.2
             }
            },
            "type": "histogram"
           }
          ],
          "histogram2d": [
           {
            "colorbar": {
             "outlinewidth": 0,
             "ticks": ""
            },
            "colorscale": [
             [
              0,
              "#0d0887"
             ],
             [
              0.1111111111111111,
              "#46039f"
             ],
             [
              0.2222222222222222,
              "#7201a8"
             ],
             [
              0.3333333333333333,
              "#9c179e"
             ],
             [
              0.4444444444444444,
              "#bd3786"
             ],
             [
              0.5555555555555556,
              "#d8576b"
             ],
             [
              0.6666666666666666,
              "#ed7953"
             ],
             [
              0.7777777777777778,
              "#fb9f3a"
             ],
             [
              0.8888888888888888,
              "#fdca26"
             ],
             [
              1,
              "#f0f921"
             ]
            ],
            "type": "histogram2d"
           }
          ],
          "histogram2dcontour": [
           {
            "colorbar": {
             "outlinewidth": 0,
             "ticks": ""
            },
            "colorscale": [
             [
              0,
              "#0d0887"
             ],
             [
              0.1111111111111111,
              "#46039f"
             ],
             [
              0.2222222222222222,
              "#7201a8"
             ],
             [
              0.3333333333333333,
              "#9c179e"
             ],
             [
              0.4444444444444444,
              "#bd3786"
             ],
             [
              0.5555555555555556,
              "#d8576b"
             ],
             [
              0.6666666666666666,
              "#ed7953"
             ],
             [
              0.7777777777777778,
              "#fb9f3a"
             ],
             [
              0.8888888888888888,
              "#fdca26"
             ],
             [
              1,
              "#f0f921"
             ]
            ],
            "type": "histogram2dcontour"
           }
          ],
          "mesh3d": [
           {
            "colorbar": {
             "outlinewidth": 0,
             "ticks": ""
            },
            "type": "mesh3d"
           }
          ],
          "parcoords": [
           {
            "line": {
             "colorbar": {
              "outlinewidth": 0,
              "ticks": ""
             }
            },
            "type": "parcoords"
           }
          ],
          "pie": [
           {
            "automargin": true,
            "type": "pie"
           }
          ],
          "scatter": [
           {
            "fillpattern": {
             "fillmode": "overlay",
             "size": 10,
             "solidity": 0.2
            },
            "type": "scatter"
           }
          ],
          "scatter3d": [
           {
            "line": {
             "colorbar": {
              "outlinewidth": 0,
              "ticks": ""
             }
            },
            "marker": {
             "colorbar": {
              "outlinewidth": 0,
              "ticks": ""
             }
            },
            "type": "scatter3d"
           }
          ],
          "scattercarpet": [
           {
            "marker": {
             "colorbar": {
              "outlinewidth": 0,
              "ticks": ""
             }
            },
            "type": "scattercarpet"
           }
          ],
          "scattergeo": [
           {
            "marker": {
             "colorbar": {
              "outlinewidth": 0,
              "ticks": ""
             }
            },
            "type": "scattergeo"
           }
          ],
          "scattergl": [
           {
            "marker": {
             "colorbar": {
              "outlinewidth": 0,
              "ticks": ""
             }
            },
            "type": "scattergl"
           }
          ],
          "scattermapbox": [
           {
            "marker": {
             "colorbar": {
              "outlinewidth": 0,
              "ticks": ""
             }
            },
            "type": "scattermapbox"
           }
          ],
          "scatterpolar": [
           {
            "marker": {
             "colorbar": {
              "outlinewidth": 0,
              "ticks": ""
             }
            },
            "type": "scatterpolar"
           }
          ],
          "scatterpolargl": [
           {
            "marker": {
             "colorbar": {
              "outlinewidth": 0,
              "ticks": ""
             }
            },
            "type": "scatterpolargl"
           }
          ],
          "scatterternary": [
           {
            "marker": {
             "colorbar": {
              "outlinewidth": 0,
              "ticks": ""
             }
            },
            "type": "scatterternary"
           }
          ],
          "surface": [
           {
            "colorbar": {
             "outlinewidth": 0,
             "ticks": ""
            },
            "colorscale": [
             [
              0,
              "#0d0887"
             ],
             [
              0.1111111111111111,
              "#46039f"
             ],
             [
              0.2222222222222222,
              "#7201a8"
             ],
             [
              0.3333333333333333,
              "#9c179e"
             ],
             [
              0.4444444444444444,
              "#bd3786"
             ],
             [
              0.5555555555555556,
              "#d8576b"
             ],
             [
              0.6666666666666666,
              "#ed7953"
             ],
             [
              0.7777777777777778,
              "#fb9f3a"
             ],
             [
              0.8888888888888888,
              "#fdca26"
             ],
             [
              1,
              "#f0f921"
             ]
            ],
            "type": "surface"
           }
          ],
          "table": [
           {
            "cells": {
             "fill": {
              "color": "#EBF0F8"
             },
             "line": {
              "color": "white"
             }
            },
            "header": {
             "fill": {
              "color": "#C8D4E3"
             },
             "line": {
              "color": "white"
             }
            },
            "type": "table"
           }
          ]
         },
         "layout": {
          "annotationdefaults": {
           "arrowcolor": "#2a3f5f",
           "arrowhead": 0,
           "arrowwidth": 1
          },
          "autotypenumbers": "strict",
          "coloraxis": {
           "colorbar": {
            "outlinewidth": 0,
            "ticks": ""
           }
          },
          "colorscale": {
           "diverging": [
            [
             0,
             "#8e0152"
            ],
            [
             0.1,
             "#c51b7d"
            ],
            [
             0.2,
             "#de77ae"
            ],
            [
             0.3,
             "#f1b6da"
            ],
            [
             0.4,
             "#fde0ef"
            ],
            [
             0.5,
             "#f7f7f7"
            ],
            [
             0.6,
             "#e6f5d0"
            ],
            [
             0.7,
             "#b8e186"
            ],
            [
             0.8,
             "#7fbc41"
            ],
            [
             0.9,
             "#4d9221"
            ],
            [
             1,
             "#276419"
            ]
           ],
           "sequential": [
            [
             0,
             "#0d0887"
            ],
            [
             0.1111111111111111,
             "#46039f"
            ],
            [
             0.2222222222222222,
             "#7201a8"
            ],
            [
             0.3333333333333333,
             "#9c179e"
            ],
            [
             0.4444444444444444,
             "#bd3786"
            ],
            [
             0.5555555555555556,
             "#d8576b"
            ],
            [
             0.6666666666666666,
             "#ed7953"
            ],
            [
             0.7777777777777778,
             "#fb9f3a"
            ],
            [
             0.8888888888888888,
             "#fdca26"
            ],
            [
             1,
             "#f0f921"
            ]
           ],
           "sequentialminus": [
            [
             0,
             "#0d0887"
            ],
            [
             0.1111111111111111,
             "#46039f"
            ],
            [
             0.2222222222222222,
             "#7201a8"
            ],
            [
             0.3333333333333333,
             "#9c179e"
            ],
            [
             0.4444444444444444,
             "#bd3786"
            ],
            [
             0.5555555555555556,
             "#d8576b"
            ],
            [
             0.6666666666666666,
             "#ed7953"
            ],
            [
             0.7777777777777778,
             "#fb9f3a"
            ],
            [
             0.8888888888888888,
             "#fdca26"
            ],
            [
             1,
             "#f0f921"
            ]
           ]
          },
          "colorway": [
           "#636efa",
           "#EF553B",
           "#00cc96",
           "#ab63fa",
           "#FFA15A",
           "#19d3f3",
           "#FF6692",
           "#B6E880",
           "#FF97FF",
           "#FECB52"
          ],
          "font": {
           "color": "#2a3f5f"
          },
          "geo": {
           "bgcolor": "white",
           "lakecolor": "white",
           "landcolor": "#E5ECF6",
           "showlakes": true,
           "showland": true,
           "subunitcolor": "white"
          },
          "hoverlabel": {
           "align": "left"
          },
          "hovermode": "closest",
          "mapbox": {
           "style": "light"
          },
          "paper_bgcolor": "white",
          "plot_bgcolor": "#E5ECF6",
          "polar": {
           "angularaxis": {
            "gridcolor": "white",
            "linecolor": "white",
            "ticks": ""
           },
           "bgcolor": "#E5ECF6",
           "radialaxis": {
            "gridcolor": "white",
            "linecolor": "white",
            "ticks": ""
           }
          },
          "scene": {
           "xaxis": {
            "backgroundcolor": "#E5ECF6",
            "gridcolor": "white",
            "gridwidth": 2,
            "linecolor": "white",
            "showbackground": true,
            "ticks": "",
            "zerolinecolor": "white"
           },
           "yaxis": {
            "backgroundcolor": "#E5ECF6",
            "gridcolor": "white",
            "gridwidth": 2,
            "linecolor": "white",
            "showbackground": true,
            "ticks": "",
            "zerolinecolor": "white"
           },
           "zaxis": {
            "backgroundcolor": "#E5ECF6",
            "gridcolor": "white",
            "gridwidth": 2,
            "linecolor": "white",
            "showbackground": true,
            "ticks": "",
            "zerolinecolor": "white"
           }
          },
          "shapedefaults": {
           "line": {
            "color": "#2a3f5f"
           }
          },
          "ternary": {
           "aaxis": {
            "gridcolor": "white",
            "linecolor": "white",
            "ticks": ""
           },
           "baxis": {
            "gridcolor": "white",
            "linecolor": "white",
            "ticks": ""
           },
           "bgcolor": "#E5ECF6",
           "caxis": {
            "gridcolor": "white",
            "linecolor": "white",
            "ticks": ""
           }
          },
          "title": {
           "x": 0.05
          },
          "xaxis": {
           "automargin": true,
           "gridcolor": "white",
           "linecolor": "white",
           "ticks": "",
           "title": {
            "standoff": 15
           },
           "zerolinecolor": "white",
           "zerolinewidth": 2
          },
          "yaxis": {
           "automargin": true,
           "gridcolor": "white",
           "linecolor": "white",
           "ticks": "",
           "title": {
            "standoff": 15
           },
           "zerolinecolor": "white",
           "zerolinewidth": 2
          }
         }
        },
        "xaxis": {
         "anchor": "y",
         "domain": [
          0,
          1
         ],
         "title": {
          "text": "Goals"
         }
        },
        "yaxis": {
         "anchor": "x",
         "domain": [
          0,
          1
         ],
         "title": {
          "text": "Player"
         }
        }
       }
      }
     },
     "metadata": {},
     "output_type": "display_data"
    }
   ],
   "source": [
    "top_goals = striker_dataframe.nlargest(30, 'Goals')\n",
    "top_goals = top_goals.sort_values('Goals', ascending=True)\n",
    "px.bar(top_goals, x='Goals', y='Player', hover_data=['Player'], orientation='h', height=600, color='Born')"
   ]
  },
  {
   "cell_type": "code",
   "execution_count": 44,
   "metadata": {},
   "outputs": [
    {
     "data": {
      "application/vnd.plotly.v1+json": {
       "config": {
        "plotlyServerURL": "https://plot.ly"
       },
       "data": [
        {
         "alignmentgroup": "True",
         "hovertemplate": "Assists=%{x}<br>Player=%{y}<br>Born=%{marker.color}<extra></extra>",
         "legendgroup": "",
         "marker": {
          "color": [
           2000,
           1998,
           1991,
           2002,
           2002,
           1998,
           1988,
           1997,
           1999,
           1997,
           2000,
           2001,
           1992,
           2000,
           1995,
           2000,
           1999,
           1998,
           1996,
           1996,
           1997,
           1998,
           1997,
           1996,
           1996,
           1995,
           1998,
           1998,
           1993,
           1998
          ],
          "coloraxis": "coloraxis",
          "pattern": {
           "shape": ""
          }
         },
         "name": "",
         "offsetgroup": "",
         "orientation": "h",
         "showlegend": false,
         "textposition": "auto",
         "type": "bar",
         "x": [
          6,
          6,
          6,
          6,
          6,
          6,
          6,
          7,
          7,
          7,
          7,
          7,
          7,
          7,
          7,
          7,
          7,
          8,
          8,
          8,
          8,
          8,
          8,
          9,
          9,
          9,
          10,
          11,
          11,
          13
         ],
         "xaxis": "x",
         "y": [
          "Orkun Kökçü",
          "Ilan Kebbal",
          "Mathias Autret",
          "Jarne Steuckers",
          "Paul Nebel",
          "Robin Heußer",
          "Ángel Di María",
          "Giacomo Calò",
          "Sergio Lozano",
          "Cristo González",
          "Godson Kyeremeh",
          "Nordine Kandil",
          "Hans Vanaken",
          "Theo Leoni",
          "Jean-Luc Dompé",
          "Shinta Appelkamp",
          "Nuno Santos",
          "Viktor Gyökeres",
          "Gaëtan Perrin",
          "Alimani Gory",
          "Mathieu Cafaro",
          "Anders Dreyer",
          "László Bénes",
          "Gauthier Hein",
          "Marcel Hartel",
          "Barış Atik",
          "Pedro Gonçalves",
          "Iñigo Vicente",
          "Rafa Silva",
          "Cameron Puertas"
         ],
         "yaxis": "y"
        }
       ],
       "layout": {
        "barmode": "relative",
        "coloraxis": {
         "colorbar": {
          "title": {
           "text": "Born"
          }
         },
         "colorscale": [
          [
           0,
           "#0d0887"
          ],
          [
           0.1111111111111111,
           "#46039f"
          ],
          [
           0.2222222222222222,
           "#7201a8"
          ],
          [
           0.3333333333333333,
           "#9c179e"
          ],
          [
           0.4444444444444444,
           "#bd3786"
          ],
          [
           0.5555555555555556,
           "#d8576b"
          ],
          [
           0.6666666666666666,
           "#ed7953"
          ],
          [
           0.7777777777777778,
           "#fb9f3a"
          ],
          [
           0.8888888888888888,
           "#fdca26"
          ],
          [
           1,
           "#f0f921"
          ]
         ]
        },
        "height": 600,
        "legend": {
         "tracegroupgap": 0
        },
        "margin": {
         "t": 60
        },
        "template": {
         "data": {
          "bar": [
           {
            "error_x": {
             "color": "#2a3f5f"
            },
            "error_y": {
             "color": "#2a3f5f"
            },
            "marker": {
             "line": {
              "color": "#E5ECF6",
              "width": 0.5
             },
             "pattern": {
              "fillmode": "overlay",
              "size": 10,
              "solidity": 0.2
             }
            },
            "type": "bar"
           }
          ],
          "barpolar": [
           {
            "marker": {
             "line": {
              "color": "#E5ECF6",
              "width": 0.5
             },
             "pattern": {
              "fillmode": "overlay",
              "size": 10,
              "solidity": 0.2
             }
            },
            "type": "barpolar"
           }
          ],
          "carpet": [
           {
            "aaxis": {
             "endlinecolor": "#2a3f5f",
             "gridcolor": "white",
             "linecolor": "white",
             "minorgridcolor": "white",
             "startlinecolor": "#2a3f5f"
            },
            "baxis": {
             "endlinecolor": "#2a3f5f",
             "gridcolor": "white",
             "linecolor": "white",
             "minorgridcolor": "white",
             "startlinecolor": "#2a3f5f"
            },
            "type": "carpet"
           }
          ],
          "choropleth": [
           {
            "colorbar": {
             "outlinewidth": 0,
             "ticks": ""
            },
            "type": "choropleth"
           }
          ],
          "contour": [
           {
            "colorbar": {
             "outlinewidth": 0,
             "ticks": ""
            },
            "colorscale": [
             [
              0,
              "#0d0887"
             ],
             [
              0.1111111111111111,
              "#46039f"
             ],
             [
              0.2222222222222222,
              "#7201a8"
             ],
             [
              0.3333333333333333,
              "#9c179e"
             ],
             [
              0.4444444444444444,
              "#bd3786"
             ],
             [
              0.5555555555555556,
              "#d8576b"
             ],
             [
              0.6666666666666666,
              "#ed7953"
             ],
             [
              0.7777777777777778,
              "#fb9f3a"
             ],
             [
              0.8888888888888888,
              "#fdca26"
             ],
             [
              1,
              "#f0f921"
             ]
            ],
            "type": "contour"
           }
          ],
          "contourcarpet": [
           {
            "colorbar": {
             "outlinewidth": 0,
             "ticks": ""
            },
            "type": "contourcarpet"
           }
          ],
          "heatmap": [
           {
            "colorbar": {
             "outlinewidth": 0,
             "ticks": ""
            },
            "colorscale": [
             [
              0,
              "#0d0887"
             ],
             [
              0.1111111111111111,
              "#46039f"
             ],
             [
              0.2222222222222222,
              "#7201a8"
             ],
             [
              0.3333333333333333,
              "#9c179e"
             ],
             [
              0.4444444444444444,
              "#bd3786"
             ],
             [
              0.5555555555555556,
              "#d8576b"
             ],
             [
              0.6666666666666666,
              "#ed7953"
             ],
             [
              0.7777777777777778,
              "#fb9f3a"
             ],
             [
              0.8888888888888888,
              "#fdca26"
             ],
             [
              1,
              "#f0f921"
             ]
            ],
            "type": "heatmap"
           }
          ],
          "heatmapgl": [
           {
            "colorbar": {
             "outlinewidth": 0,
             "ticks": ""
            },
            "colorscale": [
             [
              0,
              "#0d0887"
             ],
             [
              0.1111111111111111,
              "#46039f"
             ],
             [
              0.2222222222222222,
              "#7201a8"
             ],
             [
              0.3333333333333333,
              "#9c179e"
             ],
             [
              0.4444444444444444,
              "#bd3786"
             ],
             [
              0.5555555555555556,
              "#d8576b"
             ],
             [
              0.6666666666666666,
              "#ed7953"
             ],
             [
              0.7777777777777778,
              "#fb9f3a"
             ],
             [
              0.8888888888888888,
              "#fdca26"
             ],
             [
              1,
              "#f0f921"
             ]
            ],
            "type": "heatmapgl"
           }
          ],
          "histogram": [
           {
            "marker": {
             "pattern": {
              "fillmode": "overlay",
              "size": 10,
              "solidity": 0.2
             }
            },
            "type": "histogram"
           }
          ],
          "histogram2d": [
           {
            "colorbar": {
             "outlinewidth": 0,
             "ticks": ""
            },
            "colorscale": [
             [
              0,
              "#0d0887"
             ],
             [
              0.1111111111111111,
              "#46039f"
             ],
             [
              0.2222222222222222,
              "#7201a8"
             ],
             [
              0.3333333333333333,
              "#9c179e"
             ],
             [
              0.4444444444444444,
              "#bd3786"
             ],
             [
              0.5555555555555556,
              "#d8576b"
             ],
             [
              0.6666666666666666,
              "#ed7953"
             ],
             [
              0.7777777777777778,
              "#fb9f3a"
             ],
             [
              0.8888888888888888,
              "#fdca26"
             ],
             [
              1,
              "#f0f921"
             ]
            ],
            "type": "histogram2d"
           }
          ],
          "histogram2dcontour": [
           {
            "colorbar": {
             "outlinewidth": 0,
             "ticks": ""
            },
            "colorscale": [
             [
              0,
              "#0d0887"
             ],
             [
              0.1111111111111111,
              "#46039f"
             ],
             [
              0.2222222222222222,
              "#7201a8"
             ],
             [
              0.3333333333333333,
              "#9c179e"
             ],
             [
              0.4444444444444444,
              "#bd3786"
             ],
             [
              0.5555555555555556,
              "#d8576b"
             ],
             [
              0.6666666666666666,
              "#ed7953"
             ],
             [
              0.7777777777777778,
              "#fb9f3a"
             ],
             [
              0.8888888888888888,
              "#fdca26"
             ],
             [
              1,
              "#f0f921"
             ]
            ],
            "type": "histogram2dcontour"
           }
          ],
          "mesh3d": [
           {
            "colorbar": {
             "outlinewidth": 0,
             "ticks": ""
            },
            "type": "mesh3d"
           }
          ],
          "parcoords": [
           {
            "line": {
             "colorbar": {
              "outlinewidth": 0,
              "ticks": ""
             }
            },
            "type": "parcoords"
           }
          ],
          "pie": [
           {
            "automargin": true,
            "type": "pie"
           }
          ],
          "scatter": [
           {
            "fillpattern": {
             "fillmode": "overlay",
             "size": 10,
             "solidity": 0.2
            },
            "type": "scatter"
           }
          ],
          "scatter3d": [
           {
            "line": {
             "colorbar": {
              "outlinewidth": 0,
              "ticks": ""
             }
            },
            "marker": {
             "colorbar": {
              "outlinewidth": 0,
              "ticks": ""
             }
            },
            "type": "scatter3d"
           }
          ],
          "scattercarpet": [
           {
            "marker": {
             "colorbar": {
              "outlinewidth": 0,
              "ticks": ""
             }
            },
            "type": "scattercarpet"
           }
          ],
          "scattergeo": [
           {
            "marker": {
             "colorbar": {
              "outlinewidth": 0,
              "ticks": ""
             }
            },
            "type": "scattergeo"
           }
          ],
          "scattergl": [
           {
            "marker": {
             "colorbar": {
              "outlinewidth": 0,
              "ticks": ""
             }
            },
            "type": "scattergl"
           }
          ],
          "scattermapbox": [
           {
            "marker": {
             "colorbar": {
              "outlinewidth": 0,
              "ticks": ""
             }
            },
            "type": "scattermapbox"
           }
          ],
          "scatterpolar": [
           {
            "marker": {
             "colorbar": {
              "outlinewidth": 0,
              "ticks": ""
             }
            },
            "type": "scatterpolar"
           }
          ],
          "scatterpolargl": [
           {
            "marker": {
             "colorbar": {
              "outlinewidth": 0,
              "ticks": ""
             }
            },
            "type": "scatterpolargl"
           }
          ],
          "scatterternary": [
           {
            "marker": {
             "colorbar": {
              "outlinewidth": 0,
              "ticks": ""
             }
            },
            "type": "scatterternary"
           }
          ],
          "surface": [
           {
            "colorbar": {
             "outlinewidth": 0,
             "ticks": ""
            },
            "colorscale": [
             [
              0,
              "#0d0887"
             ],
             [
              0.1111111111111111,
              "#46039f"
             ],
             [
              0.2222222222222222,
              "#7201a8"
             ],
             [
              0.3333333333333333,
              "#9c179e"
             ],
             [
              0.4444444444444444,
              "#bd3786"
             ],
             [
              0.5555555555555556,
              "#d8576b"
             ],
             [
              0.6666666666666666,
              "#ed7953"
             ],
             [
              0.7777777777777778,
              "#fb9f3a"
             ],
             [
              0.8888888888888888,
              "#fdca26"
             ],
             [
              1,
              "#f0f921"
             ]
            ],
            "type": "surface"
           }
          ],
          "table": [
           {
            "cells": {
             "fill": {
              "color": "#EBF0F8"
             },
             "line": {
              "color": "white"
             }
            },
            "header": {
             "fill": {
              "color": "#C8D4E3"
             },
             "line": {
              "color": "white"
             }
            },
            "type": "table"
           }
          ]
         },
         "layout": {
          "annotationdefaults": {
           "arrowcolor": "#2a3f5f",
           "arrowhead": 0,
           "arrowwidth": 1
          },
          "autotypenumbers": "strict",
          "coloraxis": {
           "colorbar": {
            "outlinewidth": 0,
            "ticks": ""
           }
          },
          "colorscale": {
           "diverging": [
            [
             0,
             "#8e0152"
            ],
            [
             0.1,
             "#c51b7d"
            ],
            [
             0.2,
             "#de77ae"
            ],
            [
             0.3,
             "#f1b6da"
            ],
            [
             0.4,
             "#fde0ef"
            ],
            [
             0.5,
             "#f7f7f7"
            ],
            [
             0.6,
             "#e6f5d0"
            ],
            [
             0.7,
             "#b8e186"
            ],
            [
             0.8,
             "#7fbc41"
            ],
            [
             0.9,
             "#4d9221"
            ],
            [
             1,
             "#276419"
            ]
           ],
           "sequential": [
            [
             0,
             "#0d0887"
            ],
            [
             0.1111111111111111,
             "#46039f"
            ],
            [
             0.2222222222222222,
             "#7201a8"
            ],
            [
             0.3333333333333333,
             "#9c179e"
            ],
            [
             0.4444444444444444,
             "#bd3786"
            ],
            [
             0.5555555555555556,
             "#d8576b"
            ],
            [
             0.6666666666666666,
             "#ed7953"
            ],
            [
             0.7777777777777778,
             "#fb9f3a"
            ],
            [
             0.8888888888888888,
             "#fdca26"
            ],
            [
             1,
             "#f0f921"
            ]
           ],
           "sequentialminus": [
            [
             0,
             "#0d0887"
            ],
            [
             0.1111111111111111,
             "#46039f"
            ],
            [
             0.2222222222222222,
             "#7201a8"
            ],
            [
             0.3333333333333333,
             "#9c179e"
            ],
            [
             0.4444444444444444,
             "#bd3786"
            ],
            [
             0.5555555555555556,
             "#d8576b"
            ],
            [
             0.6666666666666666,
             "#ed7953"
            ],
            [
             0.7777777777777778,
             "#fb9f3a"
            ],
            [
             0.8888888888888888,
             "#fdca26"
            ],
            [
             1,
             "#f0f921"
            ]
           ]
          },
          "colorway": [
           "#636efa",
           "#EF553B",
           "#00cc96",
           "#ab63fa",
           "#FFA15A",
           "#19d3f3",
           "#FF6692",
           "#B6E880",
           "#FF97FF",
           "#FECB52"
          ],
          "font": {
           "color": "#2a3f5f"
          },
          "geo": {
           "bgcolor": "white",
           "lakecolor": "white",
           "landcolor": "#E5ECF6",
           "showlakes": true,
           "showland": true,
           "subunitcolor": "white"
          },
          "hoverlabel": {
           "align": "left"
          },
          "hovermode": "closest",
          "mapbox": {
           "style": "light"
          },
          "paper_bgcolor": "white",
          "plot_bgcolor": "#E5ECF6",
          "polar": {
           "angularaxis": {
            "gridcolor": "white",
            "linecolor": "white",
            "ticks": ""
           },
           "bgcolor": "#E5ECF6",
           "radialaxis": {
            "gridcolor": "white",
            "linecolor": "white",
            "ticks": ""
           }
          },
          "scene": {
           "xaxis": {
            "backgroundcolor": "#E5ECF6",
            "gridcolor": "white",
            "gridwidth": 2,
            "linecolor": "white",
            "showbackground": true,
            "ticks": "",
            "zerolinecolor": "white"
           },
           "yaxis": {
            "backgroundcolor": "#E5ECF6",
            "gridcolor": "white",
            "gridwidth": 2,
            "linecolor": "white",
            "showbackground": true,
            "ticks": "",
            "zerolinecolor": "white"
           },
           "zaxis": {
            "backgroundcolor": "#E5ECF6",
            "gridcolor": "white",
            "gridwidth": 2,
            "linecolor": "white",
            "showbackground": true,
            "ticks": "",
            "zerolinecolor": "white"
           }
          },
          "shapedefaults": {
           "line": {
            "color": "#2a3f5f"
           }
          },
          "ternary": {
           "aaxis": {
            "gridcolor": "white",
            "linecolor": "white",
            "ticks": ""
           },
           "baxis": {
            "gridcolor": "white",
            "linecolor": "white",
            "ticks": ""
           },
           "bgcolor": "#E5ECF6",
           "caxis": {
            "gridcolor": "white",
            "linecolor": "white",
            "ticks": ""
           }
          },
          "title": {
           "x": 0.05
          },
          "xaxis": {
           "automargin": true,
           "gridcolor": "white",
           "linecolor": "white",
           "ticks": "",
           "title": {
            "standoff": 15
           },
           "zerolinecolor": "white",
           "zerolinewidth": 2
          },
          "yaxis": {
           "automargin": true,
           "gridcolor": "white",
           "linecolor": "white",
           "ticks": "",
           "title": {
            "standoff": 15
           },
           "zerolinecolor": "white",
           "zerolinewidth": 2
          }
         }
        },
        "xaxis": {
         "anchor": "y",
         "domain": [
          0,
          1
         ],
         "title": {
          "text": "Assists"
         }
        },
        "yaxis": {
         "anchor": "x",
         "domain": [
          0,
          1
         ],
         "title": {
          "text": "Player"
         }
        }
       }
      }
     },
     "metadata": {},
     "output_type": "display_data"
    }
   ],
   "source": [
    "top_assists = striker_dataframe.nlargest(30, 'Assists')\n",
    "top_assists = top_assists.sort_values('Assists', ascending=True)\n",
    "px.bar(top_assists, x='Assists', y='Player', hover_data=['Player'], orientation='h', height=600, color='Born')\n"
   ]
  },
  {
   "cell_type": "code",
   "execution_count": 45,
   "metadata": {},
   "outputs": [
    {
     "data": {
      "application/vnd.plotly.v1+json": {
       "config": {
        "plotlyServerURL": "https://plot.ly"
       },
       "data": [
        {
         "alignmentgroup": "True",
         "hovertemplate": "Goals + Assists=%{x}<br>Player=%{y}<br>Born=%{marker.color}<extra></extra>",
         "legendgroup": "",
         "marker": {
          "color": [
           1992,
           2002,
           1999,
           1996,
           1997,
           1998,
           1988,
           1994,
           1996,
           2002,
           1994,
           1994,
           1994,
           1991,
           1998,
           1997,
           2001,
           1998,
           1996,
           1993,
           1998,
           2000,
           1997,
           1994,
           1996,
           1996,
           1998,
           2000,
           1993,
           1998
          ],
          "coloraxis": "coloraxis",
          "pattern": {
           "shape": ""
          }
         },
         "name": "",
         "offsetgroup": "",
         "orientation": "h",
         "showlegend": false,
         "textposition": "auto",
         "type": "bar",
         "x": [
          15,
          15,
          15,
          15,
          15,
          15,
          15,
          16,
          16,
          16,
          17,
          17,
          18,
          18,
          18,
          18,
          18,
          18,
          18,
          19,
          19,
          19,
          19,
          20,
          21,
          22,
          22,
          22,
          23,
          26
         ],
         "xaxis": "x",
         "y": [
          "Pietro Iemmello",
          "Peque",
          "Moussa Sylla",
          "Gaëtan Perrin",
          "Gustaf Nilsson",
          "Aboubakary Koita",
          "Massimo Coda",
          "Matteo Brunori",
          "Curro",
          "Christos Tzolis",
          "Alexandre Mendy",
          "Haris Tabakovic",
          "Joel Pohjanpalo",
          "Martin Braithwaite",
          "Rafa Mújica",
          "Cristo González",
          "Thiago",
          "Cameron Puertas",
          "Gauthier Hein",
          "Daniele Casiraghi",
          "Pedro Gonçalves",
          "Mohamed El Amine Amoura",
          "László Bénes",
          "Robert Glatzel",
          "Marcel Hartel",
          "Simon Banza",
          "Anders Dreyer",
          "Kevin Denkey",
          "Rafa Silva",
          "Viktor Gyökeres"
         ],
         "yaxis": "y"
        }
       ],
       "layout": {
        "barmode": "relative",
        "coloraxis": {
         "colorbar": {
          "title": {
           "text": "Born"
          }
         },
         "colorscale": [
          [
           0,
           "#0d0887"
          ],
          [
           0.1111111111111111,
           "#46039f"
          ],
          [
           0.2222222222222222,
           "#7201a8"
          ],
          [
           0.3333333333333333,
           "#9c179e"
          ],
          [
           0.4444444444444444,
           "#bd3786"
          ],
          [
           0.5555555555555556,
           "#d8576b"
          ],
          [
           0.6666666666666666,
           "#ed7953"
          ],
          [
           0.7777777777777778,
           "#fb9f3a"
          ],
          [
           0.8888888888888888,
           "#fdca26"
          ],
          [
           1,
           "#f0f921"
          ]
         ]
        },
        "height": 600,
        "legend": {
         "tracegroupgap": 0
        },
        "margin": {
         "t": 60
        },
        "template": {
         "data": {
          "bar": [
           {
            "error_x": {
             "color": "#2a3f5f"
            },
            "error_y": {
             "color": "#2a3f5f"
            },
            "marker": {
             "line": {
              "color": "#E5ECF6",
              "width": 0.5
             },
             "pattern": {
              "fillmode": "overlay",
              "size": 10,
              "solidity": 0.2
             }
            },
            "type": "bar"
           }
          ],
          "barpolar": [
           {
            "marker": {
             "line": {
              "color": "#E5ECF6",
              "width": 0.5
             },
             "pattern": {
              "fillmode": "overlay",
              "size": 10,
              "solidity": 0.2
             }
            },
            "type": "barpolar"
           }
          ],
          "carpet": [
           {
            "aaxis": {
             "endlinecolor": "#2a3f5f",
             "gridcolor": "white",
             "linecolor": "white",
             "minorgridcolor": "white",
             "startlinecolor": "#2a3f5f"
            },
            "baxis": {
             "endlinecolor": "#2a3f5f",
             "gridcolor": "white",
             "linecolor": "white",
             "minorgridcolor": "white",
             "startlinecolor": "#2a3f5f"
            },
            "type": "carpet"
           }
          ],
          "choropleth": [
           {
            "colorbar": {
             "outlinewidth": 0,
             "ticks": ""
            },
            "type": "choropleth"
           }
          ],
          "contour": [
           {
            "colorbar": {
             "outlinewidth": 0,
             "ticks": ""
            },
            "colorscale": [
             [
              0,
              "#0d0887"
             ],
             [
              0.1111111111111111,
              "#46039f"
             ],
             [
              0.2222222222222222,
              "#7201a8"
             ],
             [
              0.3333333333333333,
              "#9c179e"
             ],
             [
              0.4444444444444444,
              "#bd3786"
             ],
             [
              0.5555555555555556,
              "#d8576b"
             ],
             [
              0.6666666666666666,
              "#ed7953"
             ],
             [
              0.7777777777777778,
              "#fb9f3a"
             ],
             [
              0.8888888888888888,
              "#fdca26"
             ],
             [
              1,
              "#f0f921"
             ]
            ],
            "type": "contour"
           }
          ],
          "contourcarpet": [
           {
            "colorbar": {
             "outlinewidth": 0,
             "ticks": ""
            },
            "type": "contourcarpet"
           }
          ],
          "heatmap": [
           {
            "colorbar": {
             "outlinewidth": 0,
             "ticks": ""
            },
            "colorscale": [
             [
              0,
              "#0d0887"
             ],
             [
              0.1111111111111111,
              "#46039f"
             ],
             [
              0.2222222222222222,
              "#7201a8"
             ],
             [
              0.3333333333333333,
              "#9c179e"
             ],
             [
              0.4444444444444444,
              "#bd3786"
             ],
             [
              0.5555555555555556,
              "#d8576b"
             ],
             [
              0.6666666666666666,
              "#ed7953"
             ],
             [
              0.7777777777777778,
              "#fb9f3a"
             ],
             [
              0.8888888888888888,
              "#fdca26"
             ],
             [
              1,
              "#f0f921"
             ]
            ],
            "type": "heatmap"
           }
          ],
          "heatmapgl": [
           {
            "colorbar": {
             "outlinewidth": 0,
             "ticks": ""
            },
            "colorscale": [
             [
              0,
              "#0d0887"
             ],
             [
              0.1111111111111111,
              "#46039f"
             ],
             [
              0.2222222222222222,
              "#7201a8"
             ],
             [
              0.3333333333333333,
              "#9c179e"
             ],
             [
              0.4444444444444444,
              "#bd3786"
             ],
             [
              0.5555555555555556,
              "#d8576b"
             ],
             [
              0.6666666666666666,
              "#ed7953"
             ],
             [
              0.7777777777777778,
              "#fb9f3a"
             ],
             [
              0.8888888888888888,
              "#fdca26"
             ],
             [
              1,
              "#f0f921"
             ]
            ],
            "type": "heatmapgl"
           }
          ],
          "histogram": [
           {
            "marker": {
             "pattern": {
              "fillmode": "overlay",
              "size": 10,
              "solidity": 0.2
             }
            },
            "type": "histogram"
           }
          ],
          "histogram2d": [
           {
            "colorbar": {
             "outlinewidth": 0,
             "ticks": ""
            },
            "colorscale": [
             [
              0,
              "#0d0887"
             ],
             [
              0.1111111111111111,
              "#46039f"
             ],
             [
              0.2222222222222222,
              "#7201a8"
             ],
             [
              0.3333333333333333,
              "#9c179e"
             ],
             [
              0.4444444444444444,
              "#bd3786"
             ],
             [
              0.5555555555555556,
              "#d8576b"
             ],
             [
              0.6666666666666666,
              "#ed7953"
             ],
             [
              0.7777777777777778,
              "#fb9f3a"
             ],
             [
              0.8888888888888888,
              "#fdca26"
             ],
             [
              1,
              "#f0f921"
             ]
            ],
            "type": "histogram2d"
           }
          ],
          "histogram2dcontour": [
           {
            "colorbar": {
             "outlinewidth": 0,
             "ticks": ""
            },
            "colorscale": [
             [
              0,
              "#0d0887"
             ],
             [
              0.1111111111111111,
              "#46039f"
             ],
             [
              0.2222222222222222,
              "#7201a8"
             ],
             [
              0.3333333333333333,
              "#9c179e"
             ],
             [
              0.4444444444444444,
              "#bd3786"
             ],
             [
              0.5555555555555556,
              "#d8576b"
             ],
             [
              0.6666666666666666,
              "#ed7953"
             ],
             [
              0.7777777777777778,
              "#fb9f3a"
             ],
             [
              0.8888888888888888,
              "#fdca26"
             ],
             [
              1,
              "#f0f921"
             ]
            ],
            "type": "histogram2dcontour"
           }
          ],
          "mesh3d": [
           {
            "colorbar": {
             "outlinewidth": 0,
             "ticks": ""
            },
            "type": "mesh3d"
           }
          ],
          "parcoords": [
           {
            "line": {
             "colorbar": {
              "outlinewidth": 0,
              "ticks": ""
             }
            },
            "type": "parcoords"
           }
          ],
          "pie": [
           {
            "automargin": true,
            "type": "pie"
           }
          ],
          "scatter": [
           {
            "fillpattern": {
             "fillmode": "overlay",
             "size": 10,
             "solidity": 0.2
            },
            "type": "scatter"
           }
          ],
          "scatter3d": [
           {
            "line": {
             "colorbar": {
              "outlinewidth": 0,
              "ticks": ""
             }
            },
            "marker": {
             "colorbar": {
              "outlinewidth": 0,
              "ticks": ""
             }
            },
            "type": "scatter3d"
           }
          ],
          "scattercarpet": [
           {
            "marker": {
             "colorbar": {
              "outlinewidth": 0,
              "ticks": ""
             }
            },
            "type": "scattercarpet"
           }
          ],
          "scattergeo": [
           {
            "marker": {
             "colorbar": {
              "outlinewidth": 0,
              "ticks": ""
             }
            },
            "type": "scattergeo"
           }
          ],
          "scattergl": [
           {
            "marker": {
             "colorbar": {
              "outlinewidth": 0,
              "ticks": ""
             }
            },
            "type": "scattergl"
           }
          ],
          "scattermapbox": [
           {
            "marker": {
             "colorbar": {
              "outlinewidth": 0,
              "ticks": ""
             }
            },
            "type": "scattermapbox"
           }
          ],
          "scatterpolar": [
           {
            "marker": {
             "colorbar": {
              "outlinewidth": 0,
              "ticks": ""
             }
            },
            "type": "scatterpolar"
           }
          ],
          "scatterpolargl": [
           {
            "marker": {
             "colorbar": {
              "outlinewidth": 0,
              "ticks": ""
             }
            },
            "type": "scatterpolargl"
           }
          ],
          "scatterternary": [
           {
            "marker": {
             "colorbar": {
              "outlinewidth": 0,
              "ticks": ""
             }
            },
            "type": "scatterternary"
           }
          ],
          "surface": [
           {
            "colorbar": {
             "outlinewidth": 0,
             "ticks": ""
            },
            "colorscale": [
             [
              0,
              "#0d0887"
             ],
             [
              0.1111111111111111,
              "#46039f"
             ],
             [
              0.2222222222222222,
              "#7201a8"
             ],
             [
              0.3333333333333333,
              "#9c179e"
             ],
             [
              0.4444444444444444,
              "#bd3786"
             ],
             [
              0.5555555555555556,
              "#d8576b"
             ],
             [
              0.6666666666666666,
              "#ed7953"
             ],
             [
              0.7777777777777778,
              "#fb9f3a"
             ],
             [
              0.8888888888888888,
              "#fdca26"
             ],
             [
              1,
              "#f0f921"
             ]
            ],
            "type": "surface"
           }
          ],
          "table": [
           {
            "cells": {
             "fill": {
              "color": "#EBF0F8"
             },
             "line": {
              "color": "white"
             }
            },
            "header": {
             "fill": {
              "color": "#C8D4E3"
             },
             "line": {
              "color": "white"
             }
            },
            "type": "table"
           }
          ]
         },
         "layout": {
          "annotationdefaults": {
           "arrowcolor": "#2a3f5f",
           "arrowhead": 0,
           "arrowwidth": 1
          },
          "autotypenumbers": "strict",
          "coloraxis": {
           "colorbar": {
            "outlinewidth": 0,
            "ticks": ""
           }
          },
          "colorscale": {
           "diverging": [
            [
             0,
             "#8e0152"
            ],
            [
             0.1,
             "#c51b7d"
            ],
            [
             0.2,
             "#de77ae"
            ],
            [
             0.3,
             "#f1b6da"
            ],
            [
             0.4,
             "#fde0ef"
            ],
            [
             0.5,
             "#f7f7f7"
            ],
            [
             0.6,
             "#e6f5d0"
            ],
            [
             0.7,
             "#b8e186"
            ],
            [
             0.8,
             "#7fbc41"
            ],
            [
             0.9,
             "#4d9221"
            ],
            [
             1,
             "#276419"
            ]
           ],
           "sequential": [
            [
             0,
             "#0d0887"
            ],
            [
             0.1111111111111111,
             "#46039f"
            ],
            [
             0.2222222222222222,
             "#7201a8"
            ],
            [
             0.3333333333333333,
             "#9c179e"
            ],
            [
             0.4444444444444444,
             "#bd3786"
            ],
            [
             0.5555555555555556,
             "#d8576b"
            ],
            [
             0.6666666666666666,
             "#ed7953"
            ],
            [
             0.7777777777777778,
             "#fb9f3a"
            ],
            [
             0.8888888888888888,
             "#fdca26"
            ],
            [
             1,
             "#f0f921"
            ]
           ],
           "sequentialminus": [
            [
             0,
             "#0d0887"
            ],
            [
             0.1111111111111111,
             "#46039f"
            ],
            [
             0.2222222222222222,
             "#7201a8"
            ],
            [
             0.3333333333333333,
             "#9c179e"
            ],
            [
             0.4444444444444444,
             "#bd3786"
            ],
            [
             0.5555555555555556,
             "#d8576b"
            ],
            [
             0.6666666666666666,
             "#ed7953"
            ],
            [
             0.7777777777777778,
             "#fb9f3a"
            ],
            [
             0.8888888888888888,
             "#fdca26"
            ],
            [
             1,
             "#f0f921"
            ]
           ]
          },
          "colorway": [
           "#636efa",
           "#EF553B",
           "#00cc96",
           "#ab63fa",
           "#FFA15A",
           "#19d3f3",
           "#FF6692",
           "#B6E880",
           "#FF97FF",
           "#FECB52"
          ],
          "font": {
           "color": "#2a3f5f"
          },
          "geo": {
           "bgcolor": "white",
           "lakecolor": "white",
           "landcolor": "#E5ECF6",
           "showlakes": true,
           "showland": true,
           "subunitcolor": "white"
          },
          "hoverlabel": {
           "align": "left"
          },
          "hovermode": "closest",
          "mapbox": {
           "style": "light"
          },
          "paper_bgcolor": "white",
          "plot_bgcolor": "#E5ECF6",
          "polar": {
           "angularaxis": {
            "gridcolor": "white",
            "linecolor": "white",
            "ticks": ""
           },
           "bgcolor": "#E5ECF6",
           "radialaxis": {
            "gridcolor": "white",
            "linecolor": "white",
            "ticks": ""
           }
          },
          "scene": {
           "xaxis": {
            "backgroundcolor": "#E5ECF6",
            "gridcolor": "white",
            "gridwidth": 2,
            "linecolor": "white",
            "showbackground": true,
            "ticks": "",
            "zerolinecolor": "white"
           },
           "yaxis": {
            "backgroundcolor": "#E5ECF6",
            "gridcolor": "white",
            "gridwidth": 2,
            "linecolor": "white",
            "showbackground": true,
            "ticks": "",
            "zerolinecolor": "white"
           },
           "zaxis": {
            "backgroundcolor": "#E5ECF6",
            "gridcolor": "white",
            "gridwidth": 2,
            "linecolor": "white",
            "showbackground": true,
            "ticks": "",
            "zerolinecolor": "white"
           }
          },
          "shapedefaults": {
           "line": {
            "color": "#2a3f5f"
           }
          },
          "ternary": {
           "aaxis": {
            "gridcolor": "white",
            "linecolor": "white",
            "ticks": ""
           },
           "baxis": {
            "gridcolor": "white",
            "linecolor": "white",
            "ticks": ""
           },
           "bgcolor": "#E5ECF6",
           "caxis": {
            "gridcolor": "white",
            "linecolor": "white",
            "ticks": ""
           }
          },
          "title": {
           "x": 0.05
          },
          "xaxis": {
           "automargin": true,
           "gridcolor": "white",
           "linecolor": "white",
           "ticks": "",
           "title": {
            "standoff": 15
           },
           "zerolinecolor": "white",
           "zerolinewidth": 2
          },
          "yaxis": {
           "automargin": true,
           "gridcolor": "white",
           "linecolor": "white",
           "ticks": "",
           "title": {
            "standoff": 15
           },
           "zerolinecolor": "white",
           "zerolinewidth": 2
          }
         }
        },
        "xaxis": {
         "anchor": "y",
         "domain": [
          0,
          1
         ],
         "title": {
          "text": "Goals + Assists"
         }
        },
        "yaxis": {
         "anchor": "x",
         "domain": [
          0,
          1
         ],
         "title": {
          "text": "Player"
         }
        }
       }
      }
     },
     "metadata": {},
     "output_type": "display_data"
    }
   ],
   "source": [
    "top_goals_assists= striker_dataframe.nlargest(30, 'Goals + Assists')\n",
    "top_goals_assists = top_goals_assists.sort_values('Goals + Assists', ascending=True)\n",
    "px.bar(top_goals_assists, x='Goals + Assists', y='Player', hover_data=['Player'], orientation='h', height=600, color='Born')"
   ]
  },
  {
   "cell_type": "code",
   "execution_count": 46,
   "metadata": {},
   "outputs": [],
   "source": [
    "# Repeat the above 3 graphs for per 90. These will be compared side-by-side on the dashboard. \n",
    "# Helping give us an idea of the data, especially the age breakdown. There are a few promising players born in 2000 or later.\n"
   ]
  },
  {
   "cell_type": "code",
   "execution_count": 47,
   "metadata": {},
   "outputs": [
    {
     "data": {
      "application/vnd.plotly.v1+json": {
       "config": {
        "plotlyServerURL": "https://plot.ly"
       },
       "data": [
        {
         "alignmentgroup": "True",
         "hovertemplate": "Goals per 90=%{x}<br>Player=%{y}<br>Born=%{marker.color}<extra></extra>",
         "legendgroup": "",
         "marker": {
          "color": [
           1999,
           1994,
           1994,
           1999,
           1999,
           2000,
           1996,
           1994,
           1998,
           1994,
           2002,
           1997,
           1997,
           2006,
           2005,
           2001,
           2001,
           1998,
           1994,
           2000,
           1998,
           1997,
           1998,
           1999,
           2002,
           2001,
           2001,
           2000,
           1996,
           1989
          ],
          "coloraxis": "coloraxis",
          "pattern": {
           "shape": ""
          }
         },
         "name": "",
         "offsetgroup": "",
         "orientation": "h",
         "showlegend": false,
         "textposition": "auto",
         "type": "bar",
         "x": [
          0.67,
          0.68,
          0.68,
          0.69,
          0.7,
          0.7,
          0.7,
          0.71,
          0.72,
          0.72,
          0.74,
          0.78,
          0.79,
          0.79,
          0.79,
          0.81,
          0.82,
          0.82,
          0.84,
          0.86,
          0.87,
          0.9,
          0.94,
          1.01,
          1.02,
          1.03,
          1.04,
          1.13,
          1.21,
          1.4500000000000002
         ],
         "xaxis": "x",
         "y": [
          "Andi Zeqiri",
          "Haris Tabakovic",
          "Alexandre Mendy",
          "Francisco Trincão",
          "Gabriel Charpentier",
          "Alejandro Marqués",
          "Fawaz Al-Sqoor",
          "Joel Pohjanpalo",
          "Rafa Mújica",
          "Robert Glatzel",
          "Christos Tzolis",
          "Gustaf Nilsson",
          "Edoardo Soleri",
          "George Ilenikhena",
          "Can Yılmaz Uzun",
          "Samuel Ntamack",
          "Thiago",
          "Viktor Gyökeres",
          "Budu Zivzivadze",
          "Kevin Denkey",
          "Petar Musa",
          "Cedric Teuchert",
          "Ragnar Ache",
          "Paulinho",
          "Nicholas Bonfanti",
          "Ousmane Camara",
          "Luis Vázquez",
          "Mohamed El Amine Amoura",
          "Simon Banza",
          "Sergio León"
         ],
         "yaxis": "y"
        }
       ],
       "layout": {
        "barmode": "relative",
        "coloraxis": {
         "colorbar": {
          "title": {
           "text": "Born"
          }
         },
         "colorscale": [
          [
           0,
           "#0d0887"
          ],
          [
           0.1111111111111111,
           "#46039f"
          ],
          [
           0.2222222222222222,
           "#7201a8"
          ],
          [
           0.3333333333333333,
           "#9c179e"
          ],
          [
           0.4444444444444444,
           "#bd3786"
          ],
          [
           0.5555555555555556,
           "#d8576b"
          ],
          [
           0.6666666666666666,
           "#ed7953"
          ],
          [
           0.7777777777777778,
           "#fb9f3a"
          ],
          [
           0.8888888888888888,
           "#fdca26"
          ],
          [
           1,
           "#f0f921"
          ]
         ]
        },
        "height": 600,
        "legend": {
         "tracegroupgap": 0
        },
        "margin": {
         "t": 60
        },
        "template": {
         "data": {
          "bar": [
           {
            "error_x": {
             "color": "#2a3f5f"
            },
            "error_y": {
             "color": "#2a3f5f"
            },
            "marker": {
             "line": {
              "color": "#E5ECF6",
              "width": 0.5
             },
             "pattern": {
              "fillmode": "overlay",
              "size": 10,
              "solidity": 0.2
             }
            },
            "type": "bar"
           }
          ],
          "barpolar": [
           {
            "marker": {
             "line": {
              "color": "#E5ECF6",
              "width": 0.5
             },
             "pattern": {
              "fillmode": "overlay",
              "size": 10,
              "solidity": 0.2
             }
            },
            "type": "barpolar"
           }
          ],
          "carpet": [
           {
            "aaxis": {
             "endlinecolor": "#2a3f5f",
             "gridcolor": "white",
             "linecolor": "white",
             "minorgridcolor": "white",
             "startlinecolor": "#2a3f5f"
            },
            "baxis": {
             "endlinecolor": "#2a3f5f",
             "gridcolor": "white",
             "linecolor": "white",
             "minorgridcolor": "white",
             "startlinecolor": "#2a3f5f"
            },
            "type": "carpet"
           }
          ],
          "choropleth": [
           {
            "colorbar": {
             "outlinewidth": 0,
             "ticks": ""
            },
            "type": "choropleth"
           }
          ],
          "contour": [
           {
            "colorbar": {
             "outlinewidth": 0,
             "ticks": ""
            },
            "colorscale": [
             [
              0,
              "#0d0887"
             ],
             [
              0.1111111111111111,
              "#46039f"
             ],
             [
              0.2222222222222222,
              "#7201a8"
             ],
             [
              0.3333333333333333,
              "#9c179e"
             ],
             [
              0.4444444444444444,
              "#bd3786"
             ],
             [
              0.5555555555555556,
              "#d8576b"
             ],
             [
              0.6666666666666666,
              "#ed7953"
             ],
             [
              0.7777777777777778,
              "#fb9f3a"
             ],
             [
              0.8888888888888888,
              "#fdca26"
             ],
             [
              1,
              "#f0f921"
             ]
            ],
            "type": "contour"
           }
          ],
          "contourcarpet": [
           {
            "colorbar": {
             "outlinewidth": 0,
             "ticks": ""
            },
            "type": "contourcarpet"
           }
          ],
          "heatmap": [
           {
            "colorbar": {
             "outlinewidth": 0,
             "ticks": ""
            },
            "colorscale": [
             [
              0,
              "#0d0887"
             ],
             [
              0.1111111111111111,
              "#46039f"
             ],
             [
              0.2222222222222222,
              "#7201a8"
             ],
             [
              0.3333333333333333,
              "#9c179e"
             ],
             [
              0.4444444444444444,
              "#bd3786"
             ],
             [
              0.5555555555555556,
              "#d8576b"
             ],
             [
              0.6666666666666666,
              "#ed7953"
             ],
             [
              0.7777777777777778,
              "#fb9f3a"
             ],
             [
              0.8888888888888888,
              "#fdca26"
             ],
             [
              1,
              "#f0f921"
             ]
            ],
            "type": "heatmap"
           }
          ],
          "heatmapgl": [
           {
            "colorbar": {
             "outlinewidth": 0,
             "ticks": ""
            },
            "colorscale": [
             [
              0,
              "#0d0887"
             ],
             [
              0.1111111111111111,
              "#46039f"
             ],
             [
              0.2222222222222222,
              "#7201a8"
             ],
             [
              0.3333333333333333,
              "#9c179e"
             ],
             [
              0.4444444444444444,
              "#bd3786"
             ],
             [
              0.5555555555555556,
              "#d8576b"
             ],
             [
              0.6666666666666666,
              "#ed7953"
             ],
             [
              0.7777777777777778,
              "#fb9f3a"
             ],
             [
              0.8888888888888888,
              "#fdca26"
             ],
             [
              1,
              "#f0f921"
             ]
            ],
            "type": "heatmapgl"
           }
          ],
          "histogram": [
           {
            "marker": {
             "pattern": {
              "fillmode": "overlay",
              "size": 10,
              "solidity": 0.2
             }
            },
            "type": "histogram"
           }
          ],
          "histogram2d": [
           {
            "colorbar": {
             "outlinewidth": 0,
             "ticks": ""
            },
            "colorscale": [
             [
              0,
              "#0d0887"
             ],
             [
              0.1111111111111111,
              "#46039f"
             ],
             [
              0.2222222222222222,
              "#7201a8"
             ],
             [
              0.3333333333333333,
              "#9c179e"
             ],
             [
              0.4444444444444444,
              "#bd3786"
             ],
             [
              0.5555555555555556,
              "#d8576b"
             ],
             [
              0.6666666666666666,
              "#ed7953"
             ],
             [
              0.7777777777777778,
              "#fb9f3a"
             ],
             [
              0.8888888888888888,
              "#fdca26"
             ],
             [
              1,
              "#f0f921"
             ]
            ],
            "type": "histogram2d"
           }
          ],
          "histogram2dcontour": [
           {
            "colorbar": {
             "outlinewidth": 0,
             "ticks": ""
            },
            "colorscale": [
             [
              0,
              "#0d0887"
             ],
             [
              0.1111111111111111,
              "#46039f"
             ],
             [
              0.2222222222222222,
              "#7201a8"
             ],
             [
              0.3333333333333333,
              "#9c179e"
             ],
             [
              0.4444444444444444,
              "#bd3786"
             ],
             [
              0.5555555555555556,
              "#d8576b"
             ],
             [
              0.6666666666666666,
              "#ed7953"
             ],
             [
              0.7777777777777778,
              "#fb9f3a"
             ],
             [
              0.8888888888888888,
              "#fdca26"
             ],
             [
              1,
              "#f0f921"
             ]
            ],
            "type": "histogram2dcontour"
           }
          ],
          "mesh3d": [
           {
            "colorbar": {
             "outlinewidth": 0,
             "ticks": ""
            },
            "type": "mesh3d"
           }
          ],
          "parcoords": [
           {
            "line": {
             "colorbar": {
              "outlinewidth": 0,
              "ticks": ""
             }
            },
            "type": "parcoords"
           }
          ],
          "pie": [
           {
            "automargin": true,
            "type": "pie"
           }
          ],
          "scatter": [
           {
            "fillpattern": {
             "fillmode": "overlay",
             "size": 10,
             "solidity": 0.2
            },
            "type": "scatter"
           }
          ],
          "scatter3d": [
           {
            "line": {
             "colorbar": {
              "outlinewidth": 0,
              "ticks": ""
             }
            },
            "marker": {
             "colorbar": {
              "outlinewidth": 0,
              "ticks": ""
             }
            },
            "type": "scatter3d"
           }
          ],
          "scattercarpet": [
           {
            "marker": {
             "colorbar": {
              "outlinewidth": 0,
              "ticks": ""
             }
            },
            "type": "scattercarpet"
           }
          ],
          "scattergeo": [
           {
            "marker": {
             "colorbar": {
              "outlinewidth": 0,
              "ticks": ""
             }
            },
            "type": "scattergeo"
           }
          ],
          "scattergl": [
           {
            "marker": {
             "colorbar": {
              "outlinewidth": 0,
              "ticks": ""
             }
            },
            "type": "scattergl"
           }
          ],
          "scattermapbox": [
           {
            "marker": {
             "colorbar": {
              "outlinewidth": 0,
              "ticks": ""
             }
            },
            "type": "scattermapbox"
           }
          ],
          "scatterpolar": [
           {
            "marker": {
             "colorbar": {
              "outlinewidth": 0,
              "ticks": ""
             }
            },
            "type": "scatterpolar"
           }
          ],
          "scatterpolargl": [
           {
            "marker": {
             "colorbar": {
              "outlinewidth": 0,
              "ticks": ""
             }
            },
            "type": "scatterpolargl"
           }
          ],
          "scatterternary": [
           {
            "marker": {
             "colorbar": {
              "outlinewidth": 0,
              "ticks": ""
             }
            },
            "type": "scatterternary"
           }
          ],
          "surface": [
           {
            "colorbar": {
             "outlinewidth": 0,
             "ticks": ""
            },
            "colorscale": [
             [
              0,
              "#0d0887"
             ],
             [
              0.1111111111111111,
              "#46039f"
             ],
             [
              0.2222222222222222,
              "#7201a8"
             ],
             [
              0.3333333333333333,
              "#9c179e"
             ],
             [
              0.4444444444444444,
              "#bd3786"
             ],
             [
              0.5555555555555556,
              "#d8576b"
             ],
             [
              0.6666666666666666,
              "#ed7953"
             ],
             [
              0.7777777777777778,
              "#fb9f3a"
             ],
             [
              0.8888888888888888,
              "#fdca26"
             ],
             [
              1,
              "#f0f921"
             ]
            ],
            "type": "surface"
           }
          ],
          "table": [
           {
            "cells": {
             "fill": {
              "color": "#EBF0F8"
             },
             "line": {
              "color": "white"
             }
            },
            "header": {
             "fill": {
              "color": "#C8D4E3"
             },
             "line": {
              "color": "white"
             }
            },
            "type": "table"
           }
          ]
         },
         "layout": {
          "annotationdefaults": {
           "arrowcolor": "#2a3f5f",
           "arrowhead": 0,
           "arrowwidth": 1
          },
          "autotypenumbers": "strict",
          "coloraxis": {
           "colorbar": {
            "outlinewidth": 0,
            "ticks": ""
           }
          },
          "colorscale": {
           "diverging": [
            [
             0,
             "#8e0152"
            ],
            [
             0.1,
             "#c51b7d"
            ],
            [
             0.2,
             "#de77ae"
            ],
            [
             0.3,
             "#f1b6da"
            ],
            [
             0.4,
             "#fde0ef"
            ],
            [
             0.5,
             "#f7f7f7"
            ],
            [
             0.6,
             "#e6f5d0"
            ],
            [
             0.7,
             "#b8e186"
            ],
            [
             0.8,
             "#7fbc41"
            ],
            [
             0.9,
             "#4d9221"
            ],
            [
             1,
             "#276419"
            ]
           ],
           "sequential": [
            [
             0,
             "#0d0887"
            ],
            [
             0.1111111111111111,
             "#46039f"
            ],
            [
             0.2222222222222222,
             "#7201a8"
            ],
            [
             0.3333333333333333,
             "#9c179e"
            ],
            [
             0.4444444444444444,
             "#bd3786"
            ],
            [
             0.5555555555555556,
             "#d8576b"
            ],
            [
             0.6666666666666666,
             "#ed7953"
            ],
            [
             0.7777777777777778,
             "#fb9f3a"
            ],
            [
             0.8888888888888888,
             "#fdca26"
            ],
            [
             1,
             "#f0f921"
            ]
           ],
           "sequentialminus": [
            [
             0,
             "#0d0887"
            ],
            [
             0.1111111111111111,
             "#46039f"
            ],
            [
             0.2222222222222222,
             "#7201a8"
            ],
            [
             0.3333333333333333,
             "#9c179e"
            ],
            [
             0.4444444444444444,
             "#bd3786"
            ],
            [
             0.5555555555555556,
             "#d8576b"
            ],
            [
             0.6666666666666666,
             "#ed7953"
            ],
            [
             0.7777777777777778,
             "#fb9f3a"
            ],
            [
             0.8888888888888888,
             "#fdca26"
            ],
            [
             1,
             "#f0f921"
            ]
           ]
          },
          "colorway": [
           "#636efa",
           "#EF553B",
           "#00cc96",
           "#ab63fa",
           "#FFA15A",
           "#19d3f3",
           "#FF6692",
           "#B6E880",
           "#FF97FF",
           "#FECB52"
          ],
          "font": {
           "color": "#2a3f5f"
          },
          "geo": {
           "bgcolor": "white",
           "lakecolor": "white",
           "landcolor": "#E5ECF6",
           "showlakes": true,
           "showland": true,
           "subunitcolor": "white"
          },
          "hoverlabel": {
           "align": "left"
          },
          "hovermode": "closest",
          "mapbox": {
           "style": "light"
          },
          "paper_bgcolor": "white",
          "plot_bgcolor": "#E5ECF6",
          "polar": {
           "angularaxis": {
            "gridcolor": "white",
            "linecolor": "white",
            "ticks": ""
           },
           "bgcolor": "#E5ECF6",
           "radialaxis": {
            "gridcolor": "white",
            "linecolor": "white",
            "ticks": ""
           }
          },
          "scene": {
           "xaxis": {
            "backgroundcolor": "#E5ECF6",
            "gridcolor": "white",
            "gridwidth": 2,
            "linecolor": "white",
            "showbackground": true,
            "ticks": "",
            "zerolinecolor": "white"
           },
           "yaxis": {
            "backgroundcolor": "#E5ECF6",
            "gridcolor": "white",
            "gridwidth": 2,
            "linecolor": "white",
            "showbackground": true,
            "ticks": "",
            "zerolinecolor": "white"
           },
           "zaxis": {
            "backgroundcolor": "#E5ECF6",
            "gridcolor": "white",
            "gridwidth": 2,
            "linecolor": "white",
            "showbackground": true,
            "ticks": "",
            "zerolinecolor": "white"
           }
          },
          "shapedefaults": {
           "line": {
            "color": "#2a3f5f"
           }
          },
          "ternary": {
           "aaxis": {
            "gridcolor": "white",
            "linecolor": "white",
            "ticks": ""
           },
           "baxis": {
            "gridcolor": "white",
            "linecolor": "white",
            "ticks": ""
           },
           "bgcolor": "#E5ECF6",
           "caxis": {
            "gridcolor": "white",
            "linecolor": "white",
            "ticks": ""
           }
          },
          "title": {
           "x": 0.05
          },
          "xaxis": {
           "automargin": true,
           "gridcolor": "white",
           "linecolor": "white",
           "ticks": "",
           "title": {
            "standoff": 15
           },
           "zerolinecolor": "white",
           "zerolinewidth": 2
          },
          "yaxis": {
           "automargin": true,
           "gridcolor": "white",
           "linecolor": "white",
           "ticks": "",
           "title": {
            "standoff": 15
           },
           "zerolinecolor": "white",
           "zerolinewidth": 2
          }
         }
        },
        "xaxis": {
         "anchor": "y",
         "domain": [
          0,
          1
         ],
         "title": {
          "text": "Goals per 90"
         }
        },
        "yaxis": {
         "anchor": "x",
         "domain": [
          0,
          1
         ],
         "title": {
          "text": "Player"
         }
        }
       }
      }
     },
     "metadata": {},
     "output_type": "display_data"
    }
   ],
   "source": [
    "top_goals_90 = striker_dataframe.nlargest(30, 'Goals per 90')\n",
    "top_goals_90 = top_goals_90.sort_values('Goals per 90', ascending=True)\n",
    "px.bar(top_goals_90, x='Goals per 90', y='Player', hover_data=['Player'], orientation='h', height=600, color='Born')"
   ]
  },
  {
   "cell_type": "code",
   "execution_count": 48,
   "metadata": {},
   "outputs": [
    {
     "data": {
      "application/vnd.plotly.v1+json": {
       "config": {
        "plotlyServerURL": "https://plot.ly"
       },
       "data": [
        {
         "alignmentgroup": "True",
         "hovertemplate": "Assists per 90=%{x}<br>Player=%{y}<br>Born=%{marker.color}<extra></extra>",
         "legendgroup": "",
         "marker": {
          "color": [
           1999,
           1995,
           2000,
           1998,
           2000,
           1999,
           1997,
           1999,
           2000,
           2002,
           2000,
           1994,
           1998,
           1993,
           1997,
           1998,
           1995,
           2001,
           1999,
           2000,
           1999,
           2000,
           1999,
           2000,
           1991,
           2001,
           1999,
           1997,
           1999,
           1998
          ],
          "coloraxis": "coloraxis",
          "pattern": {
           "shape": ""
          }
         },
         "name": "",
         "offsetgroup": "",
         "orientation": "h",
         "showlegend": false,
         "textposition": "auto",
         "type": "bar",
         "x": [
          0.41,
          0.41,
          0.41,
          0.42,
          0.42,
          0.42,
          0.42,
          0.43,
          0.43,
          0.44,
          0.46,
          0.46,
          0.48,
          0.49,
          0.49,
          0.52,
          0.52,
          0.53,
          0.53,
          0.55,
          0.55,
          0.6,
          0.61,
          0.63,
          0.65,
          0.66,
          0.7,
          0.84,
          0.84,
          1.18
         ],
         "xaxis": "x",
         "y": [
          "Sergio Lozano",
          "Barış Atik",
          "Kevin Rodríguez",
          "Iñigo Vicente",
          "Orkun Kökçü",
          "Natanael Ntolla",
          "László Bénes",
          "Marco Olivieri",
          "Omri Gandelman",
          "Alexi Pitu",
          "Godson Kyeremeh",
          "Clément Depres",
          "Pedro Gonçalves",
          "Rafa Silva",
          "Jardel",
          "Cameron Puertas",
          "Jean-Luc Dompé",
          "Yari Verschaeren",
          "Jason Ceka",
          "Félix Tomi",
          "Rayan Ghrieb",
          "Shinta Appelkamp",
          "Nuno Santos",
          "Giacomo Manzari",
          "Diego Falcinelli",
          "Gonçalo Borges",
          "Gabriel Charpentier",
          "David Neres",
          "Yonas Malede",
          "Etienne Amenyido"
         ],
         "yaxis": "y"
        }
       ],
       "layout": {
        "barmode": "relative",
        "coloraxis": {
         "colorbar": {
          "title": {
           "text": "Born"
          }
         },
         "colorscale": [
          [
           0,
           "#0d0887"
          ],
          [
           0.1111111111111111,
           "#46039f"
          ],
          [
           0.2222222222222222,
           "#7201a8"
          ],
          [
           0.3333333333333333,
           "#9c179e"
          ],
          [
           0.4444444444444444,
           "#bd3786"
          ],
          [
           0.5555555555555556,
           "#d8576b"
          ],
          [
           0.6666666666666666,
           "#ed7953"
          ],
          [
           0.7777777777777778,
           "#fb9f3a"
          ],
          [
           0.8888888888888888,
           "#fdca26"
          ],
          [
           1,
           "#f0f921"
          ]
         ]
        },
        "height": 600,
        "legend": {
         "tracegroupgap": 0
        },
        "margin": {
         "t": 60
        },
        "template": {
         "data": {
          "bar": [
           {
            "error_x": {
             "color": "#2a3f5f"
            },
            "error_y": {
             "color": "#2a3f5f"
            },
            "marker": {
             "line": {
              "color": "#E5ECF6",
              "width": 0.5
             },
             "pattern": {
              "fillmode": "overlay",
              "size": 10,
              "solidity": 0.2
             }
            },
            "type": "bar"
           }
          ],
          "barpolar": [
           {
            "marker": {
             "line": {
              "color": "#E5ECF6",
              "width": 0.5
             },
             "pattern": {
              "fillmode": "overlay",
              "size": 10,
              "solidity": 0.2
             }
            },
            "type": "barpolar"
           }
          ],
          "carpet": [
           {
            "aaxis": {
             "endlinecolor": "#2a3f5f",
             "gridcolor": "white",
             "linecolor": "white",
             "minorgridcolor": "white",
             "startlinecolor": "#2a3f5f"
            },
            "baxis": {
             "endlinecolor": "#2a3f5f",
             "gridcolor": "white",
             "linecolor": "white",
             "minorgridcolor": "white",
             "startlinecolor": "#2a3f5f"
            },
            "type": "carpet"
           }
          ],
          "choropleth": [
           {
            "colorbar": {
             "outlinewidth": 0,
             "ticks": ""
            },
            "type": "choropleth"
           }
          ],
          "contour": [
           {
            "colorbar": {
             "outlinewidth": 0,
             "ticks": ""
            },
            "colorscale": [
             [
              0,
              "#0d0887"
             ],
             [
              0.1111111111111111,
              "#46039f"
             ],
             [
              0.2222222222222222,
              "#7201a8"
             ],
             [
              0.3333333333333333,
              "#9c179e"
             ],
             [
              0.4444444444444444,
              "#bd3786"
             ],
             [
              0.5555555555555556,
              "#d8576b"
             ],
             [
              0.6666666666666666,
              "#ed7953"
             ],
             [
              0.7777777777777778,
              "#fb9f3a"
             ],
             [
              0.8888888888888888,
              "#fdca26"
             ],
             [
              1,
              "#f0f921"
             ]
            ],
            "type": "contour"
           }
          ],
          "contourcarpet": [
           {
            "colorbar": {
             "outlinewidth": 0,
             "ticks": ""
            },
            "type": "contourcarpet"
           }
          ],
          "heatmap": [
           {
            "colorbar": {
             "outlinewidth": 0,
             "ticks": ""
            },
            "colorscale": [
             [
              0,
              "#0d0887"
             ],
             [
              0.1111111111111111,
              "#46039f"
             ],
             [
              0.2222222222222222,
              "#7201a8"
             ],
             [
              0.3333333333333333,
              "#9c179e"
             ],
             [
              0.4444444444444444,
              "#bd3786"
             ],
             [
              0.5555555555555556,
              "#d8576b"
             ],
             [
              0.6666666666666666,
              "#ed7953"
             ],
             [
              0.7777777777777778,
              "#fb9f3a"
             ],
             [
              0.8888888888888888,
              "#fdca26"
             ],
             [
              1,
              "#f0f921"
             ]
            ],
            "type": "heatmap"
           }
          ],
          "heatmapgl": [
           {
            "colorbar": {
             "outlinewidth": 0,
             "ticks": ""
            },
            "colorscale": [
             [
              0,
              "#0d0887"
             ],
             [
              0.1111111111111111,
              "#46039f"
             ],
             [
              0.2222222222222222,
              "#7201a8"
             ],
             [
              0.3333333333333333,
              "#9c179e"
             ],
             [
              0.4444444444444444,
              "#bd3786"
             ],
             [
              0.5555555555555556,
              "#d8576b"
             ],
             [
              0.6666666666666666,
              "#ed7953"
             ],
             [
              0.7777777777777778,
              "#fb9f3a"
             ],
             [
              0.8888888888888888,
              "#fdca26"
             ],
             [
              1,
              "#f0f921"
             ]
            ],
            "type": "heatmapgl"
           }
          ],
          "histogram": [
           {
            "marker": {
             "pattern": {
              "fillmode": "overlay",
              "size": 10,
              "solidity": 0.2
             }
            },
            "type": "histogram"
           }
          ],
          "histogram2d": [
           {
            "colorbar": {
             "outlinewidth": 0,
             "ticks": ""
            },
            "colorscale": [
             [
              0,
              "#0d0887"
             ],
             [
              0.1111111111111111,
              "#46039f"
             ],
             [
              0.2222222222222222,
              "#7201a8"
             ],
             [
              0.3333333333333333,
              "#9c179e"
             ],
             [
              0.4444444444444444,
              "#bd3786"
             ],
             [
              0.5555555555555556,
              "#d8576b"
             ],
             [
              0.6666666666666666,
              "#ed7953"
             ],
             [
              0.7777777777777778,
              "#fb9f3a"
             ],
             [
              0.8888888888888888,
              "#fdca26"
             ],
             [
              1,
              "#f0f921"
             ]
            ],
            "type": "histogram2d"
           }
          ],
          "histogram2dcontour": [
           {
            "colorbar": {
             "outlinewidth": 0,
             "ticks": ""
            },
            "colorscale": [
             [
              0,
              "#0d0887"
             ],
             [
              0.1111111111111111,
              "#46039f"
             ],
             [
              0.2222222222222222,
              "#7201a8"
             ],
             [
              0.3333333333333333,
              "#9c179e"
             ],
             [
              0.4444444444444444,
              "#bd3786"
             ],
             [
              0.5555555555555556,
              "#d8576b"
             ],
             [
              0.6666666666666666,
              "#ed7953"
             ],
             [
              0.7777777777777778,
              "#fb9f3a"
             ],
             [
              0.8888888888888888,
              "#fdca26"
             ],
             [
              1,
              "#f0f921"
             ]
            ],
            "type": "histogram2dcontour"
           }
          ],
          "mesh3d": [
           {
            "colorbar": {
             "outlinewidth": 0,
             "ticks": ""
            },
            "type": "mesh3d"
           }
          ],
          "parcoords": [
           {
            "line": {
             "colorbar": {
              "outlinewidth": 0,
              "ticks": ""
             }
            },
            "type": "parcoords"
           }
          ],
          "pie": [
           {
            "automargin": true,
            "type": "pie"
           }
          ],
          "scatter": [
           {
            "fillpattern": {
             "fillmode": "overlay",
             "size": 10,
             "solidity": 0.2
            },
            "type": "scatter"
           }
          ],
          "scatter3d": [
           {
            "line": {
             "colorbar": {
              "outlinewidth": 0,
              "ticks": ""
             }
            },
            "marker": {
             "colorbar": {
              "outlinewidth": 0,
              "ticks": ""
             }
            },
            "type": "scatter3d"
           }
          ],
          "scattercarpet": [
           {
            "marker": {
             "colorbar": {
              "outlinewidth": 0,
              "ticks": ""
             }
            },
            "type": "scattercarpet"
           }
          ],
          "scattergeo": [
           {
            "marker": {
             "colorbar": {
              "outlinewidth": 0,
              "ticks": ""
             }
            },
            "type": "scattergeo"
           }
          ],
          "scattergl": [
           {
            "marker": {
             "colorbar": {
              "outlinewidth": 0,
              "ticks": ""
             }
            },
            "type": "scattergl"
           }
          ],
          "scattermapbox": [
           {
            "marker": {
             "colorbar": {
              "outlinewidth": 0,
              "ticks": ""
             }
            },
            "type": "scattermapbox"
           }
          ],
          "scatterpolar": [
           {
            "marker": {
             "colorbar": {
              "outlinewidth": 0,
              "ticks": ""
             }
            },
            "type": "scatterpolar"
           }
          ],
          "scatterpolargl": [
           {
            "marker": {
             "colorbar": {
              "outlinewidth": 0,
              "ticks": ""
             }
            },
            "type": "scatterpolargl"
           }
          ],
          "scatterternary": [
           {
            "marker": {
             "colorbar": {
              "outlinewidth": 0,
              "ticks": ""
             }
            },
            "type": "scatterternary"
           }
          ],
          "surface": [
           {
            "colorbar": {
             "outlinewidth": 0,
             "ticks": ""
            },
            "colorscale": [
             [
              0,
              "#0d0887"
             ],
             [
              0.1111111111111111,
              "#46039f"
             ],
             [
              0.2222222222222222,
              "#7201a8"
             ],
             [
              0.3333333333333333,
              "#9c179e"
             ],
             [
              0.4444444444444444,
              "#bd3786"
             ],
             [
              0.5555555555555556,
              "#d8576b"
             ],
             [
              0.6666666666666666,
              "#ed7953"
             ],
             [
              0.7777777777777778,
              "#fb9f3a"
             ],
             [
              0.8888888888888888,
              "#fdca26"
             ],
             [
              1,
              "#f0f921"
             ]
            ],
            "type": "surface"
           }
          ],
          "table": [
           {
            "cells": {
             "fill": {
              "color": "#EBF0F8"
             },
             "line": {
              "color": "white"
             }
            },
            "header": {
             "fill": {
              "color": "#C8D4E3"
             },
             "line": {
              "color": "white"
             }
            },
            "type": "table"
           }
          ]
         },
         "layout": {
          "annotationdefaults": {
           "arrowcolor": "#2a3f5f",
           "arrowhead": 0,
           "arrowwidth": 1
          },
          "autotypenumbers": "strict",
          "coloraxis": {
           "colorbar": {
            "outlinewidth": 0,
            "ticks": ""
           }
          },
          "colorscale": {
           "diverging": [
            [
             0,
             "#8e0152"
            ],
            [
             0.1,
             "#c51b7d"
            ],
            [
             0.2,
             "#de77ae"
            ],
            [
             0.3,
             "#f1b6da"
            ],
            [
             0.4,
             "#fde0ef"
            ],
            [
             0.5,
             "#f7f7f7"
            ],
            [
             0.6,
             "#e6f5d0"
            ],
            [
             0.7,
             "#b8e186"
            ],
            [
             0.8,
             "#7fbc41"
            ],
            [
             0.9,
             "#4d9221"
            ],
            [
             1,
             "#276419"
            ]
           ],
           "sequential": [
            [
             0,
             "#0d0887"
            ],
            [
             0.1111111111111111,
             "#46039f"
            ],
            [
             0.2222222222222222,
             "#7201a8"
            ],
            [
             0.3333333333333333,
             "#9c179e"
            ],
            [
             0.4444444444444444,
             "#bd3786"
            ],
            [
             0.5555555555555556,
             "#d8576b"
            ],
            [
             0.6666666666666666,
             "#ed7953"
            ],
            [
             0.7777777777777778,
             "#fb9f3a"
            ],
            [
             0.8888888888888888,
             "#fdca26"
            ],
            [
             1,
             "#f0f921"
            ]
           ],
           "sequentialminus": [
            [
             0,
             "#0d0887"
            ],
            [
             0.1111111111111111,
             "#46039f"
            ],
            [
             0.2222222222222222,
             "#7201a8"
            ],
            [
             0.3333333333333333,
             "#9c179e"
            ],
            [
             0.4444444444444444,
             "#bd3786"
            ],
            [
             0.5555555555555556,
             "#d8576b"
            ],
            [
             0.6666666666666666,
             "#ed7953"
            ],
            [
             0.7777777777777778,
             "#fb9f3a"
            ],
            [
             0.8888888888888888,
             "#fdca26"
            ],
            [
             1,
             "#f0f921"
            ]
           ]
          },
          "colorway": [
           "#636efa",
           "#EF553B",
           "#00cc96",
           "#ab63fa",
           "#FFA15A",
           "#19d3f3",
           "#FF6692",
           "#B6E880",
           "#FF97FF",
           "#FECB52"
          ],
          "font": {
           "color": "#2a3f5f"
          },
          "geo": {
           "bgcolor": "white",
           "lakecolor": "white",
           "landcolor": "#E5ECF6",
           "showlakes": true,
           "showland": true,
           "subunitcolor": "white"
          },
          "hoverlabel": {
           "align": "left"
          },
          "hovermode": "closest",
          "mapbox": {
           "style": "light"
          },
          "paper_bgcolor": "white",
          "plot_bgcolor": "#E5ECF6",
          "polar": {
           "angularaxis": {
            "gridcolor": "white",
            "linecolor": "white",
            "ticks": ""
           },
           "bgcolor": "#E5ECF6",
           "radialaxis": {
            "gridcolor": "white",
            "linecolor": "white",
            "ticks": ""
           }
          },
          "scene": {
           "xaxis": {
            "backgroundcolor": "#E5ECF6",
            "gridcolor": "white",
            "gridwidth": 2,
            "linecolor": "white",
            "showbackground": true,
            "ticks": "",
            "zerolinecolor": "white"
           },
           "yaxis": {
            "backgroundcolor": "#E5ECF6",
            "gridcolor": "white",
            "gridwidth": 2,
            "linecolor": "white",
            "showbackground": true,
            "ticks": "",
            "zerolinecolor": "white"
           },
           "zaxis": {
            "backgroundcolor": "#E5ECF6",
            "gridcolor": "white",
            "gridwidth": 2,
            "linecolor": "white",
            "showbackground": true,
            "ticks": "",
            "zerolinecolor": "white"
           }
          },
          "shapedefaults": {
           "line": {
            "color": "#2a3f5f"
           }
          },
          "ternary": {
           "aaxis": {
            "gridcolor": "white",
            "linecolor": "white",
            "ticks": ""
           },
           "baxis": {
            "gridcolor": "white",
            "linecolor": "white",
            "ticks": ""
           },
           "bgcolor": "#E5ECF6",
           "caxis": {
            "gridcolor": "white",
            "linecolor": "white",
            "ticks": ""
           }
          },
          "title": {
           "x": 0.05
          },
          "xaxis": {
           "automargin": true,
           "gridcolor": "white",
           "linecolor": "white",
           "ticks": "",
           "title": {
            "standoff": 15
           },
           "zerolinecolor": "white",
           "zerolinewidth": 2
          },
          "yaxis": {
           "automargin": true,
           "gridcolor": "white",
           "linecolor": "white",
           "ticks": "",
           "title": {
            "standoff": 15
           },
           "zerolinecolor": "white",
           "zerolinewidth": 2
          }
         }
        },
        "xaxis": {
         "anchor": "y",
         "domain": [
          0,
          1
         ],
         "title": {
          "text": "Assists per 90"
         }
        },
        "yaxis": {
         "anchor": "x",
         "domain": [
          0,
          1
         ],
         "title": {
          "text": "Player"
         }
        }
       }
      }
     },
     "metadata": {},
     "output_type": "display_data"
    }
   ],
   "source": [
    "top_assists_90 = striker_dataframe.nlargest(30, 'Assists per 90')\n",
    "top_assists_90 = top_assists_90.sort_values('Assists per 90', ascending=True)\n",
    "px.bar(top_assists_90, x='Assists per 90', y='Player', hover_data=['Player'], orientation='h', height=600, color='Born')"
   ]
  },
  {
   "cell_type": "code",
   "execution_count": 49,
   "metadata": {},
   "outputs": [
    {
     "data": {
      "application/vnd.plotly.v1+json": {
       "config": {
        "plotlyServerURL": "https://plot.ly"
       },
       "data": [
        {
         "alignmentgroup": "True",
         "hovertemplate": "Goals + Assists per 90=%{x}<br>Player=%{y}<br>Born=%{marker.color}<extra></extra>",
         "legendgroup": "",
         "marker": {
          "color": [
           1996,
           1991,
           1994,
           1994,
           1998,
           2002,
           2001,
           1998,
           1998,
           1997,
           2001,
           1997,
           1997,
           2000,
           2002,
           1999,
           1993,
           1997,
           2000,
           2001,
           1998,
           1998,
           1999,
           2000,
           1997,
           1999,
           2001,
           1989,
           1996,
           1998
          ],
          "coloraxis": "coloraxis",
          "pattern": {
           "shape": ""
          }
         },
         "name": "",
         "offsetgroup": "",
         "orientation": "h",
         "showlegend": false,
         "textposition": "auto",
         "type": "bar",
         "x": [
          0.88,
          0.88,
          0.89,
          0.9,
          0.91,
          0.91,
          0.93,
          0.94,
          0.95,
          0.98,
          0.98,
          0.99,
          0.99,
          1.02,
          1.02,
          1.03,
          1.03,
          1.06,
          1.09,
          1.18,
          1.19,
          1.21,
          1.23,
          1.26,
          1.39,
          1.41,
          1.41,
          1.4500000000000002,
          1.48,
          1.76
         ],
         "xaxis": "x",
         "y": [
          "Marcel Hartel",
          "Diego Falcinelli",
          "Haris Tabakovic",
          "Robert Glatzel",
          "Pedro Gonçalves",
          "Christos Tzolis",
          "Thiago",
          "Ragnar Ache",
          "Anders Dreyer",
          "Edoardo Soleri",
          "Eddie Salcedo",
          "Cedric Teuchert",
          "László Bénes",
          "Kevin Rodríguez",
          "Nicholas Bonfanti",
          "Francisco Trincão",
          "Rafa Silva",
          "Gustaf Nilsson",
          "Félix Tomi",
          "Luis Vázquez",
          "Viktor Gyökeres",
          "Petar Musa",
          "Paulinho",
          "Mohamed El Amine Amoura",
          "David Neres",
          "Gabriel Charpentier",
          "Ousmane Camara",
          "Sergio León",
          "Simon Banza",
          "Etienne Amenyido"
         ],
         "yaxis": "y"
        }
       ],
       "layout": {
        "barmode": "relative",
        "coloraxis": {
         "colorbar": {
          "title": {
           "text": "Born"
          }
         },
         "colorscale": [
          [
           0,
           "#0d0887"
          ],
          [
           0.1111111111111111,
           "#46039f"
          ],
          [
           0.2222222222222222,
           "#7201a8"
          ],
          [
           0.3333333333333333,
           "#9c179e"
          ],
          [
           0.4444444444444444,
           "#bd3786"
          ],
          [
           0.5555555555555556,
           "#d8576b"
          ],
          [
           0.6666666666666666,
           "#ed7953"
          ],
          [
           0.7777777777777778,
           "#fb9f3a"
          ],
          [
           0.8888888888888888,
           "#fdca26"
          ],
          [
           1,
           "#f0f921"
          ]
         ]
        },
        "height": 600,
        "legend": {
         "tracegroupgap": 0
        },
        "margin": {
         "t": 60
        },
        "template": {
         "data": {
          "bar": [
           {
            "error_x": {
             "color": "#2a3f5f"
            },
            "error_y": {
             "color": "#2a3f5f"
            },
            "marker": {
             "line": {
              "color": "#E5ECF6",
              "width": 0.5
             },
             "pattern": {
              "fillmode": "overlay",
              "size": 10,
              "solidity": 0.2
             }
            },
            "type": "bar"
           }
          ],
          "barpolar": [
           {
            "marker": {
             "line": {
              "color": "#E5ECF6",
              "width": 0.5
             },
             "pattern": {
              "fillmode": "overlay",
              "size": 10,
              "solidity": 0.2
             }
            },
            "type": "barpolar"
           }
          ],
          "carpet": [
           {
            "aaxis": {
             "endlinecolor": "#2a3f5f",
             "gridcolor": "white",
             "linecolor": "white",
             "minorgridcolor": "white",
             "startlinecolor": "#2a3f5f"
            },
            "baxis": {
             "endlinecolor": "#2a3f5f",
             "gridcolor": "white",
             "linecolor": "white",
             "minorgridcolor": "white",
             "startlinecolor": "#2a3f5f"
            },
            "type": "carpet"
           }
          ],
          "choropleth": [
           {
            "colorbar": {
             "outlinewidth": 0,
             "ticks": ""
            },
            "type": "choropleth"
           }
          ],
          "contour": [
           {
            "colorbar": {
             "outlinewidth": 0,
             "ticks": ""
            },
            "colorscale": [
             [
              0,
              "#0d0887"
             ],
             [
              0.1111111111111111,
              "#46039f"
             ],
             [
              0.2222222222222222,
              "#7201a8"
             ],
             [
              0.3333333333333333,
              "#9c179e"
             ],
             [
              0.4444444444444444,
              "#bd3786"
             ],
             [
              0.5555555555555556,
              "#d8576b"
             ],
             [
              0.6666666666666666,
              "#ed7953"
             ],
             [
              0.7777777777777778,
              "#fb9f3a"
             ],
             [
              0.8888888888888888,
              "#fdca26"
             ],
             [
              1,
              "#f0f921"
             ]
            ],
            "type": "contour"
           }
          ],
          "contourcarpet": [
           {
            "colorbar": {
             "outlinewidth": 0,
             "ticks": ""
            },
            "type": "contourcarpet"
           }
          ],
          "heatmap": [
           {
            "colorbar": {
             "outlinewidth": 0,
             "ticks": ""
            },
            "colorscale": [
             [
              0,
              "#0d0887"
             ],
             [
              0.1111111111111111,
              "#46039f"
             ],
             [
              0.2222222222222222,
              "#7201a8"
             ],
             [
              0.3333333333333333,
              "#9c179e"
             ],
             [
              0.4444444444444444,
              "#bd3786"
             ],
             [
              0.5555555555555556,
              "#d8576b"
             ],
             [
              0.6666666666666666,
              "#ed7953"
             ],
             [
              0.7777777777777778,
              "#fb9f3a"
             ],
             [
              0.8888888888888888,
              "#fdca26"
             ],
             [
              1,
              "#f0f921"
             ]
            ],
            "type": "heatmap"
           }
          ],
          "heatmapgl": [
           {
            "colorbar": {
             "outlinewidth": 0,
             "ticks": ""
            },
            "colorscale": [
             [
              0,
              "#0d0887"
             ],
             [
              0.1111111111111111,
              "#46039f"
             ],
             [
              0.2222222222222222,
              "#7201a8"
             ],
             [
              0.3333333333333333,
              "#9c179e"
             ],
             [
              0.4444444444444444,
              "#bd3786"
             ],
             [
              0.5555555555555556,
              "#d8576b"
             ],
             [
              0.6666666666666666,
              "#ed7953"
             ],
             [
              0.7777777777777778,
              "#fb9f3a"
             ],
             [
              0.8888888888888888,
              "#fdca26"
             ],
             [
              1,
              "#f0f921"
             ]
            ],
            "type": "heatmapgl"
           }
          ],
          "histogram": [
           {
            "marker": {
             "pattern": {
              "fillmode": "overlay",
              "size": 10,
              "solidity": 0.2
             }
            },
            "type": "histogram"
           }
          ],
          "histogram2d": [
           {
            "colorbar": {
             "outlinewidth": 0,
             "ticks": ""
            },
            "colorscale": [
             [
              0,
              "#0d0887"
             ],
             [
              0.1111111111111111,
              "#46039f"
             ],
             [
              0.2222222222222222,
              "#7201a8"
             ],
             [
              0.3333333333333333,
              "#9c179e"
             ],
             [
              0.4444444444444444,
              "#bd3786"
             ],
             [
              0.5555555555555556,
              "#d8576b"
             ],
             [
              0.6666666666666666,
              "#ed7953"
             ],
             [
              0.7777777777777778,
              "#fb9f3a"
             ],
             [
              0.8888888888888888,
              "#fdca26"
             ],
             [
              1,
              "#f0f921"
             ]
            ],
            "type": "histogram2d"
           }
          ],
          "histogram2dcontour": [
           {
            "colorbar": {
             "outlinewidth": 0,
             "ticks": ""
            },
            "colorscale": [
             [
              0,
              "#0d0887"
             ],
             [
              0.1111111111111111,
              "#46039f"
             ],
             [
              0.2222222222222222,
              "#7201a8"
             ],
             [
              0.3333333333333333,
              "#9c179e"
             ],
             [
              0.4444444444444444,
              "#bd3786"
             ],
             [
              0.5555555555555556,
              "#d8576b"
             ],
             [
              0.6666666666666666,
              "#ed7953"
             ],
             [
              0.7777777777777778,
              "#fb9f3a"
             ],
             [
              0.8888888888888888,
              "#fdca26"
             ],
             [
              1,
              "#f0f921"
             ]
            ],
            "type": "histogram2dcontour"
           }
          ],
          "mesh3d": [
           {
            "colorbar": {
             "outlinewidth": 0,
             "ticks": ""
            },
            "type": "mesh3d"
           }
          ],
          "parcoords": [
           {
            "line": {
             "colorbar": {
              "outlinewidth": 0,
              "ticks": ""
             }
            },
            "type": "parcoords"
           }
          ],
          "pie": [
           {
            "automargin": true,
            "type": "pie"
           }
          ],
          "scatter": [
           {
            "fillpattern": {
             "fillmode": "overlay",
             "size": 10,
             "solidity": 0.2
            },
            "type": "scatter"
           }
          ],
          "scatter3d": [
           {
            "line": {
             "colorbar": {
              "outlinewidth": 0,
              "ticks": ""
             }
            },
            "marker": {
             "colorbar": {
              "outlinewidth": 0,
              "ticks": ""
             }
            },
            "type": "scatter3d"
           }
          ],
          "scattercarpet": [
           {
            "marker": {
             "colorbar": {
              "outlinewidth": 0,
              "ticks": ""
             }
            },
            "type": "scattercarpet"
           }
          ],
          "scattergeo": [
           {
            "marker": {
             "colorbar": {
              "outlinewidth": 0,
              "ticks": ""
             }
            },
            "type": "scattergeo"
           }
          ],
          "scattergl": [
           {
            "marker": {
             "colorbar": {
              "outlinewidth": 0,
              "ticks": ""
             }
            },
            "type": "scattergl"
           }
          ],
          "scattermapbox": [
           {
            "marker": {
             "colorbar": {
              "outlinewidth": 0,
              "ticks": ""
             }
            },
            "type": "scattermapbox"
           }
          ],
          "scatterpolar": [
           {
            "marker": {
             "colorbar": {
              "outlinewidth": 0,
              "ticks": ""
             }
            },
            "type": "scatterpolar"
           }
          ],
          "scatterpolargl": [
           {
            "marker": {
             "colorbar": {
              "outlinewidth": 0,
              "ticks": ""
             }
            },
            "type": "scatterpolargl"
           }
          ],
          "scatterternary": [
           {
            "marker": {
             "colorbar": {
              "outlinewidth": 0,
              "ticks": ""
             }
            },
            "type": "scatterternary"
           }
          ],
          "surface": [
           {
            "colorbar": {
             "outlinewidth": 0,
             "ticks": ""
            },
            "colorscale": [
             [
              0,
              "#0d0887"
             ],
             [
              0.1111111111111111,
              "#46039f"
             ],
             [
              0.2222222222222222,
              "#7201a8"
             ],
             [
              0.3333333333333333,
              "#9c179e"
             ],
             [
              0.4444444444444444,
              "#bd3786"
             ],
             [
              0.5555555555555556,
              "#d8576b"
             ],
             [
              0.6666666666666666,
              "#ed7953"
             ],
             [
              0.7777777777777778,
              "#fb9f3a"
             ],
             [
              0.8888888888888888,
              "#fdca26"
             ],
             [
              1,
              "#f0f921"
             ]
            ],
            "type": "surface"
           }
          ],
          "table": [
           {
            "cells": {
             "fill": {
              "color": "#EBF0F8"
             },
             "line": {
              "color": "white"
             }
            },
            "header": {
             "fill": {
              "color": "#C8D4E3"
             },
             "line": {
              "color": "white"
             }
            },
            "type": "table"
           }
          ]
         },
         "layout": {
          "annotationdefaults": {
           "arrowcolor": "#2a3f5f",
           "arrowhead": 0,
           "arrowwidth": 1
          },
          "autotypenumbers": "strict",
          "coloraxis": {
           "colorbar": {
            "outlinewidth": 0,
            "ticks": ""
           }
          },
          "colorscale": {
           "diverging": [
            [
             0,
             "#8e0152"
            ],
            [
             0.1,
             "#c51b7d"
            ],
            [
             0.2,
             "#de77ae"
            ],
            [
             0.3,
             "#f1b6da"
            ],
            [
             0.4,
             "#fde0ef"
            ],
            [
             0.5,
             "#f7f7f7"
            ],
            [
             0.6,
             "#e6f5d0"
            ],
            [
             0.7,
             "#b8e186"
            ],
            [
             0.8,
             "#7fbc41"
            ],
            [
             0.9,
             "#4d9221"
            ],
            [
             1,
             "#276419"
            ]
           ],
           "sequential": [
            [
             0,
             "#0d0887"
            ],
            [
             0.1111111111111111,
             "#46039f"
            ],
            [
             0.2222222222222222,
             "#7201a8"
            ],
            [
             0.3333333333333333,
             "#9c179e"
            ],
            [
             0.4444444444444444,
             "#bd3786"
            ],
            [
             0.5555555555555556,
             "#d8576b"
            ],
            [
             0.6666666666666666,
             "#ed7953"
            ],
            [
             0.7777777777777778,
             "#fb9f3a"
            ],
            [
             0.8888888888888888,
             "#fdca26"
            ],
            [
             1,
             "#f0f921"
            ]
           ],
           "sequentialminus": [
            [
             0,
             "#0d0887"
            ],
            [
             0.1111111111111111,
             "#46039f"
            ],
            [
             0.2222222222222222,
             "#7201a8"
            ],
            [
             0.3333333333333333,
             "#9c179e"
            ],
            [
             0.4444444444444444,
             "#bd3786"
            ],
            [
             0.5555555555555556,
             "#d8576b"
            ],
            [
             0.6666666666666666,
             "#ed7953"
            ],
            [
             0.7777777777777778,
             "#fb9f3a"
            ],
            [
             0.8888888888888888,
             "#fdca26"
            ],
            [
             1,
             "#f0f921"
            ]
           ]
          },
          "colorway": [
           "#636efa",
           "#EF553B",
           "#00cc96",
           "#ab63fa",
           "#FFA15A",
           "#19d3f3",
           "#FF6692",
           "#B6E880",
           "#FF97FF",
           "#FECB52"
          ],
          "font": {
           "color": "#2a3f5f"
          },
          "geo": {
           "bgcolor": "white",
           "lakecolor": "white",
           "landcolor": "#E5ECF6",
           "showlakes": true,
           "showland": true,
           "subunitcolor": "white"
          },
          "hoverlabel": {
           "align": "left"
          },
          "hovermode": "closest",
          "mapbox": {
           "style": "light"
          },
          "paper_bgcolor": "white",
          "plot_bgcolor": "#E5ECF6",
          "polar": {
           "angularaxis": {
            "gridcolor": "white",
            "linecolor": "white",
            "ticks": ""
           },
           "bgcolor": "#E5ECF6",
           "radialaxis": {
            "gridcolor": "white",
            "linecolor": "white",
            "ticks": ""
           }
          },
          "scene": {
           "xaxis": {
            "backgroundcolor": "#E5ECF6",
            "gridcolor": "white",
            "gridwidth": 2,
            "linecolor": "white",
            "showbackground": true,
            "ticks": "",
            "zerolinecolor": "white"
           },
           "yaxis": {
            "backgroundcolor": "#E5ECF6",
            "gridcolor": "white",
            "gridwidth": 2,
            "linecolor": "white",
            "showbackground": true,
            "ticks": "",
            "zerolinecolor": "white"
           },
           "zaxis": {
            "backgroundcolor": "#E5ECF6",
            "gridcolor": "white",
            "gridwidth": 2,
            "linecolor": "white",
            "showbackground": true,
            "ticks": "",
            "zerolinecolor": "white"
           }
          },
          "shapedefaults": {
           "line": {
            "color": "#2a3f5f"
           }
          },
          "ternary": {
           "aaxis": {
            "gridcolor": "white",
            "linecolor": "white",
            "ticks": ""
           },
           "baxis": {
            "gridcolor": "white",
            "linecolor": "white",
            "ticks": ""
           },
           "bgcolor": "#E5ECF6",
           "caxis": {
            "gridcolor": "white",
            "linecolor": "white",
            "ticks": ""
           }
          },
          "title": {
           "x": 0.05
          },
          "xaxis": {
           "automargin": true,
           "gridcolor": "white",
           "linecolor": "white",
           "ticks": "",
           "title": {
            "standoff": 15
           },
           "zerolinecolor": "white",
           "zerolinewidth": 2
          },
          "yaxis": {
           "automargin": true,
           "gridcolor": "white",
           "linecolor": "white",
           "ticks": "",
           "title": {
            "standoff": 15
           },
           "zerolinecolor": "white",
           "zerolinewidth": 2
          }
         }
        },
        "xaxis": {
         "anchor": "y",
         "domain": [
          0,
          1
         ],
         "title": {
          "text": "Goals + Assists per 90"
         }
        },
        "yaxis": {
         "anchor": "x",
         "domain": [
          0,
          1
         ],
         "title": {
          "text": "Player"
         }
        }
       }
      }
     },
     "metadata": {},
     "output_type": "display_data"
    }
   ],
   "source": [
    "top_goals_assists_90= striker_dataframe.nlargest(30, 'Goals + Assists per 90')\n",
    "top_goals_assists_90 = top_goals_assists_90.sort_values('Goals + Assists per 90', ascending=True)\n",
    "px.bar(top_goals_assists_90, x='Goals + Assists per 90', y='Player', hover_data=['Player'], orientation='h', height=600, color='Born')"
   ]
  },
  {
   "cell_type": "code",
   "execution_count": 50,
   "metadata": {},
   "outputs": [],
   "source": [
    "top_scorers_common = pd.merge(top_goals, top_goals_90, how='inner', on=['Player', 'Born', 'Goals', 'Goals per 90'])\n",
    "top_assisters_common = pd.merge(top_assists, top_assists_90, how='inner', on=['Player', 'Born', 'Assists', 'Assists per 90'])\n",
    "top_strikers_common = pd.merge(top_goals_assists, top_goals_assists_90, how='inner', on=['Player', 'Born', 'Goals + Assists', 'Goals + Assists per 90'])"
   ]
  },
  {
   "cell_type": "code",
   "execution_count": 51,
   "metadata": {},
   "outputs": [
    {
     "data": {
      "text/html": [
       "<div>\n",
       "<style scoped>\n",
       "    .dataframe tbody tr th:only-of-type {\n",
       "        vertical-align: middle;\n",
       "    }\n",
       "\n",
       "    .dataframe tbody tr th {\n",
       "        vertical-align: top;\n",
       "    }\n",
       "\n",
       "    .dataframe thead th {\n",
       "        text-align: right;\n",
       "    }\n",
       "</style>\n",
       "<table border=\"1\" class=\"dataframe\">\n",
       "  <thead>\n",
       "    <tr style=\"text-align: right;\">\n",
       "      <th></th>\n",
       "      <th>Player</th>\n",
       "      <th>Born</th>\n",
       "      <th>Goals</th>\n",
       "      <th>Goals per 90</th>\n",
       "    </tr>\n",
       "  </thead>\n",
       "  <tbody>\n",
       "    <tr>\n",
       "      <th>0</th>\n",
       "      <td>Can Yılmaz Uzun</td>\n",
       "      <td>2005</td>\n",
       "      <td>12</td>\n",
       "      <td>0.79</td>\n",
       "    </tr>\n",
       "    <tr>\n",
       "      <th>1</th>\n",
       "      <td>Ragnar Ache</td>\n",
       "      <td>1998</td>\n",
       "      <td>12</td>\n",
       "      <td>0.94</td>\n",
       "    </tr>\n",
       "    <tr>\n",
       "      <th>2</th>\n",
       "      <td>Haris Tabakovic</td>\n",
       "      <td>1994</td>\n",
       "      <td>13</td>\n",
       "      <td>0.68</td>\n",
       "    </tr>\n",
       "    <tr>\n",
       "      <th>3</th>\n",
       "      <td>Christos Tzolis</td>\n",
       "      <td>2002</td>\n",
       "      <td>13</td>\n",
       "      <td>0.74</td>\n",
       "    </tr>\n",
       "    <tr>\n",
       "      <th>4</th>\n",
       "      <td>Joel Pohjanpalo</td>\n",
       "      <td>1994</td>\n",
       "      <td>15</td>\n",
       "      <td>0.71</td>\n",
       "    </tr>\n",
       "    <tr>\n",
       "      <th>5</th>\n",
       "      <td>Rafa Mújica</td>\n",
       "      <td>1998</td>\n",
       "      <td>16</td>\n",
       "      <td>0.72</td>\n",
       "    </tr>\n",
       "    <tr>\n",
       "      <th>6</th>\n",
       "      <td>Thiago</td>\n",
       "      <td>2001</td>\n",
       "      <td>16</td>\n",
       "      <td>0.82</td>\n",
       "    </tr>\n",
       "    <tr>\n",
       "      <th>7</th>\n",
       "      <td>Robert Glatzel</td>\n",
       "      <td>1994</td>\n",
       "      <td>16</td>\n",
       "      <td>0.72</td>\n",
       "    </tr>\n",
       "    <tr>\n",
       "      <th>8</th>\n",
       "      <td>Alexandre Mendy</td>\n",
       "      <td>1994</td>\n",
       "      <td>17</td>\n",
       "      <td>0.68</td>\n",
       "    </tr>\n",
       "    <tr>\n",
       "      <th>9</th>\n",
       "      <td>Mohamed El Amine Amoura</td>\n",
       "      <td>2000</td>\n",
       "      <td>17</td>\n",
       "      <td>1.13</td>\n",
       "    </tr>\n",
       "    <tr>\n",
       "      <th>10</th>\n",
       "      <td>Viktor Gyökeres</td>\n",
       "      <td>1998</td>\n",
       "      <td>18</td>\n",
       "      <td>0.82</td>\n",
       "    </tr>\n",
       "    <tr>\n",
       "      <th>11</th>\n",
       "      <td>Simon Banza</td>\n",
       "      <td>1996</td>\n",
       "      <td>18</td>\n",
       "      <td>1.21</td>\n",
       "    </tr>\n",
       "    <tr>\n",
       "      <th>12</th>\n",
       "      <td>Kevin Denkey</td>\n",
       "      <td>2000</td>\n",
       "      <td>22</td>\n",
       "      <td>0.86</td>\n",
       "    </tr>\n",
       "  </tbody>\n",
       "</table>\n",
       "</div>"
      ],
      "text/plain": [
       "                     Player  Born  Goals  Goals per 90\n",
       "0           Can Yılmaz Uzun  2005     12          0.79\n",
       "1               Ragnar Ache  1998     12          0.94\n",
       "2           Haris Tabakovic  1994     13          0.68\n",
       "3           Christos Tzolis  2002     13          0.74\n",
       "4           Joel Pohjanpalo  1994     15          0.71\n",
       "5               Rafa Mújica  1998     16          0.72\n",
       "6                    Thiago  2001     16          0.82\n",
       "7            Robert Glatzel  1994     16          0.72\n",
       "8           Alexandre Mendy  1994     17          0.68\n",
       "9   Mohamed El Amine Amoura  2000     17          1.13\n",
       "10          Viktor Gyökeres  1998     18          0.82\n",
       "11              Simon Banza  1996     18          1.21\n",
       "12             Kevin Denkey  2000     22          0.86"
      ]
     },
     "execution_count": 51,
     "metadata": {},
     "output_type": "execute_result"
    }
   ],
   "source": [
    "top_scorers_common[['Player', 'Born', 'Goals', 'Goals per 90']]"
   ]
  },
  {
   "cell_type": "code",
   "execution_count": 52,
   "metadata": {},
   "outputs": [
    {
     "data": {
      "text/html": [
       "<div>\n",
       "<style scoped>\n",
       "    .dataframe tbody tr th:only-of-type {\n",
       "        vertical-align: middle;\n",
       "    }\n",
       "\n",
       "    .dataframe tbody tr th {\n",
       "        vertical-align: top;\n",
       "    }\n",
       "\n",
       "    .dataframe thead th {\n",
       "        text-align: right;\n",
       "    }\n",
       "</style>\n",
       "<table border=\"1\" class=\"dataframe\">\n",
       "  <thead>\n",
       "    <tr style=\"text-align: right;\">\n",
       "      <th></th>\n",
       "      <th>Player</th>\n",
       "      <th>Born</th>\n",
       "      <th>Assists</th>\n",
       "      <th>Assists per 90</th>\n",
       "    </tr>\n",
       "  </thead>\n",
       "  <tbody>\n",
       "    <tr>\n",
       "      <th>0</th>\n",
       "      <td>Orkun Kökçü</td>\n",
       "      <td>2000</td>\n",
       "      <td>6</td>\n",
       "      <td>0.42</td>\n",
       "    </tr>\n",
       "    <tr>\n",
       "      <th>1</th>\n",
       "      <td>Sergio Lozano</td>\n",
       "      <td>1999</td>\n",
       "      <td>7</td>\n",
       "      <td>0.41</td>\n",
       "    </tr>\n",
       "    <tr>\n",
       "      <th>2</th>\n",
       "      <td>Godson Kyeremeh</td>\n",
       "      <td>2000</td>\n",
       "      <td>7</td>\n",
       "      <td>0.46</td>\n",
       "    </tr>\n",
       "    <tr>\n",
       "      <th>3</th>\n",
       "      <td>Jean-Luc Dompé</td>\n",
       "      <td>1995</td>\n",
       "      <td>7</td>\n",
       "      <td>0.52</td>\n",
       "    </tr>\n",
       "    <tr>\n",
       "      <th>4</th>\n",
       "      <td>Shinta Appelkamp</td>\n",
       "      <td>2000</td>\n",
       "      <td>7</td>\n",
       "      <td>0.60</td>\n",
       "    </tr>\n",
       "    <tr>\n",
       "      <th>5</th>\n",
       "      <td>Nuno Santos</td>\n",
       "      <td>1999</td>\n",
       "      <td>7</td>\n",
       "      <td>0.61</td>\n",
       "    </tr>\n",
       "    <tr>\n",
       "      <th>6</th>\n",
       "      <td>László Bénes</td>\n",
       "      <td>1997</td>\n",
       "      <td>8</td>\n",
       "      <td>0.42</td>\n",
       "    </tr>\n",
       "    <tr>\n",
       "      <th>7</th>\n",
       "      <td>Barış Atik</td>\n",
       "      <td>1995</td>\n",
       "      <td>9</td>\n",
       "      <td>0.41</td>\n",
       "    </tr>\n",
       "    <tr>\n",
       "      <th>8</th>\n",
       "      <td>Pedro Gonçalves</td>\n",
       "      <td>1998</td>\n",
       "      <td>10</td>\n",
       "      <td>0.48</td>\n",
       "    </tr>\n",
       "    <tr>\n",
       "      <th>9</th>\n",
       "      <td>Iñigo Vicente</td>\n",
       "      <td>1998</td>\n",
       "      <td>11</td>\n",
       "      <td>0.42</td>\n",
       "    </tr>\n",
       "    <tr>\n",
       "      <th>10</th>\n",
       "      <td>Rafa Silva</td>\n",
       "      <td>1993</td>\n",
       "      <td>11</td>\n",
       "      <td>0.49</td>\n",
       "    </tr>\n",
       "    <tr>\n",
       "      <th>11</th>\n",
       "      <td>Cameron Puertas</td>\n",
       "      <td>1998</td>\n",
       "      <td>13</td>\n",
       "      <td>0.52</td>\n",
       "    </tr>\n",
       "  </tbody>\n",
       "</table>\n",
       "</div>"
      ],
      "text/plain": [
       "              Player  Born  Assists  Assists per 90\n",
       "0        Orkun Kökçü  2000        6            0.42\n",
       "1      Sergio Lozano  1999        7            0.41\n",
       "2    Godson Kyeremeh  2000        7            0.46\n",
       "3     Jean-Luc Dompé  1995        7            0.52\n",
       "4   Shinta Appelkamp  2000        7            0.60\n",
       "5        Nuno Santos  1999        7            0.61\n",
       "6       László Bénes  1997        8            0.42\n",
       "7         Barış Atik  1995        9            0.41\n",
       "8    Pedro Gonçalves  1998       10            0.48\n",
       "9      Iñigo Vicente  1998       11            0.42\n",
       "10        Rafa Silva  1993       11            0.49\n",
       "11   Cameron Puertas  1998       13            0.52"
      ]
     },
     "execution_count": 52,
     "metadata": {},
     "output_type": "execute_result"
    }
   ],
   "source": [
    "top_assisters_common[['Player', 'Born', 'Assists', 'Assists per 90']]"
   ]
  },
  {
   "cell_type": "code",
   "execution_count": 53,
   "metadata": {},
   "outputs": [
    {
     "data": {
      "text/html": [
       "<div>\n",
       "<style scoped>\n",
       "    .dataframe tbody tr th:only-of-type {\n",
       "        vertical-align: middle;\n",
       "    }\n",
       "\n",
       "    .dataframe tbody tr th {\n",
       "        vertical-align: top;\n",
       "    }\n",
       "\n",
       "    .dataframe thead th {\n",
       "        text-align: right;\n",
       "    }\n",
       "</style>\n",
       "<table border=\"1\" class=\"dataframe\">\n",
       "  <thead>\n",
       "    <tr style=\"text-align: right;\">\n",
       "      <th></th>\n",
       "      <th>Player</th>\n",
       "      <th>Born</th>\n",
       "      <th>Goals + Assists</th>\n",
       "      <th>Goals + Assists per 90</th>\n",
       "    </tr>\n",
       "  </thead>\n",
       "  <tbody>\n",
       "    <tr>\n",
       "      <th>0</th>\n",
       "      <td>Gustaf Nilsson</td>\n",
       "      <td>1997</td>\n",
       "      <td>15</td>\n",
       "      <td>1.06</td>\n",
       "    </tr>\n",
       "    <tr>\n",
       "      <th>1</th>\n",
       "      <td>Christos Tzolis</td>\n",
       "      <td>2002</td>\n",
       "      <td>16</td>\n",
       "      <td>0.91</td>\n",
       "    </tr>\n",
       "    <tr>\n",
       "      <th>2</th>\n",
       "      <td>Haris Tabakovic</td>\n",
       "      <td>1994</td>\n",
       "      <td>17</td>\n",
       "      <td>0.89</td>\n",
       "    </tr>\n",
       "    <tr>\n",
       "      <th>3</th>\n",
       "      <td>Thiago</td>\n",
       "      <td>2001</td>\n",
       "      <td>18</td>\n",
       "      <td>0.93</td>\n",
       "    </tr>\n",
       "    <tr>\n",
       "      <th>4</th>\n",
       "      <td>Pedro Gonçalves</td>\n",
       "      <td>1998</td>\n",
       "      <td>19</td>\n",
       "      <td>0.91</td>\n",
       "    </tr>\n",
       "    <tr>\n",
       "      <th>5</th>\n",
       "      <td>Mohamed El Amine Amoura</td>\n",
       "      <td>2000</td>\n",
       "      <td>19</td>\n",
       "      <td>1.26</td>\n",
       "    </tr>\n",
       "    <tr>\n",
       "      <th>6</th>\n",
       "      <td>László Bénes</td>\n",
       "      <td>1997</td>\n",
       "      <td>19</td>\n",
       "      <td>0.99</td>\n",
       "    </tr>\n",
       "    <tr>\n",
       "      <th>7</th>\n",
       "      <td>Robert Glatzel</td>\n",
       "      <td>1994</td>\n",
       "      <td>20</td>\n",
       "      <td>0.90</td>\n",
       "    </tr>\n",
       "    <tr>\n",
       "      <th>8</th>\n",
       "      <td>Marcel Hartel</td>\n",
       "      <td>1996</td>\n",
       "      <td>21</td>\n",
       "      <td>0.88</td>\n",
       "    </tr>\n",
       "    <tr>\n",
       "      <th>9</th>\n",
       "      <td>Simon Banza</td>\n",
       "      <td>1996</td>\n",
       "      <td>22</td>\n",
       "      <td>1.48</td>\n",
       "    </tr>\n",
       "    <tr>\n",
       "      <th>10</th>\n",
       "      <td>Anders Dreyer</td>\n",
       "      <td>1998</td>\n",
       "      <td>22</td>\n",
       "      <td>0.95</td>\n",
       "    </tr>\n",
       "    <tr>\n",
       "      <th>11</th>\n",
       "      <td>Rafa Silva</td>\n",
       "      <td>1993</td>\n",
       "      <td>23</td>\n",
       "      <td>1.03</td>\n",
       "    </tr>\n",
       "    <tr>\n",
       "      <th>12</th>\n",
       "      <td>Viktor Gyökeres</td>\n",
       "      <td>1998</td>\n",
       "      <td>26</td>\n",
       "      <td>1.19</td>\n",
       "    </tr>\n",
       "  </tbody>\n",
       "</table>\n",
       "</div>"
      ],
      "text/plain": [
       "                     Player  Born  Goals + Assists  Goals + Assists per 90\n",
       "0            Gustaf Nilsson  1997               15                    1.06\n",
       "1           Christos Tzolis  2002               16                    0.91\n",
       "2           Haris Tabakovic  1994               17                    0.89\n",
       "3                    Thiago  2001               18                    0.93\n",
       "4           Pedro Gonçalves  1998               19                    0.91\n",
       "5   Mohamed El Amine Amoura  2000               19                    1.26\n",
       "6              László Bénes  1997               19                    0.99\n",
       "7            Robert Glatzel  1994               20                    0.90\n",
       "8             Marcel Hartel  1996               21                    0.88\n",
       "9               Simon Banza  1996               22                    1.48\n",
       "10            Anders Dreyer  1998               22                    0.95\n",
       "11               Rafa Silva  1993               23                    1.03\n",
       "12          Viktor Gyökeres  1998               26                    1.19"
      ]
     },
     "execution_count": 53,
     "metadata": {},
     "output_type": "execute_result"
    }
   ],
   "source": [
    "top_strikers_common[['Player', 'Born', 'Goals + Assists', 'Goals + Assists per 90']]"
   ]
  },
  {
   "cell_type": "markdown",
   "metadata": {},
   "source": [
    "At this point, I am beginning to notice a few similar names. However, there are not many players born in 2000 or later and there was a large original pool of players. To try to and include some more balance, I will filter the original striker_dataframe by 'Born' to see if there are any more talented younger players emerging. This is also because the information gleaned by the various data visualisations was not giving any more insight. I have found some impressive outlier players, but I am specifically looking for younger talent."
   ]
  },
  {
   "cell_type": "code",
   "execution_count": 54,
   "metadata": {},
   "outputs": [
    {
     "name": "stdout",
     "output_type": "stream",
     "text": [
      "There are 349 strikers 23 years old or younger, who have played in 13+ matches so far this season\n"
     ]
    }
   ],
   "source": [
    "strikers_under_23 = striker_dataframe[(striker_dataframe['Born'] >= 2000) & (striker_dataframe['Matches Played'] >= 13)]\n",
    "total_strikers_under_23 = len(strikers_under_23)\n",
    "print(f\"There are {total_strikers_under_23} strikers 23 years old or younger, who have played in 13+ matches so far this season\") "
   ]
  },
  {
   "cell_type": "markdown",
   "metadata": {},
   "source": [
    "Now I have my dataframe with 344 under-23 strikers, who have been playing in 13+ matches for their respective clubs (or combined due to transfer) this season. \n",
    "\n",
    "I will first check if any of these players are present in the _common dataframes above, then plot some scatter graphs to find outliers."
   ]
  },
  {
   "cell_type": "code",
   "execution_count": 55,
   "metadata": {},
   "outputs": [
    {
     "data": {
      "text/html": [
       "<div>\n",
       "<style scoped>\n",
       "    .dataframe tbody tr th:only-of-type {\n",
       "        vertical-align: middle;\n",
       "    }\n",
       "\n",
       "    .dataframe tbody tr th {\n",
       "        vertical-align: top;\n",
       "    }\n",
       "\n",
       "    .dataframe thead th {\n",
       "        text-align: right;\n",
       "    }\n",
       "</style>\n",
       "<table border=\"1\" class=\"dataframe\">\n",
       "  <thead>\n",
       "    <tr style=\"text-align: right;\">\n",
       "      <th></th>\n",
       "      <th>Player</th>\n",
       "      <th>Nation</th>\n",
       "      <th>Position</th>\n",
       "      <th>Squad</th>\n",
       "      <th>Age</th>\n",
       "      <th>Born</th>\n",
       "      <th>Matches Played</th>\n",
       "      <th>Minutes Played</th>\n",
       "      <th>Goals</th>\n",
       "      <th>Assists</th>\n",
       "      <th>Goals + Assists</th>\n",
       "      <th>Expected Goals</th>\n",
       "      <th>Expected Assists</th>\n",
       "      <th>Expected Goals + Assists</th>\n",
       "      <th>Goals per 90</th>\n",
       "      <th>Assists per 90</th>\n",
       "      <th>Goals + Assists per 90</th>\n",
       "      <th>Expected Goals per 90</th>\n",
       "      <th>Expected Assists per 90</th>\n",
       "      <th>Expected Goals + Assists per 90</th>\n",
       "    </tr>\n",
       "  </thead>\n",
       "  <tbody>\n",
       "    <tr>\n",
       "      <th>559</th>\n",
       "      <td>Christos Tzolis</td>\n",
       "      <td>gr GRE</td>\n",
       "      <td>FW,MF</td>\n",
       "      <td>Düsseldorf</td>\n",
       "      <td>22-035</td>\n",
       "      <td>2002</td>\n",
       "      <td>21</td>\n",
       "      <td>1578</td>\n",
       "      <td>13</td>\n",
       "      <td>3</td>\n",
       "      <td>16</td>\n",
       "      <td>10.7</td>\n",
       "      <td>3.2</td>\n",
       "      <td>10.8</td>\n",
       "      <td>0.74</td>\n",
       "      <td>0.17</td>\n",
       "      <td>0.91</td>\n",
       "      <td>0.61</td>\n",
       "      <td>0.18</td>\n",
       "      <td>0.79</td>\n",
       "    </tr>\n",
       "    <tr>\n",
       "      <th>582</th>\n",
       "      <td>Can Yılmaz Uzun</td>\n",
       "      <td>tr TUR</td>\n",
       "      <td>MF,FW</td>\n",
       "      <td>Nürnberg</td>\n",
       "      <td>18-115</td>\n",
       "      <td>2005</td>\n",
       "      <td>21</td>\n",
       "      <td>1366</td>\n",
       "      <td>12</td>\n",
       "      <td>1</td>\n",
       "      <td>13</td>\n",
       "      <td>7.1</td>\n",
       "      <td>1.7</td>\n",
       "      <td>5.6</td>\n",
       "      <td>0.79</td>\n",
       "      <td>0.07</td>\n",
       "      <td>0.86</td>\n",
       "      <td>0.47</td>\n",
       "      <td>0.11</td>\n",
       "      <td>0.58</td>\n",
       "    </tr>\n",
       "    <tr>\n",
       "      <th>609</th>\n",
       "      <td>Mohamed El Amine Amoura</td>\n",
       "      <td>dz ALG</td>\n",
       "      <td>FW</td>\n",
       "      <td>Union SG</td>\n",
       "      <td>23-301</td>\n",
       "      <td>2000</td>\n",
       "      <td>22</td>\n",
       "      <td>1360</td>\n",
       "      <td>17</td>\n",
       "      <td>2</td>\n",
       "      <td>19</td>\n",
       "      <td>10.6</td>\n",
       "      <td>2.2</td>\n",
       "      <td>12.0</td>\n",
       "      <td>1.13</td>\n",
       "      <td>0.13</td>\n",
       "      <td>1.26</td>\n",
       "      <td>0.70</td>\n",
       "      <td>0.14</td>\n",
       "      <td>0.84</td>\n",
       "    </tr>\n",
       "    <tr>\n",
       "      <th>704</th>\n",
       "      <td>Kevin Denkey</td>\n",
       "      <td>tg TOG</td>\n",
       "      <td>FW</td>\n",
       "      <td>Cercle Brugge</td>\n",
       "      <td>23-096</td>\n",
       "      <td>2000</td>\n",
       "      <td>26</td>\n",
       "      <td>2314</td>\n",
       "      <td>22</td>\n",
       "      <td>0</td>\n",
       "      <td>22</td>\n",
       "      <td>18.0</td>\n",
       "      <td>2.7</td>\n",
       "      <td>18.3</td>\n",
       "      <td>0.86</td>\n",
       "      <td>0.00</td>\n",
       "      <td>0.86</td>\n",
       "      <td>0.70</td>\n",
       "      <td>0.10</td>\n",
       "      <td>0.81</td>\n",
       "    </tr>\n",
       "    <tr>\n",
       "      <th>993</th>\n",
       "      <td>Thiago</td>\n",
       "      <td>br BRA</td>\n",
       "      <td>FW</td>\n",
       "      <td>Club Brugge</td>\n",
       "      <td>22-253</td>\n",
       "      <td>2001</td>\n",
       "      <td>25</td>\n",
       "      <td>1750</td>\n",
       "      <td>16</td>\n",
       "      <td>2</td>\n",
       "      <td>18</td>\n",
       "      <td>16.2</td>\n",
       "      <td>3.0</td>\n",
       "      <td>13.7</td>\n",
       "      <td>0.82</td>\n",
       "      <td>0.10</td>\n",
       "      <td>0.93</td>\n",
       "      <td>0.83</td>\n",
       "      <td>0.16</td>\n",
       "      <td>0.99</td>\n",
       "    </tr>\n",
       "  </tbody>\n",
       "</table>\n",
       "</div>"
      ],
      "text/plain": [
       "                      Player  Nation Position          Squad     Age  Born  \\\n",
       "559          Christos Tzolis  gr GRE    FW,MF     Düsseldorf  22-035  2002   \n",
       "582          Can Yılmaz Uzun  tr TUR    MF,FW       Nürnberg  18-115  2005   \n",
       "609  Mohamed El Amine Amoura  dz ALG       FW       Union SG  23-301  2000   \n",
       "704             Kevin Denkey  tg TOG       FW  Cercle Brugge  23-096  2000   \n",
       "993                   Thiago  br BRA       FW    Club Brugge  22-253  2001   \n",
       "\n",
       "     Matches Played  Minutes Played  Goals  Assists  Goals + Assists  \\\n",
       "559              21            1578     13        3               16   \n",
       "582              21            1366     12        1               13   \n",
       "609              22            1360     17        2               19   \n",
       "704              26            2314     22        0               22   \n",
       "993              25            1750     16        2               18   \n",
       "\n",
       "     Expected Goals  Expected Assists  Expected Goals + Assists  Goals per 90  \\\n",
       "559            10.7               3.2                      10.8          0.74   \n",
       "582             7.1               1.7                       5.6          0.79   \n",
       "609            10.6               2.2                      12.0          1.13   \n",
       "704            18.0               2.7                      18.3          0.86   \n",
       "993            16.2               3.0                      13.7          0.82   \n",
       "\n",
       "     Assists per 90  Goals + Assists per 90  Expected Goals per 90  \\\n",
       "559            0.17                    0.91                   0.61   \n",
       "582            0.07                    0.86                   0.47   \n",
       "609            0.13                    1.26                   0.70   \n",
       "704            0.00                    0.86                   0.70   \n",
       "993            0.10                    0.93                   0.83   \n",
       "\n",
       "     Expected Assists per 90  Expected Goals + Assists per 90  \n",
       "559                     0.18                             0.79  \n",
       "582                     0.11                             0.58  \n",
       "609                     0.14                             0.84  \n",
       "704                     0.10                             0.81  \n",
       "993                     0.16                             0.99  "
      ]
     },
     "execution_count": 55,
     "metadata": {},
     "output_type": "execute_result"
    }
   ],
   "source": [
    "top_u23_scorers = strikers_under_23[strikers_under_23['Player'].isin(top_scorers_common['Player'])]\n",
    "top_u23_scorers"
   ]
  },
  {
   "cell_type": "code",
   "execution_count": 56,
   "metadata": {},
   "outputs": [
    {
     "data": {
      "text/html": [
       "<div>\n",
       "<style scoped>\n",
       "    .dataframe tbody tr th:only-of-type {\n",
       "        vertical-align: middle;\n",
       "    }\n",
       "\n",
       "    .dataframe tbody tr th {\n",
       "        vertical-align: top;\n",
       "    }\n",
       "\n",
       "    .dataframe thead th {\n",
       "        text-align: right;\n",
       "    }\n",
       "</style>\n",
       "<table border=\"1\" class=\"dataframe\">\n",
       "  <thead>\n",
       "    <tr style=\"text-align: right;\">\n",
       "      <th></th>\n",
       "      <th>Player</th>\n",
       "      <th>Nation</th>\n",
       "      <th>Position</th>\n",
       "      <th>Squad</th>\n",
       "      <th>Age</th>\n",
       "      <th>Born</th>\n",
       "      <th>Matches Played</th>\n",
       "      <th>Minutes Played</th>\n",
       "      <th>Goals</th>\n",
       "      <th>Assists</th>\n",
       "      <th>Goals + Assists</th>\n",
       "      <th>Expected Goals</th>\n",
       "      <th>Expected Assists</th>\n",
       "      <th>Expected Goals + Assists</th>\n",
       "      <th>Goals per 90</th>\n",
       "      <th>Assists per 90</th>\n",
       "      <th>Goals + Assists per 90</th>\n",
       "      <th>Expected Goals per 90</th>\n",
       "      <th>Expected Assists per 90</th>\n",
       "      <th>Expected Goals + Assists per 90</th>\n",
       "    </tr>\n",
       "  </thead>\n",
       "  <tbody>\n",
       "    <tr>\n",
       "      <th>139</th>\n",
       "      <td>Shinta Appelkamp</td>\n",
       "      <td>de GER</td>\n",
       "      <td>MF,FW</td>\n",
       "      <td>Düsseldorf</td>\n",
       "      <td>23-125</td>\n",
       "      <td>2000</td>\n",
       "      <td>16</td>\n",
       "      <td>1051</td>\n",
       "      <td>1</td>\n",
       "      <td>7</td>\n",
       "      <td>8</td>\n",
       "      <td>0.9</td>\n",
       "      <td>2.3</td>\n",
       "      <td>3.2</td>\n",
       "      <td>0.09</td>\n",
       "      <td>0.60</td>\n",
       "      <td>0.69</td>\n",
       "      <td>0.08</td>\n",
       "      <td>0.19</td>\n",
       "      <td>0.27</td>\n",
       "    </tr>\n",
       "    <tr>\n",
       "      <th>1329</th>\n",
       "      <td>Godson Kyeremeh</td>\n",
       "      <td>fr FRA</td>\n",
       "      <td>MF,FW</td>\n",
       "      <td>Caen</td>\n",
       "      <td>23-265</td>\n",
       "      <td>2000</td>\n",
       "      <td>27</td>\n",
       "      <td>1379</td>\n",
       "      <td>2</td>\n",
       "      <td>7</td>\n",
       "      <td>9</td>\n",
       "      <td>2.0</td>\n",
       "      <td>3.3</td>\n",
       "      <td>5.3</td>\n",
       "      <td>0.13</td>\n",
       "      <td>0.46</td>\n",
       "      <td>0.59</td>\n",
       "      <td>0.13</td>\n",
       "      <td>0.22</td>\n",
       "      <td>0.35</td>\n",
       "    </tr>\n",
       "    <tr>\n",
       "      <th>1802</th>\n",
       "      <td>Orkun Kökçü</td>\n",
       "      <td>tr TUR</td>\n",
       "      <td>MF</td>\n",
       "      <td>Benfica</td>\n",
       "      <td>23-067</td>\n",
       "      <td>2000</td>\n",
       "      <td>18</td>\n",
       "      <td>1295</td>\n",
       "      <td>2</td>\n",
       "      <td>6</td>\n",
       "      <td>8</td>\n",
       "      <td>2.6</td>\n",
       "      <td>4.6</td>\n",
       "      <td>7.2</td>\n",
       "      <td>0.14</td>\n",
       "      <td>0.42</td>\n",
       "      <td>0.56</td>\n",
       "      <td>0.18</td>\n",
       "      <td>0.32</td>\n",
       "      <td>0.50</td>\n",
       "    </tr>\n",
       "  </tbody>\n",
       "</table>\n",
       "</div>"
      ],
      "text/plain": [
       "                Player  Nation Position       Squad     Age  Born  \\\n",
       "139   Shinta Appelkamp  de GER    MF,FW  Düsseldorf  23-125  2000   \n",
       "1329   Godson Kyeremeh  fr FRA    MF,FW        Caen  23-265  2000   \n",
       "1802       Orkun Kökçü  tr TUR       MF     Benfica  23-067  2000   \n",
       "\n",
       "      Matches Played  Minutes Played  Goals  Assists  Goals + Assists  \\\n",
       "139               16            1051      1        7                8   \n",
       "1329              27            1379      2        7                9   \n",
       "1802              18            1295      2        6                8   \n",
       "\n",
       "      Expected Goals  Expected Assists  Expected Goals + Assists  \\\n",
       "139              0.9               2.3                       3.2   \n",
       "1329             2.0               3.3                       5.3   \n",
       "1802             2.6               4.6                       7.2   \n",
       "\n",
       "      Goals per 90  Assists per 90  Goals + Assists per 90  \\\n",
       "139           0.09            0.60                    0.69   \n",
       "1329          0.13            0.46                    0.59   \n",
       "1802          0.14            0.42                    0.56   \n",
       "\n",
       "      Expected Goals per 90  Expected Assists per 90  \\\n",
       "139                    0.08                     0.19   \n",
       "1329                   0.13                     0.22   \n",
       "1802                   0.18                     0.32   \n",
       "\n",
       "      Expected Goals + Assists per 90  \n",
       "139                              0.27  \n",
       "1329                             0.35  \n",
       "1802                             0.50  "
      ]
     },
     "execution_count": 56,
     "metadata": {},
     "output_type": "execute_result"
    }
   ],
   "source": [
    "top_u23_assisters = strikers_under_23[strikers_under_23['Player'].isin(top_assisters_common['Player'])]\n",
    "top_u23_assisters"
   ]
  },
  {
   "cell_type": "code",
   "execution_count": 57,
   "metadata": {},
   "outputs": [
    {
     "data": {
      "text/html": [
       "<div>\n",
       "<style scoped>\n",
       "    .dataframe tbody tr th:only-of-type {\n",
       "        vertical-align: middle;\n",
       "    }\n",
       "\n",
       "    .dataframe tbody tr th {\n",
       "        vertical-align: top;\n",
       "    }\n",
       "\n",
       "    .dataframe thead th {\n",
       "        text-align: right;\n",
       "    }\n",
       "</style>\n",
       "<table border=\"1\" class=\"dataframe\">\n",
       "  <thead>\n",
       "    <tr style=\"text-align: right;\">\n",
       "      <th></th>\n",
       "      <th>Player</th>\n",
       "      <th>Nation</th>\n",
       "      <th>Position</th>\n",
       "      <th>Squad</th>\n",
       "      <th>Age</th>\n",
       "      <th>Born</th>\n",
       "      <th>Matches Played</th>\n",
       "      <th>Minutes Played</th>\n",
       "      <th>Goals</th>\n",
       "      <th>Assists</th>\n",
       "      <th>Goals + Assists</th>\n",
       "      <th>Expected Goals</th>\n",
       "      <th>Expected Assists</th>\n",
       "      <th>Expected Goals + Assists</th>\n",
       "      <th>Goals per 90</th>\n",
       "      <th>Assists per 90</th>\n",
       "      <th>Goals + Assists per 90</th>\n",
       "      <th>Expected Goals per 90</th>\n",
       "      <th>Expected Assists per 90</th>\n",
       "      <th>Expected Goals + Assists per 90</th>\n",
       "    </tr>\n",
       "  </thead>\n",
       "  <tbody>\n",
       "    <tr>\n",
       "      <th>559</th>\n",
       "      <td>Christos Tzolis</td>\n",
       "      <td>gr GRE</td>\n",
       "      <td>FW,MF</td>\n",
       "      <td>Düsseldorf</td>\n",
       "      <td>22-035</td>\n",
       "      <td>2002</td>\n",
       "      <td>21</td>\n",
       "      <td>1578</td>\n",
       "      <td>13</td>\n",
       "      <td>3</td>\n",
       "      <td>16</td>\n",
       "      <td>10.7</td>\n",
       "      <td>3.2</td>\n",
       "      <td>10.8</td>\n",
       "      <td>0.74</td>\n",
       "      <td>0.17</td>\n",
       "      <td>0.91</td>\n",
       "      <td>0.61</td>\n",
       "      <td>0.18</td>\n",
       "      <td>0.79</td>\n",
       "    </tr>\n",
       "    <tr>\n",
       "      <th>609</th>\n",
       "      <td>Mohamed El Amine Amoura</td>\n",
       "      <td>dz ALG</td>\n",
       "      <td>FW</td>\n",
       "      <td>Union SG</td>\n",
       "      <td>23-301</td>\n",
       "      <td>2000</td>\n",
       "      <td>22</td>\n",
       "      <td>1360</td>\n",
       "      <td>17</td>\n",
       "      <td>2</td>\n",
       "      <td>19</td>\n",
       "      <td>10.6</td>\n",
       "      <td>2.2</td>\n",
       "      <td>12.0</td>\n",
       "      <td>1.13</td>\n",
       "      <td>0.13</td>\n",
       "      <td>1.26</td>\n",
       "      <td>0.70</td>\n",
       "      <td>0.14</td>\n",
       "      <td>0.84</td>\n",
       "    </tr>\n",
       "    <tr>\n",
       "      <th>993</th>\n",
       "      <td>Thiago</td>\n",
       "      <td>br BRA</td>\n",
       "      <td>FW</td>\n",
       "      <td>Club Brugge</td>\n",
       "      <td>22-253</td>\n",
       "      <td>2001</td>\n",
       "      <td>25</td>\n",
       "      <td>1750</td>\n",
       "      <td>16</td>\n",
       "      <td>2</td>\n",
       "      <td>18</td>\n",
       "      <td>16.2</td>\n",
       "      <td>3.0</td>\n",
       "      <td>13.7</td>\n",
       "      <td>0.82</td>\n",
       "      <td>0.10</td>\n",
       "      <td>0.93</td>\n",
       "      <td>0.83</td>\n",
       "      <td>0.16</td>\n",
       "      <td>0.99</td>\n",
       "    </tr>\n",
       "  </tbody>\n",
       "</table>\n",
       "</div>"
      ],
      "text/plain": [
       "                      Player  Nation Position        Squad     Age  Born  \\\n",
       "559          Christos Tzolis  gr GRE    FW,MF   Düsseldorf  22-035  2002   \n",
       "609  Mohamed El Amine Amoura  dz ALG       FW     Union SG  23-301  2000   \n",
       "993                   Thiago  br BRA       FW  Club Brugge  22-253  2001   \n",
       "\n",
       "     Matches Played  Minutes Played  Goals  Assists  Goals + Assists  \\\n",
       "559              21            1578     13        3               16   \n",
       "609              22            1360     17        2               19   \n",
       "993              25            1750     16        2               18   \n",
       "\n",
       "     Expected Goals  Expected Assists  Expected Goals + Assists  Goals per 90  \\\n",
       "559            10.7               3.2                      10.8          0.74   \n",
       "609            10.6               2.2                      12.0          1.13   \n",
       "993            16.2               3.0                      13.7          0.82   \n",
       "\n",
       "     Assists per 90  Goals + Assists per 90  Expected Goals per 90  \\\n",
       "559            0.17                    0.91                   0.61   \n",
       "609            0.13                    1.26                   0.70   \n",
       "993            0.10                    0.93                   0.83   \n",
       "\n",
       "     Expected Assists per 90  Expected Goals + Assists per 90  \n",
       "559                     0.18                             0.79  \n",
       "609                     0.14                             0.84  \n",
       "993                     0.16                             0.99  "
      ]
     },
     "execution_count": 57,
     "metadata": {},
     "output_type": "execute_result"
    }
   ],
   "source": [
    "top_u23_strikers = strikers_under_23[strikers_under_23['Player'].isin(top_strikers_common['Player'])]\n",
    "top_u23_strikers"
   ]
  },
  {
   "cell_type": "code",
   "execution_count": 58,
   "metadata": {},
   "outputs": [
    {
     "data": {
      "application/vnd.plotly.v1+json": {
       "config": {
        "plotlyServerURL": "https://plot.ly"
       },
       "data": [
        {
         "customdata": [
          [
           "Arana"
          ],
          [
           "Arnau Ortiz"
          ],
          [
           "Eddie Salcedo"
          ],
          [
           "Giacomo Manzari"
          ],
          [
           "Jovanny Bolívar"
          ],
          [
           "Lauti"
          ],
          [
           "Lorenzo Di Stefano"
          ],
          [
           "Mamadou Fofana"
          ],
          [
           "Mandela Keita"
          ],
          [
           "Mateus Fernandes"
          ],
          [
           "Matteo Stoppa"
          ],
          [
           "Nicholas Bonfanti"
          ],
          [
           "Norman Bassette"
          ],
          [
           "Ousmane Camara"
          ],
          [
           "Roko Baturina"
          ],
          [
           "Sacha Banse"
          ],
          [
           "Úmaro Embaló"
          ],
          [
           "Xavier Amaechi"
          ],
          [
           "Ilyas Ansah"
          ],
          [
           "Shinta Appelkamp"
          ],
          [
           "Nick Bätzner"
          ],
          [
           "Filip Bilbija"
          ],
          [
           "Jens Castrop"
          ],
          [
           "Yannik Engelhardt"
          ],
          [
           "Florian Flick"
          ],
          [
           "Johan Gomez"
          ],
          [
           "Mattes Hansen"
          ],
          [
           "Lee Hyunju"
          ],
          [
           "Þórir Jóhann Helgason"
          ],
          [
           "Ísak Jóhannesson"
          ],
          [
           "Ransford Königsdörffer"
          ],
          [
           "Tim Lemperle"
          ],
          [
           "Enzo Leopold"
          ],
          [
           "Igor Matanovic"
          ],
          [
           "Keke Maximilian Topp"
          ],
          [
           "Paul Nebel"
          ],
          [
           "András Németh"
          ],
          [
           "Jona Niemiec"
          ],
          [
           "Juan Perea"
          ],
          [
           "Lukas Petkov"
          ],
          [
           "Immanuel Pherai"
          ],
          [
           "Rayan Philippe"
          ],
          [
           "Tobias Raschl"
          ],
          [
           "Ludovit Reis"
          ],
          [
           "Derry Scherhant"
          ],
          [
           "Armindo Sieb"
          ],
          [
           "Nicolo Tresoldi"
          ],
          [
           "Christos Tzolis"
          ],
          [
           "Robert Wagner"
          ],
          [
           "Paul Wanner"
          ],
          [
           "Marten Winkler"
          ],
          [
           "Can Yılmaz Uzun"
          ],
          [
           "Mohamed El Amine Amoura"
          ],
          [
           "Tolu Arokodare"
          ],
          [
           "Youssouph Badji"
          ],
          [
           "Brandon Baiye"
          ],
          [
           "Michel-Ange Balikwisha"
          ],
          [
           "Ezechiel Banzuzi"
          ],
          [
           "Joselpho Barnes"
          ],
          [
           "Christopher Bonsu Baah"
          ],
          [
           "Jonatan Braut Brunes"
          ],
          [
           "Isaak Davies"
          ],
          [
           "Nils De Wilde"
          ],
          [
           "Mathias Delorge"
          ],
          [
           "Kevin Denkey"
          ],
          [
           "Pierre Dwomoh"
          ],
          [
           "Jurgen Ekkelenkamp"
          ],
          [
           "Alieu Fadera"
          ],
          [
           "Matija Frigan"
          ],
          [
           "Joel Fujita"
          ],
          [
           "Matías Galarza"
          ],
          [
           "Omri Gandelman"
          ],
          [
           "Yann Gboho"
          ],
          [
           "Parfait Guiagon"
          ],
          [
           "Dogucan Haspolat"
          ],
          [
           "George Ilenikhena"
          ],
          [
           "Abdelkahar Kadri"
          ],
          [
           "Amadou Keita"
          ],
          [
           "Bilal El Khannouss"
          ],
          [
           "Félix Lemaréchal"
          ],
          [
           "Theo Leoni"
          ],
          [
           "Nicolas Madsen"
          ],
          [
           "Pathé Mboup"
          ],
          [
           "Alan Minda"
          ],
          [
           "Ngal'Ayel Mukau"
          ],
          [
           "Nachon Nsingi"
          ],
          [
           "Isaac Nuhu"
          ],
          [
           "Antonio Nusa"
          ],
          [
           "Noah Ohio"
          ],
          [
           "Kazeem Olaigbe"
          ],
          [
           "Raphael Onyedika"
          ],
          [
           "Nathan Opoku"
          ],
          [
           "Gift Orban"
          ],
          [
           "Luca Oyen"
          ],
          [
           "Arthur Piedfort"
          ],
          [
           "Kevin Rodríguez"
          ],
          [
           "Noah Sadiki"
          ],
          [
           "Florent da Silva"
          ],
          [
           "Yira Sor"
          ],
          [
           "Kamal Sowah"
          ],
          [
           "Lucas Stassin"
          ],
          [
           "Jarne Steuckers"
          ],
          [
           "Mario Stroeykens"
          ],
          [
           "Nikola Štulić"
          ],
          [
           "Youssuf Sylla"
          ],
          [
           "Thiago"
          ],
          [
           "Kyan Vaesen"
          ],
          [
           "Thomas Van den Keybus"
          ],
          [
           "Luis Vázquez"
          ],
          [
           "Arthur Vermeeren"
          ],
          [
           "Yari Verschaeren"
          ],
          [
           "Hugo Vetlesen"
          ],
          [
           "Rihito Yamamoto"
          ],
          [
           "Griffin Yow"
          ],
          [
           "Alhassan Yusuf"
          ],
          [
           "Kahveh Zahiroleslam"
          ],
          [
           "Adem Zorgane"
          ],
          [
           "Martin Adeline"
          ],
          [
           "Taïryk Arconte"
          ],
          [
           "Kouadou Assoumou"
          ],
          [
           "Enzo Bardeli"
          ],
          [
           "Gabriel Bares"
          ],
          [
           "Zakaria Bengueddoudj"
          ],
          [
           "Florian Bianchini"
          ],
          [
           "Benjamin Bouchouari"
          ],
          [
           "Aymen Boutoutaou"
          ],
          [
           "Bilal Brahimi"
          ],
          [
           "Mamadou Camara"
          ],
          [
           "Nassim Chadli"
          ],
          [
           "Killian Corredor"
          ],
          [
           "Zuriko Davitashvili"
          ],
          [
           "Logan Delaurier Chaubet"
          ],
          [
           "Alan Do Marcolino"
          ],
          [
           "Kyliane Dong"
          ],
          [
           "Lohann Doucet"
          ],
          [
           "Owen Géne"
          ],
          [
           "Giovanni Haag"
          ],
          [
           "Ilyes Hamache"
          ],
          [
           "Ben Hamed Touré"
          ],
          [
           "Andreas Hountondji"
          ],
          [
           "Lenny Joseph"
          ],
          [
           "Junior Kadile"
          ],
          [
           "Nordine Kandil"
          ],
          [
           "Abdoulaye Kanté"
          ],
          [
           "David Kjær Kruse"
          ],
          [
           "Godson Kyeremeh"
          ],
          [
           "Rémy Labeau Lascary"
          ],
          [
           "Mohamed Lamine Diaby"
          ],
          [
           "Noé Lebreton"
          ],
          [
           "Eros Maddy"
          ],
          [
           "Jean Mattéo Bahoya"
          ],
          [
           "Baptiste Mouazan"
          ],
          [
           "Aimen Moueffek"
          ],
          [
           "Louis Mouton"
          ],
          [
           "Papa Ndiaga Yade"
          ],
          [
           "Noha Ndombasi Nlandu"
          ],
          [
           "Samuel Ntamack"
          ],
          [
           "Junior Olaitan"
          ],
          [
           "Ángel Orelién"
          ],
          [
           "Amine El Ouazzani"
          ],
          [
           "Zinédine Ould Khaled"
          ],
          [
           "Alexandre Phliponeau"
          ],
          [
           "Hugo Picard"
          ],
          [
           "Balthazar Pierret"
          ],
          [
           "Alexi Pitu"
          ],
          [
           "Virgiliu Postolachi"
          ],
          [
           "Rafiki Said"
          ],
          [
           "Mohamed Sbai"
          ],
          [
           "Issouf Sissokho"
          ],
          [
           "Jacques Siwe"
          ],
          [
           "Sambou Soumano"
          ],
          [
           "Waniss Taibi"
          ],
          [
           "Abdoul-Fessal Tapsoba"
          ],
          [
           "Titouan Thomas"
          ],
          [
           "Félix Tomi"
          ],
          [
           "Saikou Touray"
          ],
          [
           "Žan Vipotnik"
          ],
          [
           "Wilitty Younoussa"
          ],
          [
           "Alan"
          ],
          [
           "Jeremy Antonisse"
          ],
          [
           "Óscar Aranda"
          ],
          [
           "Henrique Araújo"
          ],
          [
           "Gustavo Assuncao"
          ],
          [
           "Daniel Bandeira"
          ],
          [
           "Bachir Belloumi"
          ],
          [
           "Beni"
          ],
          [
           "Benny"
          ],
          [
           "Gonçalo Borges"
          ],
          [
           "Martim Carvalho"
          ],
          [
           "Facundo Cáseres"
          ],
          [
           "Tidjany Chabrol"
          ],
          [
           "Francisco Conceição"
          ],
          [
           "Félix Correia"
          ],
          [
           "Tiago Fonseca Morais"
          ],
          [
           "Gonçalo Franco"
          ],
          [
           "Mory Gbane"
          ],
          [
           "Nicolás González"
          ],
          [
           "Tomás Händel"
          ],
          [
           "André Inácio"
          ],
          [
           "Ivan Jaime Pajuelo"
          ],
          [
           "Sylvester Jasper"
          ],
          [
           "Samuel Justo"
          ],
          [
           "Orkun Kökçü"
          ],
          [
           "Matías Lacava"
          ],
          [
           "Alejandro Marqués"
          ],
          [
           "João Marques"
          ],
          [
           "Diogo Nascimento"
          ],
          [
           "Regis Ndo"
          ],
          [
           "João Neves"
          ],
          [
           "Miguel Puche García"
          ],
          [
           "Ronald"
          ],
          [
           "Abel Ruiz"
          ],
          [
           "Gustavo sá"
          ],
          [
           "Leandro Sanca"
          ],
          [
           "Pedro Santos"
          ],
          [
           "Martim Tavares"
          ],
          [
           "Casper Tengstedt"
          ],
          [
           "Mirko Topić"
          ],
          [
           "Alan Varela"
          ],
          [
           "Hélio Varela"
          ],
          [
           "Bruno Ventura"
          ],
          [
           "Paulo Victor"
          ],
          [
           "Emmanuel Addai"
          ],
          [
           "Marc Aguado"
          ],
          [
           "Jony Álamo"
          ],
          [
           "Rodri Alonso"
          ],
          [
           "Carlos Álvarez"
          ],
          [
           "Juan Artola"
          ],
          [
           "Iván Ayllón"
          ],
          [
           "Álex Calvo"
          ],
          [
           "Gaspar Campos"
          ],
          [
           "Álex Cantero"
          ],
          [
           "Carlo"
          ],
          [
           "Nicolás Castro"
          ],
          [
           "Ilyas Chaira"
          ],
          [
           "Seydouba Cissé"
          ],
          [
           "Jesús Clemente"
          ],
          [
           "Diego Collado"
          ],
          [
           "Alberto Del Moral"
          ],
          [
           "Diego"
          ],
          [
           "Ivan Durdov"
          ],
          [
           "Nicolás Ezequiel Fernández"
          ],
          [
           "Fabrício"
          ],
          [
           "Andrés Ferrari"
          ],
          [
           "Álex Forés"
          ],
          [
           "Álvaro Martín de Frías"
          ],
          [
           "Aitor Gelardo"
          ],
          [
           "Tiago Geralnik"
          ],
          [
           "Iván Gil"
          ],
          [
           "Haissem Hassan"
          ],
          [
           "Isak Jansson"
          ],
          [
           "Jofre"
          ],
          [
           "Joel Jorquera"
          ],
          [
           "Iker Kortajarena"
          ],
          [
           "Julen Lobete"
          ],
          [
           "Roberto López"
          ],
          [
           "Losada"
          ],
          [
           "Carlos Martín"
          ],
          [
           "Gabri Martínez"
          ],
          [
           "Mascarenhas"
          ],
          [
           "Rodrigo Mendoza"
          ],
          [
           "Victor Mollejo"
          ],
          [
           "Ivan Monzón"
          ],
          [
           "Iván Morante"
          ],
          [
           "Raúl Moro"
          ],
          [
           "Fernando Niño"
          ],
          [
           "Jandro Orellana"
          ],
          [
           "Antonio Pacheco"
          ],
          [
           "Pascu"
          ],
          [
           "Peque"
          ],
          [
           "Dani Queipo"
          ],
          [
           "Luis Quintero"
          ],
          [
           "Daniel Requena"
          ],
          [
           "Nico Ribaudo"
          ],
          [
           "Iván Romero"
          ],
          [
           "Alvaro Sanz"
          ],
          [
           "Francho Serrano Gracia"
          ],
          [
           "Mario Soriano"
          ],
          [
           "Teto"
          ],
          [
           "Pablo Tomeo"
          ],
          [
           "Oscar Ureña"
          ],
          [
           "Germán Valera"
          ],
          [
           "Hugo Vallejo"
          ],
          [
           "Jonathan Varane"
          ],
          [
           "Unai Vencedor Paris"
          ],
          [
           "Fabio Abiuso"
          ],
          [
           "Gonzalo Abrego"
          ],
          [
           "Ismail Achik"
          ],
          [
           "Francesco Amatucci"
          ],
          [
           "Giuseppe Ambrosino"
          ],
          [
           "Janis Antiste"
          ],
          [
           "Alessandro Arena"
          ],
          [
           "Kristoffer Askildsen"
          ],
          [
           "Thomas Battistella"
          ],
          [
           "Adrian Benedyczak"
          ],
          [
           "Adrian Bernabe"
          ],
          [
           "Alessandro Bianco"
          ],
          [
           "Bjarki Bjarkason"
          ],
          [
           "Ange-Yoan Bonny"
          ],
          [
           "Gennaro Borrelli"
          ],
          [
           "Kleis Bozhanaj"
          ],
          [
           "Gianluca Busio"
          ],
          [
           "Nicolò Buso"
          ],
          [
           "Fabrizio Caligara"
          ],
          [
           "Claudio Cassano"
          ],
          [
           "Mattia Compagnon"
          ],
          [
           "Valerio Crespi"
          ],
          [
           "Luca D'Andrea"
          ],
          [
           "Simone D'Uffizi"
          ],
          [
           "Lucas Da Cunha"
          ],
          [
           "Kees De Boer"
          ],
          [
           "Duccio Degl'Innocenti"
          ],
          [
           "Filippo Distefano"
          ],
          [
           "Francesco Esposito"
          ],
          [
           "Salvatore Esposito"
          ],
          [
           "Sebastiano Esposito"
          ],
          [
           "Aldo Florenzi"
          ],
          [
           "Andrea Ghion"
          ],
          [
           "Stefano Girelli"
          ],
          [
           "Natan Girma"
          ],
          [
           "Claudio Gomes"
          ],
          [
           "Flavio Junior Bianchi"
          ],
          [
           "Rachid Kouda"
          ],
          [
           "Christos Kourfalidis"
          ],
          [
           "Ilias Koutsoupias"
          ],
          [
           "Nunzio Lella"
          ],
          [
           "Ben Lhassine Kone"
          ],
          [
           "Patrizio Masini"
          ],
          [
           "Valentin Mihaila"
          ],
          [
           "Tommaso Milanese"
          ],
          [
           "Gregorio Morachioli"
          ],
          [
           "Luca Moro"
          ],
          [
           "Marco Nasti"
          ],
          [
           "Giacomo Olzer"
          ],
          [
           "Emanuele Pecorino"
          ],
          [
           "Gabriele Piccinini"
          ],
          [
           "Marco Pompetti"
          ],
          [
           "Mateusz Praszelik"
          ],
          [
           "Niklas Pyyhtiä"
          ],
          [
           "Antonio Raimondo"
          ],
          [
           "Nicola Rauti"
          ],
          [
           "Pablo Rodríguez"
          ],
          [
           "Alessandro Sersanti"
          ],
          [
           "Simon Sohm"
          ],
          [
           "Tanner Tessmann"
          ],
          [
           "Aljosa Vasic"
          ],
          [
           "Gerard Yepes"
          ],
          [
           "Mattia Zennaro"
          ],
          [
           "Federico Zuccon"
          ]
         ],
         "hovertemplate": "Goals=%{x}<br>Minutes Played=%{y}<br>Player=%{customdata[0]}<extra></extra>",
         "legendgroup": "",
         "marker": {
          "color": "#636efa",
          "symbol": "circle"
         },
         "mode": "markers",
         "name": "",
         "orientation": "v",
         "showlegend": false,
         "type": "scatter",
         "x": [
          9,
          0,
          2,
          1,
          0,
          0,
          1,
          0,
          0,
          1,
          0,
          4,
          3,
          3,
          2,
          0,
          1,
          1,
          1,
          1,
          1,
          5,
          2,
          3,
          2,
          2,
          2,
          4,
          1,
          2,
          1,
          4,
          2,
          10,
          1,
          2,
          0,
          3,
          4,
          0,
          3,
          4,
          1,
          2,
          2,
          9,
          6,
          13,
          1,
          4,
          2,
          12,
          17,
          8,
          0,
          1,
          5,
          2,
          1,
          1,
          3,
          7,
          0,
          1,
          22,
          1,
          5,
          3,
          4,
          1,
          1,
          2,
          0,
          5,
          0,
          7,
          4,
          1,
          3,
          0,
          3,
          12,
          2,
          6,
          0,
          1,
          4,
          3,
          0,
          3,
          0,
          1,
          3,
          1,
          0,
          3,
          0,
          2,
          6,
          2,
          6,
          4,
          4,
          1,
          2,
          16,
          0,
          1,
          7,
          1,
          0,
          1,
          0,
          6,
          0,
          4,
          2,
          1,
          5,
          4,
          3,
          0,
          0,
          1,
          0,
          4,
          1,
          4,
          3,
          8,
          3,
          4,
          0,
          1,
          0,
          0,
          2,
          2,
          4,
          10,
          3,
          2,
          0,
          0,
          1,
          2,
          2,
          3,
          0,
          0,
          5,
          3,
          2,
          0,
          3,
          2,
          9,
          0,
          2,
          7,
          0,
          0,
          2,
          1,
          1,
          3,
          8,
          6,
          0,
          0,
          11,
          1,
          0,
          0,
          1,
          2,
          8,
          2,
          3,
          0,
          1,
          0,
          0,
          1,
          5,
          0,
          1,
          0,
          0,
          0,
          2,
          3,
          4,
          6,
          0,
          0,
          0,
          1,
          2,
          1,
          2,
          1,
          2,
          0,
          9,
          5,
          0,
          1,
          2,
          0,
          1,
          3,
          2,
          0,
          1,
          1,
          3,
          0,
          2,
          5,
          0,
          1,
          3,
          0,
          0,
          0,
          3,
          0,
          2,
          1,
          9,
          1,
          0,
          4,
          5,
          0,
          2,
          1,
          1,
          9,
          1,
          3,
          4,
          2,
          11,
          1,
          0,
          0,
          3,
          1,
          1,
          2,
          0,
          1,
          2,
          5,
          7,
          11,
          6,
          4,
          1,
          4,
          2,
          1,
          0,
          5,
          1,
          1,
          4,
          14,
          2,
          0,
          1,
          2,
          1,
          1,
          3,
          3,
          2,
          0,
          0,
          1,
          2,
          0,
          2,
          4,
          1,
          1,
          1,
          2,
          4,
          1,
          0,
          2,
          10,
          6,
          2,
          2,
          3,
          8,
          2,
          5,
          6,
          1,
          3,
          4,
          0,
          0,
          0,
          3,
          0,
          0,
          4,
          2,
          1,
          5,
          0,
          1,
          0,
          5,
          0,
          2,
          2,
          3,
          2,
          0,
          0,
          2,
          3,
          0,
          0,
          4,
          4,
          0,
          4,
          1,
          1,
          0,
          1,
          9,
          1,
          2,
          1,
          0,
          4,
          0,
          0,
          2,
          0
         ],
         "xaxis": "x",
         "y": [
          1418,
          510,
          518,
          839,
          257,
          472,
          715,
          2303,
          1548,
          1439,
          502,
          744,
          534,
          639,
          879,
          994,
          844,
          682,
          829,
          1051,
          1179,
          1229,
          1253,
          1759,
          1427,
          1612,
          1089,
          1290,
          934,
          1510,
          807,
          1839,
          1718,
          1495,
          433,
          1965,
          297,
          620,
          1139,
          592,
          1398,
          836,
          1401,
          921,
          614,
          1413,
          1158,
          1578,
          1867,
          966,
          1122,
          1366,
          1360,
          1162,
          777,
          1903,
          1619,
          1590,
          363,
          1030,
          908,
          1559,
          722,
          2479,
          2314,
          2099,
          1934,
          965,
          945,
          869,
          1281,
          635,
          1383,
          1204,
          373,
          796,
          2131,
          1256,
          2007,
          1512,
          1781,
          1931,
          717,
          1332,
          991,
          1202,
          2165,
          978,
          317,
          606,
          1492,
          777,
          830,
          600,
          1291,
          442,
          1055,
          503,
          1024,
          1180,
          864,
          2261,
          1545,
          426,
          580,
          1750,
          484,
          1228,
          608,
          1870,
          852,
          1704,
          729,
          1336,
          917,
          1102,
          1803,
          1294,
          724,
          862,
          2072,
          1100,
          303,
          578,
          1534,
          1379,
          1253,
          1362,
          1252,
          2197,
          1762,
          1427,
          271,
          1662,
          1129,
          1308,
          1776,
          1172,
          690,
          1575,
          2102,
          1115,
          1841,
          1393,
          1387,
          1379,
          1350,
          758,
          950,
          119,
          722,
          1920,
          1042,
          1465,
          1072,
          883,
          1004,
          484,
          504,
          2168,
          481,
          1786,
          1296,
          1830,
          411,
          1102,
          1899,
          1511,
          913,
          157,
          1981,
          1516,
          501,
          568,
          165,
          470,
          1640,
          1429,
          1799,
          377,
          565,
          580,
          539,
          705,
          1365,
          1134,
          847,
          271,
          1395,
          727,
          708,
          1028,
          1451,
          1374,
          1925,
          1129,
          874,
          1783,
          670,
          449,
          1577,
          477,
          1295,
          989,
          1149,
          1612,
          1572,
          573,
          1705,
          200,
          1319,
          1341,
          1217,
          1144,
          736,
          281,
          499,
          1471,
          1457,
          1870,
          520,
          702,
          1546,
          1856,
          544,
          1113,
          1056,
          726,
          467,
          1118,
          1991,
          720,
          2367,
          1501,
          1923,
          862,
          1301,
          927,
          1736,
          2040,
          389,
          2235,
          649,
          511,
          2045,
          733,
          878,
          320,
          1878,
          1793,
          974,
          1191,
          348,
          877,
          1789,
          2046,
          2314,
          1880,
          2467,
          809,
          684,
          1544,
          1568,
          1109,
          1012,
          1730,
          1314,
          313,
          1885,
          1943,
          382,
          365,
          813,
          919,
          561,
          1999,
          1619,
          1936,
          795,
          728,
          443,
          1526,
          1079,
          616,
          917,
          776,
          989,
          584,
          1118,
          893,
          1584,
          941,
          497,
          707,
          1569,
          2018,
          2227,
          849,
          1443,
          1227,
          363,
          2143,
          1713,
          801,
          1472,
          1255,
          153,
          524,
          515,
          1796,
          794,
          856,
          901,
          1402,
          2220,
          1273,
          636,
          1516,
          373,
          1386,
          1987,
          1488,
          1131,
          1412,
          964,
          690,
          757,
          1203,
          1019,
          555,
          579,
          961,
          1751,
          828,
          982,
          1083,
          1124,
          1425,
          1383,
          1858,
          911,
          1627,
          1727,
          1242,
          2290,
          558,
          2007,
          955,
          1361
         ],
         "yaxis": "y"
        }
       ],
       "layout": {
        "legend": {
         "tracegroupgap": 0
        },
        "margin": {
         "t": 60
        },
        "template": {
         "data": {
          "bar": [
           {
            "error_x": {
             "color": "#2a3f5f"
            },
            "error_y": {
             "color": "#2a3f5f"
            },
            "marker": {
             "line": {
              "color": "#E5ECF6",
              "width": 0.5
             },
             "pattern": {
              "fillmode": "overlay",
              "size": 10,
              "solidity": 0.2
             }
            },
            "type": "bar"
           }
          ],
          "barpolar": [
           {
            "marker": {
             "line": {
              "color": "#E5ECF6",
              "width": 0.5
             },
             "pattern": {
              "fillmode": "overlay",
              "size": 10,
              "solidity": 0.2
             }
            },
            "type": "barpolar"
           }
          ],
          "carpet": [
           {
            "aaxis": {
             "endlinecolor": "#2a3f5f",
             "gridcolor": "white",
             "linecolor": "white",
             "minorgridcolor": "white",
             "startlinecolor": "#2a3f5f"
            },
            "baxis": {
             "endlinecolor": "#2a3f5f",
             "gridcolor": "white",
             "linecolor": "white",
             "minorgridcolor": "white",
             "startlinecolor": "#2a3f5f"
            },
            "type": "carpet"
           }
          ],
          "choropleth": [
           {
            "colorbar": {
             "outlinewidth": 0,
             "ticks": ""
            },
            "type": "choropleth"
           }
          ],
          "contour": [
           {
            "colorbar": {
             "outlinewidth": 0,
             "ticks": ""
            },
            "colorscale": [
             [
              0,
              "#0d0887"
             ],
             [
              0.1111111111111111,
              "#46039f"
             ],
             [
              0.2222222222222222,
              "#7201a8"
             ],
             [
              0.3333333333333333,
              "#9c179e"
             ],
             [
              0.4444444444444444,
              "#bd3786"
             ],
             [
              0.5555555555555556,
              "#d8576b"
             ],
             [
              0.6666666666666666,
              "#ed7953"
             ],
             [
              0.7777777777777778,
              "#fb9f3a"
             ],
             [
              0.8888888888888888,
              "#fdca26"
             ],
             [
              1,
              "#f0f921"
             ]
            ],
            "type": "contour"
           }
          ],
          "contourcarpet": [
           {
            "colorbar": {
             "outlinewidth": 0,
             "ticks": ""
            },
            "type": "contourcarpet"
           }
          ],
          "heatmap": [
           {
            "colorbar": {
             "outlinewidth": 0,
             "ticks": ""
            },
            "colorscale": [
             [
              0,
              "#0d0887"
             ],
             [
              0.1111111111111111,
              "#46039f"
             ],
             [
              0.2222222222222222,
              "#7201a8"
             ],
             [
              0.3333333333333333,
              "#9c179e"
             ],
             [
              0.4444444444444444,
              "#bd3786"
             ],
             [
              0.5555555555555556,
              "#d8576b"
             ],
             [
              0.6666666666666666,
              "#ed7953"
             ],
             [
              0.7777777777777778,
              "#fb9f3a"
             ],
             [
              0.8888888888888888,
              "#fdca26"
             ],
             [
              1,
              "#f0f921"
             ]
            ],
            "type": "heatmap"
           }
          ],
          "heatmapgl": [
           {
            "colorbar": {
             "outlinewidth": 0,
             "ticks": ""
            },
            "colorscale": [
             [
              0,
              "#0d0887"
             ],
             [
              0.1111111111111111,
              "#46039f"
             ],
             [
              0.2222222222222222,
              "#7201a8"
             ],
             [
              0.3333333333333333,
              "#9c179e"
             ],
             [
              0.4444444444444444,
              "#bd3786"
             ],
             [
              0.5555555555555556,
              "#d8576b"
             ],
             [
              0.6666666666666666,
              "#ed7953"
             ],
             [
              0.7777777777777778,
              "#fb9f3a"
             ],
             [
              0.8888888888888888,
              "#fdca26"
             ],
             [
              1,
              "#f0f921"
             ]
            ],
            "type": "heatmapgl"
           }
          ],
          "histogram": [
           {
            "marker": {
             "pattern": {
              "fillmode": "overlay",
              "size": 10,
              "solidity": 0.2
             }
            },
            "type": "histogram"
           }
          ],
          "histogram2d": [
           {
            "colorbar": {
             "outlinewidth": 0,
             "ticks": ""
            },
            "colorscale": [
             [
              0,
              "#0d0887"
             ],
             [
              0.1111111111111111,
              "#46039f"
             ],
             [
              0.2222222222222222,
              "#7201a8"
             ],
             [
              0.3333333333333333,
              "#9c179e"
             ],
             [
              0.4444444444444444,
              "#bd3786"
             ],
             [
              0.5555555555555556,
              "#d8576b"
             ],
             [
              0.6666666666666666,
              "#ed7953"
             ],
             [
              0.7777777777777778,
              "#fb9f3a"
             ],
             [
              0.8888888888888888,
              "#fdca26"
             ],
             [
              1,
              "#f0f921"
             ]
            ],
            "type": "histogram2d"
           }
          ],
          "histogram2dcontour": [
           {
            "colorbar": {
             "outlinewidth": 0,
             "ticks": ""
            },
            "colorscale": [
             [
              0,
              "#0d0887"
             ],
             [
              0.1111111111111111,
              "#46039f"
             ],
             [
              0.2222222222222222,
              "#7201a8"
             ],
             [
              0.3333333333333333,
              "#9c179e"
             ],
             [
              0.4444444444444444,
              "#bd3786"
             ],
             [
              0.5555555555555556,
              "#d8576b"
             ],
             [
              0.6666666666666666,
              "#ed7953"
             ],
             [
              0.7777777777777778,
              "#fb9f3a"
             ],
             [
              0.8888888888888888,
              "#fdca26"
             ],
             [
              1,
              "#f0f921"
             ]
            ],
            "type": "histogram2dcontour"
           }
          ],
          "mesh3d": [
           {
            "colorbar": {
             "outlinewidth": 0,
             "ticks": ""
            },
            "type": "mesh3d"
           }
          ],
          "parcoords": [
           {
            "line": {
             "colorbar": {
              "outlinewidth": 0,
              "ticks": ""
             }
            },
            "type": "parcoords"
           }
          ],
          "pie": [
           {
            "automargin": true,
            "type": "pie"
           }
          ],
          "scatter": [
           {
            "fillpattern": {
             "fillmode": "overlay",
             "size": 10,
             "solidity": 0.2
            },
            "type": "scatter"
           }
          ],
          "scatter3d": [
           {
            "line": {
             "colorbar": {
              "outlinewidth": 0,
              "ticks": ""
             }
            },
            "marker": {
             "colorbar": {
              "outlinewidth": 0,
              "ticks": ""
             }
            },
            "type": "scatter3d"
           }
          ],
          "scattercarpet": [
           {
            "marker": {
             "colorbar": {
              "outlinewidth": 0,
              "ticks": ""
             }
            },
            "type": "scattercarpet"
           }
          ],
          "scattergeo": [
           {
            "marker": {
             "colorbar": {
              "outlinewidth": 0,
              "ticks": ""
             }
            },
            "type": "scattergeo"
           }
          ],
          "scattergl": [
           {
            "marker": {
             "colorbar": {
              "outlinewidth": 0,
              "ticks": ""
             }
            },
            "type": "scattergl"
           }
          ],
          "scattermapbox": [
           {
            "marker": {
             "colorbar": {
              "outlinewidth": 0,
              "ticks": ""
             }
            },
            "type": "scattermapbox"
           }
          ],
          "scatterpolar": [
           {
            "marker": {
             "colorbar": {
              "outlinewidth": 0,
              "ticks": ""
             }
            },
            "type": "scatterpolar"
           }
          ],
          "scatterpolargl": [
           {
            "marker": {
             "colorbar": {
              "outlinewidth": 0,
              "ticks": ""
             }
            },
            "type": "scatterpolargl"
           }
          ],
          "scatterternary": [
           {
            "marker": {
             "colorbar": {
              "outlinewidth": 0,
              "ticks": ""
             }
            },
            "type": "scatterternary"
           }
          ],
          "surface": [
           {
            "colorbar": {
             "outlinewidth": 0,
             "ticks": ""
            },
            "colorscale": [
             [
              0,
              "#0d0887"
             ],
             [
              0.1111111111111111,
              "#46039f"
             ],
             [
              0.2222222222222222,
              "#7201a8"
             ],
             [
              0.3333333333333333,
              "#9c179e"
             ],
             [
              0.4444444444444444,
              "#bd3786"
             ],
             [
              0.5555555555555556,
              "#d8576b"
             ],
             [
              0.6666666666666666,
              "#ed7953"
             ],
             [
              0.7777777777777778,
              "#fb9f3a"
             ],
             [
              0.8888888888888888,
              "#fdca26"
             ],
             [
              1,
              "#f0f921"
             ]
            ],
            "type": "surface"
           }
          ],
          "table": [
           {
            "cells": {
             "fill": {
              "color": "#EBF0F8"
             },
             "line": {
              "color": "white"
             }
            },
            "header": {
             "fill": {
              "color": "#C8D4E3"
             },
             "line": {
              "color": "white"
             }
            },
            "type": "table"
           }
          ]
         },
         "layout": {
          "annotationdefaults": {
           "arrowcolor": "#2a3f5f",
           "arrowhead": 0,
           "arrowwidth": 1
          },
          "autotypenumbers": "strict",
          "coloraxis": {
           "colorbar": {
            "outlinewidth": 0,
            "ticks": ""
           }
          },
          "colorscale": {
           "diverging": [
            [
             0,
             "#8e0152"
            ],
            [
             0.1,
             "#c51b7d"
            ],
            [
             0.2,
             "#de77ae"
            ],
            [
             0.3,
             "#f1b6da"
            ],
            [
             0.4,
             "#fde0ef"
            ],
            [
             0.5,
             "#f7f7f7"
            ],
            [
             0.6,
             "#e6f5d0"
            ],
            [
             0.7,
             "#b8e186"
            ],
            [
             0.8,
             "#7fbc41"
            ],
            [
             0.9,
             "#4d9221"
            ],
            [
             1,
             "#276419"
            ]
           ],
           "sequential": [
            [
             0,
             "#0d0887"
            ],
            [
             0.1111111111111111,
             "#46039f"
            ],
            [
             0.2222222222222222,
             "#7201a8"
            ],
            [
             0.3333333333333333,
             "#9c179e"
            ],
            [
             0.4444444444444444,
             "#bd3786"
            ],
            [
             0.5555555555555556,
             "#d8576b"
            ],
            [
             0.6666666666666666,
             "#ed7953"
            ],
            [
             0.7777777777777778,
             "#fb9f3a"
            ],
            [
             0.8888888888888888,
             "#fdca26"
            ],
            [
             1,
             "#f0f921"
            ]
           ],
           "sequentialminus": [
            [
             0,
             "#0d0887"
            ],
            [
             0.1111111111111111,
             "#46039f"
            ],
            [
             0.2222222222222222,
             "#7201a8"
            ],
            [
             0.3333333333333333,
             "#9c179e"
            ],
            [
             0.4444444444444444,
             "#bd3786"
            ],
            [
             0.5555555555555556,
             "#d8576b"
            ],
            [
             0.6666666666666666,
             "#ed7953"
            ],
            [
             0.7777777777777778,
             "#fb9f3a"
            ],
            [
             0.8888888888888888,
             "#fdca26"
            ],
            [
             1,
             "#f0f921"
            ]
           ]
          },
          "colorway": [
           "#636efa",
           "#EF553B",
           "#00cc96",
           "#ab63fa",
           "#FFA15A",
           "#19d3f3",
           "#FF6692",
           "#B6E880",
           "#FF97FF",
           "#FECB52"
          ],
          "font": {
           "color": "#2a3f5f"
          },
          "geo": {
           "bgcolor": "white",
           "lakecolor": "white",
           "landcolor": "#E5ECF6",
           "showlakes": true,
           "showland": true,
           "subunitcolor": "white"
          },
          "hoverlabel": {
           "align": "left"
          },
          "hovermode": "closest",
          "mapbox": {
           "style": "light"
          },
          "paper_bgcolor": "white",
          "plot_bgcolor": "#E5ECF6",
          "polar": {
           "angularaxis": {
            "gridcolor": "white",
            "linecolor": "white",
            "ticks": ""
           },
           "bgcolor": "#E5ECF6",
           "radialaxis": {
            "gridcolor": "white",
            "linecolor": "white",
            "ticks": ""
           }
          },
          "scene": {
           "xaxis": {
            "backgroundcolor": "#E5ECF6",
            "gridcolor": "white",
            "gridwidth": 2,
            "linecolor": "white",
            "showbackground": true,
            "ticks": "",
            "zerolinecolor": "white"
           },
           "yaxis": {
            "backgroundcolor": "#E5ECF6",
            "gridcolor": "white",
            "gridwidth": 2,
            "linecolor": "white",
            "showbackground": true,
            "ticks": "",
            "zerolinecolor": "white"
           },
           "zaxis": {
            "backgroundcolor": "#E5ECF6",
            "gridcolor": "white",
            "gridwidth": 2,
            "linecolor": "white",
            "showbackground": true,
            "ticks": "",
            "zerolinecolor": "white"
           }
          },
          "shapedefaults": {
           "line": {
            "color": "#2a3f5f"
           }
          },
          "ternary": {
           "aaxis": {
            "gridcolor": "white",
            "linecolor": "white",
            "ticks": ""
           },
           "baxis": {
            "gridcolor": "white",
            "linecolor": "white",
            "ticks": ""
           },
           "bgcolor": "#E5ECF6",
           "caxis": {
            "gridcolor": "white",
            "linecolor": "white",
            "ticks": ""
           }
          },
          "title": {
           "x": 0.05
          },
          "xaxis": {
           "automargin": true,
           "gridcolor": "white",
           "linecolor": "white",
           "ticks": "",
           "title": {
            "standoff": 15
           },
           "zerolinecolor": "white",
           "zerolinewidth": 2
          },
          "yaxis": {
           "automargin": true,
           "gridcolor": "white",
           "linecolor": "white",
           "ticks": "",
           "title": {
            "standoff": 15
           },
           "zerolinecolor": "white",
           "zerolinewidth": 2
          }
         }
        },
        "xaxis": {
         "anchor": "y",
         "domain": [
          0,
          1
         ],
         "title": {
          "text": "Goals"
         }
        },
        "yaxis": {
         "anchor": "x",
         "domain": [
          0,
          1
         ],
         "title": {
          "text": "Minutes Played"
         }
        }
       }
      }
     },
     "metadata": {},
     "output_type": "display_data"
    }
   ],
   "source": [
    "# Identifying prolific goalscorers in the strikers_under_23 dataframe.\n",
    "px.scatter(strikers_under_23, x='Goals', y='Minutes Played', hover_data=['Player'])"
   ]
  },
  {
   "cell_type": "code",
   "execution_count": 59,
   "metadata": {},
   "outputs": [
    {
     "data": {
      "application/vnd.plotly.v1+json": {
       "config": {
        "plotlyServerURL": "https://plot.ly"
       },
       "data": [
        {
         "customdata": [
          [
           "Arana"
          ],
          [
           "Arnau Ortiz"
          ],
          [
           "Eddie Salcedo"
          ],
          [
           "Giacomo Manzari"
          ],
          [
           "Jovanny Bolívar"
          ],
          [
           "Lauti"
          ],
          [
           "Lorenzo Di Stefano"
          ],
          [
           "Mamadou Fofana"
          ],
          [
           "Mandela Keita"
          ],
          [
           "Mateus Fernandes"
          ],
          [
           "Matteo Stoppa"
          ],
          [
           "Nicholas Bonfanti"
          ],
          [
           "Norman Bassette"
          ],
          [
           "Ousmane Camara"
          ],
          [
           "Roko Baturina"
          ],
          [
           "Sacha Banse"
          ],
          [
           "Úmaro Embaló"
          ],
          [
           "Xavier Amaechi"
          ],
          [
           "Ilyas Ansah"
          ],
          [
           "Shinta Appelkamp"
          ],
          [
           "Nick Bätzner"
          ],
          [
           "Filip Bilbija"
          ],
          [
           "Jens Castrop"
          ],
          [
           "Yannik Engelhardt"
          ],
          [
           "Florian Flick"
          ],
          [
           "Johan Gomez"
          ],
          [
           "Mattes Hansen"
          ],
          [
           "Lee Hyunju"
          ],
          [
           "Þórir Jóhann Helgason"
          ],
          [
           "Ísak Jóhannesson"
          ],
          [
           "Ransford Königsdörffer"
          ],
          [
           "Tim Lemperle"
          ],
          [
           "Enzo Leopold"
          ],
          [
           "Igor Matanovic"
          ],
          [
           "Keke Maximilian Topp"
          ],
          [
           "Paul Nebel"
          ],
          [
           "András Németh"
          ],
          [
           "Jona Niemiec"
          ],
          [
           "Juan Perea"
          ],
          [
           "Lukas Petkov"
          ],
          [
           "Immanuel Pherai"
          ],
          [
           "Rayan Philippe"
          ],
          [
           "Tobias Raschl"
          ],
          [
           "Ludovit Reis"
          ],
          [
           "Derry Scherhant"
          ],
          [
           "Armindo Sieb"
          ],
          [
           "Nicolo Tresoldi"
          ],
          [
           "Christos Tzolis"
          ],
          [
           "Robert Wagner"
          ],
          [
           "Paul Wanner"
          ],
          [
           "Marten Winkler"
          ],
          [
           "Can Yılmaz Uzun"
          ],
          [
           "Mohamed El Amine Amoura"
          ],
          [
           "Tolu Arokodare"
          ],
          [
           "Youssouph Badji"
          ],
          [
           "Brandon Baiye"
          ],
          [
           "Michel-Ange Balikwisha"
          ],
          [
           "Ezechiel Banzuzi"
          ],
          [
           "Joselpho Barnes"
          ],
          [
           "Christopher Bonsu Baah"
          ],
          [
           "Jonatan Braut Brunes"
          ],
          [
           "Isaak Davies"
          ],
          [
           "Nils De Wilde"
          ],
          [
           "Mathias Delorge"
          ],
          [
           "Kevin Denkey"
          ],
          [
           "Pierre Dwomoh"
          ],
          [
           "Jurgen Ekkelenkamp"
          ],
          [
           "Alieu Fadera"
          ],
          [
           "Matija Frigan"
          ],
          [
           "Joel Fujita"
          ],
          [
           "Matías Galarza"
          ],
          [
           "Omri Gandelman"
          ],
          [
           "Yann Gboho"
          ],
          [
           "Parfait Guiagon"
          ],
          [
           "Dogucan Haspolat"
          ],
          [
           "George Ilenikhena"
          ],
          [
           "Abdelkahar Kadri"
          ],
          [
           "Amadou Keita"
          ],
          [
           "Bilal El Khannouss"
          ],
          [
           "Félix Lemaréchal"
          ],
          [
           "Theo Leoni"
          ],
          [
           "Nicolas Madsen"
          ],
          [
           "Pathé Mboup"
          ],
          [
           "Alan Minda"
          ],
          [
           "Ngal'Ayel Mukau"
          ],
          [
           "Nachon Nsingi"
          ],
          [
           "Isaac Nuhu"
          ],
          [
           "Antonio Nusa"
          ],
          [
           "Noah Ohio"
          ],
          [
           "Kazeem Olaigbe"
          ],
          [
           "Raphael Onyedika"
          ],
          [
           "Nathan Opoku"
          ],
          [
           "Gift Orban"
          ],
          [
           "Luca Oyen"
          ],
          [
           "Arthur Piedfort"
          ],
          [
           "Kevin Rodríguez"
          ],
          [
           "Noah Sadiki"
          ],
          [
           "Florent da Silva"
          ],
          [
           "Yira Sor"
          ],
          [
           "Kamal Sowah"
          ],
          [
           "Lucas Stassin"
          ],
          [
           "Jarne Steuckers"
          ],
          [
           "Mario Stroeykens"
          ],
          [
           "Nikola Štulić"
          ],
          [
           "Youssuf Sylla"
          ],
          [
           "Thiago"
          ],
          [
           "Kyan Vaesen"
          ],
          [
           "Thomas Van den Keybus"
          ],
          [
           "Luis Vázquez"
          ],
          [
           "Arthur Vermeeren"
          ],
          [
           "Yari Verschaeren"
          ],
          [
           "Hugo Vetlesen"
          ],
          [
           "Rihito Yamamoto"
          ],
          [
           "Griffin Yow"
          ],
          [
           "Alhassan Yusuf"
          ],
          [
           "Kahveh Zahiroleslam"
          ],
          [
           "Adem Zorgane"
          ],
          [
           "Martin Adeline"
          ],
          [
           "Taïryk Arconte"
          ],
          [
           "Kouadou Assoumou"
          ],
          [
           "Enzo Bardeli"
          ],
          [
           "Gabriel Bares"
          ],
          [
           "Zakaria Bengueddoudj"
          ],
          [
           "Florian Bianchini"
          ],
          [
           "Benjamin Bouchouari"
          ],
          [
           "Aymen Boutoutaou"
          ],
          [
           "Bilal Brahimi"
          ],
          [
           "Mamadou Camara"
          ],
          [
           "Nassim Chadli"
          ],
          [
           "Killian Corredor"
          ],
          [
           "Zuriko Davitashvili"
          ],
          [
           "Logan Delaurier Chaubet"
          ],
          [
           "Alan Do Marcolino"
          ],
          [
           "Kyliane Dong"
          ],
          [
           "Lohann Doucet"
          ],
          [
           "Owen Géne"
          ],
          [
           "Giovanni Haag"
          ],
          [
           "Ilyes Hamache"
          ],
          [
           "Ben Hamed Touré"
          ],
          [
           "Andreas Hountondji"
          ],
          [
           "Lenny Joseph"
          ],
          [
           "Junior Kadile"
          ],
          [
           "Nordine Kandil"
          ],
          [
           "Abdoulaye Kanté"
          ],
          [
           "David Kjær Kruse"
          ],
          [
           "Godson Kyeremeh"
          ],
          [
           "Rémy Labeau Lascary"
          ],
          [
           "Mohamed Lamine Diaby"
          ],
          [
           "Noé Lebreton"
          ],
          [
           "Eros Maddy"
          ],
          [
           "Jean Mattéo Bahoya"
          ],
          [
           "Baptiste Mouazan"
          ],
          [
           "Aimen Moueffek"
          ],
          [
           "Louis Mouton"
          ],
          [
           "Papa Ndiaga Yade"
          ],
          [
           "Noha Ndombasi Nlandu"
          ],
          [
           "Samuel Ntamack"
          ],
          [
           "Junior Olaitan"
          ],
          [
           "Ángel Orelién"
          ],
          [
           "Amine El Ouazzani"
          ],
          [
           "Zinédine Ould Khaled"
          ],
          [
           "Alexandre Phliponeau"
          ],
          [
           "Hugo Picard"
          ],
          [
           "Balthazar Pierret"
          ],
          [
           "Alexi Pitu"
          ],
          [
           "Virgiliu Postolachi"
          ],
          [
           "Rafiki Said"
          ],
          [
           "Mohamed Sbai"
          ],
          [
           "Issouf Sissokho"
          ],
          [
           "Jacques Siwe"
          ],
          [
           "Sambou Soumano"
          ],
          [
           "Waniss Taibi"
          ],
          [
           "Abdoul-Fessal Tapsoba"
          ],
          [
           "Titouan Thomas"
          ],
          [
           "Félix Tomi"
          ],
          [
           "Saikou Touray"
          ],
          [
           "Žan Vipotnik"
          ],
          [
           "Wilitty Younoussa"
          ],
          [
           "Alan"
          ],
          [
           "Jeremy Antonisse"
          ],
          [
           "Óscar Aranda"
          ],
          [
           "Henrique Araújo"
          ],
          [
           "Gustavo Assuncao"
          ],
          [
           "Daniel Bandeira"
          ],
          [
           "Bachir Belloumi"
          ],
          [
           "Beni"
          ],
          [
           "Benny"
          ],
          [
           "Gonçalo Borges"
          ],
          [
           "Martim Carvalho"
          ],
          [
           "Facundo Cáseres"
          ],
          [
           "Tidjany Chabrol"
          ],
          [
           "Francisco Conceição"
          ],
          [
           "Félix Correia"
          ],
          [
           "Tiago Fonseca Morais"
          ],
          [
           "Gonçalo Franco"
          ],
          [
           "Mory Gbane"
          ],
          [
           "Nicolás González"
          ],
          [
           "Tomás Händel"
          ],
          [
           "André Inácio"
          ],
          [
           "Ivan Jaime Pajuelo"
          ],
          [
           "Sylvester Jasper"
          ],
          [
           "Samuel Justo"
          ],
          [
           "Orkun Kökçü"
          ],
          [
           "Matías Lacava"
          ],
          [
           "Alejandro Marqués"
          ],
          [
           "João Marques"
          ],
          [
           "Diogo Nascimento"
          ],
          [
           "Regis Ndo"
          ],
          [
           "João Neves"
          ],
          [
           "Miguel Puche García"
          ],
          [
           "Ronald"
          ],
          [
           "Abel Ruiz"
          ],
          [
           "Gustavo sá"
          ],
          [
           "Leandro Sanca"
          ],
          [
           "Pedro Santos"
          ],
          [
           "Martim Tavares"
          ],
          [
           "Casper Tengstedt"
          ],
          [
           "Mirko Topić"
          ],
          [
           "Alan Varela"
          ],
          [
           "Hélio Varela"
          ],
          [
           "Bruno Ventura"
          ],
          [
           "Paulo Victor"
          ],
          [
           "Emmanuel Addai"
          ],
          [
           "Marc Aguado"
          ],
          [
           "Jony Álamo"
          ],
          [
           "Rodri Alonso"
          ],
          [
           "Carlos Álvarez"
          ],
          [
           "Juan Artola"
          ],
          [
           "Iván Ayllón"
          ],
          [
           "Álex Calvo"
          ],
          [
           "Gaspar Campos"
          ],
          [
           "Álex Cantero"
          ],
          [
           "Carlo"
          ],
          [
           "Nicolás Castro"
          ],
          [
           "Ilyas Chaira"
          ],
          [
           "Seydouba Cissé"
          ],
          [
           "Jesús Clemente"
          ],
          [
           "Diego Collado"
          ],
          [
           "Alberto Del Moral"
          ],
          [
           "Diego"
          ],
          [
           "Ivan Durdov"
          ],
          [
           "Nicolás Ezequiel Fernández"
          ],
          [
           "Fabrício"
          ],
          [
           "Andrés Ferrari"
          ],
          [
           "Álex Forés"
          ],
          [
           "Álvaro Martín de Frías"
          ],
          [
           "Aitor Gelardo"
          ],
          [
           "Tiago Geralnik"
          ],
          [
           "Iván Gil"
          ],
          [
           "Haissem Hassan"
          ],
          [
           "Isak Jansson"
          ],
          [
           "Jofre"
          ],
          [
           "Joel Jorquera"
          ],
          [
           "Iker Kortajarena"
          ],
          [
           "Julen Lobete"
          ],
          [
           "Roberto López"
          ],
          [
           "Losada"
          ],
          [
           "Carlos Martín"
          ],
          [
           "Gabri Martínez"
          ],
          [
           "Mascarenhas"
          ],
          [
           "Rodrigo Mendoza"
          ],
          [
           "Victor Mollejo"
          ],
          [
           "Ivan Monzón"
          ],
          [
           "Iván Morante"
          ],
          [
           "Raúl Moro"
          ],
          [
           "Fernando Niño"
          ],
          [
           "Jandro Orellana"
          ],
          [
           "Antonio Pacheco"
          ],
          [
           "Pascu"
          ],
          [
           "Peque"
          ],
          [
           "Dani Queipo"
          ],
          [
           "Luis Quintero"
          ],
          [
           "Daniel Requena"
          ],
          [
           "Nico Ribaudo"
          ],
          [
           "Iván Romero"
          ],
          [
           "Alvaro Sanz"
          ],
          [
           "Francho Serrano Gracia"
          ],
          [
           "Mario Soriano"
          ],
          [
           "Teto"
          ],
          [
           "Pablo Tomeo"
          ],
          [
           "Oscar Ureña"
          ],
          [
           "Germán Valera"
          ],
          [
           "Hugo Vallejo"
          ],
          [
           "Jonathan Varane"
          ],
          [
           "Unai Vencedor Paris"
          ],
          [
           "Fabio Abiuso"
          ],
          [
           "Gonzalo Abrego"
          ],
          [
           "Ismail Achik"
          ],
          [
           "Francesco Amatucci"
          ],
          [
           "Giuseppe Ambrosino"
          ],
          [
           "Janis Antiste"
          ],
          [
           "Alessandro Arena"
          ],
          [
           "Kristoffer Askildsen"
          ],
          [
           "Thomas Battistella"
          ],
          [
           "Adrian Benedyczak"
          ],
          [
           "Adrian Bernabe"
          ],
          [
           "Alessandro Bianco"
          ],
          [
           "Bjarki Bjarkason"
          ],
          [
           "Ange-Yoan Bonny"
          ],
          [
           "Gennaro Borrelli"
          ],
          [
           "Kleis Bozhanaj"
          ],
          [
           "Gianluca Busio"
          ],
          [
           "Nicolò Buso"
          ],
          [
           "Fabrizio Caligara"
          ],
          [
           "Claudio Cassano"
          ],
          [
           "Mattia Compagnon"
          ],
          [
           "Valerio Crespi"
          ],
          [
           "Luca D'Andrea"
          ],
          [
           "Simone D'Uffizi"
          ],
          [
           "Lucas Da Cunha"
          ],
          [
           "Kees De Boer"
          ],
          [
           "Duccio Degl'Innocenti"
          ],
          [
           "Filippo Distefano"
          ],
          [
           "Francesco Esposito"
          ],
          [
           "Salvatore Esposito"
          ],
          [
           "Sebastiano Esposito"
          ],
          [
           "Aldo Florenzi"
          ],
          [
           "Andrea Ghion"
          ],
          [
           "Stefano Girelli"
          ],
          [
           "Natan Girma"
          ],
          [
           "Claudio Gomes"
          ],
          [
           "Flavio Junior Bianchi"
          ],
          [
           "Rachid Kouda"
          ],
          [
           "Christos Kourfalidis"
          ],
          [
           "Ilias Koutsoupias"
          ],
          [
           "Nunzio Lella"
          ],
          [
           "Ben Lhassine Kone"
          ],
          [
           "Patrizio Masini"
          ],
          [
           "Valentin Mihaila"
          ],
          [
           "Tommaso Milanese"
          ],
          [
           "Gregorio Morachioli"
          ],
          [
           "Luca Moro"
          ],
          [
           "Marco Nasti"
          ],
          [
           "Giacomo Olzer"
          ],
          [
           "Emanuele Pecorino"
          ],
          [
           "Gabriele Piccinini"
          ],
          [
           "Marco Pompetti"
          ],
          [
           "Mateusz Praszelik"
          ],
          [
           "Niklas Pyyhtiä"
          ],
          [
           "Antonio Raimondo"
          ],
          [
           "Nicola Rauti"
          ],
          [
           "Pablo Rodríguez"
          ],
          [
           "Alessandro Sersanti"
          ],
          [
           "Simon Sohm"
          ],
          [
           "Tanner Tessmann"
          ],
          [
           "Aljosa Vasic"
          ],
          [
           "Gerard Yepes"
          ],
          [
           "Mattia Zennaro"
          ],
          [
           "Federico Zuccon"
          ]
         ],
         "hovertemplate": "Assists=%{x}<br>Minutes Played=%{y}<br>Player=%{customdata[0]}<extra></extra>",
         "legendgroup": "",
         "marker": {
          "color": "#636efa",
          "symbol": "circle"
         },
         "mode": "markers",
         "name": "",
         "orientation": "v",
         "showlegend": false,
         "type": "scatter",
         "x": [
          1,
          1,
          1,
          3,
          0,
          0,
          2,
          0,
          2,
          0,
          2,
          0,
          0,
          1,
          0,
          0,
          1,
          1,
          1,
          7,
          1,
          4,
          0,
          1,
          1,
          2,
          0,
          0,
          2,
          5,
          2,
          4,
          3,
          4,
          1,
          6,
          0,
          1,
          0,
          0,
          4,
          2,
          2,
          2,
          0,
          1,
          2,
          3,
          4,
          2,
          3,
          1,
          2,
          2,
          0,
          0,
          5,
          0,
          0,
          1,
          1,
          0,
          1,
          2,
          0,
          1,
          1,
          1,
          0,
          0,
          0,
          3,
          3,
          2,
          0,
          0,
          3,
          1,
          5,
          4,
          7,
          0,
          2,
          5,
          0,
          3,
          2,
          3,
          0,
          0,
          0,
          1,
          0,
          1,
          1,
          2,
          1,
          0,
          1,
          0,
          1,
          6,
          2,
          0,
          0,
          2,
          1,
          2,
          1,
          3,
          5,
          1,
          0,
          2,
          2,
          1,
          4,
          0,
          1,
          2,
          2,
          1,
          0,
          2,
          0,
          1,
          1,
          3,
          2,
          5,
          3,
          3,
          0,
          2,
          0,
          2,
          2,
          1,
          2,
          3,
          4,
          1,
          7,
          0,
          0,
          7,
          2,
          0,
          1,
          0,
          2,
          1,
          1,
          3,
          2,
          1,
          0,
          0,
          0,
          5,
          1,
          1,
          2,
          0,
          2,
          0,
          3,
          3,
          0,
          0,
          1,
          3,
          1,
          1,
          1,
          1,
          1,
          1,
          4,
          0,
          0,
          0,
          0,
          2,
          2,
          1,
          0,
          2,
          2,
          0,
          0,
          3,
          2,
          2,
          3,
          0,
          1,
          1,
          0,
          0,
          2,
          0,
          6,
          2,
          1,
          4,
          1,
          1,
          1,
          0,
          2,
          1,
          3,
          3,
          0,
          1,
          1,
          0,
          2,
          1,
          0,
          1,
          3,
          1,
          1,
          0,
          1,
          0,
          0,
          2,
          1,
          2,
          2,
          2,
          4,
          0,
          3,
          0,
          0,
          0,
          0,
          1,
          0,
          0,
          1,
          2,
          0,
          0,
          0,
          5,
          1,
          2,
          0,
          1,
          1,
          4,
          6,
          2,
          4,
          1,
          0,
          1,
          0,
          0,
          3,
          2,
          1,
          0,
          4,
          1,
          0,
          1,
          0,
          3,
          0,
          2,
          1,
          3,
          1,
          0,
          1,
          0,
          2,
          0,
          2,
          0,
          0,
          1,
          0,
          2,
          1,
          1,
          2,
          1,
          3,
          3,
          1,
          1,
          4,
          2,
          0,
          3,
          1,
          0,
          3,
          0,
          0,
          0,
          0,
          5,
          2,
          1,
          2,
          0,
          4,
          2,
          0,
          0,
          0,
          1,
          2,
          0,
          2,
          1,
          1,
          0,
          1,
          0,
          2,
          1,
          1,
          0,
          0,
          0,
          0,
          1,
          2,
          0,
          2,
          1,
          1,
          3,
          1,
          3,
          3,
          0,
          2,
          1,
          2
         ],
         "xaxis": "x",
         "y": [
          1418,
          510,
          518,
          839,
          257,
          472,
          715,
          2303,
          1548,
          1439,
          502,
          744,
          534,
          639,
          879,
          994,
          844,
          682,
          829,
          1051,
          1179,
          1229,
          1253,
          1759,
          1427,
          1612,
          1089,
          1290,
          934,
          1510,
          807,
          1839,
          1718,
          1495,
          433,
          1965,
          297,
          620,
          1139,
          592,
          1398,
          836,
          1401,
          921,
          614,
          1413,
          1158,
          1578,
          1867,
          966,
          1122,
          1366,
          1360,
          1162,
          777,
          1903,
          1619,
          1590,
          363,
          1030,
          908,
          1559,
          722,
          2479,
          2314,
          2099,
          1934,
          965,
          945,
          869,
          1281,
          635,
          1383,
          1204,
          373,
          796,
          2131,
          1256,
          2007,
          1512,
          1781,
          1931,
          717,
          1332,
          991,
          1202,
          2165,
          978,
          317,
          606,
          1492,
          777,
          830,
          600,
          1291,
          442,
          1055,
          503,
          1024,
          1180,
          864,
          2261,
          1545,
          426,
          580,
          1750,
          484,
          1228,
          608,
          1870,
          852,
          1704,
          729,
          1336,
          917,
          1102,
          1803,
          1294,
          724,
          862,
          2072,
          1100,
          303,
          578,
          1534,
          1379,
          1253,
          1362,
          1252,
          2197,
          1762,
          1427,
          271,
          1662,
          1129,
          1308,
          1776,
          1172,
          690,
          1575,
          2102,
          1115,
          1841,
          1393,
          1387,
          1379,
          1350,
          758,
          950,
          119,
          722,
          1920,
          1042,
          1465,
          1072,
          883,
          1004,
          484,
          504,
          2168,
          481,
          1786,
          1296,
          1830,
          411,
          1102,
          1899,
          1511,
          913,
          157,
          1981,
          1516,
          501,
          568,
          165,
          470,
          1640,
          1429,
          1799,
          377,
          565,
          580,
          539,
          705,
          1365,
          1134,
          847,
          271,
          1395,
          727,
          708,
          1028,
          1451,
          1374,
          1925,
          1129,
          874,
          1783,
          670,
          449,
          1577,
          477,
          1295,
          989,
          1149,
          1612,
          1572,
          573,
          1705,
          200,
          1319,
          1341,
          1217,
          1144,
          736,
          281,
          499,
          1471,
          1457,
          1870,
          520,
          702,
          1546,
          1856,
          544,
          1113,
          1056,
          726,
          467,
          1118,
          1991,
          720,
          2367,
          1501,
          1923,
          862,
          1301,
          927,
          1736,
          2040,
          389,
          2235,
          649,
          511,
          2045,
          733,
          878,
          320,
          1878,
          1793,
          974,
          1191,
          348,
          877,
          1789,
          2046,
          2314,
          1880,
          2467,
          809,
          684,
          1544,
          1568,
          1109,
          1012,
          1730,
          1314,
          313,
          1885,
          1943,
          382,
          365,
          813,
          919,
          561,
          1999,
          1619,
          1936,
          795,
          728,
          443,
          1526,
          1079,
          616,
          917,
          776,
          989,
          584,
          1118,
          893,
          1584,
          941,
          497,
          707,
          1569,
          2018,
          2227,
          849,
          1443,
          1227,
          363,
          2143,
          1713,
          801,
          1472,
          1255,
          153,
          524,
          515,
          1796,
          794,
          856,
          901,
          1402,
          2220,
          1273,
          636,
          1516,
          373,
          1386,
          1987,
          1488,
          1131,
          1412,
          964,
          690,
          757,
          1203,
          1019,
          555,
          579,
          961,
          1751,
          828,
          982,
          1083,
          1124,
          1425,
          1383,
          1858,
          911,
          1627,
          1727,
          1242,
          2290,
          558,
          2007,
          955,
          1361
         ],
         "yaxis": "y"
        }
       ],
       "layout": {
        "legend": {
         "tracegroupgap": 0
        },
        "margin": {
         "t": 60
        },
        "template": {
         "data": {
          "bar": [
           {
            "error_x": {
             "color": "#2a3f5f"
            },
            "error_y": {
             "color": "#2a3f5f"
            },
            "marker": {
             "line": {
              "color": "#E5ECF6",
              "width": 0.5
             },
             "pattern": {
              "fillmode": "overlay",
              "size": 10,
              "solidity": 0.2
             }
            },
            "type": "bar"
           }
          ],
          "barpolar": [
           {
            "marker": {
             "line": {
              "color": "#E5ECF6",
              "width": 0.5
             },
             "pattern": {
              "fillmode": "overlay",
              "size": 10,
              "solidity": 0.2
             }
            },
            "type": "barpolar"
           }
          ],
          "carpet": [
           {
            "aaxis": {
             "endlinecolor": "#2a3f5f",
             "gridcolor": "white",
             "linecolor": "white",
             "minorgridcolor": "white",
             "startlinecolor": "#2a3f5f"
            },
            "baxis": {
             "endlinecolor": "#2a3f5f",
             "gridcolor": "white",
             "linecolor": "white",
             "minorgridcolor": "white",
             "startlinecolor": "#2a3f5f"
            },
            "type": "carpet"
           }
          ],
          "choropleth": [
           {
            "colorbar": {
             "outlinewidth": 0,
             "ticks": ""
            },
            "type": "choropleth"
           }
          ],
          "contour": [
           {
            "colorbar": {
             "outlinewidth": 0,
             "ticks": ""
            },
            "colorscale": [
             [
              0,
              "#0d0887"
             ],
             [
              0.1111111111111111,
              "#46039f"
             ],
             [
              0.2222222222222222,
              "#7201a8"
             ],
             [
              0.3333333333333333,
              "#9c179e"
             ],
             [
              0.4444444444444444,
              "#bd3786"
             ],
             [
              0.5555555555555556,
              "#d8576b"
             ],
             [
              0.6666666666666666,
              "#ed7953"
             ],
             [
              0.7777777777777778,
              "#fb9f3a"
             ],
             [
              0.8888888888888888,
              "#fdca26"
             ],
             [
              1,
              "#f0f921"
             ]
            ],
            "type": "contour"
           }
          ],
          "contourcarpet": [
           {
            "colorbar": {
             "outlinewidth": 0,
             "ticks": ""
            },
            "type": "contourcarpet"
           }
          ],
          "heatmap": [
           {
            "colorbar": {
             "outlinewidth": 0,
             "ticks": ""
            },
            "colorscale": [
             [
              0,
              "#0d0887"
             ],
             [
              0.1111111111111111,
              "#46039f"
             ],
             [
              0.2222222222222222,
              "#7201a8"
             ],
             [
              0.3333333333333333,
              "#9c179e"
             ],
             [
              0.4444444444444444,
              "#bd3786"
             ],
             [
              0.5555555555555556,
              "#d8576b"
             ],
             [
              0.6666666666666666,
              "#ed7953"
             ],
             [
              0.7777777777777778,
              "#fb9f3a"
             ],
             [
              0.8888888888888888,
              "#fdca26"
             ],
             [
              1,
              "#f0f921"
             ]
            ],
            "type": "heatmap"
           }
          ],
          "heatmapgl": [
           {
            "colorbar": {
             "outlinewidth": 0,
             "ticks": ""
            },
            "colorscale": [
             [
              0,
              "#0d0887"
             ],
             [
              0.1111111111111111,
              "#46039f"
             ],
             [
              0.2222222222222222,
              "#7201a8"
             ],
             [
              0.3333333333333333,
              "#9c179e"
             ],
             [
              0.4444444444444444,
              "#bd3786"
             ],
             [
              0.5555555555555556,
              "#d8576b"
             ],
             [
              0.6666666666666666,
              "#ed7953"
             ],
             [
              0.7777777777777778,
              "#fb9f3a"
             ],
             [
              0.8888888888888888,
              "#fdca26"
             ],
             [
              1,
              "#f0f921"
             ]
            ],
            "type": "heatmapgl"
           }
          ],
          "histogram": [
           {
            "marker": {
             "pattern": {
              "fillmode": "overlay",
              "size": 10,
              "solidity": 0.2
             }
            },
            "type": "histogram"
           }
          ],
          "histogram2d": [
           {
            "colorbar": {
             "outlinewidth": 0,
             "ticks": ""
            },
            "colorscale": [
             [
              0,
              "#0d0887"
             ],
             [
              0.1111111111111111,
              "#46039f"
             ],
             [
              0.2222222222222222,
              "#7201a8"
             ],
             [
              0.3333333333333333,
              "#9c179e"
             ],
             [
              0.4444444444444444,
              "#bd3786"
             ],
             [
              0.5555555555555556,
              "#d8576b"
             ],
             [
              0.6666666666666666,
              "#ed7953"
             ],
             [
              0.7777777777777778,
              "#fb9f3a"
             ],
             [
              0.8888888888888888,
              "#fdca26"
             ],
             [
              1,
              "#f0f921"
             ]
            ],
            "type": "histogram2d"
           }
          ],
          "histogram2dcontour": [
           {
            "colorbar": {
             "outlinewidth": 0,
             "ticks": ""
            },
            "colorscale": [
             [
              0,
              "#0d0887"
             ],
             [
              0.1111111111111111,
              "#46039f"
             ],
             [
              0.2222222222222222,
              "#7201a8"
             ],
             [
              0.3333333333333333,
              "#9c179e"
             ],
             [
              0.4444444444444444,
              "#bd3786"
             ],
             [
              0.5555555555555556,
              "#d8576b"
             ],
             [
              0.6666666666666666,
              "#ed7953"
             ],
             [
              0.7777777777777778,
              "#fb9f3a"
             ],
             [
              0.8888888888888888,
              "#fdca26"
             ],
             [
              1,
              "#f0f921"
             ]
            ],
            "type": "histogram2dcontour"
           }
          ],
          "mesh3d": [
           {
            "colorbar": {
             "outlinewidth": 0,
             "ticks": ""
            },
            "type": "mesh3d"
           }
          ],
          "parcoords": [
           {
            "line": {
             "colorbar": {
              "outlinewidth": 0,
              "ticks": ""
             }
            },
            "type": "parcoords"
           }
          ],
          "pie": [
           {
            "automargin": true,
            "type": "pie"
           }
          ],
          "scatter": [
           {
            "fillpattern": {
             "fillmode": "overlay",
             "size": 10,
             "solidity": 0.2
            },
            "type": "scatter"
           }
          ],
          "scatter3d": [
           {
            "line": {
             "colorbar": {
              "outlinewidth": 0,
              "ticks": ""
             }
            },
            "marker": {
             "colorbar": {
              "outlinewidth": 0,
              "ticks": ""
             }
            },
            "type": "scatter3d"
           }
          ],
          "scattercarpet": [
           {
            "marker": {
             "colorbar": {
              "outlinewidth": 0,
              "ticks": ""
             }
            },
            "type": "scattercarpet"
           }
          ],
          "scattergeo": [
           {
            "marker": {
             "colorbar": {
              "outlinewidth": 0,
              "ticks": ""
             }
            },
            "type": "scattergeo"
           }
          ],
          "scattergl": [
           {
            "marker": {
             "colorbar": {
              "outlinewidth": 0,
              "ticks": ""
             }
            },
            "type": "scattergl"
           }
          ],
          "scattermapbox": [
           {
            "marker": {
             "colorbar": {
              "outlinewidth": 0,
              "ticks": ""
             }
            },
            "type": "scattermapbox"
           }
          ],
          "scatterpolar": [
           {
            "marker": {
             "colorbar": {
              "outlinewidth": 0,
              "ticks": ""
             }
            },
            "type": "scatterpolar"
           }
          ],
          "scatterpolargl": [
           {
            "marker": {
             "colorbar": {
              "outlinewidth": 0,
              "ticks": ""
             }
            },
            "type": "scatterpolargl"
           }
          ],
          "scatterternary": [
           {
            "marker": {
             "colorbar": {
              "outlinewidth": 0,
              "ticks": ""
             }
            },
            "type": "scatterternary"
           }
          ],
          "surface": [
           {
            "colorbar": {
             "outlinewidth": 0,
             "ticks": ""
            },
            "colorscale": [
             [
              0,
              "#0d0887"
             ],
             [
              0.1111111111111111,
              "#46039f"
             ],
             [
              0.2222222222222222,
              "#7201a8"
             ],
             [
              0.3333333333333333,
              "#9c179e"
             ],
             [
              0.4444444444444444,
              "#bd3786"
             ],
             [
              0.5555555555555556,
              "#d8576b"
             ],
             [
              0.6666666666666666,
              "#ed7953"
             ],
             [
              0.7777777777777778,
              "#fb9f3a"
             ],
             [
              0.8888888888888888,
              "#fdca26"
             ],
             [
              1,
              "#f0f921"
             ]
            ],
            "type": "surface"
           }
          ],
          "table": [
           {
            "cells": {
             "fill": {
              "color": "#EBF0F8"
             },
             "line": {
              "color": "white"
             }
            },
            "header": {
             "fill": {
              "color": "#C8D4E3"
             },
             "line": {
              "color": "white"
             }
            },
            "type": "table"
           }
          ]
         },
         "layout": {
          "annotationdefaults": {
           "arrowcolor": "#2a3f5f",
           "arrowhead": 0,
           "arrowwidth": 1
          },
          "autotypenumbers": "strict",
          "coloraxis": {
           "colorbar": {
            "outlinewidth": 0,
            "ticks": ""
           }
          },
          "colorscale": {
           "diverging": [
            [
             0,
             "#8e0152"
            ],
            [
             0.1,
             "#c51b7d"
            ],
            [
             0.2,
             "#de77ae"
            ],
            [
             0.3,
             "#f1b6da"
            ],
            [
             0.4,
             "#fde0ef"
            ],
            [
             0.5,
             "#f7f7f7"
            ],
            [
             0.6,
             "#e6f5d0"
            ],
            [
             0.7,
             "#b8e186"
            ],
            [
             0.8,
             "#7fbc41"
            ],
            [
             0.9,
             "#4d9221"
            ],
            [
             1,
             "#276419"
            ]
           ],
           "sequential": [
            [
             0,
             "#0d0887"
            ],
            [
             0.1111111111111111,
             "#46039f"
            ],
            [
             0.2222222222222222,
             "#7201a8"
            ],
            [
             0.3333333333333333,
             "#9c179e"
            ],
            [
             0.4444444444444444,
             "#bd3786"
            ],
            [
             0.5555555555555556,
             "#d8576b"
            ],
            [
             0.6666666666666666,
             "#ed7953"
            ],
            [
             0.7777777777777778,
             "#fb9f3a"
            ],
            [
             0.8888888888888888,
             "#fdca26"
            ],
            [
             1,
             "#f0f921"
            ]
           ],
           "sequentialminus": [
            [
             0,
             "#0d0887"
            ],
            [
             0.1111111111111111,
             "#46039f"
            ],
            [
             0.2222222222222222,
             "#7201a8"
            ],
            [
             0.3333333333333333,
             "#9c179e"
            ],
            [
             0.4444444444444444,
             "#bd3786"
            ],
            [
             0.5555555555555556,
             "#d8576b"
            ],
            [
             0.6666666666666666,
             "#ed7953"
            ],
            [
             0.7777777777777778,
             "#fb9f3a"
            ],
            [
             0.8888888888888888,
             "#fdca26"
            ],
            [
             1,
             "#f0f921"
            ]
           ]
          },
          "colorway": [
           "#636efa",
           "#EF553B",
           "#00cc96",
           "#ab63fa",
           "#FFA15A",
           "#19d3f3",
           "#FF6692",
           "#B6E880",
           "#FF97FF",
           "#FECB52"
          ],
          "font": {
           "color": "#2a3f5f"
          },
          "geo": {
           "bgcolor": "white",
           "lakecolor": "white",
           "landcolor": "#E5ECF6",
           "showlakes": true,
           "showland": true,
           "subunitcolor": "white"
          },
          "hoverlabel": {
           "align": "left"
          },
          "hovermode": "closest",
          "mapbox": {
           "style": "light"
          },
          "paper_bgcolor": "white",
          "plot_bgcolor": "#E5ECF6",
          "polar": {
           "angularaxis": {
            "gridcolor": "white",
            "linecolor": "white",
            "ticks": ""
           },
           "bgcolor": "#E5ECF6",
           "radialaxis": {
            "gridcolor": "white",
            "linecolor": "white",
            "ticks": ""
           }
          },
          "scene": {
           "xaxis": {
            "backgroundcolor": "#E5ECF6",
            "gridcolor": "white",
            "gridwidth": 2,
            "linecolor": "white",
            "showbackground": true,
            "ticks": "",
            "zerolinecolor": "white"
           },
           "yaxis": {
            "backgroundcolor": "#E5ECF6",
            "gridcolor": "white",
            "gridwidth": 2,
            "linecolor": "white",
            "showbackground": true,
            "ticks": "",
            "zerolinecolor": "white"
           },
           "zaxis": {
            "backgroundcolor": "#E5ECF6",
            "gridcolor": "white",
            "gridwidth": 2,
            "linecolor": "white",
            "showbackground": true,
            "ticks": "",
            "zerolinecolor": "white"
           }
          },
          "shapedefaults": {
           "line": {
            "color": "#2a3f5f"
           }
          },
          "ternary": {
           "aaxis": {
            "gridcolor": "white",
            "linecolor": "white",
            "ticks": ""
           },
           "baxis": {
            "gridcolor": "white",
            "linecolor": "white",
            "ticks": ""
           },
           "bgcolor": "#E5ECF6",
           "caxis": {
            "gridcolor": "white",
            "linecolor": "white",
            "ticks": ""
           }
          },
          "title": {
           "x": 0.05
          },
          "xaxis": {
           "automargin": true,
           "gridcolor": "white",
           "linecolor": "white",
           "ticks": "",
           "title": {
            "standoff": 15
           },
           "zerolinecolor": "white",
           "zerolinewidth": 2
          },
          "yaxis": {
           "automargin": true,
           "gridcolor": "white",
           "linecolor": "white",
           "ticks": "",
           "title": {
            "standoff": 15
           },
           "zerolinecolor": "white",
           "zerolinewidth": 2
          }
         }
        },
        "xaxis": {
         "anchor": "y",
         "domain": [
          0,
          1
         ],
         "title": {
          "text": "Assists"
         }
        },
        "yaxis": {
         "anchor": "x",
         "domain": [
          0,
          1
         ],
         "title": {
          "text": "Minutes Played"
         }
        }
       }
      }
     },
     "metadata": {},
     "output_type": "display_data"
    }
   ],
   "source": [
    "# Identifying top assisters in the strikers_under_23 dataframe.\n",
    "px.scatter(strikers_under_23, x='Assists', y='Minutes Played', hover_data=['Player'])"
   ]
  },
  {
   "cell_type": "code",
   "execution_count": 60,
   "metadata": {},
   "outputs": [
    {
     "data": {
      "application/vnd.plotly.v1+json": {
       "config": {
        "plotlyServerURL": "https://plot.ly"
       },
       "data": [
        {
         "customdata": [
          [
           "Arana"
          ],
          [
           "Arnau Ortiz"
          ],
          [
           "Eddie Salcedo"
          ],
          [
           "Giacomo Manzari"
          ],
          [
           "Jovanny Bolívar"
          ],
          [
           "Lauti"
          ],
          [
           "Lorenzo Di Stefano"
          ],
          [
           "Mamadou Fofana"
          ],
          [
           "Mandela Keita"
          ],
          [
           "Mateus Fernandes"
          ],
          [
           "Matteo Stoppa"
          ],
          [
           "Nicholas Bonfanti"
          ],
          [
           "Norman Bassette"
          ],
          [
           "Ousmane Camara"
          ],
          [
           "Roko Baturina"
          ],
          [
           "Sacha Banse"
          ],
          [
           "Úmaro Embaló"
          ],
          [
           "Xavier Amaechi"
          ],
          [
           "Ilyas Ansah"
          ],
          [
           "Shinta Appelkamp"
          ],
          [
           "Nick Bätzner"
          ],
          [
           "Filip Bilbija"
          ],
          [
           "Jens Castrop"
          ],
          [
           "Yannik Engelhardt"
          ],
          [
           "Florian Flick"
          ],
          [
           "Johan Gomez"
          ],
          [
           "Mattes Hansen"
          ],
          [
           "Lee Hyunju"
          ],
          [
           "Þórir Jóhann Helgason"
          ],
          [
           "Ísak Jóhannesson"
          ],
          [
           "Ransford Königsdörffer"
          ],
          [
           "Tim Lemperle"
          ],
          [
           "Enzo Leopold"
          ],
          [
           "Igor Matanovic"
          ],
          [
           "Keke Maximilian Topp"
          ],
          [
           "Paul Nebel"
          ],
          [
           "András Németh"
          ],
          [
           "Jona Niemiec"
          ],
          [
           "Juan Perea"
          ],
          [
           "Lukas Petkov"
          ],
          [
           "Immanuel Pherai"
          ],
          [
           "Rayan Philippe"
          ],
          [
           "Tobias Raschl"
          ],
          [
           "Ludovit Reis"
          ],
          [
           "Derry Scherhant"
          ],
          [
           "Armindo Sieb"
          ],
          [
           "Nicolo Tresoldi"
          ],
          [
           "Christos Tzolis"
          ],
          [
           "Robert Wagner"
          ],
          [
           "Paul Wanner"
          ],
          [
           "Marten Winkler"
          ],
          [
           "Can Yılmaz Uzun"
          ],
          [
           "Mohamed El Amine Amoura"
          ],
          [
           "Tolu Arokodare"
          ],
          [
           "Youssouph Badji"
          ],
          [
           "Brandon Baiye"
          ],
          [
           "Michel-Ange Balikwisha"
          ],
          [
           "Ezechiel Banzuzi"
          ],
          [
           "Joselpho Barnes"
          ],
          [
           "Christopher Bonsu Baah"
          ],
          [
           "Jonatan Braut Brunes"
          ],
          [
           "Isaak Davies"
          ],
          [
           "Nils De Wilde"
          ],
          [
           "Mathias Delorge"
          ],
          [
           "Kevin Denkey"
          ],
          [
           "Pierre Dwomoh"
          ],
          [
           "Jurgen Ekkelenkamp"
          ],
          [
           "Alieu Fadera"
          ],
          [
           "Matija Frigan"
          ],
          [
           "Joel Fujita"
          ],
          [
           "Matías Galarza"
          ],
          [
           "Omri Gandelman"
          ],
          [
           "Yann Gboho"
          ],
          [
           "Parfait Guiagon"
          ],
          [
           "Dogucan Haspolat"
          ],
          [
           "George Ilenikhena"
          ],
          [
           "Abdelkahar Kadri"
          ],
          [
           "Amadou Keita"
          ],
          [
           "Bilal El Khannouss"
          ],
          [
           "Félix Lemaréchal"
          ],
          [
           "Theo Leoni"
          ],
          [
           "Nicolas Madsen"
          ],
          [
           "Pathé Mboup"
          ],
          [
           "Alan Minda"
          ],
          [
           "Ngal'Ayel Mukau"
          ],
          [
           "Nachon Nsingi"
          ],
          [
           "Isaac Nuhu"
          ],
          [
           "Antonio Nusa"
          ],
          [
           "Noah Ohio"
          ],
          [
           "Kazeem Olaigbe"
          ],
          [
           "Raphael Onyedika"
          ],
          [
           "Nathan Opoku"
          ],
          [
           "Gift Orban"
          ],
          [
           "Luca Oyen"
          ],
          [
           "Arthur Piedfort"
          ],
          [
           "Kevin Rodríguez"
          ],
          [
           "Noah Sadiki"
          ],
          [
           "Florent da Silva"
          ],
          [
           "Yira Sor"
          ],
          [
           "Kamal Sowah"
          ],
          [
           "Lucas Stassin"
          ],
          [
           "Jarne Steuckers"
          ],
          [
           "Mario Stroeykens"
          ],
          [
           "Nikola Štulić"
          ],
          [
           "Youssuf Sylla"
          ],
          [
           "Thiago"
          ],
          [
           "Kyan Vaesen"
          ],
          [
           "Thomas Van den Keybus"
          ],
          [
           "Luis Vázquez"
          ],
          [
           "Arthur Vermeeren"
          ],
          [
           "Yari Verschaeren"
          ],
          [
           "Hugo Vetlesen"
          ],
          [
           "Rihito Yamamoto"
          ],
          [
           "Griffin Yow"
          ],
          [
           "Alhassan Yusuf"
          ],
          [
           "Kahveh Zahiroleslam"
          ],
          [
           "Adem Zorgane"
          ],
          [
           "Martin Adeline"
          ],
          [
           "Taïryk Arconte"
          ],
          [
           "Kouadou Assoumou"
          ],
          [
           "Enzo Bardeli"
          ],
          [
           "Gabriel Bares"
          ],
          [
           "Zakaria Bengueddoudj"
          ],
          [
           "Florian Bianchini"
          ],
          [
           "Benjamin Bouchouari"
          ],
          [
           "Aymen Boutoutaou"
          ],
          [
           "Bilal Brahimi"
          ],
          [
           "Mamadou Camara"
          ],
          [
           "Nassim Chadli"
          ],
          [
           "Killian Corredor"
          ],
          [
           "Zuriko Davitashvili"
          ],
          [
           "Logan Delaurier Chaubet"
          ],
          [
           "Alan Do Marcolino"
          ],
          [
           "Kyliane Dong"
          ],
          [
           "Lohann Doucet"
          ],
          [
           "Owen Géne"
          ],
          [
           "Giovanni Haag"
          ],
          [
           "Ilyes Hamache"
          ],
          [
           "Ben Hamed Touré"
          ],
          [
           "Andreas Hountondji"
          ],
          [
           "Lenny Joseph"
          ],
          [
           "Junior Kadile"
          ],
          [
           "Nordine Kandil"
          ],
          [
           "Abdoulaye Kanté"
          ],
          [
           "David Kjær Kruse"
          ],
          [
           "Godson Kyeremeh"
          ],
          [
           "Rémy Labeau Lascary"
          ],
          [
           "Mohamed Lamine Diaby"
          ],
          [
           "Noé Lebreton"
          ],
          [
           "Eros Maddy"
          ],
          [
           "Jean Mattéo Bahoya"
          ],
          [
           "Baptiste Mouazan"
          ],
          [
           "Aimen Moueffek"
          ],
          [
           "Louis Mouton"
          ],
          [
           "Papa Ndiaga Yade"
          ],
          [
           "Noha Ndombasi Nlandu"
          ],
          [
           "Samuel Ntamack"
          ],
          [
           "Junior Olaitan"
          ],
          [
           "Ángel Orelién"
          ],
          [
           "Amine El Ouazzani"
          ],
          [
           "Zinédine Ould Khaled"
          ],
          [
           "Alexandre Phliponeau"
          ],
          [
           "Hugo Picard"
          ],
          [
           "Balthazar Pierret"
          ],
          [
           "Alexi Pitu"
          ],
          [
           "Virgiliu Postolachi"
          ],
          [
           "Rafiki Said"
          ],
          [
           "Mohamed Sbai"
          ],
          [
           "Issouf Sissokho"
          ],
          [
           "Jacques Siwe"
          ],
          [
           "Sambou Soumano"
          ],
          [
           "Waniss Taibi"
          ],
          [
           "Abdoul-Fessal Tapsoba"
          ],
          [
           "Titouan Thomas"
          ],
          [
           "Félix Tomi"
          ],
          [
           "Saikou Touray"
          ],
          [
           "Žan Vipotnik"
          ],
          [
           "Wilitty Younoussa"
          ],
          [
           "Alan"
          ],
          [
           "Jeremy Antonisse"
          ],
          [
           "Óscar Aranda"
          ],
          [
           "Henrique Araújo"
          ],
          [
           "Gustavo Assuncao"
          ],
          [
           "Daniel Bandeira"
          ],
          [
           "Bachir Belloumi"
          ],
          [
           "Beni"
          ],
          [
           "Benny"
          ],
          [
           "Gonçalo Borges"
          ],
          [
           "Martim Carvalho"
          ],
          [
           "Facundo Cáseres"
          ],
          [
           "Tidjany Chabrol"
          ],
          [
           "Francisco Conceição"
          ],
          [
           "Félix Correia"
          ],
          [
           "Tiago Fonseca Morais"
          ],
          [
           "Gonçalo Franco"
          ],
          [
           "Mory Gbane"
          ],
          [
           "Nicolás González"
          ],
          [
           "Tomás Händel"
          ],
          [
           "André Inácio"
          ],
          [
           "Ivan Jaime Pajuelo"
          ],
          [
           "Sylvester Jasper"
          ],
          [
           "Samuel Justo"
          ],
          [
           "Orkun Kökçü"
          ],
          [
           "Matías Lacava"
          ],
          [
           "Alejandro Marqués"
          ],
          [
           "João Marques"
          ],
          [
           "Diogo Nascimento"
          ],
          [
           "Regis Ndo"
          ],
          [
           "João Neves"
          ],
          [
           "Miguel Puche García"
          ],
          [
           "Ronald"
          ],
          [
           "Abel Ruiz"
          ],
          [
           "Gustavo sá"
          ],
          [
           "Leandro Sanca"
          ],
          [
           "Pedro Santos"
          ],
          [
           "Martim Tavares"
          ],
          [
           "Casper Tengstedt"
          ],
          [
           "Mirko Topić"
          ],
          [
           "Alan Varela"
          ],
          [
           "Hélio Varela"
          ],
          [
           "Bruno Ventura"
          ],
          [
           "Paulo Victor"
          ],
          [
           "Emmanuel Addai"
          ],
          [
           "Marc Aguado"
          ],
          [
           "Jony Álamo"
          ],
          [
           "Rodri Alonso"
          ],
          [
           "Carlos Álvarez"
          ],
          [
           "Juan Artola"
          ],
          [
           "Iván Ayllón"
          ],
          [
           "Álex Calvo"
          ],
          [
           "Gaspar Campos"
          ],
          [
           "Álex Cantero"
          ],
          [
           "Carlo"
          ],
          [
           "Nicolás Castro"
          ],
          [
           "Ilyas Chaira"
          ],
          [
           "Seydouba Cissé"
          ],
          [
           "Jesús Clemente"
          ],
          [
           "Diego Collado"
          ],
          [
           "Alberto Del Moral"
          ],
          [
           "Diego"
          ],
          [
           "Ivan Durdov"
          ],
          [
           "Nicolás Ezequiel Fernández"
          ],
          [
           "Fabrício"
          ],
          [
           "Andrés Ferrari"
          ],
          [
           "Álex Forés"
          ],
          [
           "Álvaro Martín de Frías"
          ],
          [
           "Aitor Gelardo"
          ],
          [
           "Tiago Geralnik"
          ],
          [
           "Iván Gil"
          ],
          [
           "Haissem Hassan"
          ],
          [
           "Isak Jansson"
          ],
          [
           "Jofre"
          ],
          [
           "Joel Jorquera"
          ],
          [
           "Iker Kortajarena"
          ],
          [
           "Julen Lobete"
          ],
          [
           "Roberto López"
          ],
          [
           "Losada"
          ],
          [
           "Carlos Martín"
          ],
          [
           "Gabri Martínez"
          ],
          [
           "Mascarenhas"
          ],
          [
           "Rodrigo Mendoza"
          ],
          [
           "Victor Mollejo"
          ],
          [
           "Ivan Monzón"
          ],
          [
           "Iván Morante"
          ],
          [
           "Raúl Moro"
          ],
          [
           "Fernando Niño"
          ],
          [
           "Jandro Orellana"
          ],
          [
           "Antonio Pacheco"
          ],
          [
           "Pascu"
          ],
          [
           "Peque"
          ],
          [
           "Dani Queipo"
          ],
          [
           "Luis Quintero"
          ],
          [
           "Daniel Requena"
          ],
          [
           "Nico Ribaudo"
          ],
          [
           "Iván Romero"
          ],
          [
           "Alvaro Sanz"
          ],
          [
           "Francho Serrano Gracia"
          ],
          [
           "Mario Soriano"
          ],
          [
           "Teto"
          ],
          [
           "Pablo Tomeo"
          ],
          [
           "Oscar Ureña"
          ],
          [
           "Germán Valera"
          ],
          [
           "Hugo Vallejo"
          ],
          [
           "Jonathan Varane"
          ],
          [
           "Unai Vencedor Paris"
          ],
          [
           "Fabio Abiuso"
          ],
          [
           "Gonzalo Abrego"
          ],
          [
           "Ismail Achik"
          ],
          [
           "Francesco Amatucci"
          ],
          [
           "Giuseppe Ambrosino"
          ],
          [
           "Janis Antiste"
          ],
          [
           "Alessandro Arena"
          ],
          [
           "Kristoffer Askildsen"
          ],
          [
           "Thomas Battistella"
          ],
          [
           "Adrian Benedyczak"
          ],
          [
           "Adrian Bernabe"
          ],
          [
           "Alessandro Bianco"
          ],
          [
           "Bjarki Bjarkason"
          ],
          [
           "Ange-Yoan Bonny"
          ],
          [
           "Gennaro Borrelli"
          ],
          [
           "Kleis Bozhanaj"
          ],
          [
           "Gianluca Busio"
          ],
          [
           "Nicolò Buso"
          ],
          [
           "Fabrizio Caligara"
          ],
          [
           "Claudio Cassano"
          ],
          [
           "Mattia Compagnon"
          ],
          [
           "Valerio Crespi"
          ],
          [
           "Luca D'Andrea"
          ],
          [
           "Simone D'Uffizi"
          ],
          [
           "Lucas Da Cunha"
          ],
          [
           "Kees De Boer"
          ],
          [
           "Duccio Degl'Innocenti"
          ],
          [
           "Filippo Distefano"
          ],
          [
           "Francesco Esposito"
          ],
          [
           "Salvatore Esposito"
          ],
          [
           "Sebastiano Esposito"
          ],
          [
           "Aldo Florenzi"
          ],
          [
           "Andrea Ghion"
          ],
          [
           "Stefano Girelli"
          ],
          [
           "Natan Girma"
          ],
          [
           "Claudio Gomes"
          ],
          [
           "Flavio Junior Bianchi"
          ],
          [
           "Rachid Kouda"
          ],
          [
           "Christos Kourfalidis"
          ],
          [
           "Ilias Koutsoupias"
          ],
          [
           "Nunzio Lella"
          ],
          [
           "Ben Lhassine Kone"
          ],
          [
           "Patrizio Masini"
          ],
          [
           "Valentin Mihaila"
          ],
          [
           "Tommaso Milanese"
          ],
          [
           "Gregorio Morachioli"
          ],
          [
           "Luca Moro"
          ],
          [
           "Marco Nasti"
          ],
          [
           "Giacomo Olzer"
          ],
          [
           "Emanuele Pecorino"
          ],
          [
           "Gabriele Piccinini"
          ],
          [
           "Marco Pompetti"
          ],
          [
           "Mateusz Praszelik"
          ],
          [
           "Niklas Pyyhtiä"
          ],
          [
           "Antonio Raimondo"
          ],
          [
           "Nicola Rauti"
          ],
          [
           "Pablo Rodríguez"
          ],
          [
           "Alessandro Sersanti"
          ],
          [
           "Simon Sohm"
          ],
          [
           "Tanner Tessmann"
          ],
          [
           "Aljosa Vasic"
          ],
          [
           "Gerard Yepes"
          ],
          [
           "Mattia Zennaro"
          ],
          [
           "Federico Zuccon"
          ]
         ],
         "hovertemplate": "Goals + Assists=%{x}<br>Minutes Played=%{y}<br>Player=%{customdata[0]}<extra></extra>",
         "legendgroup": "",
         "marker": {
          "color": "#636efa",
          "symbol": "circle"
         },
         "mode": "markers",
         "name": "",
         "orientation": "v",
         "showlegend": false,
         "type": "scatter",
         "x": [
          10,
          1,
          3,
          4,
          0,
          0,
          3,
          0,
          2,
          1,
          2,
          4,
          3,
          4,
          2,
          0,
          2,
          2,
          2,
          8,
          2,
          9,
          2,
          4,
          3,
          4,
          2,
          4,
          3,
          7,
          3,
          8,
          5,
          14,
          2,
          8,
          0,
          4,
          4,
          0,
          7,
          6,
          3,
          4,
          2,
          10,
          8,
          16,
          5,
          6,
          5,
          13,
          19,
          10,
          0,
          1,
          10,
          2,
          1,
          2,
          4,
          7,
          1,
          3,
          22,
          2,
          6,
          4,
          4,
          1,
          1,
          5,
          3,
          7,
          0,
          7,
          7,
          2,
          8,
          4,
          10,
          12,
          4,
          11,
          0,
          4,
          6,
          6,
          0,
          3,
          0,
          2,
          3,
          2,
          1,
          5,
          1,
          2,
          7,
          2,
          7,
          10,
          6,
          1,
          2,
          18,
          1,
          3,
          8,
          4,
          5,
          2,
          0,
          8,
          2,
          5,
          6,
          1,
          6,
          6,
          5,
          1,
          0,
          3,
          0,
          5,
          2,
          7,
          5,
          13,
          6,
          7,
          0,
          3,
          0,
          2,
          4,
          3,
          6,
          13,
          7,
          3,
          7,
          0,
          1,
          9,
          4,
          3,
          1,
          0,
          7,
          4,
          3,
          3,
          5,
          3,
          9,
          0,
          2,
          12,
          1,
          1,
          4,
          1,
          3,
          3,
          11,
          9,
          0,
          0,
          12,
          4,
          1,
          1,
          2,
          3,
          9,
          3,
          7,
          0,
          1,
          0,
          0,
          3,
          7,
          1,
          1,
          2,
          2,
          0,
          2,
          6,
          6,
          8,
          3,
          0,
          1,
          2,
          2,
          1,
          4,
          1,
          8,
          2,
          10,
          9,
          1,
          2,
          3,
          0,
          3,
          4,
          5,
          3,
          1,
          2,
          4,
          0,
          4,
          6,
          0,
          2,
          6,
          1,
          1,
          0,
          4,
          0,
          2,
          3,
          10,
          3,
          2,
          6,
          9,
          0,
          5,
          1,
          1,
          9,
          1,
          4,
          4,
          2,
          12,
          3,
          0,
          0,
          3,
          6,
          2,
          4,
          0,
          2,
          3,
          9,
          13,
          13,
          10,
          5,
          1,
          5,
          2,
          1,
          3,
          7,
          2,
          1,
          8,
          15,
          2,
          1,
          1,
          5,
          1,
          3,
          4,
          6,
          3,
          0,
          1,
          1,
          4,
          0,
          4,
          4,
          1,
          2,
          1,
          4,
          5,
          2,
          2,
          3,
          13,
          9,
          3,
          3,
          7,
          10,
          2,
          8,
          7,
          1,
          6,
          4,
          0,
          0,
          0,
          8,
          2,
          1,
          6,
          2,
          5,
          7,
          0,
          1,
          0,
          6,
          2,
          2,
          4,
          4,
          3,
          0,
          1,
          2,
          5,
          1,
          1,
          4,
          4,
          0,
          4,
          2,
          3,
          0,
          3,
          10,
          2,
          5,
          2,
          3,
          7,
          0,
          2,
          3,
          2
         ],
         "xaxis": "x",
         "y": [
          1418,
          510,
          518,
          839,
          257,
          472,
          715,
          2303,
          1548,
          1439,
          502,
          744,
          534,
          639,
          879,
          994,
          844,
          682,
          829,
          1051,
          1179,
          1229,
          1253,
          1759,
          1427,
          1612,
          1089,
          1290,
          934,
          1510,
          807,
          1839,
          1718,
          1495,
          433,
          1965,
          297,
          620,
          1139,
          592,
          1398,
          836,
          1401,
          921,
          614,
          1413,
          1158,
          1578,
          1867,
          966,
          1122,
          1366,
          1360,
          1162,
          777,
          1903,
          1619,
          1590,
          363,
          1030,
          908,
          1559,
          722,
          2479,
          2314,
          2099,
          1934,
          965,
          945,
          869,
          1281,
          635,
          1383,
          1204,
          373,
          796,
          2131,
          1256,
          2007,
          1512,
          1781,
          1931,
          717,
          1332,
          991,
          1202,
          2165,
          978,
          317,
          606,
          1492,
          777,
          830,
          600,
          1291,
          442,
          1055,
          503,
          1024,
          1180,
          864,
          2261,
          1545,
          426,
          580,
          1750,
          484,
          1228,
          608,
          1870,
          852,
          1704,
          729,
          1336,
          917,
          1102,
          1803,
          1294,
          724,
          862,
          2072,
          1100,
          303,
          578,
          1534,
          1379,
          1253,
          1362,
          1252,
          2197,
          1762,
          1427,
          271,
          1662,
          1129,
          1308,
          1776,
          1172,
          690,
          1575,
          2102,
          1115,
          1841,
          1393,
          1387,
          1379,
          1350,
          758,
          950,
          119,
          722,
          1920,
          1042,
          1465,
          1072,
          883,
          1004,
          484,
          504,
          2168,
          481,
          1786,
          1296,
          1830,
          411,
          1102,
          1899,
          1511,
          913,
          157,
          1981,
          1516,
          501,
          568,
          165,
          470,
          1640,
          1429,
          1799,
          377,
          565,
          580,
          539,
          705,
          1365,
          1134,
          847,
          271,
          1395,
          727,
          708,
          1028,
          1451,
          1374,
          1925,
          1129,
          874,
          1783,
          670,
          449,
          1577,
          477,
          1295,
          989,
          1149,
          1612,
          1572,
          573,
          1705,
          200,
          1319,
          1341,
          1217,
          1144,
          736,
          281,
          499,
          1471,
          1457,
          1870,
          520,
          702,
          1546,
          1856,
          544,
          1113,
          1056,
          726,
          467,
          1118,
          1991,
          720,
          2367,
          1501,
          1923,
          862,
          1301,
          927,
          1736,
          2040,
          389,
          2235,
          649,
          511,
          2045,
          733,
          878,
          320,
          1878,
          1793,
          974,
          1191,
          348,
          877,
          1789,
          2046,
          2314,
          1880,
          2467,
          809,
          684,
          1544,
          1568,
          1109,
          1012,
          1730,
          1314,
          313,
          1885,
          1943,
          382,
          365,
          813,
          919,
          561,
          1999,
          1619,
          1936,
          795,
          728,
          443,
          1526,
          1079,
          616,
          917,
          776,
          989,
          584,
          1118,
          893,
          1584,
          941,
          497,
          707,
          1569,
          2018,
          2227,
          849,
          1443,
          1227,
          363,
          2143,
          1713,
          801,
          1472,
          1255,
          153,
          524,
          515,
          1796,
          794,
          856,
          901,
          1402,
          2220,
          1273,
          636,
          1516,
          373,
          1386,
          1987,
          1488,
          1131,
          1412,
          964,
          690,
          757,
          1203,
          1019,
          555,
          579,
          961,
          1751,
          828,
          982,
          1083,
          1124,
          1425,
          1383,
          1858,
          911,
          1627,
          1727,
          1242,
          2290,
          558,
          2007,
          955,
          1361
         ],
         "yaxis": "y"
        }
       ],
       "layout": {
        "legend": {
         "tracegroupgap": 0
        },
        "margin": {
         "t": 60
        },
        "template": {
         "data": {
          "bar": [
           {
            "error_x": {
             "color": "#2a3f5f"
            },
            "error_y": {
             "color": "#2a3f5f"
            },
            "marker": {
             "line": {
              "color": "#E5ECF6",
              "width": 0.5
             },
             "pattern": {
              "fillmode": "overlay",
              "size": 10,
              "solidity": 0.2
             }
            },
            "type": "bar"
           }
          ],
          "barpolar": [
           {
            "marker": {
             "line": {
              "color": "#E5ECF6",
              "width": 0.5
             },
             "pattern": {
              "fillmode": "overlay",
              "size": 10,
              "solidity": 0.2
             }
            },
            "type": "barpolar"
           }
          ],
          "carpet": [
           {
            "aaxis": {
             "endlinecolor": "#2a3f5f",
             "gridcolor": "white",
             "linecolor": "white",
             "minorgridcolor": "white",
             "startlinecolor": "#2a3f5f"
            },
            "baxis": {
             "endlinecolor": "#2a3f5f",
             "gridcolor": "white",
             "linecolor": "white",
             "minorgridcolor": "white",
             "startlinecolor": "#2a3f5f"
            },
            "type": "carpet"
           }
          ],
          "choropleth": [
           {
            "colorbar": {
             "outlinewidth": 0,
             "ticks": ""
            },
            "type": "choropleth"
           }
          ],
          "contour": [
           {
            "colorbar": {
             "outlinewidth": 0,
             "ticks": ""
            },
            "colorscale": [
             [
              0,
              "#0d0887"
             ],
             [
              0.1111111111111111,
              "#46039f"
             ],
             [
              0.2222222222222222,
              "#7201a8"
             ],
             [
              0.3333333333333333,
              "#9c179e"
             ],
             [
              0.4444444444444444,
              "#bd3786"
             ],
             [
              0.5555555555555556,
              "#d8576b"
             ],
             [
              0.6666666666666666,
              "#ed7953"
             ],
             [
              0.7777777777777778,
              "#fb9f3a"
             ],
             [
              0.8888888888888888,
              "#fdca26"
             ],
             [
              1,
              "#f0f921"
             ]
            ],
            "type": "contour"
           }
          ],
          "contourcarpet": [
           {
            "colorbar": {
             "outlinewidth": 0,
             "ticks": ""
            },
            "type": "contourcarpet"
           }
          ],
          "heatmap": [
           {
            "colorbar": {
             "outlinewidth": 0,
             "ticks": ""
            },
            "colorscale": [
             [
              0,
              "#0d0887"
             ],
             [
              0.1111111111111111,
              "#46039f"
             ],
             [
              0.2222222222222222,
              "#7201a8"
             ],
             [
              0.3333333333333333,
              "#9c179e"
             ],
             [
              0.4444444444444444,
              "#bd3786"
             ],
             [
              0.5555555555555556,
              "#d8576b"
             ],
             [
              0.6666666666666666,
              "#ed7953"
             ],
             [
              0.7777777777777778,
              "#fb9f3a"
             ],
             [
              0.8888888888888888,
              "#fdca26"
             ],
             [
              1,
              "#f0f921"
             ]
            ],
            "type": "heatmap"
           }
          ],
          "heatmapgl": [
           {
            "colorbar": {
             "outlinewidth": 0,
             "ticks": ""
            },
            "colorscale": [
             [
              0,
              "#0d0887"
             ],
             [
              0.1111111111111111,
              "#46039f"
             ],
             [
              0.2222222222222222,
              "#7201a8"
             ],
             [
              0.3333333333333333,
              "#9c179e"
             ],
             [
              0.4444444444444444,
              "#bd3786"
             ],
             [
              0.5555555555555556,
              "#d8576b"
             ],
             [
              0.6666666666666666,
              "#ed7953"
             ],
             [
              0.7777777777777778,
              "#fb9f3a"
             ],
             [
              0.8888888888888888,
              "#fdca26"
             ],
             [
              1,
              "#f0f921"
             ]
            ],
            "type": "heatmapgl"
           }
          ],
          "histogram": [
           {
            "marker": {
             "pattern": {
              "fillmode": "overlay",
              "size": 10,
              "solidity": 0.2
             }
            },
            "type": "histogram"
           }
          ],
          "histogram2d": [
           {
            "colorbar": {
             "outlinewidth": 0,
             "ticks": ""
            },
            "colorscale": [
             [
              0,
              "#0d0887"
             ],
             [
              0.1111111111111111,
              "#46039f"
             ],
             [
              0.2222222222222222,
              "#7201a8"
             ],
             [
              0.3333333333333333,
              "#9c179e"
             ],
             [
              0.4444444444444444,
              "#bd3786"
             ],
             [
              0.5555555555555556,
              "#d8576b"
             ],
             [
              0.6666666666666666,
              "#ed7953"
             ],
             [
              0.7777777777777778,
              "#fb9f3a"
             ],
             [
              0.8888888888888888,
              "#fdca26"
             ],
             [
              1,
              "#f0f921"
             ]
            ],
            "type": "histogram2d"
           }
          ],
          "histogram2dcontour": [
           {
            "colorbar": {
             "outlinewidth": 0,
             "ticks": ""
            },
            "colorscale": [
             [
              0,
              "#0d0887"
             ],
             [
              0.1111111111111111,
              "#46039f"
             ],
             [
              0.2222222222222222,
              "#7201a8"
             ],
             [
              0.3333333333333333,
              "#9c179e"
             ],
             [
              0.4444444444444444,
              "#bd3786"
             ],
             [
              0.5555555555555556,
              "#d8576b"
             ],
             [
              0.6666666666666666,
              "#ed7953"
             ],
             [
              0.7777777777777778,
              "#fb9f3a"
             ],
             [
              0.8888888888888888,
              "#fdca26"
             ],
             [
              1,
              "#f0f921"
             ]
            ],
            "type": "histogram2dcontour"
           }
          ],
          "mesh3d": [
           {
            "colorbar": {
             "outlinewidth": 0,
             "ticks": ""
            },
            "type": "mesh3d"
           }
          ],
          "parcoords": [
           {
            "line": {
             "colorbar": {
              "outlinewidth": 0,
              "ticks": ""
             }
            },
            "type": "parcoords"
           }
          ],
          "pie": [
           {
            "automargin": true,
            "type": "pie"
           }
          ],
          "scatter": [
           {
            "fillpattern": {
             "fillmode": "overlay",
             "size": 10,
             "solidity": 0.2
            },
            "type": "scatter"
           }
          ],
          "scatter3d": [
           {
            "line": {
             "colorbar": {
              "outlinewidth": 0,
              "ticks": ""
             }
            },
            "marker": {
             "colorbar": {
              "outlinewidth": 0,
              "ticks": ""
             }
            },
            "type": "scatter3d"
           }
          ],
          "scattercarpet": [
           {
            "marker": {
             "colorbar": {
              "outlinewidth": 0,
              "ticks": ""
             }
            },
            "type": "scattercarpet"
           }
          ],
          "scattergeo": [
           {
            "marker": {
             "colorbar": {
              "outlinewidth": 0,
              "ticks": ""
             }
            },
            "type": "scattergeo"
           }
          ],
          "scattergl": [
           {
            "marker": {
             "colorbar": {
              "outlinewidth": 0,
              "ticks": ""
             }
            },
            "type": "scattergl"
           }
          ],
          "scattermapbox": [
           {
            "marker": {
             "colorbar": {
              "outlinewidth": 0,
              "ticks": ""
             }
            },
            "type": "scattermapbox"
           }
          ],
          "scatterpolar": [
           {
            "marker": {
             "colorbar": {
              "outlinewidth": 0,
              "ticks": ""
             }
            },
            "type": "scatterpolar"
           }
          ],
          "scatterpolargl": [
           {
            "marker": {
             "colorbar": {
              "outlinewidth": 0,
              "ticks": ""
             }
            },
            "type": "scatterpolargl"
           }
          ],
          "scatterternary": [
           {
            "marker": {
             "colorbar": {
              "outlinewidth": 0,
              "ticks": ""
             }
            },
            "type": "scatterternary"
           }
          ],
          "surface": [
           {
            "colorbar": {
             "outlinewidth": 0,
             "ticks": ""
            },
            "colorscale": [
             [
              0,
              "#0d0887"
             ],
             [
              0.1111111111111111,
              "#46039f"
             ],
             [
              0.2222222222222222,
              "#7201a8"
             ],
             [
              0.3333333333333333,
              "#9c179e"
             ],
             [
              0.4444444444444444,
              "#bd3786"
             ],
             [
              0.5555555555555556,
              "#d8576b"
             ],
             [
              0.6666666666666666,
              "#ed7953"
             ],
             [
              0.7777777777777778,
              "#fb9f3a"
             ],
             [
              0.8888888888888888,
              "#fdca26"
             ],
             [
              1,
              "#f0f921"
             ]
            ],
            "type": "surface"
           }
          ],
          "table": [
           {
            "cells": {
             "fill": {
              "color": "#EBF0F8"
             },
             "line": {
              "color": "white"
             }
            },
            "header": {
             "fill": {
              "color": "#C8D4E3"
             },
             "line": {
              "color": "white"
             }
            },
            "type": "table"
           }
          ]
         },
         "layout": {
          "annotationdefaults": {
           "arrowcolor": "#2a3f5f",
           "arrowhead": 0,
           "arrowwidth": 1
          },
          "autotypenumbers": "strict",
          "coloraxis": {
           "colorbar": {
            "outlinewidth": 0,
            "ticks": ""
           }
          },
          "colorscale": {
           "diverging": [
            [
             0,
             "#8e0152"
            ],
            [
             0.1,
             "#c51b7d"
            ],
            [
             0.2,
             "#de77ae"
            ],
            [
             0.3,
             "#f1b6da"
            ],
            [
             0.4,
             "#fde0ef"
            ],
            [
             0.5,
             "#f7f7f7"
            ],
            [
             0.6,
             "#e6f5d0"
            ],
            [
             0.7,
             "#b8e186"
            ],
            [
             0.8,
             "#7fbc41"
            ],
            [
             0.9,
             "#4d9221"
            ],
            [
             1,
             "#276419"
            ]
           ],
           "sequential": [
            [
             0,
             "#0d0887"
            ],
            [
             0.1111111111111111,
             "#46039f"
            ],
            [
             0.2222222222222222,
             "#7201a8"
            ],
            [
             0.3333333333333333,
             "#9c179e"
            ],
            [
             0.4444444444444444,
             "#bd3786"
            ],
            [
             0.5555555555555556,
             "#d8576b"
            ],
            [
             0.6666666666666666,
             "#ed7953"
            ],
            [
             0.7777777777777778,
             "#fb9f3a"
            ],
            [
             0.8888888888888888,
             "#fdca26"
            ],
            [
             1,
             "#f0f921"
            ]
           ],
           "sequentialminus": [
            [
             0,
             "#0d0887"
            ],
            [
             0.1111111111111111,
             "#46039f"
            ],
            [
             0.2222222222222222,
             "#7201a8"
            ],
            [
             0.3333333333333333,
             "#9c179e"
            ],
            [
             0.4444444444444444,
             "#bd3786"
            ],
            [
             0.5555555555555556,
             "#d8576b"
            ],
            [
             0.6666666666666666,
             "#ed7953"
            ],
            [
             0.7777777777777778,
             "#fb9f3a"
            ],
            [
             0.8888888888888888,
             "#fdca26"
            ],
            [
             1,
             "#f0f921"
            ]
           ]
          },
          "colorway": [
           "#636efa",
           "#EF553B",
           "#00cc96",
           "#ab63fa",
           "#FFA15A",
           "#19d3f3",
           "#FF6692",
           "#B6E880",
           "#FF97FF",
           "#FECB52"
          ],
          "font": {
           "color": "#2a3f5f"
          },
          "geo": {
           "bgcolor": "white",
           "lakecolor": "white",
           "landcolor": "#E5ECF6",
           "showlakes": true,
           "showland": true,
           "subunitcolor": "white"
          },
          "hoverlabel": {
           "align": "left"
          },
          "hovermode": "closest",
          "mapbox": {
           "style": "light"
          },
          "paper_bgcolor": "white",
          "plot_bgcolor": "#E5ECF6",
          "polar": {
           "angularaxis": {
            "gridcolor": "white",
            "linecolor": "white",
            "ticks": ""
           },
           "bgcolor": "#E5ECF6",
           "radialaxis": {
            "gridcolor": "white",
            "linecolor": "white",
            "ticks": ""
           }
          },
          "scene": {
           "xaxis": {
            "backgroundcolor": "#E5ECF6",
            "gridcolor": "white",
            "gridwidth": 2,
            "linecolor": "white",
            "showbackground": true,
            "ticks": "",
            "zerolinecolor": "white"
           },
           "yaxis": {
            "backgroundcolor": "#E5ECF6",
            "gridcolor": "white",
            "gridwidth": 2,
            "linecolor": "white",
            "showbackground": true,
            "ticks": "",
            "zerolinecolor": "white"
           },
           "zaxis": {
            "backgroundcolor": "#E5ECF6",
            "gridcolor": "white",
            "gridwidth": 2,
            "linecolor": "white",
            "showbackground": true,
            "ticks": "",
            "zerolinecolor": "white"
           }
          },
          "shapedefaults": {
           "line": {
            "color": "#2a3f5f"
           }
          },
          "ternary": {
           "aaxis": {
            "gridcolor": "white",
            "linecolor": "white",
            "ticks": ""
           },
           "baxis": {
            "gridcolor": "white",
            "linecolor": "white",
            "ticks": ""
           },
           "bgcolor": "#E5ECF6",
           "caxis": {
            "gridcolor": "white",
            "linecolor": "white",
            "ticks": ""
           }
          },
          "title": {
           "x": 0.05
          },
          "xaxis": {
           "automargin": true,
           "gridcolor": "white",
           "linecolor": "white",
           "ticks": "",
           "title": {
            "standoff": 15
           },
           "zerolinecolor": "white",
           "zerolinewidth": 2
          },
          "yaxis": {
           "automargin": true,
           "gridcolor": "white",
           "linecolor": "white",
           "ticks": "",
           "title": {
            "standoff": 15
           },
           "zerolinecolor": "white",
           "zerolinewidth": 2
          }
         }
        },
        "xaxis": {
         "anchor": "y",
         "domain": [
          0,
          1
         ],
         "title": {
          "text": "Goals + Assists"
         }
        },
        "yaxis": {
         "anchor": "x",
         "domain": [
          0,
          1
         ],
         "title": {
          "text": "Minutes Played"
         }
        }
       }
      }
     },
     "metadata": {},
     "output_type": "display_data"
    }
   ],
   "source": [
    "# Identifying general playmakers in the strikers_under_23 dataframe.\n",
    "px.scatter(strikers_under_23, x='Goals + Assists', y='Minutes Played', hover_data=['Player'])"
   ]
  },
  {
   "cell_type": "code",
   "execution_count": 61,
   "metadata": {},
   "outputs": [
    {
     "data": {
      "text/html": [
       "<div>\n",
       "<style scoped>\n",
       "    .dataframe tbody tr th:only-of-type {\n",
       "        vertical-align: middle;\n",
       "    }\n",
       "\n",
       "    .dataframe tbody tr th {\n",
       "        vertical-align: top;\n",
       "    }\n",
       "\n",
       "    .dataframe thead th {\n",
       "        text-align: right;\n",
       "    }\n",
       "</style>\n",
       "<table border=\"1\" class=\"dataframe\">\n",
       "  <thead>\n",
       "    <tr style=\"text-align: right;\">\n",
       "      <th></th>\n",
       "      <th>Player</th>\n",
       "      <th>Nation</th>\n",
       "      <th>Position</th>\n",
       "      <th>Squad</th>\n",
       "      <th>Age</th>\n",
       "      <th>Born</th>\n",
       "      <th>Matches Played</th>\n",
       "      <th>Minutes Played</th>\n",
       "      <th>Goals</th>\n",
       "      <th>Assists</th>\n",
       "      <th>Goals + Assists</th>\n",
       "      <th>Expected Goals</th>\n",
       "      <th>Expected Assists</th>\n",
       "      <th>Expected Goals + Assists</th>\n",
       "      <th>Goals per 90</th>\n",
       "      <th>Assists per 90</th>\n",
       "      <th>Goals + Assists per 90</th>\n",
       "      <th>Expected Goals per 90</th>\n",
       "      <th>Expected Assists per 90</th>\n",
       "      <th>Expected Goals + Assists per 90</th>\n",
       "    </tr>\n",
       "  </thead>\n",
       "  <tbody>\n",
       "    <tr>\n",
       "      <th>704</th>\n",
       "      <td>Kevin Denkey</td>\n",
       "      <td>tg TOG</td>\n",
       "      <td>FW</td>\n",
       "      <td>Cercle Brugge</td>\n",
       "      <td>23-096</td>\n",
       "      <td>2000</td>\n",
       "      <td>26</td>\n",
       "      <td>2314</td>\n",
       "      <td>22</td>\n",
       "      <td>0</td>\n",
       "      <td>22</td>\n",
       "      <td>18.0</td>\n",
       "      <td>2.7</td>\n",
       "      <td>18.3</td>\n",
       "      <td>0.86</td>\n",
       "      <td>0.00</td>\n",
       "      <td>0.86</td>\n",
       "      <td>0.70</td>\n",
       "      <td>0.10</td>\n",
       "      <td>0.81</td>\n",
       "    </tr>\n",
       "    <tr>\n",
       "      <th>609</th>\n",
       "      <td>Mohamed El Amine Amoura</td>\n",
       "      <td>dz ALG</td>\n",
       "      <td>FW</td>\n",
       "      <td>Union SG</td>\n",
       "      <td>23-301</td>\n",
       "      <td>2000</td>\n",
       "      <td>22</td>\n",
       "      <td>1360</td>\n",
       "      <td>17</td>\n",
       "      <td>2</td>\n",
       "      <td>19</td>\n",
       "      <td>10.6</td>\n",
       "      <td>2.2</td>\n",
       "      <td>12.0</td>\n",
       "      <td>1.13</td>\n",
       "      <td>0.13</td>\n",
       "      <td>1.26</td>\n",
       "      <td>0.70</td>\n",
       "      <td>0.14</td>\n",
       "      <td>0.84</td>\n",
       "    </tr>\n",
       "    <tr>\n",
       "      <th>993</th>\n",
       "      <td>Thiago</td>\n",
       "      <td>br BRA</td>\n",
       "      <td>FW</td>\n",
       "      <td>Club Brugge</td>\n",
       "      <td>22-253</td>\n",
       "      <td>2001</td>\n",
       "      <td>25</td>\n",
       "      <td>1750</td>\n",
       "      <td>16</td>\n",
       "      <td>2</td>\n",
       "      <td>18</td>\n",
       "      <td>16.2</td>\n",
       "      <td>3.0</td>\n",
       "      <td>13.7</td>\n",
       "      <td>0.82</td>\n",
       "      <td>0.10</td>\n",
       "      <td>0.93</td>\n",
       "      <td>0.83</td>\n",
       "      <td>0.16</td>\n",
       "      <td>0.99</td>\n",
       "    </tr>\n",
       "    <tr>\n",
       "      <th>2474</th>\n",
       "      <td>Peque</td>\n",
       "      <td>es ESP</td>\n",
       "      <td>MF,FW</td>\n",
       "      <td>Racing Sant</td>\n",
       "      <td>21-153</td>\n",
       "      <td>2002</td>\n",
       "      <td>28</td>\n",
       "      <td>1943</td>\n",
       "      <td>14</td>\n",
       "      <td>1</td>\n",
       "      <td>15</td>\n",
       "      <td>10.3</td>\n",
       "      <td>2.0</td>\n",
       "      <td>6.8</td>\n",
       "      <td>0.65</td>\n",
       "      <td>0.05</td>\n",
       "      <td>0.69</td>\n",
       "      <td>0.48</td>\n",
       "      <td>0.09</td>\n",
       "      <td>0.57</td>\n",
       "    </tr>\n",
       "    <tr>\n",
       "      <th>559</th>\n",
       "      <td>Christos Tzolis</td>\n",
       "      <td>gr GRE</td>\n",
       "      <td>FW,MF</td>\n",
       "      <td>Düsseldorf</td>\n",
       "      <td>22-035</td>\n",
       "      <td>2002</td>\n",
       "      <td>21</td>\n",
       "      <td>1578</td>\n",
       "      <td>13</td>\n",
       "      <td>3</td>\n",
       "      <td>16</td>\n",
       "      <td>10.7</td>\n",
       "      <td>3.2</td>\n",
       "      <td>10.8</td>\n",
       "      <td>0.74</td>\n",
       "      <td>0.17</td>\n",
       "      <td>0.91</td>\n",
       "      <td>0.61</td>\n",
       "      <td>0.18</td>\n",
       "      <td>0.79</td>\n",
       "    </tr>\n",
       "    <tr>\n",
       "      <th>582</th>\n",
       "      <td>Can Yılmaz Uzun</td>\n",
       "      <td>tr TUR</td>\n",
       "      <td>MF,FW</td>\n",
       "      <td>Nürnberg</td>\n",
       "      <td>18-115</td>\n",
       "      <td>2005</td>\n",
       "      <td>21</td>\n",
       "      <td>1366</td>\n",
       "      <td>12</td>\n",
       "      <td>1</td>\n",
       "      <td>13</td>\n",
       "      <td>7.1</td>\n",
       "      <td>1.7</td>\n",
       "      <td>5.6</td>\n",
       "      <td>0.79</td>\n",
       "      <td>0.07</td>\n",
       "      <td>0.86</td>\n",
       "      <td>0.47</td>\n",
       "      <td>0.11</td>\n",
       "      <td>0.58</td>\n",
       "    </tr>\n",
       "    <tr>\n",
       "      <th>830</th>\n",
       "      <td>Nicolas Madsen</td>\n",
       "      <td>dk DEN</td>\n",
       "      <td>MF</td>\n",
       "      <td>Westerlo</td>\n",
       "      <td>23-354</td>\n",
       "      <td>2000</td>\n",
       "      <td>25</td>\n",
       "      <td>1931</td>\n",
       "      <td>12</td>\n",
       "      <td>0</td>\n",
       "      <td>12</td>\n",
       "      <td>8.2</td>\n",
       "      <td>3.7</td>\n",
       "      <td>5.6</td>\n",
       "      <td>0.56</td>\n",
       "      <td>0.00</td>\n",
       "      <td>0.56</td>\n",
       "      <td>0.38</td>\n",
       "      <td>0.17</td>\n",
       "      <td>0.55</td>\n",
       "    </tr>\n",
       "    <tr>\n",
       "      <th>1534</th>\n",
       "      <td>Sambou Soumano</td>\n",
       "      <td>sn SEN</td>\n",
       "      <td>FW</td>\n",
       "      <td>Quevilly-Rouen</td>\n",
       "      <td>23-062</td>\n",
       "      <td>2001</td>\n",
       "      <td>26</td>\n",
       "      <td>1981</td>\n",
       "      <td>11</td>\n",
       "      <td>1</td>\n",
       "      <td>12</td>\n",
       "      <td>7.8</td>\n",
       "      <td>2.0</td>\n",
       "      <td>9.8</td>\n",
       "      <td>0.50</td>\n",
       "      <td>0.05</td>\n",
       "      <td>0.55</td>\n",
       "      <td>0.35</td>\n",
       "      <td>0.09</td>\n",
       "      <td>0.44</td>\n",
       "    </tr>\n",
       "    <tr>\n",
       "      <th>2253</th>\n",
       "      <td>Álex Forés</td>\n",
       "      <td>es ESP</td>\n",
       "      <td>FW</td>\n",
       "      <td>Villarreal B</td>\n",
       "      <td>22-328</td>\n",
       "      <td>2001</td>\n",
       "      <td>29</td>\n",
       "      <td>2045</td>\n",
       "      <td>11</td>\n",
       "      <td>1</td>\n",
       "      <td>12</td>\n",
       "      <td>8.1</td>\n",
       "      <td>1.5</td>\n",
       "      <td>9.6</td>\n",
       "      <td>0.48</td>\n",
       "      <td>0.04</td>\n",
       "      <td>0.53</td>\n",
       "      <td>0.36</td>\n",
       "      <td>0.07</td>\n",
       "      <td>0.42</td>\n",
       "    </tr>\n",
       "    <tr>\n",
       "      <th>2378</th>\n",
       "      <td>Carlos Martín</td>\n",
       "      <td>es ESP</td>\n",
       "      <td>MF,FW</td>\n",
       "      <td>CD Mirandés</td>\n",
       "      <td>21-318</td>\n",
       "      <td>2002</td>\n",
       "      <td>27</td>\n",
       "      <td>1880</td>\n",
       "      <td>11</td>\n",
       "      <td>2</td>\n",
       "      <td>13</td>\n",
       "      <td>9.1</td>\n",
       "      <td>2.2</td>\n",
       "      <td>8.2</td>\n",
       "      <td>0.53</td>\n",
       "      <td>0.10</td>\n",
       "      <td>0.62</td>\n",
       "      <td>0.43</td>\n",
       "      <td>0.10</td>\n",
       "      <td>0.54</td>\n",
       "    </tr>\n",
       "  </tbody>\n",
       "</table>\n",
       "</div>"
      ],
      "text/plain": [
       "                       Player  Nation Position           Squad     Age  Born  \\\n",
       "704              Kevin Denkey  tg TOG       FW   Cercle Brugge  23-096  2000   \n",
       "609   Mohamed El Amine Amoura  dz ALG       FW        Union SG  23-301  2000   \n",
       "993                    Thiago  br BRA       FW     Club Brugge  22-253  2001   \n",
       "2474                    Peque  es ESP    MF,FW     Racing Sant  21-153  2002   \n",
       "559           Christos Tzolis  gr GRE    FW,MF      Düsseldorf  22-035  2002   \n",
       "582           Can Yılmaz Uzun  tr TUR    MF,FW        Nürnberg  18-115  2005   \n",
       "830            Nicolas Madsen  dk DEN       MF        Westerlo  23-354  2000   \n",
       "1534           Sambou Soumano  sn SEN       FW  Quevilly-Rouen  23-062  2001   \n",
       "2253               Álex Forés  es ESP       FW    Villarreal B  22-328  2001   \n",
       "2378            Carlos Martín  es ESP    MF,FW     CD Mirandés  21-318  2002   \n",
       "\n",
       "      Matches Played  Minutes Played  Goals  Assists  Goals + Assists  \\\n",
       "704               26            2314     22        0               22   \n",
       "609               22            1360     17        2               19   \n",
       "993               25            1750     16        2               18   \n",
       "2474              28            1943     14        1               15   \n",
       "559               21            1578     13        3               16   \n",
       "582               21            1366     12        1               13   \n",
       "830               25            1931     12        0               12   \n",
       "1534              26            1981     11        1               12   \n",
       "2253              29            2045     11        1               12   \n",
       "2378              27            1880     11        2               13   \n",
       "\n",
       "      Expected Goals  Expected Assists  Expected Goals + Assists  \\\n",
       "704             18.0               2.7                      18.3   \n",
       "609             10.6               2.2                      12.0   \n",
       "993             16.2               3.0                      13.7   \n",
       "2474            10.3               2.0                       6.8   \n",
       "559             10.7               3.2                      10.8   \n",
       "582              7.1               1.7                       5.6   \n",
       "830              8.2               3.7                       5.6   \n",
       "1534             7.8               2.0                       9.8   \n",
       "2253             8.1               1.5                       9.6   \n",
       "2378             9.1               2.2                       8.2   \n",
       "\n",
       "      Goals per 90  Assists per 90  Goals + Assists per 90  \\\n",
       "704           0.86            0.00                    0.86   \n",
       "609           1.13            0.13                    1.26   \n",
       "993           0.82            0.10                    0.93   \n",
       "2474          0.65            0.05                    0.69   \n",
       "559           0.74            0.17                    0.91   \n",
       "582           0.79            0.07                    0.86   \n",
       "830           0.56            0.00                    0.56   \n",
       "1534          0.50            0.05                    0.55   \n",
       "2253          0.48            0.04                    0.53   \n",
       "2378          0.53            0.10                    0.62   \n",
       "\n",
       "      Expected Goals per 90  Expected Assists per 90  \\\n",
       "704                    0.70                     0.10   \n",
       "609                    0.70                     0.14   \n",
       "993                    0.83                     0.16   \n",
       "2474                   0.48                     0.09   \n",
       "559                    0.61                     0.18   \n",
       "582                    0.47                     0.11   \n",
       "830                    0.38                     0.17   \n",
       "1534                   0.35                     0.09   \n",
       "2253                   0.36                     0.07   \n",
       "2378                   0.43                     0.10   \n",
       "\n",
       "      Expected Goals + Assists per 90  \n",
       "704                              0.81  \n",
       "609                              0.84  \n",
       "993                              0.99  \n",
       "2474                             0.57  \n",
       "559                              0.79  \n",
       "582                              0.58  \n",
       "830                              0.55  \n",
       "1534                             0.44  \n",
       "2253                             0.42  \n",
       "2378                             0.54  "
      ]
     },
     "execution_count": 61,
     "metadata": {},
     "output_type": "execute_result"
    }
   ],
   "source": [
    "good_u23_goals = strikers_under_23.nlargest(30, 'Goals')\n",
    "good_u23_goals.head(10)\n"
   ]
  },
  {
   "cell_type": "code",
   "execution_count": 62,
   "metadata": {},
   "outputs": [
    {
     "data": {
      "application/vnd.plotly.v1+json": {
       "config": {
        "plotlyServerURL": "https://plot.ly"
       },
       "data": [
        {
         "alignmentgroup": "True",
         "hovertemplate": "Metric=Goals per 90<br>Goals Scored=%{x}<br>Player=%{y}<extra></extra>",
         "legendgroup": "Goals per 90",
         "marker": {
          "color": "#636efa",
          "pattern": {
           "shape": ""
          }
         },
         "name": "Goals per 90",
         "offsetgroup": "Goals per 90",
         "orientation": "h",
         "showlegend": true,
         "textposition": "auto",
         "type": "bar",
         "x": [
          0.27,
          0.29,
          0.33,
          0.38,
          0.4,
          0.4,
          0.41,
          0.44,
          0.44,
          0.48,
          0.5,
          0.53,
          0.56,
          0.57,
          0.57,
          0.57,
          0.57,
          0.59,
          0.6,
          0.62,
          0.65,
          0.7,
          0.74,
          0.79,
          0.79,
          0.81,
          0.82,
          0.86,
          1.04,
          1.13
         ],
         "xaxis": "x",
         "y": [
          "Losada",
          "Amine El Ouazzani",
          "Killian Corredor",
          "Rafiki Said",
          "Isaak Davies",
          "Diego",
          "Gaspar Campos",
          "Žan Vipotnik",
          "Antonio Raimondo",
          "Álex Forés",
          "Sambou Soumano",
          "Carlos Martín",
          "Nicolas Madsen",
          "Arana",
          "Andreas Hountondji",
          "Adrian Benedyczak",
          "Armindo Sieb",
          "Gennaro Borrelli",
          "Igor Matanovic",
          "Tolu Arokodare",
          "Peque",
          "Alejandro Marqués",
          "Christos Tzolis",
          "Can Yılmaz Uzun",
          "George Ilenikhena",
          "Samuel Ntamack",
          "Thiago",
          "Kevin Denkey",
          "Luis Vázquez",
          "Mohamed El Amine Amoura"
         ],
         "yaxis": "y"
        },
        {
         "alignmentgroup": "True",
         "hovertemplate": "Metric=Goals<br>Goals Scored=%{x}<br>Player=%{y}<extra></extra>",
         "legendgroup": "Goals",
         "marker": {
          "color": "#EF553B",
          "pattern": {
           "shape": ""
          }
         },
         "name": "Goals",
         "offsetgroup": "Goals",
         "orientation": "h",
         "showlegend": true,
         "textposition": "auto",
         "type": "bar",
         "x": [
          7,
          7,
          7,
          7,
          7,
          8,
          8,
          8,
          8,
          8,
          9,
          9,
          9,
          9,
          9,
          9,
          9,
          10,
          10,
          10,
          11,
          11,
          11,
          12,
          12,
          13,
          14,
          16,
          17,
          22
         ],
         "xaxis": "x",
         "y": [
          "Losada",
          "Luis Vázquez",
          "George Ilenikhena",
          "Isaak Davies",
          "Amine El Ouazzani",
          "Gennaro Borrelli",
          "Žan Vipotnik",
          "Rafiki Said",
          "Killian Corredor",
          "Tolu Arokodare",
          "Armindo Sieb",
          "Samuel Ntamack",
          "Arana",
          "Gaspar Campos",
          "Diego",
          "Antonio Raimondo",
          "Alejandro Marqués",
          "Adrian Benedyczak",
          "Andreas Hountondji",
          "Igor Matanovic",
          "Sambou Soumano",
          "Carlos Martín",
          "Álex Forés",
          "Nicolas Madsen",
          "Can Yılmaz Uzun",
          "Christos Tzolis",
          "Peque",
          "Thiago",
          "Mohamed El Amine Amoura",
          "Kevin Denkey"
         ],
         "yaxis": "y"
        }
       ],
       "layout": {
        "barmode": "relative",
        "height": 600,
        "legend": {
         "title": {
          "text": "Metric"
         },
         "tracegroupgap": 0
        },
        "template": {
         "data": {
          "bar": [
           {
            "error_x": {
             "color": "#2a3f5f"
            },
            "error_y": {
             "color": "#2a3f5f"
            },
            "marker": {
             "line": {
              "color": "#E5ECF6",
              "width": 0.5
             },
             "pattern": {
              "fillmode": "overlay",
              "size": 10,
              "solidity": 0.2
             }
            },
            "type": "bar"
           }
          ],
          "barpolar": [
           {
            "marker": {
             "line": {
              "color": "#E5ECF6",
              "width": 0.5
             },
             "pattern": {
              "fillmode": "overlay",
              "size": 10,
              "solidity": 0.2
             }
            },
            "type": "barpolar"
           }
          ],
          "carpet": [
           {
            "aaxis": {
             "endlinecolor": "#2a3f5f",
             "gridcolor": "white",
             "linecolor": "white",
             "minorgridcolor": "white",
             "startlinecolor": "#2a3f5f"
            },
            "baxis": {
             "endlinecolor": "#2a3f5f",
             "gridcolor": "white",
             "linecolor": "white",
             "minorgridcolor": "white",
             "startlinecolor": "#2a3f5f"
            },
            "type": "carpet"
           }
          ],
          "choropleth": [
           {
            "colorbar": {
             "outlinewidth": 0,
             "ticks": ""
            },
            "type": "choropleth"
           }
          ],
          "contour": [
           {
            "colorbar": {
             "outlinewidth": 0,
             "ticks": ""
            },
            "colorscale": [
             [
              0,
              "#0d0887"
             ],
             [
              0.1111111111111111,
              "#46039f"
             ],
             [
              0.2222222222222222,
              "#7201a8"
             ],
             [
              0.3333333333333333,
              "#9c179e"
             ],
             [
              0.4444444444444444,
              "#bd3786"
             ],
             [
              0.5555555555555556,
              "#d8576b"
             ],
             [
              0.6666666666666666,
              "#ed7953"
             ],
             [
              0.7777777777777778,
              "#fb9f3a"
             ],
             [
              0.8888888888888888,
              "#fdca26"
             ],
             [
              1,
              "#f0f921"
             ]
            ],
            "type": "contour"
           }
          ],
          "contourcarpet": [
           {
            "colorbar": {
             "outlinewidth": 0,
             "ticks": ""
            },
            "type": "contourcarpet"
           }
          ],
          "heatmap": [
           {
            "colorbar": {
             "outlinewidth": 0,
             "ticks": ""
            },
            "colorscale": [
             [
              0,
              "#0d0887"
             ],
             [
              0.1111111111111111,
              "#46039f"
             ],
             [
              0.2222222222222222,
              "#7201a8"
             ],
             [
              0.3333333333333333,
              "#9c179e"
             ],
             [
              0.4444444444444444,
              "#bd3786"
             ],
             [
              0.5555555555555556,
              "#d8576b"
             ],
             [
              0.6666666666666666,
              "#ed7953"
             ],
             [
              0.7777777777777778,
              "#fb9f3a"
             ],
             [
              0.8888888888888888,
              "#fdca26"
             ],
             [
              1,
              "#f0f921"
             ]
            ],
            "type": "heatmap"
           }
          ],
          "heatmapgl": [
           {
            "colorbar": {
             "outlinewidth": 0,
             "ticks": ""
            },
            "colorscale": [
             [
              0,
              "#0d0887"
             ],
             [
              0.1111111111111111,
              "#46039f"
             ],
             [
              0.2222222222222222,
              "#7201a8"
             ],
             [
              0.3333333333333333,
              "#9c179e"
             ],
             [
              0.4444444444444444,
              "#bd3786"
             ],
             [
              0.5555555555555556,
              "#d8576b"
             ],
             [
              0.6666666666666666,
              "#ed7953"
             ],
             [
              0.7777777777777778,
              "#fb9f3a"
             ],
             [
              0.8888888888888888,
              "#fdca26"
             ],
             [
              1,
              "#f0f921"
             ]
            ],
            "type": "heatmapgl"
           }
          ],
          "histogram": [
           {
            "marker": {
             "pattern": {
              "fillmode": "overlay",
              "size": 10,
              "solidity": 0.2
             }
            },
            "type": "histogram"
           }
          ],
          "histogram2d": [
           {
            "colorbar": {
             "outlinewidth": 0,
             "ticks": ""
            },
            "colorscale": [
             [
              0,
              "#0d0887"
             ],
             [
              0.1111111111111111,
              "#46039f"
             ],
             [
              0.2222222222222222,
              "#7201a8"
             ],
             [
              0.3333333333333333,
              "#9c179e"
             ],
             [
              0.4444444444444444,
              "#bd3786"
             ],
             [
              0.5555555555555556,
              "#d8576b"
             ],
             [
              0.6666666666666666,
              "#ed7953"
             ],
             [
              0.7777777777777778,
              "#fb9f3a"
             ],
             [
              0.8888888888888888,
              "#fdca26"
             ],
             [
              1,
              "#f0f921"
             ]
            ],
            "type": "histogram2d"
           }
          ],
          "histogram2dcontour": [
           {
            "colorbar": {
             "outlinewidth": 0,
             "ticks": ""
            },
            "colorscale": [
             [
              0,
              "#0d0887"
             ],
             [
              0.1111111111111111,
              "#46039f"
             ],
             [
              0.2222222222222222,
              "#7201a8"
             ],
             [
              0.3333333333333333,
              "#9c179e"
             ],
             [
              0.4444444444444444,
              "#bd3786"
             ],
             [
              0.5555555555555556,
              "#d8576b"
             ],
             [
              0.6666666666666666,
              "#ed7953"
             ],
             [
              0.7777777777777778,
              "#fb9f3a"
             ],
             [
              0.8888888888888888,
              "#fdca26"
             ],
             [
              1,
              "#f0f921"
             ]
            ],
            "type": "histogram2dcontour"
           }
          ],
          "mesh3d": [
           {
            "colorbar": {
             "outlinewidth": 0,
             "ticks": ""
            },
            "type": "mesh3d"
           }
          ],
          "parcoords": [
           {
            "line": {
             "colorbar": {
              "outlinewidth": 0,
              "ticks": ""
             }
            },
            "type": "parcoords"
           }
          ],
          "pie": [
           {
            "automargin": true,
            "type": "pie"
           }
          ],
          "scatter": [
           {
            "fillpattern": {
             "fillmode": "overlay",
             "size": 10,
             "solidity": 0.2
            },
            "type": "scatter"
           }
          ],
          "scatter3d": [
           {
            "line": {
             "colorbar": {
              "outlinewidth": 0,
              "ticks": ""
             }
            },
            "marker": {
             "colorbar": {
              "outlinewidth": 0,
              "ticks": ""
             }
            },
            "type": "scatter3d"
           }
          ],
          "scattercarpet": [
           {
            "marker": {
             "colorbar": {
              "outlinewidth": 0,
              "ticks": ""
             }
            },
            "type": "scattercarpet"
           }
          ],
          "scattergeo": [
           {
            "marker": {
             "colorbar": {
              "outlinewidth": 0,
              "ticks": ""
             }
            },
            "type": "scattergeo"
           }
          ],
          "scattergl": [
           {
            "marker": {
             "colorbar": {
              "outlinewidth": 0,
              "ticks": ""
             }
            },
            "type": "scattergl"
           }
          ],
          "scattermapbox": [
           {
            "marker": {
             "colorbar": {
              "outlinewidth": 0,
              "ticks": ""
             }
            },
            "type": "scattermapbox"
           }
          ],
          "scatterpolar": [
           {
            "marker": {
             "colorbar": {
              "outlinewidth": 0,
              "ticks": ""
             }
            },
            "type": "scatterpolar"
           }
          ],
          "scatterpolargl": [
           {
            "marker": {
             "colorbar": {
              "outlinewidth": 0,
              "ticks": ""
             }
            },
            "type": "scatterpolargl"
           }
          ],
          "scatterternary": [
           {
            "marker": {
             "colorbar": {
              "outlinewidth": 0,
              "ticks": ""
             }
            },
            "type": "scatterternary"
           }
          ],
          "surface": [
           {
            "colorbar": {
             "outlinewidth": 0,
             "ticks": ""
            },
            "colorscale": [
             [
              0,
              "#0d0887"
             ],
             [
              0.1111111111111111,
              "#46039f"
             ],
             [
              0.2222222222222222,
              "#7201a8"
             ],
             [
              0.3333333333333333,
              "#9c179e"
             ],
             [
              0.4444444444444444,
              "#bd3786"
             ],
             [
              0.5555555555555556,
              "#d8576b"
             ],
             [
              0.6666666666666666,
              "#ed7953"
             ],
             [
              0.7777777777777778,
              "#fb9f3a"
             ],
             [
              0.8888888888888888,
              "#fdca26"
             ],
             [
              1,
              "#f0f921"
             ]
            ],
            "type": "surface"
           }
          ],
          "table": [
           {
            "cells": {
             "fill": {
              "color": "#EBF0F8"
             },
             "line": {
              "color": "white"
             }
            },
            "header": {
             "fill": {
              "color": "#C8D4E3"
             },
             "line": {
              "color": "white"
             }
            },
            "type": "table"
           }
          ]
         },
         "layout": {
          "annotationdefaults": {
           "arrowcolor": "#2a3f5f",
           "arrowhead": 0,
           "arrowwidth": 1
          },
          "autotypenumbers": "strict",
          "coloraxis": {
           "colorbar": {
            "outlinewidth": 0,
            "ticks": ""
           }
          },
          "colorscale": {
           "diverging": [
            [
             0,
             "#8e0152"
            ],
            [
             0.1,
             "#c51b7d"
            ],
            [
             0.2,
             "#de77ae"
            ],
            [
             0.3,
             "#f1b6da"
            ],
            [
             0.4,
             "#fde0ef"
            ],
            [
             0.5,
             "#f7f7f7"
            ],
            [
             0.6,
             "#e6f5d0"
            ],
            [
             0.7,
             "#b8e186"
            ],
            [
             0.8,
             "#7fbc41"
            ],
            [
             0.9,
             "#4d9221"
            ],
            [
             1,
             "#276419"
            ]
           ],
           "sequential": [
            [
             0,
             "#0d0887"
            ],
            [
             0.1111111111111111,
             "#46039f"
            ],
            [
             0.2222222222222222,
             "#7201a8"
            ],
            [
             0.3333333333333333,
             "#9c179e"
            ],
            [
             0.4444444444444444,
             "#bd3786"
            ],
            [
             0.5555555555555556,
             "#d8576b"
            ],
            [
             0.6666666666666666,
             "#ed7953"
            ],
            [
             0.7777777777777778,
             "#fb9f3a"
            ],
            [
             0.8888888888888888,
             "#fdca26"
            ],
            [
             1,
             "#f0f921"
            ]
           ],
           "sequentialminus": [
            [
             0,
             "#0d0887"
            ],
            [
             0.1111111111111111,
             "#46039f"
            ],
            [
             0.2222222222222222,
             "#7201a8"
            ],
            [
             0.3333333333333333,
             "#9c179e"
            ],
            [
             0.4444444444444444,
             "#bd3786"
            ],
            [
             0.5555555555555556,
             "#d8576b"
            ],
            [
             0.6666666666666666,
             "#ed7953"
            ],
            [
             0.7777777777777778,
             "#fb9f3a"
            ],
            [
             0.8888888888888888,
             "#fdca26"
            ],
            [
             1,
             "#f0f921"
            ]
           ]
          },
          "colorway": [
           "#636efa",
           "#EF553B",
           "#00cc96",
           "#ab63fa",
           "#FFA15A",
           "#19d3f3",
           "#FF6692",
           "#B6E880",
           "#FF97FF",
           "#FECB52"
          ],
          "font": {
           "color": "#2a3f5f"
          },
          "geo": {
           "bgcolor": "white",
           "lakecolor": "white",
           "landcolor": "#E5ECF6",
           "showlakes": true,
           "showland": true,
           "subunitcolor": "white"
          },
          "hoverlabel": {
           "align": "left"
          },
          "hovermode": "closest",
          "mapbox": {
           "style": "light"
          },
          "paper_bgcolor": "white",
          "plot_bgcolor": "#E5ECF6",
          "polar": {
           "angularaxis": {
            "gridcolor": "white",
            "linecolor": "white",
            "ticks": ""
           },
           "bgcolor": "#E5ECF6",
           "radialaxis": {
            "gridcolor": "white",
            "linecolor": "white",
            "ticks": ""
           }
          },
          "scene": {
           "xaxis": {
            "backgroundcolor": "#E5ECF6",
            "gridcolor": "white",
            "gridwidth": 2,
            "linecolor": "white",
            "showbackground": true,
            "ticks": "",
            "zerolinecolor": "white"
           },
           "yaxis": {
            "backgroundcolor": "#E5ECF6",
            "gridcolor": "white",
            "gridwidth": 2,
            "linecolor": "white",
            "showbackground": true,
            "ticks": "",
            "zerolinecolor": "white"
           },
           "zaxis": {
            "backgroundcolor": "#E5ECF6",
            "gridcolor": "white",
            "gridwidth": 2,
            "linecolor": "white",
            "showbackground": true,
            "ticks": "",
            "zerolinecolor": "white"
           }
          },
          "shapedefaults": {
           "line": {
            "color": "#2a3f5f"
           }
          },
          "ternary": {
           "aaxis": {
            "gridcolor": "white",
            "linecolor": "white",
            "ticks": ""
           },
           "baxis": {
            "gridcolor": "white",
            "linecolor": "white",
            "ticks": ""
           },
           "bgcolor": "#E5ECF6",
           "caxis": {
            "gridcolor": "white",
            "linecolor": "white",
            "ticks": ""
           }
          },
          "title": {
           "x": 0.05
          },
          "xaxis": {
           "automargin": true,
           "gridcolor": "white",
           "linecolor": "white",
           "ticks": "",
           "title": {
            "standoff": 15
           },
           "zerolinecolor": "white",
           "zerolinewidth": 2
          },
          "yaxis": {
           "automargin": true,
           "gridcolor": "white",
           "linecolor": "white",
           "ticks": "",
           "title": {
            "standoff": 15
           },
           "zerolinecolor": "white",
           "zerolinewidth": 2
          }
         }
        },
        "title": {
         "text": "Total goals vs goals per 90-minutes for under-23 Strikers"
        },
        "xaxis": {
         "anchor": "y",
         "domain": [
          0,
          1
         ],
         "title": {
          "text": "Goals Scored"
         }
        },
        "yaxis": {
         "anchor": "x",
         "domain": [
          0,
          1
         ],
         "title": {
          "text": "Player"
         }
        }
       }
      }
     },
     "metadata": {},
     "output_type": "display_data"
    }
   ],
   "source": [
    "melted_good_u23_goals = pd.melt(good_u23_goals, id_vars=['Player'], value_vars=['Goals', 'Goals per 90'], var_name='Metric', value_name='Goals Scored')\n",
    "sorted_good_u23_goals = melted_good_u23_goals.sort_values(by='Goals Scored', ascending=True)\n",
    "\n",
    "fig = px.bar(sorted_good_u23_goals,\n",
    "             x='Goals Scored', \n",
    "             y='Player', \n",
    "             color='Metric', \n",
    "             title='Total goals vs goals per 90-minutes for under-23 Strikers',\n",
    "             orientation='h',\n",
    "             height=600)\n",
    "\n",
    "fig.show()"
   ]
  },
  {
   "cell_type": "code",
   "execution_count": 63,
   "metadata": {},
   "outputs": [
    {
     "data": {
      "text/html": [
       "<div>\n",
       "<style scoped>\n",
       "    .dataframe tbody tr th:only-of-type {\n",
       "        vertical-align: middle;\n",
       "    }\n",
       "\n",
       "    .dataframe tbody tr th {\n",
       "        vertical-align: top;\n",
       "    }\n",
       "\n",
       "    .dataframe thead th {\n",
       "        text-align: right;\n",
       "    }\n",
       "</style>\n",
       "<table border=\"1\" class=\"dataframe\">\n",
       "  <thead>\n",
       "    <tr style=\"text-align: right;\">\n",
       "      <th></th>\n",
       "      <th>Player</th>\n",
       "      <th>Nation</th>\n",
       "      <th>Position</th>\n",
       "      <th>Squad</th>\n",
       "      <th>Age</th>\n",
       "      <th>Born</th>\n",
       "      <th>Matches Played</th>\n",
       "      <th>Minutes Played</th>\n",
       "      <th>Goals</th>\n",
       "      <th>Assists</th>\n",
       "      <th>Goals + Assists</th>\n",
       "      <th>Expected Goals</th>\n",
       "      <th>Expected Assists</th>\n",
       "      <th>Expected Goals + Assists</th>\n",
       "      <th>Goals per 90</th>\n",
       "      <th>Assists per 90</th>\n",
       "      <th>Goals + Assists per 90</th>\n",
       "      <th>Expected Goals per 90</th>\n",
       "      <th>Expected Assists per 90</th>\n",
       "      <th>Expected Goals + Assists per 90</th>\n",
       "    </tr>\n",
       "  </thead>\n",
       "  <tbody>\n",
       "    <tr>\n",
       "      <th>139</th>\n",
       "      <td>Shinta Appelkamp</td>\n",
       "      <td>de GER</td>\n",
       "      <td>MF,FW</td>\n",
       "      <td>Düsseldorf</td>\n",
       "      <td>23-125</td>\n",
       "      <td>2000</td>\n",
       "      <td>16</td>\n",
       "      <td>1051</td>\n",
       "      <td>1</td>\n",
       "      <td>7</td>\n",
       "      <td>8</td>\n",
       "      <td>0.9</td>\n",
       "      <td>2.3</td>\n",
       "      <td>3.2</td>\n",
       "      <td>0.09</td>\n",
       "      <td>0.60</td>\n",
       "      <td>0.69</td>\n",
       "      <td>0.08</td>\n",
       "      <td>0.19</td>\n",
       "      <td>0.27</td>\n",
       "    </tr>\n",
       "    <tr>\n",
       "      <th>821</th>\n",
       "      <td>Theo Leoni</td>\n",
       "      <td>be BEL</td>\n",
       "      <td>MF</td>\n",
       "      <td>Anderlecht</td>\n",
       "      <td>23-319</td>\n",
       "      <td>2000</td>\n",
       "      <td>26</td>\n",
       "      <td>1781</td>\n",
       "      <td>3</td>\n",
       "      <td>7</td>\n",
       "      <td>10</td>\n",
       "      <td>1.9</td>\n",
       "      <td>2.7</td>\n",
       "      <td>4.6</td>\n",
       "      <td>0.15</td>\n",
       "      <td>0.35</td>\n",
       "      <td>0.51</td>\n",
       "      <td>0.10</td>\n",
       "      <td>0.13</td>\n",
       "      <td>0.23</td>\n",
       "    </tr>\n",
       "    <tr>\n",
       "      <th>1307</th>\n",
       "      <td>Nordine Kandil</td>\n",
       "      <td>fr FRA</td>\n",
       "      <td>FW,MF</td>\n",
       "      <td>Annecy</td>\n",
       "      <td>22-126</td>\n",
       "      <td>2001</td>\n",
       "      <td>26</td>\n",
       "      <td>1841</td>\n",
       "      <td>0</td>\n",
       "      <td>7</td>\n",
       "      <td>7</td>\n",
       "      <td>1.6</td>\n",
       "      <td>4.6</td>\n",
       "      <td>6.2</td>\n",
       "      <td>0.00</td>\n",
       "      <td>0.34</td>\n",
       "      <td>0.34</td>\n",
       "      <td>0.08</td>\n",
       "      <td>0.23</td>\n",
       "      <td>0.30</td>\n",
       "    </tr>\n",
       "    <tr>\n",
       "      <th>1329</th>\n",
       "      <td>Godson Kyeremeh</td>\n",
       "      <td>fr FRA</td>\n",
       "      <td>MF,FW</td>\n",
       "      <td>Caen</td>\n",
       "      <td>23-265</td>\n",
       "      <td>2000</td>\n",
       "      <td>27</td>\n",
       "      <td>1379</td>\n",
       "      <td>2</td>\n",
       "      <td>7</td>\n",
       "      <td>9</td>\n",
       "      <td>2.0</td>\n",
       "      <td>3.3</td>\n",
       "      <td>5.3</td>\n",
       "      <td>0.13</td>\n",
       "      <td>0.46</td>\n",
       "      <td>0.59</td>\n",
       "      <td>0.13</td>\n",
       "      <td>0.22</td>\n",
       "      <td>0.35</td>\n",
       "    </tr>\n",
       "    <tr>\n",
       "      <th>437</th>\n",
       "      <td>Paul Nebel</td>\n",
       "      <td>de GER</td>\n",
       "      <td>MF</td>\n",
       "      <td>Karlsruher</td>\n",
       "      <td>21-147</td>\n",
       "      <td>2002</td>\n",
       "      <td>24</td>\n",
       "      <td>1965</td>\n",
       "      <td>2</td>\n",
       "      <td>6</td>\n",
       "      <td>8</td>\n",
       "      <td>2.3</td>\n",
       "      <td>6.1</td>\n",
       "      <td>8.4</td>\n",
       "      <td>0.09</td>\n",
       "      <td>0.27</td>\n",
       "      <td>0.37</td>\n",
       "      <td>0.11</td>\n",
       "      <td>0.28</td>\n",
       "      <td>0.38</td>\n",
       "    </tr>\n",
       "    <tr>\n",
       "      <th>980</th>\n",
       "      <td>Jarne Steuckers</td>\n",
       "      <td>be BEL</td>\n",
       "      <td>MF,FW</td>\n",
       "      <td>Sint-Truiden</td>\n",
       "      <td>22-030</td>\n",
       "      <td>2002</td>\n",
       "      <td>27</td>\n",
       "      <td>2261</td>\n",
       "      <td>4</td>\n",
       "      <td>6</td>\n",
       "      <td>10</td>\n",
       "      <td>3.9</td>\n",
       "      <td>6.4</td>\n",
       "      <td>9.5</td>\n",
       "      <td>0.16</td>\n",
       "      <td>0.24</td>\n",
       "      <td>0.40</td>\n",
       "      <td>0.16</td>\n",
       "      <td>0.25</td>\n",
       "      <td>0.41</td>\n",
       "    </tr>\n",
       "    <tr>\n",
       "      <th>1802</th>\n",
       "      <td>Orkun Kökçü</td>\n",
       "      <td>tr TUR</td>\n",
       "      <td>MF</td>\n",
       "      <td>Benfica</td>\n",
       "      <td>23-067</td>\n",
       "      <td>2000</td>\n",
       "      <td>18</td>\n",
       "      <td>1295</td>\n",
       "      <td>2</td>\n",
       "      <td>6</td>\n",
       "      <td>8</td>\n",
       "      <td>2.6</td>\n",
       "      <td>4.6</td>\n",
       "      <td>7.2</td>\n",
       "      <td>0.14</td>\n",
       "      <td>0.42</td>\n",
       "      <td>0.56</td>\n",
       "      <td>0.18</td>\n",
       "      <td>0.32</td>\n",
       "      <td>0.50</td>\n",
       "    </tr>\n",
       "    <tr>\n",
       "      <th>2359</th>\n",
       "      <td>Losada</td>\n",
       "      <td>es ESP</td>\n",
       "      <td>MF,FW</td>\n",
       "      <td>Racing Ferrol</td>\n",
       "      <td>22-217</td>\n",
       "      <td>2001</td>\n",
       "      <td>29</td>\n",
       "      <td>2314</td>\n",
       "      <td>7</td>\n",
       "      <td>6</td>\n",
       "      <td>13</td>\n",
       "      <td>4.8</td>\n",
       "      <td>3.0</td>\n",
       "      <td>7.8</td>\n",
       "      <td>0.27</td>\n",
       "      <td>0.23</td>\n",
       "      <td>0.51</td>\n",
       "      <td>0.19</td>\n",
       "      <td>0.12</td>\n",
       "      <td>0.30</td>\n",
       "    </tr>\n",
       "    <tr>\n",
       "      <th>327</th>\n",
       "      <td>Ísak Jóhannesson</td>\n",
       "      <td>is ISL</td>\n",
       "      <td>MF,FW</td>\n",
       "      <td>Düsseldorf</td>\n",
       "      <td>20-348</td>\n",
       "      <td>2003</td>\n",
       "      <td>20</td>\n",
       "      <td>1510</td>\n",
       "      <td>2</td>\n",
       "      <td>5</td>\n",
       "      <td>7</td>\n",
       "      <td>2.0</td>\n",
       "      <td>3.1</td>\n",
       "      <td>5.1</td>\n",
       "      <td>0.12</td>\n",
       "      <td>0.30</td>\n",
       "      <td>0.42</td>\n",
       "      <td>0.12</td>\n",
       "      <td>0.18</td>\n",
       "      <td>0.30</td>\n",
       "    </tr>\n",
       "    <tr>\n",
       "      <th>631</th>\n",
       "      <td>Michel-Ange Balikwisha</td>\n",
       "      <td>be BEL</td>\n",
       "      <td>FW,MF</td>\n",
       "      <td>Antwerp</td>\n",
       "      <td>22-300</td>\n",
       "      <td>2001</td>\n",
       "      <td>21</td>\n",
       "      <td>1619</td>\n",
       "      <td>5</td>\n",
       "      <td>5</td>\n",
       "      <td>10</td>\n",
       "      <td>4.3</td>\n",
       "      <td>3.9</td>\n",
       "      <td>8.3</td>\n",
       "      <td>0.28</td>\n",
       "      <td>0.28</td>\n",
       "      <td>0.56</td>\n",
       "      <td>0.24</td>\n",
       "      <td>0.22</td>\n",
       "      <td>0.46</td>\n",
       "    </tr>\n",
       "    <tr>\n",
       "      <th>805</th>\n",
       "      <td>Bilal El Khannouss</td>\n",
       "      <td>ma MAR</td>\n",
       "      <td>MF,FW</td>\n",
       "      <td>Genk</td>\n",
       "      <td>19-300</td>\n",
       "      <td>2004</td>\n",
       "      <td>25</td>\n",
       "      <td>2007</td>\n",
       "      <td>3</td>\n",
       "      <td>5</td>\n",
       "      <td>8</td>\n",
       "      <td>2.1</td>\n",
       "      <td>7.0</td>\n",
       "      <td>9.0</td>\n",
       "      <td>0.13</td>\n",
       "      <td>0.22</td>\n",
       "      <td>0.36</td>\n",
       "      <td>0.09</td>\n",
       "      <td>0.31</td>\n",
       "      <td>0.41</td>\n",
       "    </tr>\n",
       "    <tr>\n",
       "      <th>857</th>\n",
       "      <td>Alan Minda</td>\n",
       "      <td>ec ECU</td>\n",
       "      <td>FW,MF</td>\n",
       "      <td>Cercle Brugge</td>\n",
       "      <td>20-296</td>\n",
       "      <td>2003</td>\n",
       "      <td>26</td>\n",
       "      <td>1332</td>\n",
       "      <td>6</td>\n",
       "      <td>5</td>\n",
       "      <td>11</td>\n",
       "      <td>3.9</td>\n",
       "      <td>3.6</td>\n",
       "      <td>7.5</td>\n",
       "      <td>0.41</td>\n",
       "      <td>0.34</td>\n",
       "      <td>0.74</td>\n",
       "      <td>0.26</td>\n",
       "      <td>0.24</td>\n",
       "      <td>0.51</td>\n",
       "    </tr>\n",
       "    <tr>\n",
       "      <th>1024</th>\n",
       "      <td>Yari Verschaeren</td>\n",
       "      <td>be BEL</td>\n",
       "      <td>MF,FW</td>\n",
       "      <td>Anderlecht</td>\n",
       "      <td>22-237</td>\n",
       "      <td>2001</td>\n",
       "      <td>13</td>\n",
       "      <td>852</td>\n",
       "      <td>0</td>\n",
       "      <td>5</td>\n",
       "      <td>5</td>\n",
       "      <td>0.5</td>\n",
       "      <td>1.8</td>\n",
       "      <td>2.2</td>\n",
       "      <td>0.00</td>\n",
       "      <td>0.53</td>\n",
       "      <td>0.53</td>\n",
       "      <td>0.05</td>\n",
       "      <td>0.19</td>\n",
       "      <td>0.24</td>\n",
       "    </tr>\n",
       "    <tr>\n",
       "      <th>1173</th>\n",
       "      <td>Killian Corredor</td>\n",
       "      <td>fr FRA</td>\n",
       "      <td>FW</td>\n",
       "      <td>Rodez Aveyron</td>\n",
       "      <td>23-122</td>\n",
       "      <td>2000</td>\n",
       "      <td>27</td>\n",
       "      <td>2197</td>\n",
       "      <td>8</td>\n",
       "      <td>5</td>\n",
       "      <td>13</td>\n",
       "      <td>8.9</td>\n",
       "      <td>2.9</td>\n",
       "      <td>11.8</td>\n",
       "      <td>0.33</td>\n",
       "      <td>0.20</td>\n",
       "      <td>0.53</td>\n",
       "      <td>0.37</td>\n",
       "      <td>0.12</td>\n",
       "      <td>0.48</td>\n",
       "    </tr>\n",
       "    <tr>\n",
       "      <th>1453</th>\n",
       "      <td>Amine El Ouazzani</td>\n",
       "      <td>ma MAR</td>\n",
       "      <td>FW</td>\n",
       "      <td>Guingamp</td>\n",
       "      <td>22-234</td>\n",
       "      <td>2001</td>\n",
       "      <td>27</td>\n",
       "      <td>2168</td>\n",
       "      <td>7</td>\n",
       "      <td>5</td>\n",
       "      <td>12</td>\n",
       "      <td>8.8</td>\n",
       "      <td>3.2</td>\n",
       "      <td>11.2</td>\n",
       "      <td>0.29</td>\n",
       "      <td>0.21</td>\n",
       "      <td>0.50</td>\n",
       "      <td>0.37</td>\n",
       "      <td>0.13</td>\n",
       "      <td>0.50</td>\n",
       "    </tr>\n",
       "  </tbody>\n",
       "</table>\n",
       "</div>"
      ],
      "text/plain": [
       "                      Player  Nation Position          Squad     Age  Born  \\\n",
       "139         Shinta Appelkamp  de GER    MF,FW     Düsseldorf  23-125  2000   \n",
       "821               Theo Leoni  be BEL       MF     Anderlecht  23-319  2000   \n",
       "1307          Nordine Kandil  fr FRA    FW,MF         Annecy  22-126  2001   \n",
       "1329         Godson Kyeremeh  fr FRA    MF,FW           Caen  23-265  2000   \n",
       "437               Paul Nebel  de GER       MF     Karlsruher  21-147  2002   \n",
       "980          Jarne Steuckers  be BEL    MF,FW   Sint-Truiden  22-030  2002   \n",
       "1802             Orkun Kökçü  tr TUR       MF        Benfica  23-067  2000   \n",
       "2359                  Losada  es ESP    MF,FW  Racing Ferrol  22-217  2001   \n",
       "327         Ísak Jóhannesson  is ISL    MF,FW     Düsseldorf  20-348  2003   \n",
       "631   Michel-Ange Balikwisha  be BEL    FW,MF        Antwerp  22-300  2001   \n",
       "805       Bilal El Khannouss  ma MAR    MF,FW           Genk  19-300  2004   \n",
       "857               Alan Minda  ec ECU    FW,MF  Cercle Brugge  20-296  2003   \n",
       "1024        Yari Verschaeren  be BEL    MF,FW     Anderlecht  22-237  2001   \n",
       "1173        Killian Corredor  fr FRA       FW  Rodez Aveyron  23-122  2000   \n",
       "1453       Amine El Ouazzani  ma MAR       FW       Guingamp  22-234  2001   \n",
       "\n",
       "      Matches Played  Minutes Played  Goals  Assists  Goals + Assists  \\\n",
       "139               16            1051      1        7                8   \n",
       "821               26            1781      3        7               10   \n",
       "1307              26            1841      0        7                7   \n",
       "1329              27            1379      2        7                9   \n",
       "437               24            1965      2        6                8   \n",
       "980               27            2261      4        6               10   \n",
       "1802              18            1295      2        6                8   \n",
       "2359              29            2314      7        6               13   \n",
       "327               20            1510      2        5                7   \n",
       "631               21            1619      5        5               10   \n",
       "805               25            2007      3        5                8   \n",
       "857               26            1332      6        5               11   \n",
       "1024              13             852      0        5                5   \n",
       "1173              27            2197      8        5               13   \n",
       "1453              27            2168      7        5               12   \n",
       "\n",
       "      Expected Goals  Expected Assists  Expected Goals + Assists  \\\n",
       "139              0.9               2.3                       3.2   \n",
       "821              1.9               2.7                       4.6   \n",
       "1307             1.6               4.6                       6.2   \n",
       "1329             2.0               3.3                       5.3   \n",
       "437              2.3               6.1                       8.4   \n",
       "980              3.9               6.4                       9.5   \n",
       "1802             2.6               4.6                       7.2   \n",
       "2359             4.8               3.0                       7.8   \n",
       "327              2.0               3.1                       5.1   \n",
       "631              4.3               3.9                       8.3   \n",
       "805              2.1               7.0                       9.0   \n",
       "857              3.9               3.6                       7.5   \n",
       "1024             0.5               1.8                       2.2   \n",
       "1173             8.9               2.9                      11.8   \n",
       "1453             8.8               3.2                      11.2   \n",
       "\n",
       "      Goals per 90  Assists per 90  Goals + Assists per 90  \\\n",
       "139           0.09            0.60                    0.69   \n",
       "821           0.15            0.35                    0.51   \n",
       "1307          0.00            0.34                    0.34   \n",
       "1329          0.13            0.46                    0.59   \n",
       "437           0.09            0.27                    0.37   \n",
       "980           0.16            0.24                    0.40   \n",
       "1802          0.14            0.42                    0.56   \n",
       "2359          0.27            0.23                    0.51   \n",
       "327           0.12            0.30                    0.42   \n",
       "631           0.28            0.28                    0.56   \n",
       "805           0.13            0.22                    0.36   \n",
       "857           0.41            0.34                    0.74   \n",
       "1024          0.00            0.53                    0.53   \n",
       "1173          0.33            0.20                    0.53   \n",
       "1453          0.29            0.21                    0.50   \n",
       "\n",
       "      Expected Goals per 90  Expected Assists per 90  \\\n",
       "139                    0.08                     0.19   \n",
       "821                    0.10                     0.13   \n",
       "1307                   0.08                     0.23   \n",
       "1329                   0.13                     0.22   \n",
       "437                    0.11                     0.28   \n",
       "980                    0.16                     0.25   \n",
       "1802                   0.18                     0.32   \n",
       "2359                   0.19                     0.12   \n",
       "327                    0.12                     0.18   \n",
       "631                    0.24                     0.22   \n",
       "805                    0.09                     0.31   \n",
       "857                    0.26                     0.24   \n",
       "1024                   0.05                     0.19   \n",
       "1173                   0.37                     0.12   \n",
       "1453                   0.37                     0.13   \n",
       "\n",
       "      Expected Goals + Assists per 90  \n",
       "139                              0.27  \n",
       "821                              0.23  \n",
       "1307                             0.30  \n",
       "1329                             0.35  \n",
       "437                              0.38  \n",
       "980                              0.41  \n",
       "1802                             0.50  \n",
       "2359                             0.30  \n",
       "327                              0.30  \n",
       "631                              0.46  \n",
       "805                              0.41  \n",
       "857                              0.51  \n",
       "1024                             0.24  \n",
       "1173                             0.48  \n",
       "1453                             0.50  "
      ]
     },
     "execution_count": 63,
     "metadata": {},
     "output_type": "execute_result"
    }
   ],
   "source": [
    "good_u23_assists = strikers_under_23.nlargest(30, 'Assists')\n",
    "good_u23_assists.head(15)"
   ]
  },
  {
   "cell_type": "code",
   "execution_count": 64,
   "metadata": {},
   "outputs": [
    {
     "data": {
      "application/vnd.plotly.v1+json": {
       "config": {
        "plotlyServerURL": "https://plot.ly"
       },
       "data": [
        {
         "alignmentgroup": "True",
         "hovertemplate": "Metric=Assists per 90<br>Goal Assists=%{x}<br>Player=%{y}<extra></extra>",
         "legendgroup": "Assists per 90",
         "marker": {
          "color": "#636efa",
          "pattern": {
           "shape": ""
          }
         },
         "name": "Assists per 90",
         "offsetgroup": "Assists per 90",
         "orientation": "h",
         "showlegend": true,
         "textposition": "auto",
         "type": "bar",
         "x": [
          0.15,
          0.17,
          0.18,
          0.19,
          0.19,
          0.2,
          0.2,
          0.2,
          0.2,
          0.21,
          0.22,
          0.22,
          0.23,
          0.24,
          0.24,
          0.24,
          0.25,
          0.25,
          0.26,
          0.27,
          0.28,
          0.29,
          0.3,
          0.34,
          0.34,
          0.35,
          0.42,
          0.46,
          0.53,
          0.6
         ],
         "xaxis": "x",
         "y": [
          "Gabri Martínez",
          "Lenny Joseph",
          "Roberto López",
          "Ilyas Chaira",
          "Robert Wagner",
          "Alan",
          "Adem Zorgane",
          "Killian Corredor",
          "Tim Lemperle",
          "Amine El Ouazzani",
          "João Marques",
          "Bilal El Khannouss",
          "Losada",
          "Jarne Steuckers",
          "Félix Lemaréchal",
          "Igor Matanovic",
          "Lucas Da Cunha",
          "Haissem Hassan",
          "Immanuel Pherai",
          "Paul Nebel",
          "Michel-Ange Balikwisha",
          "Filip Bilbija",
          "Ísak Jóhannesson",
          "Alan Minda",
          "Nordine Kandil",
          "Theo Leoni",
          "Orkun Kökçü",
          "Godson Kyeremeh",
          "Yari Verschaeren",
          "Shinta Appelkamp"
         ],
         "yaxis": "y"
        },
        {
         "alignmentgroup": "True",
         "hovertemplate": "Metric=Assists<br>Goal Assists=%{x}<br>Player=%{y}<extra></extra>",
         "legendgroup": "Assists",
         "marker": {
          "color": "#EF553B",
          "pattern": {
           "shape": ""
          }
         },
         "name": "Assists",
         "offsetgroup": "Assists",
         "orientation": "h",
         "showlegend": true,
         "textposition": "auto",
         "type": "bar",
         "x": [
          4,
          4,
          4,
          4,
          4,
          4,
          4,
          4,
          4,
          4,
          4,
          4,
          4,
          5,
          5,
          5,
          5,
          5,
          5,
          5,
          5,
          5,
          6,
          6,
          6,
          6,
          7,
          7,
          7,
          7
         ],
         "xaxis": "x",
         "y": [
          "Gabri Martínez",
          "Ilyas Chaira",
          "João Marques",
          "Alan",
          "Lenny Joseph",
          "Adem Zorgane",
          "Félix Lemaréchal",
          "Robert Wagner",
          "Immanuel Pherai",
          "Igor Matanovic",
          "Tim Lemperle",
          "Filip Bilbija",
          "Roberto López",
          "Ísak Jóhannesson",
          "Michel-Ange Balikwisha",
          "Bilal El Khannouss",
          "Alan Minda",
          "Killian Corredor",
          "Amine El Ouazzani",
          "Haissem Hassan",
          "Lucas Da Cunha",
          "Yari Verschaeren",
          "Losada",
          "Orkun Kökçü",
          "Jarne Steuckers",
          "Paul Nebel",
          "Godson Kyeremeh",
          "Nordine Kandil",
          "Theo Leoni",
          "Shinta Appelkamp"
         ],
         "yaxis": "y"
        }
       ],
       "layout": {
        "barmode": "relative",
        "height": 600,
        "legend": {
         "title": {
          "text": "Metric"
         },
         "tracegroupgap": 0
        },
        "template": {
         "data": {
          "bar": [
           {
            "error_x": {
             "color": "#2a3f5f"
            },
            "error_y": {
             "color": "#2a3f5f"
            },
            "marker": {
             "line": {
              "color": "#E5ECF6",
              "width": 0.5
             },
             "pattern": {
              "fillmode": "overlay",
              "size": 10,
              "solidity": 0.2
             }
            },
            "type": "bar"
           }
          ],
          "barpolar": [
           {
            "marker": {
             "line": {
              "color": "#E5ECF6",
              "width": 0.5
             },
             "pattern": {
              "fillmode": "overlay",
              "size": 10,
              "solidity": 0.2
             }
            },
            "type": "barpolar"
           }
          ],
          "carpet": [
           {
            "aaxis": {
             "endlinecolor": "#2a3f5f",
             "gridcolor": "white",
             "linecolor": "white",
             "minorgridcolor": "white",
             "startlinecolor": "#2a3f5f"
            },
            "baxis": {
             "endlinecolor": "#2a3f5f",
             "gridcolor": "white",
             "linecolor": "white",
             "minorgridcolor": "white",
             "startlinecolor": "#2a3f5f"
            },
            "type": "carpet"
           }
          ],
          "choropleth": [
           {
            "colorbar": {
             "outlinewidth": 0,
             "ticks": ""
            },
            "type": "choropleth"
           }
          ],
          "contour": [
           {
            "colorbar": {
             "outlinewidth": 0,
             "ticks": ""
            },
            "colorscale": [
             [
              0,
              "#0d0887"
             ],
             [
              0.1111111111111111,
              "#46039f"
             ],
             [
              0.2222222222222222,
              "#7201a8"
             ],
             [
              0.3333333333333333,
              "#9c179e"
             ],
             [
              0.4444444444444444,
              "#bd3786"
             ],
             [
              0.5555555555555556,
              "#d8576b"
             ],
             [
              0.6666666666666666,
              "#ed7953"
             ],
             [
              0.7777777777777778,
              "#fb9f3a"
             ],
             [
              0.8888888888888888,
              "#fdca26"
             ],
             [
              1,
              "#f0f921"
             ]
            ],
            "type": "contour"
           }
          ],
          "contourcarpet": [
           {
            "colorbar": {
             "outlinewidth": 0,
             "ticks": ""
            },
            "type": "contourcarpet"
           }
          ],
          "heatmap": [
           {
            "colorbar": {
             "outlinewidth": 0,
             "ticks": ""
            },
            "colorscale": [
             [
              0,
              "#0d0887"
             ],
             [
              0.1111111111111111,
              "#46039f"
             ],
             [
              0.2222222222222222,
              "#7201a8"
             ],
             [
              0.3333333333333333,
              "#9c179e"
             ],
             [
              0.4444444444444444,
              "#bd3786"
             ],
             [
              0.5555555555555556,
              "#d8576b"
             ],
             [
              0.6666666666666666,
              "#ed7953"
             ],
             [
              0.7777777777777778,
              "#fb9f3a"
             ],
             [
              0.8888888888888888,
              "#fdca26"
             ],
             [
              1,
              "#f0f921"
             ]
            ],
            "type": "heatmap"
           }
          ],
          "heatmapgl": [
           {
            "colorbar": {
             "outlinewidth": 0,
             "ticks": ""
            },
            "colorscale": [
             [
              0,
              "#0d0887"
             ],
             [
              0.1111111111111111,
              "#46039f"
             ],
             [
              0.2222222222222222,
              "#7201a8"
             ],
             [
              0.3333333333333333,
              "#9c179e"
             ],
             [
              0.4444444444444444,
              "#bd3786"
             ],
             [
              0.5555555555555556,
              "#d8576b"
             ],
             [
              0.6666666666666666,
              "#ed7953"
             ],
             [
              0.7777777777777778,
              "#fb9f3a"
             ],
             [
              0.8888888888888888,
              "#fdca26"
             ],
             [
              1,
              "#f0f921"
             ]
            ],
            "type": "heatmapgl"
           }
          ],
          "histogram": [
           {
            "marker": {
             "pattern": {
              "fillmode": "overlay",
              "size": 10,
              "solidity": 0.2
             }
            },
            "type": "histogram"
           }
          ],
          "histogram2d": [
           {
            "colorbar": {
             "outlinewidth": 0,
             "ticks": ""
            },
            "colorscale": [
             [
              0,
              "#0d0887"
             ],
             [
              0.1111111111111111,
              "#46039f"
             ],
             [
              0.2222222222222222,
              "#7201a8"
             ],
             [
              0.3333333333333333,
              "#9c179e"
             ],
             [
              0.4444444444444444,
              "#bd3786"
             ],
             [
              0.5555555555555556,
              "#d8576b"
             ],
             [
              0.6666666666666666,
              "#ed7953"
             ],
             [
              0.7777777777777778,
              "#fb9f3a"
             ],
             [
              0.8888888888888888,
              "#fdca26"
             ],
             [
              1,
              "#f0f921"
             ]
            ],
            "type": "histogram2d"
           }
          ],
          "histogram2dcontour": [
           {
            "colorbar": {
             "outlinewidth": 0,
             "ticks": ""
            },
            "colorscale": [
             [
              0,
              "#0d0887"
             ],
             [
              0.1111111111111111,
              "#46039f"
             ],
             [
              0.2222222222222222,
              "#7201a8"
             ],
             [
              0.3333333333333333,
              "#9c179e"
             ],
             [
              0.4444444444444444,
              "#bd3786"
             ],
             [
              0.5555555555555556,
              "#d8576b"
             ],
             [
              0.6666666666666666,
              "#ed7953"
             ],
             [
              0.7777777777777778,
              "#fb9f3a"
             ],
             [
              0.8888888888888888,
              "#fdca26"
             ],
             [
              1,
              "#f0f921"
             ]
            ],
            "type": "histogram2dcontour"
           }
          ],
          "mesh3d": [
           {
            "colorbar": {
             "outlinewidth": 0,
             "ticks": ""
            },
            "type": "mesh3d"
           }
          ],
          "parcoords": [
           {
            "line": {
             "colorbar": {
              "outlinewidth": 0,
              "ticks": ""
             }
            },
            "type": "parcoords"
           }
          ],
          "pie": [
           {
            "automargin": true,
            "type": "pie"
           }
          ],
          "scatter": [
           {
            "fillpattern": {
             "fillmode": "overlay",
             "size": 10,
             "solidity": 0.2
            },
            "type": "scatter"
           }
          ],
          "scatter3d": [
           {
            "line": {
             "colorbar": {
              "outlinewidth": 0,
              "ticks": ""
             }
            },
            "marker": {
             "colorbar": {
              "outlinewidth": 0,
              "ticks": ""
             }
            },
            "type": "scatter3d"
           }
          ],
          "scattercarpet": [
           {
            "marker": {
             "colorbar": {
              "outlinewidth": 0,
              "ticks": ""
             }
            },
            "type": "scattercarpet"
           }
          ],
          "scattergeo": [
           {
            "marker": {
             "colorbar": {
              "outlinewidth": 0,
              "ticks": ""
             }
            },
            "type": "scattergeo"
           }
          ],
          "scattergl": [
           {
            "marker": {
             "colorbar": {
              "outlinewidth": 0,
              "ticks": ""
             }
            },
            "type": "scattergl"
           }
          ],
          "scattermapbox": [
           {
            "marker": {
             "colorbar": {
              "outlinewidth": 0,
              "ticks": ""
             }
            },
            "type": "scattermapbox"
           }
          ],
          "scatterpolar": [
           {
            "marker": {
             "colorbar": {
              "outlinewidth": 0,
              "ticks": ""
             }
            },
            "type": "scatterpolar"
           }
          ],
          "scatterpolargl": [
           {
            "marker": {
             "colorbar": {
              "outlinewidth": 0,
              "ticks": ""
             }
            },
            "type": "scatterpolargl"
           }
          ],
          "scatterternary": [
           {
            "marker": {
             "colorbar": {
              "outlinewidth": 0,
              "ticks": ""
             }
            },
            "type": "scatterternary"
           }
          ],
          "surface": [
           {
            "colorbar": {
             "outlinewidth": 0,
             "ticks": ""
            },
            "colorscale": [
             [
              0,
              "#0d0887"
             ],
             [
              0.1111111111111111,
              "#46039f"
             ],
             [
              0.2222222222222222,
              "#7201a8"
             ],
             [
              0.3333333333333333,
              "#9c179e"
             ],
             [
              0.4444444444444444,
              "#bd3786"
             ],
             [
              0.5555555555555556,
              "#d8576b"
             ],
             [
              0.6666666666666666,
              "#ed7953"
             ],
             [
              0.7777777777777778,
              "#fb9f3a"
             ],
             [
              0.8888888888888888,
              "#fdca26"
             ],
             [
              1,
              "#f0f921"
             ]
            ],
            "type": "surface"
           }
          ],
          "table": [
           {
            "cells": {
             "fill": {
              "color": "#EBF0F8"
             },
             "line": {
              "color": "white"
             }
            },
            "header": {
             "fill": {
              "color": "#C8D4E3"
             },
             "line": {
              "color": "white"
             }
            },
            "type": "table"
           }
          ]
         },
         "layout": {
          "annotationdefaults": {
           "arrowcolor": "#2a3f5f",
           "arrowhead": 0,
           "arrowwidth": 1
          },
          "autotypenumbers": "strict",
          "coloraxis": {
           "colorbar": {
            "outlinewidth": 0,
            "ticks": ""
           }
          },
          "colorscale": {
           "diverging": [
            [
             0,
             "#8e0152"
            ],
            [
             0.1,
             "#c51b7d"
            ],
            [
             0.2,
             "#de77ae"
            ],
            [
             0.3,
             "#f1b6da"
            ],
            [
             0.4,
             "#fde0ef"
            ],
            [
             0.5,
             "#f7f7f7"
            ],
            [
             0.6,
             "#e6f5d0"
            ],
            [
             0.7,
             "#b8e186"
            ],
            [
             0.8,
             "#7fbc41"
            ],
            [
             0.9,
             "#4d9221"
            ],
            [
             1,
             "#276419"
            ]
           ],
           "sequential": [
            [
             0,
             "#0d0887"
            ],
            [
             0.1111111111111111,
             "#46039f"
            ],
            [
             0.2222222222222222,
             "#7201a8"
            ],
            [
             0.3333333333333333,
             "#9c179e"
            ],
            [
             0.4444444444444444,
             "#bd3786"
            ],
            [
             0.5555555555555556,
             "#d8576b"
            ],
            [
             0.6666666666666666,
             "#ed7953"
            ],
            [
             0.7777777777777778,
             "#fb9f3a"
            ],
            [
             0.8888888888888888,
             "#fdca26"
            ],
            [
             1,
             "#f0f921"
            ]
           ],
           "sequentialminus": [
            [
             0,
             "#0d0887"
            ],
            [
             0.1111111111111111,
             "#46039f"
            ],
            [
             0.2222222222222222,
             "#7201a8"
            ],
            [
             0.3333333333333333,
             "#9c179e"
            ],
            [
             0.4444444444444444,
             "#bd3786"
            ],
            [
             0.5555555555555556,
             "#d8576b"
            ],
            [
             0.6666666666666666,
             "#ed7953"
            ],
            [
             0.7777777777777778,
             "#fb9f3a"
            ],
            [
             0.8888888888888888,
             "#fdca26"
            ],
            [
             1,
             "#f0f921"
            ]
           ]
          },
          "colorway": [
           "#636efa",
           "#EF553B",
           "#00cc96",
           "#ab63fa",
           "#FFA15A",
           "#19d3f3",
           "#FF6692",
           "#B6E880",
           "#FF97FF",
           "#FECB52"
          ],
          "font": {
           "color": "#2a3f5f"
          },
          "geo": {
           "bgcolor": "white",
           "lakecolor": "white",
           "landcolor": "#E5ECF6",
           "showlakes": true,
           "showland": true,
           "subunitcolor": "white"
          },
          "hoverlabel": {
           "align": "left"
          },
          "hovermode": "closest",
          "mapbox": {
           "style": "light"
          },
          "paper_bgcolor": "white",
          "plot_bgcolor": "#E5ECF6",
          "polar": {
           "angularaxis": {
            "gridcolor": "white",
            "linecolor": "white",
            "ticks": ""
           },
           "bgcolor": "#E5ECF6",
           "radialaxis": {
            "gridcolor": "white",
            "linecolor": "white",
            "ticks": ""
           }
          },
          "scene": {
           "xaxis": {
            "backgroundcolor": "#E5ECF6",
            "gridcolor": "white",
            "gridwidth": 2,
            "linecolor": "white",
            "showbackground": true,
            "ticks": "",
            "zerolinecolor": "white"
           },
           "yaxis": {
            "backgroundcolor": "#E5ECF6",
            "gridcolor": "white",
            "gridwidth": 2,
            "linecolor": "white",
            "showbackground": true,
            "ticks": "",
            "zerolinecolor": "white"
           },
           "zaxis": {
            "backgroundcolor": "#E5ECF6",
            "gridcolor": "white",
            "gridwidth": 2,
            "linecolor": "white",
            "showbackground": true,
            "ticks": "",
            "zerolinecolor": "white"
           }
          },
          "shapedefaults": {
           "line": {
            "color": "#2a3f5f"
           }
          },
          "ternary": {
           "aaxis": {
            "gridcolor": "white",
            "linecolor": "white",
            "ticks": ""
           },
           "baxis": {
            "gridcolor": "white",
            "linecolor": "white",
            "ticks": ""
           },
           "bgcolor": "#E5ECF6",
           "caxis": {
            "gridcolor": "white",
            "linecolor": "white",
            "ticks": ""
           }
          },
          "title": {
           "x": 0.05
          },
          "xaxis": {
           "automargin": true,
           "gridcolor": "white",
           "linecolor": "white",
           "ticks": "",
           "title": {
            "standoff": 15
           },
           "zerolinecolor": "white",
           "zerolinewidth": 2
          },
          "yaxis": {
           "automargin": true,
           "gridcolor": "white",
           "linecolor": "white",
           "ticks": "",
           "title": {
            "standoff": 15
           },
           "zerolinecolor": "white",
           "zerolinewidth": 2
          }
         }
        },
        "title": {
         "text": "Total assists vs assists per 90-minutes for under-23 Strikers"
        },
        "xaxis": {
         "anchor": "y",
         "domain": [
          0,
          1
         ],
         "title": {
          "text": "Goal Assists"
         }
        },
        "yaxis": {
         "anchor": "x",
         "domain": [
          0,
          1
         ],
         "title": {
          "text": "Player"
         }
        }
       }
      }
     },
     "metadata": {},
     "output_type": "display_data"
    }
   ],
   "source": [
    "melted_good_u23_assists = pd.melt(good_u23_assists, id_vars=['Player'], value_vars=['Assists', 'Assists per 90'], var_name='Metric', value_name='Goal Assists')\n",
    "sorted_good_u23_assists = melted_good_u23_assists.sort_values(by='Goal Assists', ascending=True)\n",
    "\n",
    "fig = px.bar(sorted_good_u23_assists,\n",
    "             x='Goal Assists', \n",
    "             y='Player', \n",
    "             color='Metric', \n",
    "             title='Total assists vs assists per 90-minutes for under-23 Strikers',\n",
    "             orientation='h',\n",
    "             height=600)\n",
    "\n",
    "fig.show()"
   ]
  },
  {
   "cell_type": "code",
   "execution_count": 65,
   "metadata": {},
   "outputs": [
    {
     "data": {
      "text/html": [
       "<div>\n",
       "<style scoped>\n",
       "    .dataframe tbody tr th:only-of-type {\n",
       "        vertical-align: middle;\n",
       "    }\n",
       "\n",
       "    .dataframe tbody tr th {\n",
       "        vertical-align: top;\n",
       "    }\n",
       "\n",
       "    .dataframe thead th {\n",
       "        text-align: right;\n",
       "    }\n",
       "</style>\n",
       "<table border=\"1\" class=\"dataframe\">\n",
       "  <thead>\n",
       "    <tr style=\"text-align: right;\">\n",
       "      <th></th>\n",
       "      <th>Player</th>\n",
       "      <th>Nation</th>\n",
       "      <th>Position</th>\n",
       "      <th>Squad</th>\n",
       "      <th>Age</th>\n",
       "      <th>Born</th>\n",
       "      <th>Matches Played</th>\n",
       "      <th>Minutes Played</th>\n",
       "      <th>Goals</th>\n",
       "      <th>Assists</th>\n",
       "      <th>Goals + Assists</th>\n",
       "      <th>Expected Goals</th>\n",
       "      <th>Expected Assists</th>\n",
       "      <th>Expected Goals + Assists</th>\n",
       "      <th>Goals per 90</th>\n",
       "      <th>Assists per 90</th>\n",
       "      <th>Goals + Assists per 90</th>\n",
       "      <th>Expected Goals per 90</th>\n",
       "      <th>Expected Assists per 90</th>\n",
       "      <th>Expected Goals + Assists per 90</th>\n",
       "    </tr>\n",
       "  </thead>\n",
       "  <tbody>\n",
       "    <tr>\n",
       "      <th>704</th>\n",
       "      <td>Kevin Denkey</td>\n",
       "      <td>tg TOG</td>\n",
       "      <td>FW</td>\n",
       "      <td>Cercle Brugge</td>\n",
       "      <td>23-096</td>\n",
       "      <td>2000</td>\n",
       "      <td>26</td>\n",
       "      <td>2314</td>\n",
       "      <td>22</td>\n",
       "      <td>0</td>\n",
       "      <td>22</td>\n",
       "      <td>18.0</td>\n",
       "      <td>2.7</td>\n",
       "      <td>18.3</td>\n",
       "      <td>0.86</td>\n",
       "      <td>0.00</td>\n",
       "      <td>0.86</td>\n",
       "      <td>0.70</td>\n",
       "      <td>0.10</td>\n",
       "      <td>0.81</td>\n",
       "    </tr>\n",
       "    <tr>\n",
       "      <th>609</th>\n",
       "      <td>Mohamed El Amine Amoura</td>\n",
       "      <td>dz ALG</td>\n",
       "      <td>FW</td>\n",
       "      <td>Union SG</td>\n",
       "      <td>23-301</td>\n",
       "      <td>2000</td>\n",
       "      <td>22</td>\n",
       "      <td>1360</td>\n",
       "      <td>17</td>\n",
       "      <td>2</td>\n",
       "      <td>19</td>\n",
       "      <td>10.6</td>\n",
       "      <td>2.2</td>\n",
       "      <td>12.0</td>\n",
       "      <td>1.13</td>\n",
       "      <td>0.13</td>\n",
       "      <td>1.26</td>\n",
       "      <td>0.70</td>\n",
       "      <td>0.14</td>\n",
       "      <td>0.84</td>\n",
       "    </tr>\n",
       "    <tr>\n",
       "      <th>993</th>\n",
       "      <td>Thiago</td>\n",
       "      <td>br BRA</td>\n",
       "      <td>FW</td>\n",
       "      <td>Club Brugge</td>\n",
       "      <td>22-253</td>\n",
       "      <td>2001</td>\n",
       "      <td>25</td>\n",
       "      <td>1750</td>\n",
       "      <td>16</td>\n",
       "      <td>2</td>\n",
       "      <td>18</td>\n",
       "      <td>16.2</td>\n",
       "      <td>3.0</td>\n",
       "      <td>13.7</td>\n",
       "      <td>0.82</td>\n",
       "      <td>0.10</td>\n",
       "      <td>0.93</td>\n",
       "      <td>0.83</td>\n",
       "      <td>0.16</td>\n",
       "      <td>0.99</td>\n",
       "    </tr>\n",
       "    <tr>\n",
       "      <th>559</th>\n",
       "      <td>Christos Tzolis</td>\n",
       "      <td>gr GRE</td>\n",
       "      <td>FW,MF</td>\n",
       "      <td>Düsseldorf</td>\n",
       "      <td>22-035</td>\n",
       "      <td>2002</td>\n",
       "      <td>21</td>\n",
       "      <td>1578</td>\n",
       "      <td>13</td>\n",
       "      <td>3</td>\n",
       "      <td>16</td>\n",
       "      <td>10.7</td>\n",
       "      <td>3.2</td>\n",
       "      <td>10.8</td>\n",
       "      <td>0.74</td>\n",
       "      <td>0.17</td>\n",
       "      <td>0.91</td>\n",
       "      <td>0.61</td>\n",
       "      <td>0.18</td>\n",
       "      <td>0.79</td>\n",
       "    </tr>\n",
       "    <tr>\n",
       "      <th>2474</th>\n",
       "      <td>Peque</td>\n",
       "      <td>es ESP</td>\n",
       "      <td>MF,FW</td>\n",
       "      <td>Racing Sant</td>\n",
       "      <td>21-153</td>\n",
       "      <td>2002</td>\n",
       "      <td>28</td>\n",
       "      <td>1943</td>\n",
       "      <td>14</td>\n",
       "      <td>1</td>\n",
       "      <td>15</td>\n",
       "      <td>10.3</td>\n",
       "      <td>2.0</td>\n",
       "      <td>6.8</td>\n",
       "      <td>0.65</td>\n",
       "      <td>0.05</td>\n",
       "      <td>0.69</td>\n",
       "      <td>0.48</td>\n",
       "      <td>0.09</td>\n",
       "      <td>0.57</td>\n",
       "    </tr>\n",
       "    <tr>\n",
       "      <th>407</th>\n",
       "      <td>Igor Matanovic</td>\n",
       "      <td>hr CRO</td>\n",
       "      <td>FW</td>\n",
       "      <td>Karlsruher</td>\n",
       "      <td>20-340</td>\n",
       "      <td>2003</td>\n",
       "      <td>22</td>\n",
       "      <td>1495</td>\n",
       "      <td>10</td>\n",
       "      <td>4</td>\n",
       "      <td>14</td>\n",
       "      <td>6.8</td>\n",
       "      <td>2.0</td>\n",
       "      <td>8.7</td>\n",
       "      <td>0.60</td>\n",
       "      <td>0.24</td>\n",
       "      <td>0.84</td>\n",
       "      <td>0.41</td>\n",
       "      <td>0.12</td>\n",
       "      <td>0.52</td>\n",
       "    </tr>\n",
       "    <tr>\n",
       "      <th>582</th>\n",
       "      <td>Can Yılmaz Uzun</td>\n",
       "      <td>tr TUR</td>\n",
       "      <td>MF,FW</td>\n",
       "      <td>Nürnberg</td>\n",
       "      <td>18-115</td>\n",
       "      <td>2005</td>\n",
       "      <td>21</td>\n",
       "      <td>1366</td>\n",
       "      <td>12</td>\n",
       "      <td>1</td>\n",
       "      <td>13</td>\n",
       "      <td>7.1</td>\n",
       "      <td>1.7</td>\n",
       "      <td>5.6</td>\n",
       "      <td>0.79</td>\n",
       "      <td>0.07</td>\n",
       "      <td>0.86</td>\n",
       "      <td>0.47</td>\n",
       "      <td>0.11</td>\n",
       "      <td>0.58</td>\n",
       "    </tr>\n",
       "    <tr>\n",
       "      <th>1173</th>\n",
       "      <td>Killian Corredor</td>\n",
       "      <td>fr FRA</td>\n",
       "      <td>FW</td>\n",
       "      <td>Rodez Aveyron</td>\n",
       "      <td>23-122</td>\n",
       "      <td>2000</td>\n",
       "      <td>27</td>\n",
       "      <td>2197</td>\n",
       "      <td>8</td>\n",
       "      <td>5</td>\n",
       "      <td>13</td>\n",
       "      <td>8.9</td>\n",
       "      <td>2.9</td>\n",
       "      <td>11.8</td>\n",
       "      <td>0.33</td>\n",
       "      <td>0.20</td>\n",
       "      <td>0.53</td>\n",
       "      <td>0.37</td>\n",
       "      <td>0.12</td>\n",
       "      <td>0.48</td>\n",
       "    </tr>\n",
       "    <tr>\n",
       "      <th>1274</th>\n",
       "      <td>Andreas Hountondji</td>\n",
       "      <td>bj BEN</td>\n",
       "      <td>FW</td>\n",
       "      <td>Rodez Aveyron</td>\n",
       "      <td>21-238</td>\n",
       "      <td>2002</td>\n",
       "      <td>24</td>\n",
       "      <td>1575</td>\n",
       "      <td>10</td>\n",
       "      <td>3</td>\n",
       "      <td>13</td>\n",
       "      <td>9.3</td>\n",
       "      <td>3.0</td>\n",
       "      <td>12.3</td>\n",
       "      <td>0.57</td>\n",
       "      <td>0.17</td>\n",
       "      <td>0.74</td>\n",
       "      <td>0.53</td>\n",
       "      <td>0.17</td>\n",
       "      <td>0.70</td>\n",
       "    </tr>\n",
       "    <tr>\n",
       "      <th>2359</th>\n",
       "      <td>Losada</td>\n",
       "      <td>es ESP</td>\n",
       "      <td>MF,FW</td>\n",
       "      <td>Racing Ferrol</td>\n",
       "      <td>22-217</td>\n",
       "      <td>2001</td>\n",
       "      <td>29</td>\n",
       "      <td>2314</td>\n",
       "      <td>7</td>\n",
       "      <td>6</td>\n",
       "      <td>13</td>\n",
       "      <td>4.8</td>\n",
       "      <td>3.0</td>\n",
       "      <td>7.8</td>\n",
       "      <td>0.27</td>\n",
       "      <td>0.23</td>\n",
       "      <td>0.51</td>\n",
       "      <td>0.19</td>\n",
       "      <td>0.12</td>\n",
       "      <td>0.30</td>\n",
       "    </tr>\n",
       "    <tr>\n",
       "      <th>2378</th>\n",
       "      <td>Carlos Martín</td>\n",
       "      <td>es ESP</td>\n",
       "      <td>MF,FW</td>\n",
       "      <td>CD Mirandés</td>\n",
       "      <td>21-318</td>\n",
       "      <td>2002</td>\n",
       "      <td>27</td>\n",
       "      <td>1880</td>\n",
       "      <td>11</td>\n",
       "      <td>2</td>\n",
       "      <td>13</td>\n",
       "      <td>9.1</td>\n",
       "      <td>2.2</td>\n",
       "      <td>8.2</td>\n",
       "      <td>0.53</td>\n",
       "      <td>0.10</td>\n",
       "      <td>0.62</td>\n",
       "      <td>0.43</td>\n",
       "      <td>0.10</td>\n",
       "      <td>0.54</td>\n",
       "    </tr>\n",
       "    <tr>\n",
       "      <th>2679</th>\n",
       "      <td>Adrian Benedyczak</td>\n",
       "      <td>pl POL</td>\n",
       "      <td>FW</td>\n",
       "      <td>Parma</td>\n",
       "      <td>23-102</td>\n",
       "      <td>2000</td>\n",
       "      <td>26</td>\n",
       "      <td>1569</td>\n",
       "      <td>10</td>\n",
       "      <td>3</td>\n",
       "      <td>13</td>\n",
       "      <td>9.1</td>\n",
       "      <td>1.3</td>\n",
       "      <td>5.7</td>\n",
       "      <td>0.57</td>\n",
       "      <td>0.17</td>\n",
       "      <td>0.75</td>\n",
       "      <td>0.53</td>\n",
       "      <td>0.08</td>\n",
       "      <td>0.60</td>\n",
       "    </tr>\n",
       "    <tr>\n",
       "      <th>830</th>\n",
       "      <td>Nicolas Madsen</td>\n",
       "      <td>dk DEN</td>\n",
       "      <td>MF</td>\n",
       "      <td>Westerlo</td>\n",
       "      <td>23-354</td>\n",
       "      <td>2000</td>\n",
       "      <td>25</td>\n",
       "      <td>1931</td>\n",
       "      <td>12</td>\n",
       "      <td>0</td>\n",
       "      <td>12</td>\n",
       "      <td>8.2</td>\n",
       "      <td>3.7</td>\n",
       "      <td>5.6</td>\n",
       "      <td>0.56</td>\n",
       "      <td>0.00</td>\n",
       "      <td>0.56</td>\n",
       "      <td>0.38</td>\n",
       "      <td>0.17</td>\n",
       "      <td>0.55</td>\n",
       "    </tr>\n",
       "    <tr>\n",
       "      <th>1453</th>\n",
       "      <td>Amine El Ouazzani</td>\n",
       "      <td>ma MAR</td>\n",
       "      <td>FW</td>\n",
       "      <td>Guingamp</td>\n",
       "      <td>22-234</td>\n",
       "      <td>2001</td>\n",
       "      <td>27</td>\n",
       "      <td>2168</td>\n",
       "      <td>7</td>\n",
       "      <td>5</td>\n",
       "      <td>12</td>\n",
       "      <td>8.8</td>\n",
       "      <td>3.2</td>\n",
       "      <td>11.2</td>\n",
       "      <td>0.29</td>\n",
       "      <td>0.21</td>\n",
       "      <td>0.50</td>\n",
       "      <td>0.37</td>\n",
       "      <td>0.13</td>\n",
       "      <td>0.50</td>\n",
       "    </tr>\n",
       "    <tr>\n",
       "      <th>1534</th>\n",
       "      <td>Sambou Soumano</td>\n",
       "      <td>sn SEN</td>\n",
       "      <td>FW</td>\n",
       "      <td>Quevilly-Rouen</td>\n",
       "      <td>23-062</td>\n",
       "      <td>2001</td>\n",
       "      <td>26</td>\n",
       "      <td>1981</td>\n",
       "      <td>11</td>\n",
       "      <td>1</td>\n",
       "      <td>12</td>\n",
       "      <td>7.8</td>\n",
       "      <td>2.0</td>\n",
       "      <td>9.8</td>\n",
       "      <td>0.50</td>\n",
       "      <td>0.05</td>\n",
       "      <td>0.55</td>\n",
       "      <td>0.35</td>\n",
       "      <td>0.09</td>\n",
       "      <td>0.44</td>\n",
       "    </tr>\n",
       "  </tbody>\n",
       "</table>\n",
       "</div>"
      ],
      "text/plain": [
       "                       Player  Nation Position           Squad     Age  Born  \\\n",
       "704              Kevin Denkey  tg TOG       FW   Cercle Brugge  23-096  2000   \n",
       "609   Mohamed El Amine Amoura  dz ALG       FW        Union SG  23-301  2000   \n",
       "993                    Thiago  br BRA       FW     Club Brugge  22-253  2001   \n",
       "559           Christos Tzolis  gr GRE    FW,MF      Düsseldorf  22-035  2002   \n",
       "2474                    Peque  es ESP    MF,FW     Racing Sant  21-153  2002   \n",
       "407            Igor Matanovic  hr CRO       FW      Karlsruher  20-340  2003   \n",
       "582           Can Yılmaz Uzun  tr TUR    MF,FW        Nürnberg  18-115  2005   \n",
       "1173         Killian Corredor  fr FRA       FW   Rodez Aveyron  23-122  2000   \n",
       "1274       Andreas Hountondji  bj BEN       FW   Rodez Aveyron  21-238  2002   \n",
       "2359                   Losada  es ESP    MF,FW   Racing Ferrol  22-217  2001   \n",
       "2378            Carlos Martín  es ESP    MF,FW     CD Mirandés  21-318  2002   \n",
       "2679        Adrian Benedyczak  pl POL       FW           Parma  23-102  2000   \n",
       "830            Nicolas Madsen  dk DEN       MF        Westerlo  23-354  2000   \n",
       "1453        Amine El Ouazzani  ma MAR       FW        Guingamp  22-234  2001   \n",
       "1534           Sambou Soumano  sn SEN       FW  Quevilly-Rouen  23-062  2001   \n",
       "\n",
       "      Matches Played  Minutes Played  Goals  Assists  Goals + Assists  \\\n",
       "704               26            2314     22        0               22   \n",
       "609               22            1360     17        2               19   \n",
       "993               25            1750     16        2               18   \n",
       "559               21            1578     13        3               16   \n",
       "2474              28            1943     14        1               15   \n",
       "407               22            1495     10        4               14   \n",
       "582               21            1366     12        1               13   \n",
       "1173              27            2197      8        5               13   \n",
       "1274              24            1575     10        3               13   \n",
       "2359              29            2314      7        6               13   \n",
       "2378              27            1880     11        2               13   \n",
       "2679              26            1569     10        3               13   \n",
       "830               25            1931     12        0               12   \n",
       "1453              27            2168      7        5               12   \n",
       "1534              26            1981     11        1               12   \n",
       "\n",
       "      Expected Goals  Expected Assists  Expected Goals + Assists  \\\n",
       "704             18.0               2.7                      18.3   \n",
       "609             10.6               2.2                      12.0   \n",
       "993             16.2               3.0                      13.7   \n",
       "559             10.7               3.2                      10.8   \n",
       "2474            10.3               2.0                       6.8   \n",
       "407              6.8               2.0                       8.7   \n",
       "582              7.1               1.7                       5.6   \n",
       "1173             8.9               2.9                      11.8   \n",
       "1274             9.3               3.0                      12.3   \n",
       "2359             4.8               3.0                       7.8   \n",
       "2378             9.1               2.2                       8.2   \n",
       "2679             9.1               1.3                       5.7   \n",
       "830              8.2               3.7                       5.6   \n",
       "1453             8.8               3.2                      11.2   \n",
       "1534             7.8               2.0                       9.8   \n",
       "\n",
       "      Goals per 90  Assists per 90  Goals + Assists per 90  \\\n",
       "704           0.86            0.00                    0.86   \n",
       "609           1.13            0.13                    1.26   \n",
       "993           0.82            0.10                    0.93   \n",
       "559           0.74            0.17                    0.91   \n",
       "2474          0.65            0.05                    0.69   \n",
       "407           0.60            0.24                    0.84   \n",
       "582           0.79            0.07                    0.86   \n",
       "1173          0.33            0.20                    0.53   \n",
       "1274          0.57            0.17                    0.74   \n",
       "2359          0.27            0.23                    0.51   \n",
       "2378          0.53            0.10                    0.62   \n",
       "2679          0.57            0.17                    0.75   \n",
       "830           0.56            0.00                    0.56   \n",
       "1453          0.29            0.21                    0.50   \n",
       "1534          0.50            0.05                    0.55   \n",
       "\n",
       "      Expected Goals per 90  Expected Assists per 90  \\\n",
       "704                    0.70                     0.10   \n",
       "609                    0.70                     0.14   \n",
       "993                    0.83                     0.16   \n",
       "559                    0.61                     0.18   \n",
       "2474                   0.48                     0.09   \n",
       "407                    0.41                     0.12   \n",
       "582                    0.47                     0.11   \n",
       "1173                   0.37                     0.12   \n",
       "1274                   0.53                     0.17   \n",
       "2359                   0.19                     0.12   \n",
       "2378                   0.43                     0.10   \n",
       "2679                   0.53                     0.08   \n",
       "830                    0.38                     0.17   \n",
       "1453                   0.37                     0.13   \n",
       "1534                   0.35                     0.09   \n",
       "\n",
       "      Expected Goals + Assists per 90  \n",
       "704                              0.81  \n",
       "609                              0.84  \n",
       "993                              0.99  \n",
       "559                              0.79  \n",
       "2474                             0.57  \n",
       "407                              0.52  \n",
       "582                              0.58  \n",
       "1173                             0.48  \n",
       "1274                             0.70  \n",
       "2359                             0.30  \n",
       "2378                             0.54  \n",
       "2679                             0.60  \n",
       "830                              0.55  \n",
       "1453                             0.50  \n",
       "1534                             0.44  "
      ]
     },
     "execution_count": 65,
     "metadata": {},
     "output_type": "execute_result"
    }
   ],
   "source": [
    "good_u23_goals_assists = strikers_under_23.nlargest(30, 'Goals + Assists')\n",
    "good_u23_goals_assists.head(15)\n"
   ]
  },
  {
   "cell_type": "code",
   "execution_count": 66,
   "metadata": {},
   "outputs": [
    {
     "data": {
      "application/vnd.plotly.v1+json": {
       "config": {
        "plotlyServerURL": "https://plot.ly"
       },
       "data": [
        {
         "alignmentgroup": "True",
         "hovertemplate": "Metric=Goals + Assists per 90<br>Goal Contributions=%{x}<br>Player=%{y}<extra></extra>",
         "legendgroup": "Goals + Assists per 90",
         "marker": {
          "color": "#636efa",
          "pattern": {
           "shape": ""
          }
         },
         "name": "Goals + Assists per 90",
         "offsetgroup": "Goals + Assists per 90",
         "orientation": "h",
         "showlegend": true,
         "textposition": "auto",
         "type": "bar",
         "x": [
          0.36,
          0.4,
          0.45,
          0.48,
          0.5,
          0.51,
          0.51,
          0.52,
          0.53,
          0.53,
          0.55,
          0.56,
          0.56,
          0.62,
          0.64,
          0.64,
          0.66,
          0.69,
          0.73,
          0.74,
          0.74,
          0.75,
          0.77,
          0.78,
          0.84,
          0.86,
          0.86,
          0.91,
          0.93,
          1.26
         ],
         "xaxis": "x",
         "y": [
          "Gabri Martínez",
          "Jarne Steuckers",
          "Gaspar Campos",
          "Antonio Raimondo",
          "Amine El Ouazzani",
          "Losada",
          "Theo Leoni",
          "Rafiki Said",
          "Killian Corredor",
          "Álex Forés",
          "Sambou Soumano",
          "Nicolas Madsen",
          "Michel-Ange Balikwisha",
          "Carlos Martín",
          "Armindo Sieb",
          "Arana",
          "Filip Bilbija",
          "Peque",
          "Gennaro Borrelli",
          "Alan Minda",
          "Andreas Hountondji",
          "Adrian Benedyczak",
          "Tolu Arokodare",
          "Alejandro Marqués",
          "Igor Matanovic",
          "Can Yılmaz Uzun",
          "Kevin Denkey",
          "Christos Tzolis",
          "Thiago",
          "Mohamed El Amine Amoura"
         ],
         "yaxis": "y"
        },
        {
         "alignmentgroup": "True",
         "hovertemplate": "Metric=Goals + Assists<br>Goal Contributions=%{x}<br>Player=%{y}<extra></extra>",
         "legendgroup": "Goals + Assists",
         "marker": {
          "color": "#EF553B",
          "pattern": {
           "shape": ""
          }
         },
         "name": "Goals + Assists",
         "offsetgroup": "Goals + Assists",
         "orientation": "h",
         "showlegend": true,
         "textposition": "auto",
         "type": "bar",
         "x": [
          9,
          10,
          10,
          10,
          10,
          10,
          10,
          10,
          10,
          10,
          10,
          10,
          11,
          11,
          12,
          12,
          12,
          12,
          13,
          13,
          13,
          13,
          13,
          13,
          14,
          15,
          16,
          18,
          19,
          22
         ],
         "xaxis": "x",
         "y": [
          "Filip Bilbija",
          "Gennaro Borrelli",
          "Gabri Martínez",
          "Gaspar Campos",
          "Alejandro Marqués",
          "Jarne Steuckers",
          "Theo Leoni",
          "Michel-Ange Balikwisha",
          "Tolu Arokodare",
          "Armindo Sieb",
          "Arana",
          "Antonio Raimondo",
          "Rafiki Said",
          "Alan Minda",
          "Nicolas Madsen",
          "Amine El Ouazzani",
          "Álex Forés",
          "Sambou Soumano",
          "Adrian Benedyczak",
          "Carlos Martín",
          "Losada",
          "Andreas Hountondji",
          "Killian Corredor",
          "Can Yılmaz Uzun",
          "Igor Matanovic",
          "Peque",
          "Christos Tzolis",
          "Thiago",
          "Mohamed El Amine Amoura",
          "Kevin Denkey"
         ],
         "yaxis": "y"
        }
       ],
       "layout": {
        "barmode": "relative",
        "height": 600,
        "legend": {
         "title": {
          "text": "Metric"
         },
         "tracegroupgap": 0
        },
        "template": {
         "data": {
          "bar": [
           {
            "error_x": {
             "color": "#2a3f5f"
            },
            "error_y": {
             "color": "#2a3f5f"
            },
            "marker": {
             "line": {
              "color": "#E5ECF6",
              "width": 0.5
             },
             "pattern": {
              "fillmode": "overlay",
              "size": 10,
              "solidity": 0.2
             }
            },
            "type": "bar"
           }
          ],
          "barpolar": [
           {
            "marker": {
             "line": {
              "color": "#E5ECF6",
              "width": 0.5
             },
             "pattern": {
              "fillmode": "overlay",
              "size": 10,
              "solidity": 0.2
             }
            },
            "type": "barpolar"
           }
          ],
          "carpet": [
           {
            "aaxis": {
             "endlinecolor": "#2a3f5f",
             "gridcolor": "white",
             "linecolor": "white",
             "minorgridcolor": "white",
             "startlinecolor": "#2a3f5f"
            },
            "baxis": {
             "endlinecolor": "#2a3f5f",
             "gridcolor": "white",
             "linecolor": "white",
             "minorgridcolor": "white",
             "startlinecolor": "#2a3f5f"
            },
            "type": "carpet"
           }
          ],
          "choropleth": [
           {
            "colorbar": {
             "outlinewidth": 0,
             "ticks": ""
            },
            "type": "choropleth"
           }
          ],
          "contour": [
           {
            "colorbar": {
             "outlinewidth": 0,
             "ticks": ""
            },
            "colorscale": [
             [
              0,
              "#0d0887"
             ],
             [
              0.1111111111111111,
              "#46039f"
             ],
             [
              0.2222222222222222,
              "#7201a8"
             ],
             [
              0.3333333333333333,
              "#9c179e"
             ],
             [
              0.4444444444444444,
              "#bd3786"
             ],
             [
              0.5555555555555556,
              "#d8576b"
             ],
             [
              0.6666666666666666,
              "#ed7953"
             ],
             [
              0.7777777777777778,
              "#fb9f3a"
             ],
             [
              0.8888888888888888,
              "#fdca26"
             ],
             [
              1,
              "#f0f921"
             ]
            ],
            "type": "contour"
           }
          ],
          "contourcarpet": [
           {
            "colorbar": {
             "outlinewidth": 0,
             "ticks": ""
            },
            "type": "contourcarpet"
           }
          ],
          "heatmap": [
           {
            "colorbar": {
             "outlinewidth": 0,
             "ticks": ""
            },
            "colorscale": [
             [
              0,
              "#0d0887"
             ],
             [
              0.1111111111111111,
              "#46039f"
             ],
             [
              0.2222222222222222,
              "#7201a8"
             ],
             [
              0.3333333333333333,
              "#9c179e"
             ],
             [
              0.4444444444444444,
              "#bd3786"
             ],
             [
              0.5555555555555556,
              "#d8576b"
             ],
             [
              0.6666666666666666,
              "#ed7953"
             ],
             [
              0.7777777777777778,
              "#fb9f3a"
             ],
             [
              0.8888888888888888,
              "#fdca26"
             ],
             [
              1,
              "#f0f921"
             ]
            ],
            "type": "heatmap"
           }
          ],
          "heatmapgl": [
           {
            "colorbar": {
             "outlinewidth": 0,
             "ticks": ""
            },
            "colorscale": [
             [
              0,
              "#0d0887"
             ],
             [
              0.1111111111111111,
              "#46039f"
             ],
             [
              0.2222222222222222,
              "#7201a8"
             ],
             [
              0.3333333333333333,
              "#9c179e"
             ],
             [
              0.4444444444444444,
              "#bd3786"
             ],
             [
              0.5555555555555556,
              "#d8576b"
             ],
             [
              0.6666666666666666,
              "#ed7953"
             ],
             [
              0.7777777777777778,
              "#fb9f3a"
             ],
             [
              0.8888888888888888,
              "#fdca26"
             ],
             [
              1,
              "#f0f921"
             ]
            ],
            "type": "heatmapgl"
           }
          ],
          "histogram": [
           {
            "marker": {
             "pattern": {
              "fillmode": "overlay",
              "size": 10,
              "solidity": 0.2
             }
            },
            "type": "histogram"
           }
          ],
          "histogram2d": [
           {
            "colorbar": {
             "outlinewidth": 0,
             "ticks": ""
            },
            "colorscale": [
             [
              0,
              "#0d0887"
             ],
             [
              0.1111111111111111,
              "#46039f"
             ],
             [
              0.2222222222222222,
              "#7201a8"
             ],
             [
              0.3333333333333333,
              "#9c179e"
             ],
             [
              0.4444444444444444,
              "#bd3786"
             ],
             [
              0.5555555555555556,
              "#d8576b"
             ],
             [
              0.6666666666666666,
              "#ed7953"
             ],
             [
              0.7777777777777778,
              "#fb9f3a"
             ],
             [
              0.8888888888888888,
              "#fdca26"
             ],
             [
              1,
              "#f0f921"
             ]
            ],
            "type": "histogram2d"
           }
          ],
          "histogram2dcontour": [
           {
            "colorbar": {
             "outlinewidth": 0,
             "ticks": ""
            },
            "colorscale": [
             [
              0,
              "#0d0887"
             ],
             [
              0.1111111111111111,
              "#46039f"
             ],
             [
              0.2222222222222222,
              "#7201a8"
             ],
             [
              0.3333333333333333,
              "#9c179e"
             ],
             [
              0.4444444444444444,
              "#bd3786"
             ],
             [
              0.5555555555555556,
              "#d8576b"
             ],
             [
              0.6666666666666666,
              "#ed7953"
             ],
             [
              0.7777777777777778,
              "#fb9f3a"
             ],
             [
              0.8888888888888888,
              "#fdca26"
             ],
             [
              1,
              "#f0f921"
             ]
            ],
            "type": "histogram2dcontour"
           }
          ],
          "mesh3d": [
           {
            "colorbar": {
             "outlinewidth": 0,
             "ticks": ""
            },
            "type": "mesh3d"
           }
          ],
          "parcoords": [
           {
            "line": {
             "colorbar": {
              "outlinewidth": 0,
              "ticks": ""
             }
            },
            "type": "parcoords"
           }
          ],
          "pie": [
           {
            "automargin": true,
            "type": "pie"
           }
          ],
          "scatter": [
           {
            "fillpattern": {
             "fillmode": "overlay",
             "size": 10,
             "solidity": 0.2
            },
            "type": "scatter"
           }
          ],
          "scatter3d": [
           {
            "line": {
             "colorbar": {
              "outlinewidth": 0,
              "ticks": ""
             }
            },
            "marker": {
             "colorbar": {
              "outlinewidth": 0,
              "ticks": ""
             }
            },
            "type": "scatter3d"
           }
          ],
          "scattercarpet": [
           {
            "marker": {
             "colorbar": {
              "outlinewidth": 0,
              "ticks": ""
             }
            },
            "type": "scattercarpet"
           }
          ],
          "scattergeo": [
           {
            "marker": {
             "colorbar": {
              "outlinewidth": 0,
              "ticks": ""
             }
            },
            "type": "scattergeo"
           }
          ],
          "scattergl": [
           {
            "marker": {
             "colorbar": {
              "outlinewidth": 0,
              "ticks": ""
             }
            },
            "type": "scattergl"
           }
          ],
          "scattermapbox": [
           {
            "marker": {
             "colorbar": {
              "outlinewidth": 0,
              "ticks": ""
             }
            },
            "type": "scattermapbox"
           }
          ],
          "scatterpolar": [
           {
            "marker": {
             "colorbar": {
              "outlinewidth": 0,
              "ticks": ""
             }
            },
            "type": "scatterpolar"
           }
          ],
          "scatterpolargl": [
           {
            "marker": {
             "colorbar": {
              "outlinewidth": 0,
              "ticks": ""
             }
            },
            "type": "scatterpolargl"
           }
          ],
          "scatterternary": [
           {
            "marker": {
             "colorbar": {
              "outlinewidth": 0,
              "ticks": ""
             }
            },
            "type": "scatterternary"
           }
          ],
          "surface": [
           {
            "colorbar": {
             "outlinewidth": 0,
             "ticks": ""
            },
            "colorscale": [
             [
              0,
              "#0d0887"
             ],
             [
              0.1111111111111111,
              "#46039f"
             ],
             [
              0.2222222222222222,
              "#7201a8"
             ],
             [
              0.3333333333333333,
              "#9c179e"
             ],
             [
              0.4444444444444444,
              "#bd3786"
             ],
             [
              0.5555555555555556,
              "#d8576b"
             ],
             [
              0.6666666666666666,
              "#ed7953"
             ],
             [
              0.7777777777777778,
              "#fb9f3a"
             ],
             [
              0.8888888888888888,
              "#fdca26"
             ],
             [
              1,
              "#f0f921"
             ]
            ],
            "type": "surface"
           }
          ],
          "table": [
           {
            "cells": {
             "fill": {
              "color": "#EBF0F8"
             },
             "line": {
              "color": "white"
             }
            },
            "header": {
             "fill": {
              "color": "#C8D4E3"
             },
             "line": {
              "color": "white"
             }
            },
            "type": "table"
           }
          ]
         },
         "layout": {
          "annotationdefaults": {
           "arrowcolor": "#2a3f5f",
           "arrowhead": 0,
           "arrowwidth": 1
          },
          "autotypenumbers": "strict",
          "coloraxis": {
           "colorbar": {
            "outlinewidth": 0,
            "ticks": ""
           }
          },
          "colorscale": {
           "diverging": [
            [
             0,
             "#8e0152"
            ],
            [
             0.1,
             "#c51b7d"
            ],
            [
             0.2,
             "#de77ae"
            ],
            [
             0.3,
             "#f1b6da"
            ],
            [
             0.4,
             "#fde0ef"
            ],
            [
             0.5,
             "#f7f7f7"
            ],
            [
             0.6,
             "#e6f5d0"
            ],
            [
             0.7,
             "#b8e186"
            ],
            [
             0.8,
             "#7fbc41"
            ],
            [
             0.9,
             "#4d9221"
            ],
            [
             1,
             "#276419"
            ]
           ],
           "sequential": [
            [
             0,
             "#0d0887"
            ],
            [
             0.1111111111111111,
             "#46039f"
            ],
            [
             0.2222222222222222,
             "#7201a8"
            ],
            [
             0.3333333333333333,
             "#9c179e"
            ],
            [
             0.4444444444444444,
             "#bd3786"
            ],
            [
             0.5555555555555556,
             "#d8576b"
            ],
            [
             0.6666666666666666,
             "#ed7953"
            ],
            [
             0.7777777777777778,
             "#fb9f3a"
            ],
            [
             0.8888888888888888,
             "#fdca26"
            ],
            [
             1,
             "#f0f921"
            ]
           ],
           "sequentialminus": [
            [
             0,
             "#0d0887"
            ],
            [
             0.1111111111111111,
             "#46039f"
            ],
            [
             0.2222222222222222,
             "#7201a8"
            ],
            [
             0.3333333333333333,
             "#9c179e"
            ],
            [
             0.4444444444444444,
             "#bd3786"
            ],
            [
             0.5555555555555556,
             "#d8576b"
            ],
            [
             0.6666666666666666,
             "#ed7953"
            ],
            [
             0.7777777777777778,
             "#fb9f3a"
            ],
            [
             0.8888888888888888,
             "#fdca26"
            ],
            [
             1,
             "#f0f921"
            ]
           ]
          },
          "colorway": [
           "#636efa",
           "#EF553B",
           "#00cc96",
           "#ab63fa",
           "#FFA15A",
           "#19d3f3",
           "#FF6692",
           "#B6E880",
           "#FF97FF",
           "#FECB52"
          ],
          "font": {
           "color": "#2a3f5f"
          },
          "geo": {
           "bgcolor": "white",
           "lakecolor": "white",
           "landcolor": "#E5ECF6",
           "showlakes": true,
           "showland": true,
           "subunitcolor": "white"
          },
          "hoverlabel": {
           "align": "left"
          },
          "hovermode": "closest",
          "mapbox": {
           "style": "light"
          },
          "paper_bgcolor": "white",
          "plot_bgcolor": "#E5ECF6",
          "polar": {
           "angularaxis": {
            "gridcolor": "white",
            "linecolor": "white",
            "ticks": ""
           },
           "bgcolor": "#E5ECF6",
           "radialaxis": {
            "gridcolor": "white",
            "linecolor": "white",
            "ticks": ""
           }
          },
          "scene": {
           "xaxis": {
            "backgroundcolor": "#E5ECF6",
            "gridcolor": "white",
            "gridwidth": 2,
            "linecolor": "white",
            "showbackground": true,
            "ticks": "",
            "zerolinecolor": "white"
           },
           "yaxis": {
            "backgroundcolor": "#E5ECF6",
            "gridcolor": "white",
            "gridwidth": 2,
            "linecolor": "white",
            "showbackground": true,
            "ticks": "",
            "zerolinecolor": "white"
           },
           "zaxis": {
            "backgroundcolor": "#E5ECF6",
            "gridcolor": "white",
            "gridwidth": 2,
            "linecolor": "white",
            "showbackground": true,
            "ticks": "",
            "zerolinecolor": "white"
           }
          },
          "shapedefaults": {
           "line": {
            "color": "#2a3f5f"
           }
          },
          "ternary": {
           "aaxis": {
            "gridcolor": "white",
            "linecolor": "white",
            "ticks": ""
           },
           "baxis": {
            "gridcolor": "white",
            "linecolor": "white",
            "ticks": ""
           },
           "bgcolor": "#E5ECF6",
           "caxis": {
            "gridcolor": "white",
            "linecolor": "white",
            "ticks": ""
           }
          },
          "title": {
           "x": 0.05
          },
          "xaxis": {
           "automargin": true,
           "gridcolor": "white",
           "linecolor": "white",
           "ticks": "",
           "title": {
            "standoff": 15
           },
           "zerolinecolor": "white",
           "zerolinewidth": 2
          },
          "yaxis": {
           "automargin": true,
           "gridcolor": "white",
           "linecolor": "white",
           "ticks": "",
           "title": {
            "standoff": 15
           },
           "zerolinecolor": "white",
           "zerolinewidth": 2
          }
         }
        },
        "title": {
         "text": "Total goals contributions vs goal contributions per 90-minutes for under-23 Strikers"
        },
        "xaxis": {
         "anchor": "y",
         "domain": [
          0,
          1
         ],
         "title": {
          "text": "Goal Contributions"
         }
        },
        "yaxis": {
         "anchor": "x",
         "domain": [
          0,
          1
         ],
         "title": {
          "text": "Player"
         }
        }
       }
      }
     },
     "metadata": {},
     "output_type": "display_data"
    }
   ],
   "source": [
    "melted_good_u23_goals_assists = pd.melt(good_u23_goals_assists, id_vars=['Player'], value_vars=['Goals + Assists', 'Goals + Assists per 90'], var_name='Metric', value_name='Goal Contributions')\n",
    "sorted_good_u23_goals_assists = melted_good_u23_goals_assists.sort_values(by='Goal Contributions', ascending=True)\n",
    "\n",
    "fig = px.bar(sorted_good_u23_goals_assists,\n",
    "             x='Goal Contributions', \n",
    "             y='Player', \n",
    "             color='Metric',\n",
    "             title='Total goals contributions vs goal contributions per 90-minutes for under-23 Strikers',\n",
    "             orientation='h',\n",
    "             height=600)\n",
    "\n",
    "fig.show()"
   ]
  },
  {
   "cell_type": "markdown",
   "metadata": {},
   "source": [
    "So at this point, I have a good idea of the talented players in the pool of under-23 strikers. I am currently looking for the top 5 strikers, who have outlier performances with total goals scored and/or goals scored per 90 minutes. \n",
    "\n",
    "#### Goals\n",
    "There are a few recurring names in the tables and data visualisations above, who are scoring both an impressive number of goals, especially for the number of matches played, but also posting good stats for goals scored per 90 minutes. When factored with a minimum baseline for matches/minutes, these players are demonstrating outlier performances as talented under-23 forwards. Based on the above information, I am interested in the following goalscoring strikers: **Kevin Denkey, Mohamed El Amine Amoura, Thiago, Can Yilmaz Uzun**.\n",
    "\n",
    "#### Assists\n",
    "There are no players that really jump out from the 'Assists' table. Those with higher 'Assists per 90' have played less minutes, which skews the data. I am going to put the 'Assists' metric to one side for now and focus on 'Goals' and 'Goal Contributions'. I will revisit the 'Assists' data for under-23 players when I am looking for an attacking winger/midfielder, who is pushing the ball forwards and creating attacking plays with successful throughball passes.\n",
    "\n",
    "#### Goal Contributions\n",
    "In addition to the aforementioned goalscorers, I am also interested in **Peque, Christian Tzolis, Adrian Benedyczak, Andreas Hountondji, Igor Matanovic**. This gives me a list of roughly 10 players. I am now going to manually collate their data (including numerous miscellaneous metrics that are more specific and personalised). I will calculate their total contribution (%) to team goals to further identify young and talented outliers. This smaller group of players will then be analysed with individual pizza graphs to better visualise their playing styles."
   ]
  },
  {
   "cell_type": "code",
   "execution_count": 118,
   "metadata": {},
   "outputs": [
    {
     "data": {
      "text/html": [
       "<div>\n",
       "<style scoped>\n",
       "    .dataframe tbody tr th:only-of-type {\n",
       "        vertical-align: middle;\n",
       "    }\n",
       "\n",
       "    .dataframe tbody tr th {\n",
       "        vertical-align: top;\n",
       "    }\n",
       "\n",
       "    .dataframe thead th {\n",
       "        text-align: right;\n",
       "    }\n",
       "</style>\n",
       "<table border=\"1\" class=\"dataframe\">\n",
       "  <thead>\n",
       "    <tr style=\"text-align: right;\">\n",
       "      <th></th>\n",
       "      <th>Player</th>\n",
       "      <th>Nation</th>\n",
       "      <th>Position</th>\n",
       "      <th>Squad</th>\n",
       "      <th>Age</th>\n",
       "      <th>Born</th>\n",
       "      <th>Matches Played</th>\n",
       "      <th>Minutes Played</th>\n",
       "      <th>Goals</th>\n",
       "      <th>Assists</th>\n",
       "      <th>Goals + Assists</th>\n",
       "      <th>Expected Goals</th>\n",
       "      <th>Expected Assists</th>\n",
       "      <th>Expected Goals + Assists</th>\n",
       "      <th>Goals per 90</th>\n",
       "      <th>Assists per 90</th>\n",
       "      <th>Goals + Assists per 90</th>\n",
       "      <th>Expected Goals per 90</th>\n",
       "      <th>Expected Assists per 90</th>\n",
       "      <th>Expected Goals + Assists per 90</th>\n",
       "    </tr>\n",
       "  </thead>\n",
       "  <tbody>\n",
       "    <tr>\n",
       "      <th>302</th>\n",
       "      <td>Igor Matanovic</td>\n",
       "      <td>hr CRO</td>\n",
       "      <td>FW</td>\n",
       "      <td>Karlsruher</td>\n",
       "      <td>20-340</td>\n",
       "      <td>2003</td>\n",
       "      <td>22</td>\n",
       "      <td>1495</td>\n",
       "      <td>10</td>\n",
       "      <td>4</td>\n",
       "      <td>14</td>\n",
       "      <td>6.8</td>\n",
       "      <td>2</td>\n",
       "      <td>8.7</td>\n",
       "      <td>0.6</td>\n",
       "      <td>0.24</td>\n",
       "      <td>0.84</td>\n",
       "      <td>0.41</td>\n",
       "      <td>0.12</td>\n",
       "      <td>0.52</td>\n",
       "    </tr>\n",
       "    <tr>\n",
       "      <th>470</th>\n",
       "      <td>Christos Tzolis</td>\n",
       "      <td>gr GRE</td>\n",
       "      <td>FW,MF</td>\n",
       "      <td>Düsseldorf</td>\n",
       "      <td>22-035</td>\n",
       "      <td>2002</td>\n",
       "      <td>21</td>\n",
       "      <td>1578</td>\n",
       "      <td>13</td>\n",
       "      <td>3</td>\n",
       "      <td>16</td>\n",
       "      <td>10.7</td>\n",
       "      <td>3.2</td>\n",
       "      <td>10.8</td>\n",
       "      <td>0.74</td>\n",
       "      <td>0.17</td>\n",
       "      <td>0.91</td>\n",
       "      <td>0.61</td>\n",
       "      <td>0.18</td>\n",
       "      <td>0.79</td>\n",
       "    </tr>\n",
       "    <tr>\n",
       "      <th>495</th>\n",
       "      <td>Can Yılmaz Uzun</td>\n",
       "      <td>tr TUR</td>\n",
       "      <td>MF,FW</td>\n",
       "      <td>Nürnberg</td>\n",
       "      <td>18-115</td>\n",
       "      <td>2005</td>\n",
       "      <td>21</td>\n",
       "      <td>1366</td>\n",
       "      <td>12</td>\n",
       "      <td>1</td>\n",
       "      <td>13</td>\n",
       "      <td>7.1</td>\n",
       "      <td>1.7</td>\n",
       "      <td>5.6</td>\n",
       "      <td>0.79</td>\n",
       "      <td>0.07</td>\n",
       "      <td>0.86</td>\n",
       "      <td>0.47</td>\n",
       "      <td>0.11</td>\n",
       "      <td>0.58</td>\n",
       "    </tr>\n",
       "    <tr>\n",
       "      <th>17</th>\n",
       "      <td>Mohamed El Amine Amoura</td>\n",
       "      <td>dz ALG</td>\n",
       "      <td>FW</td>\n",
       "      <td>Union SG</td>\n",
       "      <td>23-301</td>\n",
       "      <td>2000</td>\n",
       "      <td>22</td>\n",
       "      <td>1360</td>\n",
       "      <td>17</td>\n",
       "      <td>2</td>\n",
       "      <td>19</td>\n",
       "      <td>10.6</td>\n",
       "      <td>2.2</td>\n",
       "      <td>12.0</td>\n",
       "      <td>1.13</td>\n",
       "      <td>0.13</td>\n",
       "      <td>1.26</td>\n",
       "      <td>0.7</td>\n",
       "      <td>0.14</td>\n",
       "      <td>0.84</td>\n",
       "    </tr>\n",
       "    <tr>\n",
       "      <th>116</th>\n",
       "      <td>Kevin Denkey</td>\n",
       "      <td>tg TOG</td>\n",
       "      <td>FW</td>\n",
       "      <td>Cercle Brugge</td>\n",
       "      <td>23-096</td>\n",
       "      <td>2000</td>\n",
       "      <td>26</td>\n",
       "      <td>2314</td>\n",
       "      <td>22</td>\n",
       "      <td>0</td>\n",
       "      <td>22</td>\n",
       "      <td>18.0</td>\n",
       "      <td>2.7</td>\n",
       "      <td>18.3</td>\n",
       "      <td>0.86</td>\n",
       "      <td>0.0</td>\n",
       "      <td>0.86</td>\n",
       "      <td>0.7</td>\n",
       "      <td>0.1</td>\n",
       "      <td>0.81</td>\n",
       "    </tr>\n",
       "    <tr>\n",
       "      <th>425</th>\n",
       "      <td>Thiago</td>\n",
       "      <td>br BRA</td>\n",
       "      <td>FW</td>\n",
       "      <td>Club Brugge</td>\n",
       "      <td>22-253</td>\n",
       "      <td>2001</td>\n",
       "      <td>25</td>\n",
       "      <td>1750</td>\n",
       "      <td>16</td>\n",
       "      <td>2</td>\n",
       "      <td>18</td>\n",
       "      <td>16.2</td>\n",
       "      <td>3.0</td>\n",
       "      <td>13.7</td>\n",
       "      <td>0.82</td>\n",
       "      <td>0.1</td>\n",
       "      <td>0.93</td>\n",
       "      <td>0.83</td>\n",
       "      <td>0.16</td>\n",
       "      <td>0.99</td>\n",
       "    </tr>\n",
       "    <tr>\n",
       "      <th>262</th>\n",
       "      <td>Andreas Hountondji</td>\n",
       "      <td>bj BEN</td>\n",
       "      <td>FW</td>\n",
       "      <td>Rodez Aveyron</td>\n",
       "      <td>21-238</td>\n",
       "      <td>2002</td>\n",
       "      <td>24</td>\n",
       "      <td>1575</td>\n",
       "      <td>10</td>\n",
       "      <td>3</td>\n",
       "      <td>13</td>\n",
       "      <td>9.3</td>\n",
       "      <td>3</td>\n",
       "      <td>12.3</td>\n",
       "      <td>0.57</td>\n",
       "      <td>0.17</td>\n",
       "      <td>0.74</td>\n",
       "      <td>0.53</td>\n",
       "      <td>0.17</td>\n",
       "      <td>0.7</td>\n",
       "    </tr>\n",
       "    <tr>\n",
       "      <th>484</th>\n",
       "      <td>Peque</td>\n",
       "      <td>es ESP</td>\n",
       "      <td>MF,FW</td>\n",
       "      <td>Racing Sant</td>\n",
       "      <td>21-153</td>\n",
       "      <td>2002</td>\n",
       "      <td>28</td>\n",
       "      <td>1943</td>\n",
       "      <td>14</td>\n",
       "      <td>1</td>\n",
       "      <td>15</td>\n",
       "      <td>10.3</td>\n",
       "      <td>2</td>\n",
       "      <td>6.8</td>\n",
       "      <td>0.65</td>\n",
       "      <td>0.05</td>\n",
       "      <td>0.69</td>\n",
       "      <td>0.48</td>\n",
       "      <td>0.09</td>\n",
       "      <td>0.57</td>\n",
       "    </tr>\n",
       "    <tr>\n",
       "      <th>58</th>\n",
       "      <td>Adrian Benedyczak</td>\n",
       "      <td>pl POL</td>\n",
       "      <td>FW</td>\n",
       "      <td>Parma</td>\n",
       "      <td>23-102</td>\n",
       "      <td>2000</td>\n",
       "      <td>26</td>\n",
       "      <td>1569</td>\n",
       "      <td>10</td>\n",
       "      <td>3</td>\n",
       "      <td>13</td>\n",
       "      <td>9.1</td>\n",
       "      <td>1.3</td>\n",
       "      <td>5.7</td>\n",
       "      <td>0.57</td>\n",
       "      <td>0.17</td>\n",
       "      <td>0.75</td>\n",
       "      <td>0.53</td>\n",
       "      <td>0.08</td>\n",
       "      <td>0.6</td>\n",
       "    </tr>\n",
       "  </tbody>\n",
       "</table>\n",
       "</div>"
      ],
      "text/plain": [
       "                      Player  Nation Position          Squad     Age  Born  \\\n",
       "302           Igor Matanovic  hr CRO       FW     Karlsruher  20-340  2003   \n",
       "470          Christos Tzolis  gr GRE    FW,MF     Düsseldorf  22-035  2002   \n",
       "495          Can Yılmaz Uzun  tr TUR    MF,FW       Nürnberg  18-115  2005   \n",
       "17   Mohamed El Amine Amoura  dz ALG       FW       Union SG  23-301  2000   \n",
       "116             Kevin Denkey  tg TOG       FW  Cercle Brugge  23-096  2000   \n",
       "425                   Thiago  br BRA       FW    Club Brugge  22-253  2001   \n",
       "262       Andreas Hountondji  bj BEN       FW  Rodez Aveyron  21-238  2002   \n",
       "484                    Peque  es ESP    MF,FW    Racing Sant  21-153  2002   \n",
       "58         Adrian Benedyczak  pl POL       FW          Parma  23-102  2000   \n",
       "\n",
       "    Matches Played Minutes Played Goals Assists Goals + Assists  \\\n",
       "302             22           1495    10       4              14   \n",
       "470             21           1578    13       3              16   \n",
       "495             21           1366    12       1              13   \n",
       "17              22           1360    17       2              19   \n",
       "116             26           2314    22       0              22   \n",
       "425             25           1750    16       2              18   \n",
       "262             24           1575    10       3              13   \n",
       "484             28           1943    14       1              15   \n",
       "58              26           1569    10       3              13   \n",
       "\n",
       "    Expected Goals Expected Assists Expected Goals + Assists Goals per 90  \\\n",
       "302            6.8                2                      8.7          0.6   \n",
       "470           10.7              3.2                     10.8         0.74   \n",
       "495            7.1              1.7                      5.6         0.79   \n",
       "17            10.6              2.2                     12.0         1.13   \n",
       "116           18.0              2.7                     18.3         0.86   \n",
       "425           16.2              3.0                     13.7         0.82   \n",
       "262            9.3                3                     12.3         0.57   \n",
       "484           10.3                2                      6.8         0.65   \n",
       "58             9.1              1.3                      5.7         0.57   \n",
       "\n",
       "    Assists per 90 Goals + Assists per 90 Expected Goals per 90  \\\n",
       "302           0.24                   0.84                  0.41   \n",
       "470           0.17                   0.91                  0.61   \n",
       "495           0.07                   0.86                  0.47   \n",
       "17            0.13                   1.26                   0.7   \n",
       "116            0.0                   0.86                   0.7   \n",
       "425            0.1                   0.93                  0.83   \n",
       "262           0.17                   0.74                  0.53   \n",
       "484           0.05                   0.69                  0.48   \n",
       "58            0.17                   0.75                  0.53   \n",
       "\n",
       "    Expected Assists per 90 Expected Goals + Assists per 90  \n",
       "302                    0.12                            0.52  \n",
       "470                    0.18                            0.79  \n",
       "495                    0.11                            0.58  \n",
       "17                     0.14                            0.84  \n",
       "116                     0.1                            0.81  \n",
       "425                    0.16                            0.99  \n",
       "262                    0.17                             0.7  \n",
       "484                    0.09                            0.57  \n",
       "58                     0.08                             0.6  "
      ]
     },
     "execution_count": 118,
     "metadata": {},
     "output_type": "execute_result"
    }
   ],
   "source": [
    "players_of_interest = ['Kevin Denkey', 'Mohamed El Amine Amoura', 'Thiago', 'Can Yılmaz Uzun', 'Peque', 'Christos Tzolis', 'Adrian Benedyczak', 'Andreas Hountondji', 'Igor Matanovic']\n",
    "focus_players_df = filtered_dataframe[filtered_dataframe['Player'].isin(players_of_interest)]\n",
    "focus_players_df"
   ]
  },
  {
   "cell_type": "code",
   "execution_count": 119,
   "metadata": {},
   "outputs": [
    {
     "data": {
      "application/vnd.plotly.v1+json": {
       "config": {
        "plotlyServerURL": "https://plot.ly"
       },
       "data": [
        {
         "customdata": [
          [
           "Igor Matanovic"
          ],
          [
           "Christos Tzolis"
          ],
          [
           "Can Yılmaz Uzun"
          ],
          [
           "Mohamed El Amine Amoura"
          ],
          [
           "Kevin Denkey"
          ],
          [
           "Thiago"
          ],
          [
           "Andreas Hountondji"
          ],
          [
           "Peque"
          ],
          [
           "Adrian Benedyczak"
          ]
         ],
         "hovertemplate": "Goals=%{x}<br>Minutes Played=%{y}<br>Player=%{customdata[0]}<extra></extra>",
         "legendgroup": "",
         "marker": {
          "color": "#636efa",
          "symbol": "circle"
         },
         "mode": "markers",
         "name": "",
         "orientation": "v",
         "showlegend": false,
         "type": "scatter",
         "x": [
          10,
          13,
          12,
          17,
          22,
          16,
          10,
          14,
          10
         ],
         "xaxis": "x",
         "y": [
          1495,
          1578,
          1366,
          1360,
          2314,
          1750,
          1575,
          1943,
          1569
         ],
         "yaxis": "y"
        }
       ],
       "layout": {
        "legend": {
         "tracegroupgap": 0
        },
        "margin": {
         "t": 60
        },
        "template": {
         "data": {
          "bar": [
           {
            "error_x": {
             "color": "#2a3f5f"
            },
            "error_y": {
             "color": "#2a3f5f"
            },
            "marker": {
             "line": {
              "color": "#E5ECF6",
              "width": 0.5
             },
             "pattern": {
              "fillmode": "overlay",
              "size": 10,
              "solidity": 0.2
             }
            },
            "type": "bar"
           }
          ],
          "barpolar": [
           {
            "marker": {
             "line": {
              "color": "#E5ECF6",
              "width": 0.5
             },
             "pattern": {
              "fillmode": "overlay",
              "size": 10,
              "solidity": 0.2
             }
            },
            "type": "barpolar"
           }
          ],
          "carpet": [
           {
            "aaxis": {
             "endlinecolor": "#2a3f5f",
             "gridcolor": "white",
             "linecolor": "white",
             "minorgridcolor": "white",
             "startlinecolor": "#2a3f5f"
            },
            "baxis": {
             "endlinecolor": "#2a3f5f",
             "gridcolor": "white",
             "linecolor": "white",
             "minorgridcolor": "white",
             "startlinecolor": "#2a3f5f"
            },
            "type": "carpet"
           }
          ],
          "choropleth": [
           {
            "colorbar": {
             "outlinewidth": 0,
             "ticks": ""
            },
            "type": "choropleth"
           }
          ],
          "contour": [
           {
            "colorbar": {
             "outlinewidth": 0,
             "ticks": ""
            },
            "colorscale": [
             [
              0,
              "#0d0887"
             ],
             [
              0.1111111111111111,
              "#46039f"
             ],
             [
              0.2222222222222222,
              "#7201a8"
             ],
             [
              0.3333333333333333,
              "#9c179e"
             ],
             [
              0.4444444444444444,
              "#bd3786"
             ],
             [
              0.5555555555555556,
              "#d8576b"
             ],
             [
              0.6666666666666666,
              "#ed7953"
             ],
             [
              0.7777777777777778,
              "#fb9f3a"
             ],
             [
              0.8888888888888888,
              "#fdca26"
             ],
             [
              1,
              "#f0f921"
             ]
            ],
            "type": "contour"
           }
          ],
          "contourcarpet": [
           {
            "colorbar": {
             "outlinewidth": 0,
             "ticks": ""
            },
            "type": "contourcarpet"
           }
          ],
          "heatmap": [
           {
            "colorbar": {
             "outlinewidth": 0,
             "ticks": ""
            },
            "colorscale": [
             [
              0,
              "#0d0887"
             ],
             [
              0.1111111111111111,
              "#46039f"
             ],
             [
              0.2222222222222222,
              "#7201a8"
             ],
             [
              0.3333333333333333,
              "#9c179e"
             ],
             [
              0.4444444444444444,
              "#bd3786"
             ],
             [
              0.5555555555555556,
              "#d8576b"
             ],
             [
              0.6666666666666666,
              "#ed7953"
             ],
             [
              0.7777777777777778,
              "#fb9f3a"
             ],
             [
              0.8888888888888888,
              "#fdca26"
             ],
             [
              1,
              "#f0f921"
             ]
            ],
            "type": "heatmap"
           }
          ],
          "heatmapgl": [
           {
            "colorbar": {
             "outlinewidth": 0,
             "ticks": ""
            },
            "colorscale": [
             [
              0,
              "#0d0887"
             ],
             [
              0.1111111111111111,
              "#46039f"
             ],
             [
              0.2222222222222222,
              "#7201a8"
             ],
             [
              0.3333333333333333,
              "#9c179e"
             ],
             [
              0.4444444444444444,
              "#bd3786"
             ],
             [
              0.5555555555555556,
              "#d8576b"
             ],
             [
              0.6666666666666666,
              "#ed7953"
             ],
             [
              0.7777777777777778,
              "#fb9f3a"
             ],
             [
              0.8888888888888888,
              "#fdca26"
             ],
             [
              1,
              "#f0f921"
             ]
            ],
            "type": "heatmapgl"
           }
          ],
          "histogram": [
           {
            "marker": {
             "pattern": {
              "fillmode": "overlay",
              "size": 10,
              "solidity": 0.2
             }
            },
            "type": "histogram"
           }
          ],
          "histogram2d": [
           {
            "colorbar": {
             "outlinewidth": 0,
             "ticks": ""
            },
            "colorscale": [
             [
              0,
              "#0d0887"
             ],
             [
              0.1111111111111111,
              "#46039f"
             ],
             [
              0.2222222222222222,
              "#7201a8"
             ],
             [
              0.3333333333333333,
              "#9c179e"
             ],
             [
              0.4444444444444444,
              "#bd3786"
             ],
             [
              0.5555555555555556,
              "#d8576b"
             ],
             [
              0.6666666666666666,
              "#ed7953"
             ],
             [
              0.7777777777777778,
              "#fb9f3a"
             ],
             [
              0.8888888888888888,
              "#fdca26"
             ],
             [
              1,
              "#f0f921"
             ]
            ],
            "type": "histogram2d"
           }
          ],
          "histogram2dcontour": [
           {
            "colorbar": {
             "outlinewidth": 0,
             "ticks": ""
            },
            "colorscale": [
             [
              0,
              "#0d0887"
             ],
             [
              0.1111111111111111,
              "#46039f"
             ],
             [
              0.2222222222222222,
              "#7201a8"
             ],
             [
              0.3333333333333333,
              "#9c179e"
             ],
             [
              0.4444444444444444,
              "#bd3786"
             ],
             [
              0.5555555555555556,
              "#d8576b"
             ],
             [
              0.6666666666666666,
              "#ed7953"
             ],
             [
              0.7777777777777778,
              "#fb9f3a"
             ],
             [
              0.8888888888888888,
              "#fdca26"
             ],
             [
              1,
              "#f0f921"
             ]
            ],
            "type": "histogram2dcontour"
           }
          ],
          "mesh3d": [
           {
            "colorbar": {
             "outlinewidth": 0,
             "ticks": ""
            },
            "type": "mesh3d"
           }
          ],
          "parcoords": [
           {
            "line": {
             "colorbar": {
              "outlinewidth": 0,
              "ticks": ""
             }
            },
            "type": "parcoords"
           }
          ],
          "pie": [
           {
            "automargin": true,
            "type": "pie"
           }
          ],
          "scatter": [
           {
            "fillpattern": {
             "fillmode": "overlay",
             "size": 10,
             "solidity": 0.2
            },
            "type": "scatter"
           }
          ],
          "scatter3d": [
           {
            "line": {
             "colorbar": {
              "outlinewidth": 0,
              "ticks": ""
             }
            },
            "marker": {
             "colorbar": {
              "outlinewidth": 0,
              "ticks": ""
             }
            },
            "type": "scatter3d"
           }
          ],
          "scattercarpet": [
           {
            "marker": {
             "colorbar": {
              "outlinewidth": 0,
              "ticks": ""
             }
            },
            "type": "scattercarpet"
           }
          ],
          "scattergeo": [
           {
            "marker": {
             "colorbar": {
              "outlinewidth": 0,
              "ticks": ""
             }
            },
            "type": "scattergeo"
           }
          ],
          "scattergl": [
           {
            "marker": {
             "colorbar": {
              "outlinewidth": 0,
              "ticks": ""
             }
            },
            "type": "scattergl"
           }
          ],
          "scattermapbox": [
           {
            "marker": {
             "colorbar": {
              "outlinewidth": 0,
              "ticks": ""
             }
            },
            "type": "scattermapbox"
           }
          ],
          "scatterpolar": [
           {
            "marker": {
             "colorbar": {
              "outlinewidth": 0,
              "ticks": ""
             }
            },
            "type": "scatterpolar"
           }
          ],
          "scatterpolargl": [
           {
            "marker": {
             "colorbar": {
              "outlinewidth": 0,
              "ticks": ""
             }
            },
            "type": "scatterpolargl"
           }
          ],
          "scatterternary": [
           {
            "marker": {
             "colorbar": {
              "outlinewidth": 0,
              "ticks": ""
             }
            },
            "type": "scatterternary"
           }
          ],
          "surface": [
           {
            "colorbar": {
             "outlinewidth": 0,
             "ticks": ""
            },
            "colorscale": [
             [
              0,
              "#0d0887"
             ],
             [
              0.1111111111111111,
              "#46039f"
             ],
             [
              0.2222222222222222,
              "#7201a8"
             ],
             [
              0.3333333333333333,
              "#9c179e"
             ],
             [
              0.4444444444444444,
              "#bd3786"
             ],
             [
              0.5555555555555556,
              "#d8576b"
             ],
             [
              0.6666666666666666,
              "#ed7953"
             ],
             [
              0.7777777777777778,
              "#fb9f3a"
             ],
             [
              0.8888888888888888,
              "#fdca26"
             ],
             [
              1,
              "#f0f921"
             ]
            ],
            "type": "surface"
           }
          ],
          "table": [
           {
            "cells": {
             "fill": {
              "color": "#EBF0F8"
             },
             "line": {
              "color": "white"
             }
            },
            "header": {
             "fill": {
              "color": "#C8D4E3"
             },
             "line": {
              "color": "white"
             }
            },
            "type": "table"
           }
          ]
         },
         "layout": {
          "annotationdefaults": {
           "arrowcolor": "#2a3f5f",
           "arrowhead": 0,
           "arrowwidth": 1
          },
          "autotypenumbers": "strict",
          "coloraxis": {
           "colorbar": {
            "outlinewidth": 0,
            "ticks": ""
           }
          },
          "colorscale": {
           "diverging": [
            [
             0,
             "#8e0152"
            ],
            [
             0.1,
             "#c51b7d"
            ],
            [
             0.2,
             "#de77ae"
            ],
            [
             0.3,
             "#f1b6da"
            ],
            [
             0.4,
             "#fde0ef"
            ],
            [
             0.5,
             "#f7f7f7"
            ],
            [
             0.6,
             "#e6f5d0"
            ],
            [
             0.7,
             "#b8e186"
            ],
            [
             0.8,
             "#7fbc41"
            ],
            [
             0.9,
             "#4d9221"
            ],
            [
             1,
             "#276419"
            ]
           ],
           "sequential": [
            [
             0,
             "#0d0887"
            ],
            [
             0.1111111111111111,
             "#46039f"
            ],
            [
             0.2222222222222222,
             "#7201a8"
            ],
            [
             0.3333333333333333,
             "#9c179e"
            ],
            [
             0.4444444444444444,
             "#bd3786"
            ],
            [
             0.5555555555555556,
             "#d8576b"
            ],
            [
             0.6666666666666666,
             "#ed7953"
            ],
            [
             0.7777777777777778,
             "#fb9f3a"
            ],
            [
             0.8888888888888888,
             "#fdca26"
            ],
            [
             1,
             "#f0f921"
            ]
           ],
           "sequentialminus": [
            [
             0,
             "#0d0887"
            ],
            [
             0.1111111111111111,
             "#46039f"
            ],
            [
             0.2222222222222222,
             "#7201a8"
            ],
            [
             0.3333333333333333,
             "#9c179e"
            ],
            [
             0.4444444444444444,
             "#bd3786"
            ],
            [
             0.5555555555555556,
             "#d8576b"
            ],
            [
             0.6666666666666666,
             "#ed7953"
            ],
            [
             0.7777777777777778,
             "#fb9f3a"
            ],
            [
             0.8888888888888888,
             "#fdca26"
            ],
            [
             1,
             "#f0f921"
            ]
           ]
          },
          "colorway": [
           "#636efa",
           "#EF553B",
           "#00cc96",
           "#ab63fa",
           "#FFA15A",
           "#19d3f3",
           "#FF6692",
           "#B6E880",
           "#FF97FF",
           "#FECB52"
          ],
          "font": {
           "color": "#2a3f5f"
          },
          "geo": {
           "bgcolor": "white",
           "lakecolor": "white",
           "landcolor": "#E5ECF6",
           "showlakes": true,
           "showland": true,
           "subunitcolor": "white"
          },
          "hoverlabel": {
           "align": "left"
          },
          "hovermode": "closest",
          "mapbox": {
           "style": "light"
          },
          "paper_bgcolor": "white",
          "plot_bgcolor": "#E5ECF6",
          "polar": {
           "angularaxis": {
            "gridcolor": "white",
            "linecolor": "white",
            "ticks": ""
           },
           "bgcolor": "#E5ECF6",
           "radialaxis": {
            "gridcolor": "white",
            "linecolor": "white",
            "ticks": ""
           }
          },
          "scene": {
           "xaxis": {
            "backgroundcolor": "#E5ECF6",
            "gridcolor": "white",
            "gridwidth": 2,
            "linecolor": "white",
            "showbackground": true,
            "ticks": "",
            "zerolinecolor": "white"
           },
           "yaxis": {
            "backgroundcolor": "#E5ECF6",
            "gridcolor": "white",
            "gridwidth": 2,
            "linecolor": "white",
            "showbackground": true,
            "ticks": "",
            "zerolinecolor": "white"
           },
           "zaxis": {
            "backgroundcolor": "#E5ECF6",
            "gridcolor": "white",
            "gridwidth": 2,
            "linecolor": "white",
            "showbackground": true,
            "ticks": "",
            "zerolinecolor": "white"
           }
          },
          "shapedefaults": {
           "line": {
            "color": "#2a3f5f"
           }
          },
          "ternary": {
           "aaxis": {
            "gridcolor": "white",
            "linecolor": "white",
            "ticks": ""
           },
           "baxis": {
            "gridcolor": "white",
            "linecolor": "white",
            "ticks": ""
           },
           "bgcolor": "#E5ECF6",
           "caxis": {
            "gridcolor": "white",
            "linecolor": "white",
            "ticks": ""
           }
          },
          "title": {
           "x": 0.05
          },
          "xaxis": {
           "automargin": true,
           "gridcolor": "white",
           "linecolor": "white",
           "ticks": "",
           "title": {
            "standoff": 15
           },
           "zerolinecolor": "white",
           "zerolinewidth": 2
          },
          "yaxis": {
           "automargin": true,
           "gridcolor": "white",
           "linecolor": "white",
           "ticks": "",
           "title": {
            "standoff": 15
           },
           "zerolinecolor": "white",
           "zerolinewidth": 2
          }
         }
        },
        "xaxis": {
         "anchor": "y",
         "domain": [
          0,
          1
         ],
         "title": {
          "text": "Goals"
         }
        },
        "yaxis": {
         "anchor": "x",
         "domain": [
          0,
          1
         ],
         "title": {
          "text": "Minutes Played"
         }
        }
       }
      }
     },
     "metadata": {},
     "output_type": "display_data"
    }
   ],
   "source": [
    "px.scatter(focus_players_df, x='Goals', y='Minutes Played', hover_data=['Player'])"
   ]
  },
  {
   "cell_type": "code",
   "execution_count": 120,
   "metadata": {},
   "outputs": [
    {
     "name": "stderr",
     "output_type": "stream",
     "text": [
      "/var/folders/7_/1sj7vc495_z4fzf1l_tpnznc0000gn/T/ipykernel_54263/320707082.py:1: SettingWithCopyWarning:\n",
      "\n",
      "\n",
      "A value is trying to be set on a copy of a slice from a DataFrame.\n",
      "Try using .loc[row_indexer,col_indexer] = value instead\n",
      "\n",
      "See the caveats in the documentation: https://pandas.pydata.org/pandas-docs/stable/user_guide/indexing.html#returning-a-view-versus-a-copy\n",
      "\n",
      "/var/folders/7_/1sj7vc495_z4fzf1l_tpnznc0000gn/T/ipykernel_54263/320707082.py:2: SettingWithCopyWarning:\n",
      "\n",
      "\n",
      "A value is trying to be set on a copy of a slice from a DataFrame.\n",
      "Try using .loc[row_indexer,col_indexer] = value instead\n",
      "\n",
      "See the caveats in the documentation: https://pandas.pydata.org/pandas-docs/stable/user_guide/indexing.html#returning-a-view-versus-a-copy\n",
      "\n",
      "/var/folders/7_/1sj7vc495_z4fzf1l_tpnznc0000gn/T/ipykernel_54263/320707082.py:3: SettingWithCopyWarning:\n",
      "\n",
      "\n",
      "A value is trying to be set on a copy of a slice from a DataFrame.\n",
      "Try using .loc[row_indexer,col_indexer] = value instead\n",
      "\n",
      "See the caveats in the documentation: https://pandas.pydata.org/pandas-docs/stable/user_guide/indexing.html#returning-a-view-versus-a-copy\n",
      "\n",
      "/var/folders/7_/1sj7vc495_z4fzf1l_tpnznc0000gn/T/ipykernel_54263/320707082.py:4: SettingWithCopyWarning:\n",
      "\n",
      "\n",
      "A value is trying to be set on a copy of a slice from a DataFrame.\n",
      "Try using .loc[row_indexer,col_indexer] = value instead\n",
      "\n",
      "See the caveats in the documentation: https://pandas.pydata.org/pandas-docs/stable/user_guide/indexing.html#returning-a-view-versus-a-copy\n",
      "\n"
     ]
    }
   ],
   "source": [
    "focus_players_df['Goals'] = pd.to_numeric(focus_players_df['Goals'], errors='coerce')\n",
    "focus_players_df['Goals per 90'] = pd.to_numeric(focus_players_df['Goals per 90'], errors='coerce')\n",
    "focus_players_df['Goals + Assists'] = pd.to_numeric(focus_players_df['Goals + Assists'], errors='coerce')\n",
    "focus_players_df['Goals + Assists per 90'] = pd.to_numeric(focus_players_df['Goals + Assists per 90'], errors='coerce')"
   ]
  },
  {
   "cell_type": "code",
   "execution_count": 124,
   "metadata": {},
   "outputs": [
    {
     "data": {
      "application/vnd.plotly.v1+json": {
       "config": {
        "plotlyServerURL": "https://plot.ly"
       },
       "data": [
        {
         "hovertemplate": "<b>%{hovertext}</b><br><br>Squad=Karlsruher<br>Born=%{x}<br>Goals per 90=%{marker.size}<extra></extra>",
         "hovertext": [
          "Igor Matanovic"
         ],
         "legendgroup": "Karlsruher",
         "marker": {
          "color": "#636efa",
          "size": [
           0.6
          ],
          "sizemode": "area",
          "sizeref": 0.002825,
          "symbol": "circle"
         },
         "mode": "markers",
         "name": "Karlsruher",
         "orientation": "v",
         "showlegend": true,
         "type": "scatter",
         "x": [
          2003
         ],
         "xaxis": "x",
         "y": [
          0.6
         ],
         "yaxis": "y"
        },
        {
         "hovertemplate": "<b>%{hovertext}</b><br><br>Squad=Düsseldorf<br>Born=%{x}<br>Goals per 90=%{marker.size}<extra></extra>",
         "hovertext": [
          "Christos Tzolis"
         ],
         "legendgroup": "Düsseldorf",
         "marker": {
          "color": "#EF553B",
          "size": [
           0.74
          ],
          "sizemode": "area",
          "sizeref": 0.002825,
          "symbol": "circle"
         },
         "mode": "markers",
         "name": "Düsseldorf",
         "orientation": "v",
         "showlegend": true,
         "type": "scatter",
         "x": [
          2002
         ],
         "xaxis": "x",
         "y": [
          0.74
         ],
         "yaxis": "y"
        },
        {
         "hovertemplate": "<b>%{hovertext}</b><br><br>Squad=Nürnberg<br>Born=%{x}<br>Goals per 90=%{marker.size}<extra></extra>",
         "hovertext": [
          "Can Yılmaz Uzun"
         ],
         "legendgroup": "Nürnberg",
         "marker": {
          "color": "#00cc96",
          "size": [
           0.79
          ],
          "sizemode": "area",
          "sizeref": 0.002825,
          "symbol": "circle"
         },
         "mode": "markers",
         "name": "Nürnberg",
         "orientation": "v",
         "showlegend": true,
         "type": "scatter",
         "x": [
          2005
         ],
         "xaxis": "x",
         "y": [
          0.79
         ],
         "yaxis": "y"
        },
        {
         "hovertemplate": "<b>%{hovertext}</b><br><br>Squad=Union SG<br>Born=%{x}<br>Goals per 90=%{marker.size}<extra></extra>",
         "hovertext": [
          "Mohamed El Amine Amoura"
         ],
         "legendgroup": "Union SG",
         "marker": {
          "color": "#ab63fa",
          "size": [
           1.13
          ],
          "sizemode": "area",
          "sizeref": 0.002825,
          "symbol": "circle"
         },
         "mode": "markers",
         "name": "Union SG",
         "orientation": "v",
         "showlegend": true,
         "type": "scatter",
         "x": [
          2000
         ],
         "xaxis": "x",
         "y": [
          1.13
         ],
         "yaxis": "y"
        },
        {
         "hovertemplate": "<b>%{hovertext}</b><br><br>Squad=Cercle Brugge<br>Born=%{x}<br>Goals per 90=%{marker.size}<extra></extra>",
         "hovertext": [
          "Kevin Denkey"
         ],
         "legendgroup": "Cercle Brugge",
         "marker": {
          "color": "#FFA15A",
          "size": [
           0.86
          ],
          "sizemode": "area",
          "sizeref": 0.002825,
          "symbol": "circle"
         },
         "mode": "markers",
         "name": "Cercle Brugge",
         "orientation": "v",
         "showlegend": true,
         "type": "scatter",
         "x": [
          2000
         ],
         "xaxis": "x",
         "y": [
          0.86
         ],
         "yaxis": "y"
        },
        {
         "hovertemplate": "<b>%{hovertext}</b><br><br>Squad=Club Brugge<br>Born=%{x}<br>Goals per 90=%{marker.size}<extra></extra>",
         "hovertext": [
          "Thiago"
         ],
         "legendgroup": "Club Brugge",
         "marker": {
          "color": "#19d3f3",
          "size": [
           0.82
          ],
          "sizemode": "area",
          "sizeref": 0.002825,
          "symbol": "circle"
         },
         "mode": "markers",
         "name": "Club Brugge",
         "orientation": "v",
         "showlegend": true,
         "type": "scatter",
         "x": [
          2001
         ],
         "xaxis": "x",
         "y": [
          0.82
         ],
         "yaxis": "y"
        },
        {
         "hovertemplate": "<b>%{hovertext}</b><br><br>Squad=Rodez Aveyron<br>Born=%{x}<br>Goals per 90=%{marker.size}<extra></extra>",
         "hovertext": [
          "Andreas Hountondji"
         ],
         "legendgroup": "Rodez Aveyron",
         "marker": {
          "color": "#FF6692",
          "size": [
           0.57
          ],
          "sizemode": "area",
          "sizeref": 0.002825,
          "symbol": "circle"
         },
         "mode": "markers",
         "name": "Rodez Aveyron",
         "orientation": "v",
         "showlegend": true,
         "type": "scatter",
         "x": [
          2002
         ],
         "xaxis": "x",
         "y": [
          0.57
         ],
         "yaxis": "y"
        },
        {
         "hovertemplate": "<b>%{hovertext}</b><br><br>Squad=Racing Sant<br>Born=%{x}<br>Goals per 90=%{marker.size}<extra></extra>",
         "hovertext": [
          "Peque"
         ],
         "legendgroup": "Racing Sant",
         "marker": {
          "color": "#B6E880",
          "size": [
           0.65
          ],
          "sizemode": "area",
          "sizeref": 0.002825,
          "symbol": "circle"
         },
         "mode": "markers",
         "name": "Racing Sant",
         "orientation": "v",
         "showlegend": true,
         "type": "scatter",
         "x": [
          2002
         ],
         "xaxis": "x",
         "y": [
          0.65
         ],
         "yaxis": "y"
        },
        {
         "hovertemplate": "<b>%{hovertext}</b><br><br>Squad=Parma<br>Born=%{x}<br>Goals per 90=%{marker.size}<extra></extra>",
         "hovertext": [
          "Adrian Benedyczak"
         ],
         "legendgroup": "Parma",
         "marker": {
          "color": "#FF97FF",
          "size": [
           0.57
          ],
          "sizemode": "area",
          "sizeref": 0.002825,
          "symbol": "circle"
         },
         "mode": "markers",
         "name": "Parma",
         "orientation": "v",
         "showlegend": true,
         "type": "scatter",
         "x": [
          2000
         ],
         "xaxis": "x",
         "y": [
          0.57
         ],
         "yaxis": "y"
        }
       ],
       "layout": {
        "legend": {
         "itemsizing": "constant",
         "title": {
          "text": "Squad"
         },
         "tracegroupgap": 0
        },
        "template": {
         "data": {
          "bar": [
           {
            "error_x": {
             "color": "#2a3f5f"
            },
            "error_y": {
             "color": "#2a3f5f"
            },
            "marker": {
             "line": {
              "color": "#E5ECF6",
              "width": 0.5
             },
             "pattern": {
              "fillmode": "overlay",
              "size": 10,
              "solidity": 0.2
             }
            },
            "type": "bar"
           }
          ],
          "barpolar": [
           {
            "marker": {
             "line": {
              "color": "#E5ECF6",
              "width": 0.5
             },
             "pattern": {
              "fillmode": "overlay",
              "size": 10,
              "solidity": 0.2
             }
            },
            "type": "barpolar"
           }
          ],
          "carpet": [
           {
            "aaxis": {
             "endlinecolor": "#2a3f5f",
             "gridcolor": "white",
             "linecolor": "white",
             "minorgridcolor": "white",
             "startlinecolor": "#2a3f5f"
            },
            "baxis": {
             "endlinecolor": "#2a3f5f",
             "gridcolor": "white",
             "linecolor": "white",
             "minorgridcolor": "white",
             "startlinecolor": "#2a3f5f"
            },
            "type": "carpet"
           }
          ],
          "choropleth": [
           {
            "colorbar": {
             "outlinewidth": 0,
             "ticks": ""
            },
            "type": "choropleth"
           }
          ],
          "contour": [
           {
            "colorbar": {
             "outlinewidth": 0,
             "ticks": ""
            },
            "colorscale": [
             [
              0,
              "#0d0887"
             ],
             [
              0.1111111111111111,
              "#46039f"
             ],
             [
              0.2222222222222222,
              "#7201a8"
             ],
             [
              0.3333333333333333,
              "#9c179e"
             ],
             [
              0.4444444444444444,
              "#bd3786"
             ],
             [
              0.5555555555555556,
              "#d8576b"
             ],
             [
              0.6666666666666666,
              "#ed7953"
             ],
             [
              0.7777777777777778,
              "#fb9f3a"
             ],
             [
              0.8888888888888888,
              "#fdca26"
             ],
             [
              1,
              "#f0f921"
             ]
            ],
            "type": "contour"
           }
          ],
          "contourcarpet": [
           {
            "colorbar": {
             "outlinewidth": 0,
             "ticks": ""
            },
            "type": "contourcarpet"
           }
          ],
          "heatmap": [
           {
            "colorbar": {
             "outlinewidth": 0,
             "ticks": ""
            },
            "colorscale": [
             [
              0,
              "#0d0887"
             ],
             [
              0.1111111111111111,
              "#46039f"
             ],
             [
              0.2222222222222222,
              "#7201a8"
             ],
             [
              0.3333333333333333,
              "#9c179e"
             ],
             [
              0.4444444444444444,
              "#bd3786"
             ],
             [
              0.5555555555555556,
              "#d8576b"
             ],
             [
              0.6666666666666666,
              "#ed7953"
             ],
             [
              0.7777777777777778,
              "#fb9f3a"
             ],
             [
              0.8888888888888888,
              "#fdca26"
             ],
             [
              1,
              "#f0f921"
             ]
            ],
            "type": "heatmap"
           }
          ],
          "heatmapgl": [
           {
            "colorbar": {
             "outlinewidth": 0,
             "ticks": ""
            },
            "colorscale": [
             [
              0,
              "#0d0887"
             ],
             [
              0.1111111111111111,
              "#46039f"
             ],
             [
              0.2222222222222222,
              "#7201a8"
             ],
             [
              0.3333333333333333,
              "#9c179e"
             ],
             [
              0.4444444444444444,
              "#bd3786"
             ],
             [
              0.5555555555555556,
              "#d8576b"
             ],
             [
              0.6666666666666666,
              "#ed7953"
             ],
             [
              0.7777777777777778,
              "#fb9f3a"
             ],
             [
              0.8888888888888888,
              "#fdca26"
             ],
             [
              1,
              "#f0f921"
             ]
            ],
            "type": "heatmapgl"
           }
          ],
          "histogram": [
           {
            "marker": {
             "pattern": {
              "fillmode": "overlay",
              "size": 10,
              "solidity": 0.2
             }
            },
            "type": "histogram"
           }
          ],
          "histogram2d": [
           {
            "colorbar": {
             "outlinewidth": 0,
             "ticks": ""
            },
            "colorscale": [
             [
              0,
              "#0d0887"
             ],
             [
              0.1111111111111111,
              "#46039f"
             ],
             [
              0.2222222222222222,
              "#7201a8"
             ],
             [
              0.3333333333333333,
              "#9c179e"
             ],
             [
              0.4444444444444444,
              "#bd3786"
             ],
             [
              0.5555555555555556,
              "#d8576b"
             ],
             [
              0.6666666666666666,
              "#ed7953"
             ],
             [
              0.7777777777777778,
              "#fb9f3a"
             ],
             [
              0.8888888888888888,
              "#fdca26"
             ],
             [
              1,
              "#f0f921"
             ]
            ],
            "type": "histogram2d"
           }
          ],
          "histogram2dcontour": [
           {
            "colorbar": {
             "outlinewidth": 0,
             "ticks": ""
            },
            "colorscale": [
             [
              0,
              "#0d0887"
             ],
             [
              0.1111111111111111,
              "#46039f"
             ],
             [
              0.2222222222222222,
              "#7201a8"
             ],
             [
              0.3333333333333333,
              "#9c179e"
             ],
             [
              0.4444444444444444,
              "#bd3786"
             ],
             [
              0.5555555555555556,
              "#d8576b"
             ],
             [
              0.6666666666666666,
              "#ed7953"
             ],
             [
              0.7777777777777778,
              "#fb9f3a"
             ],
             [
              0.8888888888888888,
              "#fdca26"
             ],
             [
              1,
              "#f0f921"
             ]
            ],
            "type": "histogram2dcontour"
           }
          ],
          "mesh3d": [
           {
            "colorbar": {
             "outlinewidth": 0,
             "ticks": ""
            },
            "type": "mesh3d"
           }
          ],
          "parcoords": [
           {
            "line": {
             "colorbar": {
              "outlinewidth": 0,
              "ticks": ""
             }
            },
            "type": "parcoords"
           }
          ],
          "pie": [
           {
            "automargin": true,
            "type": "pie"
           }
          ],
          "scatter": [
           {
            "fillpattern": {
             "fillmode": "overlay",
             "size": 10,
             "solidity": 0.2
            },
            "type": "scatter"
           }
          ],
          "scatter3d": [
           {
            "line": {
             "colorbar": {
              "outlinewidth": 0,
              "ticks": ""
             }
            },
            "marker": {
             "colorbar": {
              "outlinewidth": 0,
              "ticks": ""
             }
            },
            "type": "scatter3d"
           }
          ],
          "scattercarpet": [
           {
            "marker": {
             "colorbar": {
              "outlinewidth": 0,
              "ticks": ""
             }
            },
            "type": "scattercarpet"
           }
          ],
          "scattergeo": [
           {
            "marker": {
             "colorbar": {
              "outlinewidth": 0,
              "ticks": ""
             }
            },
            "type": "scattergeo"
           }
          ],
          "scattergl": [
           {
            "marker": {
             "colorbar": {
              "outlinewidth": 0,
              "ticks": ""
             }
            },
            "type": "scattergl"
           }
          ],
          "scattermapbox": [
           {
            "marker": {
             "colorbar": {
              "outlinewidth": 0,
              "ticks": ""
             }
            },
            "type": "scattermapbox"
           }
          ],
          "scatterpolar": [
           {
            "marker": {
             "colorbar": {
              "outlinewidth": 0,
              "ticks": ""
             }
            },
            "type": "scatterpolar"
           }
          ],
          "scatterpolargl": [
           {
            "marker": {
             "colorbar": {
              "outlinewidth": 0,
              "ticks": ""
             }
            },
            "type": "scatterpolargl"
           }
          ],
          "scatterternary": [
           {
            "marker": {
             "colorbar": {
              "outlinewidth": 0,
              "ticks": ""
             }
            },
            "type": "scatterternary"
           }
          ],
          "surface": [
           {
            "colorbar": {
             "outlinewidth": 0,
             "ticks": ""
            },
            "colorscale": [
             [
              0,
              "#0d0887"
             ],
             [
              0.1111111111111111,
              "#46039f"
             ],
             [
              0.2222222222222222,
              "#7201a8"
             ],
             [
              0.3333333333333333,
              "#9c179e"
             ],
             [
              0.4444444444444444,
              "#bd3786"
             ],
             [
              0.5555555555555556,
              "#d8576b"
             ],
             [
              0.6666666666666666,
              "#ed7953"
             ],
             [
              0.7777777777777778,
              "#fb9f3a"
             ],
             [
              0.8888888888888888,
              "#fdca26"
             ],
             [
              1,
              "#f0f921"
             ]
            ],
            "type": "surface"
           }
          ],
          "table": [
           {
            "cells": {
             "fill": {
              "color": "#EBF0F8"
             },
             "line": {
              "color": "white"
             }
            },
            "header": {
             "fill": {
              "color": "#C8D4E3"
             },
             "line": {
              "color": "white"
             }
            },
            "type": "table"
           }
          ]
         },
         "layout": {
          "annotationdefaults": {
           "arrowcolor": "#2a3f5f",
           "arrowhead": 0,
           "arrowwidth": 1
          },
          "autotypenumbers": "strict",
          "coloraxis": {
           "colorbar": {
            "outlinewidth": 0,
            "ticks": ""
           }
          },
          "colorscale": {
           "diverging": [
            [
             0,
             "#8e0152"
            ],
            [
             0.1,
             "#c51b7d"
            ],
            [
             0.2,
             "#de77ae"
            ],
            [
             0.3,
             "#f1b6da"
            ],
            [
             0.4,
             "#fde0ef"
            ],
            [
             0.5,
             "#f7f7f7"
            ],
            [
             0.6,
             "#e6f5d0"
            ],
            [
             0.7,
             "#b8e186"
            ],
            [
             0.8,
             "#7fbc41"
            ],
            [
             0.9,
             "#4d9221"
            ],
            [
             1,
             "#276419"
            ]
           ],
           "sequential": [
            [
             0,
             "#0d0887"
            ],
            [
             0.1111111111111111,
             "#46039f"
            ],
            [
             0.2222222222222222,
             "#7201a8"
            ],
            [
             0.3333333333333333,
             "#9c179e"
            ],
            [
             0.4444444444444444,
             "#bd3786"
            ],
            [
             0.5555555555555556,
             "#d8576b"
            ],
            [
             0.6666666666666666,
             "#ed7953"
            ],
            [
             0.7777777777777778,
             "#fb9f3a"
            ],
            [
             0.8888888888888888,
             "#fdca26"
            ],
            [
             1,
             "#f0f921"
            ]
           ],
           "sequentialminus": [
            [
             0,
             "#0d0887"
            ],
            [
             0.1111111111111111,
             "#46039f"
            ],
            [
             0.2222222222222222,
             "#7201a8"
            ],
            [
             0.3333333333333333,
             "#9c179e"
            ],
            [
             0.4444444444444444,
             "#bd3786"
            ],
            [
             0.5555555555555556,
             "#d8576b"
            ],
            [
             0.6666666666666666,
             "#ed7953"
            ],
            [
             0.7777777777777778,
             "#fb9f3a"
            ],
            [
             0.8888888888888888,
             "#fdca26"
            ],
            [
             1,
             "#f0f921"
            ]
           ]
          },
          "colorway": [
           "#636efa",
           "#EF553B",
           "#00cc96",
           "#ab63fa",
           "#FFA15A",
           "#19d3f3",
           "#FF6692",
           "#B6E880",
           "#FF97FF",
           "#FECB52"
          ],
          "font": {
           "color": "#2a3f5f"
          },
          "geo": {
           "bgcolor": "white",
           "lakecolor": "white",
           "landcolor": "#E5ECF6",
           "showlakes": true,
           "showland": true,
           "subunitcolor": "white"
          },
          "hoverlabel": {
           "align": "left"
          },
          "hovermode": "closest",
          "mapbox": {
           "style": "light"
          },
          "paper_bgcolor": "white",
          "plot_bgcolor": "#E5ECF6",
          "polar": {
           "angularaxis": {
            "gridcolor": "white",
            "linecolor": "white",
            "ticks": ""
           },
           "bgcolor": "#E5ECF6",
           "radialaxis": {
            "gridcolor": "white",
            "linecolor": "white",
            "ticks": ""
           }
          },
          "scene": {
           "xaxis": {
            "backgroundcolor": "#E5ECF6",
            "gridcolor": "white",
            "gridwidth": 2,
            "linecolor": "white",
            "showbackground": true,
            "ticks": "",
            "zerolinecolor": "white"
           },
           "yaxis": {
            "backgroundcolor": "#E5ECF6",
            "gridcolor": "white",
            "gridwidth": 2,
            "linecolor": "white",
            "showbackground": true,
            "ticks": "",
            "zerolinecolor": "white"
           },
           "zaxis": {
            "backgroundcolor": "#E5ECF6",
            "gridcolor": "white",
            "gridwidth": 2,
            "linecolor": "white",
            "showbackground": true,
            "ticks": "",
            "zerolinecolor": "white"
           }
          },
          "shapedefaults": {
           "line": {
            "color": "#2a3f5f"
           }
          },
          "ternary": {
           "aaxis": {
            "gridcolor": "white",
            "linecolor": "white",
            "ticks": ""
           },
           "baxis": {
            "gridcolor": "white",
            "linecolor": "white",
            "ticks": ""
           },
           "bgcolor": "#E5ECF6",
           "caxis": {
            "gridcolor": "white",
            "linecolor": "white",
            "ticks": ""
           }
          },
          "title": {
           "x": 0.05
          },
          "xaxis": {
           "automargin": true,
           "gridcolor": "white",
           "linecolor": "white",
           "ticks": "",
           "title": {
            "standoff": 15
           },
           "zerolinecolor": "white",
           "zerolinewidth": 2
          },
          "yaxis": {
           "automargin": true,
           "gridcolor": "white",
           "linecolor": "white",
           "ticks": "",
           "title": {
            "standoff": 15
           },
           "zerolinecolor": "white",
           "zerolinewidth": 2
          }
         }
        },
        "title": {
         "text": "Year of Birth vs Goals per 90 Minutes for Selected Players"
        },
        "xaxis": {
         "anchor": "y",
         "domain": [
          0,
          1
         ],
         "title": {
          "text": "Born"
         }
        },
        "yaxis": {
         "anchor": "x",
         "domain": [
          0,
          1
         ],
         "title": {
          "text": "Goals per 90"
         }
        }
       }
      }
     },
     "metadata": {},
     "output_type": "display_data"
    }
   ],
   "source": [
    "fig2 = px.scatter(focus_players_df, x='Born', y='Goals per 90',\n",
    "                  size='Goals per 90', color='Squad', hover_name='Player',\n",
    "                  title='Year of Birth vs Goals per 90 Minutes for Selected Players')\n",
    "fig2.show()"
   ]
  },
  {
   "cell_type": "code",
   "execution_count": 126,
   "metadata": {},
   "outputs": [
    {
     "data": {
      "application/vnd.plotly.v1+json": {
       "config": {
        "plotlyServerURL": "https://plot.ly"
       },
       "data": [
        {
         "hovertemplate": "<b>%{hovertext}</b><br><br>Squad=Karlsruher<br>Born=%{x}<br>Goals + Assists per 90=%{y}<br>Goals + Assists=%{marker.size}<extra></extra>",
         "hovertext": [
          "Igor Matanovic"
         ],
         "legendgroup": "Karlsruher",
         "marker": {
          "color": "#636efa",
          "size": [
           14
          ],
          "sizemode": "area",
          "sizeref": 0.055,
          "symbol": "circle"
         },
         "mode": "markers",
         "name": "Karlsruher",
         "orientation": "v",
         "showlegend": true,
         "type": "scatter",
         "x": [
          2003
         ],
         "xaxis": "x",
         "y": [
          0.84
         ],
         "yaxis": "y"
        },
        {
         "hovertemplate": "<b>%{hovertext}</b><br><br>Squad=Düsseldorf<br>Born=%{x}<br>Goals + Assists per 90=%{y}<br>Goals + Assists=%{marker.size}<extra></extra>",
         "hovertext": [
          "Christos Tzolis"
         ],
         "legendgroup": "Düsseldorf",
         "marker": {
          "color": "#EF553B",
          "size": [
           16
          ],
          "sizemode": "area",
          "sizeref": 0.055,
          "symbol": "circle"
         },
         "mode": "markers",
         "name": "Düsseldorf",
         "orientation": "v",
         "showlegend": true,
         "type": "scatter",
         "x": [
          2002
         ],
         "xaxis": "x",
         "y": [
          0.91
         ],
         "yaxis": "y"
        },
        {
         "hovertemplate": "<b>%{hovertext}</b><br><br>Squad=Nürnberg<br>Born=%{x}<br>Goals + Assists per 90=%{y}<br>Goals + Assists=%{marker.size}<extra></extra>",
         "hovertext": [
          "Can Yılmaz Uzun"
         ],
         "legendgroup": "Nürnberg",
         "marker": {
          "color": "#00cc96",
          "size": [
           13
          ],
          "sizemode": "area",
          "sizeref": 0.055,
          "symbol": "circle"
         },
         "mode": "markers",
         "name": "Nürnberg",
         "orientation": "v",
         "showlegend": true,
         "type": "scatter",
         "x": [
          2005
         ],
         "xaxis": "x",
         "y": [
          0.86
         ],
         "yaxis": "y"
        },
        {
         "hovertemplate": "<b>%{hovertext}</b><br><br>Squad=Union SG<br>Born=%{x}<br>Goals + Assists per 90=%{y}<br>Goals + Assists=%{marker.size}<extra></extra>",
         "hovertext": [
          "Mohamed El Amine Amoura"
         ],
         "legendgroup": "Union SG",
         "marker": {
          "color": "#ab63fa",
          "size": [
           19
          ],
          "sizemode": "area",
          "sizeref": 0.055,
          "symbol": "circle"
         },
         "mode": "markers",
         "name": "Union SG",
         "orientation": "v",
         "showlegend": true,
         "type": "scatter",
         "x": [
          2000
         ],
         "xaxis": "x",
         "y": [
          1.26
         ],
         "yaxis": "y"
        },
        {
         "hovertemplate": "<b>%{hovertext}</b><br><br>Squad=Cercle Brugge<br>Born=%{x}<br>Goals + Assists per 90=%{y}<br>Goals + Assists=%{marker.size}<extra></extra>",
         "hovertext": [
          "Kevin Denkey"
         ],
         "legendgroup": "Cercle Brugge",
         "marker": {
          "color": "#FFA15A",
          "size": [
           22
          ],
          "sizemode": "area",
          "sizeref": 0.055,
          "symbol": "circle"
         },
         "mode": "markers",
         "name": "Cercle Brugge",
         "orientation": "v",
         "showlegend": true,
         "type": "scatter",
         "x": [
          2000
         ],
         "xaxis": "x",
         "y": [
          0.86
         ],
         "yaxis": "y"
        },
        {
         "hovertemplate": "<b>%{hovertext}</b><br><br>Squad=Club Brugge<br>Born=%{x}<br>Goals + Assists per 90=%{y}<br>Goals + Assists=%{marker.size}<extra></extra>",
         "hovertext": [
          "Thiago"
         ],
         "legendgroup": "Club Brugge",
         "marker": {
          "color": "#19d3f3",
          "size": [
           18
          ],
          "sizemode": "area",
          "sizeref": 0.055,
          "symbol": "circle"
         },
         "mode": "markers",
         "name": "Club Brugge",
         "orientation": "v",
         "showlegend": true,
         "type": "scatter",
         "x": [
          2001
         ],
         "xaxis": "x",
         "y": [
          0.93
         ],
         "yaxis": "y"
        },
        {
         "hovertemplate": "<b>%{hovertext}</b><br><br>Squad=Rodez Aveyron<br>Born=%{x}<br>Goals + Assists per 90=%{y}<br>Goals + Assists=%{marker.size}<extra></extra>",
         "hovertext": [
          "Andreas Hountondji"
         ],
         "legendgroup": "Rodez Aveyron",
         "marker": {
          "color": "#FF6692",
          "size": [
           13
          ],
          "sizemode": "area",
          "sizeref": 0.055,
          "symbol": "circle"
         },
         "mode": "markers",
         "name": "Rodez Aveyron",
         "orientation": "v",
         "showlegend": true,
         "type": "scatter",
         "x": [
          2002
         ],
         "xaxis": "x",
         "y": [
          0.74
         ],
         "yaxis": "y"
        },
        {
         "hovertemplate": "<b>%{hovertext}</b><br><br>Squad=Racing Sant<br>Born=%{x}<br>Goals + Assists per 90=%{y}<br>Goals + Assists=%{marker.size}<extra></extra>",
         "hovertext": [
          "Peque"
         ],
         "legendgroup": "Racing Sant",
         "marker": {
          "color": "#B6E880",
          "size": [
           15
          ],
          "sizemode": "area",
          "sizeref": 0.055,
          "symbol": "circle"
         },
         "mode": "markers",
         "name": "Racing Sant",
         "orientation": "v",
         "showlegend": true,
         "type": "scatter",
         "x": [
          2002
         ],
         "xaxis": "x",
         "y": [
          0.69
         ],
         "yaxis": "y"
        },
        {
         "hovertemplate": "<b>%{hovertext}</b><br><br>Squad=Parma<br>Born=%{x}<br>Goals + Assists per 90=%{y}<br>Goals + Assists=%{marker.size}<extra></extra>",
         "hovertext": [
          "Adrian Benedyczak"
         ],
         "legendgroup": "Parma",
         "marker": {
          "color": "#FF97FF",
          "size": [
           13
          ],
          "sizemode": "area",
          "sizeref": 0.055,
          "symbol": "circle"
         },
         "mode": "markers",
         "name": "Parma",
         "orientation": "v",
         "showlegend": true,
         "type": "scatter",
         "x": [
          2000
         ],
         "xaxis": "x",
         "y": [
          0.75
         ],
         "yaxis": "y"
        }
       ],
       "layout": {
        "legend": {
         "itemsizing": "constant",
         "title": {
          "text": "Squad"
         },
         "tracegroupgap": 0
        },
        "template": {
         "data": {
          "bar": [
           {
            "error_x": {
             "color": "#2a3f5f"
            },
            "error_y": {
             "color": "#2a3f5f"
            },
            "marker": {
             "line": {
              "color": "#E5ECF6",
              "width": 0.5
             },
             "pattern": {
              "fillmode": "overlay",
              "size": 10,
              "solidity": 0.2
             }
            },
            "type": "bar"
           }
          ],
          "barpolar": [
           {
            "marker": {
             "line": {
              "color": "#E5ECF6",
              "width": 0.5
             },
             "pattern": {
              "fillmode": "overlay",
              "size": 10,
              "solidity": 0.2
             }
            },
            "type": "barpolar"
           }
          ],
          "carpet": [
           {
            "aaxis": {
             "endlinecolor": "#2a3f5f",
             "gridcolor": "white",
             "linecolor": "white",
             "minorgridcolor": "white",
             "startlinecolor": "#2a3f5f"
            },
            "baxis": {
             "endlinecolor": "#2a3f5f",
             "gridcolor": "white",
             "linecolor": "white",
             "minorgridcolor": "white",
             "startlinecolor": "#2a3f5f"
            },
            "type": "carpet"
           }
          ],
          "choropleth": [
           {
            "colorbar": {
             "outlinewidth": 0,
             "ticks": ""
            },
            "type": "choropleth"
           }
          ],
          "contour": [
           {
            "colorbar": {
             "outlinewidth": 0,
             "ticks": ""
            },
            "colorscale": [
             [
              0,
              "#0d0887"
             ],
             [
              0.1111111111111111,
              "#46039f"
             ],
             [
              0.2222222222222222,
              "#7201a8"
             ],
             [
              0.3333333333333333,
              "#9c179e"
             ],
             [
              0.4444444444444444,
              "#bd3786"
             ],
             [
              0.5555555555555556,
              "#d8576b"
             ],
             [
              0.6666666666666666,
              "#ed7953"
             ],
             [
              0.7777777777777778,
              "#fb9f3a"
             ],
             [
              0.8888888888888888,
              "#fdca26"
             ],
             [
              1,
              "#f0f921"
             ]
            ],
            "type": "contour"
           }
          ],
          "contourcarpet": [
           {
            "colorbar": {
             "outlinewidth": 0,
             "ticks": ""
            },
            "type": "contourcarpet"
           }
          ],
          "heatmap": [
           {
            "colorbar": {
             "outlinewidth": 0,
             "ticks": ""
            },
            "colorscale": [
             [
              0,
              "#0d0887"
             ],
             [
              0.1111111111111111,
              "#46039f"
             ],
             [
              0.2222222222222222,
              "#7201a8"
             ],
             [
              0.3333333333333333,
              "#9c179e"
             ],
             [
              0.4444444444444444,
              "#bd3786"
             ],
             [
              0.5555555555555556,
              "#d8576b"
             ],
             [
              0.6666666666666666,
              "#ed7953"
             ],
             [
              0.7777777777777778,
              "#fb9f3a"
             ],
             [
              0.8888888888888888,
              "#fdca26"
             ],
             [
              1,
              "#f0f921"
             ]
            ],
            "type": "heatmap"
           }
          ],
          "heatmapgl": [
           {
            "colorbar": {
             "outlinewidth": 0,
             "ticks": ""
            },
            "colorscale": [
             [
              0,
              "#0d0887"
             ],
             [
              0.1111111111111111,
              "#46039f"
             ],
             [
              0.2222222222222222,
              "#7201a8"
             ],
             [
              0.3333333333333333,
              "#9c179e"
             ],
             [
              0.4444444444444444,
              "#bd3786"
             ],
             [
              0.5555555555555556,
              "#d8576b"
             ],
             [
              0.6666666666666666,
              "#ed7953"
             ],
             [
              0.7777777777777778,
              "#fb9f3a"
             ],
             [
              0.8888888888888888,
              "#fdca26"
             ],
             [
              1,
              "#f0f921"
             ]
            ],
            "type": "heatmapgl"
           }
          ],
          "histogram": [
           {
            "marker": {
             "pattern": {
              "fillmode": "overlay",
              "size": 10,
              "solidity": 0.2
             }
            },
            "type": "histogram"
           }
          ],
          "histogram2d": [
           {
            "colorbar": {
             "outlinewidth": 0,
             "ticks": ""
            },
            "colorscale": [
             [
              0,
              "#0d0887"
             ],
             [
              0.1111111111111111,
              "#46039f"
             ],
             [
              0.2222222222222222,
              "#7201a8"
             ],
             [
              0.3333333333333333,
              "#9c179e"
             ],
             [
              0.4444444444444444,
              "#bd3786"
             ],
             [
              0.5555555555555556,
              "#d8576b"
             ],
             [
              0.6666666666666666,
              "#ed7953"
             ],
             [
              0.7777777777777778,
              "#fb9f3a"
             ],
             [
              0.8888888888888888,
              "#fdca26"
             ],
             [
              1,
              "#f0f921"
             ]
            ],
            "type": "histogram2d"
           }
          ],
          "histogram2dcontour": [
           {
            "colorbar": {
             "outlinewidth": 0,
             "ticks": ""
            },
            "colorscale": [
             [
              0,
              "#0d0887"
             ],
             [
              0.1111111111111111,
              "#46039f"
             ],
             [
              0.2222222222222222,
              "#7201a8"
             ],
             [
              0.3333333333333333,
              "#9c179e"
             ],
             [
              0.4444444444444444,
              "#bd3786"
             ],
             [
              0.5555555555555556,
              "#d8576b"
             ],
             [
              0.6666666666666666,
              "#ed7953"
             ],
             [
              0.7777777777777778,
              "#fb9f3a"
             ],
             [
              0.8888888888888888,
              "#fdca26"
             ],
             [
              1,
              "#f0f921"
             ]
            ],
            "type": "histogram2dcontour"
           }
          ],
          "mesh3d": [
           {
            "colorbar": {
             "outlinewidth": 0,
             "ticks": ""
            },
            "type": "mesh3d"
           }
          ],
          "parcoords": [
           {
            "line": {
             "colorbar": {
              "outlinewidth": 0,
              "ticks": ""
             }
            },
            "type": "parcoords"
           }
          ],
          "pie": [
           {
            "automargin": true,
            "type": "pie"
           }
          ],
          "scatter": [
           {
            "fillpattern": {
             "fillmode": "overlay",
             "size": 10,
             "solidity": 0.2
            },
            "type": "scatter"
           }
          ],
          "scatter3d": [
           {
            "line": {
             "colorbar": {
              "outlinewidth": 0,
              "ticks": ""
             }
            },
            "marker": {
             "colorbar": {
              "outlinewidth": 0,
              "ticks": ""
             }
            },
            "type": "scatter3d"
           }
          ],
          "scattercarpet": [
           {
            "marker": {
             "colorbar": {
              "outlinewidth": 0,
              "ticks": ""
             }
            },
            "type": "scattercarpet"
           }
          ],
          "scattergeo": [
           {
            "marker": {
             "colorbar": {
              "outlinewidth": 0,
              "ticks": ""
             }
            },
            "type": "scattergeo"
           }
          ],
          "scattergl": [
           {
            "marker": {
             "colorbar": {
              "outlinewidth": 0,
              "ticks": ""
             }
            },
            "type": "scattergl"
           }
          ],
          "scattermapbox": [
           {
            "marker": {
             "colorbar": {
              "outlinewidth": 0,
              "ticks": ""
             }
            },
            "type": "scattermapbox"
           }
          ],
          "scatterpolar": [
           {
            "marker": {
             "colorbar": {
              "outlinewidth": 0,
              "ticks": ""
             }
            },
            "type": "scatterpolar"
           }
          ],
          "scatterpolargl": [
           {
            "marker": {
             "colorbar": {
              "outlinewidth": 0,
              "ticks": ""
             }
            },
            "type": "scatterpolargl"
           }
          ],
          "scatterternary": [
           {
            "marker": {
             "colorbar": {
              "outlinewidth": 0,
              "ticks": ""
             }
            },
            "type": "scatterternary"
           }
          ],
          "surface": [
           {
            "colorbar": {
             "outlinewidth": 0,
             "ticks": ""
            },
            "colorscale": [
             [
              0,
              "#0d0887"
             ],
             [
              0.1111111111111111,
              "#46039f"
             ],
             [
              0.2222222222222222,
              "#7201a8"
             ],
             [
              0.3333333333333333,
              "#9c179e"
             ],
             [
              0.4444444444444444,
              "#bd3786"
             ],
             [
              0.5555555555555556,
              "#d8576b"
             ],
             [
              0.6666666666666666,
              "#ed7953"
             ],
             [
              0.7777777777777778,
              "#fb9f3a"
             ],
             [
              0.8888888888888888,
              "#fdca26"
             ],
             [
              1,
              "#f0f921"
             ]
            ],
            "type": "surface"
           }
          ],
          "table": [
           {
            "cells": {
             "fill": {
              "color": "#EBF0F8"
             },
             "line": {
              "color": "white"
             }
            },
            "header": {
             "fill": {
              "color": "#C8D4E3"
             },
             "line": {
              "color": "white"
             }
            },
            "type": "table"
           }
          ]
         },
         "layout": {
          "annotationdefaults": {
           "arrowcolor": "#2a3f5f",
           "arrowhead": 0,
           "arrowwidth": 1
          },
          "autotypenumbers": "strict",
          "coloraxis": {
           "colorbar": {
            "outlinewidth": 0,
            "ticks": ""
           }
          },
          "colorscale": {
           "diverging": [
            [
             0,
             "#8e0152"
            ],
            [
             0.1,
             "#c51b7d"
            ],
            [
             0.2,
             "#de77ae"
            ],
            [
             0.3,
             "#f1b6da"
            ],
            [
             0.4,
             "#fde0ef"
            ],
            [
             0.5,
             "#f7f7f7"
            ],
            [
             0.6,
             "#e6f5d0"
            ],
            [
             0.7,
             "#b8e186"
            ],
            [
             0.8,
             "#7fbc41"
            ],
            [
             0.9,
             "#4d9221"
            ],
            [
             1,
             "#276419"
            ]
           ],
           "sequential": [
            [
             0,
             "#0d0887"
            ],
            [
             0.1111111111111111,
             "#46039f"
            ],
            [
             0.2222222222222222,
             "#7201a8"
            ],
            [
             0.3333333333333333,
             "#9c179e"
            ],
            [
             0.4444444444444444,
             "#bd3786"
            ],
            [
             0.5555555555555556,
             "#d8576b"
            ],
            [
             0.6666666666666666,
             "#ed7953"
            ],
            [
             0.7777777777777778,
             "#fb9f3a"
            ],
            [
             0.8888888888888888,
             "#fdca26"
            ],
            [
             1,
             "#f0f921"
            ]
           ],
           "sequentialminus": [
            [
             0,
             "#0d0887"
            ],
            [
             0.1111111111111111,
             "#46039f"
            ],
            [
             0.2222222222222222,
             "#7201a8"
            ],
            [
             0.3333333333333333,
             "#9c179e"
            ],
            [
             0.4444444444444444,
             "#bd3786"
            ],
            [
             0.5555555555555556,
             "#d8576b"
            ],
            [
             0.6666666666666666,
             "#ed7953"
            ],
            [
             0.7777777777777778,
             "#fb9f3a"
            ],
            [
             0.8888888888888888,
             "#fdca26"
            ],
            [
             1,
             "#f0f921"
            ]
           ]
          },
          "colorway": [
           "#636efa",
           "#EF553B",
           "#00cc96",
           "#ab63fa",
           "#FFA15A",
           "#19d3f3",
           "#FF6692",
           "#B6E880",
           "#FF97FF",
           "#FECB52"
          ],
          "font": {
           "color": "#2a3f5f"
          },
          "geo": {
           "bgcolor": "white",
           "lakecolor": "white",
           "landcolor": "#E5ECF6",
           "showlakes": true,
           "showland": true,
           "subunitcolor": "white"
          },
          "hoverlabel": {
           "align": "left"
          },
          "hovermode": "closest",
          "mapbox": {
           "style": "light"
          },
          "paper_bgcolor": "white",
          "plot_bgcolor": "#E5ECF6",
          "polar": {
           "angularaxis": {
            "gridcolor": "white",
            "linecolor": "white",
            "ticks": ""
           },
           "bgcolor": "#E5ECF6",
           "radialaxis": {
            "gridcolor": "white",
            "linecolor": "white",
            "ticks": ""
           }
          },
          "scene": {
           "xaxis": {
            "backgroundcolor": "#E5ECF6",
            "gridcolor": "white",
            "gridwidth": 2,
            "linecolor": "white",
            "showbackground": true,
            "ticks": "",
            "zerolinecolor": "white"
           },
           "yaxis": {
            "backgroundcolor": "#E5ECF6",
            "gridcolor": "white",
            "gridwidth": 2,
            "linecolor": "white",
            "showbackground": true,
            "ticks": "",
            "zerolinecolor": "white"
           },
           "zaxis": {
            "backgroundcolor": "#E5ECF6",
            "gridcolor": "white",
            "gridwidth": 2,
            "linecolor": "white",
            "showbackground": true,
            "ticks": "",
            "zerolinecolor": "white"
           }
          },
          "shapedefaults": {
           "line": {
            "color": "#2a3f5f"
           }
          },
          "ternary": {
           "aaxis": {
            "gridcolor": "white",
            "linecolor": "white",
            "ticks": ""
           },
           "baxis": {
            "gridcolor": "white",
            "linecolor": "white",
            "ticks": ""
           },
           "bgcolor": "#E5ECF6",
           "caxis": {
            "gridcolor": "white",
            "linecolor": "white",
            "ticks": ""
           }
          },
          "title": {
           "x": 0.05
          },
          "xaxis": {
           "automargin": true,
           "gridcolor": "white",
           "linecolor": "white",
           "ticks": "",
           "title": {
            "standoff": 15
           },
           "zerolinecolor": "white",
           "zerolinewidth": 2
          },
          "yaxis": {
           "automargin": true,
           "gridcolor": "white",
           "linecolor": "white",
           "ticks": "",
           "title": {
            "standoff": 15
           },
           "zerolinecolor": "white",
           "zerolinewidth": 2
          }
         }
        },
        "title": {
         "text": "Year of Birth vs Goal Contributions per 90 Minutes for Selected Players"
        },
        "xaxis": {
         "anchor": "y",
         "domain": [
          0,
          1
         ],
         "title": {
          "text": "Born"
         }
        },
        "yaxis": {
         "anchor": "x",
         "domain": [
          0,
          1
         ],
         "title": {
          "text": "Goals + Assists per 90"
         }
        }
       }
      }
     },
     "metadata": {},
     "output_type": "display_data"
    }
   ],
   "source": [
    "fig3 = px.scatter(focus_players_df, x='Born', y='Goals + Assists per 90',\n",
    "                  size='Goals + Assists', color='Squad', hover_name='Player',\n",
    "                  title='Year of Birth vs Goal Contributions per 90 Minutes for Selected Players')\n",
    "fig3.show()"
   ]
  },
  {
   "cell_type": "markdown",
   "metadata": {},
   "source": [
    "These two graphs have helped confirm the outlier players in the focus_players dataframe. We must remember that all of these players are posting impressive stats as attacking players, but some are disproportionately effective for their teams. Next step is to find the total number of goals scored for each of the teams and create a new dataset."
   ]
  },
  {
   "cell_type": "code",
   "execution_count": 127,
   "metadata": {},
   "outputs": [
    {
     "data": {
      "text/html": [
       "<div>\n",
       "<style scoped>\n",
       "    .dataframe tbody tr th:only-of-type {\n",
       "        vertical-align: middle;\n",
       "    }\n",
       "\n",
       "    .dataframe tbody tr th {\n",
       "        vertical-align: top;\n",
       "    }\n",
       "\n",
       "    .dataframe thead th {\n",
       "        text-align: right;\n",
       "    }\n",
       "</style>\n",
       "<table border=\"1\" class=\"dataframe\">\n",
       "  <thead>\n",
       "    <tr style=\"text-align: right;\">\n",
       "      <th></th>\n",
       "      <th>Player</th>\n",
       "      <th>Nation</th>\n",
       "      <th>Born</th>\n",
       "      <th>Squad</th>\n",
       "    </tr>\n",
       "  </thead>\n",
       "  <tbody>\n",
       "    <tr>\n",
       "      <th>302</th>\n",
       "      <td>Igor Matanovic</td>\n",
       "      <td>hr CRO</td>\n",
       "      <td>2003</td>\n",
       "      <td>Karlsruher</td>\n",
       "    </tr>\n",
       "    <tr>\n",
       "      <th>470</th>\n",
       "      <td>Christos Tzolis</td>\n",
       "      <td>gr GRE</td>\n",
       "      <td>2002</td>\n",
       "      <td>Düsseldorf</td>\n",
       "    </tr>\n",
       "    <tr>\n",
       "      <th>495</th>\n",
       "      <td>Can Yılmaz Uzun</td>\n",
       "      <td>tr TUR</td>\n",
       "      <td>2005</td>\n",
       "      <td>Nürnberg</td>\n",
       "    </tr>\n",
       "    <tr>\n",
       "      <th>17</th>\n",
       "      <td>Mohamed El Amine Amoura</td>\n",
       "      <td>dz ALG</td>\n",
       "      <td>2000</td>\n",
       "      <td>Union SG</td>\n",
       "    </tr>\n",
       "    <tr>\n",
       "      <th>116</th>\n",
       "      <td>Kevin Denkey</td>\n",
       "      <td>tg TOG</td>\n",
       "      <td>2000</td>\n",
       "      <td>Cercle Brugge</td>\n",
       "    </tr>\n",
       "    <tr>\n",
       "      <th>425</th>\n",
       "      <td>Thiago</td>\n",
       "      <td>br BRA</td>\n",
       "      <td>2001</td>\n",
       "      <td>Club Brugge</td>\n",
       "    </tr>\n",
       "    <tr>\n",
       "      <th>262</th>\n",
       "      <td>Andreas Hountondji</td>\n",
       "      <td>bj BEN</td>\n",
       "      <td>2002</td>\n",
       "      <td>Rodez Aveyron</td>\n",
       "    </tr>\n",
       "    <tr>\n",
       "      <th>484</th>\n",
       "      <td>Peque</td>\n",
       "      <td>es ESP</td>\n",
       "      <td>2002</td>\n",
       "      <td>Racing Sant</td>\n",
       "    </tr>\n",
       "    <tr>\n",
       "      <th>58</th>\n",
       "      <td>Adrian Benedyczak</td>\n",
       "      <td>pl POL</td>\n",
       "      <td>2000</td>\n",
       "      <td>Parma</td>\n",
       "    </tr>\n",
       "  </tbody>\n",
       "</table>\n",
       "</div>"
      ],
      "text/plain": [
       "                      Player  Nation  Born          Squad\n",
       "302           Igor Matanovic  hr CRO  2003     Karlsruher\n",
       "470          Christos Tzolis  gr GRE  2002     Düsseldorf\n",
       "495          Can Yılmaz Uzun  tr TUR  2005       Nürnberg\n",
       "17   Mohamed El Amine Amoura  dz ALG  2000       Union SG\n",
       "116             Kevin Denkey  tg TOG  2000  Cercle Brugge\n",
       "425                   Thiago  br BRA  2001    Club Brugge\n",
       "262       Andreas Hountondji  bj BEN  2002  Rodez Aveyron\n",
       "484                    Peque  es ESP  2002    Racing Sant\n",
       "58         Adrian Benedyczak  pl POL  2000          Parma"
      ]
     },
     "execution_count": 127,
     "metadata": {},
     "output_type": "execute_result"
    }
   ],
   "source": [
    "players_squads = focus_players_df[['Player', 'Nation', 'Born', 'Squad']]\n",
    "players_squads"
   ]
  },
  {
   "cell_type": "code",
   "execution_count": 77,
   "metadata": {},
   "outputs": [
    {
     "name": "stderr",
     "output_type": "stream",
     "text": [
      "/var/folders/7_/1sj7vc495_z4fzf1l_tpnznc0000gn/T/ipykernel_54263/1198818750.py:23: SettingWithCopyWarning:\n",
      "\n",
      "\n",
      "A value is trying to be set on a copy of a slice from a DataFrame.\n",
      "Try using .loc[row_indexer,col_indexer] = value instead\n",
      "\n",
      "See the caveats in the documentation: https://pandas.pydata.org/pandas-docs/stable/user_guide/indexing.html#returning-a-view-versus-a-copy\n",
      "\n"
     ]
    },
    {
     "data": {
      "text/html": [
       "<div>\n",
       "<style scoped>\n",
       "    .dataframe tbody tr th:only-of-type {\n",
       "        vertical-align: middle;\n",
       "    }\n",
       "\n",
       "    .dataframe tbody tr th {\n",
       "        vertical-align: top;\n",
       "    }\n",
       "\n",
       "    .dataframe thead th {\n",
       "        text-align: right;\n",
       "    }\n",
       "</style>\n",
       "<table border=\"1\" class=\"dataframe\">\n",
       "  <thead>\n",
       "    <tr style=\"text-align: right;\">\n",
       "      <th></th>\n",
       "      <th>Player</th>\n",
       "      <th>Nation</th>\n",
       "      <th>Born</th>\n",
       "      <th>Squad</th>\n",
       "      <th>Total Team Goals</th>\n",
       "    </tr>\n",
       "  </thead>\n",
       "  <tbody>\n",
       "    <tr>\n",
       "      <th>302</th>\n",
       "      <td>Igor Matanovic</td>\n",
       "      <td>hr CRO</td>\n",
       "      <td>2003</td>\n",
       "      <td>Karlsruher</td>\n",
       "      <td>55</td>\n",
       "    </tr>\n",
       "    <tr>\n",
       "      <th>470</th>\n",
       "      <td>Christos Tzolis</td>\n",
       "      <td>gr GRE</td>\n",
       "      <td>2002</td>\n",
       "      <td>Düsseldorf</td>\n",
       "      <td>56</td>\n",
       "    </tr>\n",
       "    <tr>\n",
       "      <th>495</th>\n",
       "      <td>Can Yılmaz Uzun</td>\n",
       "      <td>tr TUR</td>\n",
       "      <td>2005</td>\n",
       "      <td>Nürnberg</td>\n",
       "      <td>35</td>\n",
       "    </tr>\n",
       "    <tr>\n",
       "      <th>17</th>\n",
       "      <td>Mohamed El Amine Amoura</td>\n",
       "      <td>dz ALG</td>\n",
       "      <td>2000</td>\n",
       "      <td>Union SG</td>\n",
       "      <td>63</td>\n",
       "    </tr>\n",
       "    <tr>\n",
       "      <th>116</th>\n",
       "      <td>Kevin Denkey</td>\n",
       "      <td>tg TOG</td>\n",
       "      <td>2000</td>\n",
       "      <td>Cercle Brugge</td>\n",
       "      <td>44</td>\n",
       "    </tr>\n",
       "    <tr>\n",
       "      <th>425</th>\n",
       "      <td>Thiago</td>\n",
       "      <td>br BRA</td>\n",
       "      <td>2001</td>\n",
       "      <td>Club Brugge</td>\n",
       "      <td>62</td>\n",
       "    </tr>\n",
       "    <tr>\n",
       "      <th>262</th>\n",
       "      <td>Andreas Hountondji</td>\n",
       "      <td>bj BEN</td>\n",
       "      <td>2002</td>\n",
       "      <td>Rodez Aveyron</td>\n",
       "      <td>47</td>\n",
       "    </tr>\n",
       "    <tr>\n",
       "      <th>484</th>\n",
       "      <td>Peque</td>\n",
       "      <td>es ESP</td>\n",
       "      <td>2002</td>\n",
       "      <td>Racing Sant</td>\n",
       "      <td>49</td>\n",
       "    </tr>\n",
       "    <tr>\n",
       "      <th>58</th>\n",
       "      <td>Adrian Benedyczak</td>\n",
       "      <td>pl POL</td>\n",
       "      <td>2000</td>\n",
       "      <td>Parma</td>\n",
       "      <td>57</td>\n",
       "    </tr>\n",
       "  </tbody>\n",
       "</table>\n",
       "</div>"
      ],
      "text/plain": [
       "                      Player  Nation  Born          Squad  Total Team Goals\n",
       "302           Igor Matanovic  hr CRO  2003     Karlsruher                55\n",
       "470          Christos Tzolis  gr GRE  2002     Düsseldorf                56\n",
       "495          Can Yılmaz Uzun  tr TUR  2005       Nürnberg                35\n",
       "17   Mohamed El Amine Amoura  dz ALG  2000       Union SG                63\n",
       "116             Kevin Denkey  tg TOG  2000  Cercle Brugge                44\n",
       "425                   Thiago  br BRA  2001    Club Brugge                62\n",
       "262       Andreas Hountondji  bj BEN  2002  Rodez Aveyron                47\n",
       "484                    Peque  es ESP  2002    Racing Sant                49\n",
       "58         Adrian Benedyczak  pl POL  2000          Parma                57"
      ]
     },
     "execution_count": 77,
     "metadata": {},
     "output_type": "execute_result"
    }
   ],
   "source": [
    "karlsruher_de_goals = 55\n",
    "duesseldorf_de_goals = 56\n",
    "nuernberg_de_goals = 35\n",
    "union_sg_bel_goals = 63\n",
    "cercle_brugge_bel_goals = 44\n",
    "club_brugge_bel_goals = 62\n",
    "rodez_aveyron_fr_goals = 47\n",
    "rancing_sant_esp_goals = 49\n",
    "parma_it_goals = 57\n",
    "\n",
    "team_goals = {\n",
    "    'Karlsruher': 55,\n",
    "    'Düsseldorf': 56,\n",
    "    'Nürnberg': 35,\n",
    "    'Union SG': 63,\n",
    "    'Cercle Brugge': 44,\n",
    "    'Club Brugge': 62,\n",
    "    'Rodez Aveyron': 47,\n",
    "    'Racing Sant': 49,\n",
    "    'Parma': 57\n",
    "}\n",
    "\n",
    "players_squads['Total Team Goals'] = players_squads['Squad'].map(team_goals)\n",
    "players_squads\n",
    "\n"
   ]
  },
  {
   "cell_type": "code",
   "execution_count": 78,
   "metadata": {},
   "outputs": [
    {
     "name": "stderr",
     "output_type": "stream",
     "text": [
      "/var/folders/7_/1sj7vc495_z4fzf1l_tpnznc0000gn/T/ipykernel_54263/3299465253.py:3: SettingWithCopyWarning:\n",
      "\n",
      "\n",
      "A value is trying to be set on a copy of a slice from a DataFrame.\n",
      "Try using .loc[row_indexer,col_indexer] = value instead\n",
      "\n",
      "See the caveats in the documentation: https://pandas.pydata.org/pandas-docs/stable/user_guide/indexing.html#returning-a-view-versus-a-copy\n",
      "\n"
     ]
    },
    {
     "data": {
      "text/html": [
       "<div>\n",
       "<style scoped>\n",
       "    .dataframe tbody tr th:only-of-type {\n",
       "        vertical-align: middle;\n",
       "    }\n",
       "\n",
       "    .dataframe tbody tr th {\n",
       "        vertical-align: top;\n",
       "    }\n",
       "\n",
       "    .dataframe thead th {\n",
       "        text-align: right;\n",
       "    }\n",
       "</style>\n",
       "<table border=\"1\" class=\"dataframe\">\n",
       "  <thead>\n",
       "    <tr style=\"text-align: right;\">\n",
       "      <th></th>\n",
       "      <th>Player</th>\n",
       "      <th>Nation</th>\n",
       "      <th>Born</th>\n",
       "      <th>Squad</th>\n",
       "      <th>Total Team Goals</th>\n",
       "      <th>Goals + Assists</th>\n",
       "    </tr>\n",
       "  </thead>\n",
       "  <tbody>\n",
       "    <tr>\n",
       "      <th>302</th>\n",
       "      <td>Igor Matanovic</td>\n",
       "      <td>hr CRO</td>\n",
       "      <td>2003</td>\n",
       "      <td>Karlsruher</td>\n",
       "      <td>55</td>\n",
       "      <td>14</td>\n",
       "    </tr>\n",
       "    <tr>\n",
       "      <th>470</th>\n",
       "      <td>Christos Tzolis</td>\n",
       "      <td>gr GRE</td>\n",
       "      <td>2002</td>\n",
       "      <td>Düsseldorf</td>\n",
       "      <td>56</td>\n",
       "      <td>16</td>\n",
       "    </tr>\n",
       "    <tr>\n",
       "      <th>495</th>\n",
       "      <td>Can Yılmaz Uzun</td>\n",
       "      <td>tr TUR</td>\n",
       "      <td>2005</td>\n",
       "      <td>Nürnberg</td>\n",
       "      <td>35</td>\n",
       "      <td>13</td>\n",
       "    </tr>\n",
       "    <tr>\n",
       "      <th>17</th>\n",
       "      <td>Mohamed El Amine Amoura</td>\n",
       "      <td>dz ALG</td>\n",
       "      <td>2000</td>\n",
       "      <td>Union SG</td>\n",
       "      <td>63</td>\n",
       "      <td>19</td>\n",
       "    </tr>\n",
       "    <tr>\n",
       "      <th>116</th>\n",
       "      <td>Kevin Denkey</td>\n",
       "      <td>tg TOG</td>\n",
       "      <td>2000</td>\n",
       "      <td>Cercle Brugge</td>\n",
       "      <td>44</td>\n",
       "      <td>22</td>\n",
       "    </tr>\n",
       "    <tr>\n",
       "      <th>425</th>\n",
       "      <td>Thiago</td>\n",
       "      <td>br BRA</td>\n",
       "      <td>2001</td>\n",
       "      <td>Club Brugge</td>\n",
       "      <td>62</td>\n",
       "      <td>18</td>\n",
       "    </tr>\n",
       "    <tr>\n",
       "      <th>262</th>\n",
       "      <td>Andreas Hountondji</td>\n",
       "      <td>bj BEN</td>\n",
       "      <td>2002</td>\n",
       "      <td>Rodez Aveyron</td>\n",
       "      <td>47</td>\n",
       "      <td>13</td>\n",
       "    </tr>\n",
       "    <tr>\n",
       "      <th>484</th>\n",
       "      <td>Peque</td>\n",
       "      <td>es ESP</td>\n",
       "      <td>2002</td>\n",
       "      <td>Racing Sant</td>\n",
       "      <td>49</td>\n",
       "      <td>15</td>\n",
       "    </tr>\n",
       "    <tr>\n",
       "      <th>58</th>\n",
       "      <td>Adrian Benedyczak</td>\n",
       "      <td>pl POL</td>\n",
       "      <td>2000</td>\n",
       "      <td>Parma</td>\n",
       "      <td>57</td>\n",
       "      <td>13</td>\n",
       "    </tr>\n",
       "  </tbody>\n",
       "</table>\n",
       "</div>"
      ],
      "text/plain": [
       "                      Player  Nation  Born          Squad  Total Team Goals  \\\n",
       "302           Igor Matanovic  hr CRO  2003     Karlsruher                55   \n",
       "470          Christos Tzolis  gr GRE  2002     Düsseldorf                56   \n",
       "495          Can Yılmaz Uzun  tr TUR  2005       Nürnberg                35   \n",
       "17   Mohamed El Amine Amoura  dz ALG  2000       Union SG                63   \n",
       "116             Kevin Denkey  tg TOG  2000  Cercle Brugge                44   \n",
       "425                   Thiago  br BRA  2001    Club Brugge                62   \n",
       "262       Andreas Hountondji  bj BEN  2002  Rodez Aveyron                47   \n",
       "484                    Peque  es ESP  2002    Racing Sant                49   \n",
       "58         Adrian Benedyczak  pl POL  2000          Parma                57   \n",
       "\n",
       "     Goals + Assists  \n",
       "302               14  \n",
       "470               16  \n",
       "495               13  \n",
       "17                19  \n",
       "116               22  \n",
       "425               18  \n",
       "262               13  \n",
       "484               15  \n",
       "58                13  "
      ]
     },
     "execution_count": 78,
     "metadata": {},
     "output_type": "execute_result"
    }
   ],
   "source": [
    "# Adding the 'Goals + Assists' column to this new dataframe that I am using to calculate % contriution to team goals.\n",
    "goals_assists_mapping = focus_players_df.set_index('Player')['Goals + Assists'].to_dict()\n",
    "players_squads['Goals + Assists'] = players_squads['Player'].map(goals_assists_mapping)\n",
    "players_squads"
   ]
  },
  {
   "cell_type": "code",
   "execution_count": 79,
   "metadata": {},
   "outputs": [
    {
     "data": {
      "text/html": [
       "<div>\n",
       "<style scoped>\n",
       "    .dataframe tbody tr th:only-of-type {\n",
       "        vertical-align: middle;\n",
       "    }\n",
       "\n",
       "    .dataframe tbody tr th {\n",
       "        vertical-align: top;\n",
       "    }\n",
       "\n",
       "    .dataframe thead th {\n",
       "        text-align: right;\n",
       "    }\n",
       "</style>\n",
       "<table border=\"1\" class=\"dataframe\">\n",
       "  <thead>\n",
       "    <tr style=\"text-align: right;\">\n",
       "      <th></th>\n",
       "      <th>Player</th>\n",
       "      <th>Born</th>\n",
       "      <th>Nation</th>\n",
       "      <th>Goals + Assists</th>\n",
       "      <th>Squad</th>\n",
       "      <th>Total Team Goals</th>\n",
       "      <th>Contribution to Team Goals (%)</th>\n",
       "    </tr>\n",
       "  </thead>\n",
       "  <tbody>\n",
       "    <tr>\n",
       "      <th>302</th>\n",
       "      <td>Igor Matanovic</td>\n",
       "      <td>2003</td>\n",
       "      <td>hr CRO</td>\n",
       "      <td>14</td>\n",
       "      <td>Karlsruher</td>\n",
       "      <td>55</td>\n",
       "      <td>25.45</td>\n",
       "    </tr>\n",
       "    <tr>\n",
       "      <th>470</th>\n",
       "      <td>Christos Tzolis</td>\n",
       "      <td>2002</td>\n",
       "      <td>gr GRE</td>\n",
       "      <td>16</td>\n",
       "      <td>Düsseldorf</td>\n",
       "      <td>56</td>\n",
       "      <td>28.57</td>\n",
       "    </tr>\n",
       "    <tr>\n",
       "      <th>495</th>\n",
       "      <td>Can Yılmaz Uzun</td>\n",
       "      <td>2005</td>\n",
       "      <td>tr TUR</td>\n",
       "      <td>13</td>\n",
       "      <td>Nürnberg</td>\n",
       "      <td>35</td>\n",
       "      <td>37.14</td>\n",
       "    </tr>\n",
       "    <tr>\n",
       "      <th>17</th>\n",
       "      <td>Mohamed El Amine Amoura</td>\n",
       "      <td>2000</td>\n",
       "      <td>dz ALG</td>\n",
       "      <td>19</td>\n",
       "      <td>Union SG</td>\n",
       "      <td>63</td>\n",
       "      <td>30.16</td>\n",
       "    </tr>\n",
       "    <tr>\n",
       "      <th>116</th>\n",
       "      <td>Kevin Denkey</td>\n",
       "      <td>2000</td>\n",
       "      <td>tg TOG</td>\n",
       "      <td>22</td>\n",
       "      <td>Cercle Brugge</td>\n",
       "      <td>44</td>\n",
       "      <td>50.00</td>\n",
       "    </tr>\n",
       "    <tr>\n",
       "      <th>425</th>\n",
       "      <td>Thiago</td>\n",
       "      <td>2001</td>\n",
       "      <td>br BRA</td>\n",
       "      <td>18</td>\n",
       "      <td>Club Brugge</td>\n",
       "      <td>62</td>\n",
       "      <td>29.03</td>\n",
       "    </tr>\n",
       "    <tr>\n",
       "      <th>262</th>\n",
       "      <td>Andreas Hountondji</td>\n",
       "      <td>2002</td>\n",
       "      <td>bj BEN</td>\n",
       "      <td>13</td>\n",
       "      <td>Rodez Aveyron</td>\n",
       "      <td>47</td>\n",
       "      <td>27.66</td>\n",
       "    </tr>\n",
       "    <tr>\n",
       "      <th>484</th>\n",
       "      <td>Peque</td>\n",
       "      <td>2002</td>\n",
       "      <td>es ESP</td>\n",
       "      <td>15</td>\n",
       "      <td>Racing Sant</td>\n",
       "      <td>49</td>\n",
       "      <td>30.61</td>\n",
       "    </tr>\n",
       "    <tr>\n",
       "      <th>58</th>\n",
       "      <td>Adrian Benedyczak</td>\n",
       "      <td>2000</td>\n",
       "      <td>pl POL</td>\n",
       "      <td>13</td>\n",
       "      <td>Parma</td>\n",
       "      <td>57</td>\n",
       "      <td>22.81</td>\n",
       "    </tr>\n",
       "  </tbody>\n",
       "</table>\n",
       "</div>"
      ],
      "text/plain": [
       "                      Player  Born  Nation  Goals + Assists          Squad  \\\n",
       "302           Igor Matanovic  2003  hr CRO               14     Karlsruher   \n",
       "470          Christos Tzolis  2002  gr GRE               16     Düsseldorf   \n",
       "495          Can Yılmaz Uzun  2005  tr TUR               13       Nürnberg   \n",
       "17   Mohamed El Amine Amoura  2000  dz ALG               19       Union SG   \n",
       "116             Kevin Denkey  2000  tg TOG               22  Cercle Brugge   \n",
       "425                   Thiago  2001  br BRA               18    Club Brugge   \n",
       "262       Andreas Hountondji  2002  bj BEN               13  Rodez Aveyron   \n",
       "484                    Peque  2002  es ESP               15    Racing Sant   \n",
       "58         Adrian Benedyczak  2000  pl POL               13          Parma   \n",
       "\n",
       "     Total Team Goals  Contribution to Team Goals (%)  \n",
       "302                55                           25.45  \n",
       "470                56                           28.57  \n",
       "495                35                           37.14  \n",
       "17                 63                           30.16  \n",
       "116                44                           50.00  \n",
       "425                62                           29.03  \n",
       "262                47                           27.66  \n",
       "484                49                           30.61  \n",
       "58                 57                           22.81  "
      ]
     },
     "execution_count": 79,
     "metadata": {},
     "output_type": "execute_result"
    }
   ],
   "source": [
    "columns_order = ['Player', 'Born', 'Nation', 'Goals + Assists', 'Squad', 'Total Team Goals']\n",
    "players_squads = players_squads.reindex(columns=columns_order)\n",
    "\n",
    "players_squads['Contribution to Team Goals (%)'] = ((players_squads['Goals + Assists'] / players_squads['Total Team Goals']) * 100).round(2)\n",
    "\n",
    "players_squads"
   ]
  },
  {
   "cell_type": "code",
   "execution_count": 80,
   "metadata": {},
   "outputs": [
    {
     "data": {
      "application/vnd.plotly.v1+json": {
       "config": {
        "plotlyServerURL": "https://plot.ly"
       },
       "data": [
        {
         "alignmentgroup": "True",
         "hovertemplate": "Born=2003<br>Contribution to Team Goals (%)=%{text}<br>Player=%{y}<extra></extra>",
         "legendgroup": "2003",
         "marker": {
          "color": "#636efa",
          "pattern": {
           "shape": ""
          }
         },
         "name": "2003",
         "offsetgroup": "2003",
         "orientation": "h",
         "showlegend": true,
         "text": [
          25.45
         ],
         "textposition": "auto",
         "type": "bar",
         "x": [
          25.45
         ],
         "xaxis": "x",
         "y": [
          "Igor Matanovic"
         ],
         "yaxis": "y"
        },
        {
         "alignmentgroup": "True",
         "hovertemplate": "Born=2002<br>Contribution to Team Goals (%)=%{text}<br>Player=%{y}<extra></extra>",
         "legendgroup": "2002",
         "marker": {
          "color": "#EF553B",
          "pattern": {
           "shape": ""
          }
         },
         "name": "2002",
         "offsetgroup": "2002",
         "orientation": "h",
         "showlegend": true,
         "text": [
          28.57,
          27.66,
          30.61
         ],
         "textposition": "auto",
         "type": "bar",
         "x": [
          28.57,
          27.66,
          30.61
         ],
         "xaxis": "x",
         "y": [
          "Christos Tzolis",
          "Andreas Hountondji",
          "Peque"
         ],
         "yaxis": "y"
        },
        {
         "alignmentgroup": "True",
         "hovertemplate": "Born=2005<br>Contribution to Team Goals (%)=%{text}<br>Player=%{y}<extra></extra>",
         "legendgroup": "2005",
         "marker": {
          "color": "#00cc96",
          "pattern": {
           "shape": ""
          }
         },
         "name": "2005",
         "offsetgroup": "2005",
         "orientation": "h",
         "showlegend": true,
         "text": [
          37.14
         ],
         "textposition": "auto",
         "type": "bar",
         "x": [
          37.14
         ],
         "xaxis": "x",
         "y": [
          "Can Yılmaz Uzun"
         ],
         "yaxis": "y"
        },
        {
         "alignmentgroup": "True",
         "hovertemplate": "Born=2000<br>Contribution to Team Goals (%)=%{text}<br>Player=%{y}<extra></extra>",
         "legendgroup": "2000",
         "marker": {
          "color": "#ab63fa",
          "pattern": {
           "shape": ""
          }
         },
         "name": "2000",
         "offsetgroup": "2000",
         "orientation": "h",
         "showlegend": true,
         "text": [
          30.16,
          50,
          22.81
         ],
         "textposition": "auto",
         "type": "bar",
         "x": [
          30.16,
          50,
          22.81
         ],
         "xaxis": "x",
         "y": [
          "Mohamed El Amine Amoura",
          "Kevin Denkey",
          "Adrian Benedyczak"
         ],
         "yaxis": "y"
        },
        {
         "alignmentgroup": "True",
         "hovertemplate": "Born=2001<br>Contribution to Team Goals (%)=%{text}<br>Player=%{y}<extra></extra>",
         "legendgroup": "2001",
         "marker": {
          "color": "#FFA15A",
          "pattern": {
           "shape": ""
          }
         },
         "name": "2001",
         "offsetgroup": "2001",
         "orientation": "h",
         "showlegend": true,
         "text": [
          29.03
         ],
         "textposition": "auto",
         "type": "bar",
         "x": [
          29.03
         ],
         "xaxis": "x",
         "y": [
          "Thiago"
         ],
         "yaxis": "y"
        }
       ],
       "layout": {
        "barmode": "relative",
        "height": 600,
        "legend": {
         "title": {
          "text": "Born"
         },
         "tracegroupgap": 0
        },
        "template": {
         "data": {
          "bar": [
           {
            "error_x": {
             "color": "#2a3f5f"
            },
            "error_y": {
             "color": "#2a3f5f"
            },
            "marker": {
             "line": {
              "color": "#E5ECF6",
              "width": 0.5
             },
             "pattern": {
              "fillmode": "overlay",
              "size": 10,
              "solidity": 0.2
             }
            },
            "type": "bar"
           }
          ],
          "barpolar": [
           {
            "marker": {
             "line": {
              "color": "#E5ECF6",
              "width": 0.5
             },
             "pattern": {
              "fillmode": "overlay",
              "size": 10,
              "solidity": 0.2
             }
            },
            "type": "barpolar"
           }
          ],
          "carpet": [
           {
            "aaxis": {
             "endlinecolor": "#2a3f5f",
             "gridcolor": "white",
             "linecolor": "white",
             "minorgridcolor": "white",
             "startlinecolor": "#2a3f5f"
            },
            "baxis": {
             "endlinecolor": "#2a3f5f",
             "gridcolor": "white",
             "linecolor": "white",
             "minorgridcolor": "white",
             "startlinecolor": "#2a3f5f"
            },
            "type": "carpet"
           }
          ],
          "choropleth": [
           {
            "colorbar": {
             "outlinewidth": 0,
             "ticks": ""
            },
            "type": "choropleth"
           }
          ],
          "contour": [
           {
            "colorbar": {
             "outlinewidth": 0,
             "ticks": ""
            },
            "colorscale": [
             [
              0,
              "#0d0887"
             ],
             [
              0.1111111111111111,
              "#46039f"
             ],
             [
              0.2222222222222222,
              "#7201a8"
             ],
             [
              0.3333333333333333,
              "#9c179e"
             ],
             [
              0.4444444444444444,
              "#bd3786"
             ],
             [
              0.5555555555555556,
              "#d8576b"
             ],
             [
              0.6666666666666666,
              "#ed7953"
             ],
             [
              0.7777777777777778,
              "#fb9f3a"
             ],
             [
              0.8888888888888888,
              "#fdca26"
             ],
             [
              1,
              "#f0f921"
             ]
            ],
            "type": "contour"
           }
          ],
          "contourcarpet": [
           {
            "colorbar": {
             "outlinewidth": 0,
             "ticks": ""
            },
            "type": "contourcarpet"
           }
          ],
          "heatmap": [
           {
            "colorbar": {
             "outlinewidth": 0,
             "ticks": ""
            },
            "colorscale": [
             [
              0,
              "#0d0887"
             ],
             [
              0.1111111111111111,
              "#46039f"
             ],
             [
              0.2222222222222222,
              "#7201a8"
             ],
             [
              0.3333333333333333,
              "#9c179e"
             ],
             [
              0.4444444444444444,
              "#bd3786"
             ],
             [
              0.5555555555555556,
              "#d8576b"
             ],
             [
              0.6666666666666666,
              "#ed7953"
             ],
             [
              0.7777777777777778,
              "#fb9f3a"
             ],
             [
              0.8888888888888888,
              "#fdca26"
             ],
             [
              1,
              "#f0f921"
             ]
            ],
            "type": "heatmap"
           }
          ],
          "heatmapgl": [
           {
            "colorbar": {
             "outlinewidth": 0,
             "ticks": ""
            },
            "colorscale": [
             [
              0,
              "#0d0887"
             ],
             [
              0.1111111111111111,
              "#46039f"
             ],
             [
              0.2222222222222222,
              "#7201a8"
             ],
             [
              0.3333333333333333,
              "#9c179e"
             ],
             [
              0.4444444444444444,
              "#bd3786"
             ],
             [
              0.5555555555555556,
              "#d8576b"
             ],
             [
              0.6666666666666666,
              "#ed7953"
             ],
             [
              0.7777777777777778,
              "#fb9f3a"
             ],
             [
              0.8888888888888888,
              "#fdca26"
             ],
             [
              1,
              "#f0f921"
             ]
            ],
            "type": "heatmapgl"
           }
          ],
          "histogram": [
           {
            "marker": {
             "pattern": {
              "fillmode": "overlay",
              "size": 10,
              "solidity": 0.2
             }
            },
            "type": "histogram"
           }
          ],
          "histogram2d": [
           {
            "colorbar": {
             "outlinewidth": 0,
             "ticks": ""
            },
            "colorscale": [
             [
              0,
              "#0d0887"
             ],
             [
              0.1111111111111111,
              "#46039f"
             ],
             [
              0.2222222222222222,
              "#7201a8"
             ],
             [
              0.3333333333333333,
              "#9c179e"
             ],
             [
              0.4444444444444444,
              "#bd3786"
             ],
             [
              0.5555555555555556,
              "#d8576b"
             ],
             [
              0.6666666666666666,
              "#ed7953"
             ],
             [
              0.7777777777777778,
              "#fb9f3a"
             ],
             [
              0.8888888888888888,
              "#fdca26"
             ],
             [
              1,
              "#f0f921"
             ]
            ],
            "type": "histogram2d"
           }
          ],
          "histogram2dcontour": [
           {
            "colorbar": {
             "outlinewidth": 0,
             "ticks": ""
            },
            "colorscale": [
             [
              0,
              "#0d0887"
             ],
             [
              0.1111111111111111,
              "#46039f"
             ],
             [
              0.2222222222222222,
              "#7201a8"
             ],
             [
              0.3333333333333333,
              "#9c179e"
             ],
             [
              0.4444444444444444,
              "#bd3786"
             ],
             [
              0.5555555555555556,
              "#d8576b"
             ],
             [
              0.6666666666666666,
              "#ed7953"
             ],
             [
              0.7777777777777778,
              "#fb9f3a"
             ],
             [
              0.8888888888888888,
              "#fdca26"
             ],
             [
              1,
              "#f0f921"
             ]
            ],
            "type": "histogram2dcontour"
           }
          ],
          "mesh3d": [
           {
            "colorbar": {
             "outlinewidth": 0,
             "ticks": ""
            },
            "type": "mesh3d"
           }
          ],
          "parcoords": [
           {
            "line": {
             "colorbar": {
              "outlinewidth": 0,
              "ticks": ""
             }
            },
            "type": "parcoords"
           }
          ],
          "pie": [
           {
            "automargin": true,
            "type": "pie"
           }
          ],
          "scatter": [
           {
            "fillpattern": {
             "fillmode": "overlay",
             "size": 10,
             "solidity": 0.2
            },
            "type": "scatter"
           }
          ],
          "scatter3d": [
           {
            "line": {
             "colorbar": {
              "outlinewidth": 0,
              "ticks": ""
             }
            },
            "marker": {
             "colorbar": {
              "outlinewidth": 0,
              "ticks": ""
             }
            },
            "type": "scatter3d"
           }
          ],
          "scattercarpet": [
           {
            "marker": {
             "colorbar": {
              "outlinewidth": 0,
              "ticks": ""
             }
            },
            "type": "scattercarpet"
           }
          ],
          "scattergeo": [
           {
            "marker": {
             "colorbar": {
              "outlinewidth": 0,
              "ticks": ""
             }
            },
            "type": "scattergeo"
           }
          ],
          "scattergl": [
           {
            "marker": {
             "colorbar": {
              "outlinewidth": 0,
              "ticks": ""
             }
            },
            "type": "scattergl"
           }
          ],
          "scattermapbox": [
           {
            "marker": {
             "colorbar": {
              "outlinewidth": 0,
              "ticks": ""
             }
            },
            "type": "scattermapbox"
           }
          ],
          "scatterpolar": [
           {
            "marker": {
             "colorbar": {
              "outlinewidth": 0,
              "ticks": ""
             }
            },
            "type": "scatterpolar"
           }
          ],
          "scatterpolargl": [
           {
            "marker": {
             "colorbar": {
              "outlinewidth": 0,
              "ticks": ""
             }
            },
            "type": "scatterpolargl"
           }
          ],
          "scatterternary": [
           {
            "marker": {
             "colorbar": {
              "outlinewidth": 0,
              "ticks": ""
             }
            },
            "type": "scatterternary"
           }
          ],
          "surface": [
           {
            "colorbar": {
             "outlinewidth": 0,
             "ticks": ""
            },
            "colorscale": [
             [
              0,
              "#0d0887"
             ],
             [
              0.1111111111111111,
              "#46039f"
             ],
             [
              0.2222222222222222,
              "#7201a8"
             ],
             [
              0.3333333333333333,
              "#9c179e"
             ],
             [
              0.4444444444444444,
              "#bd3786"
             ],
             [
              0.5555555555555556,
              "#d8576b"
             ],
             [
              0.6666666666666666,
              "#ed7953"
             ],
             [
              0.7777777777777778,
              "#fb9f3a"
             ],
             [
              0.8888888888888888,
              "#fdca26"
             ],
             [
              1,
              "#f0f921"
             ]
            ],
            "type": "surface"
           }
          ],
          "table": [
           {
            "cells": {
             "fill": {
              "color": "#EBF0F8"
             },
             "line": {
              "color": "white"
             }
            },
            "header": {
             "fill": {
              "color": "#C8D4E3"
             },
             "line": {
              "color": "white"
             }
            },
            "type": "table"
           }
          ]
         },
         "layout": {
          "annotationdefaults": {
           "arrowcolor": "#2a3f5f",
           "arrowhead": 0,
           "arrowwidth": 1
          },
          "autotypenumbers": "strict",
          "coloraxis": {
           "colorbar": {
            "outlinewidth": 0,
            "ticks": ""
           }
          },
          "colorscale": {
           "diverging": [
            [
             0,
             "#8e0152"
            ],
            [
             0.1,
             "#c51b7d"
            ],
            [
             0.2,
             "#de77ae"
            ],
            [
             0.3,
             "#f1b6da"
            ],
            [
             0.4,
             "#fde0ef"
            ],
            [
             0.5,
             "#f7f7f7"
            ],
            [
             0.6,
             "#e6f5d0"
            ],
            [
             0.7,
             "#b8e186"
            ],
            [
             0.8,
             "#7fbc41"
            ],
            [
             0.9,
             "#4d9221"
            ],
            [
             1,
             "#276419"
            ]
           ],
           "sequential": [
            [
             0,
             "#0d0887"
            ],
            [
             0.1111111111111111,
             "#46039f"
            ],
            [
             0.2222222222222222,
             "#7201a8"
            ],
            [
             0.3333333333333333,
             "#9c179e"
            ],
            [
             0.4444444444444444,
             "#bd3786"
            ],
            [
             0.5555555555555556,
             "#d8576b"
            ],
            [
             0.6666666666666666,
             "#ed7953"
            ],
            [
             0.7777777777777778,
             "#fb9f3a"
            ],
            [
             0.8888888888888888,
             "#fdca26"
            ],
            [
             1,
             "#f0f921"
            ]
           ],
           "sequentialminus": [
            [
             0,
             "#0d0887"
            ],
            [
             0.1111111111111111,
             "#46039f"
            ],
            [
             0.2222222222222222,
             "#7201a8"
            ],
            [
             0.3333333333333333,
             "#9c179e"
            ],
            [
             0.4444444444444444,
             "#bd3786"
            ],
            [
             0.5555555555555556,
             "#d8576b"
            ],
            [
             0.6666666666666666,
             "#ed7953"
            ],
            [
             0.7777777777777778,
             "#fb9f3a"
            ],
            [
             0.8888888888888888,
             "#fdca26"
            ],
            [
             1,
             "#f0f921"
            ]
           ]
          },
          "colorway": [
           "#636efa",
           "#EF553B",
           "#00cc96",
           "#ab63fa",
           "#FFA15A",
           "#19d3f3",
           "#FF6692",
           "#B6E880",
           "#FF97FF",
           "#FECB52"
          ],
          "font": {
           "color": "#2a3f5f"
          },
          "geo": {
           "bgcolor": "white",
           "lakecolor": "white",
           "landcolor": "#E5ECF6",
           "showlakes": true,
           "showland": true,
           "subunitcolor": "white"
          },
          "hoverlabel": {
           "align": "left"
          },
          "hovermode": "closest",
          "mapbox": {
           "style": "light"
          },
          "paper_bgcolor": "white",
          "plot_bgcolor": "#E5ECF6",
          "polar": {
           "angularaxis": {
            "gridcolor": "white",
            "linecolor": "white",
            "ticks": ""
           },
           "bgcolor": "#E5ECF6",
           "radialaxis": {
            "gridcolor": "white",
            "linecolor": "white",
            "ticks": ""
           }
          },
          "scene": {
           "xaxis": {
            "backgroundcolor": "#E5ECF6",
            "gridcolor": "white",
            "gridwidth": 2,
            "linecolor": "white",
            "showbackground": true,
            "ticks": "",
            "zerolinecolor": "white"
           },
           "yaxis": {
            "backgroundcolor": "#E5ECF6",
            "gridcolor": "white",
            "gridwidth": 2,
            "linecolor": "white",
            "showbackground": true,
            "ticks": "",
            "zerolinecolor": "white"
           },
           "zaxis": {
            "backgroundcolor": "#E5ECF6",
            "gridcolor": "white",
            "gridwidth": 2,
            "linecolor": "white",
            "showbackground": true,
            "ticks": "",
            "zerolinecolor": "white"
           }
          },
          "shapedefaults": {
           "line": {
            "color": "#2a3f5f"
           }
          },
          "ternary": {
           "aaxis": {
            "gridcolor": "white",
            "linecolor": "white",
            "ticks": ""
           },
           "baxis": {
            "gridcolor": "white",
            "linecolor": "white",
            "ticks": ""
           },
           "bgcolor": "#E5ECF6",
           "caxis": {
            "gridcolor": "white",
            "linecolor": "white",
            "ticks": ""
           }
          },
          "title": {
           "x": 0.05
          },
          "xaxis": {
           "automargin": true,
           "gridcolor": "white",
           "linecolor": "white",
           "ticks": "",
           "title": {
            "standoff": 15
           },
           "zerolinecolor": "white",
           "zerolinewidth": 2
          },
          "yaxis": {
           "automargin": true,
           "gridcolor": "white",
           "linecolor": "white",
           "ticks": "",
           "title": {
            "standoff": 15
           },
           "zerolinecolor": "white",
           "zerolinewidth": 2
          }
         }
        },
        "title": {
         "text": "Players' Contribution to Team Goals"
        },
        "xaxis": {
         "anchor": "y",
         "categoryorder": "total descending",
         "domain": [
          0,
          1
         ],
         "title": {
          "text": "Contribution to Team Goals (%)"
         }
        },
        "yaxis": {
         "anchor": "x",
         "domain": [
          0,
          1
         ],
         "title": {
          "text": "Player"
         }
        }
       }
      }
     },
     "metadata": {},
     "output_type": "display_data"
    }
   ],
   "source": [
    "fig = px.bar(players_squads, y='Player', x='Contribution to Team Goals (%)', color='Born',\n",
    "             title=\"Players' Contribution to Team Goals\", \n",
    "             height=600, \n",
    "             orientation='h',\n",
    "             text='Contribution to Team Goals (%)')\n",
    "fig.update_layout(xaxis={'categoryorder':'total descending'})\n",
    "fig.show()"
   ]
  },
  {
   "cell_type": "code",
   "execution_count": 81,
   "metadata": {},
   "outputs": [
    {
     "data": {
      "text/html": [
       "<div>\n",
       "<style scoped>\n",
       "    .dataframe tbody tr th:only-of-type {\n",
       "        vertical-align: middle;\n",
       "    }\n",
       "\n",
       "    .dataframe tbody tr th {\n",
       "        vertical-align: top;\n",
       "    }\n",
       "\n",
       "    .dataframe thead th {\n",
       "        text-align: right;\n",
       "    }\n",
       "</style>\n",
       "<table border=\"1\" class=\"dataframe\">\n",
       "  <thead>\n",
       "    <tr style=\"text-align: right;\">\n",
       "      <th></th>\n",
       "      <th>Rk</th>\n",
       "      <th>Player</th>\n",
       "      <th>Nation</th>\n",
       "      <th>Pos</th>\n",
       "      <th>Squad</th>\n",
       "      <th>Age</th>\n",
       "      <th>Born</th>\n",
       "      <th>90s</th>\n",
       "      <th>Gls</th>\n",
       "      <th>Sh</th>\n",
       "      <th>...</th>\n",
       "      <th>Dis</th>\n",
       "      <th>Rec</th>\n",
       "      <th>PrgR</th>\n",
       "      <th>PKwon</th>\n",
       "      <th>PKcon</th>\n",
       "      <th>OG</th>\n",
       "      <th>Recov</th>\n",
       "      <th>Won</th>\n",
       "      <th>Lost.1</th>\n",
       "      <th>Won%</th>\n",
       "    </tr>\n",
       "  </thead>\n",
       "  <tbody>\n",
       "    <tr>\n",
       "      <th>0</th>\n",
       "      <td>1</td>\n",
       "      <td>Ahmed Abdullahi</td>\n",
       "      <td>ng NGA</td>\n",
       "      <td>FW</td>\n",
       "      <td>Gent</td>\n",
       "      <td>19-278</td>\n",
       "      <td>2004</td>\n",
       "      <td>0.3</td>\n",
       "      <td>0</td>\n",
       "      <td>0</td>\n",
       "      <td>...</td>\n",
       "      <td>1.0</td>\n",
       "      <td>3.0</td>\n",
       "      <td>3.0</td>\n",
       "      <td>0.0</td>\n",
       "      <td>0.0</td>\n",
       "      <td>0</td>\n",
       "      <td>1.0</td>\n",
       "      <td>0.0</td>\n",
       "      <td>0.0</td>\n",
       "      <td>NaN</td>\n",
       "    </tr>\n",
       "    <tr>\n",
       "      <th>1</th>\n",
       "      <td>2</td>\n",
       "      <td>Shuto Abe</td>\n",
       "      <td>jp JPN</td>\n",
       "      <td>MF</td>\n",
       "      <td>RWD Molenbeek</td>\n",
       "      <td>26-109</td>\n",
       "      <td>1997</td>\n",
       "      <td>16.4</td>\n",
       "      <td>1</td>\n",
       "      <td>16</td>\n",
       "      <td>...</td>\n",
       "      <td>14.0</td>\n",
       "      <td>508.0</td>\n",
       "      <td>35.0</td>\n",
       "      <td>0.0</td>\n",
       "      <td>1.0</td>\n",
       "      <td>0</td>\n",
       "      <td>97.0</td>\n",
       "      <td>10.0</td>\n",
       "      <td>17.0</td>\n",
       "      <td>37.0</td>\n",
       "    </tr>\n",
       "    <tr>\n",
       "      <th>2</th>\n",
       "      <td>3</td>\n",
       "      <td>Abner</td>\n",
       "      <td>br BRA</td>\n",
       "      <td>DF,MF</td>\n",
       "      <td>RWD Molenbeek</td>\n",
       "      <td>27-298</td>\n",
       "      <td>1996</td>\n",
       "      <td>20.6</td>\n",
       "      <td>0</td>\n",
       "      <td>6</td>\n",
       "      <td>...</td>\n",
       "      <td>7.0</td>\n",
       "      <td>605.0</td>\n",
       "      <td>89.0</td>\n",
       "      <td>0.0</td>\n",
       "      <td>0.0</td>\n",
       "      <td>1</td>\n",
       "      <td>103.0</td>\n",
       "      <td>23.0</td>\n",
       "      <td>21.0</td>\n",
       "      <td>52.3</td>\n",
       "    </tr>\n",
       "    <tr>\n",
       "      <th>3</th>\n",
       "      <td>4</td>\n",
       "      <td>Francis Abu</td>\n",
       "      <td>gh GHA</td>\n",
       "      <td>MF</td>\n",
       "      <td>Cercle Brugge</td>\n",
       "      <td>22-331</td>\n",
       "      <td>2001</td>\n",
       "      <td>4.5</td>\n",
       "      <td>0</td>\n",
       "      <td>5</td>\n",
       "      <td>...</td>\n",
       "      <td>0.0</td>\n",
       "      <td>110.0</td>\n",
       "      <td>2.0</td>\n",
       "      <td>0.0</td>\n",
       "      <td>0.0</td>\n",
       "      <td>0</td>\n",
       "      <td>55.0</td>\n",
       "      <td>10.0</td>\n",
       "      <td>3.0</td>\n",
       "      <td>76.9</td>\n",
       "    </tr>\n",
       "    <tr>\n",
       "      <th>4</th>\n",
       "      <td>5</td>\n",
       "      <td>Tayo Adaramola</td>\n",
       "      <td>ie IRL</td>\n",
       "      <td>DF</td>\n",
       "      <td>RWD Molenbeek</td>\n",
       "      <td>20-130</td>\n",
       "      <td>2003</td>\n",
       "      <td>6.4</td>\n",
       "      <td>0</td>\n",
       "      <td>3</td>\n",
       "      <td>...</td>\n",
       "      <td>9.0</td>\n",
       "      <td>159.0</td>\n",
       "      <td>25.0</td>\n",
       "      <td>0.0</td>\n",
       "      <td>1.0</td>\n",
       "      <td>0</td>\n",
       "      <td>43.0</td>\n",
       "      <td>8.0</td>\n",
       "      <td>7.0</td>\n",
       "      <td>53.3</td>\n",
       "    </tr>\n",
       "  </tbody>\n",
       "</table>\n",
       "<p>5 rows × 124 columns</p>\n",
       "</div>"
      ],
      "text/plain": [
       "   Rk           Player  Nation    Pos          Squad     Age  Born   90s  Gls  \\\n",
       "0   1  Ahmed Abdullahi  ng NGA     FW           Gent  19-278  2004   0.3    0   \n",
       "1   2        Shuto Abe  jp JPN     MF  RWD Molenbeek  26-109  1997  16.4    1   \n",
       "2   3            Abner  br BRA  DF,MF  RWD Molenbeek  27-298  1996  20.6    0   \n",
       "3   4      Francis Abu  gh GHA     MF  Cercle Brugge  22-331  2001   4.5    0   \n",
       "4   5   Tayo Adaramola  ie IRL     DF  RWD Molenbeek  20-130  2003   6.4    0   \n",
       "\n",
       "   Sh  ...   Dis    Rec  PrgR  PKwon  PKcon  OG  Recov   Won  Lost.1  Won%  \n",
       "0   0  ...   1.0    3.0   3.0    0.0    0.0   0    1.0   0.0     0.0   NaN  \n",
       "1  16  ...  14.0  508.0  35.0    0.0    1.0   0   97.0  10.0    17.0  37.0  \n",
       "2   6  ...   7.0  605.0  89.0    0.0    0.0   1  103.0  23.0    21.0  52.3  \n",
       "3   5  ...   0.0  110.0   2.0    0.0    0.0   0   55.0  10.0     3.0  76.9  \n",
       "4   3  ...   9.0  159.0  25.0    0.0    1.0   0   43.0   8.0     7.0  53.3  \n",
       "\n",
       "[5 rows x 124 columns]"
      ]
     },
     "execution_count": 81,
     "metadata": {},
     "output_type": "execute_result"
    }
   ],
   "source": [
    "def import_excel(file_name):\n",
    "    df = pd.read_excel(f'Resources/{file_name}.xlsx', header=2)\n",
    "    return df\n",
    "\n",
    "belgium_misc = import_excel('Belgian Pro League (Belgium) 2023-24 Specific Player Stats')\n",
    "belgium_misc.head()"
   ]
  },
  {
   "cell_type": "code",
   "execution_count": 82,
   "metadata": {},
   "outputs": [
    {
     "data": {
      "text/plain": [
       "\"\\ncolumns = {\\n    'Gls': 'Goals scored',\\n    'Sh': 'Shots taken',\\n    'SoT': 'Shots on Target',\\n    'SoT%': 'Shots on Target Percentage',\\n    'Sh/90': 'Shots per 90 minutes',\\n    'SoT/90': 'Shots on Target per 90 minutes',\\n    'G/Sh': 'Goals per Shot',\\n    'G/SoT': 'Goals per Shot on Target',\\n    'Dist': 'Average distance from goal of shots taken',\\n    'FK': 'Free Kicks taken',\\n    'PK': 'Penalty Kicks scored',\\n    'PKatt': 'Penalty Kicks attempted',\\n    'xG': 'Expected Goals',\\n    'npxG': 'Non-penalty Expected Goals',\\n    'npxG/Sh': 'Non-penalty Expected Goals per Shot',\\n    'G-xG': 'Goals minus Expected Goals',\\n    'np:G-xG': 'Non-penalty Goals minus Expected Goals',\\n    'Cmp': 'Passes Completed',\\n    'Att': 'Passes Attempted',\\n    'Cmp%': 'Pass Completion Percentage',\\n    'TotDist': 'Total Passing Distance',\\n    'PrgDist': 'Progressive Passing Distance',\\n    'Ast': 'Assists',\\n    'xAG': 'Expected Assists Goals',\\n    'xA': 'Expected Assists',\\n    'A-xAG': 'Assists minus Expected Assists Goals',\\n    'KP': 'Key Passes',\\n    '1/3': 'Passes into the Final Third',\\n    'PPA': 'Passes into the Penalty Area',\\n    'CrsPA': 'Crosses into the Penalty Area',\\n    'PrgP': 'Progressive Passes',\\n    'Live': 'Live-ball passes',\\n    'Dead': 'Dead-ball situations',\\n    'TB': 'Through Balls',\\n    'Sw': 'Switches of play',\\n    'Crs': 'Crosses',\\n    'TI': 'Throw Ins',\\n    'CK': 'Corner Kicks',\\n    'In': 'Inswinging crosses/corners',\\n    'Out': 'Outswinging crosses/corners',\\n    'Str': 'Straight crosses/corners',\\n    'Off': 'Offsides',\\n    'Blocks': 'Shots blocked',\\n    'SCA': 'Shot-Creating Actions',\\n    'SCA90': 'Shot-Creating Actions per 90 minutes',\\n    'GCA': 'Goal-Creating Actions',\\n    'GCA90': 'Goal-Creating Actions per 90 minutes',\\n    'Tkl': 'Tackles',\\n    'TklW': 'Tackles Won',\\n    'Def 3rd': 'Actions in the Defensive Third',\\n    'Mid 3rd': 'Actions in the Midfield Third',\\n    'Att 3rd': 'Actions in the Attacking Third',\\n    'Int': 'Interceptions',\\n    'Clr': 'Clearances',\\n    'Err': 'Errors leading to opponent's shot',\\n    'Touches': 'Touches of the ball',\\n    'Def Pen': 'Touches in the Defensive Penalty Area',\\n    'Succ': 'Successful actions',\\n    'Succ%': 'Success Percentage',\\n    'Tkld': 'Number of times tackled by an opponent',\\n    'Carries': 'Ball carries',\\n    'PrgC': 'Progressive Carries',\\n    'CPA': 'Carries into the Penalty Area',\\n    'Mis': 'Miscontrols',\\n    'Dis': 'Dispossessions',\\n    'Rec': 'Recoveries',\\n    'PrgR': 'Progressive Runs',\\n    'PKwon': 'Penalty Kicks won',\\n    'PKcon': 'Penalty Kicks conceded',\\n    'OG': 'Own Goals',\\n    'Recov': 'Ball Recoveries',\\n    'Won': 'Duels Won',\\n    'Lost': 'Duels Lost',\\n    'Won%': 'Percentage of Duels Won',\\n    'Cmp': 'Total Completed Passes',\\n    'Att': 'Total Passes Attempted',\\n    'Cmp%': 'Total Pass Completion Percentage',\\n    'TotDist': 'Total Passing Distance',\\n    'PrgDist': 'Total Progressive Passing Distance',\\n    'Cmp.1': 'Short Completed Passes',\\n    'Att.1': 'Short Passes Attempted',\\n    'Cmp%.1': 'Short Pass Completion Percentage',\\n    'Cmp.2': 'Medium Completed Passes',\\n    'Att.2': 'Medium Passes Attempted',\\n    'Cmp%.2': 'Medium Pass Completion Percentage',\\n    'Cmp.3': 'Long Completed Passes',\\n    'Att.3': 'Long Passes Attempted',\\n    'Cmp%.3': 'Long Pass Completion Percentage',\\n    'SCA': 'Shot-Creating Actions Total',\\n    'SCA90': 'Shot-Creating Actions per 90',\\n    'PassLive': 'SCA Live-ball Passes',\\n    'PassDead': 'SCA Dead-ball Situations',\\n    'TO': 'SCA Turnovers',\\n    'Sh': 'SCA Shots Leading to Another Shot',\\n    'Fld': 'SCA Fouls Drawn',\\n    'Def': 'SCA Defensive Actions',\\n    'GCA': 'Goal-Creating Actions Total',\\n    'GCA90': 'Goal-Creating Actions per 90',\\n    'PassLive': 'GCA Live-ball Passes',\\n    'PassDead': 'GCA Dead-ball Situations',\\n    'TO': 'GCA Turnovers',\\n    'Sh': 'GCA Shots Leading to a Goal',\\n    'Fld': 'GCA Fouls Drawn',\\n    'Def': 'GCA Defensive Actions',\\n    'Tkl': 'Tackles Total',\\n    'TklW': 'Tackles Won',\\n    'Def 3rd': 'Tackles in Defensive Third',\\n    'Mid 3rd': 'Tackles in Midfield Third',\\n    'Att 3rd': 'Tackles in Attacking Third',\\n    'Att': 'Challenges Attempted',\\n    'Tkl%': 'Tackle Success Rate',\\n    'Lost': 'Possessions Lost',\\n    'Blocks': 'Total Blocks',\\n    'Sh': 'Shots Blocked',\\n    'Pass': 'Passes Blocked',\\n    'Int': 'Interceptions',\\n    'Tkl+Int': 'Total Defensive Actions',\\n    'Clr': 'Clearances',\\n    'Err': 'Errors Leading to Opponent Shot',\\n    'Att Pen': 'Touches in the Attacking Penalty Area',\\n    'Pos': 'Position'\\n}\\nbelgium_misc = belgium_misc.rename(columns=columns)\\n\""
      ]
     },
     "execution_count": 82,
     "metadata": {},
     "output_type": "execute_result"
    }
   ],
   "source": [
    "\"\"\"\n",
    "columns = {\n",
    "    'Gls': 'Goals scored',\n",
    "    'Sh': 'Shots taken',\n",
    "    'SoT': 'Shots on Target',\n",
    "    'SoT%': 'Shots on Target Percentage',\n",
    "    'Sh/90': 'Shots per 90 minutes',\n",
    "    'SoT/90': 'Shots on Target per 90 minutes',\n",
    "    'G/Sh': 'Goals per Shot',\n",
    "    'G/SoT': 'Goals per Shot on Target',\n",
    "    'Dist': 'Average distance from goal of shots taken',\n",
    "    'FK': 'Free Kicks taken',\n",
    "    'PK': 'Penalty Kicks scored',\n",
    "    'PKatt': 'Penalty Kicks attempted',\n",
    "    'xG': 'Expected Goals',\n",
    "    'npxG': 'Non-penalty Expected Goals',\n",
    "    'npxG/Sh': 'Non-penalty Expected Goals per Shot',\n",
    "    'G-xG': 'Goals minus Expected Goals',\n",
    "    'np:G-xG': 'Non-penalty Goals minus Expected Goals',\n",
    "    'Cmp': 'Passes Completed',\n",
    "    'Att': 'Passes Attempted',\n",
    "    'Cmp%': 'Pass Completion Percentage',\n",
    "    'TotDist': 'Total Passing Distance',\n",
    "    'PrgDist': 'Progressive Passing Distance',\n",
    "    'Ast': 'Assists',\n",
    "    'xAG': 'Expected Assists Goals',\n",
    "    'xA': 'Expected Assists',\n",
    "    'A-xAG': 'Assists minus Expected Assists Goals',\n",
    "    'KP': 'Key Passes',\n",
    "    '1/3': 'Passes into the Final Third',\n",
    "    'PPA': 'Passes into the Penalty Area',\n",
    "    'CrsPA': 'Crosses into the Penalty Area',\n",
    "    'PrgP': 'Progressive Passes',\n",
    "    'Live': 'Live-ball passes',\n",
    "    'Dead': 'Dead-ball situations',\n",
    "    'TB': 'Through Balls',\n",
    "    'Sw': 'Switches of play',\n",
    "    'Crs': 'Crosses',\n",
    "    'TI': 'Throw Ins',\n",
    "    'CK': 'Corner Kicks',\n",
    "    'In': 'Inswinging crosses/corners',\n",
    "    'Out': 'Outswinging crosses/corners',\n",
    "    'Str': 'Straight crosses/corners',\n",
    "    'Off': 'Offsides',\n",
    "    'Blocks': 'Shots blocked',\n",
    "    'SCA': 'Shot-Creating Actions',\n",
    "    'SCA90': 'Shot-Creating Actions per 90 minutes',\n",
    "    'GCA': 'Goal-Creating Actions',\n",
    "    'GCA90': 'Goal-Creating Actions per 90 minutes',\n",
    "    'Tkl': 'Tackles',\n",
    "    'TklW': 'Tackles Won',\n",
    "    'Def 3rd': 'Actions in the Defensive Third',\n",
    "    'Mid 3rd': 'Actions in the Midfield Third',\n",
    "    'Att 3rd': 'Actions in the Attacking Third',\n",
    "    'Int': 'Interceptions',\n",
    "    'Clr': 'Clearances',\n",
    "    'Err': 'Errors leading to opponent\\'s shot',\n",
    "    'Touches': 'Touches of the ball',\n",
    "    'Def Pen': 'Touches in the Defensive Penalty Area',\n",
    "    'Succ': 'Successful actions',\n",
    "    'Succ%': 'Success Percentage',\n",
    "    'Tkld': 'Number of times tackled by an opponent',\n",
    "    'Carries': 'Ball carries',\n",
    "    'PrgC': 'Progressive Carries',\n",
    "    'CPA': 'Carries into the Penalty Area',\n",
    "    'Mis': 'Miscontrols',\n",
    "    'Dis': 'Dispossessions',\n",
    "    'Rec': 'Recoveries',\n",
    "    'PrgR': 'Progressive Runs',\n",
    "    'PKwon': 'Penalty Kicks won',\n",
    "    'PKcon': 'Penalty Kicks conceded',\n",
    "    'OG': 'Own Goals',\n",
    "    'Recov': 'Ball Recoveries',\n",
    "    'Won': 'Duels Won',\n",
    "    'Lost': 'Duels Lost',\n",
    "    'Won%': 'Percentage of Duels Won',\n",
    "    'Cmp': 'Total Completed Passes',\n",
    "    'Att': 'Total Passes Attempted',\n",
    "    'Cmp%': 'Total Pass Completion Percentage',\n",
    "    'TotDist': 'Total Passing Distance',\n",
    "    'PrgDist': 'Total Progressive Passing Distance',\n",
    "    'Cmp.1': 'Short Completed Passes',\n",
    "    'Att.1': 'Short Passes Attempted',\n",
    "    'Cmp%.1': 'Short Pass Completion Percentage',\n",
    "    'Cmp.2': 'Medium Completed Passes',\n",
    "    'Att.2': 'Medium Passes Attempted',\n",
    "    'Cmp%.2': 'Medium Pass Completion Percentage',\n",
    "    'Cmp.3': 'Long Completed Passes',\n",
    "    'Att.3': 'Long Passes Attempted',\n",
    "    'Cmp%.3': 'Long Pass Completion Percentage',\n",
    "    'SCA': 'Shot-Creating Actions Total',\n",
    "    'SCA90': 'Shot-Creating Actions per 90',\n",
    "    'PassLive': 'SCA Live-ball Passes',\n",
    "    'PassDead': 'SCA Dead-ball Situations',\n",
    "    'TO': 'SCA Turnovers',\n",
    "    'Sh': 'SCA Shots Leading to Another Shot',\n",
    "    'Fld': 'SCA Fouls Drawn',\n",
    "    'Def': 'SCA Defensive Actions',\n",
    "    'GCA': 'Goal-Creating Actions Total',\n",
    "    'GCA90': 'Goal-Creating Actions per 90',\n",
    "    'PassLive': 'GCA Live-ball Passes',\n",
    "    'PassDead': 'GCA Dead-ball Situations',\n",
    "    'TO': 'GCA Turnovers',\n",
    "    'Sh': 'GCA Shots Leading to a Goal',\n",
    "    'Fld': 'GCA Fouls Drawn',\n",
    "    'Def': 'GCA Defensive Actions',\n",
    "    'Tkl': 'Tackles Total',\n",
    "    'TklW': 'Tackles Won',\n",
    "    'Def 3rd': 'Tackles in Defensive Third',\n",
    "    'Mid 3rd': 'Tackles in Midfield Third',\n",
    "    'Att 3rd': 'Tackles in Attacking Third',\n",
    "    'Att': 'Challenges Attempted',\n",
    "    'Tkl%': 'Tackle Success Rate',\n",
    "    'Lost': 'Possessions Lost',\n",
    "    'Blocks': 'Total Blocks',\n",
    "    'Sh': 'Shots Blocked',\n",
    "    'Pass': 'Passes Blocked',\n",
    "    'Int': 'Interceptions',\n",
    "    'Tkl+Int': 'Total Defensive Actions',\n",
    "    'Clr': 'Clearances',\n",
    "    'Err': 'Errors Leading to Opponent Shot',\n",
    "    'Att Pen': 'Touches in the Attacking Penalty Area',\n",
    "    'Pos': 'Position'\n",
    "}\n",
    "belgium_misc = belgium_misc.rename(columns=columns)\n",
    "\"\"\"\n"
   ]
  },
  {
   "cell_type": "markdown",
   "metadata": {},
   "source": [
    "I will save myself masses of time in future by simply filtering for the columns required at the start, instead of trying to rename 100+ columns and manage them. "
   ]
  },
  {
   "cell_type": "code",
   "execution_count": 128,
   "metadata": {},
   "outputs": [
    {
     "data": {
      "text/html": [
       "<div>\n",
       "<style scoped>\n",
       "    .dataframe tbody tr th:only-of-type {\n",
       "        vertical-align: middle;\n",
       "    }\n",
       "\n",
       "    .dataframe tbody tr th {\n",
       "        vertical-align: top;\n",
       "    }\n",
       "\n",
       "    .dataframe thead th {\n",
       "        text-align: right;\n",
       "    }\n",
       "</style>\n",
       "<table border=\"1\" class=\"dataframe\">\n",
       "  <thead>\n",
       "    <tr style=\"text-align: right;\">\n",
       "      <th></th>\n",
       "      <th>Player</th>\n",
       "      <th>Gls</th>\n",
       "      <th>Sh</th>\n",
       "      <th>SoT</th>\n",
       "      <th>SoT%</th>\n",
       "      <th>Off</th>\n",
       "      <th>Ast</th>\n",
       "      <th>KP</th>\n",
       "      <th>SCA</th>\n",
       "      <th>Touches</th>\n",
       "      <th>Succ</th>\n",
       "      <th>Carries</th>\n",
       "      <th>PrgC</th>\n",
       "      <th>Att Pen</th>\n",
       "    </tr>\n",
       "  </thead>\n",
       "  <tbody>\n",
       "    <tr>\n",
       "      <th>0</th>\n",
       "      <td>Ahmed Abdullahi</td>\n",
       "      <td>0</td>\n",
       "      <td>0</td>\n",
       "      <td>0</td>\n",
       "      <td>NaN</td>\n",
       "      <td>0.0</td>\n",
       "      <td>0</td>\n",
       "      <td>1.0</td>\n",
       "      <td>1.0</td>\n",
       "      <td>8.0</td>\n",
       "      <td>0.0</td>\n",
       "      <td>4.0</td>\n",
       "      <td>0.0</td>\n",
       "      <td>0.0</td>\n",
       "    </tr>\n",
       "    <tr>\n",
       "      <th>1</th>\n",
       "      <td>Shuto Abe</td>\n",
       "      <td>1</td>\n",
       "      <td>16</td>\n",
       "      <td>6</td>\n",
       "      <td>37.5</td>\n",
       "      <td>6.0</td>\n",
       "      <td>1</td>\n",
       "      <td>9.0</td>\n",
       "      <td>22.0</td>\n",
       "      <td>889.0</td>\n",
       "      <td>6.0</td>\n",
       "      <td>577.0</td>\n",
       "      <td>12.0</td>\n",
       "      <td>21.0</td>\n",
       "    </tr>\n",
       "    <tr>\n",
       "      <th>2</th>\n",
       "      <td>Abner</td>\n",
       "      <td>0</td>\n",
       "      <td>6</td>\n",
       "      <td>1</td>\n",
       "      <td>16.7</td>\n",
       "      <td>3.0</td>\n",
       "      <td>0</td>\n",
       "      <td>7.0</td>\n",
       "      <td>21.0</td>\n",
       "      <td>1096.0</td>\n",
       "      <td>6.0</td>\n",
       "      <td>693.0</td>\n",
       "      <td>38.0</td>\n",
       "      <td>11.0</td>\n",
       "    </tr>\n",
       "    <tr>\n",
       "      <th>3</th>\n",
       "      <td>Francis Abu</td>\n",
       "      <td>0</td>\n",
       "      <td>5</td>\n",
       "      <td>2</td>\n",
       "      <td>40.0</td>\n",
       "      <td>2.0</td>\n",
       "      <td>0</td>\n",
       "      <td>4.0</td>\n",
       "      <td>10.0</td>\n",
       "      <td>281.0</td>\n",
       "      <td>3.0</td>\n",
       "      <td>138.0</td>\n",
       "      <td>3.0</td>\n",
       "      <td>0.0</td>\n",
       "    </tr>\n",
       "    <tr>\n",
       "      <th>4</th>\n",
       "      <td>Tayo Adaramola</td>\n",
       "      <td>0</td>\n",
       "      <td>3</td>\n",
       "      <td>0</td>\n",
       "      <td>0.0</td>\n",
       "      <td>0.0</td>\n",
       "      <td>0</td>\n",
       "      <td>4.0</td>\n",
       "      <td>7.0</td>\n",
       "      <td>347.0</td>\n",
       "      <td>14.0</td>\n",
       "      <td>196.0</td>\n",
       "      <td>19.0</td>\n",
       "      <td>7.0</td>\n",
       "    </tr>\n",
       "    <tr>\n",
       "      <th>5</th>\n",
       "      <td>Noah Adedeji</td>\n",
       "      <td>0</td>\n",
       "      <td>2</td>\n",
       "      <td>0</td>\n",
       "      <td>0.0</td>\n",
       "      <td>0.0</td>\n",
       "      <td>0</td>\n",
       "      <td>0.0</td>\n",
       "      <td>0.0</td>\n",
       "      <td>19.0</td>\n",
       "      <td>0.0</td>\n",
       "      <td>12.0</td>\n",
       "      <td>1.0</td>\n",
       "      <td>2.0</td>\n",
       "    </tr>\n",
       "    <tr>\n",
       "      <th>6</th>\n",
       "      <td>Jonathan Afolabi</td>\n",
       "      <td>1</td>\n",
       "      <td>4</td>\n",
       "      <td>2</td>\n",
       "      <td>50.0</td>\n",
       "      <td>0.0</td>\n",
       "      <td>0</td>\n",
       "      <td>4.0</td>\n",
       "      <td>4.0</td>\n",
       "      <td>126.0</td>\n",
       "      <td>1.0</td>\n",
       "      <td>97.0</td>\n",
       "      <td>2.0</td>\n",
       "      <td>11.0</td>\n",
       "    </tr>\n",
       "    <tr>\n",
       "      <th>7</th>\n",
       "      <td>Brian Agbor</td>\n",
       "      <td>0</td>\n",
       "      <td>1</td>\n",
       "      <td>0</td>\n",
       "      <td>0.0</td>\n",
       "      <td>0.0</td>\n",
       "      <td>0</td>\n",
       "      <td>1.0</td>\n",
       "      <td>1.0</td>\n",
       "      <td>173.0</td>\n",
       "      <td>1.0</td>\n",
       "      <td>127.0</td>\n",
       "      <td>1.0</td>\n",
       "      <td>1.0</td>\n",
       "    </tr>\n",
       "    <tr>\n",
       "      <th>8</th>\n",
       "      <td>Takahiro Akimoto</td>\n",
       "      <td>0</td>\n",
       "      <td>1</td>\n",
       "      <td>0</td>\n",
       "      <td>0.0</td>\n",
       "      <td>0.0</td>\n",
       "      <td>0</td>\n",
       "      <td>2.0</td>\n",
       "      <td>8.0</td>\n",
       "      <td>165.0</td>\n",
       "      <td>2.0</td>\n",
       "      <td>90.0</td>\n",
       "      <td>3.0</td>\n",
       "      <td>5.0</td>\n",
       "    </tr>\n",
       "    <tr>\n",
       "      <th>9</th>\n",
       "      <td>Carlos Alberto</td>\n",
       "      <td>2</td>\n",
       "      <td>10</td>\n",
       "      <td>6</td>\n",
       "      <td>60.0</td>\n",
       "      <td>4.0</td>\n",
       "      <td>0</td>\n",
       "      <td>4.0</td>\n",
       "      <td>11.0</td>\n",
       "      <td>206.0</td>\n",
       "      <td>6.0</td>\n",
       "      <td>114.0</td>\n",
       "      <td>12.0</td>\n",
       "      <td>22.0</td>\n",
       "    </tr>\n",
       "  </tbody>\n",
       "</table>\n",
       "</div>"
      ],
      "text/plain": [
       "             Player  Gls  Sh  SoT  SoT%  Off  Ast   KP   SCA  Touches  Succ  \\\n",
       "0   Ahmed Abdullahi    0   0    0   NaN  0.0    0  1.0   1.0      8.0   0.0   \n",
       "1         Shuto Abe    1  16    6  37.5  6.0    1  9.0  22.0    889.0   6.0   \n",
       "2             Abner    0   6    1  16.7  3.0    0  7.0  21.0   1096.0   6.0   \n",
       "3       Francis Abu    0   5    2  40.0  2.0    0  4.0  10.0    281.0   3.0   \n",
       "4    Tayo Adaramola    0   3    0   0.0  0.0    0  4.0   7.0    347.0  14.0   \n",
       "5      Noah Adedeji    0   2    0   0.0  0.0    0  0.0   0.0     19.0   0.0   \n",
       "6  Jonathan Afolabi    1   4    2  50.0  0.0    0  4.0   4.0    126.0   1.0   \n",
       "7       Brian Agbor    0   1    0   0.0  0.0    0  1.0   1.0    173.0   1.0   \n",
       "8  Takahiro Akimoto    0   1    0   0.0  0.0    0  2.0   8.0    165.0   2.0   \n",
       "9    Carlos Alberto    2  10    6  60.0  4.0    0  4.0  11.0    206.0   6.0   \n",
       "\n",
       "   Carries  PrgC  Att Pen  \n",
       "0      4.0   0.0      0.0  \n",
       "1    577.0  12.0     21.0  \n",
       "2    693.0  38.0     11.0  \n",
       "3    138.0   3.0      0.0  \n",
       "4    196.0  19.0      7.0  \n",
       "5     12.0   1.0      2.0  \n",
       "6     97.0   2.0     11.0  \n",
       "7    127.0   1.0      1.0  \n",
       "8     90.0   3.0      5.0  \n",
       "9    114.0  12.0     22.0  "
      ]
     },
     "execution_count": 128,
     "metadata": {},
     "output_type": "execute_result"
    }
   ],
   "source": [
    "bel_striker_df = belgium_misc[['Player', 'Gls', 'Sh', 'SoT', 'SoT%', \n",
    "                                 'Off', 'Ast', 'KP', 'SCA', 'Touches', \n",
    "                                 'Succ', 'Carries', 'PrgC', 'Att Pen']]\n",
    "\n",
    "bel_striker_df.head(10)"
   ]
  },
  {
   "cell_type": "code",
   "execution_count": 129,
   "metadata": {},
   "outputs": [
    {
     "data": {
      "text/html": [
       "<div>\n",
       "<style scoped>\n",
       "    .dataframe tbody tr th:only-of-type {\n",
       "        vertical-align: middle;\n",
       "    }\n",
       "\n",
       "    .dataframe tbody tr th {\n",
       "        vertical-align: top;\n",
       "    }\n",
       "\n",
       "    .dataframe thead th {\n",
       "        text-align: right;\n",
       "    }\n",
       "</style>\n",
       "<table border=\"1\" class=\"dataframe\">\n",
       "  <thead>\n",
       "    <tr style=\"text-align: right;\">\n",
       "      <th></th>\n",
       "      <th>Player</th>\n",
       "      <th>Gls</th>\n",
       "      <th>Sh</th>\n",
       "      <th>SoT</th>\n",
       "      <th>SoT%</th>\n",
       "      <th>Off</th>\n",
       "      <th>Ast</th>\n",
       "      <th>KP</th>\n",
       "      <th>SCA</th>\n",
       "      <th>Touches</th>\n",
       "      <th>Succ</th>\n",
       "      <th>Carries</th>\n",
       "      <th>PrgC</th>\n",
       "      <th>Att Pen</th>\n",
       "    </tr>\n",
       "  </thead>\n",
       "  <tbody>\n",
       "    <tr>\n",
       "      <th>17</th>\n",
       "      <td>Mohamed El Amine Amoura</td>\n",
       "      <td>17</td>\n",
       "      <td>77</td>\n",
       "      <td>35</td>\n",
       "      <td>45.5</td>\n",
       "      <td>3.0</td>\n",
       "      <td>2</td>\n",
       "      <td>17.0</td>\n",
       "      <td>57.0</td>\n",
       "      <td>616.0</td>\n",
       "      <td>28.0</td>\n",
       "      <td>440.0</td>\n",
       "      <td>79.0</td>\n",
       "      <td>125.0</td>\n",
       "    </tr>\n",
       "    <tr>\n",
       "      <th>116</th>\n",
       "      <td>Kevin Denkey</td>\n",
       "      <td>23</td>\n",
       "      <td>118</td>\n",
       "      <td>42</td>\n",
       "      <td>35.6</td>\n",
       "      <td>4.0</td>\n",
       "      <td>0</td>\n",
       "      <td>30.0</td>\n",
       "      <td>75.0</td>\n",
       "      <td>1130.0</td>\n",
       "      <td>37.0</td>\n",
       "      <td>778.0</td>\n",
       "      <td>44.0</td>\n",
       "      <td>211.0</td>\n",
       "    </tr>\n",
       "    <tr>\n",
       "      <th>425</th>\n",
       "      <td>Thiago</td>\n",
       "      <td>16</td>\n",
       "      <td>51</td>\n",
       "      <td>21</td>\n",
       "      <td>41.2</td>\n",
       "      <td>2.0</td>\n",
       "      <td>2</td>\n",
       "      <td>23.0</td>\n",
       "      <td>50.0</td>\n",
       "      <td>703.0</td>\n",
       "      <td>17.0</td>\n",
       "      <td>465.0</td>\n",
       "      <td>29.0</td>\n",
       "      <td>134.0</td>\n",
       "    </tr>\n",
       "  </tbody>\n",
       "</table>\n",
       "</div>"
      ],
      "text/plain": [
       "                      Player  Gls   Sh  SoT  SoT%  Off  Ast    KP   SCA  \\\n",
       "17   Mohamed El Amine Amoura   17   77   35  45.5  3.0    2  17.0  57.0   \n",
       "116             Kevin Denkey   23  118   42  35.6  4.0    0  30.0  75.0   \n",
       "425                   Thiago   16   51   21  41.2  2.0    2  23.0  50.0   \n",
       "\n",
       "     Touches  Succ  Carries  PrgC  Att Pen  \n",
       "17     616.0  28.0    440.0  79.0    125.0  \n",
       "116   1130.0  37.0    778.0  44.0    211.0  \n",
       "425    703.0  17.0    465.0  29.0    134.0  "
      ]
     },
     "execution_count": 129,
     "metadata": {},
     "output_type": "execute_result"
    }
   ],
   "source": [
    "top_bel_strikers = bel_striker_df[bel_striker_df['Player'].isin(['Mohamed El Amine Amoura', 'Kevin Denkey', 'Thiago'])]\n",
    "top_bel_strikers\n"
   ]
  },
  {
   "cell_type": "code",
   "execution_count": 85,
   "metadata": {},
   "outputs": [
    {
     "data": {
      "text/html": [
       "<div>\n",
       "<style scoped>\n",
       "    .dataframe tbody tr th:only-of-type {\n",
       "        vertical-align: middle;\n",
       "    }\n",
       "\n",
       "    .dataframe tbody tr th {\n",
       "        vertical-align: top;\n",
       "    }\n",
       "\n",
       "    .dataframe thead th {\n",
       "        text-align: right;\n",
       "    }\n",
       "</style>\n",
       "<table border=\"1\" class=\"dataframe\">\n",
       "  <thead>\n",
       "    <tr style=\"text-align: right;\">\n",
       "      <th></th>\n",
       "      <th>Player</th>\n",
       "      <th>Born</th>\n",
       "      <th>Nation</th>\n",
       "      <th>Goals + Assists</th>\n",
       "      <th>Squad</th>\n",
       "      <th>Total Team Goals</th>\n",
       "      <th>Contribution to Team Goals (%)</th>\n",
       "      <th>Goals</th>\n",
       "      <th>Shots</th>\n",
       "      <th>Shots on Target</th>\n",
       "      <th>Shots on Target %</th>\n",
       "      <th>Offsides</th>\n",
       "      <th>Assists</th>\n",
       "      <th>Key Passes</th>\n",
       "      <th>Shot-Creating Actions</th>\n",
       "      <th>Total Touches</th>\n",
       "      <th>Successful Dribbles</th>\n",
       "      <th>Ball Carries</th>\n",
       "      <th>Progressive Carries</th>\n",
       "      <th>Touches in Attacking Penalty-Area</th>\n",
       "    </tr>\n",
       "  </thead>\n",
       "  <tbody>\n",
       "    <tr>\n",
       "      <th>0</th>\n",
       "      <td>Mohamed El Amine Amoura</td>\n",
       "      <td>2000</td>\n",
       "      <td>dz ALG</td>\n",
       "      <td>19</td>\n",
       "      <td>Union SG</td>\n",
       "      <td>63</td>\n",
       "      <td>30.16</td>\n",
       "      <td>17</td>\n",
       "      <td>77</td>\n",
       "      <td>35</td>\n",
       "      <td>45.5</td>\n",
       "      <td>3.0</td>\n",
       "      <td>2</td>\n",
       "      <td>17.0</td>\n",
       "      <td>57.0</td>\n",
       "      <td>616.0</td>\n",
       "      <td>28.0</td>\n",
       "      <td>440.0</td>\n",
       "      <td>79.0</td>\n",
       "      <td>125.0</td>\n",
       "    </tr>\n",
       "    <tr>\n",
       "      <th>1</th>\n",
       "      <td>Kevin Denkey</td>\n",
       "      <td>2000</td>\n",
       "      <td>tg TOG</td>\n",
       "      <td>22</td>\n",
       "      <td>Cercle Brugge</td>\n",
       "      <td>44</td>\n",
       "      <td>50.00</td>\n",
       "      <td>23</td>\n",
       "      <td>118</td>\n",
       "      <td>42</td>\n",
       "      <td>35.6</td>\n",
       "      <td>4.0</td>\n",
       "      <td>0</td>\n",
       "      <td>30.0</td>\n",
       "      <td>75.0</td>\n",
       "      <td>1130.0</td>\n",
       "      <td>37.0</td>\n",
       "      <td>778.0</td>\n",
       "      <td>44.0</td>\n",
       "      <td>211.0</td>\n",
       "    </tr>\n",
       "    <tr>\n",
       "      <th>2</th>\n",
       "      <td>Thiago</td>\n",
       "      <td>2001</td>\n",
       "      <td>br BRA</td>\n",
       "      <td>18</td>\n",
       "      <td>Club Brugge</td>\n",
       "      <td>62</td>\n",
       "      <td>29.03</td>\n",
       "      <td>16</td>\n",
       "      <td>51</td>\n",
       "      <td>21</td>\n",
       "      <td>41.2</td>\n",
       "      <td>2.0</td>\n",
       "      <td>2</td>\n",
       "      <td>23.0</td>\n",
       "      <td>50.0</td>\n",
       "      <td>703.0</td>\n",
       "      <td>17.0</td>\n",
       "      <td>465.0</td>\n",
       "      <td>29.0</td>\n",
       "      <td>134.0</td>\n",
       "    </tr>\n",
       "  </tbody>\n",
       "</table>\n",
       "</div>"
      ],
      "text/plain": [
       "                    Player  Born  Nation  Goals + Assists          Squad  \\\n",
       "0  Mohamed El Amine Amoura  2000  dz ALG               19       Union SG   \n",
       "1             Kevin Denkey  2000  tg TOG               22  Cercle Brugge   \n",
       "2                   Thiago  2001  br BRA               18    Club Brugge   \n",
       "\n",
       "   Total Team Goals  Contribution to Team Goals (%)  Goals  Shots  \\\n",
       "0                63                           30.16     17     77   \n",
       "1                44                           50.00     23    118   \n",
       "2                62                           29.03     16     51   \n",
       "\n",
       "   Shots on Target  Shots on Target %  Offsides  Assists  Key Passes  \\\n",
       "0               35               45.5       3.0        2        17.0   \n",
       "1               42               35.6       4.0        0        30.0   \n",
       "2               21               41.2       2.0        2        23.0   \n",
       "\n",
       "   Shot-Creating Actions  Total Touches  Successful Dribbles  Ball Carries  \\\n",
       "0                   57.0          616.0                 28.0         440.0   \n",
       "1                   75.0         1130.0                 37.0         778.0   \n",
       "2                   50.0          703.0                 17.0         465.0   \n",
       "\n",
       "   Progressive Carries  Touches in Attacking Penalty-Area  \n",
       "0                 79.0                              125.0  \n",
       "1                 44.0                              211.0  \n",
       "2                 29.0                              134.0  "
      ]
     },
     "execution_count": 85,
     "metadata": {},
     "output_type": "execute_result"
    }
   ],
   "source": [
    "# Join players_squads and top_bel_strikers\n",
    "indiv_player_analysis = players_squads.merge(top_bel_strikers, on='Player', how='inner')\n",
    "\n",
    "renamed_columns = {\n",
    "    'Gls': 'Goals',\n",
    "    'Sh': 'Shots',\n",
    "    'SoT': 'Shots on Target',\n",
    "    'SoT%': 'Shots on Target %',\n",
    "    'Off': 'Offsides',\n",
    "    'Ast': 'Assists',\n",
    "    'KP': 'Key Passes',\n",
    "    'SCA': 'Shot-Creating Actions',\n",
    "    'Touches': 'Total Touches',\n",
    "    'Succ': 'Successful Dribbles',\n",
    "    'Carries': 'Ball Carries',\n",
    "    'PrgC': 'Progressive Carries',\n",
    "    'Att Pen': 'Touches in Attacking Penalty-Area'\n",
    "}\n",
    "\n",
    "indiv_player_analysis.rename(columns=renamed_columns, inplace=True)\n",
    "indiv_player_analysis"
   ]
  },
  {
   "cell_type": "code",
   "execution_count": 86,
   "metadata": {},
   "outputs": [],
   "source": [
    "indiv_player_analysis.to_excel('Resources/Focus Player Data.xlsx', index=False, engine='openpyxl')"
   ]
  },
  {
   "cell_type": "code",
   "execution_count": null,
   "metadata": {},
   "outputs": [],
   "source": []
  }
 ],
 "metadata": {
  "kernelspec": {
   "display_name": "pyviz",
   "language": "python",
   "name": "python3"
  },
  "language_info": {
   "codemirror_mode": {
    "name": "ipython",
    "version": 3
   },
   "file_extension": ".py",
   "mimetype": "text/x-python",
   "name": "python",
   "nbconvert_exporter": "python",
   "pygments_lexer": "ipython3",
   "version": "3.10.13"
  }
 },
 "nbformat": 4,
 "nbformat_minor": 2
}
